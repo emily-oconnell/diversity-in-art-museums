{
 "cells": [
  {
   "cell_type": "markdown",
   "metadata": {},
   "source": [
    "[Link to our site](https://lindsayhardy17.github.io/)"
   ]
  },
  {
   "cell_type": "markdown",
   "metadata": {},
   "source": [
    "# <center>Evaluating the changes in art museums </center>\n",
    "### <center>Lindsay Hardy and Emily O'Connell </center>"
   ]
  },
  {
   "cell_type": "markdown",
   "metadata": {},
   "source": [
    "### Goals and Outline"
   ]
  },
  {
   "cell_type": "markdown",
   "metadata": {},
   "source": [
    "For our project, we will be analyzing a [dataset](https://github.com/MuseumofModernArt/collection/blob/master/Artworks.csv) concerning the collection of the Museum of Modern Art (MoMA). The MoMA over the past twenty years has gone through a couple expansions, the first finishing in 2004 and the second finishing in 2019. For our analysis we mainly plan to focus on its changes that started in 2014.\n",
    "\n",
    "In 2014 MoMA revealed its plans to expand and add 47,000 square feet to its current gallery space. This addition the MoMA said will allow for new and innovative displays and reorganization of the museum. With this expansion they had distinct goals of \"diversifying the canon, embracing the present, and showing 1,000 more of its artworks.\" Through this the curators plan to spotlight the work of women, African American, Asian, and Latino artists who have been previously overlooked in the collection. “We feel that many, many regions that once seemed peripheral don’t seem that way any more, they seem central. Figures who once seemed secondary now seem primary,” said MoMA chief curator Ann Temkin. In order to do this the MoMA has had to actively work over the past years to diversify their collection so that they will be able to accurately meet the goals that they had laid out for themselves. \n",
    "\n",
    "When looking at the MoMA dataset, with their goals in mind, our overarching question is exploring whether or not MoMA fulfilled its goal of expanding the diversity of its art collection. In order to see if this shift was reflected in their collection and acquisitions, we will attempt to measure the overall diversity a work adds to the collection by analyzing the relevant aspects of the artwork such as the artist's nationality, the artist’s gender, the year the work was created, the year it was acquired, and various other factors. Although it is impossible to truly quantify the abstract concept of diversity, we believe that analyzing overall patterns in acquisitions will be helpful in determining whether or not MoMA has been successful in its goal of introducing new viewpoints to its collection. \n",
    "\n",
    "For example, we will answer questions such as: is there an overwhelming number of male artists represented?; has MoMA recently been acquiring artwork from non-American at a higher frequency than in the past?; is the artwork acquired from non-American artists from Western European countries or elsewhere?; how does the average age of a work of art change in different time periods? By answering all of these smaller questions, we will be able to make a judgement on our overall  research question of assessing the diversity of the collection in recent years. We will also look at the trends over time to see if there are changes in what kind of artwork MoMA typically collects and note any differences between time periods. We have found a rich and detailed dataset with 130,262 works of art owned by MoMA acquired from 1929 to 2017. Although our dataset for the MoMA stops at 2017, but we believe that we will be able to conduct a thourough analysis of their goals, as they laid out their goals for changes in early 2014, so we will have around three years of data to work with and compare with their previous activities. So in all we will have a lot of information pertaining to the type of artwork MoMA has acquired in different time periods.  \n",
    "\n",
    "In addition to the thorough analysis we will conduct on MoMA dataset, we also plan to compare the MoMA’s collection to other large modern/contemporary art museums like the [Tate](https://github.com/tategallery/collection), a modern art museum in London. Through a comparison of the Tate and the MoMA we will be able to see if there are any differences in collections and trends between museums in two different countries. The Tate's collection is slightly smaller than MoMA's, only having 70,000 works, and the dataset that we have only representing 69,274 of those works. Because of this when we conduct comparisons between the two datasets we will need to be mindful of the difference in size of the two museums.\n",
    "\n",
    "We will also investigate the collection of the [Metropolitan Museum of Art](https://github.com/metmuseum/openaccess), another famous art museum in New York City. Even though the Met is not specifically focused on modern art, we will be able to key into its modern/contemporary art collection and only focus specifically on those works. The number of modern/contemporary works that the Met has is much smaller than the MoMAs, only 13,452, but we believe this will still allow us some insight into the differences and similarities between the two museums. By comparing the MoMA to these other museums we will be able to see if they not only reached their goals but if their goals place them as a forward thinker on modern art and not just a part of the crowd. \n",
    "\n",
    "We have laid out our work flow below by starting with cleaning the MoMA data, then conducting individual analysis on it to answer our questions stated above. Then we clean the Tate data and compare it to the data from the MoMA. Afterwards we clean the Met data, and in a similar fashion to how we compared the Tate dataset, we will do the same analysis between the Met and the MoMA. Finally we have a conclusion section at the bottom stating our overall findings and what we believe the analysis has shown us.\n",
    "\n",
    "In terms of collaboration, we have set up a [GitHub repository](https://github.com/lindsayhardy17/lindsayhardy17.github.io)and plan for storing the datasets, sharing code, and version control. We plan to meet on Zoom once a week on Tuesdays at 3:10, right after class, and will also be flexible with adding a second time to meet on Thursday after class as well.  During these meetings we plan to check our progress, solve problems, and ask questions, in addition to communicating outside of scheduled meetings as needed.\n",
    "\n",
    "\n",
    "\n",
    "\n",
    "\n"
   ]
  },
  {
   "cell_type": "markdown",
   "metadata": {},
   "source": [
    "### Milestone - Data Extraction, Cleaning, and Loading"
   ]
  },
  {
   "cell_type": "markdown",
   "metadata": {},
   "source": [
    "The first thing that we needed to do was unzip our files. We originally tried to pull the data from the github repo, but the MoMA has a no pull policy. So instead we downloaded the data from kaggle."
   ]
  },
  {
   "cell_type": "code",
   "execution_count": 1,
   "metadata": {},
   "outputs": [],
   "source": [
    "import pandas as pd\n",
    "import zipfile\n",
    "import numpy as np\n",
    "import re\n",
    "import datetime\n",
    "import matplotlib.pyplot as plot\n",
    "import matplotlib.ticker as ticker"
   ]
  },
  {
   "cell_type": "markdown",
   "metadata": {},
   "source": [
    "For this first milestone the only things we needed were zipfile and pandas. So We unzipped the files and placed them in a working form in our folder"
   ]
  },
  {
   "cell_type": "code",
   "execution_count": 2,
   "metadata": {},
   "outputs": [],
   "source": [
    "with zipfile.ZipFile('archive.zip', 'r') as zip_ref:\n",
    "    zip_ref.extractall()"
   ]
  },
  {
   "cell_type": "markdown",
   "metadata": {},
   "source": [
    "Next we read in the Artworks file and the Artists file and created a new dataframe called gender. We will be analyzing the gender and nationality of the artists so we wanted it in our main dataframe. Originally we tried to merge the two dataframes on 'Artist ID', but upon a closer look, \"Artist ID\" had multiple ids in the artworks dataframe but not in the artists dataframe. Some had up to 5 ids while others only had 1. Because of this we decided to just merge on \"Name\" because of its consistence across both dataframes. Once we merged we renamed the dataframe \"moma\". The resulting dataframe is made up of the works title, the artist and their background, the name of the work, information on the medium and different measurement types, when the moma acquired the work, and a couple other minor things. We are looking to analyze the dataframe to find insights on the dates that they were acquired with regard to when the works were made and if there were significant changes in the works acquired after a certain year. We think with this dataset we will be able to do all of these things because of the columns below, but will need to make sure that the columns are in the correct format."
   ]
  },
  {
   "cell_type": "code",
   "execution_count": 3,
   "metadata": {},
   "outputs": [
    {
     "data": {
      "text/plain": [
       "Index(['Artist ID', 'Name', 'Nationality', 'Gender', 'Birth Year',\n",
       "       'Death Year'],\n",
       "      dtype='object')"
      ]
     },
     "execution_count": 3,
     "metadata": {},
     "output_type": "execute_result"
    }
   ],
   "source": [
    "moma_artworks = pd.read_csv(\"Artworks.csv\")\n",
    "moma_artists = pd.read_csv(\"Artists.csv\")\n",
    "moma_artists.columns"
   ]
  },
  {
   "cell_type": "code",
   "execution_count": 4,
   "metadata": {
    "scrolled": true
   },
   "outputs": [
    {
     "data": {
      "text/html": [
       "<div>\n",
       "<style scoped>\n",
       "    .dataframe tbody tr th:only-of-type {\n",
       "        vertical-align: middle;\n",
       "    }\n",
       "\n",
       "    .dataframe tbody tr th {\n",
       "        vertical-align: top;\n",
       "    }\n",
       "\n",
       "    .dataframe thead th {\n",
       "        text-align: right;\n",
       "    }\n",
       "</style>\n",
       "<table border=\"1\" class=\"dataframe\">\n",
       "  <thead>\n",
       "    <tr style=\"text-align: right;\">\n",
       "      <th></th>\n",
       "      <th>Artwork ID</th>\n",
       "      <th>Title</th>\n",
       "      <th>Artist ID</th>\n",
       "      <th>Name</th>\n",
       "      <th>Date</th>\n",
       "      <th>Medium</th>\n",
       "      <th>Dimensions</th>\n",
       "      <th>Acquisition Date</th>\n",
       "      <th>Credit</th>\n",
       "      <th>Catalogue</th>\n",
       "      <th>...</th>\n",
       "      <th>Height (cm)</th>\n",
       "      <th>Length (cm)</th>\n",
       "      <th>Width (cm)</th>\n",
       "      <th>Depth (cm)</th>\n",
       "      <th>Weight (kg)</th>\n",
       "      <th>Duration (s)</th>\n",
       "      <th>Gender</th>\n",
       "      <th>Nationality</th>\n",
       "      <th>Birth Year</th>\n",
       "      <th>Death Year</th>\n",
       "    </tr>\n",
       "  </thead>\n",
       "  <tbody>\n",
       "    <tr>\n",
       "      <th>0</th>\n",
       "      <td>2</td>\n",
       "      <td>Ferdinandsbrücke Project, Vienna, Austria, Ele...</td>\n",
       "      <td>6210</td>\n",
       "      <td>Otto Wagner</td>\n",
       "      <td>1896</td>\n",
       "      <td>Ink and cut-and-pasted painted pages on paper</td>\n",
       "      <td>19 1/8 x 66 1/2\" (48.6 x 168.9 cm)</td>\n",
       "      <td>1996-04-09</td>\n",
       "      <td>Fractional and promised gift of Jo Carole and ...</td>\n",
       "      <td>Y</td>\n",
       "      <td>...</td>\n",
       "      <td>48.6000</td>\n",
       "      <td>NaN</td>\n",
       "      <td>168.9000</td>\n",
       "      <td>NaN</td>\n",
       "      <td>NaN</td>\n",
       "      <td>NaN</td>\n",
       "      <td>Male</td>\n",
       "      <td>Austrian</td>\n",
       "      <td>1841.0</td>\n",
       "      <td>1918.0</td>\n",
       "    </tr>\n",
       "    <tr>\n",
       "      <th>1</th>\n",
       "      <td>3</td>\n",
       "      <td>City of Music, National Superior Conservatory ...</td>\n",
       "      <td>7470</td>\n",
       "      <td>Christian de Portzamparc</td>\n",
       "      <td>1987</td>\n",
       "      <td>Paint and colored pencil on print</td>\n",
       "      <td>16 x 11 3/4\" (40.6 x 29.8 cm)</td>\n",
       "      <td>1995-01-17</td>\n",
       "      <td>Gift of the architect in honor of Lily Auchinc...</td>\n",
       "      <td>Y</td>\n",
       "      <td>...</td>\n",
       "      <td>40.6401</td>\n",
       "      <td>NaN</td>\n",
       "      <td>29.8451</td>\n",
       "      <td>NaN</td>\n",
       "      <td>NaN</td>\n",
       "      <td>NaN</td>\n",
       "      <td>Male</td>\n",
       "      <td>French</td>\n",
       "      <td>1944.0</td>\n",
       "      <td>NaN</td>\n",
       "    </tr>\n",
       "    <tr>\n",
       "      <th>2</th>\n",
       "      <td>4</td>\n",
       "      <td>Villa near Vienna Project, Outside Vienna, Aus...</td>\n",
       "      <td>7605</td>\n",
       "      <td>Emil Hoppe</td>\n",
       "      <td>1903</td>\n",
       "      <td>Graphite, pen, color pencil, ink, and gouache ...</td>\n",
       "      <td>13 1/2 x 12 1/2\" (34.3 x 31.8 cm)</td>\n",
       "      <td>1997-01-15</td>\n",
       "      <td>Gift of Jo Carole and Ronald S. Lauder</td>\n",
       "      <td>Y</td>\n",
       "      <td>...</td>\n",
       "      <td>34.3000</td>\n",
       "      <td>NaN</td>\n",
       "      <td>31.8000</td>\n",
       "      <td>NaN</td>\n",
       "      <td>NaN</td>\n",
       "      <td>NaN</td>\n",
       "      <td>Male</td>\n",
       "      <td>Austrian</td>\n",
       "      <td>1876.0</td>\n",
       "      <td>1957.0</td>\n",
       "    </tr>\n",
       "    <tr>\n",
       "      <th>3</th>\n",
       "      <td>5</td>\n",
       "      <td>The Manhattan Transcripts Project, New York, N...</td>\n",
       "      <td>7056</td>\n",
       "      <td>Bernard Tschumi</td>\n",
       "      <td>1980</td>\n",
       "      <td>Photographic reproduction with colored synthet...</td>\n",
       "      <td>20 x 20\" (50.8 x 50.8 cm)</td>\n",
       "      <td>1995-01-17</td>\n",
       "      <td>Purchase and partial gift of the architect in ...</td>\n",
       "      <td>Y</td>\n",
       "      <td>...</td>\n",
       "      <td>50.8000</td>\n",
       "      <td>NaN</td>\n",
       "      <td>50.8000</td>\n",
       "      <td>NaN</td>\n",
       "      <td>NaN</td>\n",
       "      <td>NaN</td>\n",
       "      <td>Male</td>\n",
       "      <td>NaN</td>\n",
       "      <td>1944.0</td>\n",
       "      <td>NaN</td>\n",
       "    </tr>\n",
       "    <tr>\n",
       "      <th>4</th>\n",
       "      <td>6</td>\n",
       "      <td>Villa, project, outside Vienna, Austria, Exter...</td>\n",
       "      <td>7605</td>\n",
       "      <td>Emil Hoppe</td>\n",
       "      <td>1903</td>\n",
       "      <td>Graphite, color pencil, ink, and gouache on tr...</td>\n",
       "      <td>15 1/8 x 7 1/2\" (38.4 x 19.1 cm)</td>\n",
       "      <td>1997-01-15</td>\n",
       "      <td>Gift of Jo Carole and Ronald S. Lauder</td>\n",
       "      <td>Y</td>\n",
       "      <td>...</td>\n",
       "      <td>38.4000</td>\n",
       "      <td>NaN</td>\n",
       "      <td>19.1000</td>\n",
       "      <td>NaN</td>\n",
       "      <td>NaN</td>\n",
       "      <td>NaN</td>\n",
       "      <td>Male</td>\n",
       "      <td>Austrian</td>\n",
       "      <td>1876.0</td>\n",
       "      <td>1957.0</td>\n",
       "    </tr>\n",
       "  </tbody>\n",
       "</table>\n",
       "<p>5 rows × 25 columns</p>\n",
       "</div>"
      ],
      "text/plain": [
       "   Artwork ID                                              Title Artist ID  \\\n",
       "0           2  Ferdinandsbrücke Project, Vienna, Austria, Ele...      6210   \n",
       "1           3  City of Music, National Superior Conservatory ...      7470   \n",
       "2           4  Villa near Vienna Project, Outside Vienna, Aus...      7605   \n",
       "3           5  The Manhattan Transcripts Project, New York, N...      7056   \n",
       "4           6  Villa, project, outside Vienna, Austria, Exter...      7605   \n",
       "\n",
       "                       Name  Date  \\\n",
       "0               Otto Wagner  1896   \n",
       "1  Christian de Portzamparc  1987   \n",
       "2                Emil Hoppe  1903   \n",
       "3           Bernard Tschumi  1980   \n",
       "4                Emil Hoppe  1903   \n",
       "\n",
       "                                              Medium  \\\n",
       "0      Ink and cut-and-pasted painted pages on paper   \n",
       "1                  Paint and colored pencil on print   \n",
       "2  Graphite, pen, color pencil, ink, and gouache ...   \n",
       "3  Photographic reproduction with colored synthet...   \n",
       "4  Graphite, color pencil, ink, and gouache on tr...   \n",
       "\n",
       "                           Dimensions Acquisition Date  \\\n",
       "0  19 1/8 x 66 1/2\" (48.6 x 168.9 cm)       1996-04-09   \n",
       "1       16 x 11 3/4\" (40.6 x 29.8 cm)       1995-01-17   \n",
       "2   13 1/2 x 12 1/2\" (34.3 x 31.8 cm)       1997-01-15   \n",
       "3           20 x 20\" (50.8 x 50.8 cm)       1995-01-17   \n",
       "4    15 1/8 x 7 1/2\" (38.4 x 19.1 cm)       1997-01-15   \n",
       "\n",
       "                                              Credit Catalogue  ...  \\\n",
       "0  Fractional and promised gift of Jo Carole and ...         Y  ...   \n",
       "1  Gift of the architect in honor of Lily Auchinc...         Y  ...   \n",
       "2             Gift of Jo Carole and Ronald S. Lauder         Y  ...   \n",
       "3  Purchase and partial gift of the architect in ...         Y  ...   \n",
       "4             Gift of Jo Carole and Ronald S. Lauder         Y  ...   \n",
       "\n",
       "  Height (cm) Length (cm) Width (cm)  Depth (cm)  Weight (kg)  Duration (s)  \\\n",
       "0     48.6000         NaN   168.9000         NaN          NaN           NaN   \n",
       "1     40.6401         NaN    29.8451         NaN          NaN           NaN   \n",
       "2     34.3000         NaN    31.8000         NaN          NaN           NaN   \n",
       "3     50.8000         NaN    50.8000         NaN          NaN           NaN   \n",
       "4     38.4000         NaN    19.1000         NaN          NaN           NaN   \n",
       "\n",
       "   Gender  Nationality  Birth Year  Death Year  \n",
       "0    Male     Austrian      1841.0      1918.0  \n",
       "1    Male       French      1944.0         NaN  \n",
       "2    Male     Austrian      1876.0      1957.0  \n",
       "3    Male          NaN      1944.0         NaN  \n",
       "4    Male     Austrian      1876.0      1957.0  \n",
       "\n",
       "[5 rows x 25 columns]"
      ]
     },
     "execution_count": 4,
     "metadata": {},
     "output_type": "execute_result"
    }
   ],
   "source": [
    "gender = moma_artists[[\"Gender\", 'Name', 'Nationality', 'Birth Year','Death Year']]\n",
    "moma = moma_artworks.merge(gender, on = ['Name'], how = 'left')\n",
    "moma['Gender'] = moma['Gender'].replace({'male':'Male'})\n",
    "moma.head()"
   ]
  },
  {
   "cell_type": "markdown",
   "metadata": {},
   "source": [
    "Then we checked on the datatypes, everything looked like it was the right type of object except for the dates, so we first changed Acquisition Date"
   ]
  },
  {
   "cell_type": "code",
   "execution_count": 5,
   "metadata": {},
   "outputs": [
    {
     "data": {
      "text/plain": [
       "Artwork ID              int64\n",
       "Title                  object\n",
       "Artist ID              object\n",
       "Name                   object\n",
       "Date                   object\n",
       "Medium                 object\n",
       "Dimensions             object\n",
       "Acquisition Date       object\n",
       "Credit                 object\n",
       "Catalogue              object\n",
       "Department             object\n",
       "Classification         object\n",
       "Object Number          object\n",
       "Diameter (cm)         float64\n",
       "Circumference (cm)    float64\n",
       "Height (cm)           float64\n",
       "Length (cm)           float64\n",
       "Width (cm)            float64\n",
       "Depth (cm)            float64\n",
       "Weight (kg)           float64\n",
       "Duration (s)          float64\n",
       "Gender                 object\n",
       "Nationality            object\n",
       "Birth Year            float64\n",
       "Death Year            float64\n",
       "dtype: object"
      ]
     },
     "metadata": {},
     "output_type": "display_data"
    },
    {
     "data": {
      "text/plain": [
       "Artwork ID                     int64\n",
       "Title                         object\n",
       "Artist ID                     object\n",
       "Name                          object\n",
       "Date                          object\n",
       "Medium                        object\n",
       "Dimensions                    object\n",
       "Acquisition Date      datetime64[ns]\n",
       "Credit                        object\n",
       "Catalogue                     object\n",
       "Department                    object\n",
       "Classification                object\n",
       "Object Number                 object\n",
       "Diameter (cm)                float64\n",
       "Circumference (cm)           float64\n",
       "Height (cm)                  float64\n",
       "Length (cm)                  float64\n",
       "Width (cm)                   float64\n",
       "Depth (cm)                   float64\n",
       "Weight (kg)                  float64\n",
       "Duration (s)                 float64\n",
       "Gender                        object\n",
       "Nationality                   object\n",
       "Birth Year                   float64\n",
       "Death Year                   float64\n",
       "dtype: object"
      ]
     },
     "execution_count": 5,
     "metadata": {},
     "output_type": "execute_result"
    }
   ],
   "source": [
    "display(moma.dtypes)\n",
    "#checked to see if the values are correct, the date and the acquisition date aren't in date time so converting them\n",
    "moma['Acquisition Date'] = pd.to_datetime(moma['Acquisition Date'], errors = 'coerce')\n",
    "#changed to datetime\n",
    "moma.dtypes"
   ]
  },
  {
   "cell_type": "markdown",
   "metadata": {},
   "source": [
    "While we were checking the different values we realized that the Date, the year the artword was created, had a lot of different problems and could not be analyzed because of its different date representations, like having 1967-1977, or c. 1989, or early 1992. Because of this we had to fix the Date column, which is shown below. Having this column be correct is very important to us because the date of creation is crucial to our analysis."
   ]
  },
  {
   "cell_type": "code",
   "execution_count": 6,
   "metadata": {},
   "outputs": [
    {
     "data": {
      "text/plain": [
       "array(['1896', '1987', '1903', '1980', '1976-77', '1968', '1900', '1978',\n",
       "       '1905', '1906', '1979', '1980-81', '1918', '1970', '1975', '1984',\n",
       "       '1986', '1974', 'n.d.', 'c. 1917', '1917', '1923', 'Unknown',\n",
       "       '1930', '1936', '1935', '1937', '1938', '1977', '1958', '1985',\n",
       "       '1989', '1949', '1958–1964', 'c. 1935', '1991', '1941', '1965',\n",
       "       '1981', '1983', '1985–1988', 'c. 1989-91', '1992', '1915-17',\n",
       "       'c. 1915-17', '1953', '1910', 'c.1985', '1982–1986', '1982-86',\n",
       "       '1945', '1923–1924', '.1-3 1987; .4 1990', '1990', '1976', '1995',\n",
       "       '1927–1931', 'c. 1929-30', '1964', '1959', 'c. 1918-20',\n",
       "       'c.1918-1920', '1939', 'c.1976', '1975-79', '1993', '1996', '1988',\n",
       "       '1982-83', '1982–1983', '1952-53', '1921', '1957', '1972',\n",
       "       '1956-57', '1924', '1962', '1925', '1960', '1969', '1963', '1994',\n",
       "       '1961', '1960-61', '1952', 'c. 1978-84', '1927', '1979–1985',\n",
       "       'before 1933', '1929', 'c. 1960-62', '1967', '1956', 'c. 1961',\n",
       "       '1934-36', '1981–1982', '1979–1981', '1940', 'after 1938', '1946'],\n",
       "      dtype=object)"
      ]
     },
     "execution_count": 6,
     "metadata": {},
     "output_type": "execute_result"
    }
   ],
   "source": [
    "moma['Date'].unique()[:100]\n",
    "#a small sample of the unique types and their differences "
   ]
  },
  {
   "cell_type": "code",
   "execution_count": 7,
   "metadata": {},
   "outputs": [],
   "source": [
    "n_d = moma[(moma[\"Date\"] == \"nan\") | (moma[\"Date\"] == \"n.d\") | (moma[\"Date\"] == \"Unkn\") | (moma[\"Date\"] == \"Unknown\") | (moma[\"Date\"] == \"Various\") | (moma[\"Date\"] == \"unknown\")].index\n",
    "moma.drop(n_d, inplace = True)"
   ]
  },
  {
   "cell_type": "markdown",
   "metadata": {},
   "source": [
    "First we removed the obvious components that were incorrect, but then realized the large extent to which the dataset had issues, so we used regular expressions to extract a date, shown below, and then checked the remaining dates that were not in the correct format that we missed"
   ]
  },
  {
   "cell_type": "code",
   "execution_count": 8,
   "metadata": {},
   "outputs": [
    {
     "data": {
      "text/plain": [
       "array(['n.d.', '8th-9th century C.E.', '7th-8th century C.E.', 'Unkown',\n",
       "       '(London?, published in aid of the Comforts Fund  for Women and Children of Sovie',\n",
       "       '(n.d.)', 'New York', 'November 10', '(19)71', '(19)69',\n",
       "       'date of publicati', 'nd', 'no date',\n",
       "       '(newspaper published March 30)', 'n. d.', 'c. 196?', 'TBC', 'TBD'],\n",
       "      dtype=object)"
      ]
     },
     "execution_count": 8,
     "metadata": {},
     "output_type": "execute_result"
    }
   ],
   "source": [
    "moma['date_edit'] = moma['Date'].str.extract('(\\d{4})', expand = False)\n",
    "#creating a new column to store the dates\n",
    "moma[(moma['date_edit'].isnull() == True) & (moma['Date'].isnull() == False)]['Date'].unique()\n",
    "#checking where the date_edit is null but the Date is true - these will be the remaining dates that could\n",
    "#not be converted to a correct date format with four numbers"
   ]
  },
  {
   "cell_type": "markdown",
   "metadata": {},
   "source": [
    "Because none of these dates had any meaning to us, we could officially switch over to have the date_edit column be our official date column, which we do below"
   ]
  },
  {
   "cell_type": "code",
   "execution_count": 9,
   "metadata": {},
   "outputs": [
    {
     "data": {
      "text/plain": [
       "array(['1896', '1987', '1903', '1980', '1976', '1968', '1900', '1978',\n",
       "       '1905', '1906', '1979', '1918', '1970', '1975', '1984', '1986',\n",
       "       '1974', nan, '1917', '1923', '1930', '1936', '1935', '1937',\n",
       "       '1938', '1977', '1958', '1985', '1989', '1949', '1991', '1941',\n",
       "       '1965', '1981', '1983', '1992', '1915', '1953', '1910', '1982',\n",
       "       '1945', '1990', '1995', '1927', '1929', '1964', '1959', '1939',\n",
       "       '1993', '1996', '1988', '1952', '1921', '1957', '1972', '1956',\n",
       "       '1924', '1962', '1925', '1960', '1969', '1963', '1994', '1961',\n",
       "       '1933', '1967', '1934', '1940', '1946', '1955', '1997', '1922',\n",
       "       '1942', '1954', '1916', '1973', '1926', '1932', '1947', '1943',\n",
       "       '1944', '1966', '1971', '1999', '1951', '1913', '1928', '1886',\n",
       "       '1920', '1950', '1931', '1901', '1948', '1912', '1908', '1902',\n",
       "       '1904', '1998', '1898', '1875', '1880', '1909', '1501', '1897',\n",
       "       '1907', '1895', '1914', '1885', '1768', '1878', '1808', '1865',\n",
       "       '1899', '1876', '1873', '1860', '1866', '1919', '1830', '1840',\n",
       "       '1884', '1883', '2000', '1894', '1893', '1879', '1890', '1892',\n",
       "       '1877', '1911', '1891', '1889', '1818', '1852', '1837', '1825',\n",
       "       '1828', '1854', '1797', '1799', '1810', '1863', '1816', '1874',\n",
       "       '1887', '1881', '1882', '1888', '1868', '1871', '1858', '1853',\n",
       "       '1850', '1855', '1846', '1862', '1856', '1843', '1872', '1861',\n",
       "       '1864', '1869', '1870', '1857', '1826', '1829', '1859', '1844',\n",
       "       '1851', '1842', '1845', '1867', '1839', '1838', '1805', '1786',\n",
       "       '1809', '1849', '1841', '1832', '1811', '1847', '1800', '2001',\n",
       "       '2002', '2003', '2004', '1821', '2005', '2006', '2011', '2009',\n",
       "       '2007', '2008', '1848', '2010', '2012', '2013', '2016', '2014',\n",
       "       '2015', '2017'], dtype=object)"
      ]
     },
     "execution_count": 9,
     "metadata": {},
     "output_type": "execute_result"
    }
   ],
   "source": [
    "moma['Date'] = moma['date_edit']\n",
    "moma.drop(columns=['date_edit'], inplace = True)\n",
    "moma['Date'].unique()\n",
    "#one last check to make sure that all of our corresponding values are actually dates"
   ]
  },
  {
   "cell_type": "markdown",
   "metadata": {},
   "source": [
    "After we officially had all the values as dates we converted them to a date time"
   ]
  },
  {
   "cell_type": "code",
   "execution_count": 10,
   "metadata": {},
   "outputs": [],
   "source": [
    "# convert the strings back to integers\n",
    "moma['Date'] = pd.to_datetime(moma['Date'], errors=\"coerce\")\n",
    "moma['Date'] = moma['Date'].dt.year"
   ]
  },
  {
   "cell_type": "markdown",
   "metadata": {},
   "source": [
    "One of the main things that we will be looking at is when the MoMA acquired the work of art. Without this knowledge we won't be able to see if they really changed following their addition. Because of this we removed works that did not have a date from the original dataframe moma. We decided not to remove the date of the creation of art for right now because we believe those works could potentially be useful."
   ]
  },
  {
   "cell_type": "code",
   "execution_count": 11,
   "metadata": {},
   "outputs": [],
   "source": [
    "no_date = moma[(moma['Acquisition Date'].isnull() == True)].index\n",
    "moma.drop(no_date, inplace = True)\n",
    "#dropped dates that didn't have an acquisition date"
   ]
  },
  {
   "cell_type": "markdown",
   "metadata": {},
   "source": [
    "We realized we needed to add an age in to see when the artist created the work, because that could be something interesting to analyze"
   ]
  },
  {
   "cell_type": "code",
   "execution_count": 12,
   "metadata": {},
   "outputs": [],
   "source": [
    "moma['age_made'] = moma['Date'] - moma['Birth Year']\n",
    "moma['alive?'] = moma['Date']"
   ]
  },
  {
   "cell_type": "code",
   "execution_count": 13,
   "metadata": {},
   "outputs": [],
   "source": [
    "def test(acquisition,death):\n",
    "    if acquisition > death:\n",
    "        return 'False'\n",
    "    else:\n",
    "        return 'True'\n",
    "moma['Acquisition Year'] = moma['Acquisition Date'].dt.year\n",
    "moma['alive?'] = moma.apply(lambda row: test(row['Acquisition Year'],row['Death Year']),axis=1)"
   ]
  },
  {
   "cell_type": "markdown",
   "metadata": {},
   "source": [
    "We used apply above to check each row to see if the artist was alive when the work was acquired, then made a column called alive? that was true if they were alive and false if they weren't"
   ]
  },
  {
   "cell_type": "code",
   "execution_count": 14,
   "metadata": {},
   "outputs": [],
   "source": [
    "ids = moma[['Artwork ID', 'Artist ID']]\n",
    "names_dates_moma = moma[['Title', 'Name', 'Date', 'Acquisition Date', 'Artwork ID', 'Gender', 'Credit', 'Nationality','age_made'\n",
    "                   , 'alive?']]\n",
    "dimensions = moma[['Artwork ID','Dimensions', 'Diameter (cm)',\n",
    "       'Circumference (cm)', 'Height (cm)', 'Length (cm)', 'Width (cm)',\n",
    "       'Depth (cm)', 'Weight (kg)', 'Duration (s)']]\n",
    "credit = moma[['Artwork ID','Credit']]\n",
    "extra = moma[['Medium', 'Department', 'Classification', 'Artwork ID']]"
   ]
  },
  {
   "cell_type": "code",
   "execution_count": 15,
   "metadata": {},
   "outputs": [
    {
     "data": {
      "text/html": [
       "<div>\n",
       "<style scoped>\n",
       "    .dataframe tbody tr th:only-of-type {\n",
       "        vertical-align: middle;\n",
       "    }\n",
       "\n",
       "    .dataframe tbody tr th {\n",
       "        vertical-align: top;\n",
       "    }\n",
       "\n",
       "    .dataframe thead th {\n",
       "        text-align: right;\n",
       "    }\n",
       "</style>\n",
       "<table border=\"1\" class=\"dataframe\">\n",
       "  <thead>\n",
       "    <tr style=\"text-align: right;\">\n",
       "      <th></th>\n",
       "      <th>Title</th>\n",
       "      <th>Name</th>\n",
       "      <th>Date</th>\n",
       "      <th>Acquisition Date</th>\n",
       "      <th>Artwork ID</th>\n",
       "      <th>Gender</th>\n",
       "      <th>Credit</th>\n",
       "      <th>Nationality</th>\n",
       "      <th>age_made</th>\n",
       "      <th>alive?</th>\n",
       "    </tr>\n",
       "  </thead>\n",
       "  <tbody>\n",
       "    <tr>\n",
       "      <th>0</th>\n",
       "      <td>Ferdinandsbrücke Project, Vienna, Austria, Ele...</td>\n",
       "      <td>Otto Wagner</td>\n",
       "      <td>1896.0</td>\n",
       "      <td>1996-04-09</td>\n",
       "      <td>2</td>\n",
       "      <td>Male</td>\n",
       "      <td>Fractional and promised gift of Jo Carole and ...</td>\n",
       "      <td>Austrian</td>\n",
       "      <td>55.0</td>\n",
       "      <td>False</td>\n",
       "    </tr>\n",
       "    <tr>\n",
       "      <th>1</th>\n",
       "      <td>City of Music, National Superior Conservatory ...</td>\n",
       "      <td>Christian de Portzamparc</td>\n",
       "      <td>1987.0</td>\n",
       "      <td>1995-01-17</td>\n",
       "      <td>3</td>\n",
       "      <td>Male</td>\n",
       "      <td>Gift of the architect in honor of Lily Auchinc...</td>\n",
       "      <td>French</td>\n",
       "      <td>43.0</td>\n",
       "      <td>True</td>\n",
       "    </tr>\n",
       "    <tr>\n",
       "      <th>2</th>\n",
       "      <td>Villa near Vienna Project, Outside Vienna, Aus...</td>\n",
       "      <td>Emil Hoppe</td>\n",
       "      <td>1903.0</td>\n",
       "      <td>1997-01-15</td>\n",
       "      <td>4</td>\n",
       "      <td>Male</td>\n",
       "      <td>Gift of Jo Carole and Ronald S. Lauder</td>\n",
       "      <td>Austrian</td>\n",
       "      <td>27.0</td>\n",
       "      <td>False</td>\n",
       "    </tr>\n",
       "    <tr>\n",
       "      <th>3</th>\n",
       "      <td>The Manhattan Transcripts Project, New York, N...</td>\n",
       "      <td>Bernard Tschumi</td>\n",
       "      <td>1980.0</td>\n",
       "      <td>1995-01-17</td>\n",
       "      <td>5</td>\n",
       "      <td>Male</td>\n",
       "      <td>Purchase and partial gift of the architect in ...</td>\n",
       "      <td>NaN</td>\n",
       "      <td>36.0</td>\n",
       "      <td>True</td>\n",
       "    </tr>\n",
       "    <tr>\n",
       "      <th>4</th>\n",
       "      <td>Villa, project, outside Vienna, Austria, Exter...</td>\n",
       "      <td>Emil Hoppe</td>\n",
       "      <td>1903.0</td>\n",
       "      <td>1997-01-15</td>\n",
       "      <td>6</td>\n",
       "      <td>Male</td>\n",
       "      <td>Gift of Jo Carole and Ronald S. Lauder</td>\n",
       "      <td>Austrian</td>\n",
       "      <td>27.0</td>\n",
       "      <td>False</td>\n",
       "    </tr>\n",
       "  </tbody>\n",
       "</table>\n",
       "</div>"
      ],
      "text/plain": [
       "                                               Title  \\\n",
       "0  Ferdinandsbrücke Project, Vienna, Austria, Ele...   \n",
       "1  City of Music, National Superior Conservatory ...   \n",
       "2  Villa near Vienna Project, Outside Vienna, Aus...   \n",
       "3  The Manhattan Transcripts Project, New York, N...   \n",
       "4  Villa, project, outside Vienna, Austria, Exter...   \n",
       "\n",
       "                       Name    Date Acquisition Date  Artwork ID Gender  \\\n",
       "0               Otto Wagner  1896.0       1996-04-09           2   Male   \n",
       "1  Christian de Portzamparc  1987.0       1995-01-17           3   Male   \n",
       "2                Emil Hoppe  1903.0       1997-01-15           4   Male   \n",
       "3           Bernard Tschumi  1980.0       1995-01-17           5   Male   \n",
       "4                Emil Hoppe  1903.0       1997-01-15           6   Male   \n",
       "\n",
       "                                              Credit Nationality  age_made  \\\n",
       "0  Fractional and promised gift of Jo Carole and ...    Austrian      55.0   \n",
       "1  Gift of the architect in honor of Lily Auchinc...      French      43.0   \n",
       "2             Gift of Jo Carole and Ronald S. Lauder    Austrian      27.0   \n",
       "3  Purchase and partial gift of the architect in ...         NaN      36.0   \n",
       "4             Gift of Jo Carole and Ronald S. Lauder    Austrian      27.0   \n",
       "\n",
       "  alive?  \n",
       "0  False  \n",
       "1   True  \n",
       "2  False  \n",
       "3   True  \n",
       "4  False  "
      ]
     },
     "execution_count": 15,
     "metadata": {},
     "output_type": "execute_result"
    }
   ],
   "source": [
    "names_dates_moma.head()"
   ]
  },
  {
   "cell_type": "markdown",
   "metadata": {},
   "source": [
    "## Cleaning Tate Data"
   ]
  },
  {
   "cell_type": "markdown",
   "metadata": {},
   "source": [
    "In order to do through analysis we should compare the MoMA's data to data from other museums. The first museum that we will examine is the Tate, another museum for modern and contemporary art located in London, England."
   ]
  },
  {
   "cell_type": "code",
   "execution_count": 16,
   "metadata": {},
   "outputs": [
    {
     "name": "stderr",
     "output_type": "stream",
     "text": [
      "/opt/conda/lib/python3.8/site-packages/IPython/core/interactiveshell.py:3145: DtypeWarning: Columns (9,13) have mixed types.Specify dtype option on import or set low_memory=False.\n",
      "  has_raised = await self.run_ast_nodes(code_ast.body, cell_name,\n"
     ]
    }
   ],
   "source": [
    "tate_artworks = pd.read_csv(\"artwork_data-tate.csv\")\n",
    "tate_artists = pd.read_csv(\"artist_data-tate.csv\")"
   ]
  },
  {
   "cell_type": "code",
   "execution_count": 17,
   "metadata": {},
   "outputs": [
    {
     "data": {
      "text/html": [
       "<div>\n",
       "<style scoped>\n",
       "    .dataframe tbody tr th:only-of-type {\n",
       "        vertical-align: middle;\n",
       "    }\n",
       "\n",
       "    .dataframe tbody tr th {\n",
       "        vertical-align: top;\n",
       "    }\n",
       "\n",
       "    .dataframe thead th {\n",
       "        text-align: right;\n",
       "    }\n",
       "</style>\n",
       "<table border=\"1\" class=\"dataframe\">\n",
       "  <thead>\n",
       "    <tr style=\"text-align: right;\">\n",
       "      <th></th>\n",
       "      <th>id</th>\n",
       "      <th>accession_number</th>\n",
       "      <th>artist</th>\n",
       "      <th>artistRole</th>\n",
       "      <th>artistId</th>\n",
       "      <th>title</th>\n",
       "      <th>dateText</th>\n",
       "      <th>medium</th>\n",
       "      <th>creditLine</th>\n",
       "      <th>year</th>\n",
       "      <th>acquisitionYear</th>\n",
       "      <th>dimensions</th>\n",
       "      <th>width</th>\n",
       "      <th>height</th>\n",
       "      <th>depth</th>\n",
       "      <th>units</th>\n",
       "      <th>inscription</th>\n",
       "      <th>thumbnailCopyright</th>\n",
       "      <th>thumbnailUrl</th>\n",
       "      <th>url</th>\n",
       "    </tr>\n",
       "  </thead>\n",
       "  <tbody>\n",
       "    <tr>\n",
       "      <th>0</th>\n",
       "      <td>1035</td>\n",
       "      <td>A00001</td>\n",
       "      <td>Blake, Robert</td>\n",
       "      <td>artist</td>\n",
       "      <td>38</td>\n",
       "      <td>A Figure Bowing before a Seated Old Man with h...</td>\n",
       "      <td>date not known</td>\n",
       "      <td>Watercolour, ink, chalk and graphite on paper....</td>\n",
       "      <td>Presented by Mrs John Richmond 1922</td>\n",
       "      <td>NaN</td>\n",
       "      <td>1922.0</td>\n",
       "      <td>support: 394 x 419 mm</td>\n",
       "      <td>394</td>\n",
       "      <td>419</td>\n",
       "      <td>NaN</td>\n",
       "      <td>mm</td>\n",
       "      <td>NaN</td>\n",
       "      <td>NaN</td>\n",
       "      <td>http://www.tate.org.uk/art/images/work/A/A00/A...</td>\n",
       "      <td>http://www.tate.org.uk/art/artworks/blake-a-fi...</td>\n",
       "    </tr>\n",
       "    <tr>\n",
       "      <th>1</th>\n",
       "      <td>1036</td>\n",
       "      <td>A00002</td>\n",
       "      <td>Blake, Robert</td>\n",
       "      <td>artist</td>\n",
       "      <td>38</td>\n",
       "      <td>Two Drawings of Frightened Figures, Probably f...</td>\n",
       "      <td>date not known</td>\n",
       "      <td>Graphite on paper</td>\n",
       "      <td>Presented by Mrs John Richmond 1922</td>\n",
       "      <td>NaN</td>\n",
       "      <td>1922.0</td>\n",
       "      <td>support: 311 x 213 mm</td>\n",
       "      <td>311</td>\n",
       "      <td>213</td>\n",
       "      <td>NaN</td>\n",
       "      <td>mm</td>\n",
       "      <td>NaN</td>\n",
       "      <td>NaN</td>\n",
       "      <td>http://www.tate.org.uk/art/images/work/A/A00/A...</td>\n",
       "      <td>http://www.tate.org.uk/art/artworks/blake-two-...</td>\n",
       "    </tr>\n",
       "    <tr>\n",
       "      <th>2</th>\n",
       "      <td>1037</td>\n",
       "      <td>A00003</td>\n",
       "      <td>Blake, Robert</td>\n",
       "      <td>artist</td>\n",
       "      <td>38</td>\n",
       "      <td>The Preaching of Warning. Verso: An Old Man En...</td>\n",
       "      <td>?c.1785</td>\n",
       "      <td>Graphite on paper. Verso: graphite on paper</td>\n",
       "      <td>Presented by Mrs John Richmond 1922</td>\n",
       "      <td>1785</td>\n",
       "      <td>1922.0</td>\n",
       "      <td>support: 343 x 467 mm</td>\n",
       "      <td>343</td>\n",
       "      <td>467</td>\n",
       "      <td>NaN</td>\n",
       "      <td>mm</td>\n",
       "      <td>NaN</td>\n",
       "      <td>NaN</td>\n",
       "      <td>http://www.tate.org.uk/art/images/work/A/A00/A...</td>\n",
       "      <td>http://www.tate.org.uk/art/artworks/blake-the-...</td>\n",
       "    </tr>\n",
       "    <tr>\n",
       "      <th>3</th>\n",
       "      <td>1038</td>\n",
       "      <td>A00004</td>\n",
       "      <td>Blake, Robert</td>\n",
       "      <td>artist</td>\n",
       "      <td>38</td>\n",
       "      <td>Six Drawings of Figures with Outstretched Arms</td>\n",
       "      <td>date not known</td>\n",
       "      <td>Graphite on paper</td>\n",
       "      <td>Presented by Mrs John Richmond 1922</td>\n",
       "      <td>NaN</td>\n",
       "      <td>1922.0</td>\n",
       "      <td>support: 318 x 394 mm</td>\n",
       "      <td>318</td>\n",
       "      <td>394</td>\n",
       "      <td>NaN</td>\n",
       "      <td>mm</td>\n",
       "      <td>NaN</td>\n",
       "      <td>NaN</td>\n",
       "      <td>http://www.tate.org.uk/art/images/work/A/A00/A...</td>\n",
       "      <td>http://www.tate.org.uk/art/artworks/blake-six-...</td>\n",
       "    </tr>\n",
       "    <tr>\n",
       "      <th>4</th>\n",
       "      <td>1039</td>\n",
       "      <td>A00005</td>\n",
       "      <td>Blake, William</td>\n",
       "      <td>artist</td>\n",
       "      <td>39</td>\n",
       "      <td>The Circle of the Lustful: Francesca da Rimini...</td>\n",
       "      <td>1826–7, reprinted 1892</td>\n",
       "      <td>Line engraving on paper</td>\n",
       "      <td>Purchased with the assistance of a special gra...</td>\n",
       "      <td>1826</td>\n",
       "      <td>1919.0</td>\n",
       "      <td>image: 243 x 335 mm</td>\n",
       "      <td>243</td>\n",
       "      <td>335</td>\n",
       "      <td>NaN</td>\n",
       "      <td>mm</td>\n",
       "      <td>NaN</td>\n",
       "      <td>NaN</td>\n",
       "      <td>http://www.tate.org.uk/art/images/work/A/A00/A...</td>\n",
       "      <td>http://www.tate.org.uk/art/artworks/blake-the-...</td>\n",
       "    </tr>\n",
       "  </tbody>\n",
       "</table>\n",
       "</div>"
      ],
      "text/plain": [
       "     id accession_number          artist artistRole  artistId  \\\n",
       "0  1035           A00001   Blake, Robert     artist        38   \n",
       "1  1036           A00002   Blake, Robert     artist        38   \n",
       "2  1037           A00003   Blake, Robert     artist        38   \n",
       "3  1038           A00004   Blake, Robert     artist        38   \n",
       "4  1039           A00005  Blake, William     artist        39   \n",
       "\n",
       "                                               title                dateText  \\\n",
       "0  A Figure Bowing before a Seated Old Man with h...          date not known   \n",
       "1  Two Drawings of Frightened Figures, Probably f...          date not known   \n",
       "2  The Preaching of Warning. Verso: An Old Man En...                 ?c.1785   \n",
       "3     Six Drawings of Figures with Outstretched Arms          date not known   \n",
       "4  The Circle of the Lustful: Francesca da Rimini...  1826–7, reprinted 1892   \n",
       "\n",
       "                                              medium  \\\n",
       "0  Watercolour, ink, chalk and graphite on paper....   \n",
       "1                                  Graphite on paper   \n",
       "2        Graphite on paper. Verso: graphite on paper   \n",
       "3                                  Graphite on paper   \n",
       "4                            Line engraving on paper   \n",
       "\n",
       "                                          creditLine  year  acquisitionYear  \\\n",
       "0                Presented by Mrs John Richmond 1922   NaN           1922.0   \n",
       "1                Presented by Mrs John Richmond 1922   NaN           1922.0   \n",
       "2                Presented by Mrs John Richmond 1922  1785           1922.0   \n",
       "3                Presented by Mrs John Richmond 1922   NaN           1922.0   \n",
       "4  Purchased with the assistance of a special gra...  1826           1919.0   \n",
       "\n",
       "              dimensions width height  depth units inscription  \\\n",
       "0  support: 394 x 419 mm   394    419    NaN    mm         NaN   \n",
       "1  support: 311 x 213 mm   311    213    NaN    mm         NaN   \n",
       "2  support: 343 x 467 mm   343    467    NaN    mm         NaN   \n",
       "3  support: 318 x 394 mm   318    394    NaN    mm         NaN   \n",
       "4    image: 243 x 335 mm   243    335    NaN    mm         NaN   \n",
       "\n",
       "  thumbnailCopyright                                       thumbnailUrl  \\\n",
       "0                NaN  http://www.tate.org.uk/art/images/work/A/A00/A...   \n",
       "1                NaN  http://www.tate.org.uk/art/images/work/A/A00/A...   \n",
       "2                NaN  http://www.tate.org.uk/art/images/work/A/A00/A...   \n",
       "3                NaN  http://www.tate.org.uk/art/images/work/A/A00/A...   \n",
       "4                NaN  http://www.tate.org.uk/art/images/work/A/A00/A...   \n",
       "\n",
       "                                                 url  \n",
       "0  http://www.tate.org.uk/art/artworks/blake-a-fi...  \n",
       "1  http://www.tate.org.uk/art/artworks/blake-two-...  \n",
       "2  http://www.tate.org.uk/art/artworks/blake-the-...  \n",
       "3  http://www.tate.org.uk/art/artworks/blake-six-...  \n",
       "4  http://www.tate.org.uk/art/artworks/blake-the-...  "
      ]
     },
     "metadata": {},
     "output_type": "display_data"
    },
    {
     "data": {
      "text/html": [
       "<div>\n",
       "<style scoped>\n",
       "    .dataframe tbody tr th:only-of-type {\n",
       "        vertical-align: middle;\n",
       "    }\n",
       "\n",
       "    .dataframe tbody tr th {\n",
       "        vertical-align: top;\n",
       "    }\n",
       "\n",
       "    .dataframe thead th {\n",
       "        text-align: right;\n",
       "    }\n",
       "</style>\n",
       "<table border=\"1\" class=\"dataframe\">\n",
       "  <thead>\n",
       "    <tr style=\"text-align: right;\">\n",
       "      <th></th>\n",
       "      <th>id</th>\n",
       "      <th>name</th>\n",
       "      <th>gender</th>\n",
       "      <th>dates</th>\n",
       "      <th>yearOfBirth</th>\n",
       "      <th>yearOfDeath</th>\n",
       "      <th>placeOfBirth</th>\n",
       "      <th>placeOfDeath</th>\n",
       "      <th>url</th>\n",
       "    </tr>\n",
       "  </thead>\n",
       "  <tbody>\n",
       "    <tr>\n",
       "      <th>0</th>\n",
       "      <td>10093</td>\n",
       "      <td>Abakanowicz, Magdalena</td>\n",
       "      <td>Female</td>\n",
       "      <td>born 1930</td>\n",
       "      <td>1930.0</td>\n",
       "      <td>NaN</td>\n",
       "      <td>Polska</td>\n",
       "      <td>NaN</td>\n",
       "      <td>http://www.tate.org.uk/art/artists/magdalena-a...</td>\n",
       "    </tr>\n",
       "    <tr>\n",
       "      <th>1</th>\n",
       "      <td>0</td>\n",
       "      <td>Abbey, Edwin Austin</td>\n",
       "      <td>Male</td>\n",
       "      <td>1852–1911</td>\n",
       "      <td>1852.0</td>\n",
       "      <td>1911.0</td>\n",
       "      <td>Philadelphia, United States</td>\n",
       "      <td>London, United Kingdom</td>\n",
       "      <td>http://www.tate.org.uk/art/artists/edwin-austi...</td>\n",
       "    </tr>\n",
       "    <tr>\n",
       "      <th>2</th>\n",
       "      <td>2756</td>\n",
       "      <td>Abbott, Berenice</td>\n",
       "      <td>Female</td>\n",
       "      <td>1898–1991</td>\n",
       "      <td>1898.0</td>\n",
       "      <td>1991.0</td>\n",
       "      <td>Springfield, United States</td>\n",
       "      <td>Monson, United States</td>\n",
       "      <td>http://www.tate.org.uk/art/artists/berenice-ab...</td>\n",
       "    </tr>\n",
       "    <tr>\n",
       "      <th>3</th>\n",
       "      <td>1</td>\n",
       "      <td>Abbott, Lemuel Francis</td>\n",
       "      <td>Male</td>\n",
       "      <td>1760–1803</td>\n",
       "      <td>1760.0</td>\n",
       "      <td>1803.0</td>\n",
       "      <td>Leicestershire, United Kingdom</td>\n",
       "      <td>London, United Kingdom</td>\n",
       "      <td>http://www.tate.org.uk/art/artists/lemuel-fran...</td>\n",
       "    </tr>\n",
       "    <tr>\n",
       "      <th>4</th>\n",
       "      <td>622</td>\n",
       "      <td>Abrahams, Ivor</td>\n",
       "      <td>Male</td>\n",
       "      <td>born 1935</td>\n",
       "      <td>1935.0</td>\n",
       "      <td>NaN</td>\n",
       "      <td>Wigan, United Kingdom</td>\n",
       "      <td>NaN</td>\n",
       "      <td>http://www.tate.org.uk/art/artists/ivor-abraha...</td>\n",
       "    </tr>\n",
       "  </tbody>\n",
       "</table>\n",
       "</div>"
      ],
      "text/plain": [
       "      id                    name  gender      dates  yearOfBirth  yearOfDeath  \\\n",
       "0  10093  Abakanowicz, Magdalena  Female  born 1930       1930.0          NaN   \n",
       "1      0     Abbey, Edwin Austin    Male  1852–1911       1852.0       1911.0   \n",
       "2   2756        Abbott, Berenice  Female  1898–1991       1898.0       1991.0   \n",
       "3      1  Abbott, Lemuel Francis    Male  1760–1803       1760.0       1803.0   \n",
       "4    622          Abrahams, Ivor    Male  born 1935       1935.0          NaN   \n",
       "\n",
       "                     placeOfBirth            placeOfDeath  \\\n",
       "0                          Polska                     NaN   \n",
       "1     Philadelphia, United States  London, United Kingdom   \n",
       "2      Springfield, United States   Monson, United States   \n",
       "3  Leicestershire, United Kingdom  London, United Kingdom   \n",
       "4           Wigan, United Kingdom                     NaN   \n",
       "\n",
       "                                                 url  \n",
       "0  http://www.tate.org.uk/art/artists/magdalena-a...  \n",
       "1  http://www.tate.org.uk/art/artists/edwin-austi...  \n",
       "2  http://www.tate.org.uk/art/artists/berenice-ab...  \n",
       "3  http://www.tate.org.uk/art/artists/lemuel-fran...  \n",
       "4  http://www.tate.org.uk/art/artists/ivor-abraha...  "
      ]
     },
     "execution_count": 17,
     "metadata": {},
     "output_type": "execute_result"
    }
   ],
   "source": [
    "display(tate_artworks.head())\n",
    "tate_artists.head() "
   ]
  },
  {
   "cell_type": "markdown",
   "metadata": {},
   "source": [
    "After examining the data set you can see they have a lot of different columns that are not needed because of their repetition, or because we won't be using them in the future. So we created new data sets without them below."
   ]
  },
  {
   "cell_type": "code",
   "execution_count": 18,
   "metadata": {},
   "outputs": [],
   "source": [
    "tate_newartist = tate_artists[['name','gender','placeOfBirth','yearOfBirth','yearOfDeath']]"
   ]
  },
  {
   "cell_type": "code",
   "execution_count": 19,
   "metadata": {},
   "outputs": [],
   "source": [
    "tate_newartworks = tate_artworks[['id','accession_number','artist','artistRole','artistId','title','medium','year'\n",
    "                                 ,'acquisitionYear','dimensions']]"
   ]
  },
  {
   "cell_type": "markdown",
   "metadata": {},
   "source": [
    "Next we merged the artist and the artworks data together, in the artist dataset the artist column is called artists, and in the artworks it is called name. We merged this on left so that if there is an artist who doesn't have an artwork they don't show up."
   ]
  },
  {
   "cell_type": "code",
   "execution_count": 20,
   "metadata": {},
   "outputs": [],
   "source": [
    "tate = tate_newartworks.merge(tate_newartist, left_on = ['artist'],right_on = ['name'], how = 'left')"
   ]
  },
  {
   "cell_type": "markdown",
   "metadata": {},
   "source": [
    "Then we dropped the name column because we would no longer need it"
   ]
  },
  {
   "cell_type": "code",
   "execution_count": 21,
   "metadata": {},
   "outputs": [],
   "source": [
    "tate = tate.drop(columns = ['name'])"
   ]
  },
  {
   "cell_type": "markdown",
   "metadata": {},
   "source": [
    "Then, like we did for the MoMA, we removed the rows where the acquisition year was not present. "
   ]
  },
  {
   "cell_type": "code",
   "execution_count": 22,
   "metadata": {},
   "outputs": [],
   "source": [
    "no_date = tate[(tate['acquisitionYear'].isnull() == True)].index\n",
    "tate.drop(no_date, inplace = True)"
   ]
  },
  {
   "cell_type": "markdown",
   "metadata": {},
   "source": [
    "When examining the dates we noticed that they were not as wonky as the other one so we only had to change two dates."
   ]
  },
  {
   "cell_type": "code",
   "execution_count": 23,
   "metadata": {},
   "outputs": [
    {
     "data": {
      "text/plain": [
       "array([nan, 1785.0, 1826.0, 1828.0, 1825.0, 1803.0, 1794.0, 1789.0,\n",
       "       1786.0, 1800.0, 1790.0, 1805.0, 1779.0, 1870.0, 1871.0, 1866.0,\n",
       "       1877.0, 1873.0, 1872.0, 1879.0, 1875.0, 1862.0, 1863.0, 1861.0,\n",
       "       1880.0, 1821.0, 1840.0, 1846.0, 1874.0, 1860.0, 1852.0, 1850.0,\n",
       "       1845.0, 1844.0, 1827.0, 1829.0, 1831.0, 1830.0, 1812.0, 1814.0,\n",
       "       1869.0, 1881.0, 1851.0, 1843.0, 1864.0, 1865.0, 1788.0, 1876.0,\n",
       "       1858.0, 1859.0, 1849.0, 1885.0, 1818.0, 1893.0, 1806.0, 1837.0,\n",
       "       1810.0, 1807.0, 1808.0, 1809.0, 1811.0, 1816.0, 1822.0, 1833.0,\n",
       "       1817.0, 1931.0, 1959.0, 1916.0, 1917.0, 1951.0, 1900.0, 1899.0,\n",
       "       1902.0, 1953.0, 1933.0, 1974.0, 1819.0, 1820.0, 1967.0, 1969.0,\n",
       "       1979.0, 1983.0, 1989.0, 1992.0, 1993.0, 1994.0, 1997.0, 1998.0,\n",
       "       1999.0, 2000.0, 1981.0, 1985.0, 1996.0, 1991.0, 1971.0, 2004.0,\n",
       "       2002.0, 2005.0, 2006.0, 1975.0, 2001.0, 1973.0, 2003.0, 1963.0,\n",
       "       1976.0, 1977.0, 1960.0, 1990.0, 1988.0, 2007.0, 1964.0, 1970.0,\n",
       "       1949.0, 1952.0, 1954.0, 1955.0, 1956.0, 1958.0, 1961.0, 1965.0,\n",
       "       1966.0, 1986.0, 1982.0, 1978.0, 1980.0, 1962.0, 1984.0, 1972.0,\n",
       "       1957.0, 1948.0, 1987.0, 1968.0, 1946.0, 1945.0, 2009.0, 1995.0,\n",
       "       2010.0, 2008.0, 2011.0, 1787.0, 1791.0, 1792.0, 1793.0, 1795.0,\n",
       "       1796.0, 1797.0, 1802.0, 1798.0, 1799.0, 1780.0, 1804.0, 1801.0,\n",
       "       1740.0, 1815.0, 1835.0, 1824.0, 1813.0, 1856.0, 1823.0, 1839.0,\n",
       "       1832.0, 1834.0, 1836.0, 1842.0, 1841.0, 1847.0, 1777.0, 1680.0,\n",
       "       1770.0, 1773.0, 1771.0, 1756.0, 1745.0, 1768.0, 1766.0, 1784.0,\n",
       "       1760.0, 1776.0, 1783.0, 1781.0, 1838.0, 1696.0, 1765.0, 1775.0,\n",
       "       1782.0, 1758.0, 1848.0, 1854.0, 1855.0, 1764.0, 1778.0, 1772.0,\n",
       "       1753.0, 1670.0, 1759.0, 1752.0, 1738.0, 1868.0, 1750.0, 1731.0,\n",
       "       1642.0, 1747.0, 1644.0, 1919.0, 1923.0, 1853.0, 1905.0, 1922.0,\n",
       "       1857.0, 1762.0, 1737.0, 1748.0, 1755.0, 1746.0, 1545.0, 1888.0,\n",
       "       1896.0, 1882.0, 1886.0, 1892.0, 1887.0, 1889.0, 1883.0, 1884.0,\n",
       "       1891.0, 1878.0, 1897.0, 1895.0, 1890.0, 1894.0, 1769.0, 1741.0,\n",
       "       1898.0, 1867.0, 1749.0, 1901.0, 1763.0, 1903.0, 1739.0, 1761.0,\n",
       "       1904.0, 1906.0, 1907.0, 1908.0, 1646.0, 1774.0, 1909.0, 1910.0,\n",
       "       1911.0, 1655.0, 1912.0, 1913.0, 1914.0, 1720.0, 1915.0, 1695.0,\n",
       "       1623.0, 1920.0, 1743.0, 1918.0, 1715.0, 1937.0, 1921.0, 1751.0,\n",
       "       1924.0, 1925.0, 1926.0, 1927.0, 1928.0, 1929.0, 1930.0, 1932.0,\n",
       "       1645.0, 1744.0, 1934.0, 1576.0, 1935.0, 1936.0, 1938.0, 1939.0,\n",
       "       1940.0, 1941.0, 1942.0, 1943.0, 1944.0, 1732.0, 1947.0, 1699.0,\n",
       "       1735.0, 1659.0, 1950.0, 1733.0, 1573.0, 1710.0, 1672.0, 1625.0,\n",
       "       2012.0, 1660.0, 1690.0, 1684.0, 1615.0, 1600.0, 1679.0, 1619.0,\n",
       "       1569.0, 1586.0, 1650.0, 1742.0, 1557.0, 1629.0, 1725.0, 1648.0,\n",
       "       1674.0, 1730.0, 1754.0, 1563.0, 1757.0, 1592.0, 1636.0, 1633.0,\n",
       "       1700.0, 1594.0, 1635.0, 1620.0, 1640.0, 1767.0, 1724.0, 1610.0,\n",
       "       1605.0, 1565.0, 1707.0, 1639.0, 1676.0, 1661.0, 1596.0, 1630.0,\n",
       "       1701.0, 1681.0, 1728.0, 1675.0, 1654.0, 1689.0, 1662.0, 1685.0,\n",
       "       1723.0, 1683.0, 1734.0, 1721.0, 1595.0, 1638.0, 1713.0, 1716.0,\n",
       "       1719.0, '1774', '1773', '1810', '1845', '1775', '1857', '1855',\n",
       "       '1875', '1830', '1833', '1692', '1788', '1726', '1718', '1791',\n",
       "       '1831', '1777', '1789', '1770', '1796', '1798', '1799', '1836',\n",
       "       '1834', '1822', '1838', '1839', '1906', '1919', '1936', '1902',\n",
       "       '1819', '1807', '1805', '1823', '1824', '1816', '1765', '1780',\n",
       "       '1768', '1637', '1753', '1647', '1817', '1762', '1763', '1658',\n",
       "       '1772', '1795', '1794', '1835', '1761', '1820', '1811', '1787',\n",
       "       '1797', '1785', '1813', '1760', '1784', '1964', '1966', '1968',\n",
       "       '1967', '1970', '1973', '1975', '1971', '1974', '1986', '1944',\n",
       "       '2002', '2003', '1963', '1951', '1736', '1996', '1998', '1991',\n",
       "       '1994', '1903', '2000', '1965', '1937', '1930', '1940', '2001',\n",
       "       '1948', '1980', '1982', '1993', '1945', '1992', '1999', '1972',\n",
       "       '1962', '1950', '1953', '1952', '1984', '1733', '1959', '1981',\n",
       "       '1990', '1988', '1934', '1987', '1922', '1997', '1995', '2004',\n",
       "       '1924', '1960', '1825', '1977', '1941', '1931', '1955', '1969',\n",
       "       '1989', '1947', '1961', '1894', '1913', '1956', '1958', '1685',\n",
       "       '1769', '2005', '1976', '1979', '1935', '1927', '1957', '1929',\n",
       "       '1917', '1878', '1683', '1978', '1985', '1943', '1740', '2006',\n",
       "       '1914', '1829', '1983', '1842', '1911', '1908', '1918', '1923',\n",
       "       '1932', '1938', '1942', '1844', '2007', '1790', '1939', '1928',\n",
       "       '1732', '1747', '1786', '1925', '1893', 'no date', '1920', '1949',\n",
       "       '1926', '1954', '1933', '1946', '1909', '2008', '1889', '1895',\n",
       "       '1880', '1628', '2009', '1896', '1912', '1910', '1734', '2010',\n",
       "       '1660', '1720', '1867', '1866', '2011', '1625', '1848', '1874',\n",
       "       '2012', 'c.1997-9', '1764'], dtype=object)"
      ]
     },
     "execution_count": 23,
     "metadata": {},
     "output_type": "execute_result"
    }
   ],
   "source": [
    "tate['year'].unique()"
   ]
  },
  {
   "cell_type": "code",
   "execution_count": 24,
   "metadata": {},
   "outputs": [],
   "source": [
    "tate['year'].replace({'no date':np.nan, 'c.1997-9':1997}, inplace = True)"
   ]
  },
  {
   "cell_type": "markdown",
   "metadata": {},
   "source": [
    "Next we made two new columns, one that is the age of the person when they made the work, and the next is a column that will tell if a person was alive or not when the work was acquired by the MoMA"
   ]
  },
  {
   "cell_type": "code",
   "execution_count": 25,
   "metadata": {},
   "outputs": [],
   "source": [
    "tate['age_made'] = pd.to_numeric(tate['year']) - tate['yearOfBirth']\n",
    "tate['alive?'] = tate['year']"
   ]
  },
  {
   "cell_type": "markdown",
   "metadata": {},
   "source": [
    "Finally we utilized the same function and apply method as we did above to make a column determining if the artist was alive or not."
   ]
  },
  {
   "cell_type": "code",
   "execution_count": 26,
   "metadata": {},
   "outputs": [],
   "source": [
    "def test(acquisition,death):\n",
    "    if acquisition > death:\n",
    "        return 'False'\n",
    "    else:\n",
    "        return 'True'\n",
    "tate['alive?'] = tate.apply(lambda row: test(row['acquisitionYear'],row['yearOfDeath']),axis=1)"
   ]
  },
  {
   "cell_type": "markdown",
   "metadata": {},
   "source": [
    "Next we noticed that the placeOfBirth column contained both the city and the country for the majority of the artists. We realized that in order to analyze the country that the artists were from we needed to separate the city from the country, so we made a new column called countryOfOrigin that contained just the country."
   ]
  },
  {
   "cell_type": "code",
   "execution_count": 27,
   "metadata": {},
   "outputs": [],
   "source": [
    "def country(place):\n",
    "    new = str(place).split(',')\n",
    "    if len(new) > 1:\n",
    "        first = re.sub(r\"^\\s+\", \"\", new[1])\n",
    "        return first\n",
    "    else:\n",
    "        return new[0]\n",
    "tate['countryOfOrigin'] = tate.apply(lambda row: country(row['placeOfBirth']), axis=1)"
   ]
  },
  {
   "cell_type": "markdown",
   "metadata": {},
   "source": [
    "After each of those steps our dataframe is now clean and in the format that we want it in, which is displayed below."
   ]
  },
  {
   "cell_type": "code",
   "execution_count": 28,
   "metadata": {},
   "outputs": [
    {
     "data": {
      "text/html": [
       "<div>\n",
       "<style scoped>\n",
       "    .dataframe tbody tr th:only-of-type {\n",
       "        vertical-align: middle;\n",
       "    }\n",
       "\n",
       "    .dataframe tbody tr th {\n",
       "        vertical-align: top;\n",
       "    }\n",
       "\n",
       "    .dataframe thead th {\n",
       "        text-align: right;\n",
       "    }\n",
       "</style>\n",
       "<table border=\"1\" class=\"dataframe\">\n",
       "  <thead>\n",
       "    <tr style=\"text-align: right;\">\n",
       "      <th></th>\n",
       "      <th>id</th>\n",
       "      <th>accession_number</th>\n",
       "      <th>artist</th>\n",
       "      <th>artistRole</th>\n",
       "      <th>artistId</th>\n",
       "      <th>title</th>\n",
       "      <th>medium</th>\n",
       "      <th>year</th>\n",
       "      <th>acquisitionYear</th>\n",
       "      <th>dimensions</th>\n",
       "      <th>gender</th>\n",
       "      <th>placeOfBirth</th>\n",
       "      <th>yearOfBirth</th>\n",
       "      <th>yearOfDeath</th>\n",
       "      <th>age_made</th>\n",
       "      <th>alive?</th>\n",
       "      <th>countryOfOrigin</th>\n",
       "    </tr>\n",
       "  </thead>\n",
       "  <tbody>\n",
       "    <tr>\n",
       "      <th>0</th>\n",
       "      <td>1035</td>\n",
       "      <td>A00001</td>\n",
       "      <td>Blake, Robert</td>\n",
       "      <td>artist</td>\n",
       "      <td>38</td>\n",
       "      <td>A Figure Bowing before a Seated Old Man with h...</td>\n",
       "      <td>Watercolour, ink, chalk and graphite on paper....</td>\n",
       "      <td>NaN</td>\n",
       "      <td>1922.0</td>\n",
       "      <td>support: 394 x 419 mm</td>\n",
       "      <td>Male</td>\n",
       "      <td>London, United Kingdom</td>\n",
       "      <td>1762.0</td>\n",
       "      <td>1787.0</td>\n",
       "      <td>NaN</td>\n",
       "      <td>False</td>\n",
       "      <td>United Kingdom</td>\n",
       "    </tr>\n",
       "    <tr>\n",
       "      <th>1</th>\n",
       "      <td>1036</td>\n",
       "      <td>A00002</td>\n",
       "      <td>Blake, Robert</td>\n",
       "      <td>artist</td>\n",
       "      <td>38</td>\n",
       "      <td>Two Drawings of Frightened Figures, Probably f...</td>\n",
       "      <td>Graphite on paper</td>\n",
       "      <td>NaN</td>\n",
       "      <td>1922.0</td>\n",
       "      <td>support: 311 x 213 mm</td>\n",
       "      <td>Male</td>\n",
       "      <td>London, United Kingdom</td>\n",
       "      <td>1762.0</td>\n",
       "      <td>1787.0</td>\n",
       "      <td>NaN</td>\n",
       "      <td>False</td>\n",
       "      <td>United Kingdom</td>\n",
       "    </tr>\n",
       "    <tr>\n",
       "      <th>2</th>\n",
       "      <td>1037</td>\n",
       "      <td>A00003</td>\n",
       "      <td>Blake, Robert</td>\n",
       "      <td>artist</td>\n",
       "      <td>38</td>\n",
       "      <td>The Preaching of Warning. Verso: An Old Man En...</td>\n",
       "      <td>Graphite on paper. Verso: graphite on paper</td>\n",
       "      <td>1785</td>\n",
       "      <td>1922.0</td>\n",
       "      <td>support: 343 x 467 mm</td>\n",
       "      <td>Male</td>\n",
       "      <td>London, United Kingdom</td>\n",
       "      <td>1762.0</td>\n",
       "      <td>1787.0</td>\n",
       "      <td>23.0</td>\n",
       "      <td>False</td>\n",
       "      <td>United Kingdom</td>\n",
       "    </tr>\n",
       "    <tr>\n",
       "      <th>3</th>\n",
       "      <td>1038</td>\n",
       "      <td>A00004</td>\n",
       "      <td>Blake, Robert</td>\n",
       "      <td>artist</td>\n",
       "      <td>38</td>\n",
       "      <td>Six Drawings of Figures with Outstretched Arms</td>\n",
       "      <td>Graphite on paper</td>\n",
       "      <td>NaN</td>\n",
       "      <td>1922.0</td>\n",
       "      <td>support: 318 x 394 mm</td>\n",
       "      <td>Male</td>\n",
       "      <td>London, United Kingdom</td>\n",
       "      <td>1762.0</td>\n",
       "      <td>1787.0</td>\n",
       "      <td>NaN</td>\n",
       "      <td>False</td>\n",
       "      <td>United Kingdom</td>\n",
       "    </tr>\n",
       "    <tr>\n",
       "      <th>4</th>\n",
       "      <td>1039</td>\n",
       "      <td>A00005</td>\n",
       "      <td>Blake, William</td>\n",
       "      <td>artist</td>\n",
       "      <td>39</td>\n",
       "      <td>The Circle of the Lustful: Francesca da Rimini...</td>\n",
       "      <td>Line engraving on paper</td>\n",
       "      <td>1826</td>\n",
       "      <td>1919.0</td>\n",
       "      <td>image: 243 x 335 mm</td>\n",
       "      <td>Male</td>\n",
       "      <td>London, United Kingdom</td>\n",
       "      <td>1757.0</td>\n",
       "      <td>1827.0</td>\n",
       "      <td>69.0</td>\n",
       "      <td>False</td>\n",
       "      <td>United Kingdom</td>\n",
       "    </tr>\n",
       "  </tbody>\n",
       "</table>\n",
       "</div>"
      ],
      "text/plain": [
       "     id accession_number          artist artistRole  artistId  \\\n",
       "0  1035           A00001   Blake, Robert     artist        38   \n",
       "1  1036           A00002   Blake, Robert     artist        38   \n",
       "2  1037           A00003   Blake, Robert     artist        38   \n",
       "3  1038           A00004   Blake, Robert     artist        38   \n",
       "4  1039           A00005  Blake, William     artist        39   \n",
       "\n",
       "                                               title  \\\n",
       "0  A Figure Bowing before a Seated Old Man with h...   \n",
       "1  Two Drawings of Frightened Figures, Probably f...   \n",
       "2  The Preaching of Warning. Verso: An Old Man En...   \n",
       "3     Six Drawings of Figures with Outstretched Arms   \n",
       "4  The Circle of the Lustful: Francesca da Rimini...   \n",
       "\n",
       "                                              medium  year  acquisitionYear  \\\n",
       "0  Watercolour, ink, chalk and graphite on paper....   NaN           1922.0   \n",
       "1                                  Graphite on paper   NaN           1922.0   \n",
       "2        Graphite on paper. Verso: graphite on paper  1785           1922.0   \n",
       "3                                  Graphite on paper   NaN           1922.0   \n",
       "4                            Line engraving on paper  1826           1919.0   \n",
       "\n",
       "              dimensions gender            placeOfBirth  yearOfBirth  \\\n",
       "0  support: 394 x 419 mm   Male  London, United Kingdom       1762.0   \n",
       "1  support: 311 x 213 mm   Male  London, United Kingdom       1762.0   \n",
       "2  support: 343 x 467 mm   Male  London, United Kingdom       1762.0   \n",
       "3  support: 318 x 394 mm   Male  London, United Kingdom       1762.0   \n",
       "4    image: 243 x 335 mm   Male  London, United Kingdom       1757.0   \n",
       "\n",
       "   yearOfDeath  age_made alive? countryOfOrigin  \n",
       "0       1787.0       NaN  False  United Kingdom  \n",
       "1       1787.0       NaN  False  United Kingdom  \n",
       "2       1787.0      23.0  False  United Kingdom  \n",
       "3       1787.0       NaN  False  United Kingdom  \n",
       "4       1827.0      69.0  False  United Kingdom  "
      ]
     },
     "execution_count": 28,
     "metadata": {},
     "output_type": "execute_result"
    }
   ],
   "source": [
    "tate.head()"
   ]
  },
  {
   "cell_type": "markdown",
   "metadata": {},
   "source": [
    "## Analysis: Trends in the MoMA Dataset"
   ]
  },
  {
   "cell_type": "markdown",
   "metadata": {},
   "source": [
    "### Has MoMA acquired more diverse (based on gender and nationality) works of art in recent years?"
   ]
  },
  {
   "cell_type": "code",
   "execution_count": 29,
   "metadata": {},
   "outputs": [],
   "source": [
    "# number of works by female artists acquired each year \n",
    "female_by_year = moma[moma.Gender == 'Female'].groupby(['Acquisition Year']).count()\n",
    "female_by_year[\"Artwork ID\"]\n",
    "\n",
    "# number of works by non American artists acquired each year \n",
    "nonAmerican_by_year = moma[moma.Nationality != 'American'].groupby(['Acquisition Year']).count()"
   ]
  },
  {
   "cell_type": "code",
   "execution_count": 30,
   "metadata": {},
   "outputs": [
    {
     "data": {
      "text/plain": [
       "<matplotlib.axes._subplots.AxesSubplot at 0x7f0c1e05c940>"
      ]
     },
     "execution_count": 30,
     "metadata": {},
     "output_type": "execute_result"
    },
    {
     "data": {
      "image/png": "[encoded data removed]",
      "text/plain": [
       "<Figure size 1152x360 with 1 Axes>"
      ]
     },
     "metadata": {
      "needs_background": "light"
     },
     "output_type": "display_data"
    }
   ],
   "source": [
    "# The number of works by female acquired each year\n",
    "female_graph = female_by_year[\"Artwork ID\"].plot(kind='bar', figsize=(16, 5), title = \"Number of Works by Female Artists Acquired\")\n",
    "female_graph.figure.tight_layout()\n",
    "female_graph"
   ]
  },
  {
   "cell_type": "code",
   "execution_count": 31,
   "metadata": {},
   "outputs": [
    {
     "data": {
      "image/png": "[encoded data removed]",
      "text/plain": [
       "<Figure size 1152x360 with 1 Axes>"
      ]
     },
     "metadata": {
      "needs_background": "light"
     },
     "output_type": "display_data"
    }
   ],
   "source": [
    "# The number of works by female acquired each year\n",
    "nonAmerican_graph = nonAmerican_by_year[\"Artwork ID\"].plot(kind='bar', figsize=(16, 5), title = \"Number of Works by Non-American Artists Acquired\")\n",
    "nonAmerican_graph.figure.tight_layout()"
   ]
  },
  {
   "cell_type": "markdown",
   "metadata": {},
   "source": [
    "<strong>Conclusion: </strong> There is no discernable pattern in the number of diverse works that MoMA acquires each year. However, in the past 20 years, there has been an increase in years that have a high number of works of art by female or non-American artists."
   ]
  },
  {
   "cell_type": "markdown",
   "metadata": {},
   "source": [
    "### Lorenz Curve and Gini Coefficient"
   ]
  },
  {
   "cell_type": "markdown",
   "metadata": {},
   "source": [
    "I'm gonna write some stuff explaining it here. I think the Lorenz Curve is done but I need to use it to calculate the Gini coefficient (the area in between the blue and orange curve) which I hope should be easy. I also need to go through and clean up the code and comments and write a lil analysis at the end."
   ]
  },
  {
   "cell_type": "code",
   "execution_count": 32,
   "metadata": {
    "scrolled": true
   },
   "outputs": [],
   "source": [
    "# sort the data by acquisition date\n",
    "moma_by_year = moma.sort_values(by=['Acquisition Date'])\n",
    "\n",
    "# split the DataFrame into 10(roughly) equal parts to be the 10 deciles (each representing 10% of the population)\n",
    "# the frist 6 have 13,940 works and the last 4 have 13,939 works\n",
    "df_split = np.array_split(moma_by_year, 10)\n",
    "\n",
    "\n",
    "for i in range(0,10):\n",
    "    df_split[i][\"decile\"] = i+1\n",
    "\n",
    "# combine all of the split DataFrames into one big DataFrame with their corresponding decile number\n",
    "decile_df = pd.concat([df_split[0],df_split[1],df_split[2],df_split[3],df_split[4],df_split[5],df_split[6],df_split[7],df_split[8],df_split[9]])\n"
   ]
  },
  {
   "cell_type": "code",
   "execution_count": 33,
   "metadata": {},
   "outputs": [
    {
     "data": {
      "text/plain": [
       "[0, 13940, 27880, 41820, 55760, 69700, 83640, 97580, 111519, 125458, 139397]"
      ]
     },
     "execution_count": 33,
     "metadata": {},
     "output_type": "execute_result"
    }
   ],
   "source": [
    "# since we need a cumulative population, keep a running count of the current population at each decile\n",
    "\n",
    "total = 0\n",
    "# include 0% of the population in the list of each decile's cumulative population count\n",
    "pop_count = [0]\n",
    "for i in range(10):\n",
    "    total += df_split[i][\"Acquisition Year\"].count()\n",
    "    pop_count.append(total)\n",
    "pop_count"
   ]
  },
  {
   "cell_type": "code",
   "execution_count": 34,
   "metadata": {},
   "outputs": [],
   "source": [
    "female_list = []\n",
    "females = decile_df[decile_df[\"Gender\"] == \"Female\"]\n",
    "\n",
    "\n",
    "# we need the deciles to be cumulative (with the first being 10% of the population, second being 20%, etc.)\n",
    "# this will serve as the y axis for Lorenz curve/gini coefficient calculation\n",
    "\n",
    "for decile_num in range(1,11):\n",
    "    female_list.append(females[females[\"decile\"] == decile_num][\"Acquisition Date\"].count())"
   ]
  },
  {
   "cell_type": "code",
   "execution_count": 35,
   "metadata": {},
   "outputs": [],
   "source": [
    "# calculate the cumulative number of female artists\n",
    "\n",
    "total = 0\n",
    "female_count = [0]\n",
    "for i in range(10):\n",
    "    total += female_list[i]\n",
    "    female_count.append(total)\n"
   ]
  },
  {
   "cell_type": "markdown",
   "metadata": {},
   "source": [
    "We need the cumulative proportion of female artists, so we need to divide the count of female artists by the total population. Similarly, we need to find the proportions of population at each decile. Although it is not exactly 10% of the population since to total number of artworks is not evenly divisible by 10, the proportions were rounded because the difference is negligable."
   ]
  },
  {
   "cell_type": "code",
   "execution_count": 36,
   "metadata": {},
   "outputs": [],
   "source": [
    "# divide female count by total population of all artists\n",
    "total_female = females[\"Acquisition Year\"].count()\n",
    "female_prop = list(map(lambda x: (x/total_female) *100, female_count))\n",
    "female_prop\n",
    "\n",
    "# create a list of all of the cumulative proportions of population\n",
    "population_prop = [0,10,20,30,40,50,60,70,80,90,100]"
   ]
  },
  {
   "cell_type": "code",
   "execution_count": 37,
   "metadata": {},
   "outputs": [],
   "source": [
    "# do we need to use the exact number or is rounding ok????????? this seems kind of unnecessary\n",
    "#total_pop_count = decile_df[\"Acquisition Date\"].count()\n",
    "#population_prop = list(map(lambda x: (x/total_pop_count) *100, pop_count))\n",
    "#population_prop"
   ]
  },
  {
   "cell_type": "code",
   "execution_count": 38,
   "metadata": {},
   "outputs": [
    {
     "data": {
      "text/html": [
       "<div>\n",
       "<style scoped>\n",
       "    .dataframe tbody tr th:only-of-type {\n",
       "        vertical-align: middle;\n",
       "    }\n",
       "\n",
       "    .dataframe tbody tr th {\n",
       "        vertical-align: top;\n",
       "    }\n",
       "\n",
       "    .dataframe thead th {\n",
       "        text-align: right;\n",
       "    }\n",
       "</style>\n",
       "<table border=\"1\" class=\"dataframe\">\n",
       "  <thead>\n",
       "    <tr style=\"text-align: right;\">\n",
       "      <th></th>\n",
       "      <th>cumulative_prop_of_artists</th>\n",
       "      <th>cumulative_proportion_of_female_artists</th>\n",
       "    </tr>\n",
       "  </thead>\n",
       "  <tbody>\n",
       "    <tr>\n",
       "      <th>0</th>\n",
       "      <td>0</td>\n",
       "      <td>0.000000</td>\n",
       "    </tr>\n",
       "    <tr>\n",
       "      <th>1</th>\n",
       "      <td>10</td>\n",
       "      <td>4.831752</td>\n",
       "    </tr>\n",
       "    <tr>\n",
       "      <th>2</th>\n",
       "      <td>20</td>\n",
       "      <td>8.083892</td>\n",
       "    </tr>\n",
       "    <tr>\n",
       "      <th>3</th>\n",
       "      <td>30</td>\n",
       "      <td>11.833809</td>\n",
       "    </tr>\n",
       "    <tr>\n",
       "      <th>4</th>\n",
       "      <td>40</td>\n",
       "      <td>17.773943</td>\n",
       "    </tr>\n",
       "    <tr>\n",
       "      <th>5</th>\n",
       "      <td>50</td>\n",
       "      <td>26.866662</td>\n",
       "    </tr>\n",
       "    <tr>\n",
       "      <th>6</th>\n",
       "      <td>60</td>\n",
       "      <td>45.503418</td>\n",
       "    </tr>\n",
       "    <tr>\n",
       "      <th>7</th>\n",
       "      <td>70</td>\n",
       "      <td>58.711090</td>\n",
       "    </tr>\n",
       "    <tr>\n",
       "      <th>8</th>\n",
       "      <td>80</td>\n",
       "      <td>76.431937</td>\n",
       "    </tr>\n",
       "    <tr>\n",
       "      <th>9</th>\n",
       "      <td>90</td>\n",
       "      <td>90.960377</td>\n",
       "    </tr>\n",
       "    <tr>\n",
       "      <th>10</th>\n",
       "      <td>100</td>\n",
       "      <td>100.000000</td>\n",
       "    </tr>\n",
       "  </tbody>\n",
       "</table>\n",
       "</div>"
      ],
      "text/plain": [
       "    cumulative_prop_of_artists  cumulative_proportion_of_female_artists\n",
       "0                            0                                 0.000000\n",
       "1                           10                                 4.831752\n",
       "2                           20                                 8.083892\n",
       "3                           30                                11.833809\n",
       "4                           40                                17.773943\n",
       "5                           50                                26.866662\n",
       "6                           60                                45.503418\n",
       "7                           70                                58.711090\n",
       "8                           80                                76.431937\n",
       "9                           90                                90.960377\n",
       "10                         100                               100.000000"
      ]
     },
     "execution_count": 38,
     "metadata": {},
     "output_type": "execute_result"
    }
   ],
   "source": [
    "lorenz_curve = pd.DataFrame(list(zip(population_prop, female_prop)),columns =['cumulative_prop_of_artists', 'cumulative_proportion_of_female_artists'])\n",
    "lorenz_curve\n"
   ]
  },
  {
   "cell_type": "code",
   "execution_count": 39,
   "metadata": {},
   "outputs": [
    {
     "data": {
      "text/plain": [
       "Text(0, 0.5, 'cumulative proportion of female artists')"
      ]
     },
     "execution_count": 39,
     "metadata": {},
     "output_type": "execute_result"
    },
    {
     "data": {
      "image/png": "[encoded data removed]",
      "text/plain": [
       "<Figure size 432x288 with 1 Axes>"
      ]
     },
     "metadata": {
      "needs_background": "light"
     },
     "output_type": "display_data"
    }
   ],
   "source": [
    "# I don't really understand what's going on here\n",
    "\n",
    "fig,ax = plot.subplots()\n",
    "\n",
    "\n",
    "ax.plot(lorenz_curve)\n",
    "\n",
    "ax.set_xlabel(\"cumulative proportion of population\")\n",
    "ax.set_ylabel(\"cumulative proportion of female artists\")"
   ]
  },
  {
   "cell_type": "code",
   "execution_count": 40,
   "metadata": {},
   "outputs": [],
   "source": [
    "#female = moma_by_year[moma_by_year[\"Gender\"] == \"Female\"]\n",
    "\n",
    "\n",
    "#X_lorenz = X.cumsum() / X.sum()\n",
    "#X_lorenz = np.insert(X_lorenz, 0, 0)\n",
    "#X_lorenz[0], X_lorenz[-1]"
   ]
  },
  {
   "cell_type": "markdown",
   "metadata": {},
   "source": [
    "## Analysis: Tate vs MoMA"
   ]
  },
  {
   "cell_type": "markdown",
   "metadata": {},
   "source": [
    "The first analysis that we will do will show the difference in diversity of non-European artists between the MoMA and the Tate. The Tate uses the country name while the MoMA uses the designation. For example: American vs America, French vs France. So in order to do the analysis we need to be aware of this discrepancy. When deciding whether a country was designated as European or not we refered to a list of European countries from this website: https://datahub.io/opendatafortaxjustice/listofeucountries#resource-listofeucountries"
   ]
  },
  {
   "cell_type": "markdown",
   "metadata": {},
   "source": [
    "The names of the countries for the Tate dataset were especially difficult to work with beacuse of the number of differences in the name titles. The majority of the names were in the countries native language or there was a city name rather than a country. Because of this we had to manually go through and check for what we wanted by looking at the unique values and then adding them to the list. "
   ]
  },
  {
   "cell_type": "code",
   "execution_count": 41,
   "metadata": {
    "scrolled": true
   },
   "outputs": [
    {
     "data": {
      "text/plain": [
       "array(['United Kingdom', 'nan', 'Bharat', 'France', 'Italia', 'Viet Nam',\n",
       "       'Deutschland', 'Rossiya', 'United States', 'Bahamas', 'Australia',\n",
       "       'Ellás', 'België', 'Latvija', 'Canada', 'Éire', 'Schweiz',\n",
       "       'Plymouth', 'Edinburgh', 'España', 'Nederland', 'Beckington',\n",
       "       'Perth', 'Wimbledon', 'Canterbury', 'Danmark', 'Türkiye',\n",
       "       'Österreich', 'Blackheath', 'Charlieu', 'Isle of Man',\n",
       "       'Magyarország', 'Hrvatska', 'Chile', 'Epsom', 'Auteuil',\n",
       "       'Kensington', 'South Africa', 'Mauritius', 'Rochdale', 'Melmerby',\n",
       "       'Ukrayina', 'Sverige', 'Département de la', 'New Zealand',\n",
       "       'România', 'Otok', 'Charlotte Amalie', 'Schlesien', 'Saint Hélier',\n",
       "       'Polska', 'Misr', 'Bermondsey', 'Egremont', 'Norge', 'Braintree',\n",
       "       'Liverpool', 'Belarus', 'Stoke on Trent', 'Zhonghua', 'Portugal',\n",
       "       'Cuba', 'Moldova', 'Singapore', 'Nihon', 'Brasil', 'Staten Island',\n",
       "       'México', 'Bosna i Hercegovina', 'Slovenija',\n",
       "       'Slovenská Republika', 'Ceská Republika', 'Myanmar', \"Yisra'el\",\n",
       "       'Chung-hua Min-kuo', 'D.C.', 'Colombia', 'Sri Lanka', 'Indonesia',\n",
       "       'Jugoslavija', 'Bulgaria', 'Samoa', 'Argentina', 'Barbados',\n",
       "       \"Taehan Min'guk\", 'Îran', 'Niederschlesien', 'Al-Lubnan',\n",
       "       'Pakistan', 'Panamá', 'Zimbabwe', 'Zambia', 'Suriyah', 'Cameroun',\n",
       "       'Nigeria', 'Bangladesh', \"Al-Jaza'ir\", 'Lietuva', 'Solothurn',\n",
       "       'Makedonija', 'Venezuela', 'Malaysia', 'Douglas', 'London',\n",
       "       'Tunis', 'Bristol', 'Armenia', 'Eesti', 'Jamaica', 'Guyana',\n",
       "       'Montserrat', 'Tanzania', 'Ísland', 'Mehoz', 'Suomi',\n",
       "       'Hertfordshire', 'Stockholm', 'Luxembourg', 'Shqipëria', 'Uganda',\n",
       "       'Perú', 'Pilipinas', 'Malta', 'Kenya', 'Lao', 'Al-‘Iraq',\n",
       "       'Nicaragua', 'Prathet Thai', \"Choson Minjujuui In'min Konghwaguk\",\n",
       "       'As-Sudan'], dtype=object)"
      ]
     },
     "execution_count": 41,
     "metadata": {},
     "output_type": "execute_result"
    }
   ],
   "source": [
    "tate['countryOfOrigin'].unique()"
   ]
  },
  {
   "cell_type": "markdown",
   "metadata": {},
   "source": [
    "First we replaced \"nan\" with np.nan and then we created a new dataframe that didn't contain any np.nans for country of origin"
   ]
  },
  {
   "cell_type": "code",
   "execution_count": 42,
   "metadata": {},
   "outputs": [],
   "source": [
    "tate['countryOfOrigin'] = tate['countryOfOrigin'].replace({'nan':np.nan})\n",
    "tate_country = tate[tate['countryOfOrigin'].isnull() == False]\n",
    "#designation wasn't properly set so had to remove the works that didn't have a country of origin"
   ]
  },
  {
   "cell_type": "markdown",
   "metadata": {},
   "source": [
    "Next we created a list of the countries, a function to make a new column and insert true or false if it was a european country or not."
   ]
  },
  {
   "cell_type": "code",
   "execution_count": 43,
   "metadata": {},
   "outputs": [],
   "source": [
    "countries_tate = ['Austria','Belgium','Bulgaria','Croatia','Cyprus','Czech Republic','Denmark','Estonia','Finland','France','Germany',\n",
    "'Greece','Hungary','Ireland','Italy','Latvia','Luxembourg','Lithuania','Malta','Netherlands','Poland','Portugal',\n",
    "'Romania','Slovak Republic','Slovenia','Spain','Sweden','United Kingdom', 'Deutschland', 'Italia','London','Ceská Republika',\n",
    " 'D.C.',  'Staten Island','Liverpool', 'Polska', 'România', 'España', 'Edinburgh', 'Canada','United States', 'Stoke on Trent',\n",
    "                 'Ellás','België', 'Latvija','Nederland','Wimbledon','Canterbury', 'Danmark','Österreich','Blackheath',\n",
    "                  'Bermondsey', 'Egremont', 'Norge', 'Braintree','Liverpool','Bristol','Eesti','Hertfordshire', 'Stockholm', 'Luxembourg'\n",
    "                 ]\n",
    "non_european = []\n",
    "def european_tate(country):\n",
    "    if country in countries_tate:\n",
    "        return 'True'\n",
    "    elif country == np.nan:\n",
    "        return np.nan\n",
    "    else:\n",
    "        if country in non_european:\n",
    "            return 'False'\n",
    "        else:\n",
    "            non_european.append(country)\n",
    "            return 'False'        "
   ]
  },
  {
   "cell_type": "markdown",
   "metadata": {},
   "source": [
    "Then we applied the function to the tate dataset"
   ]
  },
  {
   "cell_type": "code",
   "execution_count": 44,
   "metadata": {},
   "outputs": [
    {
     "name": "stderr",
     "output_type": "stream",
     "text": [
      "<ipython-input-44-a6071a616069>:1: SettingWithCopyWarning: \n",
      "A value is trying to be set on a copy of a slice from a DataFrame.\n",
      "Try using .loc[row_indexer,col_indexer] = value instead\n",
      "\n",
      "See the caveats in the documentation: https://pandas.pydata.org/pandas-docs/stable/user_guide/indexing.html#returning-a-view-versus-a-copy\n",
      "  tate_country['European?'] = tate_country.apply(lambda row: european_tate(row['countryOfOrigin']), axis=1)\n"
     ]
    }
   ],
   "source": [
    "tate_country['European?'] = tate_country.apply(lambda row: european_tate(row['countryOfOrigin']), axis=1)"
   ]
  },
  {
   "cell_type": "markdown",
   "metadata": {},
   "source": [
    "After getting the Tate the form that we want, it's time to get the MoMA in shape. The first thing that we need to do, like we did for the Tate is check out the nationality."
   ]
  },
  {
   "cell_type": "code",
   "execution_count": 45,
   "metadata": {},
   "outputs": [
    {
     "data": {
      "text/plain": [
       "array(['Austrian', 'French', nan, 'American', 'German', 'Swedish',\n",
       "       'British', 'Japanese', 'Italian', 'Argentine', 'Swiss',\n",
       "       'Brazilian', 'Luxembourgish', 'Spanish', 'Dutch', 'Russian',\n",
       "       'Iranian', 'Finnish', 'Danish', 'Belgian', 'Nationality unknown',\n",
       "       'Mexican', 'Czech', 'Romanian', 'Polish', 'Cuban', 'Chilean',\n",
       "       'Puerto Rican', 'Uruguayan', 'Venezuelan', 'Moroccan', 'Colombian',\n",
       "       'Australian', 'Chinese', 'Yugoslav', 'Hungarian', 'Canadian',\n",
       "       'Slovenian', 'Latvian', 'Nationality Unknown', 'Various', 'Greek',\n",
       "       'Haitian', 'Israeli', 'Icelandic', 'Czechoslovakian', 'Croatian',\n",
       "       'Norwegian', 'Thai', 'Algerian', 'Guatemalan', 'Indian',\n",
       "       'Ukrainian', 'Irish', 'Costa Rican', 'Korean', 'Ethiopian',\n",
       "       'Kuwaiti', 'Scottish', 'South African', 'Zimbabwean', 'Portuguese',\n",
       "       'Panamanian', 'Ecuadorian', 'Peruvian', 'Congolese', 'Malian',\n",
       "       'Turkish', 'Cambodian', 'Bosnian', 'Canadian Inuit', 'Slovak',\n",
       "       'Estonian', 'Pakistani', 'Bolivian', 'Taiwanese', 'Paraguayan',\n",
       "       'Nicaraguan', 'Tunisian', 'Sudanese', 'Tanzanian', 'Guyanese',\n",
       "       'Senegalese', 'Bahamian', 'Bulgarian', 'Lebanese', 'Kenyan',\n",
       "       'Nigerian', 'Georgian', 'Egyptian', 'Albanian', 'Azerbaijani',\n",
       "       'Ivorian', 'Malaysian', 'Singaporean', 'Serbian', 'Lithuanian',\n",
       "       'Tajik', 'New Zealander', 'Namibian', 'Native American',\n",
       "       'Ghanaian', 'Afghan', 'nationality unknown', 'Ugandan',\n",
       "       'Cameroonian', 'Welsh', 'Mauritanian', 'Palestinian', 'Syrian',\n",
       "       'Saudi Arabian', 'Kazakhstani', 'Rwandan', 'Iraqi', 'Indonesian',\n",
       "       'Vietnamese', 'Burkinabe', 'Macedonian', 'Kyrgyzstani', 'Filipino',\n",
       "       'Mozambican', 'Angolan'], dtype=object)"
      ]
     },
     "execution_count": 45,
     "metadata": {},
     "output_type": "execute_result"
    }
   ],
   "source": [
    "names_dates_moma['Nationality'].unique()"
   ]
  },
  {
   "cell_type": "markdown",
   "metadata": {},
   "source": [
    "From looking at these unique values we can see that there are a couple of ways to designate if a person had an unknown nationality, which we deal with below. But all the nationalities, if they exhist, are in English and in a correct format."
   ]
  },
  {
   "cell_type": "code",
   "execution_count": 46,
   "metadata": {},
   "outputs": [
    {
     "name": "stderr",
     "output_type": "stream",
     "text": [
      "/opt/conda/lib/python3.8/site-packages/pandas/core/series.py:4563: SettingWithCopyWarning: \n",
      "A value is trying to be set on a copy of a slice from a DataFrame\n",
      "\n",
      "See the caveats in the documentation: https://pandas.pydata.org/pandas-docs/stable/user_guide/indexing.html#returning-a-view-versus-a-copy\n",
      "  return super().replace(\n"
     ]
    }
   ],
   "source": [
    "names_dates_moma['Nationality'].replace({'nan':np.nan,'Nationality unknown':np.nan,'Nationality Unknown':np.nan,\n",
    "                                        'Various':np.nan,'nationality unknown':np.nan}, inplace = True)"
   ]
  },
  {
   "cell_type": "markdown",
   "metadata": {},
   "source": [
    "In order to tell if the person is european or not, we mad a list of all the nationalities that the MoMA has that are non-European/Western nationalities."
   ]
  },
  {
   "cell_type": "code",
   "execution_count": 47,
   "metadata": {},
   "outputs": [],
   "source": [
    "nationalities_moma = ['Japanese',  'Argentine', \n",
    " 'Brazilian', 'Russian',\n",
    "       'Iranian',\n",
    "       'Mexican', 'Cuban', 'Chilean',\n",
    "       'Puerto Rican', 'Uruguayan', 'Venezuelan', 'Moroccan', 'Colombian',\n",
    "       'Australian', 'Chinese', 'Yugoslav', 'Latvian',\n",
    "       'Haitian', 'Israeli', 'Icelandic', 'Thai', 'Algerian', 'Guatemalan', 'Indian',\n",
    "       'Ukrainian', 'Costa Rican', 'Korean', 'Ethiopian',\n",
    "       'Kuwaiti', 'South African', 'Zimbabwean',\n",
    "       'Panamanian', 'Ecuadorian', 'Peruvian', 'Congolese', 'Malian',\n",
    "       'Turkish', 'Cambodian', 'Bosnian', 'Canadian Inuit',\n",
    "       'Estonian', 'Pakistani', 'Bolivian', 'Taiwanese', 'Paraguayan',\n",
    "       'Nicaraguan', 'Tunisian', 'Sudanese', 'Tanzanian', 'Guyanese',\n",
    "       'Senegalese', 'Bahamian', 'Lebanese', 'Kenyan',\n",
    "       'Nigerian', 'Georgian', 'Egyptian', 'Albanian', 'Azerbaijani',\n",
    "       'Ivorian', 'Malaysian', 'Singaporean', 'Serbian', 'Lithuanian',\n",
    "       'Tajik', 'New Zealander', 'Namibian', 'Native American',\n",
    "       'Ghanaian', 'Afghan', 'Ugandan',\n",
    "       'Cameroonian', 'Welsh', 'Mauritanian', 'Palestinian', 'Syrian',\n",
    "       'Saudi Arabian', 'Kazakhstani', 'Rwandan', 'Iraqi', 'Indonesian',\n",
    "       'Vietnamese', 'Burkinabe', 'Macedonian', 'Kyrgyzstani', 'Filipino',\n",
    "       'Mozambican', 'Angolan']"
   ]
  },
  {
   "cell_type": "markdown",
   "metadata": {},
   "source": [
    "Then we made a function for the MoMA, like we had for the Tate, that designated if a person was European/Western or not, created a new column, and placed it in the MoMA dataframe."
   ]
  },
  {
   "cell_type": "code",
   "execution_count": 48,
   "metadata": {},
   "outputs": [],
   "source": [
    "def european_moma(country):\n",
    "    if country in nationalities_moma:\n",
    "        return 'False'\n",
    "    elif country == np.nan:\n",
    "        return np.nan\n",
    "    else:\n",
    "        return 'True'"
   ]
  },
  {
   "cell_type": "code",
   "execution_count": 49,
   "metadata": {},
   "outputs": [
    {
     "name": "stderr",
     "output_type": "stream",
     "text": [
      "<ipython-input-49-de5aecd4c201>:1: SettingWithCopyWarning: \n",
      "A value is trying to be set on a copy of a slice from a DataFrame.\n",
      "Try using .loc[row_indexer,col_indexer] = value instead\n",
      "\n",
      "See the caveats in the documentation: https://pandas.pydata.org/pandas-docs/stable/user_guide/indexing.html#returning-a-view-versus-a-copy\n",
      "  names_dates_moma['European?'] = names_dates_moma.apply(lambda row: european_moma(row['Nationality']), axis=1)\n"
     ]
    }
   ],
   "source": [
    "names_dates_moma['European?'] = names_dates_moma.apply(lambda row: european_moma(row['Nationality']), axis=1)"
   ]
  },
  {
   "cell_type": "markdown",
   "metadata": {},
   "source": [
    "Similarly, we also want to find out which of the artists are American, so we added a column to designate wheter or not the artist was American. It could be interesting to compare this to the Tate data."
   ]
  },
  {
   "cell_type": "markdown",
   "metadata": {},
   "source": [
    "Now that the datasets are in similar formats we can start comparisons and anaylsis. But, the Tate data stopped collecting in 2013, so need to make MoMA align with them."
   ]
  },
  {
   "cell_type": "code",
   "execution_count": 50,
   "metadata": {},
   "outputs": [
    {
     "data": {
      "text/plain": [
       "2013.0"
      ]
     },
     "execution_count": 50,
     "metadata": {},
     "output_type": "execute_result"
    }
   ],
   "source": [
    "tate_country['acquisitionYear'].max()"
   ]
  },
  {
   "cell_type": "code",
   "execution_count": 51,
   "metadata": {
    "scrolled": true
   },
   "outputs": [],
   "source": [
    "# create a new DataFrame of all of the works before 2013\n",
    "d = datetime.datetime(2014, 1, 1)\n",
    "moma_before_2013 = names_dates_moma[names_dates_moma['Acquisition Date'] < d]\n",
    "moma_after_2013 = names_dates_moma[names_dates_moma['Acquisition Date'] > d]"
   ]
  },
  {
   "cell_type": "markdown",
   "metadata": {},
   "source": [
    "### How does the diversity of the two museums compare?"
   ]
  },
  {
   "cell_type": "markdown",
   "metadata": {},
   "source": [
    "#### Comparing Western vs non-Western Art in each museum"
   ]
  },
  {
   "cell_type": "markdown",
   "metadata": {},
   "source": [
    "The first visualization that we made, compares the diversity of the artists at both the Tate and the MoMA by looking at how many artists are Western or non-Western."
   ]
  },
  {
   "cell_type": "code",
   "execution_count": 52,
   "metadata": {},
   "outputs": [],
   "source": [
    "# get the counts of works by Western and non-Western artists in MoMA before 2013\n",
    "moma_European = moma_before_2013['European?'].value_counts()"
   ]
  },
  {
   "cell_type": "code",
   "execution_count": 53,
   "metadata": {},
   "outputs": [],
   "source": [
    "# get the counts of works by Western and non-Western artists in the Tate\n",
    "tate_European = tate_country['European?'].value_counts()"
   ]
  },
  {
   "cell_type": "code",
   "execution_count": 54,
   "metadata": {},
   "outputs": [
    {
     "data": {
      "image/png": "[encoded data removed]",
      "text/plain": [
       "<Figure size 864x864 with 2 Axes>"
      ]
     },
     "metadata": {},
     "output_type": "display_data"
    }
   ],
   "source": [
    "# create and format pie charts\n",
    "fig, (ax1, ax2) = plot.subplots(1, 2)\n",
    "moma_European.plot.pie(ax=ax1)\n",
    "ax1.set_title(\"MoMA Western vs Non Western\")\n",
    "\n",
    "tate_European.plot.pie(ax=ax2)\n",
    "ax2.set_title(\"Tate Western vs Non Western\")\n",
    "\n",
    "fig.subplots_adjust(wspace=.5)\n",
    "fig.set_figheight(12)\n",
    "fig.set_figwidth(12)"
   ]
  },
  {
   "cell_type": "markdown",
   "metadata": {},
   "source": [
    "<strong> Conclusion: </strong> This comparison shows that the MoMA, even before its renovation, was ahead of the Tate with regard to artists who were not of European or Western descent."
   ]
  },
  {
   "cell_type": "markdown",
   "metadata": {},
   "source": [
    "### Comparing Art by Male vs Female artists in each museum"
   ]
  },
  {
   "cell_type": "markdown",
   "metadata": {},
   "source": [
    "Next we chose to look at the differences in sizes of the male and female population at both the Tate and the MoMA, as this was another area that the MoMA was striving the improve."
   ]
  },
  {
   "cell_type": "code",
   "execution_count": 55,
   "metadata": {},
   "outputs": [],
   "source": [
    "# get the counts of works by male and female artists in MoMA before 2013\n",
    "moma_gender = moma_before_2013['Gender'].value_counts()"
   ]
  },
  {
   "cell_type": "code",
   "execution_count": 56,
   "metadata": {},
   "outputs": [],
   "source": [
    "# get the counts of works by male and female artists in the Tate\n",
    "tate_gender = tate_country['gender'].value_counts()"
   ]
  },
  {
   "cell_type": "code",
   "execution_count": 57,
   "metadata": {},
   "outputs": [
    {
     "data": {
      "image/png": "[encoded data removed]",
      "text/plain": [
       "<Figure size 864x864 with 2 Axes>"
      ]
     },
     "metadata": {},
     "output_type": "display_data"
    }
   ],
   "source": [
    "# create and format pie charts\n",
    "fig, (ax3, ax4) = plot.subplots(1, 2)\n",
    "moma_gender.plot.pie(ax=ax3)\n",
    "ax3.set_title(\"MoMA Male vs Female Artists\")\n",
    "\n",
    "tate_gender.plot.pie(ax=ax4)\n",
    "ax4.set_title(\"Tate Male vs Female Artists\")\n",
    "\n",
    "fig.subplots_adjust(wspace=.5)\n",
    "fig.set_figheight(12)\n",
    "fig.set_figwidth(12)"
   ]
  },
  {
   "cell_type": "markdown",
   "metadata": {},
   "source": [
    "<strong> Conclusion: </strong>This is an interesting comparison, as it once again shows that the MoMA has a greater diversity than the Tate did before its renovation, as it has a much larger proportion of female artists to male artists."
   ]
  },
  {
   "cell_type": "markdown",
   "metadata": {},
   "source": [
    "### Comparing Art by Male vs Female artists of nonWestern art in each museum"
   ]
  },
  {
   "cell_type": "markdown",
   "metadata": {},
   "source": [
    "What about the male/female ratio when looking at non-European/Western artists? \n"
   ]
  },
  {
   "cell_type": "code",
   "execution_count": 58,
   "metadata": {},
   "outputs": [],
   "source": [
    "# get the counts of Western and non-Western works by gender in MoMA before 2013\n",
    "moma_western_gender = moma_before_2013[moma_before_2013['European?'] == 'False']['Gender'].value_counts()"
   ]
  },
  {
   "cell_type": "code",
   "execution_count": 59,
   "metadata": {},
   "outputs": [],
   "source": [
    "# get the counts of Western and non-Western works by gender in the Tate\n",
    "tate_western_gender = tate_country[tate_country['European?'] == 'False']['gender'].value_counts()"
   ]
  },
  {
   "cell_type": "code",
   "execution_count": 60,
   "metadata": {},
   "outputs": [
    {
     "data": {
      "image/png": "[encoded data removed]",
      "text/plain": [
       "<Figure size 864x864 with 2 Axes>"
      ]
     },
     "metadata": {},
     "output_type": "display_data"
    }
   ],
   "source": [
    "# create and format pie charts\n",
    "fig, (ax5, ax6) = plot.subplots(1, 2)\n",
    "moma_western_gender.plot.pie(ax=ax5)\n",
    "ax5.set_title(\"MoMA Non Western Male vs Female Artists\")\n",
    "\n",
    "tate_western_gender.plot.pie(ax=ax6)\n",
    "ax6.set_title(\"Tate Non Western Male vs Female Artists\")\n",
    "\n",
    "fig.subplots_adjust(wspace=.5)\n",
    "fig.set_figheight(12)\n",
    "fig.set_figwidth(12)"
   ]
  },
  {
   "cell_type": "markdown",
   "metadata": {},
   "source": [
    "<strong>Conclusion: </strong> The data shows that  MoMA has a larger of female non-Western/european artists than the Tate, but this difference is smaller than the one above.\n"
   ]
  },
  {
   "cell_type": "markdown",
   "metadata": {},
   "source": [
    "### But what do these comparisons look like over time?"
   ]
  },
  {
   "cell_type": "markdown",
   "metadata": {},
   "source": [
    "In order to really understand the comparisons above we need to see how they compare over time, for instance did the MoMA more recently acquire more european works? Or did the Tate always have a smaller number of works by female artists?"
   ]
  },
  {
   "cell_type": "markdown",
   "metadata": {},
   "source": [
    "The first one we will compare is the change over time for acquisition of works by non-European artists. When comparing we are mindful of the differences in size between the MoMA and the Tate, as we are not comparing by proportion, but by direction number. In order to do this we analyzed the size differences between the MoMA and the Tate."
   ]
  },
  {
   "cell_type": "code",
   "execution_count": 61,
   "metadata": {
    "scrolled": true
   },
   "outputs": [
    {
     "data": {
      "text/plain": [
       "0.523037630369978"
      ]
     },
     "execution_count": 61,
     "metadata": {},
     "output_type": "execute_result"
    }
   ],
   "source": [
    "tate_len = len(tate_country)\n",
    "moma_2013_len = len(moma_before_2013)\n",
    "percent_diff_tate_moma = tate_len/moma_2013_len\n",
    "percent_diff_tate_moma"
   ]
  },
  {
   "cell_type": "markdown",
   "metadata": {},
   "source": [
    "From our analysis we can see that there are about 2x the number of MoMA works as there are works from the Tate. To fixe this problem we will be multiplying the MoMA value counts by the Tate/MoMA value so that they are proportional and the graphs are not squewed."
   ]
  },
  {
   "cell_type": "code",
   "execution_count": 62,
   "metadata": {},
   "outputs": [
    {
     "name": "stderr",
     "output_type": "stream",
     "text": [
      "<ipython-input-62-ccf1a60d4649>:19: SettingWithCopyWarning: \n",
      "A value is trying to be set on a copy of a slice from a DataFrame.\n",
      "Try using .loc[row_indexer,col_indexer] = value instead\n",
      "\n",
      "See the caveats in the documentation: https://pandas.pydata.org/pandas-docs/stable/user_guide/indexing.html#returning-a-view-versus-a-copy\n",
      "  moma_before_2013['acquisitionYear'] = moma_before_2013['Acquisition Date'].dt.year\n"
     ]
    },
    {
     "data": {
      "text/plain": [
       "<matplotlib.axes._subplots.AxesSubplot at 0x7f0c1f90fe50>"
      ]
     },
     "execution_count": 62,
     "metadata": {},
     "output_type": "execute_result"
    },
    {
     "data": {
      "image/png": "[encoded data removed]",
      "text/plain": [
       "<Figure size 720x504 with 1 Axes>"
      ]
     },
     "metadata": {
      "needs_background": "light"
     },
     "output_type": "display_data"
    }
   ],
   "source": [
    "#create a new table grouping by the acquisition year artists who are non-European\n",
    "acquisitionYear = pd.DataFrame(tate_country[tate_country['European?'] == 'False'].groupby('acquisitionYear')['European?'].value_counts())\n",
    "#adding a new column that is the same as European and then removing European\n",
    "acquisitionYear['count'] = acquisitionYear['European?']\n",
    "acquisitionYear.drop(columns = ['European?'], inplace = True)\n",
    "#resetting the index and dropping the old index\n",
    "acquisitionYear = acquisitionYear.reset_index()\n",
    "acquisitionYear.drop(columns = ['European?'], inplace = True)\n",
    "#only taking the years from 1975 so that the analysis is more clear\n",
    "acquisitionYear = acquisitionYear[acquisitionYear['acquisitionYear']>1975]\n",
    "#setting the year as an integer\n",
    "acquisitionYear['acquisitionYear'] = acquisitionYear['acquisitionYear'].astype(int)\n",
    "#adding in the designation for which museum it is from\n",
    "acquisitionYear['table'] = \"Tate\"\n",
    "#making a pivot table out of the previous table\n",
    "pivot = acquisitionYear.pivot(index='acquisitionYear', columns = 'table', values = 'count')\n",
    "\n",
    "#walking through the same steps but for the MoMA table\n",
    "moma_before_2013['acquisitionYear'] = moma_before_2013['Acquisition Date'].dt.year\n",
    "acquisitionYear1 = pd.DataFrame(moma_before_2013[moma_before_2013['European?'] == 'False'].groupby('acquisitionYear')['European?'].value_counts()*percent_diff_tate_moma)\n",
    "acquisitionYear1['count'] = acquisitionYear1['European?']\n",
    "acquisitionYear1.drop(columns = ['European?'], inplace = True)\n",
    "acquisitionYear1 = acquisitionYear1.reset_index()\n",
    "acquisitionYear1.drop(columns = ['European?'], inplace = True)\n",
    "acquisitionYear1 = acquisitionYear1[acquisitionYear1['acquisitionYear']>1975]\n",
    "acquisitionYear1['table'] = \"Moma\"\n",
    "pivot1 = acquisitionYear1.pivot(index='acquisitionYear', columns = 'table', values = 'count')\n",
    "\n",
    "#merging the two tables together on acquisitionYear\n",
    "new = pivot1.merge(pivot, on = 'acquisitionYear')\n",
    "\n",
    "#plotting the graph\n",
    "new.loc[:,['Moma','Tate']].plot.bar(stacked=True, figsize=(10,7), title = \"Comparing non-European art acquired over a 38 year period\")"
   ]
  },
  {
   "cell_type": "markdown",
   "metadata": {},
   "source": [
    "<strong>Conclusion:</strong> From this graph we can see that the MoMA didn't begin to really overtake the Tate in the number of non-European art acquired until the early to mid 2000s, and it dramatically grew its art acquired during 2012. It shows how the MoMA began to ramp up the number of works that it acquired, slowly inching ahead of the Tate, but that for many years the Tate was not far behind."
   ]
  },
  {
   "cell_type": "markdown",
   "metadata": {},
   "source": [
    "Next we do a similar analysis for the non-European acquisition overtime, but this time for acquisition of art by a female artist, still making sure to account for the difference in sizes between the MoMA and the Tate."
   ]
  },
  {
   "cell_type": "code",
   "execution_count": 63,
   "metadata": {
    "scrolled": false
   },
   "outputs": [
    {
     "name": "stderr",
     "output_type": "stream",
     "text": [
      "<ipython-input-63-4df5f7542155>:12: SettingWithCopyWarning: \n",
      "A value is trying to be set on a copy of a slice from a DataFrame.\n",
      "Try using .loc[row_indexer,col_indexer] = value instead\n",
      "\n",
      "See the caveats in the documentation: https://pandas.pydata.org/pandas-docs/stable/user_guide/indexing.html#returning-a-view-versus-a-copy\n",
      "  moma_before_2013['acquisitionYear'] = moma_before_2013['Acquisition Date'].dt.year\n"
     ]
    },
    {
     "data": {
      "text/plain": [
       "<matplotlib.axes._subplots.AxesSubplot at 0x7f0c1f7a2700>"
      ]
     },
     "execution_count": 63,
     "metadata": {},
     "output_type": "execute_result"
    },
    {
     "data": {
      "image/png": "[encoded data removed]",
      "text/plain": [
       "<Figure size 720x504 with 1 Axes>"
      ]
     },
     "metadata": {
      "needs_background": "light"
     },
     "output_type": "display_data"
    }
   ],
   "source": [
    "#we use the same process as above, with the exception of switching out the column European? for gender in each instance\n",
    "acquisitionYear = pd.DataFrame(tate_country[tate_country['gender'] == 'Female'].groupby('acquisitionYear')['gender'].value_counts())\n",
    "acquisitionYear['count'] = acquisitionYear['gender']\n",
    "acquisitionYear.drop(columns = ['gender'], inplace = True)\n",
    "acquisitionYear = acquisitionYear.reset_index()\n",
    "acquisitionYear = acquisitionYear[acquisitionYear['acquisitionYear']>1975]\n",
    "acquisitionYear['acquisitionYear'] = acquisitionYear['acquisitionYear'].astype(int)\n",
    "acquisitionYear['table'] = \"Tate\"\n",
    "acquisitionYear.drop(columns = ['gender'], inplace = True)\n",
    "pivot = acquisitionYear.pivot(index='acquisitionYear', columns = 'table', values = 'count')\n",
    "\n",
    "moma_before_2013['acquisitionYear'] = moma_before_2013['Acquisition Date'].dt.year\n",
    "acquisitionYear1 = pd.DataFrame(moma_before_2013[moma_before_2013['Gender'] == 'Female'].groupby('acquisitionYear')['Gender'].value_counts()*percent_diff_tate_moma)\n",
    "acquisitionYear1['count'] = acquisitionYear1['Gender']\n",
    "acquisitionYear1.drop(columns = ['Gender'], inplace = True)\n",
    "acquisitionYear1 = acquisitionYear1.reset_index()\n",
    "acquisitionYear1 = acquisitionYear1[acquisitionYear1['acquisitionYear']>1975]\n",
    "acquisitionYear1['table'] = \"Moma\"\n",
    "acquisitionYear1.drop(columns = ['Gender'], inplace = True)\n",
    "pivot1 = acquisitionYear1.pivot(index='acquisitionYear', columns = 'table', values = 'count')\n",
    "\n",
    "new = pivot1.merge(pivot, on = 'acquisitionYear')\n",
    "\n",
    "new.loc[:,['Moma','Tate']].plot.bar(stacked=True, figsize=(10,7), title = \"Comparing amount of art created by a female artists acquired over a 38 year period\")\n"
   ]
  },
  {
   "cell_type": "markdown",
   "metadata": {},
   "source": [
    "<strong>Conclusion:</strong> From this graph we can see that the MoMA has much more consistently acquired more works by female artists than the Tate, even when accounting for a difference in size. Unlike the graph above that looked at non-European artists, there are only 2 to 3 years that the MoMA does not acquire more art by a female artist than the Tate. This shows that the MoMA has continually been collecting more art by female artists over time."
   ]
  },
  {
   "cell_type": "markdown",
   "metadata": {},
   "source": [
    "Overall Conclusion: The MoMA first majorily expanded its museum starting in 2002, and opened the new facility in 2004. "
   ]
  },
  {
   "cell_type": "markdown",
   "metadata": {},
   "source": [
    "### Do countries favor their own art over foreign art? Could this be a bias towards American or British art across many museums?"
   ]
  },
  {
   "cell_type": "markdown",
   "metadata": {},
   "source": [
    "We next examined the proportion of British works in the Tate, the proportion of American works in the MoMA, the proportion of American works in the Tate, and the proportion of British works in MoMA to see if the museums tended to collect more work created by artists from their respective countries or if there was a significant bias towards American art in the Tate or British art in MoMA."
   ]
  },
  {
   "cell_type": "code",
   "execution_count": 64,
   "metadata": {},
   "outputs": [],
   "source": [
    "# find the proportion of British works in the Tate\n",
    "tate_country = tate_country.assign(British=np.where(tate_country['countryOfOrigin']==\"United Kingdom\", True, False))\n",
    "tate_British_prop = (tate_country[\"British\"] == True).mean()"
   ]
  },
  {
   "cell_type": "code",
   "execution_count": 65,
   "metadata": {},
   "outputs": [],
   "source": [
    "# Find the proportion of American art in MoMA\n",
    "names_dates_moma = names_dates_moma.assign(American=np.where(names_dates_moma['Nationality']==\"American\", True, False))\n",
    "moma_American_prop = (names_dates_moma[\"American\"] == True).mean()"
   ]
  },
  {
   "cell_type": "code",
   "execution_count": 66,
   "metadata": {},
   "outputs": [],
   "source": [
    "# Find the proportion of British art in MoMA\n",
    "names_dates_moma = names_dates_moma.assign(British=np.where(names_dates_moma['Nationality']==\"British\", True, False))\n",
    "moma_British_prop = (names_dates_moma[\"British\"] == True).mean()"
   ]
  },
  {
   "cell_type": "code",
   "execution_count": 67,
   "metadata": {},
   "outputs": [],
   "source": [
    "# find the proportion of American works in the Tate\n",
    "tate_country = tate_country.assign(American=np.where(tate_country['countryOfOrigin']==\"United States\", True, False))\n",
    "tate_American_prop = (tate_country[\"American\"] == True).mean()"
   ]
  },
  {
   "cell_type": "code",
   "execution_count": 68,
   "metadata": {},
   "outputs": [
    {
     "data": {
      "text/plain": [
       "<matplotlib.axes._subplots.AxesSubplot at 0x7f0c1f793910>"
      ]
     },
     "execution_count": 68,
     "metadata": {},
     "output_type": "execute_result"
    },
    {
     "data": {
      "image/png": "[encoded data removed]",
      "text/plain": [
       "<Figure size 432x288 with 1 Axes>"
      ]
     },
     "metadata": {
      "needs_background": "light"
     },
     "output_type": "display_data"
    }
   ],
   "source": [
    "# Graph it!\n",
    "plotdata = pd.DataFrame(\n",
    "    {\"% of artworks\": [tate_American_prop, moma_American_prop, tate_British_prop, moma_British_prop]}, \n",
    "    index=[\"Proportion of American Art in the Tate\", \"Proportion of American Art in MoMA\", \"Proportion of British Art in the Tate\", \"Proportion of British Art in MoMA\"])\n",
    "plotdata.plot(kind=\"barh\", title = \"Examining National Biases in MoMA and the Tate\")"
   ]
  },
  {
   "cell_type": "markdown",
   "metadata": {},
   "source": [
    "<strong>Conclusion:</strong> It looks like both MoMA and the Tate favor art from their home country, with the Tate having a higher percentage of British art than MoMA has American art. There is roughly the same proportion of British art in MoMA as there is American art in the Tate."
   ]
  },
  {
   "cell_type": "markdown",
   "metadata": {},
   "source": [
    "### Examining gender and home country bias in the two museums\n",
    "How does the gender ratio look when examining art from the museum's home country?"
   ]
  },
  {
   "cell_type": "code",
   "execution_count": 69,
   "metadata": {},
   "outputs": [],
   "source": [
    "# Proportion of Male American Artists\n",
    "american_males_moma = (names_dates_moma['American'] == True) & (names_dates_moma['Gender']  == \"Male\")\n",
    "american_males_moma_prop = american_males_moma.mean()"
   ]
  },
  {
   "cell_type": "code",
   "execution_count": 70,
   "metadata": {},
   "outputs": [],
   "source": [
    "# Proportion of Male non-American Artists\n",
    "nonamerican_males_moma = (names_dates_moma['American'] == False) & (names_dates_moma['Gender']  == \"Male\")\n",
    "nonamerican_males_moma_prop = nonamerican_males_moma.mean()"
   ]
  },
  {
   "cell_type": "code",
   "execution_count": 71,
   "metadata": {},
   "outputs": [],
   "source": [
    "# Proportion of Female American Artists\n",
    "american_females_moma = (names_dates_moma['American'] == True) & (names_dates_moma['Gender']  == \"Female\")\n",
    "american_females_moma_prop = american_females_moma.mean()"
   ]
  },
  {
   "cell_type": "code",
   "execution_count": 72,
   "metadata": {},
   "outputs": [],
   "source": [
    "# Proportion of Female non-American Artists\n",
    "nonamerican_females_moma = (names_dates_moma['American'] == False) & (names_dates_moma['Gender']  == \"Female\")\n",
    "nonamerican_females_moma_prop = nonamerican_females_moma.mean()"
   ]
  },
  {
   "cell_type": "code",
   "execution_count": 73,
   "metadata": {},
   "outputs": [],
   "source": [
    "# Proportion of Male British Artists\n",
    "british_males_tate = (tate_country['British'] == True) & (tate_country['gender']  == \"Male\")\n",
    "british_males_tate_prop = british_males_tate.mean()"
   ]
  },
  {
   "cell_type": "code",
   "execution_count": 74,
   "metadata": {},
   "outputs": [],
   "source": [
    "# Proportion of Male non-British Artists\n",
    "nonbritish_males_tate = (tate_country['British'] == False) & (tate_country['gender']  == \"Male\")\n",
    "nonbritish_males_tate_prop = nonbritish_males_tate.mean()"
   ]
  },
  {
   "cell_type": "code",
   "execution_count": 75,
   "metadata": {},
   "outputs": [],
   "source": [
    "# Proportion of Female British Artists\n",
    "british_females_tate = (tate_country['British'] == True) & (tate_country['gender']  == \"Female\")\n",
    "british_females_tate_prop = british_females_tate.mean()"
   ]
  },
  {
   "cell_type": "code",
   "execution_count": 76,
   "metadata": {},
   "outputs": [],
   "source": [
    "# Proportion of Feale non-British Artists\n",
    "nonbritish_females_tate = (tate_country['British'] == False) & (tate_country['gender']  == \"Female\")\n",
    "nonbritish_females_tate_prop = nonbritish_females_tate.mean()"
   ]
  },
  {
   "cell_type": "code",
   "execution_count": 77,
   "metadata": {},
   "outputs": [
    {
     "data": {
      "text/plain": [
       "<matplotlib.axes._subplots.AxesSubplot at 0x7f0c1f5ae6a0>"
      ]
     },
     "execution_count": 77,
     "metadata": {},
     "output_type": "execute_result"
    },
    {
     "data": {
      "image/png": "[encoded data removed]",
      "text/plain": [
       "<Figure size 432x288 with 1 Axes>"
      ]
     },
     "metadata": {
      "needs_background": "light"
     },
     "output_type": "display_data"
    },
    {
     "data": {
      "image/png": "[encoded data removed]",
      "text/plain": [
       "<Figure size 432x288 with 1 Axes>"
      ]
     },
     "metadata": {
      "needs_background": "light"
     },
     "output_type": "display_data"
    }
   ],
   "source": [
    "# Graph MoMA data!\n",
    "plotdata_moma = pd.DataFrame(\n",
    "    {\"% of artworks\": [american_males_moma_prop, nonamerican_males_moma_prop, american_females_moma_prop, nonamerican_females_moma_prop]}, \n",
    "    index=[\"Proportion of American Male Artists\", \"Proportion of non-American Male Artists\", \"Proportion of American Female Artists\", \"Proportion of Non-American Female Artists\"])\n",
    "plotdata_moma.plot(kind=\"barh\", title = \"Examining National Biases MoMA\")\n",
    "\n",
    "# Graph Tate data!\n",
    "plotdata_tate = pd.DataFrame(\n",
    "    {\"% of artworks\": [british_males_tate_prop, nonbritish_males_tate_prop, british_females_tate_prop, nonbritish_females_tate_prop]}, \n",
    "    index=[\"Proportion of British Male Artists\", \"Proportion of non-British Male Artists\", \"Proportion of British Female Artists\", \"Proportion of Non-British Female Artists\"])\n",
    "plotdata_tate.plot(kind=\"barh\", title = \"Examining National Biases in the Tate\")"
   ]
  },
  {
   "cell_type": "markdown",
   "metadata": {},
   "source": [
    "Conclusion: Both museums favored male artists, but MoMA has a higher proportion of non-American art than it has American art by male artists, while the Tate heavily favors British male artists. In terms of female artists, MoMA favors American over non-American artists while the Tate doesn't have a distinct difference between British and non-British female artists."
   ]
  },
  {
   "cell_type": "markdown",
   "metadata": {},
   "source": [
    "## Overall Findings from Milestone 2:\n",
    "In general, both museums tend to fairly heavily favor art from western, male artists, and specifically art from their home country. In comparing MoMA to the Tate, MoMA has historically been more diverse in terms of gender and nationality of the artists."
   ]
  },
  {
   "cell_type": "markdown",
   "metadata": {},
   "source": [
    "## Cleaning the Met dataset"
   ]
  },
  {
   "cell_type": "code",
   "execution_count": 78,
   "metadata": {
    "scrolled": true
   },
   "outputs": [
    {
     "ename": "FileNotFoundError",
     "evalue": "[Errno 2] No such file or directory: 'MetObjects.csv'",
     "output_type": "error",
     "traceback": [
      "\u001b[0;31m---------------------------------------------------------------------------\u001b[0m",
      "\u001b[0;31mFileNotFoundError\u001b[0m                         Traceback (most recent call last)",
      "\u001b[0;32m<ipython-input-78-3ab2e4199d37>\u001b[0m in \u001b[0;36m<module>\u001b[0;34m\u001b[0m\n\u001b[0;32m----> 1\u001b[0;31m \u001b[0mmet\u001b[0m \u001b[0;34m=\u001b[0m \u001b[0mpd\u001b[0m\u001b[0;34m.\u001b[0m\u001b[0mread_csv\u001b[0m\u001b[0;34m(\u001b[0m\u001b[0;34m\"MetObjects.csv\"\u001b[0m\u001b[0;34m)\u001b[0m\u001b[0;34m\u001b[0m\u001b[0;34m\u001b[0m\u001b[0m\n\u001b[0m",
      "\u001b[0;32m/opt/conda/lib/python3.8/site-packages/pandas/io/parsers.py\u001b[0m in \u001b[0;36mread_csv\u001b[0;34m(filepath_or_buffer, sep, delimiter, header, names, index_col, usecols, squeeze, prefix, mangle_dupe_cols, dtype, engine, converters, true_values, false_values, skipinitialspace, skiprows, skipfooter, nrows, na_values, keep_default_na, na_filter, verbose, skip_blank_lines, parse_dates, infer_datetime_format, keep_date_col, date_parser, dayfirst, cache_dates, iterator, chunksize, compression, thousands, decimal, lineterminator, quotechar, quoting, doublequote, escapechar, comment, encoding, dialect, error_bad_lines, warn_bad_lines, delim_whitespace, low_memory, memory_map, float_precision)\u001b[0m\n\u001b[1;32m    684\u001b[0m     )\n\u001b[1;32m    685\u001b[0m \u001b[0;34m\u001b[0m\u001b[0m\n\u001b[0;32m--> 686\u001b[0;31m     \u001b[0;32mreturn\u001b[0m \u001b[0m_read\u001b[0m\u001b[0;34m(\u001b[0m\u001b[0mfilepath_or_buffer\u001b[0m\u001b[0;34m,\u001b[0m \u001b[0mkwds\u001b[0m\u001b[0;34m)\u001b[0m\u001b[0;34m\u001b[0m\u001b[0;34m\u001b[0m\u001b[0m\n\u001b[0m\u001b[1;32m    687\u001b[0m \u001b[0;34m\u001b[0m\u001b[0m\n\u001b[1;32m    688\u001b[0m \u001b[0;34m\u001b[0m\u001b[0m\n",
      "\u001b[0;32m/opt/conda/lib/python3.8/site-packages/pandas/io/parsers.py\u001b[0m in \u001b[0;36m_read\u001b[0;34m(filepath_or_buffer, kwds)\u001b[0m\n\u001b[1;32m    450\u001b[0m \u001b[0;34m\u001b[0m\u001b[0m\n\u001b[1;32m    451\u001b[0m     \u001b[0;31m# Create the parser.\u001b[0m\u001b[0;34m\u001b[0m\u001b[0;34m\u001b[0m\u001b[0;34m\u001b[0m\u001b[0m\n\u001b[0;32m--> 452\u001b[0;31m     \u001b[0mparser\u001b[0m \u001b[0;34m=\u001b[0m \u001b[0mTextFileReader\u001b[0m\u001b[0;34m(\u001b[0m\u001b[0mfp_or_buf\u001b[0m\u001b[0;34m,\u001b[0m \u001b[0;34m**\u001b[0m\u001b[0mkwds\u001b[0m\u001b[0;34m)\u001b[0m\u001b[0;34m\u001b[0m\u001b[0;34m\u001b[0m\u001b[0m\n\u001b[0m\u001b[1;32m    453\u001b[0m \u001b[0;34m\u001b[0m\u001b[0m\n\u001b[1;32m    454\u001b[0m     \u001b[0;32mif\u001b[0m \u001b[0mchunksize\u001b[0m \u001b[0;32mor\u001b[0m \u001b[0miterator\u001b[0m\u001b[0;34m:\u001b[0m\u001b[0;34m\u001b[0m\u001b[0;34m\u001b[0m\u001b[0m\n",
      "\u001b[0;32m/opt/conda/lib/python3.8/site-packages/pandas/io/parsers.py\u001b[0m in \u001b[0;36m__init__\u001b[0;34m(self, f, engine, **kwds)\u001b[0m\n\u001b[1;32m    934\u001b[0m             \u001b[0mself\u001b[0m\u001b[0;34m.\u001b[0m\u001b[0moptions\u001b[0m\u001b[0;34m[\u001b[0m\u001b[0;34m\"has_index_names\"\u001b[0m\u001b[0;34m]\u001b[0m \u001b[0;34m=\u001b[0m \u001b[0mkwds\u001b[0m\u001b[0;34m[\u001b[0m\u001b[0;34m\"has_index_names\"\u001b[0m\u001b[0;34m]\u001b[0m\u001b[0;34m\u001b[0m\u001b[0;34m\u001b[0m\u001b[0m\n\u001b[1;32m    935\u001b[0m \u001b[0;34m\u001b[0m\u001b[0m\n\u001b[0;32m--> 936\u001b[0;31m         \u001b[0mself\u001b[0m\u001b[0;34m.\u001b[0m\u001b[0m_make_engine\u001b[0m\u001b[0;34m(\u001b[0m\u001b[0mself\u001b[0m\u001b[0;34m.\u001b[0m\u001b[0mengine\u001b[0m\u001b[0;34m)\u001b[0m\u001b[0;34m\u001b[0m\u001b[0;34m\u001b[0m\u001b[0m\n\u001b[0m\u001b[1;32m    937\u001b[0m \u001b[0;34m\u001b[0m\u001b[0m\n\u001b[1;32m    938\u001b[0m     \u001b[0;32mdef\u001b[0m \u001b[0mclose\u001b[0m\u001b[0;34m(\u001b[0m\u001b[0mself\u001b[0m\u001b[0;34m)\u001b[0m\u001b[0;34m:\u001b[0m\u001b[0;34m\u001b[0m\u001b[0;34m\u001b[0m\u001b[0m\n",
      "\u001b[0;32m/opt/conda/lib/python3.8/site-packages/pandas/io/parsers.py\u001b[0m in \u001b[0;36m_make_engine\u001b[0;34m(self, engine)\u001b[0m\n\u001b[1;32m   1166\u001b[0m     \u001b[0;32mdef\u001b[0m \u001b[0m_make_engine\u001b[0m\u001b[0;34m(\u001b[0m\u001b[0mself\u001b[0m\u001b[0;34m,\u001b[0m \u001b[0mengine\u001b[0m\u001b[0;34m=\u001b[0m\u001b[0;34m\"c\"\u001b[0m\u001b[0;34m)\u001b[0m\u001b[0;34m:\u001b[0m\u001b[0;34m\u001b[0m\u001b[0;34m\u001b[0m\u001b[0m\n\u001b[1;32m   1167\u001b[0m         \u001b[0;32mif\u001b[0m \u001b[0mengine\u001b[0m \u001b[0;34m==\u001b[0m \u001b[0;34m\"c\"\u001b[0m\u001b[0;34m:\u001b[0m\u001b[0;34m\u001b[0m\u001b[0;34m\u001b[0m\u001b[0m\n\u001b[0;32m-> 1168\u001b[0;31m             \u001b[0mself\u001b[0m\u001b[0;34m.\u001b[0m\u001b[0m_engine\u001b[0m \u001b[0;34m=\u001b[0m \u001b[0mCParserWrapper\u001b[0m\u001b[0;34m(\u001b[0m\u001b[0mself\u001b[0m\u001b[0;34m.\u001b[0m\u001b[0mf\u001b[0m\u001b[0;34m,\u001b[0m \u001b[0;34m**\u001b[0m\u001b[0mself\u001b[0m\u001b[0;34m.\u001b[0m\u001b[0moptions\u001b[0m\u001b[0;34m)\u001b[0m\u001b[0;34m\u001b[0m\u001b[0;34m\u001b[0m\u001b[0m\n\u001b[0m\u001b[1;32m   1169\u001b[0m         \u001b[0;32melse\u001b[0m\u001b[0;34m:\u001b[0m\u001b[0;34m\u001b[0m\u001b[0;34m\u001b[0m\u001b[0m\n\u001b[1;32m   1170\u001b[0m             \u001b[0;32mif\u001b[0m \u001b[0mengine\u001b[0m \u001b[0;34m==\u001b[0m \u001b[0;34m\"python\"\u001b[0m\u001b[0;34m:\u001b[0m\u001b[0;34m\u001b[0m\u001b[0;34m\u001b[0m\u001b[0m\n",
      "\u001b[0;32m/opt/conda/lib/python3.8/site-packages/pandas/io/parsers.py\u001b[0m in \u001b[0;36m__init__\u001b[0;34m(self, src, **kwds)\u001b[0m\n\u001b[1;32m   1996\u001b[0m         \u001b[0mkwds\u001b[0m\u001b[0;34m[\u001b[0m\u001b[0;34m\"usecols\"\u001b[0m\u001b[0;34m]\u001b[0m \u001b[0;34m=\u001b[0m \u001b[0mself\u001b[0m\u001b[0;34m.\u001b[0m\u001b[0musecols\u001b[0m\u001b[0;34m\u001b[0m\u001b[0;34m\u001b[0m\u001b[0m\n\u001b[1;32m   1997\u001b[0m \u001b[0;34m\u001b[0m\u001b[0m\n\u001b[0;32m-> 1998\u001b[0;31m         \u001b[0mself\u001b[0m\u001b[0;34m.\u001b[0m\u001b[0m_reader\u001b[0m \u001b[0;34m=\u001b[0m \u001b[0mparsers\u001b[0m\u001b[0;34m.\u001b[0m\u001b[0mTextReader\u001b[0m\u001b[0;34m(\u001b[0m\u001b[0msrc\u001b[0m\u001b[0;34m,\u001b[0m \u001b[0;34m**\u001b[0m\u001b[0mkwds\u001b[0m\u001b[0;34m)\u001b[0m\u001b[0;34m\u001b[0m\u001b[0;34m\u001b[0m\u001b[0m\n\u001b[0m\u001b[1;32m   1999\u001b[0m         \u001b[0mself\u001b[0m\u001b[0;34m.\u001b[0m\u001b[0munnamed_cols\u001b[0m \u001b[0;34m=\u001b[0m \u001b[0mself\u001b[0m\u001b[0;34m.\u001b[0m\u001b[0m_reader\u001b[0m\u001b[0;34m.\u001b[0m\u001b[0munnamed_cols\u001b[0m\u001b[0;34m\u001b[0m\u001b[0;34m\u001b[0m\u001b[0m\n\u001b[1;32m   2000\u001b[0m \u001b[0;34m\u001b[0m\u001b[0m\n",
      "\u001b[0;32mpandas/_libs/parsers.pyx\u001b[0m in \u001b[0;36mpandas._libs.parsers.TextReader.__cinit__\u001b[0;34m()\u001b[0m\n",
      "\u001b[0;32mpandas/_libs/parsers.pyx\u001b[0m in \u001b[0;36mpandas._libs.parsers.TextReader._setup_parser_source\u001b[0;34m()\u001b[0m\n",
      "\u001b[0;31mFileNotFoundError\u001b[0m: [Errno 2] No such file or directory: 'MetObjects.csv'"
     ]
    }
   ],
   "source": [
    "met = pd.read_csv(\"MetObjects.csv\")"
   ]
  },
  {
   "cell_type": "code",
   "execution_count": null,
   "metadata": {},
   "outputs": [],
   "source": [
    "met_modern = met[met['Department'] == 'Modern and Contemporary Art']\n",
    "met_modern.drop(columns = ['Object Number','Is Highlight','Is Timeline Work','Is Public Domain','Object ID',\n",
    "                          'Gallery Number','Department','Dynasty', 'Reign',\n",
    "       'Portfolio', 'Constiuent ID', 'Artist Role', 'Artist Prefix','Artist Display Bio', 'Artist Suffix',\n",
    "       'Artist Alpha Sort','Artist ULAN URL',\n",
    "       'Artist Wikidata URL','Object Begin Date',\n",
    "       'Object End Date', 'Medium', 'Dimensions', 'Credit Line',\n",
    "       'Geography Type', 'City', 'State', 'County', 'Country', 'Region',\n",
    "       'Subregion', 'Locale', 'Locus', 'Excavation', 'River', 'Classification',\n",
    "       'Rights and Reproduction', 'Link Resource', 'Object Wikidata URL',\n",
    "       'Metadata Date', 'Repository', 'Tags', 'Tags AAT URL',\n",
    "       'Tags Wikidata URL'], inplace = True)"
   ]
  },
  {
   "cell_type": "code",
   "execution_count": null,
   "metadata": {
    "scrolled": true
   },
   "outputs": [],
   "source": [
    "#met_modern[met_modern['AccessionYear'] < 2017]\n",
    "met_modern = met_modern.dropna(subset=['AccessionYear'])\n",
    "met_modern['AccessionYear'] = met_modern['AccessionYear'].astype(int)\n",
    "met_modern[met_modern['AccessionYear'] < 2017]\n"
   ]
  },
  {
   "cell_type": "code",
   "execution_count": null,
   "metadata": {},
   "outputs": [],
   "source": [
    "# compare with moma and their modern art, normalize it to compare - do similar analysis to the tate\n",
    "#do more analysis to see if moma meets their own goals\n",
    "#started in early 2014 - so after 2.5 years, how much has the MoMA changed to begin to meet their goals and how \n",
    "#how much further do they have to go\n",
    "\n",
    "#200,000 vs 70,000"
   ]
  }
 ],
 "metadata": {
  "kernelspec": {
   "display_name": "Python 3",
   "language": "python",
   "name": "python3"
  },
  "language_info": {
   "codemirror_mode": {
    "name": "ipython",
    "version": 3
   },
   "file_extension": ".py",
   "mimetype": "text/x-python",
   "name": "python",
   "nbconvert_exporter": "python",
   "pygments_lexer": "ipython3",
   "version": "3.8.5"
  }
 },
 "nbformat": 4,
 "nbformat_minor": 4
}
