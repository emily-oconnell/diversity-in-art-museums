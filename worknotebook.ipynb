{
 "cells": [
  {
   "cell_type": "markdown",
   "metadata": {},
   "source": [
    "[Link to our site](https://lindsayhardy17.github.io/)"
   ]
  },
  {
   "cell_type": "markdown",
   "metadata": {},
   "source": [
    "# <center>Evaluating the changes in art museums </center>\n",
    "### <center>Lindsay Hardy and Emily O'Connell </center>"
   ]
  },
  {
   "cell_type": "markdown",
   "metadata": {},
   "source": [
    "### Goals"
   ]
  },
  {
   "cell_type": "markdown",
   "metadata": {},
   "source": [
    "For our project, we will be analyzing a [dataset](https://github.com/MuseumofModernArt/collection/blob/master/Artworks.csv) concerning the collection of the Museum of Modern Art (MoMA). The MoMA over the past twenty years has gone through a couple expansions, the first finishing in 2004 and the second finishing in 2019. For our analysis we mainly plan to focus on its changes that started in 2014.\n",
    "\n",
    "In 2014 MoMA revealed its plans to expand and add 47,000 square feet to its current gallery space. This addition the MoMA said will allow for new and innovative displays and reorganization of the museum. With this expansion they had distinct goals of \"diversifying the canon, embracing the present, and showing 1,000 more of its artworks.\" Through this the curators plan to spotlight the work of women, African American, Asian, and Latino artists who have been previously overlooked in the collection. “We feel that many, many regions that once seemed peripheral don’t seem that way any more, they seem central. Figures who once seemed secondary now seem primary,” said MoMA chief curator Ann Temkin. In order to do this the MoMA has had to actively work over the past years to diversify their collection so that they will be able to accurately meet the goals that they had laid out for themselves. \n",
    "\n",
    "When looking at the MoMA dataset, with their goals in mind, our overarching question is exploring whether or not MoMA fulfilled its goal of expanding the diversity of its art collection. In order to see if this shift was reflected in their collection and acquisitions, we will attempt to measure the overall diversity a work adds to the collection by analyzing the relevant aspects of the artwork such as the artist's nationality, the artist’s gender, the year the work was created, the year it was acquired, and various other factors. Although it is impossible to truly quantify the abstract concept of diversity, we believe that analyzing overall patterns in acquisitions will be helpful in determining whether or not MoMA has been successful in its goal of introducing new viewpoints to its collection. \n",
    "\n",
    "### The questions that we plan to answer: \n",
    "1. Is there an overwhelming number of male artists represented?\n",
    "2. Has MoMA recently been acquiring artwork from non-American at a higher frequency than in the past?\n",
    "3. Is the artwork acquired from non-American artists from Western European countries or elsewhere?\n",
    "4. How does the average age of a work of art change in different time periods? \n",
    "\n",
    "By answering all of these smaller questions, we will be able to make a judgement on our overall  research question of assessing the diversity of the collection in recent years. We will also look at the trends over time to see if there are changes in what kind of artwork MoMA typically collects and note any differences between time periods. We have found a rich and detailed dataset with 130,262 works of art owned by MoMA acquired from 1929 to 2017. Although our dataset for the MoMA stops at 2017, but we believe that we will be able to conduct a thourough analysis of their goals, as they laid out their goals for changes in early 2014, so we will have around three years of data to work with and compare with their previous activities. So in all we will have a lot of information pertaining to the type of artwork MoMA has acquired in different time periods.  \n",
    "\n",
    "### Comparison with other museums\n",
    "In addition to the thorough analysis we will conduct on MoMA dataset, we also plan to compare the MoMA’s collection to other large modern/contemporary art museums like the [Tate](https://github.com/tategallery/collection), a modern art museum in London. Through a comparison of the Tate and the MoMA we will be able to see if there are any differences in collections and trends between museums in two different countries. The Tate's collection is slightly smaller than MoMA's, only having 70,000 works, and the dataset that we have only representing 69,274 of those works. Because of this when we conduct comparisons between the two datasets we will need to be mindful of the difference in size of the two museums.\n",
    "\n",
    "We will also investigate the collection of the [Metropolitan Museum of Art](https://github.com/metmuseum/openaccess), another famous art museum in New York City. Even though the Met is not specifically focused on modern art, we will be able to key into its modern/contemporary art collection and only focus specifically on those works. The number of modern/contemporary works that the Met has is much smaller than the MoMAs, only 13,452, but we believe this will still allow us some insight into the differences and similarities between the two museums. By comparing the MoMA to these other museums we will be able to see if they not only reached their goals but if their goals place them as a forward thinker on modern art and not just a part of the crowd. \n",
    "\n",
    "### Outline\n",
    "We have laid out our work flow below by starting with cleaning the MoMA data, then conducting individual analysis on it to answer our questions stated above. Then we clean the Tate data and compare it to the data from the MoMA. Afterwards we clean the Met data, and in a similar fashion to how we compared the Tate dataset, we will do the same analysis between the Met and the MoMA. Finally we have a conclusion section at the bottom stating our overall findings and what we believe the analysis has shown us.\n",
    "\n",
    "### Collaboration Plan\n",
    "In terms of collaboration, we have set up a [GitHub repository](https://github.com/lindsayhardy17/lindsayhardy17.github.io) and plan for storing the datasets, sharing code, and version control. We plan to meet on Zoom once a week on Tuesdays at 3:10, right after class, and will also be flexible with adding a second time to meet on Thursday after class as well.  During these meetings we plan to check our progress, solve problems, and ask questions, in addition to communicating outside of scheduled meetings as needed.\n",
    "\n",
    "\n",
    "\n",
    "\n",
    "\n"
   ]
  },
  {
   "cell_type": "markdown",
   "metadata": {},
   "source": [
    "### Milestone - Data Extraction, Cleaning, and Loading"
   ]
  },
  {
   "cell_type": "markdown",
   "metadata": {},
   "source": [
    "The first thing that we needed to do was unzip our files. We originally tried to pull the data from the github repo, but the MoMA has a no pull policy. So instead we downloaded the data from kaggle."
   ]
  },
  {
   "cell_type": "code",
   "execution_count": 79,
   "metadata": {},
   "outputs": [],
   "source": [
    "import pandas as pd\n",
    "import zipfile\n",
    "import numpy as np\n",
    "import re\n",
    "import datetime\n",
    "import matplotlib.pyplot as plot\n",
    "import matplotlib.ticker as ticker\n",
    "import geopandas as gpd\n",
    "from geopandas import GeoDataFrame\n",
    "pd.options.mode.chained_assignment = None"
   ]
  },
  {
   "cell_type": "markdown",
   "metadata": {},
   "source": [
    "For this first milestone the only things we needed were zipfile and pandas. So We unzipped the files and placed them in a working form in our folder"
   ]
  },
  {
   "cell_type": "code",
   "execution_count": 4,
   "metadata": {},
   "outputs": [],
   "source": [
    "with zipfile.ZipFile('archive.zip', 'r') as zip_ref:\n",
    "    zip_ref.extractall()"
   ]
  },
  {
   "cell_type": "markdown",
   "metadata": {},
   "source": [
    "Next we read in the Artworks file and the Artists file and created a new dataframe called gender. We will be analyzing the gender and nationality of the artists so we wanted it in our main dataframe. Originally we tried to merge the two dataframes on 'Artist ID', but upon a closer look, \"Artist ID\" had multiple ids in the artworks dataframe but not in the artists dataframe. Some had up to 5 ids while others only had 1. Because of this we decided to just merge on \"Name\" because of its consistence across both dataframes. Once we merged we renamed the dataframe \"moma\". The resulting dataframe is made up of the works title, the artist and their background, the name of the work, information on the medium and different measurement types, when the moma acquired the work, and a couple other minor things. We are looking to analyze the dataframe to find insights on the dates that they were acquired with regard to when the works were made and if there were significant changes in the works acquired after a certain year. We think with this dataset we will be able to do all of these things because of the columns below, but will need to make sure that the columns are in the correct format."
   ]
  },
  {
   "cell_type": "code",
   "execution_count": 5,
   "metadata": {},
   "outputs": [
    {
     "data": {
      "text/plain": [
       "Index(['Artist ID', 'Name', 'Nationality', 'Gender', 'Birth Year',\n",
       "       'Death Year'],\n",
       "      dtype='object')"
      ]
     },
     "execution_count": 5,
     "metadata": {},
     "output_type": "execute_result"
    }
   ],
   "source": [
    "moma_artworks = pd.read_csv(\"Artworks.csv\")\n",
    "moma_artists = pd.read_csv(\"Artists.csv\")\n",
    "moma_artists.columns"
   ]
  },
  {
   "cell_type": "code",
   "execution_count": 6,
   "metadata": {
    "scrolled": true
   },
   "outputs": [
    {
     "data": {
      "text/html": [
       "<div>\n",
       "<style scoped>\n",
       "    .dataframe tbody tr th:only-of-type {\n",
       "        vertical-align: middle;\n",
       "    }\n",
       "\n",
       "    .dataframe tbody tr th {\n",
       "        vertical-align: top;\n",
       "    }\n",
       "\n",
       "    .dataframe thead th {\n",
       "        text-align: right;\n",
       "    }\n",
       "</style>\n",
       "<table border=\"1\" class=\"dataframe\">\n",
       "  <thead>\n",
       "    <tr style=\"text-align: right;\">\n",
       "      <th></th>\n",
       "      <th>Artwork ID</th>\n",
       "      <th>Title</th>\n",
       "      <th>Artist ID</th>\n",
       "      <th>Name</th>\n",
       "      <th>Date</th>\n",
       "      <th>Medium</th>\n",
       "      <th>Dimensions</th>\n",
       "      <th>Acquisition Date</th>\n",
       "      <th>Credit</th>\n",
       "      <th>Catalogue</th>\n",
       "      <th>...</th>\n",
       "      <th>Height (cm)</th>\n",
       "      <th>Length (cm)</th>\n",
       "      <th>Width (cm)</th>\n",
       "      <th>Depth (cm)</th>\n",
       "      <th>Weight (kg)</th>\n",
       "      <th>Duration (s)</th>\n",
       "      <th>Gender</th>\n",
       "      <th>Nationality</th>\n",
       "      <th>Birth Year</th>\n",
       "      <th>Death Year</th>\n",
       "    </tr>\n",
       "  </thead>\n",
       "  <tbody>\n",
       "    <tr>\n",
       "      <th>0</th>\n",
       "      <td>2</td>\n",
       "      <td>Ferdinandsbrücke Project, Vienna, Austria, Ele...</td>\n",
       "      <td>6210</td>\n",
       "      <td>Otto Wagner</td>\n",
       "      <td>1896</td>\n",
       "      <td>Ink and cut-and-pasted painted pages on paper</td>\n",
       "      <td>19 1/8 x 66 1/2\" (48.6 x 168.9 cm)</td>\n",
       "      <td>1996-04-09</td>\n",
       "      <td>Fractional and promised gift of Jo Carole and ...</td>\n",
       "      <td>Y</td>\n",
       "      <td>...</td>\n",
       "      <td>48.6000</td>\n",
       "      <td>NaN</td>\n",
       "      <td>168.9000</td>\n",
       "      <td>NaN</td>\n",
       "      <td>NaN</td>\n",
       "      <td>NaN</td>\n",
       "      <td>Male</td>\n",
       "      <td>Austrian</td>\n",
       "      <td>1841.0</td>\n",
       "      <td>1918.0</td>\n",
       "    </tr>\n",
       "    <tr>\n",
       "      <th>1</th>\n",
       "      <td>3</td>\n",
       "      <td>City of Music, National Superior Conservatory ...</td>\n",
       "      <td>7470</td>\n",
       "      <td>Christian de Portzamparc</td>\n",
       "      <td>1987</td>\n",
       "      <td>Paint and colored pencil on print</td>\n",
       "      <td>16 x 11 3/4\" (40.6 x 29.8 cm)</td>\n",
       "      <td>1995-01-17</td>\n",
       "      <td>Gift of the architect in honor of Lily Auchinc...</td>\n",
       "      <td>Y</td>\n",
       "      <td>...</td>\n",
       "      <td>40.6401</td>\n",
       "      <td>NaN</td>\n",
       "      <td>29.8451</td>\n",
       "      <td>NaN</td>\n",
       "      <td>NaN</td>\n",
       "      <td>NaN</td>\n",
       "      <td>Male</td>\n",
       "      <td>French</td>\n",
       "      <td>1944.0</td>\n",
       "      <td>NaN</td>\n",
       "    </tr>\n",
       "    <tr>\n",
       "      <th>2</th>\n",
       "      <td>4</td>\n",
       "      <td>Villa near Vienna Project, Outside Vienna, Aus...</td>\n",
       "      <td>7605</td>\n",
       "      <td>Emil Hoppe</td>\n",
       "      <td>1903</td>\n",
       "      <td>Graphite, pen, color pencil, ink, and gouache ...</td>\n",
       "      <td>13 1/2 x 12 1/2\" (34.3 x 31.8 cm)</td>\n",
       "      <td>1997-01-15</td>\n",
       "      <td>Gift of Jo Carole and Ronald S. Lauder</td>\n",
       "      <td>Y</td>\n",
       "      <td>...</td>\n",
       "      <td>34.3000</td>\n",
       "      <td>NaN</td>\n",
       "      <td>31.8000</td>\n",
       "      <td>NaN</td>\n",
       "      <td>NaN</td>\n",
       "      <td>NaN</td>\n",
       "      <td>Male</td>\n",
       "      <td>Austrian</td>\n",
       "      <td>1876.0</td>\n",
       "      <td>1957.0</td>\n",
       "    </tr>\n",
       "    <tr>\n",
       "      <th>3</th>\n",
       "      <td>5</td>\n",
       "      <td>The Manhattan Transcripts Project, New York, N...</td>\n",
       "      <td>7056</td>\n",
       "      <td>Bernard Tschumi</td>\n",
       "      <td>1980</td>\n",
       "      <td>Photographic reproduction with colored synthet...</td>\n",
       "      <td>20 x 20\" (50.8 x 50.8 cm)</td>\n",
       "      <td>1995-01-17</td>\n",
       "      <td>Purchase and partial gift of the architect in ...</td>\n",
       "      <td>Y</td>\n",
       "      <td>...</td>\n",
       "      <td>50.8000</td>\n",
       "      <td>NaN</td>\n",
       "      <td>50.8000</td>\n",
       "      <td>NaN</td>\n",
       "      <td>NaN</td>\n",
       "      <td>NaN</td>\n",
       "      <td>Male</td>\n",
       "      <td>NaN</td>\n",
       "      <td>1944.0</td>\n",
       "      <td>NaN</td>\n",
       "    </tr>\n",
       "    <tr>\n",
       "      <th>4</th>\n",
       "      <td>6</td>\n",
       "      <td>Villa, project, outside Vienna, Austria, Exter...</td>\n",
       "      <td>7605</td>\n",
       "      <td>Emil Hoppe</td>\n",
       "      <td>1903</td>\n",
       "      <td>Graphite, color pencil, ink, and gouache on tr...</td>\n",
       "      <td>15 1/8 x 7 1/2\" (38.4 x 19.1 cm)</td>\n",
       "      <td>1997-01-15</td>\n",
       "      <td>Gift of Jo Carole and Ronald S. Lauder</td>\n",
       "      <td>Y</td>\n",
       "      <td>...</td>\n",
       "      <td>38.4000</td>\n",
       "      <td>NaN</td>\n",
       "      <td>19.1000</td>\n",
       "      <td>NaN</td>\n",
       "      <td>NaN</td>\n",
       "      <td>NaN</td>\n",
       "      <td>Male</td>\n",
       "      <td>Austrian</td>\n",
       "      <td>1876.0</td>\n",
       "      <td>1957.0</td>\n",
       "    </tr>\n",
       "  </tbody>\n",
       "</table>\n",
       "<p>5 rows × 25 columns</p>\n",
       "</div>"
      ],
      "text/plain": [
       "   Artwork ID                                              Title Artist ID  \\\n",
       "0           2  Ferdinandsbrücke Project, Vienna, Austria, Ele...      6210   \n",
       "1           3  City of Music, National Superior Conservatory ...      7470   \n",
       "2           4  Villa near Vienna Project, Outside Vienna, Aus...      7605   \n",
       "3           5  The Manhattan Transcripts Project, New York, N...      7056   \n",
       "4           6  Villa, project, outside Vienna, Austria, Exter...      7605   \n",
       "\n",
       "                       Name  Date  \\\n",
       "0               Otto Wagner  1896   \n",
       "1  Christian de Portzamparc  1987   \n",
       "2                Emil Hoppe  1903   \n",
       "3           Bernard Tschumi  1980   \n",
       "4                Emil Hoppe  1903   \n",
       "\n",
       "                                              Medium  \\\n",
       "0      Ink and cut-and-pasted painted pages on paper   \n",
       "1                  Paint and colored pencil on print   \n",
       "2  Graphite, pen, color pencil, ink, and gouache ...   \n",
       "3  Photographic reproduction with colored synthet...   \n",
       "4  Graphite, color pencil, ink, and gouache on tr...   \n",
       "\n",
       "                           Dimensions Acquisition Date  \\\n",
       "0  19 1/8 x 66 1/2\" (48.6 x 168.9 cm)       1996-04-09   \n",
       "1       16 x 11 3/4\" (40.6 x 29.8 cm)       1995-01-17   \n",
       "2   13 1/2 x 12 1/2\" (34.3 x 31.8 cm)       1997-01-15   \n",
       "3           20 x 20\" (50.8 x 50.8 cm)       1995-01-17   \n",
       "4    15 1/8 x 7 1/2\" (38.4 x 19.1 cm)       1997-01-15   \n",
       "\n",
       "                                              Credit Catalogue  ...  \\\n",
       "0  Fractional and promised gift of Jo Carole and ...         Y  ...   \n",
       "1  Gift of the architect in honor of Lily Auchinc...         Y  ...   \n",
       "2             Gift of Jo Carole and Ronald S. Lauder         Y  ...   \n",
       "3  Purchase and partial gift of the architect in ...         Y  ...   \n",
       "4             Gift of Jo Carole and Ronald S. Lauder         Y  ...   \n",
       "\n",
       "  Height (cm) Length (cm) Width (cm)  Depth (cm)  Weight (kg)  Duration (s)  \\\n",
       "0     48.6000         NaN   168.9000         NaN          NaN           NaN   \n",
       "1     40.6401         NaN    29.8451         NaN          NaN           NaN   \n",
       "2     34.3000         NaN    31.8000         NaN          NaN           NaN   \n",
       "3     50.8000         NaN    50.8000         NaN          NaN           NaN   \n",
       "4     38.4000         NaN    19.1000         NaN          NaN           NaN   \n",
       "\n",
       "   Gender  Nationality  Birth Year  Death Year  \n",
       "0    Male     Austrian      1841.0      1918.0  \n",
       "1    Male       French      1944.0         NaN  \n",
       "2    Male     Austrian      1876.0      1957.0  \n",
       "3    Male          NaN      1944.0         NaN  \n",
       "4    Male     Austrian      1876.0      1957.0  \n",
       "\n",
       "[5 rows x 25 columns]"
      ]
     },
     "execution_count": 6,
     "metadata": {},
     "output_type": "execute_result"
    }
   ],
   "source": [
    "gender = moma_artists[[\"Gender\", 'Name', 'Nationality', 'Birth Year','Death Year']]\n",
    "moma = moma_artworks.merge(gender, on = ['Name'], how = 'left')\n",
    "moma['Gender'] = moma['Gender'].replace({'male':'Male'})\n",
    "moma.head()"
   ]
  },
  {
   "cell_type": "markdown",
   "metadata": {},
   "source": [
    "Then we checked on the datatypes, everything looked like it was the right type of object except for the dates, so we first changed Acquisition Date"
   ]
  },
  {
   "cell_type": "code",
   "execution_count": 7,
   "metadata": {},
   "outputs": [
    {
     "data": {
      "text/plain": [
       "Artwork ID              int64\n",
       "Title                  object\n",
       "Artist ID              object\n",
       "Name                   object\n",
       "Date                   object\n",
       "Medium                 object\n",
       "Dimensions             object\n",
       "Acquisition Date       object\n",
       "Credit                 object\n",
       "Catalogue              object\n",
       "Department             object\n",
       "Classification         object\n",
       "Object Number          object\n",
       "Diameter (cm)         float64\n",
       "Circumference (cm)    float64\n",
       "Height (cm)           float64\n",
       "Length (cm)           float64\n",
       "Width (cm)            float64\n",
       "Depth (cm)            float64\n",
       "Weight (kg)           float64\n",
       "Duration (s)          float64\n",
       "Gender                 object\n",
       "Nationality            object\n",
       "Birth Year            float64\n",
       "Death Year            float64\n",
       "dtype: object"
      ]
     },
     "metadata": {},
     "output_type": "display_data"
    },
    {
     "data": {
      "text/plain": [
       "Artwork ID                     int64\n",
       "Title                         object\n",
       "Artist ID                     object\n",
       "Name                          object\n",
       "Date                          object\n",
       "Medium                        object\n",
       "Dimensions                    object\n",
       "Acquisition Date      datetime64[ns]\n",
       "Credit                        object\n",
       "Catalogue                     object\n",
       "Department                    object\n",
       "Classification                object\n",
       "Object Number                 object\n",
       "Diameter (cm)                float64\n",
       "Circumference (cm)           float64\n",
       "Height (cm)                  float64\n",
       "Length (cm)                  float64\n",
       "Width (cm)                   float64\n",
       "Depth (cm)                   float64\n",
       "Weight (kg)                  float64\n",
       "Duration (s)                 float64\n",
       "Gender                        object\n",
       "Nationality                   object\n",
       "Birth Year                   float64\n",
       "Death Year                   float64\n",
       "dtype: object"
      ]
     },
     "execution_count": 7,
     "metadata": {},
     "output_type": "execute_result"
    }
   ],
   "source": [
    "display(moma.dtypes)\n",
    "#checked to see if the values are correct, the date and the acquisition date aren't in date time so converting them\n",
    "moma['Acquisition Date'] = pd.to_datetime(moma['Acquisition Date'], errors = 'coerce')\n",
    "#changed to datetime\n",
    "moma.dtypes"
   ]
  },
  {
   "cell_type": "markdown",
   "metadata": {},
   "source": [
    "While we were checking the different values we realized that the Date, the year the artword was created, had a lot of different problems and could not be analyzed because of its different date representations, like having 1967-1977, or c. 1989, or early 1992. Because of this we had to fix the Date column, which is shown below. Having this column be correct is very important to us because the date of creation is crucial to our analysis."
   ]
  },
  {
   "cell_type": "code",
   "execution_count": 8,
   "metadata": {},
   "outputs": [
    {
     "data": {
      "text/plain": [
       "array(['1896', '1987', '1903', '1980', '1976-77', '1968', '1900', '1978',\n",
       "       '1905', '1906', '1979', '1980-81', '1918', '1970', '1975', '1984',\n",
       "       '1986', '1974', 'n.d.', 'c. 1917', '1917', '1923', 'Unknown',\n",
       "       '1930', '1936', '1935', '1937', '1938', '1977', '1958', '1985',\n",
       "       '1989', '1949', '1958–1964', 'c. 1935', '1991', '1941', '1965',\n",
       "       '1981', '1983', '1985–1988', 'c. 1989-91', '1992', '1915-17',\n",
       "       'c. 1915-17', '1953', '1910', 'c.1985', '1982–1986', '1982-86',\n",
       "       '1945', '1923–1924', '.1-3 1987; .4 1990', '1990', '1976', '1995',\n",
       "       '1927–1931', 'c. 1929-30', '1964', '1959', 'c. 1918-20',\n",
       "       'c.1918-1920', '1939', 'c.1976', '1975-79', '1993', '1996', '1988',\n",
       "       '1982-83', '1982–1983', '1952-53', '1921', '1957', '1972',\n",
       "       '1956-57', '1924', '1962', '1925', '1960', '1969', '1963', '1994',\n",
       "       '1961', '1960-61', '1952', 'c. 1978-84', '1927', '1979–1985',\n",
       "       'before 1933', '1929', 'c. 1960-62', '1967', '1956', 'c. 1961',\n",
       "       '1934-36', '1981–1982', '1979–1981', '1940', 'after 1938', '1946'],\n",
       "      dtype=object)"
      ]
     },
     "execution_count": 8,
     "metadata": {},
     "output_type": "execute_result"
    }
   ],
   "source": [
    "moma['Date'].unique()[:100]\n",
    "#a small sample of the unique types and their differences "
   ]
  },
  {
   "cell_type": "code",
   "execution_count": 9,
   "metadata": {},
   "outputs": [],
   "source": [
    "n_d = moma[(moma[\"Date\"] == \"nan\") | (moma[\"Date\"] == \"n.d\") | (moma[\"Date\"] == \"Unkn\") | (moma[\"Date\"] == \"Unknown\") | (moma[\"Date\"] == \"Various\") | (moma[\"Date\"] == \"unknown\")].index\n",
    "moma.drop(n_d, inplace = True)"
   ]
  },
  {
   "cell_type": "markdown",
   "metadata": {},
   "source": [
    "First we removed the obvious components that were incorrect, but then realized the large extent to which the dataset had issues, so we used regular expressions to extract a date, shown below, and then checked the remaining dates that were not in the correct format that we missed"
   ]
  },
  {
   "cell_type": "code",
   "execution_count": 10,
   "metadata": {},
   "outputs": [
    {
     "data": {
      "text/plain": [
       "array(['n.d.', '8th-9th century C.E.', '7th-8th century C.E.', 'Unkown',\n",
       "       '(London?, published in aid of the Comforts Fund  for Women and Children of Sovie',\n",
       "       '(n.d.)', 'New York', 'November 10', '(19)71', '(19)69',\n",
       "       'date of publicati', 'nd', 'no date',\n",
       "       '(newspaper published March 30)', 'n. d.', 'c. 196?', 'TBC', 'TBD'],\n",
       "      dtype=object)"
      ]
     },
     "execution_count": 10,
     "metadata": {},
     "output_type": "execute_result"
    }
   ],
   "source": [
    "moma['date_edit'] = moma['Date'].str.extract('(\\d{4})', expand = False)\n",
    "#creating a new column to store the dates\n",
    "moma[(moma['date_edit'].isnull() == True) & (moma['Date'].isnull() == False)]['Date'].unique()\n",
    "#checking where the date_edit is null but the Date is true - these will be the remaining dates that could\n",
    "#not be converted to a correct date format with four numbers"
   ]
  },
  {
   "cell_type": "markdown",
   "metadata": {},
   "source": [
    "Because none of these dates had any meaning to us, we could officially switch over to have the date_edit column be our official date column, which we do below"
   ]
  },
  {
   "cell_type": "code",
   "execution_count": 11,
   "metadata": {},
   "outputs": [
    {
     "data": {
      "text/plain": [
       "array(['1896', '1987', '1903', '1980', '1976', '1968', '1900', '1978',\n",
       "       '1905', '1906', '1979', '1918', '1970', '1975', '1984', '1986',\n",
       "       '1974', nan, '1917', '1923', '1930', '1936', '1935', '1937',\n",
       "       '1938', '1977', '1958', '1985', '1989', '1949', '1991', '1941',\n",
       "       '1965', '1981', '1983', '1992', '1915', '1953', '1910', '1982',\n",
       "       '1945', '1990', '1995', '1927', '1929', '1964', '1959', '1939',\n",
       "       '1993', '1996', '1988', '1952', '1921', '1957', '1972', '1956',\n",
       "       '1924', '1962', '1925', '1960', '1969', '1963', '1994', '1961',\n",
       "       '1933', '1967', '1934', '1940', '1946', '1955', '1997', '1922',\n",
       "       '1942', '1954', '1916', '1973', '1926', '1932', '1947', '1943',\n",
       "       '1944', '1966', '1971', '1999', '1951', '1913', '1928', '1886',\n",
       "       '1920', '1950', '1931', '1901', '1948', '1912', '1908', '1902',\n",
       "       '1904', '1998', '1898', '1875', '1880', '1909', '1501', '1897',\n",
       "       '1907', '1895', '1914', '1885', '1768', '1878', '1808', '1865',\n",
       "       '1899', '1876', '1873', '1860', '1866', '1919', '1830', '1840',\n",
       "       '1884', '1883', '2000', '1894', '1893', '1879', '1890', '1892',\n",
       "       '1877', '1911', '1891', '1889', '1818', '1852', '1837', '1825',\n",
       "       '1828', '1854', '1797', '1799', '1810', '1863', '1816', '1874',\n",
       "       '1887', '1881', '1882', '1888', '1868', '1871', '1858', '1853',\n",
       "       '1850', '1855', '1846', '1862', '1856', '1843', '1872', '1861',\n",
       "       '1864', '1869', '1870', '1857', '1826', '1829', '1859', '1844',\n",
       "       '1851', '1842', '1845', '1867', '1839', '1838', '1805', '1786',\n",
       "       '1809', '1849', '1841', '1832', '1811', '1847', '1800', '2001',\n",
       "       '2002', '2003', '2004', '1821', '2005', '2006', '2011', '2009',\n",
       "       '2007', '2008', '1848', '2010', '2012', '2013', '2016', '2014',\n",
       "       '2015', '2017'], dtype=object)"
      ]
     },
     "execution_count": 11,
     "metadata": {},
     "output_type": "execute_result"
    }
   ],
   "source": [
    "moma['Date'] = moma['date_edit']\n",
    "moma.drop(columns=['date_edit'], inplace = True)\n",
    "moma['Date'].unique()\n",
    "#one last check to make sure that all of our corresponding values are actually dates"
   ]
  },
  {
   "cell_type": "markdown",
   "metadata": {},
   "source": [
    "After we officially had all the values as dates we converted them to a date time"
   ]
  },
  {
   "cell_type": "code",
   "execution_count": 12,
   "metadata": {},
   "outputs": [],
   "source": [
    "# convert the strings back to integers\n",
    "moma['Date'] = pd.to_datetime(moma['Date'], errors=\"coerce\")\n",
    "moma['Date'] = moma['Date'].dt.year"
   ]
  },
  {
   "cell_type": "markdown",
   "metadata": {},
   "source": [
    "One of the main things that we will be looking at is when the MoMA acquired the work of art. Without this knowledge we won't be able to see if they really changed following their addition. Because of this we removed works that did not have a date from the original dataframe moma. We decided not to remove the date of the creation of art for right now because we believe those works could potentially be useful."
   ]
  },
  {
   "cell_type": "code",
   "execution_count": 13,
   "metadata": {},
   "outputs": [],
   "source": [
    "no_date = moma[(moma['Acquisition Date'].isnull() == True)].index\n",
    "moma.drop(no_date, inplace = True)\n",
    "#dropped dates that didn't have an acquisition date"
   ]
  },
  {
   "cell_type": "markdown",
   "metadata": {},
   "source": [
    "We realized we needed to add an age in to see when the artist created the work, because that could be something interesting to analyze"
   ]
  },
  {
   "cell_type": "code",
   "execution_count": 14,
   "metadata": {},
   "outputs": [],
   "source": [
    "moma['age_made'] = moma['Date'] - moma['Birth Year']\n",
    "moma['alive?'] = moma['Date']"
   ]
  },
  {
   "cell_type": "code",
   "execution_count": 15,
   "metadata": {},
   "outputs": [],
   "source": [
    "def test(acquisition,death):\n",
    "    if acquisition > death:\n",
    "        return 'False'\n",
    "    else:\n",
    "        return 'True'\n",
    "moma['Acquisition Year'] = moma['Acquisition Date'].dt.year\n",
    "moma['alive?'] = moma.apply(lambda row: test(row['Acquisition Year'],row['Death Year']),axis=1)"
   ]
  },
  {
   "cell_type": "markdown",
   "metadata": {},
   "source": [
    "We used apply above to check each row to see if the artist was alive when the work was acquired, then made a column called alive? that was true if they were alive and false if they weren't"
   ]
  },
  {
   "cell_type": "code",
   "execution_count": 16,
   "metadata": {},
   "outputs": [],
   "source": [
    "ids = moma[['Artwork ID', 'Artist ID']]\n",
    "names_dates_moma = moma[['Title', 'Name', 'Date', 'Acquisition Date', 'Artwork ID', 'Gender', 'Credit', 'Nationality','age_made'\n",
    "                   , 'alive?']]\n",
    "dimensions = moma[['Artwork ID','Dimensions', 'Diameter (cm)',\n",
    "       'Circumference (cm)', 'Height (cm)', 'Length (cm)', 'Width (cm)',\n",
    "       'Depth (cm)', 'Weight (kg)', 'Duration (s)']]\n",
    "credit = moma[['Artwork ID','Credit']]\n",
    "extra = moma[['Medium', 'Department', 'Classification', 'Artwork ID']]"
   ]
  },
  {
   "cell_type": "code",
   "execution_count": 17,
   "metadata": {
    "scrolled": true
   },
   "outputs": [
    {
     "data": {
      "text/html": [
       "<div>\n",
       "<style scoped>\n",
       "    .dataframe tbody tr th:only-of-type {\n",
       "        vertical-align: middle;\n",
       "    }\n",
       "\n",
       "    .dataframe tbody tr th {\n",
       "        vertical-align: top;\n",
       "    }\n",
       "\n",
       "    .dataframe thead th {\n",
       "        text-align: right;\n",
       "    }\n",
       "</style>\n",
       "<table border=\"1\" class=\"dataframe\">\n",
       "  <thead>\n",
       "    <tr style=\"text-align: right;\">\n",
       "      <th></th>\n",
       "      <th>Title</th>\n",
       "      <th>Name</th>\n",
       "      <th>Date</th>\n",
       "      <th>Acquisition Date</th>\n",
       "      <th>Artwork ID</th>\n",
       "      <th>Gender</th>\n",
       "      <th>Credit</th>\n",
       "      <th>Nationality</th>\n",
       "      <th>age_made</th>\n",
       "      <th>alive?</th>\n",
       "    </tr>\n",
       "  </thead>\n",
       "  <tbody>\n",
       "    <tr>\n",
       "      <th>0</th>\n",
       "      <td>Ferdinandsbrücke Project, Vienna, Austria, Ele...</td>\n",
       "      <td>Otto Wagner</td>\n",
       "      <td>1896.0</td>\n",
       "      <td>1996-04-09</td>\n",
       "      <td>2</td>\n",
       "      <td>Male</td>\n",
       "      <td>Fractional and promised gift of Jo Carole and ...</td>\n",
       "      <td>Austrian</td>\n",
       "      <td>55.0</td>\n",
       "      <td>False</td>\n",
       "    </tr>\n",
       "    <tr>\n",
       "      <th>1</th>\n",
       "      <td>City of Music, National Superior Conservatory ...</td>\n",
       "      <td>Christian de Portzamparc</td>\n",
       "      <td>1987.0</td>\n",
       "      <td>1995-01-17</td>\n",
       "      <td>3</td>\n",
       "      <td>Male</td>\n",
       "      <td>Gift of the architect in honor of Lily Auchinc...</td>\n",
       "      <td>French</td>\n",
       "      <td>43.0</td>\n",
       "      <td>True</td>\n",
       "    </tr>\n",
       "    <tr>\n",
       "      <th>2</th>\n",
       "      <td>Villa near Vienna Project, Outside Vienna, Aus...</td>\n",
       "      <td>Emil Hoppe</td>\n",
       "      <td>1903.0</td>\n",
       "      <td>1997-01-15</td>\n",
       "      <td>4</td>\n",
       "      <td>Male</td>\n",
       "      <td>Gift of Jo Carole and Ronald S. Lauder</td>\n",
       "      <td>Austrian</td>\n",
       "      <td>27.0</td>\n",
       "      <td>False</td>\n",
       "    </tr>\n",
       "    <tr>\n",
       "      <th>3</th>\n",
       "      <td>The Manhattan Transcripts Project, New York, N...</td>\n",
       "      <td>Bernard Tschumi</td>\n",
       "      <td>1980.0</td>\n",
       "      <td>1995-01-17</td>\n",
       "      <td>5</td>\n",
       "      <td>Male</td>\n",
       "      <td>Purchase and partial gift of the architect in ...</td>\n",
       "      <td>NaN</td>\n",
       "      <td>36.0</td>\n",
       "      <td>True</td>\n",
       "    </tr>\n",
       "    <tr>\n",
       "      <th>4</th>\n",
       "      <td>Villa, project, outside Vienna, Austria, Exter...</td>\n",
       "      <td>Emil Hoppe</td>\n",
       "      <td>1903.0</td>\n",
       "      <td>1997-01-15</td>\n",
       "      <td>6</td>\n",
       "      <td>Male</td>\n",
       "      <td>Gift of Jo Carole and Ronald S. Lauder</td>\n",
       "      <td>Austrian</td>\n",
       "      <td>27.0</td>\n",
       "      <td>False</td>\n",
       "    </tr>\n",
       "  </tbody>\n",
       "</table>\n",
       "</div>"
      ],
      "text/plain": [
       "                                               Title  \\\n",
       "0  Ferdinandsbrücke Project, Vienna, Austria, Ele...   \n",
       "1  City of Music, National Superior Conservatory ...   \n",
       "2  Villa near Vienna Project, Outside Vienna, Aus...   \n",
       "3  The Manhattan Transcripts Project, New York, N...   \n",
       "4  Villa, project, outside Vienna, Austria, Exter...   \n",
       "\n",
       "                       Name    Date Acquisition Date  Artwork ID Gender  \\\n",
       "0               Otto Wagner  1896.0       1996-04-09           2   Male   \n",
       "1  Christian de Portzamparc  1987.0       1995-01-17           3   Male   \n",
       "2                Emil Hoppe  1903.0       1997-01-15           4   Male   \n",
       "3           Bernard Tschumi  1980.0       1995-01-17           5   Male   \n",
       "4                Emil Hoppe  1903.0       1997-01-15           6   Male   \n",
       "\n",
       "                                              Credit Nationality  age_made  \\\n",
       "0  Fractional and promised gift of Jo Carole and ...    Austrian      55.0   \n",
       "1  Gift of the architect in honor of Lily Auchinc...      French      43.0   \n",
       "2             Gift of Jo Carole and Ronald S. Lauder    Austrian      27.0   \n",
       "3  Purchase and partial gift of the architect in ...         NaN      36.0   \n",
       "4             Gift of Jo Carole and Ronald S. Lauder    Austrian      27.0   \n",
       "\n",
       "  alive?  \n",
       "0  False  \n",
       "1   True  \n",
       "2  False  \n",
       "3   True  \n",
       "4  False  "
      ]
     },
     "execution_count": 17,
     "metadata": {},
     "output_type": "execute_result"
    }
   ],
   "source": [
    "names_dates_moma.head()"
   ]
  },
  {
   "cell_type": "code",
   "execution_count": 18,
   "metadata": {},
   "outputs": [
    {
     "data": {
      "text/plain": [
       "array(['Austrian', 'French', nan, 'American', 'German', 'Swedish',\n",
       "       'British', 'Japanese', 'Italian', 'Argentine', 'Swiss',\n",
       "       'Brazilian', 'Luxembourgish', 'Spanish', 'Dutch', 'Russian',\n",
       "       'Iranian', 'Finnish', 'Danish', 'Belgian', 'Nationality unknown',\n",
       "       'Mexican', 'Czech', 'Romanian', 'Polish', 'Cuban', 'Chilean',\n",
       "       'Puerto Rican', 'Uruguayan', 'Venezuelan', 'Moroccan', 'Colombian',\n",
       "       'Australian', 'Chinese', 'Yugoslav', 'Hungarian', 'Canadian',\n",
       "       'Slovenian', 'Latvian', 'Nationality Unknown', 'Various', 'Greek',\n",
       "       'Haitian', 'Israeli', 'Icelandic', 'Czechoslovakian', 'Croatian',\n",
       "       'Norwegian', 'Thai', 'Algerian', 'Guatemalan', 'Indian',\n",
       "       'Ukrainian', 'Irish', 'Costa Rican', 'Korean', 'Ethiopian',\n",
       "       'Kuwaiti', 'Scottish', 'South African', 'Zimbabwean', 'Portuguese',\n",
       "       'Panamanian', 'Ecuadorian', 'Peruvian', 'Congolese', 'Malian',\n",
       "       'Turkish', 'Cambodian', 'Bosnian', 'Canadian Inuit', 'Slovak',\n",
       "       'Estonian', 'Pakistani', 'Bolivian', 'Taiwanese', 'Paraguayan',\n",
       "       'Nicaraguan', 'Tunisian', 'Sudanese', 'Tanzanian', 'Guyanese',\n",
       "       'Senegalese', 'Bahamian', 'Bulgarian', 'Lebanese', 'Kenyan',\n",
       "       'Nigerian', 'Georgian', 'Egyptian', 'Albanian', 'Azerbaijani',\n",
       "       'Ivorian', 'Malaysian', 'Singaporean', 'Serbian', 'Lithuanian',\n",
       "       'Tajik', 'New Zealander', 'Namibian', 'Native American',\n",
       "       'Ghanaian', 'Afghan', 'nationality unknown', 'Ugandan',\n",
       "       'Cameroonian', 'Welsh', 'Mauritanian', 'Palestinian', 'Syrian',\n",
       "       'Saudi Arabian', 'Kazakhstani', 'Rwandan', 'Iraqi', 'Indonesian',\n",
       "       'Vietnamese', 'Burkinabe', 'Macedonian', 'Kyrgyzstani', 'Filipino',\n",
       "       'Mozambican', 'Angolan'], dtype=object)"
      ]
     },
     "execution_count": 18,
     "metadata": {},
     "output_type": "execute_result"
    }
   ],
   "source": [
    "names_dates_moma['Nationality'].unique()"
   ]
  },
  {
   "cell_type": "markdown",
   "metadata": {},
   "source": [
    "From looking at these unique values we can see that there are a couple of ways to designate if a person had an unknown nationality, which we deal with below. But all the nationalities, if they exhist, are in English and in a correct format."
   ]
  },
  {
   "cell_type": "code",
   "execution_count": 200,
   "metadata": {},
   "outputs": [],
   "source": [
    "names_dates_moma.loc[names_dates_moma['Nationality'] == 'nan', 'Nationality'] = np.nan\n",
    "names_dates_moma.loc[names_dates_moma['Nationality'] == 'Nationality unknown', 'Nationality'] = np.nan\n",
    "names_dates_moma.loc[names_dates_moma['Nationality'] == 'Nationality Unknown', 'Nationality'] = np.nan\n",
    "names_dates_moma.loc[names_dates_moma['Nationality'] == 'Various', 'Nationality'] = np.nan\n",
    "names_dates_moma.loc[names_dates_moma['Nationality'] == 'nationality unknown', 'Nationality'] = np.nan"
   ]
  },
  {
   "cell_type": "markdown",
   "metadata": {},
   "source": [
    "In order to tell if the person is european or not, we mad a list of all the nationalities that the MoMA has that are non-European/Western nationalities."
   ]
  },
  {
   "cell_type": "code",
   "execution_count": 201,
   "metadata": {},
   "outputs": [],
   "source": [
    "nationalities_moma = ['Japanese',  'Argentine', \n",
    " 'Brazilian', 'Russian',\n",
    "       'Iranian',\n",
    "       'Mexican', 'Cuban', 'Chilean',\n",
    "       'Puerto Rican', 'Uruguayan', 'Venezuelan', 'Moroccan', 'Colombian',\n",
    "       'Australian', 'Chinese', 'Yugoslav', 'Latvian',\n",
    "       'Haitian', 'Israeli', 'Icelandic', 'Thai', 'Algerian', 'Guatemalan', 'Indian',\n",
    "       'Ukrainian', 'Costa Rican', 'Korean', 'Ethiopian',\n",
    "       'Kuwaiti', 'South African', 'Zimbabwean',\n",
    "       'Panamanian', 'Ecuadorian', 'Peruvian', 'Congolese', 'Malian',\n",
    "       'Turkish', 'Cambodian', 'Bosnian', 'Canadian Inuit',\n",
    "       'Estonian', 'Pakistani', 'Bolivian', 'Taiwanese', 'Paraguayan',\n",
    "       'Nicaraguan', 'Tunisian', 'Sudanese', 'Tanzanian', 'Guyanese',\n",
    "       'Senegalese', 'Bahamian', 'Lebanese', 'Kenyan',\n",
    "       'Nigerian', 'Georgian', 'Egyptian', 'Albanian', 'Azerbaijani',\n",
    "       'Ivorian', 'Malaysian', 'Singaporean', 'Serbian', 'Lithuanian',\n",
    "       'Tajik', 'New Zealander', 'Namibian', 'Native American',\n",
    "       'Ghanaian', 'Afghan', 'Ugandan',\n",
    "       'Cameroonian', 'Welsh', 'Mauritanian', 'Palestinian', 'Syrian',\n",
    "       'Saudi Arabian', 'Kazakhstani', 'Rwandan', 'Iraqi', 'Indonesian',\n",
    "       'Vietnamese', 'Burkinabe', 'Macedonian', 'Kyrgyzstani', 'Filipino',\n",
    "       'Mozambican', 'Angolan']"
   ]
  },
  {
   "cell_type": "markdown",
   "metadata": {},
   "source": [
    "Then we made a function for the MoMA, like we had for the Tate, that designated if a person was European/Western or not, created a new column, and placed it in the MoMA dataframe."
   ]
  },
  {
   "cell_type": "code",
   "execution_count": 202,
   "metadata": {},
   "outputs": [],
   "source": [
    "names_dates_moma['European?'] = ['False'] * len(names_dates_moma['Nationality'])"
   ]
  },
  {
   "cell_type": "code",
   "execution_count": 22,
   "metadata": {},
   "outputs": [
    {
     "ename": "KeyboardInterrupt",
     "evalue": "",
     "output_type": "error",
     "traceback": [
      "\u001b[0;31m---------------------------------------------------------------------------\u001b[0m",
      "\u001b[0;31mKeyboardInterrupt\u001b[0m                         Traceback (most recent call last)",
      "\u001b[0;32m<ipython-input-22-74ee6bb146d4>\u001b[0m in \u001b[0;36m<module>\u001b[0;34m\u001b[0m\n\u001b[1;32m      6\u001b[0m         \u001b[0mnames_dates_moma\u001b[0m\u001b[0;34m.\u001b[0m\u001b[0mloc\u001b[0m\u001b[0;34m[\u001b[0m\u001b[0mx\u001b[0m\u001b[0;34m,\u001b[0m\u001b[0;34m'European?'\u001b[0m\u001b[0;34m]\u001b[0m \u001b[0;34m=\u001b[0m \u001b[0mnp\u001b[0m\u001b[0;34m.\u001b[0m\u001b[0mnan\u001b[0m\u001b[0;34m\u001b[0m\u001b[0;34m\u001b[0m\u001b[0m\n\u001b[1;32m      7\u001b[0m     \u001b[0;32melse\u001b[0m\u001b[0;34m:\u001b[0m\u001b[0;34m\u001b[0m\u001b[0;34m\u001b[0m\u001b[0m\n\u001b[0;32m----> 8\u001b[0;31m         \u001b[0mnames_dates_moma\u001b[0m\u001b[0;34m.\u001b[0m\u001b[0mloc\u001b[0m\u001b[0;34m[\u001b[0m\u001b[0mx\u001b[0m\u001b[0;34m,\u001b[0m\u001b[0;34m'European?'\u001b[0m\u001b[0;34m]\u001b[0m \u001b[0;34m=\u001b[0m \u001b[0;34m'True'\u001b[0m\u001b[0;34m\u001b[0m\u001b[0;34m\u001b[0m\u001b[0m\n\u001b[0m",
      "\u001b[0;32m/opt/anaconda3/lib/python3.8/site-packages/pandas/core/indexing.py\u001b[0m in \u001b[0;36m__setitem__\u001b[0;34m(self, key, value)\u001b[0m\n\u001b[1;32m    668\u001b[0m \u001b[0;34m\u001b[0m\u001b[0m\n\u001b[1;32m    669\u001b[0m         \u001b[0miloc\u001b[0m \u001b[0;34m=\u001b[0m \u001b[0mself\u001b[0m \u001b[0;32mif\u001b[0m \u001b[0mself\u001b[0m\u001b[0;34m.\u001b[0m\u001b[0mname\u001b[0m \u001b[0;34m==\u001b[0m \u001b[0;34m\"iloc\"\u001b[0m \u001b[0;32melse\u001b[0m \u001b[0mself\u001b[0m\u001b[0;34m.\u001b[0m\u001b[0mobj\u001b[0m\u001b[0;34m.\u001b[0m\u001b[0miloc\u001b[0m\u001b[0;34m\u001b[0m\u001b[0;34m\u001b[0m\u001b[0m\n\u001b[0;32m--> 670\u001b[0;31m         \u001b[0miloc\u001b[0m\u001b[0;34m.\u001b[0m\u001b[0m_setitem_with_indexer\u001b[0m\u001b[0;34m(\u001b[0m\u001b[0mindexer\u001b[0m\u001b[0;34m,\u001b[0m \u001b[0mvalue\u001b[0m\u001b[0;34m)\u001b[0m\u001b[0;34m\u001b[0m\u001b[0;34m\u001b[0m\u001b[0m\n\u001b[0m\u001b[1;32m    671\u001b[0m \u001b[0;34m\u001b[0m\u001b[0m\n\u001b[1;32m    672\u001b[0m     \u001b[0;32mdef\u001b[0m \u001b[0m_validate_key\u001b[0m\u001b[0;34m(\u001b[0m\u001b[0mself\u001b[0m\u001b[0;34m,\u001b[0m \u001b[0mkey\u001b[0m\u001b[0;34m,\u001b[0m \u001b[0maxis\u001b[0m\u001b[0;34m:\u001b[0m \u001b[0mint\u001b[0m\u001b[0;34m)\u001b[0m\u001b[0;34m:\u001b[0m\u001b[0;34m\u001b[0m\u001b[0;34m\u001b[0m\u001b[0m\n",
      "\u001b[0;32m/opt/anaconda3/lib/python3.8/site-packages/pandas/core/indexing.py\u001b[0m in \u001b[0;36m_setitem_with_indexer\u001b[0;34m(self, indexer, value)\u001b[0m\n\u001b[1;32m   1763\u001b[0m                 \u001b[0;31m# scalar value\u001b[0m\u001b[0;34m\u001b[0m\u001b[0;34m\u001b[0m\u001b[0;34m\u001b[0m\u001b[0m\n\u001b[1;32m   1764\u001b[0m                 \u001b[0;32mfor\u001b[0m \u001b[0mloc\u001b[0m \u001b[0;32min\u001b[0m \u001b[0milocs\u001b[0m\u001b[0;34m:\u001b[0m\u001b[0;34m\u001b[0m\u001b[0;34m\u001b[0m\u001b[0m\n\u001b[0;32m-> 1765\u001b[0;31m                     \u001b[0misetter\u001b[0m\u001b[0;34m(\u001b[0m\u001b[0mloc\u001b[0m\u001b[0;34m,\u001b[0m \u001b[0mvalue\u001b[0m\u001b[0;34m)\u001b[0m\u001b[0;34m\u001b[0m\u001b[0;34m\u001b[0m\u001b[0m\n\u001b[0m\u001b[1;32m   1766\u001b[0m \u001b[0;34m\u001b[0m\u001b[0m\n\u001b[1;32m   1767\u001b[0m         \u001b[0;32melse\u001b[0m\u001b[0;34m:\u001b[0m\u001b[0;34m\u001b[0m\u001b[0;34m\u001b[0m\u001b[0m\n",
      "\u001b[0;32m/opt/anaconda3/lib/python3.8/site-packages/pandas/core/indexing.py\u001b[0m in \u001b[0;36misetter\u001b[0;34m(loc, v)\u001b[0m\n\u001b[1;32m   1693\u001b[0m \u001b[0;34m\u001b[0m\u001b[0m\n\u001b[1;32m   1694\u001b[0m                 \u001b[0;31m# reset the sliced object if unique\u001b[0m\u001b[0;34m\u001b[0m\u001b[0;34m\u001b[0m\u001b[0;34m\u001b[0m\u001b[0m\n\u001b[0;32m-> 1695\u001b[0;31m                 \u001b[0mself\u001b[0m\u001b[0;34m.\u001b[0m\u001b[0mobj\u001b[0m\u001b[0;34m.\u001b[0m\u001b[0m_iset_item\u001b[0m\u001b[0;34m(\u001b[0m\u001b[0mloc\u001b[0m\u001b[0;34m,\u001b[0m \u001b[0mser\u001b[0m\u001b[0;34m)\u001b[0m\u001b[0;34m\u001b[0m\u001b[0;34m\u001b[0m\u001b[0m\n\u001b[0m\u001b[1;32m   1696\u001b[0m \u001b[0;34m\u001b[0m\u001b[0m\n\u001b[1;32m   1697\u001b[0m             \u001b[0;31m# we need an iterable, with a ndim of at least 1\u001b[0m\u001b[0;34m\u001b[0m\u001b[0;34m\u001b[0m\u001b[0;34m\u001b[0m\u001b[0m\n",
      "\u001b[0;32m/opt/anaconda3/lib/python3.8/site-packages/pandas/core/frame.py\u001b[0m in \u001b[0;36m_iset_item\u001b[0;34m(self, loc, value)\u001b[0m\n\u001b[1;32m   3095\u001b[0m         \u001b[0;31m#  but the behavior is the same as long as we pass broadcast=False\u001b[0m\u001b[0;34m\u001b[0m\u001b[0;34m\u001b[0m\u001b[0;34m\u001b[0m\u001b[0m\n\u001b[1;32m   3096\u001b[0m         \u001b[0mvalue\u001b[0m \u001b[0;34m=\u001b[0m \u001b[0mself\u001b[0m\u001b[0;34m.\u001b[0m\u001b[0m_sanitize_column\u001b[0m\u001b[0;34m(\u001b[0m\u001b[0mloc\u001b[0m\u001b[0;34m,\u001b[0m \u001b[0mvalue\u001b[0m\u001b[0;34m,\u001b[0m \u001b[0mbroadcast\u001b[0m\u001b[0;34m=\u001b[0m\u001b[0;32mFalse\u001b[0m\u001b[0;34m)\u001b[0m\u001b[0;34m\u001b[0m\u001b[0;34m\u001b[0m\u001b[0m\n\u001b[0;32m-> 3097\u001b[0;31m         \u001b[0mNDFrame\u001b[0m\u001b[0;34m.\u001b[0m\u001b[0m_iset_item\u001b[0m\u001b[0;34m(\u001b[0m\u001b[0mself\u001b[0m\u001b[0;34m,\u001b[0m \u001b[0mloc\u001b[0m\u001b[0;34m,\u001b[0m \u001b[0mvalue\u001b[0m\u001b[0;34m)\u001b[0m\u001b[0;34m\u001b[0m\u001b[0;34m\u001b[0m\u001b[0m\n\u001b[0m\u001b[1;32m   3098\u001b[0m \u001b[0;34m\u001b[0m\u001b[0m\n\u001b[1;32m   3099\u001b[0m         \u001b[0;31m# check if we are modifying a copy\u001b[0m\u001b[0;34m\u001b[0m\u001b[0;34m\u001b[0m\u001b[0;34m\u001b[0m\u001b[0m\n",
      "\u001b[0;32m/opt/anaconda3/lib/python3.8/site-packages/pandas/core/generic.py\u001b[0m in \u001b[0;36m_iset_item\u001b[0;34m(self, loc, value)\u001b[0m\n\u001b[1;32m   3567\u001b[0m \u001b[0;34m\u001b[0m\u001b[0m\n\u001b[1;32m   3568\u001b[0m     \u001b[0;32mdef\u001b[0m \u001b[0m_iset_item\u001b[0m\u001b[0;34m(\u001b[0m\u001b[0mself\u001b[0m\u001b[0;34m,\u001b[0m \u001b[0mloc\u001b[0m\u001b[0;34m:\u001b[0m \u001b[0mint\u001b[0m\u001b[0;34m,\u001b[0m \u001b[0mvalue\u001b[0m\u001b[0;34m)\u001b[0m \u001b[0;34m->\u001b[0m \u001b[0;32mNone\u001b[0m\u001b[0;34m:\u001b[0m\u001b[0;34m\u001b[0m\u001b[0;34m\u001b[0m\u001b[0m\n\u001b[0;32m-> 3569\u001b[0;31m         \u001b[0mself\u001b[0m\u001b[0;34m.\u001b[0m\u001b[0m_mgr\u001b[0m\u001b[0;34m.\u001b[0m\u001b[0miset\u001b[0m\u001b[0;34m(\u001b[0m\u001b[0mloc\u001b[0m\u001b[0;34m,\u001b[0m \u001b[0mvalue\u001b[0m\u001b[0;34m)\u001b[0m\u001b[0;34m\u001b[0m\u001b[0;34m\u001b[0m\u001b[0m\n\u001b[0m\u001b[1;32m   3570\u001b[0m         \u001b[0mself\u001b[0m\u001b[0;34m.\u001b[0m\u001b[0m_clear_item_cache\u001b[0m\u001b[0;34m(\u001b[0m\u001b[0;34m)\u001b[0m\u001b[0;34m\u001b[0m\u001b[0;34m\u001b[0m\u001b[0m\n\u001b[1;32m   3571\u001b[0m \u001b[0;34m\u001b[0m\u001b[0m\n",
      "\u001b[0;32m/opt/anaconda3/lib/python3.8/site-packages/pandas/core/internals/managers.py\u001b[0m in \u001b[0;36miset\u001b[0;34m(self, loc, value)\u001b[0m\n\u001b[1;32m   1094\u001b[0m             \u001b[0mblk_locs\u001b[0m \u001b[0;34m=\u001b[0m \u001b[0mblklocs\u001b[0m\u001b[0;34m[\u001b[0m\u001b[0mval_locs\u001b[0m\u001b[0;34m.\u001b[0m\u001b[0mindexer\u001b[0m\u001b[0;34m]\u001b[0m\u001b[0;34m\u001b[0m\u001b[0;34m\u001b[0m\u001b[0m\n\u001b[1;32m   1095\u001b[0m             \u001b[0;32mif\u001b[0m \u001b[0mblk\u001b[0m\u001b[0;34m.\u001b[0m\u001b[0mshould_store\u001b[0m\u001b[0;34m(\u001b[0m\u001b[0mvalue\u001b[0m\u001b[0;34m)\u001b[0m\u001b[0;34m:\u001b[0m\u001b[0;34m\u001b[0m\u001b[0;34m\u001b[0m\u001b[0m\n\u001b[0;32m-> 1096\u001b[0;31m                 \u001b[0mblk\u001b[0m\u001b[0;34m.\u001b[0m\u001b[0mset\u001b[0m\u001b[0;34m(\u001b[0m\u001b[0mblk_locs\u001b[0m\u001b[0;34m,\u001b[0m \u001b[0mvalue_getitem\u001b[0m\u001b[0;34m(\u001b[0m\u001b[0mval_locs\u001b[0m\u001b[0;34m)\u001b[0m\u001b[0;34m)\u001b[0m\u001b[0;34m\u001b[0m\u001b[0;34m\u001b[0m\u001b[0m\n\u001b[0m\u001b[1;32m   1097\u001b[0m             \u001b[0;32melse\u001b[0m\u001b[0;34m:\u001b[0m\u001b[0;34m\u001b[0m\u001b[0;34m\u001b[0m\u001b[0m\n\u001b[1;32m   1098\u001b[0m                 \u001b[0munfit_mgr_locs\u001b[0m\u001b[0;34m.\u001b[0m\u001b[0mappend\u001b[0m\u001b[0;34m(\u001b[0m\u001b[0mblk\u001b[0m\u001b[0;34m.\u001b[0m\u001b[0mmgr_locs\u001b[0m\u001b[0;34m.\u001b[0m\u001b[0mas_array\u001b[0m\u001b[0;34m[\u001b[0m\u001b[0mblk_locs\u001b[0m\u001b[0;34m]\u001b[0m\u001b[0;34m)\u001b[0m\u001b[0;34m\u001b[0m\u001b[0;34m\u001b[0m\u001b[0m\n",
      "\u001b[0;32m/opt/anaconda3/lib/python3.8/site-packages/pandas/core/internals/blocks.py\u001b[0m in \u001b[0;36mset\u001b[0;34m(self, locs, values)\u001b[0m\n\u001b[1;32m    329\u001b[0m         \u001b[0mcreate\u001b[0m \u001b[0ma\u001b[0m \u001b[0mnew\u001b[0m \u001b[0marray\u001b[0m \u001b[0;32mand\u001b[0m \u001b[0malways\u001b[0m \u001b[0mcreates\u001b[0m \u001b[0ma\u001b[0m \u001b[0mnew\u001b[0m \u001b[0mBlock\u001b[0m\u001b[0;34m.\u001b[0m\u001b[0;34m\u001b[0m\u001b[0;34m\u001b[0m\u001b[0m\n\u001b[1;32m    330\u001b[0m         \"\"\"\n\u001b[0;32m--> 331\u001b[0;31m         \u001b[0mself\u001b[0m\u001b[0;34m.\u001b[0m\u001b[0mvalues\u001b[0m\u001b[0;34m[\u001b[0m\u001b[0mlocs\u001b[0m\u001b[0;34m]\u001b[0m \u001b[0;34m=\u001b[0m \u001b[0mvalues\u001b[0m\u001b[0;34m\u001b[0m\u001b[0;34m\u001b[0m\u001b[0m\n\u001b[0m\u001b[1;32m    332\u001b[0m \u001b[0;34m\u001b[0m\u001b[0m\n\u001b[1;32m    333\u001b[0m     \u001b[0;32mdef\u001b[0m \u001b[0mdelete\u001b[0m\u001b[0;34m(\u001b[0m\u001b[0mself\u001b[0m\u001b[0;34m,\u001b[0m \u001b[0mloc\u001b[0m\u001b[0;34m)\u001b[0m \u001b[0;34m->\u001b[0m \u001b[0;32mNone\u001b[0m\u001b[0;34m:\u001b[0m\u001b[0;34m\u001b[0m\u001b[0;34m\u001b[0m\u001b[0m\n",
      "\u001b[0;31mKeyboardInterrupt\u001b[0m: "
     ]
    }
   ],
   "source": [
    "index = names_dates_moma['Nationality'].index\n",
    "for x in index:\n",
    "    if names_dates_moma.loc[x,'Nationality'] in nationalities_moma:\n",
    "        names_dates_moma.loc[x,'European?'] = 'False'\n",
    "    elif names_dates_moma.loc[x,'Nationality'] == np.nan:\n",
    "        names_dates_moma.loc[x,'European?'] = np.nan\n",
    "    else:\n",
    "        names_dates_moma.loc[x,'European?'] = 'True'"
   ]
  },
  {
   "cell_type": "markdown",
   "metadata": {},
   "source": [
    "## Analysis: Trends in the MoMA Dataset"
   ]
  },
  {
   "cell_type": "markdown",
   "metadata": {},
   "source": [
    "### Has MoMA acquired more diverse (based on gender and nationality) works of art in recent years?"
   ]
  },
  {
   "cell_type": "code",
   "execution_count": 25,
   "metadata": {},
   "outputs": [],
   "source": [
    "# number of works by female artists acquired each year \n",
    "female_by_year = moma[moma.Gender == 'Female'].groupby(['Acquisition Year']).count()\n",
    "female_by_year[\"Artwork ID\"]\n",
    "\n",
    "# number of works by non American artists acquired each year \n",
    "nonAmerican_by_year = moma[moma.Nationality != 'American'].groupby(['Acquisition Year']).count()"
   ]
  },
  {
   "cell_type": "code",
   "execution_count": 26,
   "metadata": {},
   "outputs": [
    {
     "data": {
      "text/plain": [
       "<AxesSubplot:title={'center':'Number of Works by Female Artists Acquired'}, xlabel='Acquisition Year'>"
      ]
     },
     "execution_count": 26,
     "metadata": {},
     "output_type": "execute_result"
    },
    {
     "data": {
      "image/png": "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\n",
      "text/plain": [
       "<Figure size 1152x360 with 1 Axes>"
      ]
     },
     "metadata": {
      "needs_background": "light"
     },
     "output_type": "display_data"
    }
   ],
   "source": [
    "# The number of works by female acquired each year\n",
    "female_graph = female_by_year[\"Artwork ID\"].plot(kind='bar', figsize=(16, 5), title = \"Number of Works by Female Artists Acquired\")\n",
    "female_graph.figure.tight_layout()\n",
    "female_graph"
   ]
  },
  {
   "cell_type": "code",
   "execution_count": 27,
   "metadata": {},
   "outputs": [
    {
     "data": {
      "image/png": "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\n",
      "text/plain": [
       "<Figure size 1152x360 with 1 Axes>"
      ]
     },
     "metadata": {
      "needs_background": "light"
     },
     "output_type": "display_data"
    }
   ],
   "source": [
    "# The number of works by female acquired each year\n",
    "nonAmerican_graph = nonAmerican_by_year[\"Artwork ID\"].plot(kind='bar', figsize=(16, 5), title = \"Number of Works by Non-American Artists Acquired\")\n",
    "nonAmerican_graph.figure.tight_layout()"
   ]
  },
  {
   "cell_type": "markdown",
   "metadata": {},
   "source": [
    "There is no discernable pattern in the number of diverse works that MoMA acquires each year. However, in the past 20 years, there has been an increase in years that have a high number of works of art by female or non-American artists."
   ]
  },
  {
   "cell_type": "code",
   "execution_count": 196,
   "metadata": {},
   "outputs": [
    {
     "data": {
      "text/plain": [
       "<AxesSubplot:>"
      ]
     },
     "execution_count": 196,
     "metadata": {},
     "output_type": "execute_result"
    },
    {
     "data": {
      "image/png": "iVBORw0KGgoAAAANSUhEUgAAAXkAAACgCAYAAADpRRxuAAAAOXRFWHRTb2Z0d2FyZQBNYXRwbG90bGliIHZlcnNpb24zLjMuMiwgaHR0cHM6Ly9tYXRwbG90bGliLm9yZy8vihELAAAACXBIWXMAAAsTAAALEwEAmpwYAABiNklEQVR4nO2dd3hcZ5X/P++dPqOp6l1ykWW5N9mx4zi99x5CSAJJKGFpoQQIbFiWXeC31F1KCgEChBQICSEhCenNce9dsnovM5re7++PGY0lq9uSVXw/z6NH0swtZ2bunPu+5z3ne4QsyygoKCgozEykyTZAQUFBQWHiUJy8goKCwgxGcfIKCgoKMxjFySsoKCjMYBQnr6CgoDCDUU+2AX3JyMiQS0pKJtsMBQUFhWnFtm3bOmVZzhzsuSnl5EtKSti6detkm6GgoKAwrRBC1A31nBKuUVBQUJjBKE5eQUFBYQajOHkFBQWFGYzi5BUUFBRmMFNq4VVh8onG4uxu6qHdHcITjBCOxYnHZXQaFcjgCUUJR+No1RJatYSuz49Bq8aiV5NnM5Bl1iGEGNO5g5EYR9q8HGh10+UNo5JAJUnUdfk42OIhHIsTjsaJyzJqlUAlSaglgUoSqd+ZZh0FdiMFdgOFyd8FdsOYbVFQmCkoTv40ZEttNx9UdeEPR3H6w9R1+dnd2INRq8Jq1HC0wzem42lUgrJsM9kWPTlWPbMyTOg1EuGojCsQwReKEojE6BXDm5WRRiQeZ3dDDz2BCLOzTOTZDDy/o5m6bh/BSHxU5xUCStJNxGWZWFxGr1GhlgR6jYqqdg8alcS3Lq/AH47R7QunfryhKGk6NRaDhiUFVtQqZUKrMHMRU0mFcuXKlbKSQjn+7Gxw8dyOJnY0uFBLgosWZKORJHY0uKjr8hGJyWhUAkkSBMIxartG52itBg0byjKZk5WGSavCE4yyt9lNo9PPwVbPKXhlw5Nr1ROKxun2hVOPOUxaKksczMsxU55jZu3sDKxGzYTaEY7G6fSG6PSG0GtU6NQSTc4AmWYdeTYDJt2Jj7XicZlOX4httU6icZloPI7NoGXdnAy06sm9ecXjMrubeni/qpP9LW463CEKHAY2lGVy0YIc9BrVpNo3kxBCbJNleeVgzykj+RlATyBCJBbHZtAMGJXKsszmmi72Nffg9IWp7/azrc6Zej7LrOOmVQXsbOjhQIsbIcSgDj7XqifPZiDHomdWZmLkfeWSPEw6NVXtHl7Z18bTWxto7glO+OsdLS19bJmblcZPblrKwnzrhJ2v2RXgoberaXIFWJRvwx2MsKPeicOkxWrQYNSq6PQmZhKhaByjVoVFr+H2tSWsKLaf0DklSZBl1jMvx0wkJlOWnTZlQlOSJCh2GPlLT4B3DnXgCUXZXAvPbm/CYdLy0G0rKHIYCYRjFDmMSNLUsHumoYzkpxHVHV7eOtTO4nwrK0scqS9zuzvIo+/V0NoTJBSNkabT8LWL5/FBdRfPbGvg4gU53HZGCS/vbeX5nU24/BFkZLLMes4qy+RQq5tntzfR1WfE2xe7UcMnzizls+fOxeUP8/sP6qjv9tPo9NPoDNDSEyA+dS6jQXn7K2dTnG6a8PO8tKeFR989yvZ6V7/HF+VbuWNtCZlmHa09QZYW2ZibNXUc8kQTi8u0uoO0uYO4/GF0ahVba7t5cksDaTo1hQ4jN6wo4JJFuZNt6rRkuJG84uSnGFXtXl7Z10p1u5dIXOaaZXmcW55NOBrn1f2tBCNxFuVbmJtlHnbkE4/LSJKgxRXgxT0thKNxLlqQTXG6CUkIhICtdU6+9+IB2txBZBla3f1H4WXZaVy9LJ9Pb5jdzxl5ghHeO9LJi3taONzmobUniDsYnbD35GTJNOu4/+Jyrl2ef8qc6p7GHh54bg8HWjzctb6Uz5wzhzSdmtpOH5tru8m26FlaYJvwUNFoCUfjOP1hdGoJm1E74eeTZRkhBJtrunntQBsHWz1kpum4dnk+y4psGLVKkGEsKE5+GhCPyzyzrYE3DrZTYDeyvMhOlkXLq/vaONTmJc+qpyTDxPnzs2h3h/jME9u578J5mHVq1s3JINOsA+Drz+6hodtPVbuXNL2aJ+9eQ22XjzZ3kAZngF+8WYVZp+Z71y5CAuKyjDsYJRSJE4vLxJHp8UeIy1CRZ2ZZoR27aeCXXpZl9jT18PqBdnoCEXRqCY1KQiUJZFkmFI1T2+Vje72LDk/oFL+bx0g3abl8cS7fvmIBqtM8HBCKJrKX9jb1cKjNQ48/QiASQ69R4Q9HybUaWF3qGJfRdDwu4/SH8YViHGx10+AMEInFybHoOdDiZn+Lm7gs835V14B9sy06XP4IABqVRFl2GpWl6Xz23MSNcjzwhaK8sKuZbn8YtSQwatUUpxspzTCRZzVMu9CR4uSnAbIsE47F0UhS6gLbUe9kR70LtUpQ0+njrUMdxOIyiwusZFv0qCWBSafmo2uKcSQdsSzLvFfVyduHOsi26LlzXQk/ee0wH1R38bWLy6nr8vH3Xc00OQN0esMEIjFMWhWxuIxJp0ajkvCFo8zPsfDQx1Zg0Z/cSFOWZX77fi2/ea+GJlfgpN+nE2FJgZU/3b1m3BzEdKPZFeALT+5kZ6MLrUpiw7xMzp+fxeICG0UOI5pxyi5qdPp59N0aml0BttY5+y14nwgqSbAwz8LiAhsrS+xctih33DKh6rp8PPpuDQda3OTbDWhUEnFZRqeW+MpF5dR0+thW100kJjM/18zZZVlT2vErTn6K8+fN9Xzrub1E44mLLMuiQ6OSSDdp+dgZxZxXno1xEAclyzJV7V72t7g5uywLq1FDPC7z1+2NeENRNCqJRflW9BoV//PqIbq8ITQqiXVzMvjM2bPp9IbZVuckHItx+eI8DrV6qGr3km83EAjHUrOBNaXpFKUbT+o1dnpDfOL3W9nV4Dqp44wWIcBu1JJr1fPvVyxgSaEVnfr0yuaQZZmfvHaEh96uJhaX+cw5c/jM2bPHJavF6Qvz9NYGnP4IKglkGRqcAV7Y1TwOlicodBhYnG+jwG6gJMOEViXh9IfRa1Sk6dRsKMtMzTID4RjP7mgk3aRFLUkUpxuZm20e8RyyLPPOkU621Tkpchi5amneuN30TiWKk5/C7Gvu4SOPbKInEEk9Vp5jZt2cdI60+TjQ6sbpC3PJoly6vCEqSx3UdvqYn2uhusPL6wfaOWdeFj+8fjGSJHh2eyOPvlvD/hY3koCrl+ZzxZI87np8KxfMz+bmykLOmJ3O1lontz+2mWhcJsusY36uhbcPd6Rs+OpF8xAC6rr8BCMxLl+Sx4ayzJP6AvjDUS7/3/fGnIc/VlSS4Mw5Gayfm8Fd62dN6LmmKu5ghNt+s5ldDS7mZKXxy1uXUzYKp+cJRvj0H7fjDkbIMuv4zlULsRs1/GN3C1cszqOq3UswGkOvVnHrox9O6lqMWacmTa9Gr1GhkgRV7d5+z9+xtoQHr1ww7DG21Hbzh411qCWB3aTFbtRgNSZ+2wxabEYNc7LSpny652mRQvnO4Q421XRx08qikxp1RmNx6rv9bKntpiTdxIpiO0KICYvn6jUq7ruwjL/taCIak1lRbOerF8/jl29WpzIRonE5NUL6oDoRw3xuZzNZZh1dvjB/2d7INcvzWTcng2uXF3De/Gye39nEgRY3FbkWGrp9FNgNRGJxMs06dGoVApiTlcbBVg/tnhDtno5+dv3wlUP9/n9uZzN2o4a71s/CHYhw6+riMb/PXd4w1y0voN0d5O+7mnH6IyPvdAKU55h550gH3lCU65YXDLqmMBVocwcJRmIEIjGcvgjlOeZxs/Vf+9oodhjZ1eAiFI3R5g6OmM3z4u4WfvLa4ZSzrMi1EI/LXPl/71OaYeK/XzrQ7zOb7PCXJxTFExr6JvNeVSevH2hjRbGdB57bmxjlqyQ6vSGK0010JWsXXtnXNux5SjNM3FJZyLnlWRSnm/CHYvjCicpvq0GD1aA5qVBOMBLj7zubuXFV4QkfYzhmzEi+d7V+rMTiMn/eXM+mmm52Nbio7/b3e16rkgjH4pwxKx2zPnFRl2aayEzTYTFosOjV+MMxyrLNlKQbSRsihh2Py+xrdnOg1c3sTBOv7GtjaaGN8+ZnUdflpzTDRJMzQK5Nj06tIhCO8cq+Vl470IY/HCMcjbOrwTXsRb0gz8L6uZl87Ixicq16PjzajcWg5uG3q3l+VwsAGWk6Xv7CejLSdHx4tIt9zW5aXAEOt3vo8oYJhGN4QlEkAfk2AzJwsMVDIBIbcL6MNB0VeRa+cP5clheNLs/7l29V8eNXD+MwaYnG5ZOO2x6Pzajh5lVFBMJRFhfYuGhhzqQ7I0gseu6od7Gv2U0gHKW6w8dzO5tQC0FZjhm1JDjQ4ubus2Zx+9oSzDoNBu3Jjx67vCH84RjBSIwCuxGDVkUwEqMnEEk5vV6+9NROnt3R1G//v392Hb96q5p/7m09aVtmKhvKMvn9xytT/w/mixq6/exvcZORpsVm1BKPy6hVEoV2AypJEIrGT2q2cFqEa6ravRi0KvJthhG3jcbivLq/DW8wyqv723jtwPB38tGyutTB4TYPC/OtrJ+bQSQm8/edzTS7AgjBoFNbg0aFTpPQYOn0htFrJJYV2pmbnUZJupE2d4i4nFg8+6C6kzS9GrNOg82oIduix2bUoNeo6PSE6PCG+MzZc1hWZKPRGeBPm+rwhRLOriw7jet+tREAi17Nd69eSHWHj7vWl2LRa/jCkzt4bmditlBZ4uCJu1enHECnN8Tn/ryDXQ0ufOH+zt6kVXHHuhLuu2DeqEYz7mCE3Q092Iwa/vhhHU9uaTjZtz1FbwXuueVZnFOehdUw+emJPf4If9xUy58+rMegVVFoN+CPxAhHZXxJeYUdDS5sRg1lWWl0+8NUt/swalWcMTuDbIuObIuedXPSWVpo7zejDEfjaFRi0MGNLMscafciyzAvJxGm6fSGqOn0YTdquP7XG3EHIuRaDSwrsnH+/GzmZKXx1qF2fv56FeFYoiDusTtWsqmmm4fePnpq3rBpSq5VTzASw+mPIIlE2q5GJRGLy9xSWYTdpOXbz+/leHerVUnMzkrjwopsvnhB2Qmf/7QI17x+oI3//udBFuVbuXZ5PlctzU9lnBxPNJlJ8vLe1nFz8L04/RHePdLJu0c6R7V9IDld7yUYibPxaBcbjx5LLStyGPn4uhLOLc/CH4nR4QmxptTBA8/t5WinDyHgvPJsHEYth1rdNLsCuPxhDrS42VzTjVYl8fzOYyM0dzDK55/cCcDyIhtd3jB/77NgFpPlfs5ka62TQCTGS59fz9EOH59/ckfqhuULx/jDxjqq2r3MyUrjlsoiCuxDh3Eseg21XT6+/djekyqgykjT8akNsyhJN5GepiXfZiAjTTdlMiB8oSj/8+ohttU5EQKae4KoJUF1hw+dWrC4wMaRPjFkfzgGQlDVnliv8IVj/a7NH/8rIclwbnkWXzh/LgV2I7VdPq7+xftcvDCH71y5gDZ3iLcPd7C1tptNNd10+8JUljpo7PbT7gkRTb7hJq0qdbNucgVocgX4x+4WNCpBRa4l5eABntnayJcuKOOx92qIxKbOgHCq0be6Oi5Dm/tY2vCP/3V4yP3CsTgHWtx0eEIn5eSHY8Y4+V72NPWwp6mH375fy6ICK+5AhHybgTvXlaZGNDq1RLHDyPkV2Vy6KJfXD7TxzLbGSbZ8aOq7/Tz4wv5+j/28z9+yTMohHD/dBvj9xiE7g3Hn77Ygy1BZ6sDpC1Oea+HqpXn9RodnzEpneZGNLIueTUe7CUX7yx5YDBp2NfTwyr42fvt+LWfNzeSz584ZUkKgqt17wg7eatBw0YJsvnzRPLLM+iG384WiVHd4KbQbsZu09AQimHVqjrR7qWr3srjASqHj5DKGhqKuy8fdj28lFInR7YukQmy9TjYUlYnG+r+HveqavUgCrl6WTzwuc7jNS1WHl25fIhvqYIuH6g4fRQ4j6Wla3IEIP33tCC/saqb9uJqEzTXdA+w7fjbWSyQms6uxJ/X/HWtLqMi1cM8ftikOfhozY5z8vBwzf/hEJe8c7qDVHeKFXc3Ud/sx69UszLdyoMVNWXYa7kCU+57ZyWsH2oFEJkZsqtfkTyCyDF+5sIwuX4Tz52dRWeroF6ft8ITYUttNJBbHHYzy3Rf29xvpAdy8qpDbzijhjx/W8fzOJs4qy2RBnmXIc37sjGK21TnZ09Qz5Da95Fj03Lq6iLnZZuZkpVGcPrq87g+qu3huRxOvHWhjfq6FXckc8d4b1OWLc/mfG5aMe9bE6wfa+OJTO8my6HAFBi4MWvRqvnHpfJYX22no9vOFp3biSc6KDrZ4sBk1uJLFaM/taOLFz61nXraZTm8Ik07NB9VdfOnpnf1Cfw3dE1N/8LsPaifkuAqnlhkTk++LLMs0OgO8ur+NeFzmrvWl/UamkVic94500uEJoVYJjFoV+1s8/Pz1Iyd13tWlDjYNMnKaiuTbDMzKNHHt8nxsBi13/m4LkCgcWlZk55bKIublmHnvSCevHWjDrFdTaDdysNXDi3ua+01HIREC+OIFZaNOWfzX/jbufnzkz/o3t6/kvPnZY359vlCUNw62850X9tPpPWZrkcPIqhIH1y3PZ+2cjDEfdyg6vSF+/voRHt9YR2mGCZ1aGqDEqVEJPn/eXD5+ZilPbKrn0Xdr+klJaJMzzL5hnBtXFnDm3Ey+8swuCh1GLHr1AF0chemLWhJ8/MxS7lxXQq515PXEoTgtFl6Ho7rDS12XD4FgQ1lmKm77+oE2djf2sL3eyZE27wDtlrEyHZy8Ti2xelY6j3xsBTq1ClmWaekJ8vbhDhblWXH6w8gcy5wZjC5viO+9dIA3D7bjDUVZXZpOlkVHXZefZz55xqji4rIs88dN9fznP/YPCP9AYuHq386dw21rik9ab8YTjNDaE8Rq0JBlGTrEM1ZC0RjvV3Xyyt42XtjdjD8cIzNNhzOZ9tqLXiNx+xkl3LGuBH84xu2PbabROfjoe0mBlUZnYEixOIWZh0Wv5om715yUQuppsfA6HLMz05idmdbvsSc31/ONv+2Z8uqJ48nsTBOP3r6K0oxjaoxCCPJsBm6pLKLHH6HTF2L93Ez84Sgv7m6hyGHkI49+SHG6EbtRi8sf4YaVBfz3tYvQSBIHWt1UtXuxG7WcVZY5aluEENy2ppi5WWnc8siHA7IO5mWb+dgZJePyus16DeaTlGc4nmgsziU/fZejnf0Lu2QSi9Z9nfy/nTuXe8+ZAyS0/Ydy8BpVouGJy684+OmAzaihON2ENxihusOHJOAbl86n0xvm129XD7nf3Kw0lhbaOHNuBqtL04nE4ifVU2AkTgsnfzxOX5hFBVasBs2oCnIkARdUZLO3yU2TK0BlqYPVpQ5eP9DOgVZ3ykHJcqL5xlRcpDLr1PzprjXkWIceyVqNGs6el5XYXq/hssW5+EJRIrE4e5vcqe16F7Yr8iz84iPLWZCXGIHIyQ5NY9EXWTMrnb99Zh1ba7vxhWL8aVMd7Z4Q163IP8FXempQJ0vsj6fTG2ZhnoW9zcfer/3NbtzBCBa9hiyzjtmZJqqTVb9ZZh25NgM2g4aqds+UnwkqkNS3mced60pRSYLWniC/31jL+fOz+df+Nh57vya1rV4jUZ6TWBM6rzybO9eVsHZ2+imVmD4tnbwrECEQjvH+/eeyuaabmk4f3zkue6WXIoeRn9y0lHePdKBTq/jKRfNYUWyn0GHkvgvn4Q5G6PaGCcfi7GnsYU62maPtXg61eZiTlUY0LrNjCsRQK0sdwzr4ofCFo2Sk6QaMPms6fTS5AgSTKoayLHP/X/fgDUf5+c3LxlQhvLTQxtJCGwD3nDULVyBM9jCZM1OFuVlmNtcmnLIQiQpRg0bFjuP0eV7a28INKws4e14WeTYDL35uPW8cbKfNHcQfjpFu0uIPx/o1c1E49VgNGjLStKSbdETjcbyhKEatmrPmZrC7qYe3DiWqwr9x6XxuX1uS2s9h0mLSJmQesi16fnLjUnKsOmJxWFyQ0I5q7Qme0PdvPDgtYvIj4fKHaegOoNckFst2Nrj4zXs1aFSCm1YW8sULykhP0436eC09AZ7e0sD+FjeRaJxoXGZvk5vuSZyGa1SCQoeRJ+9eM6a49Jbabr7w5M4hFSSzLTpuW1PMllpnSvvmqqV5/PjGpdNW2jcai/P/XjmERiXx+fPnDpnNs+loFw+/cxSzXs0nzpzFgjwLtzzyYb/ReKZZx7OfXjsgXXNrbTdf/ctu6rv9yIBOJfCPsretwvgyNyuN/7hqIWfMTh9yG5c/jMsfIdOsS4VWAuGEjPK3n9/HnqYeCh0Gnvnk2klx5qf9wutoicdl/nWgjR++fJCLF+bwiXWlfPWvu6nItfCF88tOuNBmT2MPD76wj/3NPQQm+Yt8/vxslhZayUjTccbs9FF1S6pq93D+j98Z03nuXl/KNy+rOFEzJ5UXd7dw7xPbybboyDLref7edcN+9h2eEH/d3ohGJVFZ4uCaX76fislfuSSPn9+yLLXtgRY3X35mF7euLubXb1fhCkQoSeqoNLmmTuvE0wGjVsUXzp/LnetKxyy81+j0c8sjHw5IX/3omiL+8+pF42nmqDjtF15Hoqrdy6aaLt440I7VqOHvnz0zdbd+9PZVJ338RQVWHvnYSq795ftkmfWpKf5k8NqB/jIO55ZnpdL0htJ46RuPHy1vH+5g7ex2zp6XOe1a3K2e5cBu1NDmDnHW3ExC0fiwOjIv7Wnh+/88yDcvLWdfcw9XLM7ljUMdfOmCMs6e138xeke9E5UQPLm5HptBS7ZFjycYpTTDRIZZR4cnRLPi7Cecixfk8O0rKsgbhQzKYPzXSwcGOPiKXAuXLpx67QtP65H8gRY37x1J6MFctCBnSBmE8aLZFeAHLx/k+Z3jp7k9Xhg0KvJsetJ0an53ZyV2k5b3jnTy0DvVo5ZoGIwlBVYWF9j4zDmzTyoP+FSwrc7J33Y0UmQ3Mi/Xwq/equLDo91cuSSPB69cMOT10ej08+Wnd/Hli+bR4QlRkm6kOMOEQaPiUJuHzTXdzMlKS2qwNxKMRNlUk4i/Ly20cbjVnQrVZCUd/an8VurUEmXZZoxaFeFojCZXkOJ0IzsbXP2SCNTHZQ1NV65dls+XL5o3wMHH4vKoQ4w3/npjv8FatkXHly4o46ZVReNq62hRRvJDMD/XwvzcoSszx5MvPrWTu9aX8tWLy6nr8rPzFDXPGC2BSCyV8dHcE8Bu0lKRZ2Fj9cD2bGNhV2MPuxp72N/i5huXzmdF8ejUKk8171d1cuujm8gy67hpVSFLC2zcvX4WNZ2JTlquQITf37kqNSuJxuLsaHDR6PRztCPR5vD6X2+kwG6gyRXg6qX5bK7pHnItY80sBz2BCLsbXf3SeNs9IRblW2lyBiZ0DWdlsZ3WpJS1NxQbUH3c4QmhkqAk3UhGmo5QNIbLH8GoVXOozTPEUSeH0gwTJq2KSFImfKSQ6LM7mviguotlRTbeOdzBrWuKuWFFAa/sa+Wz584d1TnXzHKknLxaEjx5zxn9UpOnEuPSAkUIUSuE2COE2CmE2Jp8zCGE+JcQ4kjy99T8dp8ivn15BcFIjHybge9ft4gzx7Hacrz54cuHiMbi2I2ak+4I1cu2Oid/3T519YF6pRq0aokLKrI50u7h7se3pip73zncwVW/eB9PMJFy++9/38cNv97InzfV879vHFNtbHQGkGV490gHnd6hwy6RqMyBFs+AOg2VAKtBTb5dT4F9YmY+GWlavKEojc4A3tDgOjYyEI1DbZefrXVO9jQl+rTWdiWE6E4W1ThF8JYUWKnp9LG32c2htoQmUm+m1nC0uoP8c28rvnCMh985yi/equIfu1tGfd71yZqQSxflcOC7F09ZBw/jO5I/R5blvvP6+4HXZVn+vhDi/uT/XxvH800r7CYtK0wOAMpzLNxzVikfVHdOyWKstw93cOX/vc+KYvtJd3EyalVcsjCXbIsu1Wx8KrIo38prX9rA7EwTQgg+qOok12pIjcS1KolCu5G9TT18UN1FVbuX1aUOtgyxvqJTqyjONw2ZFukLR7Ho1YSicXKteqxGDRqVRCAc471kc+vSDFO/nPrRMCcrDaNGRU8ggsOkRQg42OrBYdJiNWjo8ISIyzJp+hP76oeiMl3eEMuLbIRj8ZS07lj0cxbmWaju9FGabiJNr2ZHnZPICXwR0rSqAfLdoWicmk4f6SbtqKuGN5Rlcu2yfO7dv4NAODYqHf/lRXY+tWE2nzxr1pRvFziR4ZqrgLOTf/8eeIvT2Mkfz6FWLxdW5GDUqdjb2MPh41qXTTb7W9zsbxn9gusda0uoyLPQ4goQisaIywKrQcMVS3KJx+GqX7zHt6+oOOHmLhNNRpqOjGSabDQWp7rDy30XlrGi2J7U/Ffx0p4WbnlkE/k2PdnJNNTBfNPKYjtb65w0uQLMzjRhN2lpcwdTjlASiZzsXm2b2i4/DBIVq+n0YdGrWV5kQ62S8IWi1HX5Bh19L8izYNKp2Fxz7KZSl2yAo5YSM4xGZwABqFWCrbUnnpPv9Edw9qn9UEuJOozWniCdySYl5Tlm9BoVh1o9ZJoTN3hZlvGEoug1iaY4vddXRa4Fs15NJBYnJstoVRJbjrOvwG4g32bAG4oQisZp94SYm2Ue9CbaE4iwqsSOOxgZVWHi4gIr5bkWPKEov99Yy6c2zB5xH5UkuP+S8hG3mwqMy8KrEKIGcJKY5T0ky/LDQgiXLMu2Pts4ZVkeELIRQtwD3ANQVFS0oq5uaFncmUaPP8Iv366irtPHhrJMnt/VPKC8f7yIy4kuTM2uwLimcZ4/P4u1szM40OLG6Y/wtYsTi4/FGSbybQa6fWHu/N0WdjW4Un00P71hNh8/s3TcbJgIAuEYL+xuRiUET2yuZ09jzwD1TbWA8qT++uG2YzfpXIuObKsBrVoiFImhVkk0dvvRaSQseg0Ok5Z3+ixmqwSMtki6ssTO5kEc9II8C/uax54FNZ7YjRrKc8y0eUInPQMstBsw6zVIUiJhoduXCJMVOww09wRH5bwlkXDgVe3e1I1xsPf6T3etRi0JHnn3KDesLOTCiuwpORAZjlOx8LpOluVmIUQW8C8hxMHR7ijL8sPAw5DIrhkne6YFVqOGr18yn4ffqWbj0URZ/2jkd08GtSTIs+kxaFQIIVBLCRXOPY09Y54yX1SRjT8S43sv7icmw8J8C3Oy0pjbp2F0sytAgd1Agd1AtzeMPxzlBy8f5IoleVM6fCMEtLiCPL+zaYA+TS9RGVz+CAUOA6tK7PhCMXRqCY1KpBxxocNAjkVPvt1Abaef+u4Aa0odLMq3otckpI8lIWhzB3CYdMM66jWzHDQNoXujVUuT5uj1aolgNI7NqGHj0W4cJg2VJXaqOnwn3N6xwRkABr5Ws17DcquBaCxOIBIfdrYZl2FnQw9LklWn7Z4QmWZdP439u84sZe3sdLbWOVkzK52LFuSckL1TmXFPoRRCPAh4gbuBs2VZbhFC5AJvybI8b7h9J7sYarI4kWKj8cZq0FCcbmR34+huMgaNijWzHLx5qINVJXa21DpRSYIfXLcIo1bNutkZvLKvlRtWFqRGRS09AexGLU9vbeCjq4unTBen4QiEY9z1+BberxoYTzHr1diNWppdfuZkmck0J5Q4syw6NJIgLie22VbnxOmPkGHSUpxhZHu9a8CMrbLUQTwuE4vHqcizphQ+FxfYOH9+FvNzLXzrub3DhvVsRg0XVGRzwfxszHoNbx1un/C2fb1rBnbjQB2oiVJlXVJoRSMlWusdLyExHBa9Gm8omgqxXVCRzcO3rUAIweaabp7b2cS3LqsYl966p5oJHckLIUyAJMuyJ/n3hcB/AH8Hbge+n/z9/Mmea6aSmTb5Oi2JdL4elhfZhtQrzzLr0KokEJCZpkttF4rGubAii1gcvvHsXuZkmXh2exPr52YkBcsSzrw3T3681CVPBQatilsqiwZ18p5glAV5Fpy+MAdbPakY+0dWF+H2R9jT3ENjt58ih5GyLBVb653MlqRBQ3KeYKLy9b+vXYTNqOXVfa186o/byLfpWVni4FdvVQ/r4BcXWHnwygWphup/3lxPRx/N//m5ZixJJc6DrW56AkM3hB8NDqOWQochJRM9mNBfNCazIM+M0x85qQKvfJuenkCE8lwLoUiMXQ1jm+1mmnUUOYzIspy6Zi9ZmMNPblqaGoDoNRJfPL9sWjr4kRiPcE028Lfkm6UGnpBl+WUhxBbgaSHEJ4B64IZxONeMpMU9MZ19ToTt9S7ybYZ++d0aSbC40NZvkavRGcCsV3P54lyuW1FAod3ALY9s4ssXlXH9isIJLyybCGJxmWg8jk7d/4te1+Ufcp8ub5jFBVaWF9t5emsDbe4QFr2Ge9aX8sq+Nn73QS2barpTzZ031XSzqsROhydEly+MRa8mx2rA6Qvz81uWpTI1zi3P4rE7VrFuTgYaVUL1sMBu4NH3agbtZLZ2dkbKwf9jdzPfem5vv8Klw23e1H46tURlqYPNNd2opcQiYig6thl9aYaRbSMI722rP3a9lOeYickyR9rGlmCgEokaDm8odsKLxQV2Q79r95MbZvG1i8r7zST/vLmBdw538IkzSyl0GLmgYuyNaqYqp3XF61ThN+/V8N1/DK6Ceaox69VoJIluf5jZmSZqOn2DZpCY9Wpev29Dqs9qPC4TjsXHvZ3eqSIQjnHNL9/ncJsHk1aNSafGYlAjywnn3JVcT2hwBrh1dSGXLc7D5Y9gM2pYOzuDvU09VLV7+cJTOwH42sXlfPrs2RxocfP8zib2NfUQlyESl2nq9tPqDvZbAPzxjUu4dnnBiHbubXTxxJYGDrV6iETjdPvCNLoCmLQqNn/zfEw6NfG4zP+8eojHN9bhTbYf7JXAzjbraEv2ge1t6K1RJRqL93WEGkkwL8eMyx8h26pP5rULZGRCkTihaIzD7d4xJQrk2w2YdYksGqc/gkZK2DRY0ZdOLcixGHCkaU9KxbU43ci8HDPLi+zsanBx3fICzu/jwGNxmc89uYOttd20uUNcvCCHG1cVcG759HLySsXrFCffNvnhml5K003otSoauv1D5mcLAXlWA05fJOXkJUmgl6ang4dEWCbbqsdq0HC000erO0hrck2vbzu+PKueO9aW9ltcjsdlntvRxAOXJ+K5Dzy3lx+8fJCdDU7uPWcO918yn4ZuP7c9+iGONB2SBDaTBr1aTTASZVaWmTZ3kGgsjlol0eQK8MzWBuq6/Bi1Kq5Zls+KYjtCCBYW2Pi4Vs29f9pOVYcXWZZZXmSjJxDh35/fx39esxC9RsVXLy4nPU3L7sYe9jb14ApEyDLrONDiSWXo9Db0jsQSue+9mSeL8i04TDo+qO4kEpNpPK5qd2WxHU8oMuZMsKEWjcuy07AZtciyTDAS52iHF184Rl23P5UGOhYy0rSkp+lQS4KF+Va+fsk8bMahF/m7vWGeuHsNTl+YZUX2aaueOhSKk58CDNb+brLYPUJ2z93rS7l8cR5LRlFVON0IhmMcavPQExgYX1ZLgh/duIQLKrIxavt/bQ63ezjU5kGWZS5akMN55Vm8e6STB1/Yx80Pf8hnzp7NjasKCUZlzHo1nV4JWY7zqQ2ziMdlNtV0oxKC63/9Ae3uEJ2+MOE+18SfNtWTZdaRbzcQCMc42uEjHIuzotjG0XYPwWiM+m4/tV1+IvE437tmEWk6NWk6NTq1lLpZd3kTI+YtdU60aolCuyH1XG2XH7tRQ0m6CY1K4AlGyLcZ8IdjBMJR5mSZ0aoljrR72TrOuveHxxjC6cuyIhvnlWfxP68eBhI3oNouH4daE/0c7l5fOqyDlwQ0uvy8vLc11b1rpqE4+SnAhRU5GLUq/OHBS8ynAlqVxFllmXz14vIpX+F3IlR3eNlR72JhvmXQhecrl+Rx1dLBu1UZNCq8oWhqEU+tkjinPIvlxXZu+80mrl9RiEmr5v8+soybHtqIDDz1yTNYVmhDBv60uZ6X9rYOa1+7J0S7p3/z9G11Ls6el0E0BkWORKisLNucUhMtTjfxwHN7BxxLliEcjdMTiLCkwMquZEZVJBZHrRI4k2Eoh0lLplnQ0hMcUxbLqWBWpokrFufx+fPm8vM3jnDfBWWsn5vB09sa2Vrn5Kqlefy0z8LqUMTlRL3KvuaJTV2eTGbet3UaYtCqePCKBUzVWaJKEmyYl8k3Lp2ZDh4Si5E5Vj2CwT+E4YTsitNNPPvptan/t9U5eeNgGzvqnNywspBsS6LRxMoSB589dy5xGX7++hFkEjMEtXTi72lDd4C9TS6OdviIxWWuXXbsRrRmVjrzcy04jBoqci1kH1eX0OkNs6uxh4pcMyuK7HhDMYQ4Fp7a1+xmS60Tq2F8++OOB9ctL+CTG2YRjct87ty5/Nt5c1laZEctCdLTtLT2BHlqS8Owx5Blmd99UEskJvONS+efIstPPcpIfopw46pC3jrczkt7hh/RTQaxuMy55VnMyjx5YaqpSoHdyHXLCwhFYzQ4/XR4Q2Sm6ZCE4OuXlnPZolzicZk2T5B2dwhfOEo4mmz5mJXGpppuynPMXLeiAINGxav7uzFoVHzh/LJ+57l1dRG/31jLFy8oQy0JhBD89OalfOw3m2n3BNGpVagkgTcURRIJuQVfOEpmUnLBpFNj0qrRqQW+cAyzXpMKuRxs9XDjwxu5bU0x6+Zk4A/HyLXqqenwsb/FjSQSDdLjstxvnUGjlvCHown5BEmiLDuNLbVOKkvs6NQSkiSGrLSdLP7fK4f48GgXDd1+SjJMfO+aReTbDDx4RSKN9AtP7WRHg4sLKrIHdHWTZZknNtfzQVUXL+5poTTDRIF9fIT4piKKk59CfOvyCnbUu2jpmXpNIzYd7eKWysnRyj5VfP78hMzs0iIbLn+E65YXoJIEB1rcPPzuUX73fu2AkAkktFf2t7hZlG/l5soiKvIsVOQNPvLPsuj54P5z8QQj+MOxVIjlw2+cR1W7F51aIiNNx2v728i26lhV4uCux7fy+oH21DEWF1jZXJsIL/SW7vcWsTV0B/ivlwYvOI/LpGSC185OZ+PRLlaVODjS5hk0z73NHaSuj/DYymI7NZ2+UQt/TTRbarv50gVl3L1+ViosI0kiFfYMJ7OP0tN0RGNxart8NLuCVHd4+/V0XjYD15f6ojj5KUSu1cBPb1rK/c/uoWaIUvrJ4MKKbD519siiTTOBeFzm0Xdq2JzswVpoNxCMxOnwDnTuvfTGwLNH2TvXqFUjEKmeAr29RXslfGVZptMXYnZ2GnEZ3MctBOv75PHH5YSswFjp8oZRCfqV+PfFatDgTJ53WZEtkUkjSC3YNgyRKXMqqci1cPXS/AFx9/Q0LRcvyOG6FQXMyUqjvsvPN/62h4ZuH/l2Ix9Ud1GeY2ZJgY2idCM3riycpFdwalCc/BRj9ax03rhvA5truvnG3/aMSWZ2vMky6/jZzcuGbXA8k9hW182PXj3cr+NPgzPA8iLbsE6+97l2T5D6Lv+oNPgNWtWQ76sQgjvXJQTc/rKtkc7k8ZcUWPGFYwPaR45W3KwXtSRocvoZKqnLatBg1KqOzShlmZ19qkwrSxxTwslvr3fxny8e6NdDF+CiBTkpDZqX9rTw09cOc9uaYj6o7mLdnAzOn5/NR1YXTduajrGiOPkpiBCC1bPS+f61i/mvlw4gkxhGHWp1n7JG4OfPz+IH1y0eEM+cqVR3eLnpoQ8HtLcrchhHXBjtCSTSDQ80u/n0n7bh9IUpSjdy6+pirliSl9quqt3LN57dQyga49Y1xWwoyxx29C/LMu8ebiczTYdWpUKIRNHW8Wyvc7KiyMb2hoGaOIMRk2V0GhXeIbK5Zmea+mUYNfcEsRrUKSmEaHzqpPz+fVcz1yzL55zyrEGfN2hVVHf4OHteJlcvy8esn3qLyBON4uSnMCtL7GjUEukmLdevKODzT+5kUb4ZvSbhdOq7/URjMgV2QyoNbjywGzX84tblA8r7ZzL/2NUywMGvKrGztdZJ/QgFOd2+MJWlDhwmDXuSTc+be4Jsr3exv8XN+rkZrC5N561D7alR+K6/7KY43YhZryYzTcfZ87KwGNQ8s7WR0gwTiwusyTBRmM21zpQIHCSKh+BYfrkMbKt3UZxuHFaCoRdZhlybvl9sXaMSLCuy09A9sDVlod3YLzdeJjHaH6yeYDL444d1Qzr55YV2vnPlAgodU7dz00SjOPkpjBCCb19ewWef2E5lqYMLF2Tz7PamAdt1+cLMzU7jSJuX+blmDrd6BkzhNapE9Z/LH6HbF6YnEOGXty7HotegUQme2tqAWafm2e1NBCNxptBg7ZTQm75q0KgoTjeiUYkBjSuGo7UnQNNxIlzhaJxfvVXNr96qpshhTIVderHoNSlp6TcPdaQe/6C6i79ul4jEZFYU2ck26wbo0EgiofK4uaYbmYQ2zJpSByUZJn6/sW7ENR2bIdE1SpYT8gbluZZB4/OFdgMHW/vL+e6od5Fr1VOaYUSrVrG1tntSO5wNl+JpNWr46JriU2jN1ENx8lOchflWfn3bCu59YgffvWoBbx/qGDS7obE7QFl2GgdaPP0KXACWF9n4wXWLU6X4Tl+Yo51e5uVYUouGq2elp35/5k/beXJLfSouPJORZZnH3q/l528cYWWxnQMt7pSa5Fio7w6gUQmGKmcbbDbQ5Rs6zj8rI40Gpz+pmx4boN8Sl2FTTTf5dgM2gwaDRoXdpOWOdaUUp5u483dbRrDXT7HDSJMzgC8cG7TDkkGjQqeWBu1ElWnWUdXuwxuKkmvVk23RsauxZ9BwUUm6kTS9mmAkjloSHGn3DiqydqKciPTB6cTMrGyZYcgybK7p4onN9Tx37zoW5VsHbBOIxFLT912NPawqSSgS3rq6iL9+em0/rRW7ScuKYkfKwfclz5aQA/77ruaJeClTilf3tbL+h2/y3X/sJxKT0apESs9lrCTa143RcQ2zeZcvxM9vXsaNqwoH9DHtS5MzwL5mN1vrnDz6bg17m3o4pzyLn9y0hFmZx0IUxxd+DheCMuvVLC2wkZ6mpWqIhf9EyqZMZakDk07N4TYvdoOGilwzZ83JoCTdSL7NwDnzMmnpCbC3yU1Vu5dgJEaBTY95kGvvRJidaeKxO1aNy7FmKoqTnwbMz7Xwl0+tZX+zm6113Tx02wpKRsjgONrhY06WiVkZpjG1MltaaOOiBdnsqHcRisR461A7uxtdJ/kKph6ba7r52l93E4rGKbDpyUzTEo7FWV3qSK15jAWHcXylldvcIeq7/dxcWcQNK0ZWpwTwhKLc9NBGGrr9XLIwlxc+eyY/vH4xf/hEJf/6wlkDHGuWRY9BN3DdxaxTc7DVTeMIGTTeUIzNNd1UtXtJ06mZlZlGmk6DNxzBrFej10jsa3anZIyXFtio7fJT1x3APk5S1D+8fvGUrMidSihOfpqwMN/Kf1+7iJ+/XkV6mpYHLqsgfZgvSpcvTFW7D+MJjJh+dONS7jlrFjqNinybgYVDFPZMZ/797/tw+iMsyLPQ6ArS4Q2ztc7Fpppu5malsWCMr7nVHcBuHF9n86NXD9HhCfHtKypGrc/vC8f45ZtVvHWoA5NOzfXLC3j3SAf7mt3843Nn8vBtK/j8eXO5dXURxQ4j1y5LyAN889L5qXaMzT1BFo+xQKjdE2JrnZPNtd2oJVVS/0absrs0w8jO5GBhZbF9xMXs0XDPWbNYXmTng6rOkTc+jVFi8tOIfJuBL184j5+9doQvXziPP3xiNXc/vrVfg4/jOXNOxpjPk6ZTp7Q8XIEIzT3BGVX2/dDb1RxocbO61IFnUMVJiR0NLlYW2znU6sETGrmLUigq4zCpWFmcNm4qje5glAee28NDt63ke1cv5Gt/3T1s6KaXZ7Y1YjVq2NHgpKbDx4FWN68daOc/rlzIWWWZXDhEH9PyXDO/fLMaXyiKaxCN91EjEk1l2j0h5ueYKbAbsBm1QMKxS0IM2i5wtKgkwb3nzOFz587hN+/VcLTTx9oTuM5PFxQnP40QQnDZ4lzspkT6WkWehSfuXs1Vv3gf1xBfmLF0aKpq9/BBdRdHO3wEwjGuW1GQ0vqeKXiCEX74yiGK0430BMJ0egc6M22ygnRrnROHScuSLOuoWs4ZNCr8oShl2Wmk6dQYtCrcgQiRmHxCi7kAuxp6qO/yc8miXDq8Ib79/L4R94nGZV7Z10pGmg5PMEqh3cAH1d189DebWF5k47d3Vg4a4lg/N5OFeVY+9cdtI0pOD0e7O5FltGaWg0A4Rr7N0K/X6+bablYm01OFgLJsM0ZNog5ArZIGzfLRqARZZj2rSx18csNs5uUk1pgOtXq49TTPnhkJxcn3oTvZjq3NHSLPph9TLPtUsnb2sVFLcbqJT541mx+8PLheyeE2D8uSbeH6EovLHGhx4/JHKM814zBqaXYFuWFFId5QlH3NPfxtRxPvHO7gkxtmcUtl0YxQoPzte7XMyzFjN2gIRmIc9A7UMu+bIdLtC9PtC7O0wEa900/3IJlNDpOG0nTTgHZ4q0rsqbz58pw01CqJvU390xEXFwxcRD+e+57ZyR/vWk15zuhDSDWdfmo6EyPnpYXHzlHf7R82s8Vu0nJBRXaqZaEkxID6geFYXepgSaGVJQV21s5O57fv1/DkIGqQRzt8VJYkGnTE5GPyChqVYP3cDHKterbUOhEkZB9uqSyiPMeM+rhr8IHLK5SY/AgoTr4PvaPeLIuOqnYvWRb9tLiA5GHSNB59t4b/+4htwA3r7se38sbBdsw6NS9+bj0ZaYKzyjKBRJXg2fOyOHteFrsbXTzw3F7+740qPnZGMfeeM2fK3vxGw6xME/ub3cNuE4oNzLDZ2ejCrFMxP9fMgZZjo/JlRTaqO7yD9jut7vCiUyf6px5sTdxMZmeaMOvV7GrsQUgiJSw2EuFonBXFdi6oyOZf+9tGtU8vvRW7pRkmfnzjkhFnd3etn8WifCuFDiNffGpnv1H4cJi0Kr53zULmZB3L5LpmWQG/fb92wLb+cBSDVs3bhzvQqgTLimw0dPvJMuv5f9cvIceq56kt9SzKt1KRN/SNcDp8Pyeb6T80mwA0KgmTTs1v3quZbFNGxUULcpidOXhF34t7WvjncQ0pajp9bEl+cVeW2IfVWlmUb+Xxj1fyry9t4K71s3D5I3z00U1c+rN3+eJTO6lqP/GuPpPB+uSNbDh8g+SFA3hCMQ62eKgsdbCy2M6ifAs76l24A4PHySUxsEF2dYePnQ09zMs2D9kObzCq2r2oJMHDt63g/PmDV3f2opYEBXYDlSV2yrKPrRHcsLJg0FndYKyelU6ezYBZP7px4M2rCnn//nP7OXiA0kwTz3z6jH69EhbmJ+oz9jT2UOQwEo7JtLtDRGIy/3NDwsG/fqCNbz2/b1wWaE93FCc/BHk2A1+6oGzkDacAszPTePkLZ/H58+ZSnmMe8Py9T2znI498yJee3slFP3mHi3/6NjaThmVFthELng60eHjk3aMAhCJx3q3q5KKF2ZRlp7G82M7BVje+UJRH3jl6cot1pwirQTNiiuRgIZleZBKhhVhcToVihiLXOrQuzfHVryPx78/vpcUVQAjBF84vQztI6GxlsZ1ca6I61ukLs7/ZzeE2L+kmLQ9cNp/PnD329najCRHdfkYx/3XNoiHXbspzLHxk9TGZallONCzp9oexGjQsK7SRbzfgMGl5emsitDMnK40fXrc4JTQ2FO8d6eTeJ7bTc4KLuKcDSrhmhqBRSXzxgjI+d95c/rajiSc317OzwUU0LiPLiVL5XuZkpVHT6SMjTTdsxyNggDb6lUnBrY+uLu4Xtrn7rFnj/IomhiZXgFg80WvVM0SmSrcvjFpiSJVGgMgodB+G0/4ZS8GnWa/GH4nz8zeO8N/XLmZhvpX/uGoBT21poNMXwqJPqEZurXWmAne+cIwLKrLItui5fkUhS09QM31Z0fD7fe+ahdy6euSFz1kZCb2d0gwTwUgMjUoQickpWQeABXkW9rf08PLeFi5emEtx+sh6M+9Xd/Li7hbuXj+LpcbhbT1dUZz8DEMlCa5fUcD1KwpodPp5cXcLnd4Q55Rn8fbhDv60sS7V5DndqOWZbQ3IMrT0BFiYZ+X6FQUDFrcGY7rG5XfUO4nGZMIiRmWpnW11LtSSIE2nxpbMcxdC4PSFB5WPcJi0FNgNI8bSF+RZONAy9Ei/NN007IyhL7MyTOxq7KHNHeSes2ZTmmFifVkG9z+7J7nFwLDP0kIbD9+28qQ/p5XFjkHFyNbNSedLF8xjRfHowj+zMk189eJ5fHxdKXf8djPAABntuCyzucYJJPrMjqZJzesH2riwInvMdQ2nE4qTn8EU2I18csOxZh9rZ2ewINfKl5/ZRTQexx2K8MOXDwFQnG7kUKsHi0HNpYvyhjrktCYSi/PLN6uRSeS1b65xsqEskw+qOukawqkbNRIVeVbcwQiRaJyarsEzbI5HJYaWSKjItbCtfvS59Gl6daI1n0riG8/u4eZVhZw7Pwu9RiJ4nPT0LZWF3LSqiMX51nG5EVuNGr5y0bwBDcHPLssatYMHUgv5AMuL7PxhY23qOZ1aoiTDhEaSyLcb0KgEP3r1MDevKhzxNVy7vIAjbV6aXYFRjfxPRxQnf5px5dI8zirLYFeDixf3tFBkN1Hf7Wd3o4u6Lj8/umHpZJs4YWhUEtetyMewWyIci7OnyY3TFyYyROxkZbGdRlcgtXC5ssROTVLKd2WxHX84hloSRONxDrV6WJBnRSWBJEnDNmUf7WJmL/5QjB195H+7/WFissyqEgfvVXVy8YIcFhVYuWFFYapqdTw5b34WDzzX/7FG54kviF64IIetdU5MWhXvVXWyKN+aeo81KkFWmo5Ob4gmV2DEIrxlhTb0Golfv11NSbqp36BGIYHi5E9DbEYtG+ZlsWFeFj3+CHc/vpVgNI4kRpeSdrDVTUtPkHnZ5pSg2XRhblYagUicuCyzstiGQLC4wIpKEjR0+1PFUeU55gGVq7saXJw1NwN/ODrgObUk+hUQleeYmZtl4kj7QIGvkfLOJQHzc83sa/awIM/M3ub+oaFDrR6e29HErauL+I+rFlKa0X8EW9vpoyRj/Ea1ORY9K4rt/ZQqR5ulMxjzc814AhG+eH4ZnzlnDk9urk+9n3qNCil5hxxN56YlhTasBjW3n1FCS0+An712JNWrVyGB4uRPc6xGDY/duYovPrUTbyiKVj34EDQWl/nDxlq21Dnp9oY5qyyD//zHfsqyzfzoxiVEYjJWg4ZuXxinP4xaElgNmilXLXtWWRaxuMyP/3WErXWufs9Vljjo9CZSS3sd8aJ8KzqNhFqSUEuw8WgXeYNkzRzvuC0GDfG4DAx08vF4HJtBjWuI1EujVoVAYNJIdPsig6pbhqNxqtq9nD8/m4OtbvY09vDukU4anX5aeoJs/Pp5o3k7RoUQgu9cuYDL//e91GPDZQ6NhEaSKMsxs6rEjlolkWcz8MbBdtLTtKgkiX3NPXzj0vJhtZkA9jb1sDDfikGr5qt/3c2tq4tx+sPE4jKq4aZSpxmKk1cgTadmaaGNp7c28P1/HuTbVyxAJQnqunxkmfUYtCp2Nrh48IX9aFQCm1HLqhI71R0+qjt8qTz8c+Zlsq3OiVolcc2yfD6+rmTKOXmAc8qzicvwmT9tY0mhnVA0xq6GHpz+MIvyrbgCYWwGDStL7IQiMbbWOlFLgrLstMTNzKiF7qFz3NNNWlz+8KAj0QV5FnY09FBZYscZiKBVSQQjMXoCkUSrQZWELxRlb7Obs+Zm8M6RwcW3dje6aHAG+N83qgj1SQNymLScPYpagLGyMN/K/NzEYvJli3Oxn8TnGo3HSTdpUwv8+TYD2x44n889uZPtdU5e/vxZI85EGp1+3MHEYnCh3YhGErgDEW5bU0w4GsegPX26mo2EkEfTFPIUsXLlSnnr1q2TbcZpSzAS43N/3kEkFketklhRbOf9qk7OnpfJ/75RhcsfQasSzM0209oTHHShsi83ryrkyxfNI2OK9ol99J2j/OdLByhJNxKJxvEnnW3fQXllsvsSJJxROBpHiITq4lCsKrGzt8nNnCxTKpd+WZENfzjGkTYPcRnKstIwGzSDNuuAZCevPGu/WPzxWAxqyrPNdPrCHO3wsbzIxvZ6F49+bCXnV2SP/Q0Zged3NvGrt6p56LYVfOnpXXzsjGKuWpo/5uNsr3fysd9s5v9dv5hLFuWmHn/zYDuLC6wj9hWOxOLsa3b3Sws91OLGE4ryy7eqmZ9r5isXlY/ZrumMEGKbLMsrB3tOKYZSSKHXqHjothV89+qFFDmM3LN+FjeuLOSx92pTAmjhmIxRqyIcjY84JT7S7uWCH79NXdfwregmi0sW51JgN5Bl0SMDSwpsA/LXA+FjIRWdWiIuy0P2NlVLUOwwsqXWSSASQ69WsbrUwbIiGzsbXBxq9aSOf7jdy5F2D1lDLJTajFqC0eEbmLgDUTbXOjna4WNFsY3djS5mZ5qG7Hd6sly1NJ/n7l1HcboJdyDCYydYEV6Ra+F71yzkr9sb6TvIPKc8a1SN4zUqqZ+Dd/nD/OS1Izy5pYE3D7XT0hMceufTEMXJK/RDCEGB3ci3Lq9AkgRXLMmjwN5/cXVLrRNPKKFuuKTQSsUgBVVaVSLc4/RHuPN3W9jb5KLdExxWFvlUk28z8NqXNrAoz0JzT5BuXxiNqv+Nq2+v1EKHkfMrsrlmWT6VJY5+2y0vsqFTq/rJEnd4Q2yq6WZHvWvQtni9cgiDVeB2eEI0OgMUOUZe2J6Tlcb+ZjfRONx34bwJjUf3hqCuWJLHBSc4W9BrVFy5JI9Cu5E7fruZuhH60fbFE4xw+f++y+G2Y/pBVoOGX310OZcvzmVetpkvnj89KtVPFUq4RmFEPvroJt4bpjHD6lLHoCJWZ5dl8tbhDgwaiXy7kap2L8XpBjSSivsvKZ+QkMKJ8sq+Vr7yzC6KHEZkEimScTnhVBqcAe45axbnlmellDgjsTgX/fQdjnb4MGgkNCqpn9a7JPpXtRq0iQYsvVo/DpOWQrsBnUaFXiWxpS4x+u+LWhKsKrGzqWbwRtlFDiMZaVqOtHvxBKOcMy+Tx+5YNWUL1X73fg17m918dE0xSwttPPruUb7/z4NkmXW8dt8GjNrhlwgPtLj5wcsHeetQB2k6NU/cvZrFBbZ+2/jD0RGPMxMZLlxz+r0bCmNmpLzuviqYq0rsCAT+cJR3DndQlp2GLCdCNwDRGNR3e/n6s3uIxuNcvDB3qMOeUi5akMPa2el0eELMykwbcXuNSuL3d1bS5g4yNyuNbz63l3/sbkk9H5cTN4qtdU4K7QZyrXo21zqZk2kiTadhZ6OrX1FVnk2PJaYmz2agJxjBpFWRbtLx1uEOMtN0lGYaqW73UegwoFeriMTi7Gp0pQS8itON/PjGpVPWwUNCkfK5nZu547eb+c3tq7h4YQ4/fPkQzT1B2t0hSjKGvs5qO318/dndaCRBRa6Z284oHrTX8eno4EdiwsM1QoiLhRCHhBBVQoj7J/p8CuPLu0c6ePtwx7Db9M3uEMDWum72NruJkxCiOtLuZVWJnSyzDrtRg1oSFKcbeeTdqaXyadZrRuXgeyl0GFlZ4sBq1PLdqxeikQRqKfEeAOxpcnHmnHQanIHUInVVhy/VBq8vza4gbZ4Q3nCUox0+9jS5ea+qE7NeTYc3xOYaJ12+MDsbepCBbfWulLZOvs3Ab+9YNW59UycKq1HDk/esISNNx80Pb+RIu5f7LkyEVvYNIf/c44/wwHN7uPnhD9nT5KbVE+JgsvBsKt/QphIT6uSFECrgF8AlQAVwixCiYiLPqTB+uAMRvvPCPvxDlOcXOgxUljjQSIJ0k5Y0nRoQ/UILc7LSWF5kI5wsttrX7Eavltha52RbnZNX9rUOeuzpxq4GF5G4TFm2hUKHkVmZJoocJva3uMmz6gfotAyFrU8xWjQuD7owG+0jjnbZ4lz+/tl1Y7o5TSZ6jYq/fnothQ4jn3x8G3/d3si3L6/gX/v7XwfhaJwf/PMA9z2zi9cPtOMwaVleZKOhO0BchkferSEai+MPR/El10EisUTlMcDfdzWzYwzSETOZiZ7bVAJVsiwfBRBCPAlcBeyf4PMqnCShaIxzf/Q2wUiMyhIH7mBkQAs7u0HLvuYefOEYuVY9siyzubZ/bH6wVm6epF67WhLMGsfKzMmkLdnybn9SlGxViZ0ttQknU56jp3kUGR8qATv7pEz2hnsGIhACvnvVQj46DVvfWQ0a7lxbwree38fhNi+PvnuU395Z2W+bNneQX719lFyrni5vaEDGzMULcghH4/zfm1XEZJlss552T4i71yeks1t7AmhVykgfJt7J5wN9e381Aqv7biCEuAe4B6CoaGTVOYVTw1NbGlKa572Oe152Gq3uUCqFsN0bSolwnUjaWjQuc8FP3uHSRTnMyUxjzex01pSmp8rapxN94/FAvxoCyyi1akoz0/CHolgMGlSSQKcefKKtEoJvXDJ/Wjr4Xj66ppgdDS6e3d5Ec0+Q1w60UZadlgrBZFv05Fr1g15XGWk6zinP5FCrB7tRy4J8C13eMHeuK0ntf+WS/FRB1Et7WnhpTwsOk5b7Lyk/7eL2Ex2TH+zb2i9PQJblh2VZXinL8srMzPGv1FM4MfY29fRrTFFZ6uBQm5dcq54ss47idCPuIfLFx8pLe1r5+RtVfOSRTZzzo7dw+cNEYiPrtU8lNvSpMi20G1Anb1SVJQ42144ubJBu0pJr03Ow1cO+ZjfvV3exrNBGznESAksKrdy5rmTcbJ8MhBB8/ZL5mHUJh/v/XjnEh0e7U3nzWrXEz25eNui+/3PDYozJ1oHfe+kAP33tCBvmZfaL0edYj7XuXFFsx2bU8OHRLnY39hCJxXn03aN8/skdvLy3heg0u9bGykTf0hqBwj7/FwDNE3xOhXHgc+fN5Y2D7Ri0KkxaVSrs0jdkc+acjGFTK0+Eui4/677/BkIk0geNWjXnV2Rx1ZL8KT3C//i6UnY39tDSE0iFaYBU6f1o0KslfOH+uZI7GlxoJMHKEjtba51cvjiXb1w6f0YsOmaadfzg+sXc+8R2ZBlueeRDfv3RFVy8MNENamG+hQcum8/2eicqSWJjdSed3jBzshLrD4daPdywooC/7WjCG4xi0Sec+psH2ynLNvPs9kZ0GokbVhRyxeI8/ry5gf994wh5VgPPbGsE4PmdzdiNGlaVOLhhZSHr52YMKkexrS4hbbHkBJuvTCYTmicvhFADh4HzgCZgC/ARWZb3Dba9kic/NQhH43zkkQ9xBSLo1NKAzAeNSrAg14JKEoM2sJ4ILqzI5mc3L5vSmiTRWJzP/XkHe5p6UKskHEYtOxqco+4CdeacdKravbS6B0om6NSCZUV2vnV5BQuGaWw9Hfnd+zX810sHCcfi/PnuNZwxO33Q7drcQfzhWEp183Cbhxd2NeMJRrEZNXwhWQQVjsZRSyI1KIjEEv8fbPVwsNXNX7Y18uHRRAtHSGg3eZOLt0atiq9eNI87jmuL2eOP8My2Bq5elj8lZTomLU9eluWoEOKzwCuACnhsKAevMHXQqASd3hC1XQM1wyWRmArvHKEz0njz6v421v3gDZYXJToeTcVRvVol8e0rKrjr91tx+sO0ugOk6dVDNvo+nkA4PqiDh0STk3ybccY5eIA71pWyotjBfc/sRCMJAuHYoDfzbEv/sJUsQ1m2mSuW5PHM1mNLf9rj1jJ6C9jm51rQqSWuWVZAS0+Arz+7h7cOdRDvM9D1h2M8+MJ+9BoVVy3N561D7exq7KEnEOEjlUVkpOn4oLqT1aXp00bpcsJXIGRZfgl4aaLPozB+CCH4t3Pn8sBzewdUYS7Kt7LrFDv4Xrp9YV470M6+ZjeLCqams8uxJrRw9iZnP+U5ZtyBRIgrM02XWG8YYmjf6gmSplPhDQ2estrg9BOKxobtHTtdWVRg5YV/O5NbH9nE/pZjVbFH2ryUZpq4YnHugBDVvBwz85KN629YWTjYYQfgTDabz7Ua+OpF5bx1qIPBPo37n92DWiVxxZJc8mwGKvIsqZvFrIw03jnSQWm6aVx1+ycKRbtGYVCuW1HAly4YqAEiTYFY8FACYVOF2844lvVysNVDZamDyhI73f4wWrU0pBZ7uzvI4nzbkMetbvf2WwyfaejUKh7/RCW/uHU5RQ4juxt7eHlfK1//624+86ft/Oy1I3Qk1T87PCHC0TjuYARZlvtVD8fiMqEhxN1WFB/THHpySz2zMk0pvSK1JLhjbQn3XVBGuknLxuou1JLEkkJbysFDYiZ7zrxEk/RmV4APqjoJD9f1fZI5vXKJFMbEx88s5c+b6znaR0CqyxdGI4khR6MTjcOkZVmRbVLOPVo0Un9H3LdWwBeODQg7QCKzxukP82FNF0sKrQgZDrV5CPTp4eoJRmnuCZI/zbpxjQWjVs05846paN5/SUIyOBaX2dvUQ5pOzY56J3uaeqgscbCnuQeTVs2CPAtt7iD/2teKUafm5soidCN4t+9cuQAhBNvquvnTh/UAPHjlAiChn3/341sx69V8OynWdzwGrQqD1oBWJbHpaBfzcs1kmU+8mcpEMXOHBQonjUoSfPrs/j0z67v95NsNLC6wkpGWKKMvzTCxpNDK8gl2vha9mt/esQrTSN/eSWZBnmVYvZ8M80D5AZEUNIvLsKuhh5ouH/OPU/cMx+I8/Hb1uNs7HVAlM1sMWhXLiux87IwSLIaERMali3IpTjfxflUnt68t5a71s5LV18PTG/5ZUezgxzct5X9uWJJ67pzyLJ64ew0A33vpAJ5hsqQMWhW5NgPNzqmjsNoXRYVSYViisTgXJtUWj2duVhoWg4adDS5icXlINcrx4o+fWM2ZczMm7PjjyV2/38JrB9oHfS7LrEOrlshM0xKKyrR7gjhMWg63eVPbzM404QlFKbIbCUSimLQawrE4jU4/Wx+44FS9jBnDxuouovE4Z87JQAhBPC73G53XdPp4dV/rSTUCD0VjaFXSpKS3KiqUCieMWiXxwGXz+fjvBt58j7R7qSx1pFLRttR2s6rEjicYHSCBcLJ87IziaePgazp9bDo69M1OrUpUs+5q7CEuJ7KZitNN/WQM9BoJSWgGyBpIgiF7mMqyzA9fOcTXLj69uiINRzAS48vP7KKq3cvBVg9pOjUmnYoHLqvgiiV5qe3ePNjO4xvruGNdyQkvbE/VBXElXKMwIueWZ1OezGIYQJ+JYFxONBQ52OphdqZp3GLnJelG/uOqheNyrFPB/X/d3a95yPHYDFqqO3yp/PlITGZbnZNDfRphpJt0NHT7B7yHcZkhFxV/+VY1v367esovTE8kspyI3e9KagD99v1a/rG7JTXo8IailOdYuGxRf4nrmk4fTa4ARzt8TKXoxnigOHmFUfG1i8tTJeh9Gaqis7rDR3ycFmePz3ueyrj84RFDVvEhnIgnGGV1qQOLXs07RzopSjdSf1ytghCkCnf68sKuZn722hFkOSFJcToiyzI/ePkQl//ve1z7qw/4jxf28/sPagdsd/a8zAELqb3dua755fv8bpB9ToQttd1D3pBPJdPn2zMCg134CuPHOeVZvH7fBq5emjfyxkm6fWGWF9nIt51cxoFhGglKjaS9D2AYpGw+TadmcYGVLl+I8lwLZp2aQDhGod3Yb7vbzyjpl8Hxzz0tfPx3W/i3P+8gHItTnmNmbtb0kB0eTwLhGH/e3MCvkwvTsbjMY+/X0OoeKHD2nRf2c/tjm2nu04qyV4oiGInzflXXuNi0MM9KQ/fAgsLjCUVjvHtk5OvmRJk+354RGM1qusLJkWXR89Obl/Gps2fz+T/vpMHpp32QL1EvDc4ADc4AK4vtNLlOvLnyvOzp47QkAQvyzJh0CR0VQSKi5Q5EqGr3Eo3LdPvDVJbakeVEHr0kBDaDmt2pIjNfahG7IZmxceacDO4+axbr5xxbl/CFonzlL7v7DXAW5FnJGiRFc6Zzx283D+rQh+Ltwx2c96O3ueesWczPtfSTeH7zUDtV7R7mZA0RohwlBq1qxGO09ATYUe/ijFmDSzmMB4pnVBgz5TkWnvrkGu57ehcd3hDd/uHDA9vqnejVEsETLBi5bPHoZw+TzcoSB20v7KfTO/jC8+oSO22eEM3OIC09AZYX29nZ4BoQR4/1CXV98qxZfO3i8gEhBrVKED5OQXH1rP4Nxk8HttU52VHvGvBejEQgEuNnrx8Z8HgsLnOo1XvSTn40qIQg26Kf0K5eMyZco3BqsRm12IzaIePuy4psLC20sSDPwpmz00/YwZt1ahYP0stzqpJrNXDvOXOGfD4mQ22Xn0ZXgJic6JRV7DAO2K43bv+9axby9UvnD1qMo1Or+tUmaNUSFy3IOfkXMU2oavfy3I4m/u2J7WN28CPxxad28t1/7McfHnsYeCz7ZFn0rCi2j/kcY0EZySucMFaDpl9/175Ut3txBxMXe8VxRT1j4TtXLZjyvUuP57oVBfz0tSOjynLxh2M0ugKUpBtTgnAalUg16C4dRhulqt3TT9b47LLMlIb6TKWuy8ej79awp6mHXY0uJioRJhyL85v3amjtCfKLW5ePad9DrR7+ubeV+y4smxJplYqTVzhhfKEoR9q9FDmMZJl1qCSBJxgl3aTh3T6LVz2BCMsKrTj9kUGVLYdicYGVc8uzRt5wimHRa3jwygq++NSufo8vyrfQ6Bz4+oOROK5AhLPmZuAJRhECticlnB//oI61swevD/jJa0f6hXUuWTRzR/HhaJyfvX6Y375fO2TP4YngxT0tXLyrmYsW5Iw6y2tZkZ00nZrH3qvlUxtmTbr2v+LkFU6Yuu5EFWw0FmdHvZOYnFh4jMuJ/qTb6xNa6k2uAE2uwNC59n3Isei5YWUBFbkWVpTYsRmn1yi+lzWDLKQZtWpa3e4Bj2eZdZh0ibRJgBVFx6bvw80G5ueYeTHZdlAIOLts+t0QR4vTH+YXb06OpMO//XkHj35sJedXZI96n7nZZuZmT3xMfzQoTl7hhKnp9GHQqMg061KNqnsHllvrnGSZdZRmmNjR4CIcjVPV7mVxgbVPFskxStKN/PuVC1g7O31KTHFPFodJi1YljRgrdpi0ZKTpUg3A4Vg83mHScvmS3KF2ZVXJsUXWtbPTp11YaywMds2cSr749E4eum3FkLOqqYzi5BVOCG8oSps7RGaabkh9+XZPiHZPiHybgSZXgGhcxqBR4TBp6PYdG6HmWvX85dNrp2THnRNFp1axtNCWaoIOiXTKbIuOYCTO7EwTkhB4Q9F+Dl6jElgMaj5xZilfuWjeoK3oeqksdfDHT6ymyxea8QuuC/MtFNgNNE6SCJgnGOUTv9vKxq+fO+1ml4qTVzgh2pI5ySadig7v8Nvm2/Q0uQLoNRI9gTD5NkM/J7+syDajHHwvZ5Vl9HPyMlDoMNLk9Kdi7sdT5DDi8kcozTAN6+AhoaI4XfR8ThZ3IEprz4nXWowHgUiMRmdg2jl5JYVS4YTY29STarYwEptrnWSbdeRZDcRl2NPUPy49UwvZblpVxPxcc0p2WAa21jpp6Rm8xR8k5CB2NfawIO/EM5JmIvNyzEP2fj2VTKTK6kShOHmFE+Llva0syreOOltGq5ZwBSL95HQBitONfO68uRNh4qSTadbxvasXkm7UsrLYzv4hNGXStCqWFFipyE0s1N11ZilLCmyn0NLpwVcvmnx1zeg45+OfChQnr3BChKNx1KNsRWfQSBQ6jIO2SPvhdYspsA8sBpopLC92sKTIxtY6J94hUv/sJi0atUR9t59LF+XwzcsGL3463SnPNWMcpMH3qWQ6hscUJ69wQrR5gsPq1vRlbraZD6q7CISjVJY60KgEKknwH1ctYPUEanZMFb59ecWwIakGZ4CttU7Kcyx8/7rFk55XPVXRqCRuqSwa9fbzcy3cUlnEJ84spTjdyMm+rTq1RHH61G/cfTwzMxiqMOGYtGr0atWowjX6ZBFJTE70O11d6uDqZflj+sJOZywGzaBNPvpy7bJ8vnfNIgyTPFKd6hTYh+5vazdquGlVEVctzSM9TdtPrfNbl1dQ1+Xjzt9uSfUsNmhUBCKjK6wSAr5x6fxpuX40/SxWmHTcwQg76l3Mzx1dsUfacf1OlxbauGll4USYNiXRqCQW5Fn4oLoLs17NhrJMitON+EIxcq16zpufzZzTUB54rMTjMk9sqk/9b9SquHpZPsaks75wQQ4byjKH3L843cTjn6jkvB+9zdcvKefxjXX9mtQPxxWL87h9bcnJvoRJQXHyCmPmma2NhGPxUYcVmpwBnr93Hc2uACpJcN787NMu5vyHT6xmU00XlSWOUa9lKPRHkgRP3rOGJ7c0oJYEN1cWjVmrp8Bu5G+fWYdaJWhxB3no7aMjn1cwoKH9idLuDvKHD+v45IbZp2xWoDTyVhgTsixz/o/fxhOMJrTRfeFR7ff58+byxQvKJtg6BYXRE4nFeWlPC59/cuew2120IJuHbhu0R/YJ8UF1J7Wdfq5Zlj9u4bnhGnkrQwqFMfH8zmaqO3wUOYyjdvAAGeaZV+ykML3RqCSuWJxH2RBNaYRIyG1cWDG+1cRrZ2ewp8nFf//zAC5/mEPj3PT+eJRwjcKY6A2zjDT/W1JgRa9RkW8zcOGC7Blfdq8wPZEkwfP3nsnm2m621XaTbdWjUUk8v7OJB69YMCEiY+FonDZ3iDcOtvP4xjoevKKCeaMQ7ztRFCevMCY6PYlqzZae4TVEfvnRFeTbhs6EUFCYKhi0KjaUZfZbtL1xAhMDOr2hVLX4/31kGZctGlqEbjxQnLzCmHjzUDs6tUTzID1bZ2WYWD83g7jMjG9eoTBz+e+XDlCUbuRoh4/PnTsXq3H8ruXv/mM/SwttXLwwB384xiULcye8LkJx8gqjRpZlIrE4+XYDtZ0+ju/8F4zEmJ9r4caVhadd9ozCzMFm1PLNv+3FoFEN28pxrDy1pZ7fvFfDsiIbf757DVctyT8l3xNl4VVh1ISicT57zlwi0TjGQRQSbUYtG+ZlKg5eYVpzS2Uh58zL5Cc3LcExDhr9wUiMn79+hG/+bS8Ok5bf3L4KvUZ1yr4nykheYdTUdPr4/cZaGpwBFuZb2NtHTVIScPWyPHKtShxeYXpjM2r57Z2V43KsP2+u5/v/PEhPIMIVS/L4f9cvHlFCerxRnLzCqHltfxv/2t8G9G9LNy/bzNOfPGNcY5cKCtOdV/e18vVn9wCJLl9fHaEJzERxUuEaIcSDQogmIcTO5M+lfZ77uhCiSghxSAhx0cmbqjCZBCMxupJ58VlmHQ3dx7Jr2j1BXt3fSuAUNlhWUJjqXLggh53fvoBff3QFb375bAodk6O2Oh4x+Z/Isrw0+fMSgBCiArgZWABcDPxSCKEoL01jZBle2pNoGl2a0V+Jz+mP8IcP605a5U9BYaZhM2q5eGHOpGabTdTC61XAk7Ish2RZrgGqgPEJcilMCg1OP+2eEEUOI1Xt/Rt/nFuexfP3rpuUqajC+NLkCvCRRz7kcNvEVmEqnDrGw8l/VgixWwjxmBDCnnwsH2jos01j8rEBCCHuEUJsFUJs7ejoGAdzFCaCbIueNJ0aSYBWfWzIfktlIT+9eamigT5DyLcZeOLuNZRNQKWnwuQwopMXQrwmhNg7yM9VwK+A2cBSoAX4Ue9ugxxq0Ep4WZYflmV5pSzLKzMzh5YJVZhcrAYNs7PSqO3yk56mI92kRa+WMOvUWPQDp6KyLPPwO9V8+/m9/OLNqkmwWEFBAUaRXSPL8vmjOZAQ4hHgH8l/G4G+dcEFQPOYrVOYUvzX1Qv56etH+Nf+NhwmLdeuKMAfjhEMx9Afp6YnhODOdaWoJaGM8hUUJpGTza7pK7pwDbA3+fffgZuFEDohRCkwF9h8MudSmHwW5Fu5pbKQyxblsG52Ok9vaWB3Uw9f/9seGp0DO0RpVJLi4BUUJpmTzZP/oRBiKYlQTC3wSQBZlvcJIZ4G9gNR4F5ZlpX8uhnAueXZnDknk5f3tWI3adnV4EIS8OSWBlYW2zl7XtZkm6igoNAHpWmIgoKCwjRHaRqioKCgcJqiOHkFBQWFGYzi5BUUFBRmMIqTV1BQUJjBKE5eQUFBYQYzpbJrhBAdQN1k2zECGUDnZBsxChQ7x5/pYqti5/gz1W0tlmV5UMmAKeXkpwNCiK1DpSpNJRQ7x5/pYqti5/gznWw9HiVco6CgoDCDUZy8goKCwgxGcfJj5+HJNmCUKHaOP9PFVsXO8Wc62doPJSavoKCgMINRRvIKCgoKMxjFySsoKCjMYBQnPwRCiBuEEPuEEHEhxMo+j5cIIQJCiJ3Jn1/3eW6FEGKPEKJKCPFzcYrE1IeyNfnc15P2HBJCXDTZtvY5/4NCiKY+7+OlI9k8WQghLk7aUiWEuH+y7emLEKI2+TnuFEJsTT7mEEL8SwhxJPnbPtJxJsi2x4QQ7UKIvX0eG9K2yfrch7Bz2lyfIyLLsvIzyA8wH5gHvAWs7PN4CbB3iH02A2eQaH/4T+CSSba1AtgF6IBSoBpQTaatfWx7EPjyII8PafMkXQeqpA2zAG3StorJvj772FcLZBz32A+B+5N/3w/8YJJsOwtY3vf7MpRtk/m5D2HntLg+R/OjjOSHQJblA7IsHxrt9skuWRZZljfKiavhceDqibKvL8PYehXwpCzLIVmWa4AqoHIybR0Fg9o8ifZUAlWyLB+VZTkMPJm0cSpzFfD75N+/Z5I+W1mW3wG6j3t4KNsm7XMfws6hmGrX54goTv7EKBVC7BBCvC2EWJ98LJ9Eb9teGpOPTSb5QEOf/3ttmiq2flYIsTs5Xe6dtg9l82Qx1ew5Hhl4VQixTQhxT/KxbFmWWwCSv6dSu66hbJuK7/N0uD5H5GTb/01rhBCvATmDPPVNWZafH2K3FqBIluUuIcQK4DkhxAISYY/jGbf81BO0dSibJtTW1MmHsRn4FfDd5Hm/C/wI+Pipsm0MTDV7jmedLMvNQogs4F9CiIOTbdAJMtXe5+lyfY7Iae3kZVk+/wT2CQGh5N/bhBDVQBmJO3pBn00LgObxsDN5rjHbSsKmwj7/99o0obb2MlqbhRCPAP9I/juUzZPFVLOnH7IsNyd/twsh/kYidNAmhMiVZbklGZprn1Qj+zOUbVPqfZZlua337yl+fY6IEq4ZI0KITCGEKvn3LGAucDQ59fQIIdYkM1U+Bgw1wj5V/B24WQihE0KUkrB181SwNfkF7+UaoDezYVCbT6Vtx7EFmCuEKBVCaIGbkzZOOkIIkxDC3Ps3cCGJ9/HvwO3JzW5n8q/Dvgxl25T63KfR9Tkyk73yO1V/SHywjSRG7W3AK8nHrwP2kVhh3w5c0WeflSQuhmrg/0hWFE+Wrcnnvpm05xB9Mmgmy9Y+5/8DsAfYTeKLkzuSzZN4LVwKHE7a9M3JtqePXbOS1+Gu5DX5zeTj6cDrwJHkb8ck2fdnEuHNSPL6/MRwtk3W5z6EndPm+hzpR5E1UFBQUJjBKOEaBQUFhRmM4uQVFBQUZjCKk1dQUFCYwShOXkFBQWEGozh5BQUFhRmM4uQVFBQUZjCKk1dQUFCYwfx/N+OrqzI3PPYAAAAASUVORK5CYII=\n",
      "text/plain": [
       "<Figure size 432x288 with 1 Axes>"
      ]
     },
     "metadata": {
      "needs_background": "light"
     },
     "output_type": "display_data"
    }
   ],
   "source": [
    "# read the natural earth shape file as a GeoDataFrame\n",
    "world = gpd.read_file(gpd.datasets.get_path('naturalearth_lowres'))\n",
    "\n",
    "# drop Antartica because it takes up too much space\n",
    "world = world.drop(world.index[159])\n",
    "\n",
    "#here's the world map we will use\n",
    "world.plot()"
   ]
  },
  {
   "cell_type": "markdown",
   "metadata": {},
   "source": [
    "Since the MoMA DataFrame lists nationality and not country of origin, we need to conver the nationalities into the country names. We used a demonyms dataset that included Nationalities paired with their country names. We then looked at all of the elements that are in the MoMA dataset but not in the demonyms dataset. Since they are all unknown or various, it looks like all the countries in the MoMA dataset are covered in the demonyms dataset."
   ]
  },
  {
   "cell_type": "code",
   "execution_count": 194,
   "metadata": {},
   "outputs": [
    {
     "data": {
      "text/plain": [
       "{'Nationality Unknown',\n",
       " 'Nationality unknown',\n",
       " 'Various',\n",
       " 'nationality unknown'}"
      ]
     },
     "execution_count": 194,
     "metadata": {},
     "output_type": "execute_result"
    }
   ],
   "source": [
    "nationalty_to_country = pd.read_csv(\"demonyms.csv\")\n",
    "set(moma.Nationality.unique()) - set(nationalty_to_country[\"Nationality\"])\n",
    "\n",
    "\n"
   ]
  },
  {
   "cell_type": "code",
   "execution_count": 203,
   "metadata": {},
   "outputs": [
    {
     "data": {
      "text/html": [
       "<div>\n",
       "<style scoped>\n",
       "    .dataframe tbody tr th:only-of-type {\n",
       "        vertical-align: middle;\n",
       "    }\n",
       "\n",
       "    .dataframe tbody tr th {\n",
       "        vertical-align: top;\n",
       "    }\n",
       "\n",
       "    .dataframe thead th {\n",
       "        text-align: right;\n",
       "    }\n",
       "</style>\n",
       "<table border=\"1\" class=\"dataframe\">\n",
       "  <thead>\n",
       "    <tr style=\"text-align: right;\">\n",
       "      <th></th>\n",
       "      <th>name</th>\n",
       "      <th>works_per_country</th>\n",
       "    </tr>\n",
       "  </thead>\n",
       "  <tbody>\n",
       "    <tr>\n",
       "      <th>0</th>\n",
       "      <td>United States of America</td>\n",
       "      <td>52713</td>\n",
       "    </tr>\n",
       "    <tr>\n",
       "      <th>1</th>\n",
       "      <td>France</td>\n",
       "      <td>22700</td>\n",
       "    </tr>\n",
       "    <tr>\n",
       "      <th>2</th>\n",
       "      <td>Czechoslovakia</td>\n",
       "      <td>11031</td>\n",
       "    </tr>\n",
       "    <tr>\n",
       "      <th>3</th>\n",
       "      <td>Germany</td>\n",
       "      <td>8362</td>\n",
       "    </tr>\n",
       "    <tr>\n",
       "      <th>4</th>\n",
       "      <td>United Kingdom</td>\n",
       "      <td>6354</td>\n",
       "    </tr>\n",
       "  </tbody>\n",
       "</table>\n",
       "</div>"
      ],
      "text/plain": [
       "                       name  works_per_country\n",
       "0  United States of America              52713\n",
       "1                    France              22700\n",
       "2            Czechoslovakia              11031\n",
       "3                   Germany               8362\n",
       "4            United Kingdom               6354"
      ]
     },
     "execution_count": 203,
     "metadata": {},
     "output_type": "execute_result"
    }
   ],
   "source": [
    "# find the number of works per country and add it to a DataFrame\n",
    "works_per_country = moma_nationalities[\"name\"].value_counts()\n",
    "works_per_country = works_per_country.to_frame().reset_index()\n",
    "works_per_country = works_per_country.rename(columns={\"index\": \"name\", \"name\": \"works_per_country\"})\n",
    "works_per_country.head()"
   ]
  },
  {
   "cell_type": "code",
   "execution_count": 198,
   "metadata": {},
   "outputs": [],
   "source": [
    "# merge the MoMA data with the demonyms data to pair the appropriate country with each nationality\n",
    "moma_nationalities = pd.merge(nationalty_to_country, moma, on=\"Nationality\", how='inner')\n",
    "\n",
    "# drop columns that aren't useful for the map\n",
    "moma_nationalities.drop(moma_nationalities.columns.difference(['name','Artwork ID']), 1, inplace=True)\n",
    "\n",
    "# merge the MoMA data with country names and the GeoSpacial data for the whole world\n",
    "map_data = pd.merge(moma_nationalities, world, how='inner', on=\"name\")\n",
    "\n",
    "# Finally, merge all fo the map data with the number of works per country\n",
    "map_data = pd.merge(map_data, works_per_country , how='inner', on=\"name\")\n",
    "\n",
    "# convert the DataFrame to a GeoDataFrame\n",
    "map_data = GeoDataFrame(map_data)\n",
    "map_data.rename(columns={'name':'Country'}, inplace=True)"
   ]
  },
  {
   "cell_type": "code",
   "execution_count": 204,
   "metadata": {},
   "outputs": [
    {
     "data": {
      "image/png": "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\n",
      "text/plain": [
       "<Figure size 1080x648 with 2 Axes>"
      ]
     },
     "metadata": {
      "needs_background": "light"
     },
     "output_type": "display_data"
    }
   ],
   "source": [
    "# Plot the Map!\n",
    "ax = map_data.dropna().plot(column='works_per_country', cmap =    \n",
    "                                'Dark2', figsize=(15,9),   \n",
    "                                  k=3, legend =  \n",
    "                                  True)"
   ]
  },
  {
   "attachments": {
    "image.png": {
     "image/png": "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"
    }
   },
   "cell_type": "markdown",
   "metadata": {},
   "source": [
    "### Lorenz Curve and Gini Coefficient\n",
    "\n",
    "The [Lorenz Curve](https://en.wikipedia.org/wiki/Lorenz_curve) is typically used to distribution of wealth, but it also has helpful applications for showing distribution over time of other variables. In this case, we used it to show the distribution of female artists over time. The x axis represents the cumulative percent of the total population and the y axis represents the cumulative proportion of female artists. In perfect equality, this would be a line with slope of 1 (y=x or x and y increase at the same rate). \n",
    "\n",
    "In the example of distribution of wealth, this would mean that the bottom 10% of households hold 10% of the wealth, the bottom 20% has 20%, etc. In our example, perfect equality would be the first (earliest chronologically) 10% of the all of the artworks has the first 10% of all of the artwork by female artists.\n",
    "\n",
    "In contrast to perfect equality, the Lorenz curve shows the true distribution of female artists over time, with the same x and y axis as perfect equality.\n",
    "\n",
    "The Lorenz curve is helpful because it shows a graphical representation of inequality and allows us to calculate the [Gini coefficient,](https://en.wikipedia.org/wiki/Gini_coefficient) which calculates a metric to show the inequality of the proportion of art by female artists among all artworks. The Gini coefficient is the proportion of the area between perfect equality and the Lorenz curve compared to the total area under the perfect equality line.\n",
    "\n",
    "This graph is a good representation of perfect equality, the Lorenz curve, and the Gini coefficient.\n",
    "![image.png](attachment:image.png)\n",
    "\n",
    "For our axes, since there is not necessarily an analogoue to sorting the population from poorest to riches, we chose to sort the data from earliest acquired to most recetly acquired to show the trend over time. "
   ]
  },
  {
   "cell_type": "markdown",
   "metadata": {},
   "source": [
    "#### Lorenz Curve"
   ]
  },
  {
   "cell_type": "code",
   "execution_count": null,
   "metadata": {},
   "outputs": [],
   "source": [
    "# sort the data by acquisition date\n",
    "moma_by_year = moma.sort_values(by=['Acquisition Date'])\n",
    "\n",
    "# split the DataFrame into 10 (roughly) equal parts to be the 10 deciles (each representing 10% of the population)\n",
    "# the frist 6 have 13,940 works and the last 4 have 13,939 works\n",
    "df_split = np.array_split(moma_by_year, 10)\n",
    "for i in range(0,10):\n",
    "    \n",
    "    # add decile number to DataFrame\n",
    "    df_split[i][\"decile\"] = i+1\n",
    "    \n",
    "    # add decile start and end year to DataFrame\n",
    "    df_split[i][\"dec start year\"] = df_split[i][\"Acquisition Date\"].min().year\n",
    "    df_split[i][\"dec end year\"] = df_split[i][\"Acquisition Date\"].max().year\n",
    "\n",
    "# combine all of the split DataFrames into one big DataFrame with their corresponding decile number\n",
    "decile_df = pd.concat([df_split[0],df_split[1],df_split[2],df_split[3],df_split[4],df_split[5],df_split[6],df_split[7],df_split[8],df_split[9]])"
   ]
  },
  {
   "cell_type": "code",
   "execution_count": null,
   "metadata": {},
   "outputs": [],
   "source": [
    "# find the total number of female artists in each decile\n",
    "female_list = []\n",
    "females = decile_df[decile_df[\"Gender\"] == \"Female\"]\n",
    "for decile_num in range(1,11):\n",
    "    female_list.append(females[females[\"decile\"] == decile_num][\"Acquisition Date\"].count())"
   ]
  },
  {
   "cell_type": "code",
   "execution_count": null,
   "metadata": {},
   "outputs": [],
   "source": [
    "# make it cumulative!\n",
    "total = 0\n",
    "female_count = [0]\n",
    "for i in range(10):\n",
    "    total += female_list[i]\n",
    "    female_count.append(total)"
   ]
  },
  {
   "cell_type": "code",
   "execution_count": null,
   "metadata": {},
   "outputs": [],
   "source": [
    "# since we need a cumulative population, keep a list of the current population being examined at each decile\n",
    "\n",
    "total = 0\n",
    "# include 0% of the population in the list of each decile's cumulative population count\n",
    "pop_count = [0]\n",
    "for i in range(10):\n",
    "    total += df_split[i][\"Acquisition Year\"].count()\n",
    "    pop_count.append(total)"
   ]
  },
  {
   "cell_type": "markdown",
   "metadata": {},
   "source": [
    "Since the Gini index depends on cumulative proportions and not counts, we need to find the total proportion of female artists for each cumulative decile. This requires us to divide each cumulative decile by the total female population.\n",
    "\n",
    "It will suffice to simply create a list of each decile value because the difference in their size is negligible."
   ]
  },
  {
   "cell_type": "code",
   "execution_count": null,
   "metadata": {},
   "outputs": [],
   "source": [
    "# divide female count by total population of female artists to get the proportion of female artists in each decile\n",
    "total_female = females[\"Acquisition Year\"].count()\n",
    "female_prop = list(map(lambda x: (x/total_female) *100, female_count))\n",
    "\n",
    "# create a list of all of the cumulative proportions of population (make sure to include 0 and 100)\n",
    "population_prop = [0,10,20,30,40,50,60,70,80,90,100]"
   ]
  },
  {
   "cell_type": "code",
   "execution_count": null,
   "metadata": {},
   "outputs": [],
   "source": [
    "# create a DataFrame with these values representing the x and y axis of the Lorenz curve\n",
    "lorenz_curve = pd.DataFrame(list(zip(population_prop, female_prop)),columns =['cumulative_prop_of_artists', 'cumulative_proportion_of_female_artists'])"
   ]
  },
  {
   "cell_type": "code",
   "execution_count": null,
   "metadata": {},
   "outputs": [],
   "source": [
    "# add the start and end years of each decile to the DataFrame\n",
    "for i in range(0,10):\n",
    "    decile_df[decile_df[\"decile\"] == i][\"dec start year\"]\n",
    "    decile_df[decile_df[\"decile\"] == i][\"dec end year\"]\n",
    "    \n",
    "\n",
    "# create an array of the each unique start and end year to the respective list, including 0 for 0% of the population\n",
    "start_years = list(decile_df[\"dec start year\"].unique())\n",
    "start_years.insert(0,0)\n",
    "\n",
    "end_years = list(decile_df[\"dec end year\"].unique())\n",
    "end_years.insert(0,0)"
   ]
  },
  {
   "cell_type": "code",
   "execution_count": null,
   "metadata": {},
   "outputs": [],
   "source": [
    "# add this to a new DataFrame\n",
    "lorenz_year = lorenz_curve.copy()\n",
    "lorenz_year[\"decile start\"] = start_years\n",
    "lorenz_year[\"decile end\"] = end_years\n",
    "lorenz_year[\"date range\"] = [\"0-0\", \"1929-1953\", \"1953-1964\", \"1964,1968\", \"1968-1974\", \"1974-1986\",\"1986-1998\", \"1998-2005\", \"2005-2009\", \"2009-2013\", \"2013-2016\"]\n",
    "lorenz_year"
   ]
  },
  {
   "cell_type": "markdown",
   "metadata": {},
   "source": [
    "Here is a dataframe with the cumulative proportion of artists, the cumulative proprtion of female artists, the decile start data, decile end data, and the date range. This provides some context for each decile. "
   ]
  },
  {
   "cell_type": "code",
   "execution_count": null,
   "metadata": {},
   "outputs": [],
   "source": [
    "# I don't really understand what's going on here. How is the blue line there? Why does the bottom axis only go to 10?\n",
    "# I'm a little lost but fair enough.\n",
    "\n",
    "# plot the Lorenz curve\n",
    "fig,ax = plot.subplots()\n",
    "ax.plot(lorenz_curve)\n",
    "ax.set_xlabel(\"cumulative proportion of population\")\n",
    "ax.set_ylabel(\"cumulative proportion of female artists\")\n",
    "ax.set_title(\"Lorenz Curve and Perfect Equality line\")"
   ]
  },
  {
   "cell_type": "markdown",
   "metadata": {},
   "source": [
    "Now we have a graph showing perfect equality (blue line) the Lorenz curve (orange line). The area in between the two lines represents the inequality between the two. It is not surprising that the distance between the two lines is largest among the earlier works. The gap decreases in more recent years, showing that there is a more equal distribution of works by female artists in later years, particularly starting in the 8th decile (all works until 2009). Interestingly, in the 9th decile (all works until 2015) the Lorenz curve actually slightly surpasses perfect equality. This means that the earliest 90% of all artworks contains approximately 91% of the all the works by female artists."
   ]
  },
  {
   "cell_type": "markdown",
   "metadata": {},
   "source": [
    "#### Gini Coefficient"
   ]
  },
  {
   "cell_type": "markdown",
   "metadata": {},
   "source": [
    "To find the Gini Coefficient, we need to integrate the Lorenz curve and the perfect equality line to get the area under the Lorenz curve and the area under the perfect equality line respectively. We then use those values to find the Gini Coefficient.\n",
    "Mathematically, this is:\n",
    "\n",
    "Gini Coefficient =  $\\frac{\\int Perfect Equality Line - \\int Lorenz Curve}{\\int Perfect Equality Line}$."
   ]
  },
  {
   "cell_type": "code",
   "execution_count": null,
   "metadata": {},
   "outputs": [],
   "source": [
    "# calculate the area under the Lorenz curve\n",
    "lorenz_area = np.trapz(female_prop, x=population_prop)\n",
    "\n",
    "# calculate the area under the perfect equality line (y=x)\n",
    "pe_area = np.trapz(population_prop, x=population_prop)\n",
    "\n",
    "# use those values to calculate the gini coefficient as a percent \n",
    "gini_coeff = ((pe_area - lorenz_area) / pe_area) *100\n",
    "gini_coeff"
   ]
  },
  {
   "cell_type": "markdown",
   "metadata": {},
   "source": [
    "We found a Gini coefficient of 21.8. The closer a Gini coefficient is to 0, the closer the data is to perfect equality. \n",
    "\n",
    "This means there is 21.8 percent concentration of works by female artists in the dataset over time, so works by female artists are acquired at lower rate than works are acquired in the general population. This is shown in the graph of the Lorenz curve, as the Lorenz curve surpasses perfect equality around the 90th decile, so we can concluded that MoMA has acquired a higher porportion of works by female artists in more recent years."
   ]
  },
  {
   "cell_type": "code",
   "execution_count": null,
   "metadata": {},
   "outputs": [],
   "source": [
    "# I did a regression model but idk how to make it go more than one year into the future"
   ]
  },
  {
   "cell_type": "code",
   "execution_count": null,
   "metadata": {},
   "outputs": [],
   "source": [
    "female_by_year[\"Acquisition Date\"]\n",
    "acquisitons_per_year = moma.groupby(['Acquisition Year']).count()\n",
    "acquisitons_per_year[\"Acquisition Date\"].astype(int)\n",
    "female_proportion_by_year = female_by_year[\"Acquisition Date\"] / acquisitons_per_year[\"Acquisition Date\"].astype(int)\n",
    "female_proportion_by_year = female_proportion_by_year.rename(\"percent_female\",inplace=True).to_frame()\n",
    "\n",
    "\n",
    "female_proportion_by_year = female_proportion_by_year.reset_index().dropna()\n",
    "female_proportion_by_year\n",
    "\n",
    "female_proportion_pre_2014 = female_proportion_by_year[female_proportion_by_year[\"Acquisition Year\"] < 2014]"
   ]
  },
  {
   "cell_type": "code",
   "execution_count": null,
   "metadata": {},
   "outputs": [],
   "source": [
    "from sklearn.neighbors import KNeighborsRegressor\n",
    "from sklearn.feature_extraction import DictVectorizer\n",
    "from sklearn.preprocessing import StandardScaler\n",
    "\n",
    "# Define the features.\n",
    "features = [\"Acquisition Year\"]\n",
    "\n",
    "# Define the training data.\n",
    "# Represent the features as a list of dicts.\n",
    "X_train_dict = female_proportion_pre_2014[features].to_dict(orient=\"records\")\n",
    "X_new_dict = [{\n",
    "    \"Acquisition Year\": 2014\n",
    "}]\n",
    "y_train = female_proportion_pre_2014[\"percent_female\"]\n",
    "\n",
    "# Dummy encoding\n",
    "vec = DictVectorizer(sparse=False)\n",
    "vec.fit(X_train_dict)\n",
    "X_train = vec.transform(X_train_dict)\n",
    "X_new = vec.transform(X_new_dict)\n",
    "\n",
    "# Standardization\n",
    "scaler = StandardScaler()\n",
    "scaler.fit(X_train)\n",
    "X_train_sc = scaler.transform(X_train)\n",
    "X_new_sc = scaler.transform(X_new)\n",
    "\n",
    "# K-Nearest Neighbors Model\n",
    "model = KNeighborsRegressor(n_neighbors=9)\n",
    "model.fit(X_train_sc, y_train)\n",
    "model.predict(X_new_sc)\n"
   ]
  },
  {
   "cell_type": "markdown",
   "metadata": {},
   "source": [
    "## Cleaning Tate Data"
   ]
  },
  {
   "cell_type": "markdown",
   "metadata": {},
   "source": [
    "In order to do through analysis we should compare the MoMA's data to data from other museums. The first museum that we will examine is the Tate, another museum for modern and contemporary art located in London, England."
   ]
  },
  {
   "cell_type": "code",
   "execution_count": null,
   "metadata": {},
   "outputs": [],
   "source": [
    "tate_artworks = pd.read_csv(\"artwork_data-tate.csv\")\n",
    "tate_artists = pd.read_csv(\"artist_data-tate.csv\")"
   ]
  },
  {
   "cell_type": "code",
   "execution_count": null,
   "metadata": {},
   "outputs": [],
   "source": [
    "display(tate_artworks.head())\n",
    "tate_artists.head() "
   ]
  },
  {
   "cell_type": "markdown",
   "metadata": {},
   "source": [
    "After examining the data set you can see they have a lot of different columns that are not needed because of their repetition, or because we won't be using them in the future. So we created new data sets without them below."
   ]
  },
  {
   "cell_type": "code",
   "execution_count": null,
   "metadata": {},
   "outputs": [],
   "source": [
    "tate_newartist = tate_artists[['name','gender','placeOfBirth','yearOfBirth','yearOfDeath']]"
   ]
  },
  {
   "cell_type": "code",
   "execution_count": null,
   "metadata": {},
   "outputs": [],
   "source": [
    "tate_newartworks = tate_artworks[['id','accession_number','artist','artistRole','artistId','title','medium','year'\n",
    "                                 ,'acquisitionYear','dimensions']]"
   ]
  },
  {
   "cell_type": "markdown",
   "metadata": {},
   "source": [
    "Next we merged the artist and the artworks data together, in the artist dataset the artist column is called artists, and in the artworks it is called name. We merged this on left so that if there is an artist who doesn't have an artwork they don't show up."
   ]
  },
  {
   "cell_type": "code",
   "execution_count": null,
   "metadata": {},
   "outputs": [],
   "source": [
    "tate = tate_newartworks.merge(tate_newartist, left_on = ['artist'],right_on = ['name'], how = 'left')"
   ]
  },
  {
   "cell_type": "markdown",
   "metadata": {},
   "source": [
    "Then we dropped the name column because we would no longer need it"
   ]
  },
  {
   "cell_type": "code",
   "execution_count": null,
   "metadata": {},
   "outputs": [],
   "source": [
    "tate = tate.drop(columns = ['name'])"
   ]
  },
  {
   "cell_type": "markdown",
   "metadata": {},
   "source": [
    "Then, like we did for the MoMA, we removed the rows where the acquisition year was not present. "
   ]
  },
  {
   "cell_type": "code",
   "execution_count": null,
   "metadata": {},
   "outputs": [],
   "source": [
    "no_date = tate[(tate['acquisitionYear'].isnull() == True)].index\n",
    "tate.drop(no_date, inplace = True)"
   ]
  },
  {
   "cell_type": "markdown",
   "metadata": {},
   "source": [
    "When examining the dates we noticed that they were not as wonky as the other one so we only had to change two dates."
   ]
  },
  {
   "cell_type": "code",
   "execution_count": null,
   "metadata": {},
   "outputs": [],
   "source": [
    "tate['year'].unique()"
   ]
  },
  {
   "cell_type": "code",
   "execution_count": null,
   "metadata": {},
   "outputs": [],
   "source": [
    "tate['year'].replace({'no date':np.nan, 'c.1997-9':1997}, inplace = True)"
   ]
  },
  {
   "cell_type": "markdown",
   "metadata": {},
   "source": [
    "Next we made two new columns, one that is the age of the person when they made the work, and the next is a column that will tell if a person was alive or not when the work was acquired by the MoMA"
   ]
  },
  {
   "cell_type": "code",
   "execution_count": null,
   "metadata": {},
   "outputs": [],
   "source": [
    "tate['age_made'] = pd.to_numeric(tate['year']) - tate['yearOfBirth']\n",
    "tate['alive?'] = tate['year']"
   ]
  },
  {
   "cell_type": "markdown",
   "metadata": {},
   "source": [
    "Finally we utilized the same function and apply method as we did above to make a column determining if the artist was alive or not."
   ]
  },
  {
   "cell_type": "code",
   "execution_count": null,
   "metadata": {},
   "outputs": [],
   "source": [
    "def alive(acquisition,death):\n",
    "    if acquisition > death:\n",
    "        return 'False'\n",
    "    else:\n",
    "        return 'True'\n",
    "tate['alive?'] = tate.apply(lambda row: alive(row['acquisitionYear'],row['yearOfDeath']),axis=1)"
   ]
  },
  {
   "cell_type": "markdown",
   "metadata": {},
   "source": [
    "Next we noticed that the placeOfBirth column contained both the city and the country for the majority of the artists. We realized that in order to analyze the country that the artists were from we needed to separate the city from the country, so we made a new column called countryOfOrigin that contained just the country."
   ]
  },
  {
   "cell_type": "code",
   "execution_count": null,
   "metadata": {},
   "outputs": [],
   "source": [
    "def country(place):\n",
    "    new = str(place).split(',')\n",
    "    if len(new) > 1:\n",
    "        first = re.sub(r\"^\\s+\", \"\", new[1])\n",
    "        return first\n",
    "    else:\n",
    "        return new[0]\n",
    "tate['countryOfOrigin'] = tate.apply(lambda row: country(row['placeOfBirth']), axis=1)"
   ]
  },
  {
   "cell_type": "markdown",
   "metadata": {},
   "source": [
    "After each of those steps our dataframe is now clean and in the format that we want it in, which is displayed below."
   ]
  },
  {
   "cell_type": "code",
   "execution_count": null,
   "metadata": {},
   "outputs": [],
   "source": [
    "tate.head()"
   ]
  },
  {
   "cell_type": "markdown",
   "metadata": {},
   "source": [
    "## Analysis: Tate vs MoMA"
   ]
  },
  {
   "cell_type": "markdown",
   "metadata": {},
   "source": [
    "The first analysis that we will do will show the difference in diversity of non-European artists between the MoMA and the Tate. The Tate uses the country name while the MoMA uses the designation. For example: American vs America, French vs France. So in order to do the analysis we need to be aware of this discrepancy. When deciding whether a country was designated as European or not we refered to a list of European countries from this website: https://datahub.io/opendatafortaxjustice/listofeucountries#resource-listofeucountries"
   ]
  },
  {
   "cell_type": "markdown",
   "metadata": {},
   "source": [
    "The names of the countries for the Tate dataset were especially difficult to work with beacuse of the number of differences in the name titles. The majority of the names were in the countries native language or there was a city name rather than a country. Because of this we had to manually go through and check for what we wanted by looking at the unique values and then adding them to the list. "
   ]
  },
  {
   "cell_type": "code",
   "execution_count": null,
   "metadata": {
    "scrolled": true
   },
   "outputs": [],
   "source": [
    "tate['countryOfOrigin'].unique()"
   ]
  },
  {
   "cell_type": "markdown",
   "metadata": {},
   "source": [
    "First we replaced \"nan\" with np.nan and then we created a new dataframe that didn't contain any np.nans for country of origin"
   ]
  },
  {
   "cell_type": "code",
   "execution_count": null,
   "metadata": {},
   "outputs": [],
   "source": [
    "tate['countryOfOrigin'] = tate['countryOfOrigin'].replace({'nan':np.nan})\n",
    "tate_country = tate[tate['countryOfOrigin'].isnull() == False]\n",
    "#designation wasn't properly set so had to remove the works that didn't have a country of origin"
   ]
  },
  {
   "cell_type": "markdown",
   "metadata": {},
   "source": [
    "Next we created a list of the countries, a function to make a new column and insert true or false if it was a european country or not."
   ]
  },
  {
   "cell_type": "code",
   "execution_count": null,
   "metadata": {},
   "outputs": [],
   "source": [
    "index = tate_country['countryOfOrigin'].index\n",
    "tate_country['False'] = ['False'] * len(index)"
   ]
  },
  {
   "cell_type": "code",
   "execution_count": null,
   "metadata": {},
   "outputs": [],
   "source": [
    "countries_tate = ['Austria','Belgium','Bulgaria','Croatia','Cyprus','Czech Republic','Denmark','Estonia','Finland','France','Germany',\n",
    "'Greece','Hungary','Ireland','Italy','Latvia','Luxembourg','Lithuania','Malta','Netherlands','Poland','Portugal',\n",
    "'Romania','Slovak Republic','Slovenia','Spain','Sweden','United Kingdom', 'Deutschland', 'Italia','London','Ceská Republika',\n",
    " 'D.C.',  'Staten Island','Liverpool', 'Polska', 'România', 'España', 'Edinburgh', 'Canada','United States', 'Stoke on Trent',\n",
    "                 'Ellás','België', 'Latvija','Nederland','Wimbledon','Canterbury', 'Danmark','Österreich','Blackheath',\n",
    "                  'Bermondsey', 'Egremont', 'Norge', 'Braintree','Liverpool','Bristol','Eesti','Hertfordshire', 'Stockholm', 'Luxembourg'\n",
    "                 ]\n",
    "non_european = []\n",
    "european = []\n",
    "for x in index:\n",
    "    if tate_country.loc[x, 'countryOfOrigin'] in countries_tate:\n",
    "        tate_country.loc[x,'European?'] = 'True'\n",
    "    elif tate_country.loc[x, 'countryOfOrigin'] == np.nan:\n",
    "        tate_country.loc[x,'European?'] = 'True' \n",
    "    else:\n",
    "        if tate_country.loc[x, 'countryOfOrigin'] in non_european:\n",
    "            tate_country.loc[x,'European?'] = 'False'\n",
    "        else:\n",
    "            non_european.append(country)\n",
    "            tate_country.loc[x,'European?'] = 'False'"
   ]
  },
  {
   "cell_type": "code",
   "execution_count": null,
   "metadata": {},
   "outputs": [],
   "source": [
    "tate_country"
   ]
  },
  {
   "cell_type": "markdown",
   "metadata": {},
   "source": [
    "Now that the datasets are in similar formats we can start comparisons and anaylsis. But, the Tate data stopped collecting in 2013, so need to make MoMA align with them."
   ]
  },
  {
   "cell_type": "code",
   "execution_count": null,
   "metadata": {},
   "outputs": [],
   "source": [
    "tate_country['acquisitionYear'].max()"
   ]
  },
  {
   "cell_type": "code",
   "execution_count": null,
   "metadata": {
    "scrolled": true
   },
   "outputs": [],
   "source": [
    "# create a new DataFrame of all of the works before 2013\n",
    "d = datetime.datetime(2014, 1, 1)\n",
    "moma_before_2013 = names_dates_moma[names_dates_moma['Acquisition Date'] < d]\n",
    "moma_after_2013 = names_dates_moma[names_dates_moma['Acquisition Date'] > d]"
   ]
  },
  {
   "cell_type": "markdown",
   "metadata": {},
   "source": [
    "### How does the diversity of the two museums compare?"
   ]
  },
  {
   "cell_type": "markdown",
   "metadata": {},
   "source": [
    "#### Comparing Western vs non-Western Art in each museum"
   ]
  },
  {
   "cell_type": "markdown",
   "metadata": {},
   "source": [
    "The first visualization that we made, compares the diversity of the artists at both the Tate and the MoMA by looking at how many artists are Western or non-Western."
   ]
  },
  {
   "cell_type": "code",
   "execution_count": null,
   "metadata": {},
   "outputs": [],
   "source": [
    "# get the counts of works by Western and non-Western artists in MoMA before 2013\n",
    "moma_European = moma_before_2013['European?'].value_counts()"
   ]
  },
  {
   "cell_type": "code",
   "execution_count": null,
   "metadata": {},
   "outputs": [],
   "source": [
    "# get the counts of works by Western and non-Western artists in the Tate\n",
    "tate_European = tate_country['European?'].value_counts()"
   ]
  },
  {
   "cell_type": "code",
   "execution_count": null,
   "metadata": {},
   "outputs": [],
   "source": [
    "# create and format pie charts\n",
    "fig, (ax1, ax2) = plot.subplots(1, 2)\n",
    "moma_European.plot.pie(ax=ax1,  autopct='%.2f')\n",
    "ax1.set_title(\"MoMA Western vs Non Western\")\n",
    "\n",
    "tate_European.plot.pie(ax=ax2, autopct='%.2f')\n",
    "ax2.set_title(\"Tate Western vs Non Western\")\n",
    "\n",
    "fig.subplots_adjust(wspace=.5)\n",
    "fig.set_figheight(12)\n",
    "fig.set_figwidth(12)"
   ]
  },
  {
   "cell_type": "markdown",
   "metadata": {},
   "source": [
    "<strong> Conclusion: </strong> This comparison shows that the MoMA, even before its renovation, was ahead of the Tate with regard to artists who were not of European or Western descent."
   ]
  },
  {
   "cell_type": "markdown",
   "metadata": {},
   "source": [
    "### Comparing Art by Male vs Female artists in each museum"
   ]
  },
  {
   "cell_type": "markdown",
   "metadata": {},
   "source": [
    "Next we chose to look at the differences in sizes of the male and female population at both the Tate and the MoMA, as this was another area that the MoMA was striving the improve."
   ]
  },
  {
   "cell_type": "code",
   "execution_count": null,
   "metadata": {},
   "outputs": [],
   "source": [
    "# get the counts of works by male and female artists in MoMA before 2013\n",
    "moma_gender = moma_before_2013['Gender'].value_counts()"
   ]
  },
  {
   "cell_type": "code",
   "execution_count": null,
   "metadata": {},
   "outputs": [],
   "source": [
    "# get the counts of works by male and female artists in the Tate\n",
    "tate_gender = tate_country['gender'].value_counts()"
   ]
  },
  {
   "cell_type": "code",
   "execution_count": null,
   "metadata": {},
   "outputs": [],
   "source": [
    "# create and format pie charts\n",
    "fig, (ax3, ax4) = plot.subplots(1, 2)\n",
    "moma_gender.plot.pie(ax=ax3, autopct='%.2f')\n",
    "ax3.set_title(\"MoMA Male vs Female Artists\")\n",
    "\n",
    "tate_gender.plot.pie(ax=ax4, autopct='%.2f')\n",
    "ax4.set_title(\"Tate Male vs Female Artists\")\n",
    "\n",
    "fig.subplots_adjust(wspace=.5)\n",
    "fig.set_figheight(12)\n",
    "fig.set_figwidth(12)"
   ]
  },
  {
   "cell_type": "markdown",
   "metadata": {},
   "source": [
    "<strong> Conclusion: </strong>This is an interesting comparison, as it once again shows that the MoMA has a greater diversity than the Tate did before its renovation, as it has a much larger proportion of female artists to male artists."
   ]
  },
  {
   "cell_type": "markdown",
   "metadata": {},
   "source": [
    "### Comparing Art by Male vs Female artists of nonWestern art in each museum"
   ]
  },
  {
   "cell_type": "markdown",
   "metadata": {},
   "source": [
    "What about the male/female ratio when looking at non-European/Western artists? \n"
   ]
  },
  {
   "cell_type": "code",
   "execution_count": null,
   "metadata": {},
   "outputs": [],
   "source": [
    "# get the counts of Western and non-Western works by gender in MoMA before 2013\n",
    "moma_western_gender = moma_before_2013[moma_before_2013['European?'] == 'False']['Gender'].value_counts()"
   ]
  },
  {
   "cell_type": "code",
   "execution_count": null,
   "metadata": {},
   "outputs": [],
   "source": [
    "# get the counts of Western and non-Western works by gender in the Tate\n",
    "tate_western_gender = tate_country[tate_country['European?'] == 'False']['gender'].value_counts()"
   ]
  },
  {
   "cell_type": "code",
   "execution_count": null,
   "metadata": {},
   "outputs": [],
   "source": [
    "# create and format pie charts\n",
    "fig, (ax5, ax6) = plot.subplots(1, 2)\n",
    "moma_western_gender.plot.pie(ax=ax5, autopct='%.2f')\n",
    "ax5.set_title(\"MoMA Non Western Male vs Female Artists\")\n",
    "\n",
    "tate_western_gender.plot.pie(ax=ax6, autopct='%.2f')\n",
    "ax6.set_title(\"Tate Non Western Male vs Female Artists\")\n",
    "\n",
    "fig.subplots_adjust(wspace=.5)\n",
    "fig.set_figheight(12)\n",
    "fig.set_figwidth(12)"
   ]
  },
  {
   "cell_type": "markdown",
   "metadata": {},
   "source": [
    "<strong>Conclusion: </strong> The data shows that  MoMA has a larger of female non-Western/european artists than the Tate, but this difference is smaller than the one above.\n"
   ]
  },
  {
   "cell_type": "markdown",
   "metadata": {},
   "source": [
    "### But what do these comparisons look like over time?"
   ]
  },
  {
   "cell_type": "markdown",
   "metadata": {},
   "source": [
    "In order to really understand the comparisons above we need to see how they compare over time, for instance did the MoMA more recently acquire more european works? Or did the Tate always have a smaller number of works by female artists?"
   ]
  },
  {
   "cell_type": "markdown",
   "metadata": {},
   "source": [
    "The first one we will compare is the change over time for acquisition of works by non-European artists. When comparing we are mindful of the differences in size between the MoMA and the Tate, as we are not comparing by proportion, but by direction number. In order to do this we analyzed the size differences between the MoMA and the Tate."
   ]
  },
  {
   "cell_type": "code",
   "execution_count": null,
   "metadata": {
    "scrolled": true
   },
   "outputs": [],
   "source": [
    "tate_len = len(tate_country)\n",
    "moma_2013_len = len(moma_before_2013)\n",
    "percent_diff_tate_moma = tate_len/moma_2013_len\n",
    "percent_diff_tate_moma"
   ]
  },
  {
   "cell_type": "markdown",
   "metadata": {},
   "source": [
    "From our analysis we can see that there are about 2x the number of MoMA works as there are works from the Tate. To fixe this problem we will be multiplying the MoMA value counts by the Tate/MoMA value so that they are proportional and the graphs are not squewed."
   ]
  },
  {
   "cell_type": "code",
   "execution_count": null,
   "metadata": {},
   "outputs": [],
   "source": [
    "#create a new table grouping by the acquisition year artists who are non-European\n",
    "acquisitionYear = pd.DataFrame(tate_country[tate_country['European?'] == 'False'].groupby('acquisitionYear')['European?'].value_counts())\n",
    "#adding a new column that is the same as European and then removing European\n",
    "acquisitionYear['count'] = acquisitionYear['European?']\n",
    "acquisitionYear.drop(columns = ['European?'], inplace = True)\n",
    "#resetting the index and dropping the old index\n",
    "acquisitionYear = acquisitionYear.reset_index()\n",
    "acquisitionYear.drop(columns = ['European?'], inplace = True)\n",
    "#only taking the years from 1975 so that the analysis is more clear\n",
    "acquisitionYear = acquisitionYear[acquisitionYear['acquisitionYear']>1975]\n",
    "#setting the year as an integer\n",
    "acquisitionYear['acquisitionYear'] = acquisitionYear['acquisitionYear'].astype(int)\n",
    "#adding in the designation for which museum it is from\n",
    "acquisitionYear['table'] = \"Tate\"\n",
    "#making a pivot table out of the previous table\n",
    "pivot = acquisitionYear.pivot(index='acquisitionYear', columns = 'table', values = 'count')\n",
    "\n",
    "#walking through the same steps but for the MoMA table\n",
    "moma_before_2013['acquisitionYear'] = moma_before_2013['Acquisition Date'].dt.year\n",
    "acquisitionYear1 = pd.DataFrame(moma_before_2013[moma_before_2013['European?'] == 'False'].groupby('acquisitionYear')['European?'].value_counts()*percent_diff_tate_moma)\n",
    "acquisitionYear1['count'] = acquisitionYear1['European?']\n",
    "acquisitionYear1.drop(columns = ['European?'], inplace = True)\n",
    "acquisitionYear1 = acquisitionYear1.reset_index()\n",
    "acquisitionYear1.drop(columns = ['European?'], inplace = True)\n",
    "acquisitionYear1 = acquisitionYear1[acquisitionYear1['acquisitionYear']>1975]\n",
    "acquisitionYear1['table'] = \"Moma\"\n",
    "pivot1 = acquisitionYear1.pivot(index='acquisitionYear', columns = 'table', values = 'count')\n",
    "\n",
    "#merging the two tables together on acquisitionYear\n",
    "new = pivot1.merge(pivot, on = 'acquisitionYear')\n",
    "\n",
    "#plotting the graph\n",
    "new.loc[:,['Moma','Tate']].plot.bar(stacked=True, figsize=(10,7), title = \"Comparing non-European art acquired over a 38 year period\")"
   ]
  },
  {
   "cell_type": "markdown",
   "metadata": {},
   "source": [
    "<strong>Conclusion:</strong> From this graph we can see that the MoMA didn't begin to really overtake the Tate in the number of non-European art acquired until the early to mid 2000s, and it dramatically grew its art acquired during 2012. It shows how the MoMA began to ramp up the number of works that it acquired, slowly inching ahead of the Tate, but that for many years the Tate was not far behind."
   ]
  },
  {
   "cell_type": "markdown",
   "metadata": {},
   "source": [
    "Next we do a similar analysis for the non-European acquisition overtime, but this time for acquisition of art by a female artist, still making sure to account for the difference in sizes between the MoMA and the Tate."
   ]
  },
  {
   "cell_type": "code",
   "execution_count": null,
   "metadata": {
    "scrolled": false
   },
   "outputs": [],
   "source": [
    "#we use the same process as above, with the exception of switching out the column European? for gender in each instance\n",
    "acquisitionYear = pd.DataFrame(tate_country[tate_country['gender'] == 'Female'].groupby('acquisitionYear')['gender'].value_counts())\n",
    "acquisitionYear['count'] = acquisitionYear['gender']\n",
    "acquisitionYear.drop(columns = ['gender'], inplace = True)\n",
    "acquisitionYear = acquisitionYear.reset_index()\n",
    "acquisitionYear = acquisitionYear[acquisitionYear['acquisitionYear']>1975]\n",
    "acquisitionYear['acquisitionYear'] = acquisitionYear['acquisitionYear'].astype(int)\n",
    "acquisitionYear['table'] = \"Tate\"\n",
    "acquisitionYear.drop(columns = ['gender'], inplace = True)\n",
    "pivot = acquisitionYear.pivot(index='acquisitionYear', columns = 'table', values = 'count')\n",
    "\n",
    "moma_before_2013['acquisitionYear'] = moma_before_2013['Acquisition Date'].dt.year\n",
    "acquisitionYear1 = pd.DataFrame(moma_before_2013[moma_before_2013['Gender'] == 'Female'].groupby('acquisitionYear')['Gender'].value_counts()*percent_diff_tate_moma)\n",
    "acquisitionYear1['count'] = acquisitionYear1['Gender']\n",
    "acquisitionYear1.drop(columns = ['Gender'], inplace = True)\n",
    "acquisitionYear1 = acquisitionYear1.reset_index()\n",
    "acquisitionYear1 = acquisitionYear1[acquisitionYear1['acquisitionYear']>1975]\n",
    "acquisitionYear1['table'] = \"Moma\"\n",
    "acquisitionYear1.drop(columns = ['Gender'], inplace = True)\n",
    "pivot1 = acquisitionYear1.pivot(index='acquisitionYear', columns = 'table', values = 'count')\n",
    "\n",
    "new = pivot1.merge(pivot, on = 'acquisitionYear')\n",
    "\n",
    "new.loc[:,['Moma','Tate']].plot.bar(stacked=True, figsize=(10,7), title = \"Comparing amount of art created by a female artists acquired over a 38 year period\")\n"
   ]
  },
  {
   "cell_type": "markdown",
   "metadata": {},
   "source": [
    "<strong>Conclusion:</strong> From this graph we can see that the MoMA has much more consistently acquired more works by female artists than the Tate, even when accounting for a difference in size. Unlike the graph above that looked at non-European artists, there are only 2 to 3 years that the MoMA does not acquire more art by a female artist than the Tate. This shows that the MoMA has continually been collecting more art by female artists over time."
   ]
  },
  {
   "cell_type": "markdown",
   "metadata": {},
   "source": [
    "Overall Conclusion: The MoMA first majorily expanded its museum starting in 2002, and opened the new facility in 2004. "
   ]
  },
  {
   "cell_type": "markdown",
   "metadata": {},
   "source": [
    "### Do countries favor their own art over foreign art? Could this be a bias towards American or British art across many museums?"
   ]
  },
  {
   "cell_type": "markdown",
   "metadata": {},
   "source": [
    "We next examined the proportion of British works in the Tate, the proportion of American works in the MoMA, the proportion of American works in the Tate, and the proportion of British works in MoMA to see if the museums tended to collect more work created by artists from their respective countries or if there was a significant bias towards American art in the Tate or British art in MoMA."
   ]
  },
  {
   "cell_type": "code",
   "execution_count": null,
   "metadata": {},
   "outputs": [],
   "source": [
    "# find the proportion of British works in the Tate\n",
    "tate_country = tate_country.assign(British=np.where(tate_country['countryOfOrigin']==\"United Kingdom\", True, False))\n",
    "tate_British_prop = (tate_country[\"British\"] == True).mean()"
   ]
  },
  {
   "cell_type": "code",
   "execution_count": null,
   "metadata": {},
   "outputs": [],
   "source": [
    "# Find the proportion of American art in MoMA\n",
    "names_dates_moma = names_dates_moma.assign(American=np.where(names_dates_moma['Nationality']==\"American\", True, False))\n",
    "moma_American_prop = (names_dates_moma[\"American\"] == True).mean()"
   ]
  },
  {
   "cell_type": "code",
   "execution_count": null,
   "metadata": {},
   "outputs": [],
   "source": [
    "# Find the proportion of British art in MoMA\n",
    "names_dates_moma = names_dates_moma.assign(British=np.where(names_dates_moma['Nationality']==\"British\", True, False))\n",
    "moma_British_prop = (names_dates_moma[\"British\"] == True).mean()"
   ]
  },
  {
   "cell_type": "code",
   "execution_count": null,
   "metadata": {},
   "outputs": [],
   "source": [
    "# find the proportion of American works in the Tate\n",
    "tate_country = tate_country.assign(American=np.where(tate_country['countryOfOrigin']==\"United States\", True, False))\n",
    "tate_American_prop = (tate_country[\"American\"] == True).mean()"
   ]
  },
  {
   "cell_type": "code",
   "execution_count": null,
   "metadata": {},
   "outputs": [],
   "source": [
    "# Graph it!\n",
    "plotdata = pd.DataFrame(\n",
    "    {\"% of artworks\": [tate_American_prop, moma_American_prop, tate_British_prop, moma_British_prop]}, \n",
    "    index=[\"Proportion of American Art in the Tate\", \"Proportion of American Art in MoMA\", \"Proportion of British Art in the Tate\", \"Proportion of British Art in MoMA\"])\n",
    "plotdata.plot(kind=\"barh\", title = \"Examining National Biases in MoMA and the Tate\")"
   ]
  },
  {
   "cell_type": "markdown",
   "metadata": {},
   "source": [
    "<strong>Conclusion:</strong> It looks like both MoMA and the Tate favor art from their home country, with the Tate having a higher percentage of British art than MoMA has American art. There is roughly the same proportion of British art in MoMA as there is American art in the Tate."
   ]
  },
  {
   "cell_type": "markdown",
   "metadata": {},
   "source": [
    "### Examining gender and home country bias in the two museums\n",
    "How does the gender ratio look when examining art from the museum's home country?"
   ]
  },
  {
   "cell_type": "code",
   "execution_count": null,
   "metadata": {},
   "outputs": [],
   "source": [
    "# Proportion of Male American Artists\n",
    "american_males_moma = (names_dates_moma['American'] == True) & (names_dates_moma['Gender']  == \"Male\")\n",
    "american_males_moma_prop = american_males_moma.mean()"
   ]
  },
  {
   "cell_type": "code",
   "execution_count": null,
   "metadata": {},
   "outputs": [],
   "source": [
    "# Proportion of Male non-American Artists\n",
    "nonamerican_males_moma = (names_dates_moma['American'] == False) & (names_dates_moma['Gender']  == \"Male\")\n",
    "nonamerican_males_moma_prop = nonamerican_males_moma.mean()"
   ]
  },
  {
   "cell_type": "code",
   "execution_count": null,
   "metadata": {},
   "outputs": [],
   "source": [
    "# Proportion of Female American Artists\n",
    "american_females_moma = (names_dates_moma['American'] == True) & (names_dates_moma['Gender']  == \"Female\")\n",
    "american_females_moma_prop = american_females_moma.mean()"
   ]
  },
  {
   "cell_type": "code",
   "execution_count": null,
   "metadata": {},
   "outputs": [],
   "source": [
    "# Proportion of Female non-American Artists\n",
    "nonamerican_females_moma = (names_dates_moma['American'] == False) & (names_dates_moma['Gender']  == \"Female\")\n",
    "nonamerican_females_moma_prop = nonamerican_females_moma.mean()"
   ]
  },
  {
   "cell_type": "code",
   "execution_count": null,
   "metadata": {},
   "outputs": [],
   "source": [
    "# Proportion of Male British Artists\n",
    "british_males_tate = (tate_country['British'] == True) & (tate_country['gender']  == \"Male\")\n",
    "british_males_tate_prop = british_males_tate.mean()"
   ]
  },
  {
   "cell_type": "code",
   "execution_count": null,
   "metadata": {},
   "outputs": [],
   "source": [
    "# Proportion of Male non-British Artists\n",
    "nonbritish_males_tate = (tate_country['British'] == False) & (tate_country['gender']  == \"Male\")\n",
    "nonbritish_males_tate_prop = nonbritish_males_tate.mean()"
   ]
  },
  {
   "cell_type": "code",
   "execution_count": null,
   "metadata": {},
   "outputs": [],
   "source": [
    "# Proportion of Female British Artists\n",
    "british_females_tate = (tate_country['British'] == True) & (tate_country['gender']  == \"Female\")\n",
    "british_females_tate_prop = british_females_tate.mean()"
   ]
  },
  {
   "cell_type": "code",
   "execution_count": null,
   "metadata": {},
   "outputs": [],
   "source": [
    "# Proportion of Feale non-British Artists\n",
    "nonbritish_females_tate = (tate_country['British'] == False) & (tate_country['gender']  == \"Female\")\n",
    "nonbritish_females_tate_prop = nonbritish_females_tate.mean()"
   ]
  },
  {
   "cell_type": "code",
   "execution_count": null,
   "metadata": {},
   "outputs": [],
   "source": [
    "# Graph MoMA data!\n",
    "plotdata_moma = pd.DataFrame(\n",
    "    {\"% of artworks\": [american_males_moma_prop, nonamerican_males_moma_prop, american_females_moma_prop, nonamerican_females_moma_prop]}, \n",
    "    index=[\"Proportion of American Male Artists\", \"Proportion of non-American Male Artists\", \"Proportion of American Female Artists\", \"Proportion of Non-American Female Artists\"])\n",
    "plotdata_moma.plot(kind=\"barh\", title = \"Examining National Biases MoMA\")\n",
    "\n",
    "# Graph Tate data!\n",
    "plotdata_tate = pd.DataFrame(\n",
    "    {\"% of artworks\": [british_males_tate_prop, nonbritish_males_tate_prop, british_females_tate_prop, nonbritish_females_tate_prop]}, \n",
    "    index=[\"Proportion of British Male Artists\", \"Proportion of non-British Male Artists\", \"Proportion of British Female Artists\", \"Proportion of Non-British Female Artists\"])\n",
    "plotdata_tate.plot(kind=\"barh\", title = \"Examining National Biases in the Tate\")"
   ]
  },
  {
   "cell_type": "markdown",
   "metadata": {},
   "source": [
    "Conclusion: Both museums favored male artists, but MoMA has a higher proportion of non-American art than it has American art by male artists, while the Tate heavily favors British male artists. In terms of female artists, MoMA favors American over non-American artists while the Tate doesn't have a distinct difference between British and non-British female artists."
   ]
  },
  {
   "cell_type": "markdown",
   "metadata": {},
   "source": [
    "## Overall Findings from Milestone 2:\n",
    "In general, both museums tend to fairly heavily favor art from western, male artists, and specifically art from their home country. In comparing MoMA to the Tate, MoMA has historically been more diverse in terms of gender and nationality of the artists."
   ]
  },
  {
   "cell_type": "markdown",
   "metadata": {},
   "source": [
    "## Cleaning the Met dataset"
   ]
  },
  {
   "cell_type": "code",
   "execution_count": null,
   "metadata": {
    "scrolled": true
   },
   "outputs": [],
   "source": [
    "met = pd.read_csv(\"MetObjects.csv\", low_memory = False)"
   ]
  },
  {
   "cell_type": "code",
   "execution_count": null,
   "metadata": {},
   "outputs": [],
   "source": [
    "met_modern = met[met['Department'] == 'Modern and Contemporary Art']\n",
    "met_modern.drop(columns = ['Object Number','Is Highlight','Is Timeline Work','Is Public Domain','Object ID',\n",
    "                          'Gallery Number','Department','Dynasty', 'Reign',\n",
    "       'Portfolio', 'Constiuent ID', 'Artist Role', 'Artist Prefix','Artist Display Bio', 'Artist Suffix',\n",
    "       'Artist Alpha Sort','Artist ULAN URL',\n",
    "       'Artist Wikidata URL','Object Begin Date',\n",
    "       'Object End Date', 'Medium', 'Dimensions', 'Credit Line',\n",
    "       'Geography Type', 'City', 'State', 'County', 'Country', 'Region',\n",
    "       'Subregion', 'Locale', 'Locus', 'Excavation', 'River', 'Classification',\n",
    "       'Rights and Reproduction', 'Link Resource', 'Object Wikidata URL',\n",
    "       'Metadata Date', 'Repository', 'Tags', 'Tags AAT URL',\n",
    "       'Tags Wikidata URL'], inplace = True)"
   ]
  },
  {
   "cell_type": "code",
   "execution_count": null,
   "metadata": {
    "scrolled": true
   },
   "outputs": [],
   "source": [
    "met_modern = met_modern.dropna(subset=['AccessionYear'])\n",
    "met_modern['AccessionYear'] = met_modern['AccessionYear'].astype(int)\n",
    "met_before_2017 = met_modern[met_modern['AccessionYear'] < 2017]"
   ]
  },
  {
   "cell_type": "code",
   "execution_count": null,
   "metadata": {},
   "outputs": [],
   "source": [
    "met_before_2017['Artist Nationality'] = met_before_2017['Artist Nationality'].replace(np.nan,'no')\n",
    "met_before_2017['Artist Begin Date'] = met_before_2017['Artist Begin Date'].replace(np.nan,'no')\n",
    "met_before_2017['Artist End Date'] = met_before_2017['Artist End Date'].replace(np.nan,'no')"
   ]
  },
  {
   "cell_type": "code",
   "execution_count": null,
   "metadata": {},
   "outputs": [],
   "source": [
    "#in order to do a proper analysis we had to clean up the Artist Nationality because for some of the artists there\n",
    "#they had multiple nationalities, but for our purposes we could only analyze on one, so we chose the first one\n",
    "#tried to use regex but couldn't get it to work\n",
    "index = met_before_2017['Artist Nationality'].index\n",
    "for x in index:\n",
    "    if met_before_2017.loc[x,'Artist Nationality'] != 'no':\n",
    "        if '|' in met_before_2017.loc[x,'Artist Nationality']:\n",
    "            n = met_before_2017.loc[x,'Artist Nationality'].split('|')\n",
    "            met_before_2017.loc[x,'Artist Nationality'] = n[0]\n",
    "\n",
    "for x in index:\n",
    "    if met_before_2017.loc[x,'Artist Nationality'] != 'no':\n",
    "        if 'born' in met_before_2017.loc[x,'Artist Nationality']:\n",
    "            n = met_before_2017.loc[x,'Artist Nationality'].split(',')\n",
    "            met_before_2017.loc[x,'Artist Nationality'] = n[0]\n",
    "            \n",
    "            "
   ]
  },
  {
   "cell_type": "code",
   "execution_count": null,
   "metadata": {},
   "outputs": [],
   "source": [
    "index = met_before_2017['Artist Begin Date'].index\n",
    "met_before_2017['Artist Begin Date'].astype(str)\n",
    "for x in index:\n",
    "    if met_before_2017.loc[x,'Artist Begin Date'] != np.nan:\n",
    "        if '|' in met_before_2017.loc[x,'Artist Begin Date']:\n",
    "            n = met_before_2017.loc[x,'Artist Begin Date'].split('|')\n",
    "            met_before_2017.loc[x,'Artist Begin Date'] = n[0]"
   ]
  },
  {
   "cell_type": "code",
   "execution_count": null,
   "metadata": {},
   "outputs": [],
   "source": [
    "index = met_before_2017['Artist End Date'].index\n",
    "met_before_2017['Artist End Date'] = met_before_2017['Artist End Date'].astype(str, copy=True, errors='raise')\n",
    "for x in index:\n",
    "    if met_before_2017.loc[x,'Artist End Date'] != np.nan:\n",
    "        if '|' in met_before_2017.loc[x,'Artist End Date']:\n",
    "            n = met_before_2017.loc[x,'Artist End Date'].split('|')\n",
    "            met_before_2017.loc[x,'Artist End Date'] = n[0]"
   ]
  },
  {
   "cell_type": "markdown",
   "metadata": {},
   "source": [
    "Next we tried to clean the values in the Artist Gender column, but upon further inspection the column doesn't contain any usable information. It is a mix of | and only Female, which although it would be interesting to learn that the Met only had modern and contemporary works of art by female artists we know that this is not true. We displayed the different unique values, and the mess that is their Artist Gender column. Because of this we will not be able to do the same analysis of the Met vs the MoMA on gender like we did above for the MoMA vs the Tate."
   ]
  },
  {
   "cell_type": "code",
   "execution_count": null,
   "metadata": {},
   "outputs": [],
   "source": [
    "met['Artist Gender'].unique()"
   ]
  },
  {
   "cell_type": "markdown",
   "metadata": {},
   "source": [
    "## How does the diversity of the two museums compare?"
   ]
  },
  {
   "cell_type": "markdown",
   "metadata": {},
   "source": [
    "#### Comparing Western vs non-Western Art in each museum"
   ]
  },
  {
   "cell_type": "code",
   "execution_count": null,
   "metadata": {},
   "outputs": [],
   "source": [
    "met_country_before2017 = met_before_2017[met_before_2017['Artist Nationality'] != 'no']"
   ]
  },
  {
   "cell_type": "code",
   "execution_count": null,
   "metadata": {},
   "outputs": [],
   "source": [
    "met_country_before2017['Artist Nationality'].unique()"
   ]
  },
  {
   "cell_type": "code",
   "execution_count": null,
   "metadata": {},
   "outputs": [],
   "source": [
    "countries_met = ['American', 'Spanish', 'German', 'French', 'British', 'Austrian',\n",
    "       'Hungarian', 'American ', 'British, Scottish','Italian','Czech','Norwegian', 'Swedish','Finnish',\n",
    "       'Belgian','Canadian', 'Dutch', 'Romanian','Danish', 'Swiss','Rumanian',\n",
    "       'Czechoslovakian', 'Irish', 'Polish','Yugoslavian','American and French','American German',\n",
    "                 'France', 'Portuguese', 'Denmark','Slovakian','Danish-Icelandic','Icelandic']\n",
    "non_european = []\n",
    "met_country_before2017['European'] = ['False'] * len(met_country_before2017['Artist Nationality'])\n",
    "index = met_country_before2017['Artist Nationality'].index\n",
    "\n",
    "for x in index:\n",
    "    if met_country_before2017.loc[x, 'Artist Nationality'] in countries_met:\n",
    "        met_country_before2017.loc[x,'European?'] = 'True'\n",
    "    elif met_country_before2017.loc[x, 'Artist Nationality'] == np.nan:\n",
    "        met_country_before2017.loc[x,'European?'] = 'True' \n",
    "    else:\n",
    "        if met_country_before2017.loc[x, 'Artist Nationality'] in non_european:\n",
    "            met_country_before2017.loc[x,'European?'] = 'False'\n",
    "        else:\n",
    "            non_european.append(country)\n",
    "            met_country_before2017.loc[x,'European?'] = 'False'"
   ]
  },
  {
   "cell_type": "code",
   "execution_count": null,
   "metadata": {},
   "outputs": [],
   "source": [
    "# get the counts of works by Western and non-Western artists in MoMA before 2013\n",
    "moma_European = names_dates_moma['European?'].value_counts()"
   ]
  },
  {
   "cell_type": "code",
   "execution_count": null,
   "metadata": {},
   "outputs": [],
   "source": [
    "# get the counts of works by Western and non-Western artists in the Met\n",
    "met_European = met_country_before2017['European?'].value_counts()"
   ]
  },
  {
   "cell_type": "code",
   "execution_count": null,
   "metadata": {},
   "outputs": [],
   "source": [
    "# create and format pie charts\n",
    "fig, (ax1, ax2) = plot.subplots(1, 2)\n",
    "moma_European.plot.pie(ax=ax1,  autopct='%.2f')\n",
    "ax1.set_title(\"MoMA Western vs Non Western\")\n",
    "\n",
    "met_European.plot.pie(ax=ax2, autopct='%.2f')\n",
    "ax2.set_title(\"Met Western vs Non Western\")\n",
    "\n",
    "fig.subplots_adjust(wspace=.5)\n",
    "fig.set_figheight(12)\n",
    "fig.set_figwidth(12)"
   ]
  },
  {
   "cell_type": "markdown",
   "metadata": {},
   "source": [
    "<strong> Conclusion: </strong> This comparison shows that the MoMA, even before its renovation, was ahead of the Met with regard to artists of modern and contemporary art who were not of European or Western descent."
   ]
  },
  {
   "cell_type": "code",
   "execution_count": null,
   "metadata": {},
   "outputs": [],
   "source": [
    "names_dates_moma = names_dates_moma.assign(American=np.where(names_dates_moma['Nationality']==\"American\", True, False))\n",
    "met_country_before2017 = met_country_before2017.assign(American=np.where(met_country_before2017['Artist Nationality']==\"American\", True, False))\n",
    "\n",
    "american_moma = (names_dates_moma['American'] == True)\n",
    "american_moma_num = american_moma.mean()\n",
    "nonamerican_moma = (names_dates_moma['American'] == False)\n",
    "nonamerican_moma_num = nonamerican_moma.mean()\n",
    "\n",
    "america_met_before_2017 = (met_country_before2017['American'] == True)\n",
    "american_met_before_2017 = america_met_before_2017.mean()\n",
    "nonamerica_met_before_2017 = (met_country_before2017['American'] == False)\n",
    "nonamerican_met_before_2017 = nonamerica_met_before_2017.mean()"
   ]
  },
  {
   "cell_type": "code",
   "execution_count": null,
   "metadata": {},
   "outputs": [],
   "source": [
    "# Graph MoMA data!\n",
    "plotdata_moma = pd.DataFrame(\n",
    "    {\"% of artworks\": [american_moma_num,nonamerican_moma_num]}, \n",
    "    index=['Proportion of American Artists in the MoMA','Proportion of Non-American Artists in the MoMA'])\n",
    "plotdata_moma.plot(kind=\"barh\", title = \"Examining National Biases MoMA\")\n",
    "\n",
    "# Graph Tate data!\n",
    "plotdata_tate = pd.DataFrame(\n",
    "    {\"% of artworks\": [american_met_before_2017,nonamerican_met_before_2017]}, \n",
    "    index=['Proportion of American Artists in the Met','Proportion of Non-American Artists in the Met' ])\n",
    "plotdata_tate.plot(kind=\"barh\", title = \"Examining National Biases in the Met\")"
   ]
  },
  {
   "cell_type": "code",
   "execution_count": null,
   "metadata": {},
   "outputs": [],
   "source": []
  }
 ],
 "metadata": {
  "kernelspec": {
   "display_name": "Python 3",
   "language": "python",
   "name": "python3"
  },
  "language_info": {
   "codemirror_mode": {
    "name": "ipython",
    "version": 3
   },
   "file_extension": ".py",
   "mimetype": "text/x-python",
   "name": "python",
   "nbconvert_exporter": "python",
   "pygments_lexer": "ipython3",
   "version": "3.8.2"
  }
 },
 "nbformat": 4,
 "nbformat_minor": 4
}
    }
   },
   "cell_type": "markdown",
   "metadata": {},
   "source": [
    "### Lorenz Curve and Gini Coefficient\n",
    "\n",
    "The [Lorenz Curve](https://en.wikipedia.org/wiki/Lorenz_curve) is typically used to distribution of wealth, but it also has helpful applications for showing distribution over time of other variables. In this case, we used it to show the distribution of female artists over time. The x axis represents the cumulative percent of the total population and the y axis represents the cumulative proportion of female artists. In perfect equality, this would be a line with slope of 1 (y=x or x and y increase at the same rate). \n",
    "\n",
    "In the example of distribution of wealth, this would mean that the bottom 10% of households hold 10% of the wealth, the bottom 20% has 20%, etc. In our example, perfect equality would be the first (earliest chronologically) 10% of the all of the artworks has the first 10% of all of the artwork by female artists.\n",
    "\n",
    "In contrast to perfect equality, the Lorenz curve shows the true distribution of female artists over time, with the same x and y axis as perfect equality.\n",
    "\n",
    "The Lorenz curve is helpful because it shows a graphical representation of inequality and allows us to calculate the [Gini coefficient,](https://en.wikipedia.org/wiki/Gini_coefficient) which calculates a metric to show the inequality of the proportion of art by female artists among all artworks. The Gini coefficient is the proportion of the area between perfect equality and the Lorenz curve compared to the total area under the perfect equality line.\n",
    "\n",
    "This graph is a good representation of perfect equality, the Lorenz curve, and the Gini coefficient.\n",
    "![image.png](attachment:image.png)\n",
    "\n",
    "For our axes, since there is not necessarily an analogoue to sorting the population from poorest to riches, we chose to sort the data from earliest acquired to most recetly acquired to show the trend over time. "
   ]
  },
  {
   "cell_type": "markdown",
   "metadata": {},
   "source": [
    "#### Lorenz Curve"
   ]
  },
  {
   "cell_type": "code",
   "execution_count": 33,
   "metadata": {},
   "outputs": [
    {
     "data": {
      "text/html": [
       "<div>\n",
       "<style scoped>\n",
       "    .dataframe tbody tr th:only-of-type {\n",
       "        vertical-align: middle;\n",
       "    }\n",
       "\n",
       "    .dataframe tbody tr th {\n",
       "        vertical-align: top;\n",
       "    }\n",
       "\n",
       "    .dataframe thead th {\n",
       "        text-align: right;\n",
       "    }\n",
       "</style>\n",
       "<table border=\"1\" class=\"dataframe\">\n",
       "  <thead>\n",
       "    <tr style=\"text-align: right;\">\n",
       "      <th></th>\n",
       "      <th>Artwork ID</th>\n",
       "      <th>Title</th>\n",
       "      <th>Artist ID</th>\n",
       "      <th>Name</th>\n",
       "      <th>Date</th>\n",
       "      <th>Medium</th>\n",
       "      <th>Dimensions</th>\n",
       "      <th>Acquisition Date</th>\n",
       "      <th>Credit</th>\n",
       "      <th>Catalogue</th>\n",
       "      <th>...</th>\n",
       "      <th>Gender</th>\n",
       "      <th>Nationality</th>\n",
       "      <th>Birth Year</th>\n",
       "      <th>Death Year</th>\n",
       "      <th>age_made</th>\n",
       "      <th>alive?</th>\n",
       "      <th>Acquisition Year</th>\n",
       "      <th>decile</th>\n",
       "      <th>dec start year</th>\n",
       "      <th>dec end year</th>\n",
       "    </tr>\n",
       "  </thead>\n",
       "  <tbody>\n",
       "    <tr>\n",
       "      <th>61694</th>\n",
       "      <td>59708</td>\n",
       "      <td>Max Reinhardt (Head) (Kopf)</td>\n",
       "      <td>3197</td>\n",
       "      <td>Oskar Kokoschka</td>\n",
       "      <td>1919.0</td>\n",
       "      <td>Lithograph</td>\n",
       "      <td>composition (irreg. ): 15 3/16 x 11 15/16\" (38...</td>\n",
       "      <td>1929-11-19</td>\n",
       "      <td>Gift of Paul J. Sachs</td>\n",
       "      <td>Y</td>\n",
       "      <td>...</td>\n",
       "      <td>Male</td>\n",
       "      <td>Austrian</td>\n",
       "      <td>1886.0</td>\n",
       "      <td>1980.0</td>\n",
       "      <td>33.0</td>\n",
       "      <td>True</td>\n",
       "      <td>1929</td>\n",
       "      <td>1</td>\n",
       "      <td>1929</td>\n",
       "      <td>1953</td>\n",
       "    </tr>\n",
       "    <tr>\n",
       "      <th>61744</th>\n",
       "      <td>59762</td>\n",
       "      <td>The Lords of the World (Die Herren der Welt )</td>\n",
       "      <td>5260</td>\n",
       "      <td>Georg Scholz</td>\n",
       "      <td>1922.0</td>\n",
       "      <td>Lithograph</td>\n",
       "      <td>composition: 11 3/4 x 15 3/4\" (29.8 x 40 cm); ...</td>\n",
       "      <td>1929-11-19</td>\n",
       "      <td>Gift of Paul J. Sachs</td>\n",
       "      <td>Y</td>\n",
       "      <td>...</td>\n",
       "      <td>Male</td>\n",
       "      <td>German</td>\n",
       "      <td>1890.0</td>\n",
       "      <td>1945.0</td>\n",
       "      <td>32.0</td>\n",
       "      <td>True</td>\n",
       "      <td>1929</td>\n",
       "      <td>1</td>\n",
       "      <td>1929</td>\n",
       "      <td>1953</td>\n",
       "    </tr>\n",
       "    <tr>\n",
       "      <th>61711</th>\n",
       "      <td>59728</td>\n",
       "      <td>Dialogue (Zwiesprache)</td>\n",
       "      <td>4533</td>\n",
       "      <td>Max Pechstein</td>\n",
       "      <td>1920.0</td>\n",
       "      <td>Woodcut</td>\n",
       "      <td>composition: 15 13/16 x 12 9/16\" (40.2 x 31.9 ...</td>\n",
       "      <td>1929-11-19</td>\n",
       "      <td>Gift of Paul J. Sachs</td>\n",
       "      <td>Y</td>\n",
       "      <td>...</td>\n",
       "      <td>Male</td>\n",
       "      <td>German</td>\n",
       "      <td>1881.0</td>\n",
       "      <td>1955.0</td>\n",
       "      <td>39.0</td>\n",
       "      <td>True</td>\n",
       "      <td>1929</td>\n",
       "      <td>1</td>\n",
       "      <td>1929</td>\n",
       "      <td>1953</td>\n",
       "    </tr>\n",
       "    <tr>\n",
       "      <th>61660</th>\n",
       "      <td>59673</td>\n",
       "      <td>Woman, Standing in the Garden (Frau, im Garten...</td>\n",
       "      <td>3197</td>\n",
       "      <td>Oskar Kokoschka</td>\n",
       "      <td>1916.0</td>\n",
       "      <td>Lithograph</td>\n",
       "      <td>composition (irreg.): 9 13/16 x 5 11/16\" (24.9...</td>\n",
       "      <td>1929-11-19</td>\n",
       "      <td>Gift of Paul J. Sachs</td>\n",
       "      <td>Y</td>\n",
       "      <td>...</td>\n",
       "      <td>Male</td>\n",
       "      <td>Austrian</td>\n",
       "      <td>1886.0</td>\n",
       "      <td>1980.0</td>\n",
       "      <td>30.0</td>\n",
       "      <td>True</td>\n",
       "      <td>1929</td>\n",
       "      <td>1</td>\n",
       "      <td>1929</td>\n",
       "      <td>1953</td>\n",
       "    </tr>\n",
       "    <tr>\n",
       "      <th>61635</th>\n",
       "      <td>59646</td>\n",
       "      <td>Marine</td>\n",
       "      <td>1832</td>\n",
       "      <td>Lyonel Feininger</td>\n",
       "      <td>1918.0</td>\n",
       "      <td>Woodcut</td>\n",
       "      <td>composition (irreg.): 6 5/8 x 8 7/8\" (16.8 x 2...</td>\n",
       "      <td>1929-11-19</td>\n",
       "      <td>Gift of Paul J. Sachs</td>\n",
       "      <td>Y</td>\n",
       "      <td>...</td>\n",
       "      <td>Male</td>\n",
       "      <td>American</td>\n",
       "      <td>1871.0</td>\n",
       "      <td>1956.0</td>\n",
       "      <td>47.0</td>\n",
       "      <td>True</td>\n",
       "      <td>1929</td>\n",
       "      <td>1</td>\n",
       "      <td>1929</td>\n",
       "      <td>1953</td>\n",
       "    </tr>\n",
       "  </tbody>\n",
       "</table>\n",
       "<p>5 rows × 31 columns</p>\n",
       "</div>"
      ],
      "text/plain": [
       "       Artwork ID                                              Title  \\\n",
       "61694       59708                        Max Reinhardt (Head) (Kopf)   \n",
       "61744       59762      The Lords of the World (Die Herren der Welt )   \n",
       "61711       59728                             Dialogue (Zwiesprache)   \n",
       "61660       59673  Woman, Standing in the Garden (Frau, im Garten...   \n",
       "61635       59646                                             Marine   \n",
       "\n",
       "      Artist ID              Name    Date      Medium  \\\n",
       "61694      3197   Oskar Kokoschka  1919.0  Lithograph   \n",
       "61744      5260      Georg Scholz  1922.0  Lithograph   \n",
       "61711      4533     Max Pechstein  1920.0     Woodcut   \n",
       "61660      3197   Oskar Kokoschka  1916.0  Lithograph   \n",
       "61635      1832  Lyonel Feininger  1918.0     Woodcut   \n",
       "\n",
       "                                              Dimensions Acquisition Date  \\\n",
       "61694  composition (irreg. ): 15 3/16 x 11 15/16\" (38...       1929-11-19   \n",
       "61744  composition: 11 3/4 x 15 3/4\" (29.8 x 40 cm); ...       1929-11-19   \n",
       "61711  composition: 15 13/16 x 12 9/16\" (40.2 x 31.9 ...       1929-11-19   \n",
       "61660  composition (irreg.): 9 13/16 x 5 11/16\" (24.9...       1929-11-19   \n",
       "61635  composition (irreg.): 6 5/8 x 8 7/8\" (16.8 x 2...       1929-11-19   \n",
       "\n",
       "                      Credit Catalogue  ... Gender Nationality Birth Year  \\\n",
       "61694  Gift of Paul J. Sachs         Y  ...   Male    Austrian     1886.0   \n",
       "61744  Gift of Paul J. Sachs         Y  ...   Male      German     1890.0   \n",
       "61711  Gift of Paul J. Sachs         Y  ...   Male      German     1881.0   \n",
       "61660  Gift of Paul J. Sachs         Y  ...   Male    Austrian     1886.0   \n",
       "61635  Gift of Paul J. Sachs         Y  ...   Male    American     1871.0   \n",
       "\n",
       "       Death Year  age_made  alive?  Acquisition Year  decile  dec start year  \\\n",
       "61694      1980.0      33.0    True              1929       1            1929   \n",
       "61744      1945.0      32.0    True              1929       1            1929   \n",
       "61711      1955.0      39.0    True              1929       1            1929   \n",
       "61660      1980.0      30.0    True              1929       1            1929   \n",
       "61635      1956.0      47.0    True              1929       1            1929   \n",
       "\n",
       "       dec end year  \n",
       "61694          1953  \n",
       "61744          1953  \n",
       "61711          1953  \n",
       "61660          1953  \n",
       "61635          1953  \n",
       "\n",
       "[5 rows x 31 columns]"
      ]
     },
     "execution_count": 33,
     "metadata": {},
     "output_type": "execute_result"
    }
   ],
   "source": [
    "# sort the data by acquisition date\n",
    "moma_by_year = moma.sort_values(by=['Acquisition Date'])\n",
    "\n",
    "# split the DataFrame into 10 (roughly) equal parts to be the 10 deciles (each representing 10% of the population)\n",
    "# the frist 6 have 13,940 works and the last 4 have 13,939 works\n",
    "df_split = np.array_split(moma_by_year, 10)\n",
    "for i in range(0,10):\n",
    "    \n",
    "    # add decile number to DataFrame\n",
    "    df_split[i][\"decile\"] = i+1\n",
    "    \n",
    "    # add decile start and end year to DataFrame\n",
    "    df_split[i][\"dec start year\"] = df_split[i][\"Acquisition Date\"].min().year\n",
    "    df_split[i][\"dec end year\"] = df_split[i][\"Acquisition Date\"].max().year\n",
    "\n",
    "# combine all of the split DataFrames into one big DataFrame with their corresponding decile number\n",
    "decile_df = pd.concat([df_split[0],df_split[1],df_split[2],df_split[3],df_split[4],df_split[5],df_split[6],df_split[7],df_split[8],df_split[9]])\n",
    "decile_df.head()"
   ]
  },
  {
   "cell_type": "code",
   "execution_count": 34,
   "metadata": {},
   "outputs": [],
   "source": [
    "# find the total number of female artists in each decile\n",
    "female_list = []\n",
    "females = decile_df[decile_df[\"Gender\"] == \"Female\"]\n",
    "for decile_num in range(1,11):\n",
    "    female_list.append(females[females[\"decile\"] == decile_num][\"Acquisition Date\"].count())"
   ]
  },
  {
   "cell_type": "code",
   "execution_count": 35,
   "metadata": {},
   "outputs": [],
   "source": [
    "# make it cumulative!\n",
    "total = 0\n",
    "female_count = [0]\n",
    "for i in range(10):\n",
    "    total += female_list[i]\n",
    "    female_count.append(total)"
   ]
  },
  {
   "cell_type": "code",
   "execution_count": 36,
   "metadata": {},
   "outputs": [],
   "source": [
    "# since we need a cumulative population, keep a list of the current population being examined at each decile\n",
    "\n",
    "total = 0\n",
    "# include 0% of the population in the list of each decile's cumulative population count\n",
    "pop_count = [0]\n",
    "for i in range(10):\n",
    "    total += df_split[i][\"Acquisition Year\"].count()\n",
    "    pop_count.append(total)"
   ]
  },
  {
   "cell_type": "markdown",
   "metadata": {},
   "source": [
    "Since the Gini index depends on cumulative proportions and not counts, we need to find the total proportion of female artists for each cumulative decile. This requires us to divide each cumulative decile by the total female population.\n",
    "\n",
    "It will suffice to simply create a list of each decile value because the difference in their size is negligible."
   ]
  },
  {
   "cell_type": "code",
   "execution_count": 37,
   "metadata": {},
   "outputs": [],
   "source": [
    "# divide female count by total population of female artists to get the proportion of female artists in each decile\n",
    "total_female = females[\"Acquisition Year\"].count()\n",
    "female_prop = list(map(lambda x: (x/total_female) *100, female_count))\n",
    "\n",
    "# create a list of all of the cumulative proportions of population (make sure to include 0 and 100)\n",
    "population_prop = [0,10,20,30,40,50,60,70,80,90,100]"
   ]
  },
  {
   "cell_type": "code",
   "execution_count": 38,
   "metadata": {},
   "outputs": [],
   "source": [
    "# create a DataFrame with these values representing the x and y axis of the Lorenz curve\n",
    "lorenz_curve = pd.DataFrame(list(zip(population_prop, female_prop)),columns =['cumulative_prop_of_artists', 'cumulative_proportion_of_female_artists'])"
   ]
  },
  {
   "cell_type": "code",
   "execution_count": 39,
   "metadata": {},
   "outputs": [
    {
     "data": {
      "text/plain": [
       "[0, 1929, 1953, 1964, 1968, 1974, 1986, 1998, 2005, 2009, 2013]"
      ]
     },
     "execution_count": 39,
     "metadata": {},
     "output_type": "execute_result"
    }
   ],
   "source": [
    "# add the start and end years of each decile to the DataFrame\n",
    "for i in range(0,10):\n",
    "    decile_df[decile_df[\"decile\"] == i][\"dec start year\"]\n",
    "    decile_df[decile_df[\"decile\"] == i][\"dec end year\"]\n",
    "    \n",
    "\n",
    "# create an array of the each unique start and end year to the respective list, including 0 for 0% of the population\n",
    "start_years = list(decile_df[\"dec start year\"].unique())\n",
    "start_years.insert(0,0)\n",
    "\n",
    "end_years = list(decile_df[\"dec end year\"].unique())\n",
    "end_years.insert(0,0)\n",
    "start_years"
   ]
  },
  {
   "cell_type": "code",
   "execution_count": 40,
   "metadata": {},
   "outputs": [
    {
     "data": {
      "text/html": [
       "<div>\n",
       "<style scoped>\n",
       "    .dataframe tbody tr th:only-of-type {\n",
       "        vertical-align: middle;\n",
       "    }\n",
       "\n",
       "    .dataframe tbody tr th {\n",
       "        vertical-align: top;\n",
       "    }\n",
       "\n",
       "    .dataframe thead th {\n",
       "        text-align: right;\n",
       "    }\n",
       "</style>\n",
       "<table border=\"1\" class=\"dataframe\">\n",
       "  <thead>\n",
       "    <tr style=\"text-align: right;\">\n",
       "      <th></th>\n",
       "      <th>cumulative_prop_of_artists</th>\n",
       "      <th>cumulative_proportion_of_female_artists</th>\n",
       "      <th>decile start</th>\n",
       "      <th>decile end</th>\n",
       "      <th>date range</th>\n",
       "    </tr>\n",
       "  </thead>\n",
       "  <tbody>\n",
       "    <tr>\n",
       "      <th>0</th>\n",
       "      <td>0</td>\n",
       "      <td>0.000000</td>\n",
       "      <td>0</td>\n",
       "      <td>0</td>\n",
       "      <td>0-0</td>\n",
       "    </tr>\n",
       "    <tr>\n",
       "      <th>1</th>\n",
       "      <td>10</td>\n",
       "      <td>4.831752</td>\n",
       "      <td>1929</td>\n",
       "      <td>1953</td>\n",
       "      <td>1929-1953</td>\n",
       "    </tr>\n",
       "    <tr>\n",
       "      <th>2</th>\n",
       "      <td>20</td>\n",
       "      <td>8.083892</td>\n",
       "      <td>1953</td>\n",
       "      <td>1964</td>\n",
       "      <td>1953-1964</td>\n",
       "    </tr>\n",
       "    <tr>\n",
       "      <th>3</th>\n",
       "      <td>30</td>\n",
       "      <td>11.833809</td>\n",
       "      <td>1964</td>\n",
       "      <td>1968</td>\n",
       "      <td>1964,1968</td>\n",
       "    </tr>\n",
       "    <tr>\n",
       "      <th>4</th>\n",
       "      <td>40</td>\n",
       "      <td>17.773943</td>\n",
       "      <td>1968</td>\n",
       "      <td>1974</td>\n",
       "      <td>1968-1974</td>\n",
       "    </tr>\n",
       "    <tr>\n",
       "      <th>5</th>\n",
       "      <td>50</td>\n",
       "      <td>26.866662</td>\n",
       "      <td>1974</td>\n",
       "      <td>1986</td>\n",
       "      <td>1974-1986</td>\n",
       "    </tr>\n",
       "    <tr>\n",
       "      <th>6</th>\n",
       "      <td>60</td>\n",
       "      <td>45.503418</td>\n",
       "      <td>1986</td>\n",
       "      <td>1998</td>\n",
       "      <td>1986-1998</td>\n",
       "    </tr>\n",
       "    <tr>\n",
       "      <th>7</th>\n",
       "      <td>70</td>\n",
       "      <td>58.711090</td>\n",
       "      <td>1998</td>\n",
       "      <td>2005</td>\n",
       "      <td>1998-2005</td>\n",
       "    </tr>\n",
       "    <tr>\n",
       "      <th>8</th>\n",
       "      <td>80</td>\n",
       "      <td>76.431937</td>\n",
       "      <td>2005</td>\n",
       "      <td>2009</td>\n",
       "      <td>2005-2009</td>\n",
       "    </tr>\n",
       "    <tr>\n",
       "      <th>9</th>\n",
       "      <td>90</td>\n",
       "      <td>90.960377</td>\n",
       "      <td>2009</td>\n",
       "      <td>2013</td>\n",
       "      <td>2009-2013</td>\n",
       "    </tr>\n",
       "    <tr>\n",
       "      <th>10</th>\n",
       "      <td>100</td>\n",
       "      <td>100.000000</td>\n",
       "      <td>2013</td>\n",
       "      <td>2016</td>\n",
       "      <td>2013-2016</td>\n",
       "    </tr>\n",
       "  </tbody>\n",
       "</table>\n",
       "</div>"
      ],
      "text/plain": [
       "    cumulative_prop_of_artists  cumulative_proportion_of_female_artists  \\\n",
       "0                            0                                 0.000000   \n",
       "1                           10                                 4.831752   \n",
       "2                           20                                 8.083892   \n",
       "3                           30                                11.833809   \n",
       "4                           40                                17.773943   \n",
       "5                           50                                26.866662   \n",
       "6                           60                                45.503418   \n",
       "7                           70                                58.711090   \n",
       "8                           80                                76.431937   \n",
       "9                           90                                90.960377   \n",
       "10                         100                               100.000000   \n",
       "\n",
       "    decile start  decile end date range  \n",
       "0              0           0        0-0  \n",
       "1           1929        1953  1929-1953  \n",
       "2           1953        1964  1953-1964  \n",
       "3           1964        1968  1964,1968  \n",
       "4           1968        1974  1968-1974  \n",
       "5           1974        1986  1974-1986  \n",
       "6           1986        1998  1986-1998  \n",
       "7           1998        2005  1998-2005  \n",
       "8           2005        2009  2005-2009  \n",
       "9           2009        2013  2009-2013  \n",
       "10          2013        2016  2013-2016  "
      ]
     },
     "execution_count": 40,
     "metadata": {},
     "output_type": "execute_result"
    }
   ],
   "source": [
    "# add this to a new DataFrame\n",
    "lorenz_year = lorenz_curve.copy()\n",
    "lorenz_year[\"decile start\"] = start_years\n",
    "lorenz_year[\"decile end\"] = end_years\n",
    "lorenz_year[\"date range\"] = [\"0-0\", \"1929-1953\", \"1953-1964\", \"1964,1968\", \"1968-1974\", \"1974-1986\",\"1986-1998\", \"1998-2005\", \"2005-2009\", \"2009-2013\", \"2013-2016\"]\n",
    "lorenz_year"
   ]
  },
  {
   "cell_type": "markdown",
   "metadata": {},
   "source": [
    "Here is a dataframe with the cumulative proportion of artists, the cumulative proprtion of female artists, the decile start data, decile end data, and the date range. This provides some context for each decile. "
   ]
  },
  {
   "cell_type": "code",
   "execution_count": 41,
   "metadata": {},
   "outputs": [
    {
     "data": {
      "text/plain": [
       "Text(0.5, 1.0, 'Lorenz Curve and Perfect Equality line')"
      ]
     },
     "execution_count": 41,
     "metadata": {},
     "output_type": "execute_result"
    },
    {
     "data": {
      "image/png": "iVBORw0KGgoAAAANSUhEUgAAAYUAAAEWCAYAAACJ0YulAAAABHNCSVQICAgIfAhkiAAAAAlwSFlzAAALEgAACxIB0t1+/AAAADh0RVh0U29mdHdhcmUAbWF0cGxvdGxpYiB2ZXJzaW9uMy4yLjIsIGh0dHA6Ly9tYXRwbG90bGliLm9yZy+WH4yJAAAgAElEQVR4nOzdd3hU1dbA4d+CEHon9BKa9KZBpIioqKgoIEoREEVF/bzXcr1SxMK1gb17FQtXLCjSBUQFRUWwUCT03nsvgZAy6/vjnMCIITkkmZlMZr3Pkycz58zMXjOTzJqz9z5ri6pijDHGAOQLdQDGGGNyD0sKxhhjTrGkYIwx5hRLCsYYY06xpGCMMeYUSwrGGGNOsaRgjEci8j8ReTpIbd0jIrtF5JiIlA1Gm8EkIh1EZJvf9eUi0iGHHnuOiNzhXu4jIt/mxONGCksKuZCIbBKRjqGOwysRqSQiH4jIThE5KiKrROQ/IlI01LEFi4jcKiKp7of4ERH5U0Q6Z/GxCgAvA1eqajFV3Z/Fx4kVERWRqAxuM1xEkt24034OZaW97FDVRqo6xy+mT3LocT9V1Stz4rEihSWFPCqjD4IcbqcMMB8oDLRW1eLAFUApoHYWHi8ocQfIfFUthvPcPwDGua+PZ+7zrwAUApbnfIjp+sJNPmk/pYLUrsmFLCmEEREpKCKvisgO9+dVESno7usgIttEZLCI7AJGi0g+ERkiIutFZL+InPqQ8vsW2V9EtojIPhEZ5tfWIb9vjgnubWPTCetfwFGgr6puAlDVrap6v6rGp/dt9YzD+1tF5BcReUVEDgBPuW039rt9jIicEJHy7vXO7jfxQyIyT0SaZvCavSYiW91v7wtF5GK/fcPd12SMe4SzXETi/Pa3EJFF7r4vcD6oM6WqPuBDnERZy33fXnRf590i8o6IFD7L+/YxsNp9qEMi8r17u/oi8p2IHBCR1SLSwy/OwiLykohsFpHDIjLXffyf/B7nmIi09hL/Ga/fFe6R32EReVNEfvR77/7yjf7M91pEbhORle7rt0FE7sqgnU0i0lFEOgGPAD3dmJeIyE0isvCM2z8kIpM9xH+riMz1u64icreIrBWRgyLyloiI3/4BbswHReQbEalxLq9XXmBJIbwMAy4CmgPNgAuBR/32VwTKADWAgcB9QFfgEqAycBB464zHbAfUAy4HHheRBgCqWirtmyPwGvAzsD2dmDoCE90PwqxqBWwAygNPAhOB3n77ewA/quoeETkf5wP3LqAs8C4wNS05puMPnNerDPAZ8KWI+H+4Xw98jvPtfirwJoCIRAOTcT6kywBfAt29PBn3Q/EO4BiwFngOOM+Now5QBXjc7y7+79sAoJG7vZSqXiZON9x3bvzl3dfmbRFJu92LwAVAG/dxBgE+oL3f4xRT1fle4vd7HuWACTh/Y+WA9UDbc3iIPUBnoARwG/CK+/6dlarOBJ7l9NFLM5z3pWba36arL857kxWdgZY4/0M9gKsARKQrTkK6AYjB+Zsfm8U2wpeq2k8u+wE2AR3T2b4euMbv+lXAJvdyByAJKOS3fyVwud/1SkAyEAXEAgpU9dv/O9DrjDZ7uvHEnCXWtcDdGTyXtHai/LbNAe5wL98KbDnjPh2BDX7XfwFucS//F3jqjNuvBi7x+NoeBJq5l4cDs/z2NQROuJfbAzsA8ds/D3j6LI97K5ACHAL2Ab+6z0OABKC2321bAxszeN/+8pq578HPZ7T3LvAEzhe7E2nPKbPXPp3bDHfbP+T384O77xbgV7/bCrDN770bDnzitT2cJHu/3/Pelt7f/JmP6/e+P+NebuS+jwXP0s6Zf19z/fYp0M7v+jhgiHv5a+B2v335gONAjaz+L4fjTzj330aiysBmv+ub3W1p9qpqot/1GsAkEfH/Fp+K02edZpff5eNAsbQrItIC55vzlaq69ywx7cdJNtmx9Yzr3wOFRaSVG19zYJK7rwbQX0T+6Xf7aP76OpwiIg/hfGuvjPOBUALnW2+aM59/IfebfmVgu7qfDi7/1z49v6pquzPaLw8UARb691IA+f1udub7dqYaQCv56wBwFM435XI43VrrM4ktI+NUtW862yvj996oqorIme/VWYnI1TiJ6zycD9giwNIsxvgRMFZEHgX6uTGfzOJjne1vvgbwmoi85LdfcI7sMnvv8wzrPgovO3D+cNNUd7elObPk7VbganW6gtJ+Cqlqet1AfyEiMTgfxP9Q1cUZ3HQW0E1Ezva3lOD+LuK3reIZt/lL3Op0RY3D6Sa5GZimqkf9ntMzZzynIqr6t8N8d/xgME4XQWl1BlAP4/yjZ2YnUMW/vxnn9T5X+3C+yTfyi7ekOt1yaTIrVbwVp/vM/zkXU9V73MdPJP1B/eyWQN4JVEu74r4W1fz2J3CW99XtzpuA07VVwX3tZ+Dttf9b3Kr6K84RzcU4fxNZ7TrKyFbgrjNe58KqOi8AbeValhRyrwIiUsjvJwqnf/NRd+C1HE6/dEZT994BnkkbLHPv1yWzht22JgCfquoXmdz8ZZxv3x/5tVNFRF4WkabuEcZ2oK+I5BeRAXiblfQZTrdJH/dymveAu0WklTiKisi1IlI8nccojtOlsxeIEpHH3Vi9mO/e9z4RiRKRG3DGcM6Jm+Dew+lPTxsoryIiV53Dw0wDzhORfiJSwP1pKSIN9PSg9ssiUtl9jVu7H8p7ccYWap1r3K7pQCMRucH9m7iPvyb0P4H2IlJdREoCQ/32RQNpMaS4Rw1ep4buBmLT+aIxBufINUVV5/79btn2DjA0baxGREqKyE0BaCdXs6SQe83A+YaZ9jMceBpYAMTjHIYvcredzWs4g3TfishRnH7uVh7arorzjewB+ev89b99U1bVAzgDnMnAb247s3G+ka9zb3Yn8DBOV1MjnL75DKnqbzjfRCvj9PWmbV/gPt6bOP3K63D6jdPzjXvfNTiH/4n8vavqbO0n4Qw43uq20xNnADwrBrtx/ioiR3COrup5vbN7lHQl0AvnyHAXzuB12uD6v3H+Hv4ADrj78qnqceAZ4BdxZmpddJYmep7xPh8TkfKqug+4CRiJ897VxRnfSYvrO+ALnL/HhTjJyz/m+3CO+A7ifLuf6vEpf+n+3i8ii/y2fww0JjBHCajqJJzX7nP3fVoGXB2ItnIz+WuXqTHGnJ2IzMEZBH4/BG0XxpnRdL6qrg12+5HCjhSMMeHiHuAPSwiBZbOPjDG5nohswhmk7hriUPI86z4yxhhzinUfGWOMOSWsu4/KlSunsbGxoQ7DGGPCysKFC/epakx6+8I6KcTGxrJgwYJQh2GMMWFFRM56hrZ1HxljjDnFkoIxxphTLCkYY4w5xZKCMcaYUywpGGOMOSVgSUFEPhSRPSKyzG9bGXGWFFzr/i7tt2+oiKwTZ6nBc6kgaYwxJocE8kjhf0CnM7YNAWaral2cSppDAESkIU4FyEbufd4WkfwYY4wJqoAlBVX9CaeMr78uOCso4f7u6rf9c1U9qaobccoMn3PtemOMyevUl8rvE15lyXefBuTxgz2mUEFVdwK4v8u726vw1zr329xtfyMiA0VkgYgs2Lv3bCtEGmNM3rNr+c9sGHERFy59gpT4LzO/QxbkloHm9JboS7dSn6qOUtU4VY2LiUn3LG1jjMlTUg/vZM27fan4ZWeKJe3ll2YjaPFAVtd8yliwy1zsFpFKqrpTRCrhLJgBzpGB/9qvVfnr2sPGGBN5UpLYO/s1iv76EjV8yUwr1Zu4vk/TNqZcwJoMdlKYCvTHWd6vPzDFb/tnIvIyzvKLdYHfgxybMcbkGsmrv+XY5IeIObGFn7iApCue5tq2rRFJr2Ml52SaFNyFq2eq6lEReRQ4H3haVRdlcr+xQAegnIhsA57ASQbjROR2YAvO+q+o6nIRGQeswFks/V5VTc360zLGmDB1YAOHJw+i5JbvOOiryBfVRnJT7wGULVYw8/vmgEwX2RGReFVtKiLtgBHAi8AjquplAfiAiouLU6uSaozJE5ISSJ7zIjL/DRJ9+flf1E006DqYy5tUy/y+50hEFqpqXHr7vHQfpX1jvxb4r6pOEZHhORWcMcZENFVYNoGTXw+j4PFdTEhtx5om/+be69tRolCBoIfjJSlsF5F3gY7AcyJSkNwza8kYY8LXrqWkTPs3Udt+ZY0vlneKjKDPTT3oXjtwA8mZ8ZIUeuCcZfyiqh5yZw09HNiwjDEmDzt+AH54Bl3wIUe1GM8n30GJNrfx4hUNKBwd2mIOXpLCu6raL+2KO530eeDbwIVljDF5kC8VFo7GN/tpNPEwY1KuYFqZW3nspjY0r1Yq1NEB3pJCI/8rbk2iCwITjjHG5FGbfkG/HoTsXsZCGjM8eQhXXno5YzvUJjoq9/TInzUpiMhQ4BGgsIgcSdsMJAGjghCbMcaEv8Pb4bvHYdl4DuQvz6NJ97Oj8pW8fGMz6lUsHuro/uasSUFVRwAjRGSEqg4NYkzGGBP+khNh/pvozy/hS01hlN7Iu0nX8Y+rm/Jm25rkzxfYk9Cyykv30TQRKaqqCSLSF+fktddUdXOAYzPGmPCjCmtmwsyhcHAjvxdqy0PHbqJ6rQZMvaEp1csWCXWEGfKSFP4LNBORZsAg4ANgDHBJIAMzxpiws28tzBwC62ZxsEhN/pX6CAtONGdYtwb0bFkt4CUqcoKXpJCiqioiXXCOED4Qkf6BDswYY8JG4hH46QX49b+kRhVidNE7Gbn/Yjo0qMJ3XRtTsWShUEfomZekcNQddO4LtHdnHwX/NDtjjMltfD6I/wJmPYEe28Py8tdx+7arSSkcwyu9G9G5aaWwODrw5yUp9ARuBm5X1V0iUh14IbBhGWNMLndoC4y/Hbb9TkJMcwbrIKZtqUS3FlV4rHNDyhSNDnWEWZJpUlDVXcDLfte34IwpGGNMZNq3FsZ0QZOOMTX2UR5cXZ8KJYow+tYmXFq/fOb3z8UyOk9hrqq2E5Gj/HUVNAFUVUsEPDpjjMltdsbDx91I8ikD+Q9zVpWn70XVGdypPsVDUMAup2V0nkI793fuO7vCGGNCYevv6CfdOewrRLdjg9EysXwxsCmtapUNdWQ5JtNzq0XkYy/bjDEmT9swh5T/dWHryaJ0PvYoV7Zvy8wH2uephABZq30UhdU+MsZEkCN/TqbwlDtYl1qR/5R6hrd7XELTqrmjgF1Os9pHxhhzFqrKgq/epcWioSzz1eKPtu/yccfzKZA/9xSwy2kZ1j4SkeeA91V1QBBjMsaYkNt+6ATfjRnBLftfZ3l0E4r3H8edVSuFOqyAy7D7SFV9bnkLY4yJCD6f8unvW9gzYyQP5fuMLTHtaThwHPmjC4c6tKDwcgz0q4i0DHgkxhgTYhv2HqPXu/M5NO1xHsr3GQnndaX6PRMjJiGAt4HmS4G7RGQzkMDp8xSaBjQyY4wJkpRUH+/P3cir363isagx9ImaiZ7fn6KdX4F8oV0eM9i8JIWrAx6FMcaEyIodRxg0YQkrtx/k45hPaHP0G2j9D+TKpyHM6hblBC9lLjYDiEh5IHxK/RljTAYSk1N58/t1vPPjemIKC7/U/piK27+FS4dB+4cjMiGAh6QgItcDLwGVgT1ADWAlZ5y/YIwx4WLh5gMMGh/P+r0J9GpejqdOjqDAxh/gqhHQ+v9CHV5Ieek+egq4CJilqi1E5FKgd2DDMsaYnJdwMoUXvlnNR/M3UblkYT7p24B2v98LW3+F69+E8/uFOsSQ85IUklV1v4jkE5F8qvqDe/6CMcaEjZ/W7GXoxKXsOHyCWy6qwcPtYyg27ibYvRy6fwCNbwh1iLmCl6RwSESKAT8Bn4rIHiAlsGEZY0zOOHw8maemr2D8wm3UiinKuLta07LMSfj4eji4CXqNhfOuDHWYuYaXpNAFOAE8CPQBSgJPBjIoY4zJCTOX7eSxKcs5kJDE/3WozX2X16XQ0S3wYRc4vh/6ToDYdqEOM1fxMvsowb3oAz4KbDjGGJN9e44m8sSU5Xy9bBcNK5Vg9K0taVylJOxZBR93hZRE6D8VqlhtzzN5OVIwxpiwoKpMWLSdp6at4ERyKoM61ePOi2s5Bex2/Amf3AD5ouDWGVChYajDzZVCkhRE5EHgDpwV3ZYCtwFFgC+AWGAT0ENVD4YiPmNM+Nl64DiPTFrKz2v30TK2NCO7N6V2TDFn5+b58FkPKFQKbpkMZWuHNthczFP9VxEpLCL1cqJBEakC3AfEqWpjID/QCxgCzFbVusBs97oxxmTI51P+98tGrnr1JxZtPsiTXRrxxcDWpxPCulnwcTcoVgEGfG0JIRNeVl67DvgTmOleby4iU7PZbhTOOg1ROEcIO3AGtNPGLD4CumazDWNMHrduzzF6vDuf4V+tIC62DN882J5bWseSL597NvKKqfBZLyhXB277GkpWDW3AYcBL99Fw4EJgDoCq/ikisVltUFW3i8iLwBacWU3fquq3IlJBVXe6t9npltX4GxEZCAwEqF69elbDMMaEseRUH6N+2sBrs9ZSODo/L97UjO7nV0H8S1P8+RlMuReqxEGfL6Fw3lwpLad5SQopqnpYcqgOiIiUxjkqqAkcAr4Ukb5e76+qo3BXfouLi9McCcoYEzaWbT/MoPHxrNh5hGubVGL49Y2IKV7wrzf6bRR8/TDU6gA9P4WCxUIRaljykhSWicjNQH4RqYszHjAvG212BDaq6l4AEZkItAF2i0gl9yihEk6dJWOMAZwCdq/NXsuonzZQpmg07/S9gE6NK/79hj+/BLOfhHrXwo0fQgGr43kuvCSFfwLDgJPAWOAbnHpIWbUFuEhEiuB0H10OLMBZq6E/MNL9PSUbbRhj8pA/Nh1g8Ph4NuxLoEdcVYZd05CSRQr89UaqMGs4/PIqNOkBXd+G/AXSfTxzdl5OXjuOkxSG5USDqvqbiIwHFuGUy1iM0x1UDBgnIrfjJI6bcqI9Y0z4OnYyhednrmLM/M1ULV2YT25vRbu65f5+Q58PZvwbFnwAcQPgmpcgn6fJleYMZ00KIvIVznkE6VLV67PaqKo+ATxxxuaTOEcNxhjDnNV7GDZpGTsOn+C2trH8+8p6FC2YzkdWagpM+T+I/wLaPgAdh0fsWgg5IaMjhReDFoUxxrgOJiTx1PQVTFy0nTrlizH+7jZcUKN0+jf2+WDiHbB8Elz+OFz8UHCDzYPOmhRU9cdgBmKMiWyqytfLdvH4lGUcOp7MPy+rwz8uq0PBqAzWSJ71uJMQrngS2t4fvGDzMC8rr9UFRgAN8VuOU1VrBTAuY0wE2XMkkcemLOOb5btpUqUkYwa0omHlEhnf6ff3YN4bcOFAaHNfcAKNAF5mH43G6f9/BbgUp06RddgZY7JNVflywTaenr6Ckyk+hlxdnzva1SQqfyaDxKtnwteD4LyrodNIG0PIQV6SQmFVnS0ioqqbgeEi8jN/Hyg2xhjPth44ztCJS5m7bh8XxpZhZPcm1IrxcJLZjsUw/jao2BRu/ADyZdC9ZM6Zl6SQKCL5gLUi8g9gO5BuCQpjjMlMqk/5aN4mXvhmNfkEnuramD4XVj9drygjh7bAZz2hSDm4eRxEFw18wBHGS1J4AKdo3X04J61dhnNymTHGnJO1u48yeEI8i7YcokO9GJ7p1oQqpQp7u/OJQ/BpD0hOhFumQPEKgQ02Qnk5ee0P9+IxnPEEY4w5J8mpPt6Zs543vl9H0YL5ebVnc7o0r4znmmopSTCuH+xf5yyhWb5BYAOOYF5mH8XhnM1cw//2qto0gHEZY/KIpdsO8/D4JazadZTOTZ0CduWKFcz8jmlU4av7YeNP0PUdqHVJ4II1nrqPPgUexlkhzRfYcIwxeUViciqvzFrDez9toFyxgozqdwFXNkqngF1mfnwelnwGHR6B5r1zPlDzF16Swl5Vze6iOsaYCPLrhv0MnbiUjfsS6NWyGkOvaUDJwlkoTvfnWJjzLDTvA5cMyvlAzd94SQpPiMj7OEtknkzbqKoTAxaVMSYsHU1MZuTXq/j0ty1UK1OYT+9oRds66RSw82LDjzD1H1DzEuj8qp2LECReksJtQH2gAKe7jxSwpGCMOeWHVXt4ZNJSdh1J5PZ2NXnoyvMoEu3lIyYde1bCF/2gbF3oMQaionM2WHNWXt6xZqraJOCRGGPC0oGEJJ78ajmT/9xB3fLFmHBPG86vfpYCdl4c3Q2f3uQsjtNnnC2jGWReksKvItJQVVcEPBpjTNhQVabF72T41OUcPpHMfZfX5d5La2dcwC4zJ4/BZz3g+AG4bQaUsnXYg81LUmgH9BeRjThjCgKoTUk1JnLtPpLIsEnLmLVyN02rluSTO1rRoFImBewy40uFCbfDrnjoNRYqN8+ZYM058ZIUOgU8CmNMWFBVvvhjK8/MWElSio9h1zTgtraxmRewy/yB4evBsGYmXPMi1LOPnVDxckbzZhFpB9RV1dEiEoOzdKYxJoJs3p/AkAlLmb9hP61qluG57k2JLZdDtYfmvwV/vAdt/gkX3pkzj2myxMsZzU8AcUA9nDLaBYBPgLaBDc0Ykxuk+pTRv2zkxW9XE5UvH892a0KvltW8FbDzYsUU+PZRaNgFOj6ZM49pssxL91E3oAWwCEBVd4hI8YBGZYzJFVbvOsqgCfEs2XqIy+uX5+lujalU0mMBOy+2/g4TB0LVltDtXciXzW4ok21ekkKSqqqIKICIWK1aY/K4pBQfb89Zx1s/rKN4oQK81qs51zc7hwJ2XhzYAGN7QfFK0HssFMjBZGOyzEtSGCci7wKlROROYADwXmDDMsaEypKthxg0Pp7Vu4/SpXllHu/ckLLnUsDOi+MH4JMbnQHmvhOgaBbPejY57qxJQUQKqupJVX1RRK4AjuCMKzyuqt8FLUJjTFCcSErl5e9W88HcjZQvXoj3b4mjY8MArFmQnAif3wyHt0H/qVC2ds63YbIsoyOF+cD5IvKxqvYDLBEYk0fNW7+PIROWsuXAcW5uVZ0hV9enRKEsFLDLjM8Hk++BLfPhxtFQ/aKcb8NkS0ZJIVpE+gNtROSGM3daQTxjwt+RxGRGzFjF2N+3UKNsEcbeeRGta5cNXIPfPwnLJ0LH/0Djv32smFwgo6RwN9AHKAVcd8Y+K4hnTJibtWI3wyYvZe/RkwxsX4sHO55H4ehslKjIzILRMPcViBsAbe8PXDsmW86aFFR1LjBXRBao6gdBjMkYE0D7j53kP1+tYOqSHdSvWJxR/eJoVi3ARefWfgfTH4I6V8DVL1gZ7FzMyxnNlhCMyQNUlalLdjB86nKOnUzhwY7ncU+H2kRHBfjcgJ3x8OWtUKER3DQa8mexnLYJCnt3jIkAOw+f4NFJy5i9ag/Nq5Xi+Rubcl6FIJyDenibU/W0UEm4eRwUtPNec7uMpqS2VdVf0qamBjMoY0zO8PmUsX9sYcSMVaT6lMc6N+TWNrHkz6kSFRlJPAKf9oCkBBgwE0pUCnybJtsyOlJ4HbgAd2pqTjYqIqWA94HGOIPWA4DVwBdALLAJ6KGqB3OyXWMiycZ9CQyZEM9vGw/Qtk5ZRnRrSvWyRYLTeGoyjLsF9q2GPuOdriMTFjJKCskiMhqoIiKvn7lTVe/LRruvATNV9UYRiQaKAI8As1V1pIgMAYYAg7PRhjERKSXVx4e/bOSlb9cQHZWP57o3oUdctZwtUZERVZj2IGz4Abq8BbUvDU67JkdklBQ6Ax2By4CFOdWgiJQA2gO3AqhqEpAkIl2ADu7NPgLmYEnBmHOyatcRBo2PJ37bYa5oWIGnuzamQolCwQ3i5xdh8cfQfhC06Bvctk22ZTQldR/wuYisVNUlOdhmLWAvMFpEmuEknPuBCqq60217p4iUT+/OIjIQGAhQvbot1WcMwMmUVN76YT1v/7COkoUL8ObNLbi2SaXgHR2kiR8H3z8NTXvCpY8Et22TI7zMRdsvIpNEZI+I7BaRCSJSNRttRuGMUfxXVVsACThdRZ6o6ihVjVPVuJiYmGyEYUzesGjLQTq/PpfXZ6/l+maVmfWvS+jcNIcrmnqxaS5MuRdiL4br37BzEcKUl6QwGpgKVAaqAF+527JqG7BNVX9zr4/HSRK7RaQSgPt7TzbaMCbPO56UwlPTVtD9v/NIOJnC6Nta8nLP5pQuGh38YLb+7hS5Kx0LPT+GqByuqmqCxst5CuVV1T8J/E9EHshqg6q6S0S2ikg9VV0NXA6scH/6AyPd31Oy2oYxed0v6/YxZGI8Ww+coN9FNRjUqR7FA1HAzotlE2DSPVCyijPTqHDp0MRhcoSXpLBXRPoCY93rvYH92Wz3n8Cn7syjDcBtOEct40TkdmALcFM22zAmzzl8Iplnp6/kiwVbqVmuKF8MvIhWtQJYwC4jqvDzS/D9U1C9NfT8FIqGKBaTY7wkhQHAm8ArOOcUzHO3ZZmq/omz7vOZLs/O4xqTl327fBePTl7G/oQk7r6kNg90rEuhAgEsYJeRlCRn2umfn0CTm5ypp9ZllCd4qX20Bbg+CLEYY9Kx9+hJhn+1nOnxO2lQqQQf9G9Jk6olQxfQiYPOiWkbf4JLhkCHITaonIdY7SNjcilVZfKf2/nPVys4fjKVf195HnddUpsC+UO4uP2BjU4towMboes70Lx36GIxAWFJwZhcaPuhEwybtJQ5q/dyfnWngF2d8iEuJrf1dxjbG3wpcMtkiG0X2nhMQFhSMCYX8fmUT3/bzMivV6HA8Osa0q91kArYZWTZRJh0N5SoDH2+hHJ1QxuPCZhMk4KIFAS64xSqO3V7VX0ycGEZE3k27D3GkAlL+X3TAS6uW45nuzWhWpkgFbA7G1WY+zLMfhKqXQS9PrMZRnmclyOFKcBhnHIUVkLbmByWkurjvZ838sqsNRSKyscLNzblxguqBv+M5DOlJsO0B2DxJ9D4RmeGUYEg11EyQeclKVRV1U4Bj8SYCLRixxEGTVjCsu1HuKpRBZ7q0pjywS5gl54Th2BcP2eGUftBTh2jUCcpExReksI8EWmiqksDHo0xESIxOZU3v1/HOz+up1SRaP7b53yubpJLFqE5uMlZHOfABpthFIG8JIV2wK0ishGn+0gAVdWmAY3MmDxq4eYDDBofz/q9CZNDfj8AACAASURBVHQ/vyqPdW5AqSIhqFeUnq1/wNhe4EuGfpOg5sWhjsgEmZekcHXAozAmAiScTOGFb1bz0fxNVC5ZmI8GXMgl5+WiSr/LJzkzjIpXdGoY2QyjiOTljObN7roHaV8Zfs7h9RWMyfN+WrOXoROXsuPwCW65qAYPd6pPsYK5ZEa4KvzyKswaDtVauTOMyoU6KhMiXqak3g/cCUx0N30iIqNU9Y2ARmZMHnD4eDJPTV/B+IXbqBVTlHF3taZlbJlQh3VaarJTw2jxx9C4O3R522YYRTgvX1VuB1qpagKAiDwHzAcsKRiTgZnLdvLYlOUcSEji/zrU5r7LQ1jALj0nDrk1jH6E9g9Dh0cgXwhLaJhcwUtSECDV73qqu80Yk449RxN5Yspyvl62i4aVSjD61pY0rhLCAnbpObgJPusJ+9c7Rwct+oQ6IpNLeEkKo4HfRGSSe70r8EHgQjImPKkq4xdu4+npKzmRnMrDV9VjYPtaoS1gl55tC5wZRqlJ0G8i1Gwf6ohMLuJloPllEZmDMzVVgNtUdXGgAzMmnGw9cJxHJi3l57X7iKtRmpHdm1KnfLFQh/V3yyfDpLugWAW4dQbEnBfqiEwuc9akICIlVPWIiJQBNrk/afvKqOqBwIdnTO7m8ylj5m/i+W9WI8CTXRrRt1UN8oW6gN2ZVOGX12DWE1D1Qug91mYYmXRldKTwGdAZp+aR+m0X93qtAMZlTK63bs8xhkyIZ8Hmg7Q/L4ZnuzWmaukQF7BLT2oyTP8XLBoDjW6Arv+1GUbmrM6aFFS1s/u7ZvDCMSb3S071MeqnDbw2ay2Fo/Pz0k3NuOH8KqEvYJeexMPODKMNc+Dih+DSR22GkcmQl/MUZqvq5ZltMyYSLNt+mEHj41mx8wjXNqnE8OsbEVM8l65NfHCzs0ra/nVOhdMWfUMdkQkDGY0pFAKKAOVEpDSnp6GWACoHITZjco3E5FRem72WUT9toEzRaN7pewGdGlcMdVhnt20hjO3pzDDqOxFqXRLqiEyYyOhI4S7gAZwEsJDTSeEI8FaA4zIm1/hj0wEGj49nw74EesRVZdg1DSlZpECowzq7FVNg4kB3htF0iKkX6ohMGMloTOE1EXkTeERVnwpiTMbkCsdOpvD8zFWMmb+ZqqUL88ntrWhXN5fP2FnwoVO2ompL6DUWiuWignsmLGQ4pqCqqSJyDWBJwUSUH1bvYdjEpew8kshtbWP595X1KJpbCtidzfrvYfpDUPdK6DEGChQOdUQmDHn5K/9WRLoDE1VVM721MWHsYEIST01bwcTF26lTvhjj727DBTVKhzqszO1bB1/eCjEN4MYPLSGYLPOSFP4FFAVSReQEpxfZKRHQyIwJIlVlxtJdPDF1GYeOJ3PfZXW497I6FIzKRQXszubEIWdQOV+Uc1JaweKhjsiEMS9lLuwvzORpe44k8ujkZXy7YjdNqpRkzIBWNKwcJt95UlNg/ABn+uktU6B0jVBHZMKcp05SEbkeSKuaNUdVpwUuJGOCQ1X5csE2npq+gqQUH0Ovrs/t7WoSldsK2GXku8dg/Wy47nWIbRvqaEwe4OXktZFAS+BTd9P9ItJOVYcENDJjAmjrgeMMnbiUuev2cWHNMjzXvSk1yxUNdVjnZtEY+PVtaHUPXNA/1NGYPMLLkcI1QHNV9QGIyEfAYsCSggk7qT7lo3mbeOGb1eTPJzzdtTE3X1g99xWwy8zm+TDtX1DrUrjy6VBHY/IQr3PsSgFpVVFz2WohxnizdvdRBk2IZ/GWQ1xaL4ZnujWhcqkwnKVzcDN80dcZP7hpNOTP5VNlTVjx8tc0AlgsIj/gzDxqDwzNbsMikh9YAGxX1c5uie4vgFicMt09VPVgdtsxJinFxzs/rufN79dRtGB+Xu3ZnC7NK+fOAnaZOXkMPr/ZqXza+3MoHAbTZU1Y8TL7aKy7yE5Ld9NgVd2VA23fD6zEqaUETnfUbFUdKSJD3OuDc6AdE8Hitx1i0Ph4Vu06ynXNKvPEdQ0pVyyXFrDLjM/nLJCzZwX0GQ/l6oY6IpMHeT3ubI2z8poC+YFJGd88YyJSFbgWeAbnPAiALkAH9/JHwBwsKZgsSkxO5ZXv1vDezxuIKV6Q926J44qGFUIdVvb88AysmgadRkIdK1JsAsPL7KO3gTrAWHfTXSLSUVXvzUa7rwKDAP9zICqo6k4AVd0pIuXPEs9AYCBA9erVsxGCyat+3bCfIRPi2bT/OL1aVmPoNQ0oWTgXF7DzYul4+PlFOP8WaHV3qKMxeZiXI4VLgMZpJS7c2UdLs9qgiHQG9qjqQhHpcK73V9VRwCiAuLg4K7thTjmamMzIr1fx6W9bqF6mCJ/d0Yo2dXJ5ATsvti+EKfdC9TZwzUsQjmMhJmx4SQqrgerAZvd6NSA+G222Ba53C+0VAkqIyCfAbhGp5B4lVAL2ZKMNE2G+X7WbYZOWsftIIne0q8lDV9ajcHQYlKjIzJGd8HkfKFoeen4MUdGhjsjkcV5O3SwLrBSROe6A8wogRkSmisjUc21QVYeqalVVjQV6Ad+ral9gKpB2Bk5/YMq5PraJPAcSknjg88UM+N8CiheKYsI9bXi0c8O8kRCSTzgzjRKPODWNiuaBox6T63k5Ung84FE4RgLjROR2YAtwU5DaNWFIVfkqfifDpy7naGIy919el3svrUN0VBiVqMiIKkz9J+xYDL0+hYqNQx2RiRBepqT+KCIVOD0l9XdVzZGuHVWdgzPLCFXdD9iUCpOpXYedAnazVu6mWdWSPHdjK+pXDJMCdl7NfRmWfgmXPQb1rw11NCaCeJl91AN4AefDW4A3RORhVR0f4NiM+QtV5fM/tvLs9JUk+3w8em0Dbmtbk/zhVqIiM6umw+ynoPGNcPFDoY7GRBgv3UfDgJZpRwciEgPMAiwpmKDZvD+BIROWMn/DflrXKsvI7k2oUTbMCth5sXs5TLgTKreALm/aTCMTdF6SQr4zuov2422A2phsS/Upo3/ZyIvfrqZAvnyMuKEJvVpWC88SFZlJ2Adje0GhEtDrM1s9zYSEl6QwU0S+4fTJaz2BGYELyRjH6l1OAbslWw/RsUF5nu7ahIolC4U6rMBISYIv+sGxPXDbDChRKdQRmQiVYVIQ5+vY6ziDzO1wxhRGqWq2ylwYk5GkFB9vz1nHWz+so3ihArzeuwXXNa2UN48OwJlpNOMh2DIPun8AVS4IdUQmgmWYFFRVRWSyql4ATAxSTCaC/bn1EIPHx7N691G6Nq/M49c1okzRPH7C1m/vOgvmXPwQNLkx1NGYCOel++hXEWmpqn8EPBoTsU4kpfLyd6v5YO5GKpQoxIe3xnFZ/TAvYOfFutnwzVCody1c+mioozHGU1K4FLhbRDYBCThdSKqqTQMZmIkc89bvY8iEpWw5cJw+raoz5Or6FC8U5gXsvNi3DsbfBjEN4IZRkM/mb5jQ85IUrg54FCYiHUlMZsSMlYz9fSuxZYvw+cCLuKhW2VCHFRwnDsLYnpAvyilhUbBYqCMyBvB2RvNmETmf0+sp/KKqiwIemcnTZq3YzbDJS9l79CR3ta/FAx3Pyxv1irxITYHxA5xlNftPdZbVNCaX8HJG8+M4dYjSBppHi8iXqmqrhZtztv/YSYZ/tYKvluygfsXivHdLHE2rlgp1WMH13WOw/nu4/g2o0SbU0RjzF166j3oDLVQ1EUBERgKLAEsKxjNVZeqSHQyfupxjJ1P41xXncfcltfNOATuvFo2BX9+GVvc4C+YYk8t4SQqbcNY9SHSvFwTWByogk/fsOHSCRycv4/tVe2hRvRTPd29K3QrFM79jXrN5Hkz7F9S+DK6071Qmd/KSFE4Cy0XkO5wxhSuAuSLyOoCq3hfA+EwY8/mUsX9sYcSMVaT6lMc7N6R/m9i8V8DOi4Ob4Yu+zvjBjaMhv9fl0Y0JLi9/mZPcnzRzAhOKyUs27ktgyIR4ftt4gLZ1yjKiW1Oqly0S6rBC4+QxGNsbfCnQ+wsoHGFjKCaseJl99FEwAjF5Q0qqjw/mbuTl79YQHZWP57s35aa4qnm3REVmfD6YOBD2roQ+46FcnVBHZEyG7BjW5JiVO48weEI88dsOc0XDCjzdtTEVSuTRAnZe/fAMrJ4OnZ6DOraGlMn9LCmYbDuZkspb36/j7TnrKVWkAG/dfD7XNKkYuUcHaZaOh59fdGYZtbor1NEY44nnpCAiRVU1IZDBmPCzaMtBBo+PZ+2eY9zQogqPdW5I6bxewM6L7Qthyr1QvQ1c85ItlmPChpeT19oA7wPFgOoi0gy4S1X/L9DBmdzreFIKL36zhtHzNlKpRCFG39aSS+uVD3VYoacKyybAzCFQrDz0/BiiLEma8OHlSOEV4CpgKoCqLhGR9gGNyuRqc9fuY+ikeLYeOMEtrWswqFN9ihW0nkh2LYOvB8PmuVCpGdzwHhQtF+qojDknnv6TVXXrGf3DqYEJx+Rmh08k88z0FYxbsI2a5Yoy7q7WXFizTKjDCr0TB+GHEfDHe1CoFHR+1RlHyBchtZxMnuIlKWx1u5BURKKB+4CVgQ3L5DbfLN/FY5OXsT8hiXs61Ob+y+tSqECEf+j5fLD4Y5j9HycxxA2AS4dBEUuUJnx5SQp3A68BVYBtwLfAvYEMyuQee4+eZPjU5UxfupMGlUrwQf+WNKlaMtRhhd62BTDj37BjMVRvDVc/D5VsiRET/rwkBVHVPgGPxOQqqsqkxdt5ctoKjp9M5eGr6jGwfS0K5I+wAnZnOrYHZv0H/vwEilWEG953ltC02UUmj/CSFOaJyEbgC2CCqh4KcEwmxLYfOsGwSUuZs3ovF9QozXPdm1KnfIQvApOaDL+/B3NGQPIJaHs/tH8YCkZgYT+Tp3kpc1FXRC4EegHDRGQF8LmqfhLw6ExQ+XzKp79tZuTXq1Bg+HUNuaV1LPkisYCdvw0/OrOK9q6EOh2h00goVzfUURkTEF5nH/0O/C4izwIvAx8BlhTykPV7jzFkQjx/bDrIxXXL8Wy3JlQrE6EF7NIc2grfDoMVU6BUDeg1FupdbV1FJk/zcvJaCaAbzpFCbZyKqRcGOC4TJCmpPkb9vIFXZ62lUFQ+XrixKTdeEMEF7ACSE2HeG/DzS871S4dBm39CgcKhjcuYIPBypLAEmAw8qarzAxyPCaLlOw4zeEI8y7YfoVOjijzZtRHli0dwATtVWP01fDMUDm6Chl2cxXBKVQ91ZMYEjZekUEtVNacaFJFqwBigIuADRqnqayJSBmcwOxZntbceqnowp9o1pyUmp/LG92t558cNlC4SzX/7nM/VTSqFOqzQ2rcOZg6GdbOgXD24ZQrU6hDqqIwJurMmBRF5VVUfAKaKyN+Sgqpen8U2U4CHVHWRiBQHFrqrut0KzFbVkSIyBBgCDM5iG+YsFm4+wKDx8azfm8CNF1Tl0WsbUKpIBNfmOXkMfnoB5r/ldA9d9SxcOBDyFwh1ZMaEREZHCh+7v1/MyQZVdSew0718VERW4pwY1wXo4N7sI5wV3iwp5JCEkym88M1qPpq/icolCzNmwIW0Py8m1GGFjqpT2vq7x+DoTmjeBy5/AopXCHVkxoTUWZOCqi50LzZX1df894nI/cCP2W1cRGKBFsBvQAU3YaCqO0Uk3ZKbIjIQGAhQvbr19Xrx05q9DJ24lB2HT9C/dSwPX1WPopFcwG7XUpgxCLbMg0rNoccYqGZzJ4wBb2MK/XHKXPi7NZ1t50REigETgAdU9YjX2S6qOgoYBRAXF5djYx150aHjSTw9fSXjF26jVkxRvryrNXGxEVyX5/gB+OFZWPCBU7juutegRT8rXGeMn4zGFHoDNwM1RWSq367iwP7sNCoiBXASwqeqOtHdvFtEKrlHCZWAPdlpI9J9vXQnj01ZzsHjSdx7aW3+eVkEF7DzpcKiMTD7SUg8BHG3w6WPWOE6Y9KR0ZHCPJy+/3LAS37bjwLxWW1QnEOCD4CVqvqy366pOEclI93fU7LaRiTbcySRx6csZ+byXTSqXIKPBrSkUeUILmC39XeY8TDs/NNdBe15qNgk1FEZk2tlNKawGdgMtM7hNtsC/YClIvKnu+0RnGQwTkRuB7YAN+Vwu3maqjJ+4TaemraCxBQfgzvV586LaxIViQXsUk7Cqumw+BNYPxuKV4LuH0Dj7nY2sjGZ8HJG80XAG0ADIBrIDySoaomsNKiqc4Gz/WdenpXHjHRbDxznkUlL+XntPlrGlmZk96bUjonAAna7ljmJIP4LOHEASlSFDo9A63uhYAS+HsZkgZeB5jdxSlx8CcQBtwB1AhmU8SbVp3w8fxPPf7MaAZ7q0og+rWpEVgG7xMPO1NLFHztrG+SPhvrXOgPItTrYILIx58hrQbx1IpJfVVOB0SIyL8BxmUys23OUwROWsnDzQS45L4ZnujWmaukIKWCnCpvmOkcFK6ZAygmo0Bg6PQdNe9gAsjHZ4CUpHHeX4fxTRJ7HGXwuGtiwzNkkp/p498f1vD57HUUK5uflHs3o1qJKZBSwO7ID/vzMSQYHN0LBEtC8t3NUULmFjRcYkwO8JIV+OOMI/wAeBKoB3QMZlEnfsu2HeXh8PCt3HuHappUYfl0jYooXDHVYgZWSBGtmOt1D62aB+iD2YugwFBpcB9ERcnRkTJB4WWRns3vxBPCfwIZj0pOYnMqrs9by3s8bKFM0mnf7XcBVjSqGOqzA2rvaObdgyedwfB8Urwzt/gUt+kCZWqGOzpg8K6OT15YCZz1jWFVtlfIg+H3jAYZMiGfDvgR6xlXjkWsaULJIHi3WdvIoLJvoHBVs+wPyRTmL2rS4BepcboPGxgRBRkcKnYMWhfmbo4nJPD9zNR//uplqZQrzye2taFe3XKjDynmqsOVXZ5xg+SRIToCY+nDlM9CsFxTNg8/ZmFwss5PXTAj8sHoPwyYuZeeRRAa0rcm/rzqPItF5rIDd0d2wZKyTDPavhehi0ORGZ9C4apwNGhsTIl5OXjvK6W6kaKAA2Th5zZzdwYQknpq2gomLt1O3fDEm3NOG86uXDnVYOSc1BdZ+63QPrfkGNBWqt4Z2D0KjrhBtk9qMCTUvA83F/a+LSFdsjeYcpapMX7qTJ6Ys5/CJZO67rA73XlaHglF5oA9dFfasdM4yXjIWju2GYhWcNY9b9INydh6kMbnJOfdJqOpkd2U0kwN2H0nkscnL+HbFbppUKcknd7SiQaUwPgjzpcLu5bD5F/dnHhzfD5IfzusELfpC3StsZTNjcikv3Uc3+F3Nh1PqwtYxyCZVZdyCrTw9fSVJKT4euaY+A9qGYQG71GTYucRJAJt+cQaNTx529pWqAXWvghptoO6VtqqZMWHAy5HCdX6XU4BNOEtnmizasv84QybGM2/9flrVLMNz3ZsSWy5M+tOTE2H7QucIYPMvTmnq5ARnX9m60Lgb1GjrJIKSVUMbqzHmnHkZU7gtGIFEglSf8r95m3jxm9Xkzyc8060xvVtWz90F7JISnA/+tK6gbQsg9SQgUKGRczJZWhIolu4KqsaYMOKl+6gm8E8g1v/2qnp94MLKe9bsPsqg8fH8ufUQl9UvzzPdGlOpZOFQh/V3Jw7B1t9OJ4Edi8GX4owJVGoGF97pJIHqF1nhOWPyIC/dR5NxVkr7CvAFNpy8JynFxzs/rueN79dSrGAUr/VqzvXNKueeAnYJ+08ngM2/OIvao5CvAFS5ANre7xwFVGsFBYtn+nDGmPDmJSkkqurrAY8kD1qy9RCDJ8SzatdRrm9WmSeua0jZYiEuYHdk51+TwN5VzvaowlCtJXQY4hwJVI2DArnwSMYYE1BeksJrIvIE8C1wMm2jqi4KWFRh7kRSKq/MWsP7P2+gfPFCvH9LHB0bhmDmTXIi7F7mDAxvX+jUEzqwwdkXXdzpAmra00kClVtAVHTwYzTG5CpekkITnPLZl3G6+0jd6+YM89fvZ+jEeDbtP07vC6sz9Jr6lCgUhDn5Pp9TLiItAWxf6CxP6Ut29her6Hz7b3mH0x1UoQnkz2OlM4wx2eblU6EbUEtVkwIdTDg7kpjMyK9X8dlvW6hRtgif3dmKNrUDWMztyE6/BLAAdvwJJ484+6KLQ5UW0OYfzrhAlQugROXAxWKMyTO8JIUlQClgT4BjCVvfr9rNIxOXsedoIndeXJN/XVGPwtE5WKIi8YgzC+hUElgER3c4+/IVgIqNnWUo0xJA2bqQL8xOgjPG5ApekkIFYJWI/MFfxxQifkrq/mMneXLaCqb8uYN6FYrzTr8LaF6tVPYeNCXJbxxgkfN73xpOnURepjbEtjudACo2gQKFsv1cjDEGvCWFJwIeRZhRVaYu2cF/vlrB0cRkHuhYl//rUIfoqHP8dq7qDPyeGghe4EwJTXVzb9EYqBIHTW6CKuc7g8F2boAxJoC8nNH8YzACCRc7D5/g0UnLmL1qD82qleL57k2pV9Hj/P2UJNj0M2yZf/pIIPGQs69AUedDv9Vdp48CSla1dQWMMUFl6yl45PMpn/+xlREzVpLs8/HotQ24rW1N8mdWouLkUWfB+ZXTnLUETh5xzg6u0AgadTudAGLq2XKTxpiQs/UUPNi0L4EhE+P5dcMBWtcqy8juTahRNoMCdsf2wOqvYdU02DAHUpOgSFloeD3Uvw5qtofoIkGL3xhjvLL1FDKQ6lM+nLuRl75bTYF8+Rh5QxN6tqyWfomKAxtg1XTniGDrb4A6paMvHAj1r3XKRNiRgDEml7P1FM5i1a4jDB4fz5Jth+nYoDxPd21CxZJ+s3xUnXUEVk13jgj2rHC2V2zilIqo39npIrIxAWNMGLH1FM5wMiWVt35Yz9s/rKNk4QK80bsFnZtWco4OUlNgyzw3EUyHw1tB8kH1NnDVCOeIoHSNUD8FY4zJMltPwc/iLQcZPCGeNbuP0bV5ZR6/rhFlCqScTgJrvoYTByGqENS+zDkiOO9qKFo21KEbY0yO8NJ99BFwv6oecq+XBl5S1QGBDi5Yjiel8NK3a/jwl41ULFGIMb1r014XwVcvwrrZkHICCpVy1hiufy3UuRyiw2SlNGOMOQdeuo+apiUEAFU9KCItAhWQiHQCXgPyA++r6shAtQUwb90+hkxcSuqBzbxRawOdohYSNXk+aCqUqALn93MSQY22tti8MSbP85IU8olIaVU9CCAiZTze75yJSH7gLeAKYBvwh4hMVdUVOd3W4eNJfDhpBr4VX/FewUXUK7QBdgAxDaDdg04iqNzCBoqNMRHFy4f7S8A8ERmPM+uoB/BMgOK5EFinqhsARORznEHtHE0Kaxf/RKEpd/Igu9ACglZuCQ1udWYMla2dk00ZY0xY8TLQPEZEFuCsnyDADYH45u6qAmz1u74NaOV/AxEZCAwEqF69epYaKV+tLpsKVUPi7qdqq+5I8RAsgGOMMbmQp24gNwkEKhH4S6+v5i/nRKjqKGAUQFxcXJbOlyhZrhLNhszKyl2NMSZPy21F97cB1fyuV8Xp6TfGGBMEuS0p/AHUFZGaIhIN9AKmhjgmY4yJGLlqkV5VTRGRfwDf4ExJ/VBVl4c4LGOMiRi5KikAqOoMYEao4zDGmEiU27qPjDHGhJAlBWOMMadYUjDGGHOKJQVjjDGniGr4rpcjInuBzdl4iHLAvhwKJxxE2vMFe86Rwp7zuamhqjHp7QjrpJBdIrJAVeNCHUewRNrzBXvOkcKec86x7iNjjDGnWFIwxhhzSqQnhVGhDiDIIu35gj3nSGHPOYdE9JiCMcaYv4r0IwVjjDF+LCkYY4w5JSKTgoh0EpHVIrJORIaEOp5AE5FqIvKDiKwUkeUicn+oYwoWEckvIotFZFqoYwkGESklIuNFZJX7frcOdUyBJCIPun/Ty0RkrIgUCnVMgSAiH4rIHhFZ5retjIh8JyJr3d+lc6KtiEsKIpIfeAu4GmgI9BaRhqGNKuBSgIdUtQFwEXBvBDznNPcDK0MdRBC9BsxU1fpAM/LwcxeRKsB9QJyqNsYpt98rtFEFzP+ATmdsGwLMVtW6wGz3erZFXFIALgTWqeoGVU0CPge6hDimgFLVnaq6yL18FOeDokpoowo8EakKXAu8H+pYgkFESgDtgQ8AVDVJVQ+FNqqAiwIKi0gUUIQ8ulKjqv4EHDhjcxfgI/fyR0DXnGgrEpNCFWCr3/VtRMAHZBoRiQVaAL+FNpKgeBUYBPhCHUiQ1AL2AqPdLrP3RaRoqIMKFFXdDrwIbAF2AodV9dvQRhVUFVR1Jzhf/IDyOfGgkZgUJJ1tETEvV0SKAROAB1T1SKjjCSQR6QzsUdWFoY4liKKA84H/qmoLIIEc6lLIjdw+9C5ATaAyUFRE+oY2qvAXiUlhG1DN73pV8ughpz8RKYCTED5V1YmhjicI2gLXi8gmnC7Cy0Tkk9CGFHDbgG2qmnYUOB4nSeRVHYGNqrpXVZOBiUCbEMcUTLtFpBKA+3tPTjxoJCaFP4C6IlJTRKJxBqamhjimgBIRwelnXqmqL4c6nmBQ1aGqWlVVY3He4+9VNU9/i1TVXcBWEannbrocWBHCkAJtC3CRiBRx/8YvJw8PrKdjKtDfvdwfmJITD5rr1mgONFVNEZF/AN/gzFb4UFWXhzisQGsL9AOWisif7rZH3PWwTd7yT+BT9wvPBuC2EMcTMP/f3rmF6FVdcfz3H/ES75iE4IM6YAJCEVKMNxrptNUX6YNiYrSpdrRQ8iAxFltofZCWFmILpUgqYqQMSAzGyHgJGtQ0NzVmjDHJjNpYi9NisUKlFZM20sysPqx1vtn9PN8lmC8GZ/3g8O2zz76efeasffaZ819mtlPSemA3/h92b/AllbuQtBYYAGZJeh+4F1gJrJP0fdxALj4qdaXMRZIkSVIxHZePkiRJkhakUUiSJEkapFFIkiRJGqRRSJIkSRqkUUiSJEkapFFIeo6k/lLdsU2a7xT7vUMBtwAABaNJREFUCyTd3/vW9R5JKySdWuw/K+nsHtY3W9LOkLq4qlf1tKl/XNKsDml+2rT/Sm9blXRLGoXkeKEfaBgFM9tlZsuPRcVyevK3EKq8K3CxNgDM7NoeC9V9C/ijmX3VzLb3sJ7Pw/8ZBTObTl8iH9ekUZimSLpV0j5JeyU9EnFDkhYVaQ7E74CkrZLWSXpH0kpJSyWNSBqVdGG7/E319kvaLml3bNXNYCVwlaQ9oZE/IGmDpL6YeZ5dlPGupDkxI35C0muxfa2mvkFJT0naKPehcW/RjrclPYB//HSepF+HLv+opCVF37dJGpb0lqQHKwMi6eZIOybpvrLfkn4uaSdwD67Ls1nS5jjemElL+mHkH5O0oqltq+W+Ap6XNKOmbxdI2hTjuEnS+ZLmA78Cro1zOaMpz7ik+2LsRiTNbVVWMaYPxpi9I9eUqs7rqqLcDZIGatr4pKTXox8/iLiVuLLpHklrymslDHSrcdiiKV8RayTV6Zglnxczy22abcBXgP3ArNg/J36HgEVFugPxOwD8CzgXOBn4G/CzOHYn8NsO+fuBsQifCpwS4XnArqKODUXexj7uI+C2CF8OvBjhR4GFET4fl/Fo7usgrqA5E5gBjAELok2TwBWR7gbgBfwr9zn4F6LnRjsO4QqkJ0SaRfiN/q/AbFwZ4A/AdVGWATcWbRivznW5D1wCjAKnAacDb+IKtv34F7rzI/064Ls1fXsG+F6EbweeLPq8qsXYjwP3RPjW4hy3KmsI2IhPIOfh+kqnNNcBbAAGmvvL1LVVnfuZ5bVRc620G4ePca2yPmBHNfa5Hd0tnxSmJ98E1pvZPwDMrFmnvY7XzP0yfAr8Gagkikfxm1i3nAisljQKPI47OurEY8CSCN8U++CCaKvk0h1PA2dKOqMm/wtm9pGZ/QcXTVsY8X8xs1cjvBBYa2YTZvYhsBW4NI6NmPvfmADWRtpLgS3mYmyHgTW4LwOACVx8sBMLgWEzO2hmB6Jt1TuA98yskiR5nfpzfCVuGAEeKfrVibXFb+WZrV1Z68xs0sz+hEtnXNRlPQDLJe0FXsWFKOd1SN9pHN43s0lgD0d23SVdMu20jxLA5cPr9E0OE0uK8Wh+UnHs0yI8WexPMnUdtctfcRfwIe4VrA+fhXdiBzBX0mzckcgvIr4PuDJu9u1o7mu1f7CIa7cUUZe/XfpDYUA60a6M8nxP4DPtTnSrWWMtwt2mMYqxDj7jBjOWk67Gx+jfkrbUpWvO1uZY8znJ+1cPyCeF6ckm4EZJM8F9vUb8OL6kAa5Tf+IRlttN/rOAD2K2dwu+TADwCVA3y8d8XWEY+A2+RPRRHHoeuKNKF+vpdVwj92c7AzcqL9ek2QYskft0no3P+kfi2GVyVd0+/InlJdxJ0dclzZK/TL4Zn9XW0apv24Dr5CqfpwHXA0fyYvgVptxPLo12dcOS4ndHF2Utjnc7F+LLaPvxsZ4f8efhHg2bOQv4ZxiEi3BXsBX/lcu5N9NuHJJjQFraaYiZvSnpl8BWSRO4uuQgsBp4StIIbjgOti6llm7yPwA8IWkxsLlIsw84HEsNQ9Gmksdw2fPBIm458DtJ+/BreRuwrKbOl/AlkbnAo2a2S+6BrmQYX0LZi8+Ef2xmf4+b2Q78RfjFUcewmU1K+kn0QcCzZtZKuvgh4DlJH5jZN6pIM9staYipm97DZvZGTdtasRz4vaQf4R7XulVEPTlegvfhxqxTWftxgzcHWGZmhyS9DLyHLx+O4S/rm9kILIvx2Y8vIVU8BOyTtNvMlhbx7cYhOQakSmrypUbSIO7Y/Y5OaVvkHwDuNrNvH812fVHInQ4tqN4ndZF+CH8Zvb6X7UqOH3L5KEmSJGmQTwpJkiRJg3xSSJIkSRqkUUiSJEkapFFIkiRJGqRRSJIkSRqkUUiSJEka/A/zzAAzbOmz1QAAAABJRU5ErkJggg==\n",
      "text/plain": [
       "<Figure size 432x288 with 1 Axes>"
      ]
     },
     "metadata": {
      "needs_background": "light"
     },
     "output_type": "display_data"
    }
   ],
   "source": [
    "# I don't really understand what's going on here. How is the blue line there? Why does the bottom axis only go to 10?\n",
    "# I'm a little lost but fair enough.\n",
    "\n",
    "# plot the Lorenz curve\n",
    "fig,ax = plot.subplots()\n",
    "ax.plot(lorenz_curve)\n",
    "ax.set_xlabel(\"cumulative proportion of population\")\n",
    "ax.set_ylabel(\"cumulative proportion of female artists\")\n",
    "ax.set_title(\"Lorenz Curve and Perfect Equality line\")"
   ]
  },
  {
   "cell_type": "markdown",
   "metadata": {},
   "source": [
    "Now we have a graph showing perfect equality (blue line) the Lorenz curve (orange line). The area in between the two lines represents the inequality between the two. It is not surprising that the distance between the two lines is largest among the earlier works. The gap decreases in more recent years, showing that there is a more equal distribution of works by female artists in later years, particularly starting in the 8th decile (all works until 2009). Interestingly, in the 9th decile (all works until 2015) the Lorenz curve actually slightly surpasses perfect equality. This means that the earliest 90% of all artworks contains approximately 91% of the all the works by female artists."
   ]
  },
  {
   "cell_type": "markdown",
   "metadata": {},
   "source": [
    "#### Gini Coefficient"
   ]
  },
  {
   "cell_type": "markdown",
   "metadata": {},
   "source": [
    "To find the Gini Coefficient, we need to integrate the Lorenz curve and the perfect equality line to get the area under the Lorenz curve and the area under the perfect equality line respectively. We then use those values to find the Gini Coefficient.\n",
    "Mathematically, this is:\n",
    "\n",
    "Gini Coefficient =  $\\frac{\\int Perfect Equality Line - \\int Lorenz Curve}{\\int Perfect Equality Line}$."
   ]
  },
  {
   "cell_type": "code",
   "execution_count": 42,
   "metadata": {},
   "outputs": [
    {
     "data": {
      "text/plain": [
       "0.2180062388000266"
      ]
     },
     "execution_count": 42,
     "metadata": {},
     "output_type": "execute_result"
    }
   ],
   "source": [
    "# calculate the area under the Lorenz curve\n",
    "lorenz_area = np.trapz(female_prop, x=population_prop)\n",
    "\n",
    "# calculate the area under the perfect equality line (y=x)\n",
    "pe_area = np.trapz(population_prop, x=population_prop)\n",
    "\n",
    "# use those values to calculate the gini coefficient\n",
    "gini_coeff = (pe_area - lorenz_area) / pe_area\n",
    "gini_coeff"
   ]
  },
  {
   "cell_type": "markdown",
   "metadata": {},
   "source": [
    "We found a Gini coefficient of 0.218. The closer a Gini coefficient is to 0, the closer the data is to perfect equality."
   ]
  },
  {
   "cell_type": "markdown",
   "metadata": {},
   "source": [
    "## Cleaning Tate Data"
   ]
  },
  {
   "cell_type": "markdown",
   "metadata": {},
   "source": [
    "In order to do through analysis we should compare the MoMA's data to data from other museums. The first museum that we will examine is the Tate, another museum for modern and contemporary art located in London, England."
   ]
  },
  {
   "cell_type": "code",
   "execution_count": 17,
   "metadata": {},
   "outputs": [
    {
     "name": "stderr",
     "output_type": "stream",
     "text": [
      "/opt/conda/lib/python3.8/site-packages/IPython/core/interactiveshell.py:3145: DtypeWarning: Columns (9,13) have mixed types.Specify dtype option on import or set low_memory=False.\n",
      "  has_raised = await self.run_ast_nodes(code_ast.body, cell_name,\n"
     ]
    }
   ],
   "source": [
    "tate_artworks = pd.read_csv(\"artwork_data-tate.csv\")\n",
    "tate_artists = pd.read_csv(\"artist_data-tate.csv\")"
   ]
  },
  {
   "cell_type": "code",
   "execution_count": 18,
   "metadata": {},
   "outputs": [
    {
     "data": {
      "text/html": [
       "<div>\n",
       "<style scoped>\n",
       "    .dataframe tbody tr th:only-of-type {\n",
       "        vertical-align: middle;\n",
       "    }\n",
       "\n",
       "    .dataframe tbody tr th {\n",
       "        vertical-align: top;\n",
       "    }\n",
       "\n",
       "    .dataframe thead th {\n",
       "        text-align: right;\n",
       "    }\n",
       "</style>\n",
       "<table border=\"1\" class=\"dataframe\">\n",
       "  <thead>\n",
       "    <tr style=\"text-align: right;\">\n",
       "      <th></th>\n",
       "      <th>id</th>\n",
       "      <th>accession_number</th>\n",
       "      <th>artist</th>\n",
       "      <th>artistRole</th>\n",
       "      <th>artistId</th>\n",
       "      <th>title</th>\n",
       "      <th>dateText</th>\n",
       "      <th>medium</th>\n",
       "      <th>creditLine</th>\n",
       "      <th>year</th>\n",
       "      <th>acquisitionYear</th>\n",
       "      <th>dimensions</th>\n",
       "      <th>width</th>\n",
       "      <th>height</th>\n",
       "      <th>depth</th>\n",
       "      <th>units</th>\n",
       "      <th>inscription</th>\n",
       "      <th>thumbnailCopyright</th>\n",
       "      <th>thumbnailUrl</th>\n",
       "      <th>url</th>\n",
       "    </tr>\n",
       "  </thead>\n",
       "  <tbody>\n",
       "    <tr>\n",
       "      <th>0</th>\n",
       "      <td>1035</td>\n",
       "      <td>A00001</td>\n",
       "      <td>Blake, Robert</td>\n",
       "      <td>artist</td>\n",
       "      <td>38</td>\n",
       "      <td>A Figure Bowing before a Seated Old Man with h...</td>\n",
       "      <td>date not known</td>\n",
       "      <td>Watercolour, ink, chalk and graphite on paper....</td>\n",
       "      <td>Presented by Mrs John Richmond 1922</td>\n",
       "      <td>NaN</td>\n",
       "      <td>1922.0</td>\n",
       "      <td>support: 394 x 419 mm</td>\n",
       "      <td>394</td>\n",
       "      <td>419</td>\n",
       "      <td>NaN</td>\n",
       "      <td>mm</td>\n",
       "      <td>NaN</td>\n",
       "      <td>NaN</td>\n",
       "      <td>http://www.tate.org.uk/art/images/work/A/A00/A...</td>\n",
       "      <td>http://www.tate.org.uk/art/artworks/blake-a-fi...</td>\n",
       "    </tr>\n",
       "    <tr>\n",
       "      <th>1</th>\n",
       "      <td>1036</td>\n",
       "      <td>A00002</td>\n",
       "      <td>Blake, Robert</td>\n",
       "      <td>artist</td>\n",
       "      <td>38</td>\n",
       "      <td>Two Drawings of Frightened Figures, Probably f...</td>\n",
       "      <td>date not known</td>\n",
       "      <td>Graphite on paper</td>\n",
       "      <td>Presented by Mrs John Richmond 1922</td>\n",
       "      <td>NaN</td>\n",
       "      <td>1922.0</td>\n",
       "      <td>support: 311 x 213 mm</td>\n",
       "      <td>311</td>\n",
       "      <td>213</td>\n",
       "      <td>NaN</td>\n",
       "      <td>mm</td>\n",
       "      <td>NaN</td>\n",
       "      <td>NaN</td>\n",
       "      <td>http://www.tate.org.uk/art/images/work/A/A00/A...</td>\n",
       "      <td>http://www.tate.org.uk/art/artworks/blake-two-...</td>\n",
       "    </tr>\n",
       "    <tr>\n",
       "      <th>2</th>\n",
       "      <td>1037</td>\n",
       "      <td>A00003</td>\n",
       "      <td>Blake, Robert</td>\n",
       "      <td>artist</td>\n",
       "      <td>38</td>\n",
       "      <td>The Preaching of Warning. Verso: An Old Man En...</td>\n",
       "      <td>?c.1785</td>\n",
       "      <td>Graphite on paper. Verso: graphite on paper</td>\n",
       "      <td>Presented by Mrs John Richmond 1922</td>\n",
       "      <td>1785</td>\n",
       "      <td>1922.0</td>\n",
       "      <td>support: 343 x 467 mm</td>\n",
       "      <td>343</td>\n",
       "      <td>467</td>\n",
       "      <td>NaN</td>\n",
       "      <td>mm</td>\n",
       "      <td>NaN</td>\n",
       "      <td>NaN</td>\n",
       "      <td>http://www.tate.org.uk/art/images/work/A/A00/A...</td>\n",
       "      <td>http://www.tate.org.uk/art/artworks/blake-the-...</td>\n",
       "    </tr>\n",
       "    <tr>\n",
       "      <th>3</th>\n",
       "      <td>1038</td>\n",
       "      <td>A00004</td>\n",
       "      <td>Blake, Robert</td>\n",
       "      <td>artist</td>\n",
       "      <td>38</td>\n",
       "      <td>Six Drawings of Figures with Outstretched Arms</td>\n",
       "      <td>date not known</td>\n",
       "      <td>Graphite on paper</td>\n",
       "      <td>Presented by Mrs John Richmond 1922</td>\n",
       "      <td>NaN</td>\n",
       "      <td>1922.0</td>\n",
       "      <td>support: 318 x 394 mm</td>\n",
       "      <td>318</td>\n",
       "      <td>394</td>\n",
       "      <td>NaN</td>\n",
       "      <td>mm</td>\n",
       "      <td>NaN</td>\n",
       "      <td>NaN</td>\n",
       "      <td>http://www.tate.org.uk/art/images/work/A/A00/A...</td>\n",
       "      <td>http://www.tate.org.uk/art/artworks/blake-six-...</td>\n",
       "    </tr>\n",
       "    <tr>\n",
       "      <th>4</th>\n",
       "      <td>1039</td>\n",
       "      <td>A00005</td>\n",
       "      <td>Blake, William</td>\n",
       "      <td>artist</td>\n",
       "      <td>39</td>\n",
       "      <td>The Circle of the Lustful: Francesca da Rimini...</td>\n",
       "      <td>1826–7, reprinted 1892</td>\n",
       "      <td>Line engraving on paper</td>\n",
       "      <td>Purchased with the assistance of a special gra...</td>\n",
       "      <td>1826</td>\n",
       "      <td>1919.0</td>\n",
       "      <td>image: 243 x 335 mm</td>\n",
       "      <td>243</td>\n",
       "      <td>335</td>\n",
       "      <td>NaN</td>\n",
       "      <td>mm</td>\n",
       "      <td>NaN</td>\n",
       "      <td>NaN</td>\n",
       "      <td>http://www.tate.org.uk/art/images/work/A/A00/A...</td>\n",
       "      <td>http://www.tate.org.uk/art/artworks/blake-the-...</td>\n",
       "    </tr>\n",
       "  </tbody>\n",
       "</table>\n",
       "</div>"
      ],
      "text/plain": [
       "     id accession_number          artist artistRole  artistId  \\\n",
       "0  1035           A00001   Blake, Robert     artist        38   \n",
       "1  1036           A00002   Blake, Robert     artist        38   \n",
       "2  1037           A00003   Blake, Robert     artist        38   \n",
       "3  1038           A00004   Blake, Robert     artist        38   \n",
       "4  1039           A00005  Blake, William     artist        39   \n",
       "\n",
       "                                               title                dateText  \\\n",
       "0  A Figure Bowing before a Seated Old Man with h...          date not known   \n",
       "1  Two Drawings of Frightened Figures, Probably f...          date not known   \n",
       "2  The Preaching of Warning. Verso: An Old Man En...                 ?c.1785   \n",
       "3     Six Drawings of Figures with Outstretched Arms          date not known   \n",
       "4  The Circle of the Lustful: Francesca da Rimini...  1826–7, reprinted 1892   \n",
       "\n",
       "                                              medium  \\\n",
       "0  Watercolour, ink, chalk and graphite on paper....   \n",
       "1                                  Graphite on paper   \n",
       "2        Graphite on paper. Verso: graphite on paper   \n",
       "3                                  Graphite on paper   \n",
       "4                            Line engraving on paper   \n",
       "\n",
       "                                          creditLine  year  acquisitionYear  \\\n",
       "0                Presented by Mrs John Richmond 1922   NaN           1922.0   \n",
       "1                Presented by Mrs John Richmond 1922   NaN           1922.0   \n",
       "2                Presented by Mrs John Richmond 1922  1785           1922.0   \n",
       "3                Presented by Mrs John Richmond 1922   NaN           1922.0   \n",
       "4  Purchased with the assistance of a special gra...  1826           1919.0   \n",
       "\n",
       "              dimensions width height  depth units inscription  \\\n",
       "0  support: 394 x 419 mm   394    419    NaN    mm         NaN   \n",
       "1  support: 311 x 213 mm   311    213    NaN    mm         NaN   \n",
       "2  support: 343 x 467 mm   343    467    NaN    mm         NaN   \n",
       "3  support: 318 x 394 mm   318    394    NaN    mm         NaN   \n",
       "4    image: 243 x 335 mm   243    335    NaN    mm         NaN   \n",
       "\n",
       "  thumbnailCopyright                                       thumbnailUrl  \\\n",
       "0                NaN  http://www.tate.org.uk/art/images/work/A/A00/A...   \n",
       "1                NaN  http://www.tate.org.uk/art/images/work/A/A00/A...   \n",
       "2                NaN  http://www.tate.org.uk/art/images/work/A/A00/A...   \n",
       "3                NaN  http://www.tate.org.uk/art/images/work/A/A00/A...   \n",
       "4                NaN  http://www.tate.org.uk/art/images/work/A/A00/A...   \n",
       "\n",
       "                                                 url  \n",
       "0  http://www.tate.org.uk/art/artworks/blake-a-fi...  \n",
       "1  http://www.tate.org.uk/art/artworks/blake-two-...  \n",
       "2  http://www.tate.org.uk/art/artworks/blake-the-...  \n",
       "3  http://www.tate.org.uk/art/artworks/blake-six-...  \n",
       "4  http://www.tate.org.uk/art/artworks/blake-the-...  "
      ]
     },
     "metadata": {},
     "output_type": "display_data"
    },
    {
     "data": {
      "text/html": [
       "<div>\n",
       "<style scoped>\n",
       "    .dataframe tbody tr th:only-of-type {\n",
       "        vertical-align: middle;\n",
       "    }\n",
       "\n",
       "    .dataframe tbody tr th {\n",
       "        vertical-align: top;\n",
       "    }\n",
       "\n",
       "    .dataframe thead th {\n",
       "        text-align: right;\n",
       "    }\n",
       "</style>\n",
       "<table border=\"1\" class=\"dataframe\">\n",
       "  <thead>\n",
       "    <tr style=\"text-align: right;\">\n",
       "      <th></th>\n",
       "      <th>id</th>\n",
       "      <th>name</th>\n",
       "      <th>gender</th>\n",
       "      <th>dates</th>\n",
       "      <th>yearOfBirth</th>\n",
       "      <th>yearOfDeath</th>\n",
       "      <th>placeOfBirth</th>\n",
       "      <th>placeOfDeath</th>\n",
       "      <th>url</th>\n",
       "    </tr>\n",
       "  </thead>\n",
       "  <tbody>\n",
       "    <tr>\n",
       "      <th>0</th>\n",
       "      <td>10093</td>\n",
       "      <td>Abakanowicz, Magdalena</td>\n",
       "      <td>Female</td>\n",
       "      <td>born 1930</td>\n",
       "      <td>1930.0</td>\n",
       "      <td>NaN</td>\n",
       "      <td>Polska</td>\n",
       "      <td>NaN</td>\n",
       "      <td>http://www.tate.org.uk/art/artists/magdalena-a...</td>\n",
       "    </tr>\n",
       "    <tr>\n",
       "      <th>1</th>\n",
       "      <td>0</td>\n",
       "      <td>Abbey, Edwin Austin</td>\n",
       "      <td>Male</td>\n",
       "      <td>1852–1911</td>\n",
       "      <td>1852.0</td>\n",
       "      <td>1911.0</td>\n",
       "      <td>Philadelphia, United States</td>\n",
       "      <td>London, United Kingdom</td>\n",
       "      <td>http://www.tate.org.uk/art/artists/edwin-austi...</td>\n",
       "    </tr>\n",
       "    <tr>\n",
       "      <th>2</th>\n",
       "      <td>2756</td>\n",
       "      <td>Abbott, Berenice</td>\n",
       "      <td>Female</td>\n",
       "      <td>1898–1991</td>\n",
       "      <td>1898.0</td>\n",
       "      <td>1991.0</td>\n",
       "      <td>Springfield, United States</td>\n",
       "      <td>Monson, United States</td>\n",
       "      <td>http://www.tate.org.uk/art/artists/berenice-ab...</td>\n",
       "    </tr>\n",
       "    <tr>\n",
       "      <th>3</th>\n",
       "      <td>1</td>\n",
       "      <td>Abbott, Lemuel Francis</td>\n",
       "      <td>Male</td>\n",
       "      <td>1760–1803</td>\n",
       "      <td>1760.0</td>\n",
       "      <td>1803.0</td>\n",
       "      <td>Leicestershire, United Kingdom</td>\n",
       "      <td>London, United Kingdom</td>\n",
       "      <td>http://www.tate.org.uk/art/artists/lemuel-fran...</td>\n",
       "    </tr>\n",
       "    <tr>\n",
       "      <th>4</th>\n",
       "      <td>622</td>\n",
       "      <td>Abrahams, Ivor</td>\n",
       "      <td>Male</td>\n",
       "      <td>born 1935</td>\n",
       "      <td>1935.0</td>\n",
       "      <td>NaN</td>\n",
       "      <td>Wigan, United Kingdom</td>\n",
       "      <td>NaN</td>\n",
       "      <td>http://www.tate.org.uk/art/artists/ivor-abraha...</td>\n",
       "    </tr>\n",
       "  </tbody>\n",
       "</table>\n",
       "</div>"
      ],
      "text/plain": [
       "      id                    name  gender      dates  yearOfBirth  yearOfDeath  \\\n",
       "0  10093  Abakanowicz, Magdalena  Female  born 1930       1930.0          NaN   \n",
       "1      0     Abbey, Edwin Austin    Male  1852–1911       1852.0       1911.0   \n",
       "2   2756        Abbott, Berenice  Female  1898–1991       1898.0       1991.0   \n",
       "3      1  Abbott, Lemuel Francis    Male  1760–1803       1760.0       1803.0   \n",
       "4    622          Abrahams, Ivor    Male  born 1935       1935.0          NaN   \n",
       "\n",
       "                     placeOfBirth            placeOfDeath  \\\n",
       "0                          Polska                     NaN   \n",
       "1     Philadelphia, United States  London, United Kingdom   \n",
       "2      Springfield, United States   Monson, United States   \n",
       "3  Leicestershire, United Kingdom  London, United Kingdom   \n",
       "4           Wigan, United Kingdom                     NaN   \n",
       "\n",
       "                                                 url  \n",
       "0  http://www.tate.org.uk/art/artists/magdalena-a...  \n",
       "1  http://www.tate.org.uk/art/artists/edwin-austi...  \n",
       "2  http://www.tate.org.uk/art/artists/berenice-ab...  \n",
       "3  http://www.tate.org.uk/art/artists/lemuel-fran...  \n",
       "4  http://www.tate.org.uk/art/artists/ivor-abraha...  "
      ]
     },
     "execution_count": 18,
     "metadata": {},
     "output_type": "execute_result"
    }
   ],
   "source": [
    "display(tate_artworks.head())\n",
    "tate_artists.head() "
   ]
  },
  {
   "cell_type": "markdown",
   "metadata": {},
   "source": [
    "After examining the data set you can see they have a lot of different columns that are not needed because of their repetition, or because we won't be using them in the future. So we created new data sets without them below."
   ]
  },
  {
   "cell_type": "code",
   "execution_count": 19,
   "metadata": {},
   "outputs": [],
   "source": [
    "tate_newartist = tate_artists[['name','gender','placeOfBirth','yearOfBirth','yearOfDeath']]"
   ]
  },
  {
   "cell_type": "code",
   "execution_count": 20,
   "metadata": {},
   "outputs": [],
   "source": [
    "tate_newartworks = tate_artworks[['id','accession_number','artist','artistRole','artistId','title','medium','year'\n",
    "                                 ,'acquisitionYear','dimensions']]"
   ]
  },
  {
   "cell_type": "markdown",
   "metadata": {},
   "source": [
    "Next we merged the artist and the artworks data together, in the artist dataset the artist column is called artists, and in the artworks it is called name. We merged this on left so that if there is an artist who doesn't have an artwork they don't show up."
   ]
  },
  {
   "cell_type": "code",
   "execution_count": 21,
   "metadata": {},
   "outputs": [],
   "source": [
    "tate = tate_newartworks.merge(tate_newartist, left_on = ['artist'],right_on = ['name'], how = 'left')"
   ]
  },
  {
   "cell_type": "markdown",
   "metadata": {},
   "source": [
    "Then we dropped the name column because we would no longer need it"
   ]
  },
  {
   "cell_type": "code",
   "execution_count": 22,
   "metadata": {},
   "outputs": [],
   "source": [
    "tate = tate.drop(columns = ['name'])"
   ]
  },
  {
   "cell_type": "markdown",
   "metadata": {},
   "source": [
    "Then, like we did for the MoMA, we removed the rows where the acquisition year was not present. "
   ]
  },
  {
   "cell_type": "code",
   "execution_count": 23,
   "metadata": {},
   "outputs": [],
   "source": [
    "no_date = tate[(tate['acquisitionYear'].isnull() == True)].index\n",
    "tate.drop(no_date, inplace = True)"
   ]
  },
  {
   "cell_type": "markdown",
   "metadata": {},
   "source": [
    "When examining the dates we noticed that they were not as wonky as the other one so we only had to change two dates."
   ]
  },
  {
   "cell_type": "code",
   "execution_count": 24,
   "metadata": {},
   "outputs": [
    {
     "data": {
      "text/plain": [
       "array([nan, 1785.0, 1826.0, 1828.0, 1825.0, 1803.0, 1794.0, 1789.0,\n",
       "       1786.0, 1800.0, 1790.0, 1805.0, 1779.0, 1870.0, 1871.0, 1866.0,\n",
       "       1877.0, 1873.0, 1872.0, 1879.0, 1875.0, 1862.0, 1863.0, 1861.0,\n",
       "       1880.0, 1821.0, 1840.0, 1846.0, 1874.0, 1860.0, 1852.0, 1850.0,\n",
       "       1845.0, 1844.0, 1827.0, 1829.0, 1831.0, 1830.0, 1812.0, 1814.0,\n",
       "       1869.0, 1881.0, 1851.0, 1843.0, 1864.0, 1865.0, 1788.0, 1876.0,\n",
       "       1858.0, 1859.0, 1849.0, 1885.0, 1818.0, 1893.0, 1806.0, 1837.0,\n",
       "       1810.0, 1807.0, 1808.0, 1809.0, 1811.0, 1816.0, 1822.0, 1833.0,\n",
       "       1817.0, 1931.0, 1959.0, 1916.0, 1917.0, 1951.0, 1900.0, 1899.0,\n",
       "       1902.0, 1953.0, 1933.0, 1974.0, 1819.0, 1820.0, 1967.0, 1969.0,\n",
       "       1979.0, 1983.0, 1989.0, 1992.0, 1993.0, 1994.0, 1997.0, 1998.0,\n",
       "       1999.0, 2000.0, 1981.0, 1985.0, 1996.0, 1991.0, 1971.0, 2004.0,\n",
       "       2002.0, 2005.0, 2006.0, 1975.0, 2001.0, 1973.0, 2003.0, 1963.0,\n",
       "       1976.0, 1977.0, 1960.0, 1990.0, 1988.0, 2007.0, 1964.0, 1970.0,\n",
       "       1949.0, 1952.0, 1954.0, 1955.0, 1956.0, 1958.0, 1961.0, 1965.0,\n",
       "       1966.0, 1986.0, 1982.0, 1978.0, 1980.0, 1962.0, 1984.0, 1972.0,\n",
       "       1957.0, 1948.0, 1987.0, 1968.0, 1946.0, 1945.0, 2009.0, 1995.0,\n",
       "       2010.0, 2008.0, 2011.0, 1787.0, 1791.0, 1792.0, 1793.0, 1795.0,\n",
       "       1796.0, 1797.0, 1802.0, 1798.0, 1799.0, 1780.0, 1804.0, 1801.0,\n",
       "       1740.0, 1815.0, 1835.0, 1824.0, 1813.0, 1856.0, 1823.0, 1839.0,\n",
       "       1832.0, 1834.0, 1836.0, 1842.0, 1841.0, 1847.0, 1777.0, 1680.0,\n",
       "       1770.0, 1773.0, 1771.0, 1756.0, 1745.0, 1768.0, 1766.0, 1784.0,\n",
       "       1760.0, 1776.0, 1783.0, 1781.0, 1838.0, 1696.0, 1765.0, 1775.0,\n",
       "       1782.0, 1758.0, 1848.0, 1854.0, 1855.0, 1764.0, 1778.0, 1772.0,\n",
       "       1753.0, 1670.0, 1759.0, 1752.0, 1738.0, 1868.0, 1750.0, 1731.0,\n",
       "       1642.0, 1747.0, 1644.0, 1919.0, 1923.0, 1853.0, 1905.0, 1922.0,\n",
       "       1857.0, 1762.0, 1737.0, 1748.0, 1755.0, 1746.0, 1545.0, 1888.0,\n",
       "       1896.0, 1882.0, 1886.0, 1892.0, 1887.0, 1889.0, 1883.0, 1884.0,\n",
       "       1891.0, 1878.0, 1897.0, 1895.0, 1890.0, 1894.0, 1769.0, 1741.0,\n",
       "       1898.0, 1867.0, 1749.0, 1901.0, 1763.0, 1903.0, 1739.0, 1761.0,\n",
       "       1904.0, 1906.0, 1907.0, 1908.0, 1646.0, 1774.0, 1909.0, 1910.0,\n",
       "       1911.0, 1655.0, 1912.0, 1913.0, 1914.0, 1720.0, 1915.0, 1695.0,\n",
       "       1623.0, 1920.0, 1743.0, 1918.0, 1715.0, 1937.0, 1921.0, 1751.0,\n",
       "       1924.0, 1925.0, 1926.0, 1927.0, 1928.0, 1929.0, 1930.0, 1932.0,\n",
       "       1645.0, 1744.0, 1934.0, 1576.0, 1935.0, 1936.0, 1938.0, 1939.0,\n",
       "       1940.0, 1941.0, 1942.0, 1943.0, 1944.0, 1732.0, 1947.0, 1699.0,\n",
       "       1735.0, 1659.0, 1950.0, 1733.0, 1573.0, 1710.0, 1672.0, 1625.0,\n",
       "       2012.0, 1660.0, 1690.0, 1684.0, 1615.0, 1600.0, 1679.0, 1619.0,\n",
       "       1569.0, 1586.0, 1650.0, 1742.0, 1557.0, 1629.0, 1725.0, 1648.0,\n",
       "       1674.0, 1730.0, 1754.0, 1563.0, 1757.0, 1592.0, 1636.0, 1633.0,\n",
       "       1700.0, 1594.0, 1635.0, 1620.0, 1640.0, 1767.0, 1724.0, 1610.0,\n",
       "       1605.0, 1565.0, 1707.0, 1639.0, 1676.0, 1661.0, 1596.0, 1630.0,\n",
       "       1701.0, 1681.0, 1728.0, 1675.0, 1654.0, 1689.0, 1662.0, 1685.0,\n",
       "       1723.0, 1683.0, 1734.0, 1721.0, 1595.0, 1638.0, 1713.0, 1716.0,\n",
       "       1719.0, '1774', '1773', '1810', '1845', '1775', '1857', '1855',\n",
       "       '1875', '1830', '1833', '1692', '1788', '1726', '1718', '1791',\n",
       "       '1831', '1777', '1789', '1770', '1796', '1798', '1799', '1836',\n",
       "       '1834', '1822', '1838', '1839', '1906', '1919', '1936', '1902',\n",
       "       '1819', '1807', '1805', '1823', '1824', '1816', '1765', '1780',\n",
       "       '1768', '1637', '1753', '1647', '1817', '1762', '1763', '1658',\n",
       "       '1772', '1795', '1794', '1835', '1761', '1820', '1811', '1787',\n",
       "       '1797', '1785', '1813', '1760', '1784', '1964', '1966', '1968',\n",
       "       '1967', '1970', '1973', '1975', '1971', '1974', '1986', '1944',\n",
       "       '2002', '2003', '1963', '1951', '1736', '1996', '1998', '1991',\n",
       "       '1994', '1903', '2000', '1965', '1937', '1930', '1940', '2001',\n",
       "       '1948', '1980', '1982', '1993', '1945', '1992', '1999', '1972',\n",
       "       '1962', '1950', '1953', '1952', '1984', '1733', '1959', '1981',\n",
       "       '1990', '1988', '1934', '1987', '1922', '1997', '1995', '2004',\n",
       "       '1924', '1960', '1825', '1977', '1941', '1931', '1955', '1969',\n",
       "       '1989', '1947', '1961', '1894', '1913', '1956', '1958', '1685',\n",
       "       '1769', '2005', '1976', '1979', '1935', '1927', '1957', '1929',\n",
       "       '1917', '1878', '1683', '1978', '1985', '1943', '1740', '2006',\n",
       "       '1914', '1829', '1983', '1842', '1911', '1908', '1918', '1923',\n",
       "       '1932', '1938', '1942', '1844', '2007', '1790', '1939', '1928',\n",
       "       '1732', '1747', '1786', '1925', '1893', 'no date', '1920', '1949',\n",
       "       '1926', '1954', '1933', '1946', '1909', '2008', '1889', '1895',\n",
       "       '1880', '1628', '2009', '1896', '1912', '1910', '1734', '2010',\n",
       "       '1660', '1720', '1867', '1866', '2011', '1625', '1848', '1874',\n",
       "       '2012', 'c.1997-9', '1764'], dtype=object)"
      ]
     },
     "execution_count": 24,
     "metadata": {},
     "output_type": "execute_result"
    }
   ],
   "source": [
    "tate['year'].unique()"
   ]
  },
  {
   "cell_type": "code",
   "execution_count": 25,
   "metadata": {},
   "outputs": [],
   "source": [
    "tate['year'].replace({'no date':np.nan, 'c.1997-9':1997}, inplace = True)"
   ]
  },
  {
   "cell_type": "markdown",
   "metadata": {},
   "source": [
    "Next we made two new columns, one that is the age of the person when they made the work, and the next is a column that will tell if a person was alive or not when the work was acquired by the MoMA"
   ]
  },
  {
   "cell_type": "code",
   "execution_count": 26,
   "metadata": {},
   "outputs": [],
   "source": [
    "tate['age_made'] = pd.to_numeric(tate['year']) - tate['yearOfBirth']\n",
    "tate['alive?'] = tate['year']"
   ]
  },
  {
   "cell_type": "markdown",
   "metadata": {},
   "source": [
    "Finally we utilized the same function and apply method as we did above to make a column determining if the artist was alive or not."
   ]
  },
  {
   "cell_type": "code",
   "execution_count": 27,
   "metadata": {},
   "outputs": [],
   "source": [
    "def alive(acquisition,death):\n",
    "    if acquisition > death:\n",
    "        return 'False'\n",
    "    else:\n",
    "        return 'True'\n",
    "tate['alive?'] = tate.apply(lambda row: alive(row['acquisitionYear'],row['yearOfDeath']),axis=1)"
   ]
  },
  {
   "cell_type": "markdown",
   "metadata": {},
   "source": [
    "Next we noticed that the placeOfBirth column contained both the city and the country for the majority of the artists. We realized that in order to analyze the country that the artists were from we needed to separate the city from the country, so we made a new column called countryOfOrigin that contained just the country."
   ]
  },
  {
   "cell_type": "code",
   "execution_count": 28,
   "metadata": {},
   "outputs": [],
   "source": [
    "def country(place):\n",
    "    new = str(place).split(',')\n",
    "    if len(new) > 1:\n",
    "        first = re.sub(r\"^\\s+\", \"\", new[1])\n",
    "        return first\n",
    "    else:\n",
    "        return new[0]\n",
    "tate['countryOfOrigin'] = tate.apply(lambda row: country(row['placeOfBirth']), axis=1)"
   ]
  },
  {
   "cell_type": "markdown",
   "metadata": {},
   "source": [
    "After each of those steps our dataframe is now clean and in the format that we want it in, which is displayed below."
   ]
  },
  {
   "cell_type": "code",
   "execution_count": 29,
   "metadata": {},
   "outputs": [
    {
     "data": {
      "text/html": [
       "<div>\n",
       "<style scoped>\n",
       "    .dataframe tbody tr th:only-of-type {\n",
       "        vertical-align: middle;\n",
       "    }\n",
       "\n",
       "    .dataframe tbody tr th {\n",
       "        vertical-align: top;\n",
       "    }\n",
       "\n",
       "    .dataframe thead th {\n",
       "        text-align: right;\n",
       "    }\n",
       "</style>\n",
       "<table border=\"1\" class=\"dataframe\">\n",
       "  <thead>\n",
       "    <tr style=\"text-align: right;\">\n",
       "      <th></th>\n",
       "      <th>id</th>\n",
       "      <th>accession_number</th>\n",
       "      <th>artist</th>\n",
       "      <th>artistRole</th>\n",
       "      <th>artistId</th>\n",
       "      <th>title</th>\n",
       "      <th>medium</th>\n",
       "      <th>year</th>\n",
       "      <th>acquisitionYear</th>\n",
       "      <th>dimensions</th>\n",
       "      <th>gender</th>\n",
       "      <th>placeOfBirth</th>\n",
       "      <th>yearOfBirth</th>\n",
       "      <th>yearOfDeath</th>\n",
       "      <th>age_made</th>\n",
       "      <th>alive?</th>\n",
       "      <th>countryOfOrigin</th>\n",
       "    </tr>\n",
       "  </thead>\n",
       "  <tbody>\n",
       "    <tr>\n",
       "      <th>0</th>\n",
       "      <td>1035</td>\n",
       "      <td>A00001</td>\n",
       "      <td>Blake, Robert</td>\n",
       "      <td>artist</td>\n",
       "      <td>38</td>\n",
       "      <td>A Figure Bowing before a Seated Old Man with h...</td>\n",
       "      <td>Watercolour, ink, chalk and graphite on paper....</td>\n",
       "      <td>NaN</td>\n",
       "      <td>1922.0</td>\n",
       "      <td>support: 394 x 419 mm</td>\n",
       "      <td>Male</td>\n",
       "      <td>London, United Kingdom</td>\n",
       "      <td>1762.0</td>\n",
       "      <td>1787.0</td>\n",
       "      <td>NaN</td>\n",
       "      <td>False</td>\n",
       "      <td>United Kingdom</td>\n",
       "    </tr>\n",
       "    <tr>\n",
       "      <th>1</th>\n",
       "      <td>1036</td>\n",
       "      <td>A00002</td>\n",
       "      <td>Blake, Robert</td>\n",
       "      <td>artist</td>\n",
       "      <td>38</td>\n",
       "      <td>Two Drawings of Frightened Figures, Probably f...</td>\n",
       "      <td>Graphite on paper</td>\n",
       "      <td>NaN</td>\n",
       "      <td>1922.0</td>\n",
       "      <td>support: 311 x 213 mm</td>\n",
       "      <td>Male</td>\n",
       "      <td>London, United Kingdom</td>\n",
       "      <td>1762.0</td>\n",
       "      <td>1787.0</td>\n",
       "      <td>NaN</td>\n",
       "      <td>False</td>\n",
       "      <td>United Kingdom</td>\n",
       "    </tr>\n",
       "    <tr>\n",
       "      <th>2</th>\n",
       "      <td>1037</td>\n",
       "      <td>A00003</td>\n",
       "      <td>Blake, Robert</td>\n",
       "      <td>artist</td>\n",
       "      <td>38</td>\n",
       "      <td>The Preaching of Warning. Verso: An Old Man En...</td>\n",
       "      <td>Graphite on paper. Verso: graphite on paper</td>\n",
       "      <td>1785</td>\n",
       "      <td>1922.0</td>\n",
       "      <td>support: 343 x 467 mm</td>\n",
       "      <td>Male</td>\n",
       "      <td>London, United Kingdom</td>\n",
       "      <td>1762.0</td>\n",
       "      <td>1787.0</td>\n",
       "      <td>23.0</td>\n",
       "      <td>False</td>\n",
       "      <td>United Kingdom</td>\n",
       "    </tr>\n",
       "    <tr>\n",
       "      <th>3</th>\n",
       "      <td>1038</td>\n",
       "      <td>A00004</td>\n",
       "      <td>Blake, Robert</td>\n",
       "      <td>artist</td>\n",
       "      <td>38</td>\n",
       "      <td>Six Drawings of Figures with Outstretched Arms</td>\n",
       "      <td>Graphite on paper</td>\n",
       "      <td>NaN</td>\n",
       "      <td>1922.0</td>\n",
       "      <td>support: 318 x 394 mm</td>\n",
       "      <td>Male</td>\n",
       "      <td>London, United Kingdom</td>\n",
       "      <td>1762.0</td>\n",
       "      <td>1787.0</td>\n",
       "      <td>NaN</td>\n",
       "      <td>False</td>\n",
       "      <td>United Kingdom</td>\n",
       "    </tr>\n",
       "    <tr>\n",
       "      <th>4</th>\n",
       "      <td>1039</td>\n",
       "      <td>A00005</td>\n",
       "      <td>Blake, William</td>\n",
       "      <td>artist</td>\n",
       "      <td>39</td>\n",
       "      <td>The Circle of the Lustful: Francesca da Rimini...</td>\n",
       "      <td>Line engraving on paper</td>\n",
       "      <td>1826</td>\n",
       "      <td>1919.0</td>\n",
       "      <td>image: 243 x 335 mm</td>\n",
       "      <td>Male</td>\n",
       "      <td>London, United Kingdom</td>\n",
       "      <td>1757.0</td>\n",
       "      <td>1827.0</td>\n",
       "      <td>69.0</td>\n",
       "      <td>False</td>\n",
       "      <td>United Kingdom</td>\n",
       "    </tr>\n",
       "  </tbody>\n",
       "</table>\n",
       "</div>"
      ],
      "text/plain": [
       "     id accession_number          artist artistRole  artistId  \\\n",
       "0  1035           A00001   Blake, Robert     artist        38   \n",
       "1  1036           A00002   Blake, Robert     artist        38   \n",
       "2  1037           A00003   Blake, Robert     artist        38   \n",
       "3  1038           A00004   Blake, Robert     artist        38   \n",
       "4  1039           A00005  Blake, William     artist        39   \n",
       "\n",
       "                                               title  \\\n",
       "0  A Figure Bowing before a Seated Old Man with h...   \n",
       "1  Two Drawings of Frightened Figures, Probably f...   \n",
       "2  The Preaching of Warning. Verso: An Old Man En...   \n",
       "3     Six Drawings of Figures with Outstretched Arms   \n",
       "4  The Circle of the Lustful: Francesca da Rimini...   \n",
       "\n",
       "                                              medium  year  acquisitionYear  \\\n",
       "0  Watercolour, ink, chalk and graphite on paper....   NaN           1922.0   \n",
       "1                                  Graphite on paper   NaN           1922.0   \n",
       "2        Graphite on paper. Verso: graphite on paper  1785           1922.0   \n",
       "3                                  Graphite on paper   NaN           1922.0   \n",
       "4                            Line engraving on paper  1826           1919.0   \n",
       "\n",
       "              dimensions gender            placeOfBirth  yearOfBirth  \\\n",
       "0  support: 394 x 419 mm   Male  London, United Kingdom       1762.0   \n",
       "1  support: 311 x 213 mm   Male  London, United Kingdom       1762.0   \n",
       "2  support: 343 x 467 mm   Male  London, United Kingdom       1762.0   \n",
       "3  support: 318 x 394 mm   Male  London, United Kingdom       1762.0   \n",
       "4    image: 243 x 335 mm   Male  London, United Kingdom       1757.0   \n",
       "\n",
       "   yearOfDeath  age_made alive? countryOfOrigin  \n",
       "0       1787.0       NaN  False  United Kingdom  \n",
       "1       1787.0       NaN  False  United Kingdom  \n",
       "2       1787.0      23.0  False  United Kingdom  \n",
       "3       1787.0       NaN  False  United Kingdom  \n",
       "4       1827.0      69.0  False  United Kingdom  "
      ]
     },
     "execution_count": 29,
     "metadata": {},
     "output_type": "execute_result"
    }
   ],
   "source": [
    "tate.head()"
   ]
  },
  {
   "cell_type": "markdown",
   "metadata": {},
   "source": [
    "## Analysis: Tate vs MoMA"
   ]
  },
  {
   "cell_type": "markdown",
   "metadata": {},
   "source": [
    "The first analysis that we will do will show the difference in diversity of non-European artists between the MoMA and the Tate. The Tate uses the country name while the MoMA uses the designation. For example: American vs America, French vs France. So in order to do the analysis we need to be aware of this discrepancy. When deciding whether a country was designated as European or not we refered to a list of European countries from this website: https://datahub.io/opendatafortaxjustice/listofeucountries#resource-listofeucountries"
   ]
  },
  {
   "cell_type": "markdown",
   "metadata": {},
   "source": [
    "The names of the countries for the Tate dataset were especially difficult to work with beacuse of the number of differences in the name titles. The majority of the names were in the countries native language or there was a city name rather than a country. Because of this we had to manually go through and check for what we wanted by looking at the unique values and then adding them to the list. "
   ]
  },
  {
   "cell_type": "code",
   "execution_count": 43,
   "metadata": {
    "scrolled": true
   },
   "outputs": [
    {
     "data": {
      "text/plain": [
       "array(['United Kingdom', 'nan', 'Bharat', 'France', 'Italia', 'Viet Nam',\n",
       "       'Deutschland', 'Rossiya', 'United States', 'Bahamas', 'Australia',\n",
       "       'Ellás', 'België', 'Latvija', 'Canada', 'Éire', 'Schweiz',\n",
       "       'Plymouth', 'Edinburgh', 'España', 'Nederland', 'Beckington',\n",
       "       'Perth', 'Wimbledon', 'Canterbury', 'Danmark', 'Türkiye',\n",
       "       'Österreich', 'Blackheath', 'Charlieu', 'Isle of Man',\n",
       "       'Magyarország', 'Hrvatska', 'Chile', 'Epsom', 'Auteuil',\n",
       "       'Kensington', 'South Africa', 'Mauritius', 'Rochdale', 'Melmerby',\n",
       "       'Ukrayina', 'Sverige', 'Département de la', 'New Zealand',\n",
       "       'România', 'Otok', 'Charlotte Amalie', 'Schlesien', 'Saint Hélier',\n",
       "       'Polska', 'Misr', 'Bermondsey', 'Egremont', 'Norge', 'Braintree',\n",
       "       'Liverpool', 'Belarus', 'Stoke on Trent', 'Zhonghua', 'Portugal',\n",
       "       'Cuba', 'Moldova', 'Singapore', 'Nihon', 'Brasil', 'Staten Island',\n",
       "       'México', 'Bosna i Hercegovina', 'Slovenija',\n",
       "       'Slovenská Republika', 'Ceská Republika', 'Myanmar', \"Yisra'el\",\n",
       "       'Chung-hua Min-kuo', 'D.C.', 'Colombia', 'Sri Lanka', 'Indonesia',\n",
       "       'Jugoslavija', 'Bulgaria', 'Samoa', 'Argentina', 'Barbados',\n",
       "       \"Taehan Min'guk\", 'Îran', 'Niederschlesien', 'Al-Lubnan',\n",
       "       'Pakistan', 'Panamá', 'Zimbabwe', 'Zambia', 'Suriyah', 'Cameroun',\n",
       "       'Nigeria', 'Bangladesh', \"Al-Jaza'ir\", 'Lietuva', 'Solothurn',\n",
       "       'Makedonija', 'Venezuela', 'Malaysia', 'Douglas', 'London',\n",
       "       'Tunis', 'Bristol', 'Armenia', 'Eesti', 'Jamaica', 'Guyana',\n",
       "       'Montserrat', 'Tanzania', 'Ísland', 'Mehoz', 'Suomi',\n",
       "       'Hertfordshire', 'Stockholm', 'Luxembourg', 'Shqipëria', 'Uganda',\n",
       "       'Perú', 'Pilipinas', 'Malta', 'Kenya', 'Lao', 'Al-‘Iraq',\n",
       "       'Nicaragua', 'Prathet Thai', \"Choson Minjujuui In'min Konghwaguk\",\n",
       "       'As-Sudan'], dtype=object)"
      ]
     },
     "execution_count": 43,
     "metadata": {},
     "output_type": "execute_result"
    }
   ],
   "source": [
    "tate['countryOfOrigin'].unique()"
   ]
  },
  {
   "cell_type": "markdown",
   "metadata": {},
   "source": [
    "First we replaced \"nan\" with np.nan and then we created a new dataframe that didn't contain any np.nans for country of origin"
   ]
  },
  {
   "cell_type": "code",
   "execution_count": 44,
   "metadata": {},
   "outputs": [],
   "source": [
    "tate['countryOfOrigin'] = tate['countryOfOrigin'].replace({'nan':np.nan})\n",
    "tate_country = tate[tate['countryOfOrigin'].isnull() == False]\n",
    "#designation wasn't properly set so had to remove the works that didn't have a country of origin"
   ]
  },
  {
   "cell_type": "markdown",
   "metadata": {},
   "source": [
    "Next we created a list of the countries, a function to make a new column and insert true or false if it was a european country or not."
   ]
  },
  {
   "cell_type": "code",
   "execution_count": 45,
   "metadata": {},
   "outputs": [],
   "source": [
    "index = tate_country['countryOfOrigin'].index\n",
    "tate_country['False'] = ['False'] * len(index)"
   ]
  },
  {
   "cell_type": "code",
   "execution_count": 46,
   "metadata": {},
   "outputs": [],
   "source": [
    "countries_tate = ['Austria','Belgium','Bulgaria','Croatia','Cyprus','Czech Republic','Denmark','Estonia','Finland','France','Germany',\n",
    "'Greece','Hungary','Ireland','Italy','Latvia','Luxembourg','Lithuania','Malta','Netherlands','Poland','Portugal',\n",
    "'Romania','Slovak Republic','Slovenia','Spain','Sweden','United Kingdom', 'Deutschland', 'Italia','London','Ceská Republika',\n",
    " 'D.C.',  'Staten Island','Liverpool', 'Polska', 'România', 'España', 'Edinburgh', 'Canada','United States', 'Stoke on Trent',\n",
    "                 'Ellás','België', 'Latvija','Nederland','Wimbledon','Canterbury', 'Danmark','Österreich','Blackheath',\n",
    "                  'Bermondsey', 'Egremont', 'Norge', 'Braintree','Liverpool','Bristol','Eesti','Hertfordshire', 'Stockholm', 'Luxembourg'\n",
    "                 ]\n",
    "non_european = []\n",
    "european = []\n",
    "for x in index:\n",
    "    if tate_country.loc[x, 'countryOfOrigin'] in countries_tate:\n",
    "        tate_country.loc[x,'European?'] = 'True'\n",
    "    elif tate_country.loc[x, 'countryOfOrigin'] == np.nan:\n",
    "        tate_country.loc[x,'European?'] = 'True' \n",
    "    else:\n",
    "        if tate_country.loc[x, 'countryOfOrigin'] in non_european:\n",
    "            tate_country.loc[x,'European?'] = 'False'\n",
    "        else:\n",
    "            non_european.append(country)\n",
    "            tate_country.loc[x,'European?'] = 'False'"
   ]
  },
  {
   "cell_type": "code",
   "execution_count": 47,
   "metadata": {},
   "outputs": [
    {
     "data": {
      "text/html": [
       "<div>\n",
       "<style scoped>\n",
       "    .dataframe tbody tr th:only-of-type {\n",
       "        vertical-align: middle;\n",
       "    }\n",
       "\n",
       "    .dataframe tbody tr th {\n",
       "        vertical-align: top;\n",
       "    }\n",
       "\n",
       "    .dataframe thead th {\n",
       "        text-align: right;\n",
       "    }\n",
       "</style>\n",
       "<table border=\"1\" class=\"dataframe\">\n",
       "  <thead>\n",
       "    <tr style=\"text-align: right;\">\n",
       "      <th></th>\n",
       "      <th>id</th>\n",
       "      <th>accession_number</th>\n",
       "      <th>artist</th>\n",
       "      <th>artistRole</th>\n",
       "      <th>artistId</th>\n",
       "      <th>title</th>\n",
       "      <th>medium</th>\n",
       "      <th>year</th>\n",
       "      <th>acquisitionYear</th>\n",
       "      <th>dimensions</th>\n",
       "      <th>gender</th>\n",
       "      <th>placeOfBirth</th>\n",
       "      <th>yearOfBirth</th>\n",
       "      <th>yearOfDeath</th>\n",
       "      <th>age_made</th>\n",
       "      <th>alive?</th>\n",
       "      <th>countryOfOrigin</th>\n",
       "      <th>n</th>\n",
       "      <th>European?</th>\n",
       "    </tr>\n",
       "  </thead>\n",
       "  <tbody>\n",
       "    <tr>\n",
       "      <th>0</th>\n",
       "      <td>1035</td>\n",
       "      <td>A00001</td>\n",
       "      <td>Blake, Robert</td>\n",
       "      <td>artist</td>\n",
       "      <td>38</td>\n",
       "      <td>A Figure Bowing before a Seated Old Man with h...</td>\n",
       "      <td>Watercolour, ink, chalk and graphite on paper....</td>\n",
       "      <td>NaN</td>\n",
       "      <td>1922.0</td>\n",
       "      <td>support: 394 x 419 mm</td>\n",
       "      <td>Male</td>\n",
       "      <td>London, United Kingdom</td>\n",
       "      <td>1762.0</td>\n",
       "      <td>1787.0</td>\n",
       "      <td>NaN</td>\n",
       "      <td>False</td>\n",
       "      <td>United Kingdom</td>\n",
       "      <td>n</td>\n",
       "      <td>True</td>\n",
       "    </tr>\n",
       "    <tr>\n",
       "      <th>1</th>\n",
       "      <td>1036</td>\n",
       "      <td>A00002</td>\n",
       "      <td>Blake, Robert</td>\n",
       "      <td>artist</td>\n",
       "      <td>38</td>\n",
       "      <td>Two Drawings of Frightened Figures, Probably f...</td>\n",
       "      <td>Graphite on paper</td>\n",
       "      <td>NaN</td>\n",
       "      <td>1922.0</td>\n",
       "      <td>support: 311 x 213 mm</td>\n",
       "      <td>Male</td>\n",
       "      <td>London, United Kingdom</td>\n",
       "      <td>1762.0</td>\n",
       "      <td>1787.0</td>\n",
       "      <td>NaN</td>\n",
       "      <td>False</td>\n",
       "      <td>United Kingdom</td>\n",
       "      <td>n</td>\n",
       "      <td>True</td>\n",
       "    </tr>\n",
       "    <tr>\n",
       "      <th>2</th>\n",
       "      <td>1037</td>\n",
       "      <td>A00003</td>\n",
       "      <td>Blake, Robert</td>\n",
       "      <td>artist</td>\n",
       "      <td>38</td>\n",
       "      <td>The Preaching of Warning. Verso: An Old Man En...</td>\n",
       "      <td>Graphite on paper. Verso: graphite on paper</td>\n",
       "      <td>1785</td>\n",
       "      <td>1922.0</td>\n",
       "      <td>support: 343 x 467 mm</td>\n",
       "      <td>Male</td>\n",
       "      <td>London, United Kingdom</td>\n",
       "      <td>1762.0</td>\n",
       "      <td>1787.0</td>\n",
       "      <td>23.0</td>\n",
       "      <td>False</td>\n",
       "      <td>United Kingdom</td>\n",
       "      <td>n</td>\n",
       "      <td>True</td>\n",
       "    </tr>\n",
       "    <tr>\n",
       "      <th>3</th>\n",
       "      <td>1038</td>\n",
       "      <td>A00004</td>\n",
       "      <td>Blake, Robert</td>\n",
       "      <td>artist</td>\n",
       "      <td>38</td>\n",
       "      <td>Six Drawings of Figures with Outstretched Arms</td>\n",
       "      <td>Graphite on paper</td>\n",
       "      <td>NaN</td>\n",
       "      <td>1922.0</td>\n",
       "      <td>support: 318 x 394 mm</td>\n",
       "      <td>Male</td>\n",
       "      <td>London, United Kingdom</td>\n",
       "      <td>1762.0</td>\n",
       "      <td>1787.0</td>\n",
       "      <td>NaN</td>\n",
       "      <td>False</td>\n",
       "      <td>United Kingdom</td>\n",
       "      <td>n</td>\n",
       "      <td>True</td>\n",
       "    </tr>\n",
       "    <tr>\n",
       "      <th>4</th>\n",
       "      <td>1039</td>\n",
       "      <td>A00005</td>\n",
       "      <td>Blake, William</td>\n",
       "      <td>artist</td>\n",
       "      <td>39</td>\n",
       "      <td>The Circle of the Lustful: Francesca da Rimini...</td>\n",
       "      <td>Line engraving on paper</td>\n",
       "      <td>1826</td>\n",
       "      <td>1919.0</td>\n",
       "      <td>image: 243 x 335 mm</td>\n",
       "      <td>Male</td>\n",
       "      <td>London, United Kingdom</td>\n",
       "      <td>1757.0</td>\n",
       "      <td>1827.0</td>\n",
       "      <td>69.0</td>\n",
       "      <td>False</td>\n",
       "      <td>United Kingdom</td>\n",
       "      <td>n</td>\n",
       "      <td>True</td>\n",
       "    </tr>\n",
       "    <tr>\n",
       "      <th>...</th>\n",
       "      <td>...</td>\n",
       "      <td>...</td>\n",
       "      <td>...</td>\n",
       "      <td>...</td>\n",
       "      <td>...</td>\n",
       "      <td>...</td>\n",
       "      <td>...</td>\n",
       "      <td>...</td>\n",
       "      <td>...</td>\n",
       "      <td>...</td>\n",
       "      <td>...</td>\n",
       "      <td>...</td>\n",
       "      <td>...</td>\n",
       "      <td>...</td>\n",
       "      <td>...</td>\n",
       "      <td>...</td>\n",
       "      <td>...</td>\n",
       "      <td>...</td>\n",
       "      <td>...</td>\n",
       "    </tr>\n",
       "    <tr>\n",
       "      <th>69313</th>\n",
       "      <td>122959</td>\n",
       "      <td>T13864</td>\n",
       "      <td>P-Orridge, Genesis</td>\n",
       "      <td>artist</td>\n",
       "      <td>16646</td>\n",
       "      <td>It’s That Time Of The Month (from Tampax Romana)</td>\n",
       "      <td>Wood, Perspex, clock case, tampons and human b...</td>\n",
       "      <td>1975</td>\n",
       "      <td>2013.0</td>\n",
       "      <td>object: 305 x 305 x 135 mm</td>\n",
       "      <td>Male</td>\n",
       "      <td>Manchester, United Kingdom</td>\n",
       "      <td>1950.0</td>\n",
       "      <td>NaN</td>\n",
       "      <td>25.0</td>\n",
       "      <td>True</td>\n",
       "      <td>United Kingdom</td>\n",
       "      <td>n</td>\n",
       "      <td>True</td>\n",
       "    </tr>\n",
       "    <tr>\n",
       "      <th>69314</th>\n",
       "      <td>122960</td>\n",
       "      <td>T13865</td>\n",
       "      <td>P-Orridge, Genesis</td>\n",
       "      <td>artist</td>\n",
       "      <td>16646</td>\n",
       "      <td>Larvae (from Tampax Romana)</td>\n",
       "      <td>Perspex, Wood, hairpiece, tampon and human blood</td>\n",
       "      <td>1975</td>\n",
       "      <td>2013.0</td>\n",
       "      <td>object: 305 x 305 x 135 mm</td>\n",
       "      <td>Male</td>\n",
       "      <td>Manchester, United Kingdom</td>\n",
       "      <td>1950.0</td>\n",
       "      <td>NaN</td>\n",
       "      <td>25.0</td>\n",
       "      <td>True</td>\n",
       "      <td>United Kingdom</td>\n",
       "      <td>n</td>\n",
       "      <td>True</td>\n",
       "    </tr>\n",
       "    <tr>\n",
       "      <th>69315</th>\n",
       "      <td>122961</td>\n",
       "      <td>T13866</td>\n",
       "      <td>P-Orridge, Genesis</td>\n",
       "      <td>artist</td>\n",
       "      <td>16646</td>\n",
       "      <td>Living Womb (from Tampax Romana)</td>\n",
       "      <td>Wood, Perspex, plastic, photograph on paper, t...</td>\n",
       "      <td>1976</td>\n",
       "      <td>2013.0</td>\n",
       "      <td>object: 305 x 305 x 135 mm</td>\n",
       "      <td>Male</td>\n",
       "      <td>Manchester, United Kingdom</td>\n",
       "      <td>1950.0</td>\n",
       "      <td>NaN</td>\n",
       "      <td>26.0</td>\n",
       "      <td>True</td>\n",
       "      <td>United Kingdom</td>\n",
       "      <td>n</td>\n",
       "      <td>True</td>\n",
       "    </tr>\n",
       "    <tr>\n",
       "      <th>69316</th>\n",
       "      <td>121181</td>\n",
       "      <td>T13867</td>\n",
       "      <td>Hatoum, Mona</td>\n",
       "      <td>artist</td>\n",
       "      <td>2365</td>\n",
       "      <td>Present Tense</td>\n",
       "      <td>Soap and glass beads</td>\n",
       "      <td>1996</td>\n",
       "      <td>2013.0</td>\n",
       "      <td>displayed: 45 x 2410 x 2990 mm</td>\n",
       "      <td>Female</td>\n",
       "      <td>Bayrut, Al-Lubnan</td>\n",
       "      <td>1952.0</td>\n",
       "      <td>NaN</td>\n",
       "      <td>44.0</td>\n",
       "      <td>True</td>\n",
       "      <td>Al-Lubnan</td>\n",
       "      <td>n</td>\n",
       "      <td>False</td>\n",
       "    </tr>\n",
       "    <tr>\n",
       "      <th>69317</th>\n",
       "      <td>112306</td>\n",
       "      <td>T13868</td>\n",
       "      <td>Creed, Martin</td>\n",
       "      <td>artist</td>\n",
       "      <td>2760</td>\n",
       "      <td>Work No. 227: The lights going on and off</td>\n",
       "      <td>Gallery lighting</td>\n",
       "      <td>2000</td>\n",
       "      <td>2013.0</td>\n",
       "      <td>Overall display dimensions variable</td>\n",
       "      <td>Male</td>\n",
       "      <td>Wakefield, United Kingdom</td>\n",
       "      <td>1968.0</td>\n",
       "      <td>NaN</td>\n",
       "      <td>32.0</td>\n",
       "      <td>True</td>\n",
       "      <td>United Kingdom</td>\n",
       "      <td>n</td>\n",
       "      <td>True</td>\n",
       "    </tr>\n",
       "  </tbody>\n",
       "</table>\n",
       "<p>66147 rows × 19 columns</p>\n",
       "</div>"
      ],
      "text/plain": [
       "           id accession_number              artist artistRole  artistId  \\\n",
       "0        1035           A00001       Blake, Robert     artist        38   \n",
       "1        1036           A00002       Blake, Robert     artist        38   \n",
       "2        1037           A00003       Blake, Robert     artist        38   \n",
       "3        1038           A00004       Blake, Robert     artist        38   \n",
       "4        1039           A00005      Blake, William     artist        39   \n",
       "...       ...              ...                 ...        ...       ...   \n",
       "69313  122959           T13864  P-Orridge, Genesis     artist     16646   \n",
       "69314  122960           T13865  P-Orridge, Genesis     artist     16646   \n",
       "69315  122961           T13866  P-Orridge, Genesis     artist     16646   \n",
       "69316  121181           T13867        Hatoum, Mona     artist      2365   \n",
       "69317  112306           T13868       Creed, Martin     artist      2760   \n",
       "\n",
       "                                                   title  \\\n",
       "0      A Figure Bowing before a Seated Old Man with h...   \n",
       "1      Two Drawings of Frightened Figures, Probably f...   \n",
       "2      The Preaching of Warning. Verso: An Old Man En...   \n",
       "3         Six Drawings of Figures with Outstretched Arms   \n",
       "4      The Circle of the Lustful: Francesca da Rimini...   \n",
       "...                                                  ...   \n",
       "69313   It’s That Time Of The Month (from Tampax Romana)   \n",
       "69314                        Larvae (from Tampax Romana)   \n",
       "69315                   Living Womb (from Tampax Romana)   \n",
       "69316                                      Present Tense   \n",
       "69317          Work No. 227: The lights going on and off   \n",
       "\n",
       "                                                  medium  year  \\\n",
       "0      Watercolour, ink, chalk and graphite on paper....   NaN   \n",
       "1                                      Graphite on paper   NaN   \n",
       "2            Graphite on paper. Verso: graphite on paper  1785   \n",
       "3                                      Graphite on paper   NaN   \n",
       "4                                Line engraving on paper  1826   \n",
       "...                                                  ...   ...   \n",
       "69313  Wood, Perspex, clock case, tampons and human b...  1975   \n",
       "69314   Perspex, Wood, hairpiece, tampon and human blood  1975   \n",
       "69315  Wood, Perspex, plastic, photograph on paper, t...  1976   \n",
       "69316                               Soap and glass beads  1996   \n",
       "69317                                   Gallery lighting  2000   \n",
       "\n",
       "       acquisitionYear                           dimensions  gender  \\\n",
       "0               1922.0                support: 394 x 419 mm    Male   \n",
       "1               1922.0                support: 311 x 213 mm    Male   \n",
       "2               1922.0                support: 343 x 467 mm    Male   \n",
       "3               1922.0                support: 318 x 394 mm    Male   \n",
       "4               1919.0                  image: 243 x 335 mm    Male   \n",
       "...                ...                                  ...     ...   \n",
       "69313           2013.0           object: 305 x 305 x 135 mm    Male   \n",
       "69314           2013.0           object: 305 x 305 x 135 mm    Male   \n",
       "69315           2013.0           object: 305 x 305 x 135 mm    Male   \n",
       "69316           2013.0       displayed: 45 x 2410 x 2990 mm  Female   \n",
       "69317           2013.0  Overall display dimensions variable    Male   \n",
       "\n",
       "                     placeOfBirth  yearOfBirth  yearOfDeath  age_made alive?  \\\n",
       "0          London, United Kingdom       1762.0       1787.0       NaN  False   \n",
       "1          London, United Kingdom       1762.0       1787.0       NaN  False   \n",
       "2          London, United Kingdom       1762.0       1787.0      23.0  False   \n",
       "3          London, United Kingdom       1762.0       1787.0       NaN  False   \n",
       "4          London, United Kingdom       1757.0       1827.0      69.0  False   \n",
       "...                           ...          ...          ...       ...    ...   \n",
       "69313  Manchester, United Kingdom       1950.0          NaN      25.0   True   \n",
       "69314  Manchester, United Kingdom       1950.0          NaN      25.0   True   \n",
       "69315  Manchester, United Kingdom       1950.0          NaN      26.0   True   \n",
       "69316           Bayrut, Al-Lubnan       1952.0          NaN      44.0   True   \n",
       "69317   Wakefield, United Kingdom       1968.0          NaN      32.0   True   \n",
       "\n",
       "      countryOfOrigin  n European?  \n",
       "0      United Kingdom  n      True  \n",
       "1      United Kingdom  n      True  \n",
       "2      United Kingdom  n      True  \n",
       "3      United Kingdom  n      True  \n",
       "4      United Kingdom  n      True  \n",
       "...               ... ..       ...  \n",
       "69313  United Kingdom  n      True  \n",
       "69314  United Kingdom  n      True  \n",
       "69315  United Kingdom  n      True  \n",
       "69316       Al-Lubnan  n     False  \n",
       "69317  United Kingdom  n      True  \n",
       "\n",
       "[66147 rows x 19 columns]"
      ]
     },
     "execution_count": 47,
     "metadata": {},
     "output_type": "execute_result"
    }
   ],
   "source": [
    "tate_country"
   ]
  },
  {
   "cell_type": "markdown",
   "metadata": {},
   "source": [
    "Now that the datasets are in similar formats we can start comparisons and anaylsis. But, the Tate data stopped collecting in 2013, so need to make MoMA align with them."
   ]
  },
  {
   "cell_type": "code",
   "execution_count": 54,
   "metadata": {},
   "outputs": [
    {
     "data": {
      "text/plain": [
       "2013.0"
      ]
     },
     "execution_count": 54,
     "metadata": {},
     "output_type": "execute_result"
    }
   ],
   "source": [
    "tate_country['acquisitionYear'].max()"
   ]
  },
  {
   "cell_type": "code",
   "execution_count": 55,
   "metadata": {
    "scrolled": true
   },
   "outputs": [],
   "source": [
    "# create a new DataFrame of all of the works before 2013\n",
    "d = datetime.datetime(2014, 1, 1)\n",
    "moma_before_2013 = names_dates_moma[names_dates_moma['Acquisition Date'] < d]\n",
    "moma_after_2013 = names_dates_moma[names_dates_moma['Acquisition Date'] > d]"
   ]
  },
  {
   "cell_type": "markdown",
   "metadata": {},
   "source": [
    "### How does the diversity of the two museums compare?"
   ]
  },
  {
   "cell_type": "markdown",
   "metadata": {},
   "source": [
    "#### Comparing Western vs non-Western Art in each museum"
   ]
  },
  {
   "cell_type": "markdown",
   "metadata": {},
   "source": [
    "The first visualization that we made, compares the diversity of the artists at both the Tate and the MoMA by looking at how many artists are Western or non-Western."
   ]
  },
  {
   "cell_type": "code",
   "execution_count": 56,
   "metadata": {},
   "outputs": [],
   "source": [
    "# get the counts of works by Western and non-Western artists in MoMA before 2013\n",
    "moma_European = moma_before_2013['European?'].value_counts()"
   ]
  },
  {
   "cell_type": "code",
   "execution_count": 57,
   "metadata": {},
   "outputs": [],
   "source": [
    "# get the counts of works by Western and non-Western artists in the Tate\n",
    "tate_European = tate_country['European?'].value_counts()"
   ]
  },
  {
   "cell_type": "code",
   "execution_count": 58,
   "metadata": {},
   "outputs": [
    {
     "data": {
      "image/png": "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\n",
      "text/plain": [
       "<Figure size 864x864 with 2 Axes>"
      ]
     },
     "metadata": {},
     "output_type": "display_data"
    }
   ],
   "source": [
    "# create and format pie charts\n",
    "fig, (ax1, ax2) = plot.subplots(1, 2)\n",
    "moma_European.plot.pie(ax=ax1,  autopct='%.2f')\n",
    "ax1.set_title(\"MoMA Western vs Non Western\")\n",
    "\n",
    "tate_European.plot.pie(ax=ax2, autopct='%.2f')\n",
    "ax2.set_title(\"Tate Western vs Non Western\")\n",
    "\n",
    "fig.subplots_adjust(wspace=.5)\n",
    "fig.set_figheight(12)\n",
    "fig.set_figwidth(12)"
   ]
  },
  {
   "cell_type": "markdown",
   "metadata": {},
   "source": [
    "<strong> Conclusion: </strong> This comparison shows that the MoMA, even before its renovation, was ahead of the Tate with regard to artists who were not of European or Western descent."
   ]
  },
  {
   "cell_type": "markdown",
   "metadata": {},
   "source": [
    "### Comparing Art by Male vs Female artists in each museum"
   ]
  },
  {
   "cell_type": "markdown",
   "metadata": {},
   "source": [
    "Next we chose to look at the differences in sizes of the male and female population at both the Tate and the MoMA, as this was another area that the MoMA was striving the improve."
   ]
  },
  {
   "cell_type": "code",
   "execution_count": 59,
   "metadata": {},
   "outputs": [],
   "source": [
    "# get the counts of works by male and female artists in MoMA before 2013\n",
    "moma_gender = moma_before_2013['Gender'].value_counts()"
   ]
  },
  {
   "cell_type": "code",
   "execution_count": 60,
   "metadata": {},
   "outputs": [],
   "source": [
    "# get the counts of works by male and female artists in the Tate\n",
    "tate_gender = tate_country['gender'].value_counts()"
   ]
  },
  {
   "cell_type": "code",
   "execution_count": 61,
   "metadata": {},
   "outputs": [
    {
     "data": {
      "image/png": "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\n",
      "text/plain": [
       "<Figure size 864x864 with 2 Axes>"
      ]
     },
     "metadata": {},
     "output_type": "display_data"
    }
   ],
   "source": [
    "# create and format pie charts\n",
    "fig, (ax3, ax4) = plot.subplots(1, 2)\n",
    "moma_gender.plot.pie(ax=ax3, autopct='%.2f')\n",
    "ax3.set_title(\"MoMA Male vs Female Artists\")\n",
    "\n",
    "tate_gender.plot.pie(ax=ax4, autopct='%.2f')\n",
    "ax4.set_title(\"Tate Male vs Female Artists\")\n",
    "\n",
    "fig.subplots_adjust(wspace=.5)\n",
    "fig.set_figheight(12)\n",
    "fig.set_figwidth(12)"
   ]
  },
  {
   "cell_type": "markdown",
   "metadata": {},
   "source": [
    "<strong> Conclusion: </strong>This is an interesting comparison, as it once again shows that the MoMA has a greater diversity than the Tate did before its renovation, as it has a much larger proportion of female artists to male artists."
   ]
  },
  {
   "cell_type": "markdown",
   "metadata": {},
   "source": [
    "### Comparing Art by Male vs Female artists of nonWestern art in each museum"
   ]
  },
  {
   "cell_type": "markdown",
   "metadata": {},
   "source": [
    "What about the male/female ratio when looking at non-European/Western artists? \n"
   ]
  },
  {
   "cell_type": "code",
   "execution_count": 62,
   "metadata": {},
   "outputs": [],
   "source": [
    "# get the counts of Western and non-Western works by gender in MoMA before 2013\n",
    "moma_western_gender = moma_before_2013[moma_before_2013['European?'] == 'False']['Gender'].value_counts()"
   ]
  },
  {
   "cell_type": "code",
   "execution_count": 63,
   "metadata": {},
   "outputs": [],
   "source": [
    "# get the counts of Western and non-Western works by gender in the Tate\n",
    "tate_western_gender = tate_country[tate_country['European?'] == 'False']['gender'].value_counts()"
   ]
  },
  {
   "cell_type": "code",
   "execution_count": 64,
   "metadata": {},
   "outputs": [
    {
     "data": {
      "image/png": "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
