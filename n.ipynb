{
 "cells": [
  {
   "cell_type": "markdown",
   "metadata": {},
   "source": [
    "[Link to our site](https://lindsayhardy17.github.io/)"
   ]
  },
  {
   "cell_type": "markdown",
   "metadata": {},
   "source": [
    "# <center>Evaluating the changes in art museums </center>\n",
    "### <center>Lindsay Hardy and Emily O'Connell </center>"
   ]
  },
  {
   "cell_type": "markdown",
   "metadata": {},
   "source": [
    "### Goals"
   ]
  },
  {
   "cell_type": "markdown",
   "metadata": {},
   "source": [
    "For our project, we will be analyzing a [dataset](https://github.com/MuseumofModernArt/collection/blob/master/Artworks.csv) concerning the collection of the Museum of Modern Art (MoMA). The MoMA over the past twenty years has gone through a couple expansions, the first finishing in 2004 and the second finishing in 2019. For our analysis we mainly plan to focus on its changes that started in 2014.\n",
    "\n",
    "In 2014 MoMA revealed its plans to expand and add 47,000 square feet to its current gallery space. This addition the MoMA said will allow for new and innovative displays and reorganization of the museum. With this expansion they had distinct goals of \"diversifying the canon, embracing the present, and showing 1,000 more of its artworks.\" Through this the curators plan to spotlight the work of women, African American, Asian, and Latino artists who have been previously overlooked in the collection. “We feel that many, many regions that once seemed peripheral don’t seem that way any more, they seem central. Figures who once seemed secondary now seem primary,” said MoMA chief curator Ann Temkin. In order to do this the MoMA has had to actively work over the past years to diversify their collection so that they will be able to accurately meet the goals that they had laid out for themselves. \n",
    "\n",
    "When looking at the MoMA dataset, with their goals in mind, our overarching question is exploring whether or not MoMA fulfilled its goal of expanding the diversity of its art collection. In order to see if this shift was reflected in their collection and acquisitions, we will attempt to measure the overall diversity a work adds to the collection by analyzing the relevant aspects of the artwork such as the artist's nationality, the artist’s gender, the year the work was created, the year it was acquired, and various other factors. Although it is impossible to truly quantify the abstract concept of diversity, we believe that analyzing overall patterns in acquisitions will be helpful in determining whether or not MoMA has been successful in its goal of introducing new viewpoints to its collection. \n",
    "\n",
    "### The questions that we plan to answer: \n",
    "1. Is there an overwhelming number of male artists represented?\n",
    "2. Has MoMA recently been acquiring artwork from non-American at a higher frequency than in the past?\n",
    "3. Is the artwork acquired from non-American artists from Western European countries or elsewhere?\n",
    "4. How does the average age of a work of art change in different time periods? \n",
    "\n",
    "By answering all of these smaller questions, we will be able to make a judgement on our overall  research question of assessing the diversity of the collection in recent years. We will also look at the trends over time to see if there are changes in what kind of artwork MoMA typically collects and note any differences between time periods. We have found a rich and detailed dataset with 130,262 works of art owned by MoMA acquired from 1929 to 2017. Although our dataset for the MoMA stops at 2017, but we believe that we will be able to conduct a thourough analysis of their goals, as they laid out their goals for changes in early 2014, so we will have around three years of data to work with and compare with their previous activities. So in all we will have a lot of information pertaining to the type of artwork MoMA has acquired in different time periods.  \n",
    "\n",
    "### Comparison with other museums\n",
    "In addition to the thorough analysis we will conduct on MoMA dataset, we also plan to compare the MoMA’s collection to other large modern/contemporary art museums like the [Tate](https://github.com/tategallery/collection), a modern art museum in London. Through a comparison of the Tate and the MoMA we will be able to see if there are any differences in collections and trends between museums in two different countries. The Tate's collection is slightly smaller than MoMA's, only having 70,000 works, and the dataset that we have only representing 69,274 of those works. Because of this when we conduct comparisons between the two datasets we will need to be mindful of the difference in size of the two museums.\n",
    "\n",
    "We will also investigate the collection of the [Metropolitan Museum of Art](https://github.com/metmuseum/openaccess), another famous art museum in New York City. Even though the Met is not specifically focused on modern art, we will be able to key into its modern/contemporary art collection and only focus specifically on those works. The number of modern/contemporary works that the Met has is much smaller than the MoMAs, only 13,452, but we believe this will still allow us some insight into the differences and similarities between the two museums. By comparing the MoMA to these other museums we will be able to see if they not only reached their goals but if their goals place them as a forward thinker on modern art and not just a part of the crowd. \n",
    "\n",
    "### Outline\n",
    "We have laid out our work flow below by starting with cleaning the MoMA data, then conducting individual analysis on it to answer our questions stated above. Then we clean the Tate data and compare it to the data from the MoMA. Afterwards we clean the Met data, and in a similar fashion to how we compared the Tate dataset, we will do the same analysis between the Met and the MoMA. Finally we have a conclusion section at the bottom stating our overall findings and what we believe the analysis has shown us.\n",
    "\n",
    "### Collaboration Plan\n",
    "In terms of collaboration, we have set up a [GitHub repository](https://github.com/lindsayhardy17/lindsayhardy17.github.io) and plan for storing the datasets, sharing code, and version control. We plan to meet on Zoom once a week on Tuesdays at 3:10, right after class, and will also be flexible with adding a second time to meet on Thursday after class as well.  During these meetings we plan to check our progress, solve problems, and ask questions, in addition to communicating outside of scheduled meetings as needed.\n",
    "\n",
    "\n",
    "\n",
    "\n",
    "\n"
   ]
  },
  {
   "cell_type": "markdown",
   "metadata": {},
   "source": [
    "### Milestone - Data Extraction, Cleaning, and Loading"
   ]
  },
  {
   "cell_type": "markdown",
   "metadata": {},
   "source": [
    "The first thing that we needed to do was unzip our files. We originally tried to pull the data from the github repo, but the MoMA has a no pull policy. So instead we downloaded the data from kaggle."
   ]
  },
  {
   "cell_type": "code",
   "execution_count": null,
   "metadata": {},
   "outputs": [],
   "source": [
    "import pandas as pd\n",
    "import zipfile\n",
    "import numpy as np\n",
    "import re\n",
    "import datetime\n",
    "import matplotlib.pyplot as plot\n",
    "import matplotlib.ticker as ticker\n",
    "import geopandas as gpd\n",
    "pd.options.mode.chained_assignment = None"
   ]
  },
  {
   "cell_type": "markdown",
   "metadata": {},
   "source": [
    "For this first milestone the only things we needed were zipfile and pandas. So We unzipped the files and placed them in a working form in our folder"
   ]
  },
  {
   "cell_type": "code",
   "execution_count": null,
   "metadata": {},
   "outputs": [],
   "source": [
    "with zipfile.ZipFile('archive.zip', 'r') as zip_ref:\n",
    "    zip_ref.extractall()"
   ]
  },
  {
   "cell_type": "markdown",
   "metadata": {},
   "source": [
    "Next we read in the Artworks file and the Artists file and created a new dataframe called gender. We will be analyzing the gender and nationality of the artists so we wanted it in our main dataframe. Originally we tried to merge the two dataframes on 'Artist ID', but upon a closer look, \"Artist ID\" had multiple ids in the artworks dataframe but not in the artists dataframe. Some had up to 5 ids while others only had 1. Because of this we decided to just merge on \"Name\" because of its consistence across both dataframes. Once we merged we renamed the dataframe \"moma\". The resulting dataframe is made up of the works title, the artist and their background, the name of the work, information on the medium and different measurement types, when the moma acquired the work, and a couple other minor things. We are looking to analyze the dataframe to find insights on the dates that they were acquired with regard to when the works were made and if there were significant changes in the works acquired after a certain year. We think with this dataset we will be able to do all of these things because of the columns below, but will need to make sure that the columns are in the correct format."
   ]
  },
  {
   "cell_type": "code",
   "execution_count": null,
   "metadata": {},
   "outputs": [],
   "source": [
    "moma_artworks = pd.read_csv(\"Artworks.csv\")\n",
    "moma_artists = pd.read_csv(\"Artists.csv\")\n",
    "moma_artists.columns"
   ]
  },
  {
   "cell_type": "code",
   "execution_count": null,
   "metadata": {
    "scrolled": true
   },
   "outputs": [],
   "source": [
    "gender = moma_artists[[\"Gender\", 'Name', 'Nationality', 'Birth Year','Death Year']]\n",
    "moma = moma_artworks.merge(gender, on = ['Name'], how = 'left')\n",
    "moma['Gender'] = moma['Gender'].replace({'male':'Male'})\n",
    "moma.head()"
   ]
  },
  {
   "cell_type": "markdown",
   "metadata": {},
   "source": [
    "Then we checked on the datatypes, everything looked like it was the right type of object except for the dates, so we first changed Acquisition Date"
   ]
  },
  {
   "cell_type": "code",
   "execution_count": null,
   "metadata": {},
   "outputs": [],
   "source": [
    "display(moma.dtypes)\n",
    "#checked to see if the values are correct, the date and the acquisition date aren't in date time so converting them\n",
    "moma['Acquisition Date'] = pd.to_datetime(moma['Acquisition Date'], errors = 'coerce')\n",
    "#changed to datetime\n",
    "moma.dtypes"
   ]
  },
  {
   "cell_type": "markdown",
   "metadata": {},
   "source": [
    "While we were checking the different values we realized that the Date, the year the artword was created, had a lot of different problems and could not be analyzed because of its different date representations, like having 1967-1977, or c. 1989, or early 1992. Because of this we had to fix the Date column, which is shown below. Having this column be correct is very important to us because the date of creation is crucial to our analysis."
   ]
  },
  {
   "cell_type": "code",
   "execution_count": null,
   "metadata": {},
   "outputs": [],
   "source": [
    "moma['Date'].unique()[:100]\n",
    "#a small sample of the unique types and their differences "
   ]
  },
  {
   "cell_type": "code",
   "execution_count": null,
   "metadata": {},
   "outputs": [],
   "source": [
    "n_d = moma[(moma[\"Date\"] == \"nan\") | (moma[\"Date\"] == \"n.d\") | (moma[\"Date\"] == \"Unkn\") | (moma[\"Date\"] == \"Unknown\") | (moma[\"Date\"] == \"Various\") | (moma[\"Date\"] == \"unknown\")].index\n",
    "moma.drop(n_d, inplace = True)"
   ]
  },
  {
   "cell_type": "markdown",
   "metadata": {},
   "source": [
    "First we removed the obvious components that were incorrect, but then realized the large extent to which the dataset had issues, so we used regular expressions to extract a date, shown below, and then checked the remaining dates that were not in the correct format that we missed"
   ]
  },
  {
   "cell_type": "code",
   "execution_count": null,
   "metadata": {},
   "outputs": [],
   "source": [
    "moma['date_edit'] = moma['Date'].str.extract('(\\d{4})', expand = False)\n",
    "#creating a new column to store the dates\n",
    "moma[(moma['date_edit'].isnull() == True) & (moma['Date'].isnull() == False)]['Date'].unique()\n",
    "#checking where the date_edit is null but the Date is true - these will be the remaining dates that could\n",
    "#not be converted to a correct date format with four numbers"
   ]
  },
  {
   "cell_type": "markdown",
   "metadata": {},
   "source": [
    "Because none of these dates had any meaning to us, we could officially switch over to have the date_edit column be our official date column, which we do below"
   ]
  },
  {
   "cell_type": "code",
   "execution_count": null,
   "metadata": {},
   "outputs": [],
   "source": [
    "moma['Date'] = moma['date_edit']\n",
    "moma.drop(columns=['date_edit'], inplace = True)\n",
    "moma['Date'].unique()\n",
    "#one last check to make sure that all of our corresponding values are actually dates"
   ]
  },
  {
   "cell_type": "markdown",
   "metadata": {},
   "source": [
    "After we officially had all the values as dates we converted them to a date time"
   ]
  },
  {
   "cell_type": "code",
   "execution_count": null,
   "metadata": {},
   "outputs": [],
   "source": [
    "# convert the strings back to integers\n",
    "moma['Date'] = pd.to_datetime(moma['Date'], errors=\"coerce\")\n",
    "moma['Date'] = moma['Date'].dt.year"
   ]
  },
  {
   "cell_type": "markdown",
   "metadata": {},
   "source": [
    "One of the main things that we will be looking at is when the MoMA acquired the work of art. Without this knowledge we won't be able to see if they really changed following their addition. Because of this we removed works that did not have a date from the original dataframe moma. We decided not to remove the date of the creation of art for right now because we believe those works could potentially be useful."
   ]
  },
  {
   "cell_type": "code",
   "execution_count": null,
   "metadata": {},
   "outputs": [],
   "source": [
    "no_date = moma[(moma['Acquisition Date'].isnull() == True)].index\n",
    "moma.drop(no_date, inplace = True)\n",
    "#dropped dates that didn't have an acquisition date"
   ]
  },
  {
   "cell_type": "markdown",
   "metadata": {},
   "source": [
    "We realized we needed to add an age in to see when the artist created the work, because that could be something interesting to analyze"
   ]
  },
  {
   "cell_type": "code",
   "execution_count": null,
   "metadata": {},
   "outputs": [],
   "source": [
    "moma['age_made'] = moma['Date'] - moma['Birth Year']\n",
    "moma['alive?'] = moma['Date']"
   ]
  },
  {
   "cell_type": "code",
   "execution_count": null,
   "metadata": {},
   "outputs": [],
   "source": [
    "def alive(acquisition,death):\n",
    "    if acquisition > death:\n",
    "        return 'False'\n",
    "    else:\n",
    "        return 'True'\n",
    "moma['Acquisition Year'] = moma['Acquisition Date'].dt.year\n",
    "moma['alive?'] = moma.apply(lambda row: alive(row['Acquisition Year'],row['Death Year']),axis=1)"
   ]
  },
  {
   "cell_type": "markdown",
   "metadata": {},
   "source": [
    "We used apply above to check each row to see if the artist was alive when the work was acquired, then made a column called alive? that was true if they were alive and false if they weren't"
   ]
  },
  {
   "cell_type": "code",
   "execution_count": null,
   "metadata": {},
   "outputs": [],
   "source": [
    "ids = moma[['Artwork ID', 'Artist ID']]\n",
    "names_dates_moma = moma[['Title', 'Name', 'Date', 'Acquisition Date', 'Artwork ID', 'Gender', 'Credit', 'Nationality','age_made'\n",
    "                   , 'alive?']]\n",
    "dimensions = moma[['Artwork ID','Dimensions', 'Diameter (cm)',\n",
    "       'Circumference (cm)', 'Height (cm)', 'Length (cm)', 'Width (cm)',\n",
    "       'Depth (cm)', 'Weight (kg)', 'Duration (s)']]\n",
    "credit = moma[['Artwork ID','Credit']]\n",
    "extra = moma[['Medium', 'Department', 'Classification', 'Artwork ID']]"
   ]
  },
  {
   "cell_type": "markdown",
   "metadata": {},
   "source": [
    "From looking at these unique values we can see that there are a couple of ways to designate if a person had an unknown nationality, which we deal with below. But all the nationalities, if they exhist, are in English and in a correct format."
   ]
  },
  {
   "cell_type": "code",
   "execution_count": null,
   "metadata": {},
   "outputs": [],
   "source": [
    "names_dates_moma.loc[names_dates_moma['Nationality'] == 'nan', 'Nationality'] = np.nan\n",
    "names_dates_moma.loc[names_dates_moma['Nationality'] == 'Nationality unknown', 'Nationality'] = np.nan\n",
    "names_dates_moma.loc[names_dates_moma['Nationality'] == 'Nationality Unknown', 'Nationality'] = np.nan\n",
    "names_dates_moma.loc[names_dates_moma['Nationality'] == 'Various', 'Nationality'] = np.nan\n",
    "names_dates_moma.loc[names_dates_moma['Nationality'] == 'nationality unknown', 'Nationality'] = np.nan"
   ]
  },
  {
   "cell_type": "markdown",
   "metadata": {},
   "source": [
    "In order to tell if the person is european or not, we mad a list of all the nationalities that the MoMA has that are non-European/Western nationalities."
   ]
  },
  {
   "cell_type": "code",
   "execution_count": null,
   "metadata": {},
   "outputs": [],
   "source": [
    "nationalities_moma = ['Japanese',  'Argentine', \n",
    " 'Brazilian', 'Russian',\n",
    "       'Iranian',\n",
    "       'Mexican', 'Cuban', 'Chilean',\n",
    "       'Puerto Rican', 'Uruguayan', 'Venezuelan', 'Moroccan', 'Colombian',\n",
    "       'Australian', 'Chinese', 'Yugoslav', 'Latvian',\n",
    "       'Haitian', 'Israeli', 'Icelandic', 'Thai', 'Algerian', 'Guatemalan', 'Indian',\n",
    "       'Ukrainian', 'Costa Rican', 'Korean', 'Ethiopian',\n",
    "       'Kuwaiti', 'South African', 'Zimbabwean',\n",
    "       'Panamanian', 'Ecuadorian', 'Peruvian', 'Congolese', 'Malian',\n",
    "       'Turkish', 'Cambodian', 'Bosnian', 'Canadian Inuit',\n",
    "       'Estonian', 'Pakistani', 'Bolivian', 'Taiwanese', 'Paraguayan',\n",
    "       'Nicaraguan', 'Tunisian', 'Sudanese', 'Tanzanian', 'Guyanese',\n",
    "       'Senegalese', 'Bahamian', 'Lebanese', 'Kenyan',\n",
    "       'Nigerian', 'Georgian', 'Egyptian', 'Albanian', 'Azerbaijani',\n",
    "       'Ivorian', 'Malaysian', 'Singaporean', 'Serbian', 'Lithuanian',\n",
    "       'Tajik', 'New Zealander', 'Namibian', 'Native American',\n",
    "       'Ghanaian', 'Afghan', 'Ugandan',\n",
    "       'Cameroonian', 'Welsh', 'Mauritanian', 'Palestinian', 'Syrian',\n",
    "       'Saudi Arabian', 'Kazakhstani', 'Rwandan', 'Iraqi', 'Indonesian',\n",
    "       'Vietnamese', 'Burkinabe', 'Macedonian', 'Kyrgyzstani', 'Filipino',\n",
    "       'Mozambican', 'Angolan']"
   ]
  },
  {
   "cell_type": "markdown",
   "metadata": {},
   "source": [
    "Then we made a function for the MoMA, like we had for the Tate, that designated if a person was European/Western or not, created a new column, and placed it in the MoMA dataframe."
   ]
  },
  {
   "cell_type": "code",
   "execution_count": null,
   "metadata": {},
   "outputs": [],
   "source": [
    "names_dates_moma['European?'] = ['False'] * len(names_dates_moma['Nationality'])"
   ]
  },
  {
   "cell_type": "code",
   "execution_count": null,
   "metadata": {},
   "outputs": [],
   "source": [
    "index = names_dates_moma['Nationality'].index\n",
    "for x in index:\n",
    "    if names_dates_moma.loc[x,'Nationality'] in nationalities_moma:\n",
    "        names_dates_moma.loc[x,'European?'] = 'False'\n",
    "    elif names_dates_moma.loc[x,'Nationality'] == np.nan:\n",
    "        names_dates_moma.loc[x,'European?'] = np.nan\n",
    "    else:\n",
    "        names_dates_moma.loc[x,'European?'] = 'True'"
   ]
  },
  {
   "cell_type": "markdown",
   "metadata": {},
   "source": [
    "## Analysis: Trends in the MoMA Dataset"
   ]
  },
  {
   "cell_type": "markdown",
   "metadata": {},
   "source": [
    "### Has MoMA acquired more diverse (based on gender and nationality) works of art in recent years?"
   ]
  },
  {
   "cell_type": "code",
   "execution_count": null,
   "metadata": {},
   "outputs": [],
   "source": [
    "# number of works by female artists acquired each year \n",
    "female_by_year = moma[moma.Gender == 'Female'].groupby(['Acquisition Year']).count()\n",
    "female_by_year[\"Artwork ID\"]\n",
    "\n",
    "# number of works by non American artists acquired each year \n",
    "nonAmerican_by_year = moma[moma.Nationality != 'American'].groupby(['Acquisition Year']).count()"
   ]
  },
  {
   "cell_type": "code",
   "execution_count": null,
   "metadata": {},
   "outputs": [],
   "source": [
    "# The number of works by female acquired each year\n",
    "female_graph = female_by_year[\"Artwork ID\"].plot(kind='bar', figsize=(16, 5), title = \"Number of Works by Female Artists Acquired\")\n",
    "female_graph.figure.tight_layout()\n",
    "female_graph"
   ]
  },
  {
   "cell_type": "code",
   "execution_count": null,
   "metadata": {},
   "outputs": [],
   "source": [
    "# The number of works by female acquired each year\n",
    "nonAmerican_graph = nonAmerican_by_year[\"Artwork ID\"].plot(kind='bar', figsize=(16, 5), title = \"Number of Works by Non-American Artists Acquired\")\n",
    "nonAmerican_graph.figure.tight_layout()"
   ]
  },
  {
   "cell_type": "markdown",
   "metadata": {},
   "source": [
    "<strong>Conclusion: </strong> There is no discernable pattern in the number of diverse works that MoMA acquires each year. However, in the past 20 years, there has been an increase in years that have a high number of works of art by female or non-American artists."
   ]
  },
  {
   "cell_type": "markdown",
   "metadata": {},
   "source": [
    "## Has the MoMA strived to acquire art by more recent artists?"
   ]
  },
  {
   "cell_type": "code",
   "execution_count": null,
   "metadata": {},
   "outputs": [],
   "source": [
    "names_dates_moma['acquisitionYear'] = names_dates_moma['Acquisition Date'].dt.year\n",
    "dead = pd.DataFrame(names_dates_moma[names_dates_moma['alive?'] == 'False'].groupby('acquisitionYear')['alive?'].value_counts())\n",
    "dead['count'] = dead['alive?']\n",
    "dead.drop(columns = ['alive?'], inplace = True)\n",
    "dead = dead.reset_index()\n",
    "dead.drop(columns = ['alive?'], inplace = True)\n",
    "dead = dead[dead['acquisitionYear']>1975]\n",
    "dead['table'] = \"dead\"\n",
    "dead_table = dead.pivot(index='acquisitionYear', columns = 'table', values = 'count')\n",
    "\n",
    "alive = pd.DataFrame(names_dates_moma[names_dates_moma['alive?'] == 'True'].groupby('acquisitionYear')['alive?'].value_counts())\n",
    "alive['count'] = alive['alive?']\n",
    "alive.drop(columns = ['alive?'], inplace = True)\n",
    "alive = alive.reset_index()\n",
    "alive.drop(columns = ['alive?'], inplace = True)\n",
    "alive = alive[alive['acquisitionYear']>1975]\n",
    "alive['table'] = \"alive\"\n",
    "alive_table = alive.pivot(index='acquisitionYear', columns = 'table', values = 'count')\n",
    "\n",
    "#merging the two tables together on acquisitionYear\n",
    "new = dead_table.merge(alive_table, on = 'acquisitionYear')\n",
    "\n",
    "#plotting the graph\n",
    "new.loc[:,['alive','dead']].plot.bar(stacked=True, figsize=(10,7), title = \"Acquistion of Living vs Dead Artists Over a 38 year period\")"
   ]
  },
  {
   "cell_type": "markdown",
   "metadata": {},
   "source": [
    "<strong>Conclusion<strong>: They have consistently acquired works by living artists more frequently than works by dead artists."
   ]
  },
  {
   "cell_type": "markdown",
   "metadata": {},
   "source": [
    "## American vs Western Non-American vs Non-Western Non-American"
   ]
  },
  {
   "cell_type": "code",
   "execution_count": null,
   "metadata": {},
   "outputs": [],
   "source": [
    "names_dates_moma.head()"
   ]
  },
  {
   "cell_type": "code",
   "execution_count": null,
   "metadata": {},
   "outputs": [],
   "source": [
    "# A = American, NA-W = Non-American Western, NWNA - Non-Western Non-American\n",
    "moma_nation = names_dates_moma[names_dates_moma['Nationality'].notna()]\n",
    "def nationality(nation):\n",
    "    if nation == 'American':\n",
    "        return 'A'\n",
    "    if nation not in nationalities_moma:\n",
    "        return 'NA-W'\n",
    "    else:\n",
    "        return 'NWNA'\n",
    "moma_nation['Western/American'] = moma_nation.apply(lambda row: nationality(row['Nationality']),axis=1)"
   ]
  },
  {
   "cell_type": "code",
   "execution_count": null,
   "metadata": {},
   "outputs": [],
   "source": [
    "moma_nation['acquisitionYear'] = moma_nation['Acquisition Date'].dt.year\n",
    "A = pd.DataFrame(moma_nation[moma_nation['Western/American'] == 'A'].groupby('acquisitionYear')['Western/American'].value_counts())\n",
    "A['count'] = A['Western/American']\n",
    "A.drop(columns = ['Western/American'], inplace = True)\n",
    "A = A.reset_index()\n",
    "A.drop(columns = ['Western/American'], inplace = True)\n",
    "A = A[A['acquisitionYear']>1975]\n",
    "A['table'] = \"A\"\n",
    "A_table = A.pivot(index='acquisitionYear', columns = 'table', values = 'count')\n",
    "\n",
    "NAW = pd.DataFrame(moma_nation[moma_nation['Western/American'] == 'NA-W'].groupby('acquisitionYear')['Western/American'].value_counts())\n",
    "NAW['count'] = NAW['Western/American']\n",
    "NAW.drop(columns = ['Western/American'], inplace = True)\n",
    "NAW = NAW.reset_index()\n",
    "NAW.drop(columns = ['Western/American'], inplace = True)\n",
    "NAW = NAW[NAW['acquisitionYear']>1975]\n",
    "NAW['table'] = \"NAW\"\n",
    "NAW_table = NAW.pivot(index='acquisitionYear', columns = 'table', values = 'count')\n",
    "\n",
    "NWNA = pd.DataFrame(moma_nation[moma_nation['Western/American'] == 'NWNA'].groupby('acquisitionYear')['Western/American'].value_counts())\n",
    "NWNA['count'] = NWNA['Western/American']\n",
    "NWNA.drop(columns = ['Western/American'], inplace = True)\n",
    "NWNA = NWNA.reset_index()\n",
    "NWNA.drop(columns = ['Western/American'], inplace = True)\n",
    "NWNA = NWNA[NWNA['acquisitionYear']>1975]\n",
    "NWNA['table'] = \"NAW\"\n",
    "NWNA_table = NWNA.pivot(index='acquisitionYear', columns = 'table', values = 'count')\n",
    "\n",
    "#merging the two tables together on acquisitionYear\n",
    "new1 = A_table.merge(NAW_table, on = 'acquisitionYear')\n",
    "new2 = new1.merge(NWNA_table, on = 'acquisitionYear')\n",
    "new2 = new2.reset_index()\n",
    "\n",
    "plot.bar(new2['acquisitionYear'], new2['A'], color='r', edgecolor='white', label = 'A')\n",
    "plot.bar(new2['acquisitionYear'], new2['NAW_x'], color='b', edgecolor='white', label = 'NAW')\n",
    "plot.bar(new2['acquisitionYear'], new2['NAW_y'], color='g', edgecolor='white', label = 'NWNA')\n",
    "\n",
    "plot.show()"
   ]
  },
  {
   "cell_type": "markdown",
   "metadata": {},
   "source": [
    "## Map!"
   ]
  },
  {
   "cell_type": "code",
   "execution_count": 284,
   "metadata": {},
   "outputs": [
    {
     "data": {
      "text/plain": [
       "<AxesSubplot:>"
      ]
     },
     "execution_count": 284,
     "metadata": {},
     "output_type": "execute_result"
    },
    {
     "data": {
      "image/png": "[encoded data removed]",
      "text/plain": [
       "<Figure size 432x288 with 1 Axes>"
      ]
     },
     "metadata": {
      "needs_background": "light"
     },
     "output_type": "display_data"
    }
   ],
   "source": [
    "# read the natural earth shape file as a GeoDataFrame\n",
    "world = gpd.read_file(gpd.datasets.get_path('naturalearth_lowres'))\n",
    "\n",
    "# drop Antartica because it takes up too much space\n",
    "world = world.drop(world.index[159])\n",
    "\n",
    "#here's the world map we will use\n",
    "world.plot()"
   ]
  },
  {
   "cell_type": "code",
   "execution_count": 338,
   "metadata": {},
   "outputs": [
    {
     "data": {
      "text/plain": [
       "{nan}"
      ]
     },
     "execution_count": 338,
     "metadata": {},
     "output_type": "execute_result"
    }
   ],
   "source": [
    "nationalty_to_country = pd.read_csv(\"demonyms.csv\")\n",
    "set(names_dates_moma.Nationality.unique()) - set(nationalty_to_country[\"Nationality\"])"
   ]
  },
  {
   "cell_type": "markdown",
   "metadata": {},
   "source": [
    "Since the MoMA DataFrame lists nationality and not country of origin, we need to conver the nationalities into the country names. We used a demonyms dataset that included Nationalities paired with their country names. We then looked at all of the elements that are in the MoMA dataset but not in the demonyms dataset. It returns an empty set, so we're good to go!"
   ]
  },
  {
   "cell_type": "code",
   "execution_count": 339,
   "metadata": {},
   "outputs": [
    {
     "data": {
      "text/html": [
       "<div>\n",
       "<style scoped>\n",
       "    .dataframe tbody tr th:only-of-type {\n",
       "        vertical-align: middle;\n",
       "    }\n",
       "\n",
       "    .dataframe tbody tr th {\n",
       "        vertical-align: top;\n",
       "    }\n",
       "\n",
       "    .dataframe thead th {\n",
       "        text-align: right;\n",
       "    }\n",
       "</style>\n",
       "<table border=\"1\" class=\"dataframe\">\n",
       "  <thead>\n",
       "    <tr style=\"text-align: right;\">\n",
       "      <th></th>\n",
       "      <th>name</th>\n",
       "      <th>works_per_country</th>\n",
       "    </tr>\n",
       "  </thead>\n",
       "  <tbody>\n",
       "    <tr>\n",
       "      <th>0</th>\n",
       "      <td>United States of America</td>\n",
       "      <td>52713</td>\n",
       "    </tr>\n",
       "    <tr>\n",
       "      <th>1</th>\n",
       "      <td>France</td>\n",
       "      <td>22700</td>\n",
       "    </tr>\n",
       "    <tr>\n",
       "      <th>2</th>\n",
       "      <td>Germany</td>\n",
       "      <td>8362</td>\n",
       "    </tr>\n",
       "    <tr>\n",
       "      <th>3</th>\n",
       "      <td>United Kingdom</td>\n",
       "      <td>6420</td>\n",
       "    </tr>\n",
       "    <tr>\n",
       "      <th>4</th>\n",
       "      <td>Mexico</td>\n",
       "      <td>4032</td>\n",
       "    </tr>\n",
       "  </tbody>\n",
       "</table>\n",
       "</div>"
      ],
      "text/plain": [
       "                       name  works_per_country\n",
       "0  United States of America              52713\n",
       "1                    France              22700\n",
       "2                   Germany               8362\n",
       "3            United Kingdom               6420\n",
       "4                    Mexico               4032"
      ]
     },
     "execution_count": 339,
     "metadata": {},
     "output_type": "execute_result"
    }
   ],
   "source": [
    "# Compute the number of works from each country\n",
    "# find the number of works per country and add it to a DataFrame\n",
    "works_per_country = moma_nationalities[\"name\"].value_counts()\n",
    "works_per_country = works_per_country.to_frame().reset_index()\n",
    "works_per_country = works_per_country.rename(columns={\"index\": \"name\", \"name\": \"works_per_country\"})\n",
    "works_per_country.head()"
   ]
  },
  {
   "cell_type": "code",
   "execution_count": 340,
   "metadata": {},
   "outputs": [],
   "source": [
    "# merge the MoMA data with the demonyms data to pair the appropriate country with each nationality\n",
    "moma_nationalities = pd.merge(nationalty_to_country, names_dates_moma, on=\"Nationality\", how='inner')\n",
    "\n",
    "# drop columns that aren't useful for the map\n",
    "moma_nationalities.drop(moma_nationalities.columns.difference(['name','Artwork ID']), 1, inplace=True)\n",
    "\n",
    "# merge the MoMA data with country names and the GeoSpacial data for the whole world\n",
    "map_data = pd.merge(moma_nationalities, world, how='inner', on=\"name\")\n",
    "map_data\n",
    "\n",
    "# Finally, merge all fo the map data with the number of works per country\n",
    "map_data = pd.merge(map_data, works_per_country , how='inner', on=\"name\")\n",
    "\n",
    "# convert the DataFrame to a GeoDataFrame\n",
    "map_data = gpd.GeoDataFrame(map_data)\n",
    "map_data = map_data.rename(columns={'name':'Country'})"
   ]
  },
  {
   "cell_type": "code",
   "execution_count": 356,
   "metadata": {},
   "outputs": [
    {
     "data": {
      "text/html": [
       "<div>\n",
       "<style scoped>\n",
       "    .dataframe tbody tr th:only-of-type {\n",
       "        vertical-align: middle;\n",
       "    }\n",
       "\n",
       "    .dataframe tbody tr th {\n",
       "        vertical-align: top;\n",
       "    }\n",
       "\n",
       "    .dataframe thead th {\n",
       "        text-align: right;\n",
       "    }\n",
       "</style>\n",
       "<table border=\"1\" class=\"dataframe\">\n",
       "  <thead>\n",
       "    <tr style=\"text-align: right;\">\n",
       "      <th></th>\n",
       "      <th>Country</th>\n",
       "      <th>Artwork ID</th>\n",
       "      <th>pop_est</th>\n",
       "      <th>continent</th>\n",
       "      <th>iso_a3</th>\n",
       "      <th>gdp_md_est</th>\n",
       "      <th>geometry</th>\n",
       "      <th>works_per_country_x</th>\n",
       "      <th>name</th>\n",
       "    </tr>\n",
       "  </thead>\n",
       "  <tbody>\n",
       "    <tr>\n",
       "      <th>0</th>\n",
       "      <td>Afghanistan</td>\n",
       "      <td>117937</td>\n",
       "      <td>34124811</td>\n",
       "      <td>Asia</td>\n",
       "      <td>AFG</td>\n",
       "      <td>64080.0</td>\n",
       "      <td>POLYGON ((66.51861 37.36278, 67.07578 37.35614...</td>\n",
       "      <td>1</td>\n",
       "      <td>Afghanistan</td>\n",
       "    </tr>\n",
       "    <tr>\n",
       "      <th>1</th>\n",
       "      <td>Albania</td>\n",
       "      <td>100105</td>\n",
       "      <td>3047987</td>\n",
       "      <td>Europe</td>\n",
       "      <td>ALB</td>\n",
       "      <td>33900.0</td>\n",
       "      <td>POLYGON ((21.02004 40.84273, 20.99999 40.58000...</td>\n",
       "      <td>22</td>\n",
       "      <td>Albania</td>\n",
       "    </tr>\n",
       "    <tr>\n",
       "      <th>2</th>\n",
       "      <td>Albania</td>\n",
       "      <td>100109</td>\n",
       "      <td>3047987</td>\n",
       "      <td>Europe</td>\n",
       "      <td>ALB</td>\n",
       "      <td>33900.0</td>\n",
       "      <td>POLYGON ((21.02004 40.84273, 20.99999 40.58000...</td>\n",
       "      <td>22</td>\n",
       "      <td>Albania</td>\n",
       "    </tr>\n",
       "    <tr>\n",
       "      <th>3</th>\n",
       "      <td>Albania</td>\n",
       "      <td>102826</td>\n",
       "      <td>3047987</td>\n",
       "      <td>Europe</td>\n",
       "      <td>ALB</td>\n",
       "      <td>33900.0</td>\n",
       "      <td>POLYGON ((21.02004 40.84273, 20.99999 40.58000...</td>\n",
       "      <td>22</td>\n",
       "      <td>Albania</td>\n",
       "    </tr>\n",
       "    <tr>\n",
       "      <th>4</th>\n",
       "      <td>Albania</td>\n",
       "      <td>120441</td>\n",
       "      <td>3047987</td>\n",
       "      <td>Europe</td>\n",
       "      <td>ALB</td>\n",
       "      <td>33900.0</td>\n",
       "      <td>POLYGON ((21.02004 40.84273, 20.99999 40.58000...</td>\n",
       "      <td>22</td>\n",
       "      <td>Albania</td>\n",
       "    </tr>\n",
       "    <tr>\n",
       "      <th>...</th>\n",
       "      <td>...</td>\n",
       "      <td>...</td>\n",
       "      <td>...</td>\n",
       "      <td>...</td>\n",
       "      <td>...</td>\n",
       "      <td>...</td>\n",
       "      <td>...</td>\n",
       "      <td>...</td>\n",
       "      <td>...</td>\n",
       "    </tr>\n",
       "    <tr>\n",
       "      <th>50507</th>\n",
       "      <td>Zimbabwe</td>\n",
       "      <td>137456</td>\n",
       "      <td>13805084</td>\n",
       "      <td>Africa</td>\n",
       "      <td>ZWE</td>\n",
       "      <td>28330.0</td>\n",
       "      <td>POLYGON ((31.19141 -22.25151, 30.65987 -22.151...</td>\n",
       "      <td>14</td>\n",
       "      <td>Zimbabwe</td>\n",
       "    </tr>\n",
       "    <tr>\n",
       "      <th>50508</th>\n",
       "      <td>Zimbabwe</td>\n",
       "      <td>137457</td>\n",
       "      <td>13805084</td>\n",
       "      <td>Africa</td>\n",
       "      <td>ZWE</td>\n",
       "      <td>28330.0</td>\n",
       "      <td>POLYGON ((31.19141 -22.25151, 30.65987 -22.151...</td>\n",
       "      <td>14</td>\n",
       "      <td>Zimbabwe</td>\n",
       "    </tr>\n",
       "    <tr>\n",
       "      <th>50509</th>\n",
       "      <td>Zimbabwe</td>\n",
       "      <td>138628</td>\n",
       "      <td>13805084</td>\n",
       "      <td>Africa</td>\n",
       "      <td>ZWE</td>\n",
       "      <td>28330.0</td>\n",
       "      <td>POLYGON ((31.19141 -22.25151, 30.65987 -22.151...</td>\n",
       "      <td>14</td>\n",
       "      <td>Zimbabwe</td>\n",
       "    </tr>\n",
       "    <tr>\n",
       "      <th>50510</th>\n",
       "      <td>Zimbabwe</td>\n",
       "      <td>138629</td>\n",
       "      <td>13805084</td>\n",
       "      <td>Africa</td>\n",
       "      <td>ZWE</td>\n",
       "      <td>28330.0</td>\n",
       "      <td>POLYGON ((31.19141 -22.25151, 30.65987 -22.151...</td>\n",
       "      <td>14</td>\n",
       "      <td>Zimbabwe</td>\n",
       "    </tr>\n",
       "    <tr>\n",
       "      <th>50511</th>\n",
       "      <td>Zimbabwe</td>\n",
       "      <td>142557</td>\n",
       "      <td>13805084</td>\n",
       "      <td>Africa</td>\n",
       "      <td>ZWE</td>\n",
       "      <td>28330.0</td>\n",
       "      <td>POLYGON ((31.19141 -22.25151, 30.65987 -22.151...</td>\n",
       "      <td>14</td>\n",
       "      <td>Zimbabwe</td>\n",
       "    </tr>\n",
       "  </tbody>\n",
       "</table>\n",
       "<p>50512 rows × 9 columns</p>\n",
       "</div>"
      ],
      "text/plain": [
       "           Country  Artwork ID   pop_est continent iso_a3  gdp_md_est  \\\n",
       "0      Afghanistan      117937  34124811      Asia    AFG     64080.0   \n",
       "1          Albania      100105   3047987    Europe    ALB     33900.0   \n",
       "2          Albania      100109   3047987    Europe    ALB     33900.0   \n",
       "3          Albania      102826   3047987    Europe    ALB     33900.0   \n",
       "4          Albania      120441   3047987    Europe    ALB     33900.0   \n",
       "...            ...         ...       ...       ...    ...         ...   \n",
       "50507     Zimbabwe      137456  13805084    Africa    ZWE     28330.0   \n",
       "50508     Zimbabwe      137457  13805084    Africa    ZWE     28330.0   \n",
       "50509     Zimbabwe      138628  13805084    Africa    ZWE     28330.0   \n",
       "50510     Zimbabwe      138629  13805084    Africa    ZWE     28330.0   \n",
       "50511     Zimbabwe      142557  13805084    Africa    ZWE     28330.0   \n",
       "\n",
       "                                                geometry  works_per_country_x  \\\n",
       "0      POLYGON ((66.51861 37.36278, 67.07578 37.35614...                    1   \n",
       "1      POLYGON ((21.02004 40.84273, 20.99999 40.58000...                   22   \n",
       "2      POLYGON ((21.02004 40.84273, 20.99999 40.58000...                   22   \n",
       "3      POLYGON ((21.02004 40.84273, 20.99999 40.58000...                   22   \n",
       "4      POLYGON ((21.02004 40.84273, 20.99999 40.58000...                   22   \n",
       "...                                                  ...                  ...   \n",
       "50507  POLYGON ((31.19141 -22.25151, 30.65987 -22.151...                   14   \n",
       "50508  POLYGON ((31.19141 -22.25151, 30.65987 -22.151...                   14   \n",
       "50509  POLYGON ((31.19141 -22.25151, 30.65987 -22.151...                   14   \n",
       "50510  POLYGON ((31.19141 -22.25151, 30.65987 -22.151...                   14   \n",
       "50511  POLYGON ((31.19141 -22.25151, 30.65987 -22.151...                   14   \n",
       "\n",
       "              name  \n",
       "0      Afghanistan  \n",
       "1          Albania  \n",
       "2          Albania  \n",
       "3          Albania  \n",
       "4          Albania  \n",
       "...            ...  \n",
       "50507     Zimbabwe  \n",
       "50508     Zimbabwe  \n",
       "50509     Zimbabwe  \n",
       "50510     Zimbabwe  \n",
       "50511     Zimbabwe  \n",
       "\n",
       "[50512 rows x 9 columns]"
      ]
     },
     "execution_count": 356,
     "metadata": {},
     "output_type": "execute_result"
    }
   ],
   "source": [
    "new_wpc = works_per_country.drop(works_per_country.index[[0,1]])\n",
    "\n",
    "# Finally, merge all fo the map data with the number of works per country\n",
    "new_map = pd.merge(map_data, new_wpc , how='inner', left_on=\"Country\", right_on=\"name\")\n",
    "\n",
    "# convert the DataFrame to a GeoDataFrame\n",
    "new_map = gpd.GeoDataFrame(new_map).drop(\"works_per_country_y\",1)\n",
    "\n",
    "new_map"
   ]
  },
  {
   "cell_type": "code",
   "execution_count": null,
   "metadata": {},
   "outputs": [],
   "source": [
    "# Plot the Map!\n",
    "ax = map_data.dropna().plot(column='works_per_country', cmap =    \n",
    "                                'Dark2', figsize=(15,9),   \n",
    "                                  k=5, legend =  \n",
    "                                  True)"
   ]
  },
  {
   "attachments": {
    "image.png": {
     "image/png": "[encoded data removed]"
    }
   },
   "cell_type": "markdown",
   "metadata": {},
   "source": [
    "### Lorenz Curve and Gini Coefficient\n",
    "\n",
    "The [Lorenz Curve](https://en.wikipedia.org/wiki/Lorenz_curve) is typically used to distribution of wealth, but it also has helpful applications for showing distribution over time of other variables. In this case, we used it to show the distribution of female artists over time. The x axis represents the cumulative percent of the total population and the y axis represents the cumulative proportion of female artists. In perfect equality, this would be a line with slope of 1 (y=x or x and y increase at the same rate). \n",
    "\n",
    "In the example of distribution of wealth, this would mean that the bottom 10% of households hold 10% of the wealth, the bottom 20% has 20%, etc. In our example, perfect equality would be the first (earliest chronologically) 10% of the all of the artworks has the first 10% of all of the artwork by female artists.\n",
    "\n",
    "In contrast to perfect equality, the Lorenz curve shows the true distribution of female artists over time, with the same x and y axis as perfect equality.\n",
    "\n",
    "The Lorenz curve is helpful because it shows a graphical representation of inequality and allows us to calculate the [Gini coefficient,](https://en.wikipedia.org/wiki/Gini_coefficient) which calculates a metric to show the inequality of the proportion of art by female artists among all artworks. The Gini coefficient is the proportion of the area between perfect equality and the Lorenz curve compared to the total area under the perfect equality line.\n",
    "\n",
    "This graph is a good representation of perfect equality, the Lorenz curve, and the Gini coefficient.\n",
    "![image.png](attachment:image.png)\n",
    "\n",
    "For our axes, since there is not necessarily an analogoue to sorting the population from poorest to riches, we chose to sort the data from earliest acquired to most recetly acquired to show the trend over time. "
   ]
  },
  {
   "cell_type": "code",
   "execution_count": null,
   "metadata": {},
   "outputs": [],
   "source": [
    "# Plot the Map!\n",
    "ax = new_map.dropna().plot(column='works_per_country_x', cmap =    \n",
    "                                'Dark2', figsize=(15,9),   \n",
    "                                  k=5, legend =  \n",
    "                                  True)"
   ]
  },
  {
   "cell_type": "markdown",
   "metadata": {},
   "source": [
    "#### Lorenz Curve"
   ]
  },
  {
   "cell_type": "code",
   "execution_count": 268,
   "metadata": {},
   "outputs": [
    {
     "data": {
      "text/html": [
       "<div>\n",
       "<style scoped>\n",
       "    .dataframe tbody tr th:only-of-type {\n",
       "        vertical-align: middle;\n",
       "    }\n",
       "\n",
       "    .dataframe tbody tr th {\n",
       "        vertical-align: top;\n",
       "    }\n",
       "\n",
       "    .dataframe thead th {\n",
       "        text-align: right;\n",
       "    }\n",
       "</style>\n",
       "<table border=\"1\" class=\"dataframe\">\n",
       "  <thead>\n",
       "    <tr style=\"text-align: right;\">\n",
       "      <th></th>\n",
       "      <th>Artwork ID</th>\n",
       "      <th>Title</th>\n",
       "      <th>Artist ID</th>\n",
       "      <th>Name</th>\n",
       "      <th>Date</th>\n",
       "      <th>Medium</th>\n",
       "      <th>Dimensions</th>\n",
       "      <th>Acquisition Date</th>\n",
       "      <th>Credit</th>\n",
       "      <th>Catalogue</th>\n",
       "      <th>...</th>\n",
       "      <th>Gender</th>\n",
       "      <th>Nationality</th>\n",
       "      <th>Birth Year</th>\n",
       "      <th>Death Year</th>\n",
       "      <th>age_made</th>\n",
       "      <th>alive?</th>\n",
       "      <th>Acquisition Year</th>\n",
       "      <th>decile</th>\n",
       "      <th>dec start year</th>\n",
       "      <th>dec end year</th>\n",
       "    </tr>\n",
       "  </thead>\n",
       "  <tbody>\n",
       "    <tr>\n",
       "      <th>61694</th>\n",
       "      <td>59708</td>\n",
       "      <td>Max Reinhardt (Head) (Kopf)</td>\n",
       "      <td>3197</td>\n",
       "      <td>Oskar Kokoschka</td>\n",
       "      <td>1970.0</td>\n",
       "      <td>Lithograph</td>\n",
       "      <td>composition (irreg. ): 15 3/16 x 11 15/16\" (38...</td>\n",
       "      <td>1929-11-19</td>\n",
       "      <td>Gift of Paul J. Sachs</td>\n",
       "      <td>Y</td>\n",
       "      <td>...</td>\n",
       "      <td>Male</td>\n",
       "      <td>Austrian</td>\n",
       "      <td>1886.0</td>\n",
       "      <td>1980.0</td>\n",
       "      <td>84.0</td>\n",
       "      <td>True</td>\n",
       "      <td>1929</td>\n",
       "      <td>1</td>\n",
       "      <td>1929</td>\n",
       "      <td>1953</td>\n",
       "    </tr>\n",
       "    <tr>\n",
       "      <th>61744</th>\n",
       "      <td>59762</td>\n",
       "      <td>The Lords of the World (Die Herren der Welt )</td>\n",
       "      <td>5260</td>\n",
       "      <td>Georg Scholz</td>\n",
       "      <td>1970.0</td>\n",
       "      <td>Lithograph</td>\n",
       "      <td>composition: 11 3/4 x 15 3/4\" (29.8 x 40 cm); ...</td>\n",
       "      <td>1929-11-19</td>\n",
       "      <td>Gift of Paul J. Sachs</td>\n",
       "      <td>Y</td>\n",
       "      <td>...</td>\n",
       "      <td>Male</td>\n",
       "      <td>German</td>\n",
       "      <td>1890.0</td>\n",
       "      <td>1945.0</td>\n",
       "      <td>80.0</td>\n",
       "      <td>True</td>\n",
       "      <td>1929</td>\n",
       "      <td>1</td>\n",
       "      <td>1929</td>\n",
       "      <td>1953</td>\n",
       "    </tr>\n",
       "    <tr>\n",
       "      <th>61711</th>\n",
       "      <td>59728</td>\n",
       "      <td>Dialogue (Zwiesprache)</td>\n",
       "      <td>4533</td>\n",
       "      <td>Max Pechstein</td>\n",
       "      <td>1970.0</td>\n",
       "      <td>Woodcut</td>\n",
       "      <td>composition: 15 13/16 x 12 9/16\" (40.2 x 31.9 ...</td>\n",
       "      <td>1929-11-19</td>\n",
       "      <td>Gift of Paul J. Sachs</td>\n",
       "      <td>Y</td>\n",
       "      <td>...</td>\n",
       "      <td>Male</td>\n",
       "      <td>German</td>\n",
       "      <td>1881.0</td>\n",
       "      <td>1955.0</td>\n",
       "      <td>89.0</td>\n",
       "      <td>True</td>\n",
       "      <td>1929</td>\n",
       "      <td>1</td>\n",
       "      <td>1929</td>\n",
       "      <td>1953</td>\n",
       "    </tr>\n",
       "    <tr>\n",
       "      <th>61660</th>\n",
       "      <td>59673</td>\n",
       "      <td>Woman, Standing in the Garden (Frau, im Garten...</td>\n",
       "      <td>3197</td>\n",
       "      <td>Oskar Kokoschka</td>\n",
       "      <td>1970.0</td>\n",
       "      <td>Lithograph</td>\n",
       "      <td>composition (irreg.): 9 13/16 x 5 11/16\" (24.9...</td>\n",
       "      <td>1929-11-19</td>\n",
       "      <td>Gift of Paul J. Sachs</td>\n",
       "      <td>Y</td>\n",
       "      <td>...</td>\n",
       "      <td>Male</td>\n",
       "      <td>Austrian</td>\n",
       "      <td>1886.0</td>\n",
       "      <td>1980.0</td>\n",
       "      <td>84.0</td>\n",
       "      <td>True</td>\n",
       "      <td>1929</td>\n",
       "      <td>1</td>\n",
       "      <td>1929</td>\n",
       "      <td>1953</td>\n",
       "    </tr>\n",
       "    <tr>\n",
       "      <th>61635</th>\n",
       "      <td>59646</td>\n",
       "      <td>Marine</td>\n",
       "      <td>1832</td>\n",
       "      <td>Lyonel Feininger</td>\n",
       "      <td>1970.0</td>\n",
       "      <td>Woodcut</td>\n",
       "      <td>composition (irreg.): 6 5/8 x 8 7/8\" (16.8 x 2...</td>\n",
       "      <td>1929-11-19</td>\n",
       "      <td>Gift of Paul J. Sachs</td>\n",
       "      <td>Y</td>\n",
       "      <td>...</td>\n",
       "      <td>Male</td>\n",
       "      <td>American</td>\n",
       "      <td>1871.0</td>\n",
       "      <td>1956.0</td>\n",
       "      <td>99.0</td>\n",
       "      <td>True</td>\n",
       "      <td>1929</td>\n",
       "      <td>1</td>\n",
       "      <td>1929</td>\n",
       "      <td>1953</td>\n",
       "    </tr>\n",
       "  </tbody>\n",
       "</table>\n",
       "<p>5 rows × 31 columns</p>\n",
       "</div>"
      ],
      "text/plain": [
       "       Artwork ID                                              Title  \\\n",
       "61694       59708                        Max Reinhardt (Head) (Kopf)   \n",
       "61744       59762      The Lords of the World (Die Herren der Welt )   \n",
       "61711       59728                             Dialogue (Zwiesprache)   \n",
       "61660       59673  Woman, Standing in the Garden (Frau, im Garten...   \n",
       "61635       59646                                             Marine   \n",
       "\n",
       "      Artist ID              Name    Date      Medium  \\\n",
       "61694      3197   Oskar Kokoschka  1970.0  Lithograph   \n",
       "61744      5260      Georg Scholz  1970.0  Lithograph   \n",
       "61711      4533     Max Pechstein  1970.0     Woodcut   \n",
       "61660      3197   Oskar Kokoschka  1970.0  Lithograph   \n",
       "61635      1832  Lyonel Feininger  1970.0     Woodcut   \n",
       "\n",
       "                                              Dimensions Acquisition Date  \\\n",
       "61694  composition (irreg. ): 15 3/16 x 11 15/16\" (38...       1929-11-19   \n",
       "61744  composition: 11 3/4 x 15 3/4\" (29.8 x 40 cm); ...       1929-11-19   \n",
       "61711  composition: 15 13/16 x 12 9/16\" (40.2 x 31.9 ...       1929-11-19   \n",
       "61660  composition (irreg.): 9 13/16 x 5 11/16\" (24.9...       1929-11-19   \n",
       "61635  composition (irreg.): 6 5/8 x 8 7/8\" (16.8 x 2...       1929-11-19   \n",
       "\n",
       "                      Credit Catalogue  ... Gender Nationality Birth Year  \\\n",
       "61694  Gift of Paul J. Sachs         Y  ...   Male    Austrian     1886.0   \n",
       "61744  Gift of Paul J. Sachs         Y  ...   Male      German     1890.0   \n",
       "61711  Gift of Paul J. Sachs         Y  ...   Male      German     1881.0   \n",
       "61660  Gift of Paul J. Sachs         Y  ...   Male    Austrian     1886.0   \n",
       "61635  Gift of Paul J. Sachs         Y  ...   Male    American     1871.0   \n",
       "\n",
       "       Death Year  age_made  alive?  Acquisition Year  decile  dec start year  \\\n",
       "61694      1980.0      84.0    True              1929       1            1929   \n",
       "61744      1945.0      80.0    True              1929       1            1929   \n",
       "61711      1955.0      89.0    True              1929       1            1929   \n",
       "61660      1980.0      84.0    True              1929       1            1929   \n",
       "61635      1956.0      99.0    True              1929       1            1929   \n",
       "\n",
       "       dec end year  \n",
       "61694          1953  \n",
       "61744          1953  \n",
       "61711          1953  \n",
       "61660          1953  \n",
       "61635          1953  \n",
       "\n",
       "[5 rows x 31 columns]"
      ]
     },
     "execution_count": 268,
     "metadata": {},
     "output_type": "execute_result"
    }
   ],
   "source": [
    "# sort the data by acquisition date\n",
    "moma_by_year = moma.sort_values(by=['Acquisition Date'])\n",
    "\n",
    "# split the DataFrame into 10 (roughly) equal parts to be the 10 deciles (each representing 10% of the population)\n",
    "# the frist 6 have 13,940 works and the last 4 have 13,939 works\n",
    "df_split = np.array_split(moma_by_year, 10)\n",
    "for i in range(0,10):\n",
    "    \n",
    "    # add decile number to DataFrame\n",
    "    df_split[i][\"decile\"] = i+1\n",
    "    \n",
    "    # add decile start and end year to DataFrame\n",
    "    df_split[i][\"dec start year\"] = df_split[i][\"Acquisition Date\"].min().year\n",
    "    df_split[i][\"dec end year\"] = df_split[i][\"Acquisition Date\"].max().year\n",
    "\n",
    "# combine all of the split DataFrames into one big DataFrame with their corresponding decile number\n",
    "decile_df = pd.concat([df_split[0],df_split[1],df_split[2],df_split[3],df_split[4],df_split[5],df_split[6],df_split[7],df_split[8],df_split[9]])\n",
    "decile_df.head()"
   ]
  },
  {
   "cell_type": "code",
   "execution_count": null,
   "metadata": {},
   "outputs": [],
   "source": [
    "# find the total number of female artists in each decile\n",
    "female_list = []\n",
    "females = decile_df[decile_df[\"Gender\"] == \"Female\"]\n",
    "for decile_num in range(1,11):\n",
    "    female_list.append(females[females[\"decile\"] == decile_num][\"Acquisition Date\"].count())"
   ]
  },
  {
   "cell_type": "code",
   "execution_count": null,
   "metadata": {},
   "outputs": [],
   "source": [
    "# make it cumulative!\n",
    "total = 0\n",
    "female_count = [0]\n",
    "for i in range(10):\n",
    "    total += female_list[i]\n",
    "    female_count.append(total)"
   ]
  },
  {
   "cell_type": "code",
   "execution_count": null,
   "metadata": {},
   "outputs": [],
   "source": [
    "# since we need a cumulative population, keep a list of the current population being examined at each decile\n",
    "\n",
    "total = 0\n",
    "# include 0% of the population in the list of each decile's cumulative population count\n",
    "pop_count = [0]\n",
    "for i in range(10):\n",
    "    total += df_split[i][\"Acquisition Year\"].count()\n",
    "    pop_count.append(total)"
   ]
  },
  {
   "cell_type": "markdown",
   "metadata": {},
   "source": [
    "Since the Gini index depends on cumulative proportions and not counts, we need to find the total proportion of female artists for each cumulative decile. This requires us to divide each cumulative decile by the total female population.\n",
    "\n",
    "It will suffice to simply create a list of each decile value because the difference in their size is negligible."
   ]
  },
  {
   "cell_type": "code",
   "execution_count": null,
   "metadata": {},
   "outputs": [],
   "source": [
    "# divide female count by total population of female artists to get the proportion of female artists in each decile\n",
    "total_female = females[\"Acquisition Year\"].count()\n",
    "female_prop = list(map(lambda x: (x/total_female) *100, female_count))\n",
    "\n",
    "# create a list of all of the cumulative proportions of population (make sure to include 0 and 100)\n",
    "population_prop = [0,10,20,30,40,50,60,70,80,90,100]"
   ]
  },
  {
   "cell_type": "code",
   "execution_count": null,
   "metadata": {},
   "outputs": [],
   "source": [
    "# create a DataFrame with these values representing the x and y axis of the Lorenz curve\n",
    "lorenz_curve = pd.DataFrame(list(zip(population_prop, female_prop)),columns =['cumulative_prop_of_artists', 'cumulative_proportion_of_female_artists'])"
   ]
  },
  {
   "cell_type": "code",
   "execution_count": null,
   "metadata": {},
   "outputs": [],
   "source": [
    "# add the start and end years of each decile to the DataFrame\n",
    "for i in range(0,10):\n",
    "    decile_df[decile_df[\"decile\"] == i][\"dec start year\"]\n",
    "    decile_df[decile_df[\"decile\"] == i][\"dec end year\"]\n",
    "    \n",
    "\n",
    "# create an array of the each unique start and end year to the respective list, including 0 for 0% of the population\n",
    "start_years = list(decile_df[\"dec start year\"].unique())\n",
    "start_years.insert(0,0)\n",
    "\n",
    "end_years = list(decile_df[\"dec end year\"].unique())\n",
    "end_years.insert(0,0)\n",
    "start_years"
   ]
  },
  {
   "cell_type": "code",
   "execution_count": null,
   "metadata": {},
   "outputs": [],
   "source": [
    "# add this to a new DataFrame\n",
    "lorenz_year = lorenz_curve.copy()\n",
    "lorenz_year[\"decile start\"] = start_years\n",
    "lorenz_year[\"decile end\"] = end_years\n",
    "lorenz_year[\"date range\"] = [\"0-0\", \"1929-1953\", \"1953-1964\", \"1964,1968\", \"1968-1974\", \"1974-1986\",\"1986-1998\", \"1998-2005\", \"2005-2009\", \"2009-2013\", \"2013-2016\"]\n",
    "lorenz_year"
   ]
  },
  {
   "cell_type": "markdown",
   "metadata": {},
   "source": [
    "Here is a dataframe with the cumulative proportion of artists, the cumulative proprtion of female artists, the decile start data, decile end data, and the date range. This provides some context for each decile. "
   ]
  },
  {
   "cell_type": "code",
   "execution_count": null,
   "metadata": {},
   "outputs": [],
   "source": [
    "# I don't really understand what's going on here. How is the blue line there? Why does the bottom axis only go to 10?\n",
    "# I'm a little lost but fair enough.\n",
    "\n",
    "# plot the Lorenz curve\n",
    "fig,ax = plot.subplots()\n",
    "ax.plot(lorenz_curve)\n",
    "ax.set_xlabel(\"cumulative proportion of population\")\n",
    "ax.set_ylabel(\"cumulative proportion of female artists\")\n",
    "ax.set_title(\"Lorenz Curve and Perfect Equality line\")"
   ]
  },
  {
   "cell_type": "markdown",
   "metadata": {},
   "source": [
    "Now we have a graph showing perfect equality (blue line) the Lorenz curve (orange line). The area in between the two lines represents the inequality between the two. It is not surprising that the distance between the two lines is largest among the earlier works. The gap decreases in more recent years, showing that there is a more equal distribution of works by female artists in later years, particularly starting in the 8th decile (all works until 2009). Interestingly, in the 9th decile (all works until 2015) the Lorenz curve actually slightly surpasses perfect equality. This means that the earliest 90% of all artworks contains approximately 91% of the all the works by female artists."
   ]
  },
  {
   "cell_type": "markdown",
   "metadata": {},
   "source": [
    "#### Gini Coefficient"
   ]
  },
  {
   "cell_type": "markdown",
   "metadata": {},
   "source": [
    "To find the Gini Coefficient, we need to integrate the Lorenz curve and the perfect equality line to get the area under the Lorenz curve and the area under the perfect equality line respectively. We then use those values to find the Gini Coefficient.\n",
    "Mathematically, this is:\n",
    "\n",
    "Gini Coefficient =  $\\frac{\\int Perfect Equality Line - \\int Lorenz Curve}{\\int Perfect Equality Line}$."
   ]
  },
  {
   "cell_type": "code",
   "execution_count": null,
   "metadata": {},
   "outputs": [],
   "source": [
    "# calculate the area under the Lorenz curve\n",
    "lorenz_area = np.trapz(female_prop, x=population_prop)\n",
    "\n",
    "# calculate the area under the perfect equality line (y=x)\n",
    "pe_area = np.trapz(population_prop, x=population_prop)\n",
    "\n",
    "# use those values to calculate the gini coefficient\n",
    "gini_coeff = (pe_area - lorenz_area) / pe_area\n",
    "gini_coeff"
   ]
  },
  {
   "cell_type": "markdown",
   "metadata": {},
   "source": [
    "We found a Gini coefficient of 21.8. The closer a Gini coefficient is to 0, the closer the data is to perfect equality.\n",
    "\n",
    "This means there is 21.8 percent concentration of works by female artists in the dataset over time, so works by female artists are acquired at lower rate than works are acquired in the general population. This is shown in the graph of the Lorenz curve, as the Lorenz curve surpasses perfect equality around the 90th decile, so we can concluded that MoMA has acquired a higher porportion of works by female artists in more recent years."
   ]
  },
  {
   "cell_type": "code",
   "execution_count": null,
   "metadata": {},
   "outputs": [],
   "source": [
    "female_by_year[\"Acquisition Date\"]\n",
    "acquisitons_per_year = moma.groupby(['Acquisition Year']).count()\n",
    "acquisitons_per_year[\"Acquisition Date\"].astype(int)\n",
    "female_proportion_by_year = female_by_year[\"Acquisition Date\"] / acquisitons_per_year[\"Acquisition Date\"].astype(int)\n",
    "female_proportion_by_year = female_proportion_by_year.rename(\"percent_female\",inplace=True).to_frame()\n",
    "\n",
    "\n",
    "female_proportion_by_year = female_proportion_by_year.reset_index().dropna()\n",
    "female_proportion_by_year\n",
    "\n",
    "female_proportion_pre_2014 = female_proportion_by_year[female_proportion_by_year[\"Acquisition Year\"] < 2014]"
   ]
  },
  {
   "cell_type": "code",
   "execution_count": null,
   "metadata": {},
   "outputs": [],
   "source": [
    "from sklearn.neighbors import KNeighborsRegressor\n",
    "from sklearn.feature_extraction import DictVectorizer\n",
    "from sklearn.preprocessing import StandardScaler\n",
    "\n",
    "# Define the features.\n",
    "features = [\"Acquisition Year\"]\n",
    "\n",
    "# Define the training data.\n",
    "# Represent the features as a list of dicts.\n",
    "X_train_dict = female_proportion_pre_2014[features].to_dict(orient=\"records\")\n",
    "X_new_dict = [{\n",
    "    \"Acquisition Year\": 2014\n",
    "}]\n",
    "y_train = female_proportion_pre_2014[\"percent_female\"]\n",
    "\n",
    "# Dummy encoding\n",
    "vec = DictVectorizer(sparse=False)\n",
    "vec.fit(X_train_dict)\n",
    "X_train = vec.transform(X_train_dict)\n",
    "X_new = vec.transform(X_new_dict)\n",
    "\n",
    "# Standardization\n",
    "scaler = StandardScaler()\n",
    "scaler.fit(X_train)\n",
    "X_train_sc = scaler.transform(X_train)\n",
    "X_new_sc = scaler.transform(X_new)\n",
    "\n",
    "# K-Nearest Neighbors Model\n",
    "model = KNeighborsRegressor(n_neighbors=9)\n",
    "model.fit(X_train_sc, y_train)\n",
    "model.predict(X_new_sc)"
   ]
  },
  {
   "cell_type": "markdown",
   "metadata": {},
   "source": [
    "## Cleaning Tate Data"
   ]
  },
  {
   "cell_type": "markdown",
   "metadata": {},
   "source": [
    "In order to do through analysis we should compare the MoMA's data to data from other museums. The first museum that we will examine is the Tate, another museum for modern and contemporary art located in London, England."
   ]
  },
  {
   "cell_type": "code",
   "execution_count": null,
   "metadata": {},
   "outputs": [],
   "source": [
    "tate_artworks = pd.read_csv(\"artwork_data-tate.csv\")\n",
    "tate_artists = pd.read_csv(\"artist_data-tate.csv\")"
   ]
  },
  {
   "cell_type": "code",
   "execution_count": null,
   "metadata": {},
   "outputs": [],
   "source": [
    "display(tate_artworks.head())\n",
    "tate_artists.head() "
   ]
  },
  {
   "cell_type": "markdown",
   "metadata": {},
   "source": [
    "After examining the data set you can see they have a lot of different columns that are not needed because of their repetition, or because we won't be using them in the future. So we created new data sets without them below."
   ]
  },
  {
   "cell_type": "code",
   "execution_count": null,
   "metadata": {},
   "outputs": [],
   "source": [
    "tate_newartist = tate_artists[['name','gender','placeOfBirth','yearOfBirth','yearOfDeath']]"
   ]
  },
  {
   "cell_type": "code",
   "execution_count": null,
   "metadata": {},
   "outputs": [],
   "source": [
    "tate_newartworks = tate_artworks[['id','accession_number','artist','artistRole','artistId','title','medium','year'\n",
    "                                 ,'acquisitionYear','dimensions']]"
   ]
  },
  {
   "cell_type": "markdown",
   "metadata": {},
   "source": [
    "Next we merged the artist and the artworks data together, in the artist dataset the artist column is called artists, and in the artworks it is called name. We merged this on left so that if there is an artist who doesn't have an artwork they don't show up."
   ]
  },
  {
   "cell_type": "code",
   "execution_count": null,
   "metadata": {},
   "outputs": [],
   "source": [
    "tate = tate_newartworks.merge(tate_newartist, left_on = ['artist'],right_on = ['name'], how = 'left')"
   ]
  },
  {
   "cell_type": "markdown",
   "metadata": {},
   "source": [
    "Then we dropped the name column because we would no longer need it"
   ]
  },
  {
   "cell_type": "code",
   "execution_count": null,
   "metadata": {},
   "outputs": [],
   "source": [
    "tate = tate.drop(columns = ['name'])"
   ]
  },
  {
   "cell_type": "markdown",
   "metadata": {},
   "source": [
    "Then, like we did for the MoMA, we removed the rows where the acquisition year was not present. "
   ]
  },
  {
   "cell_type": "code",
   "execution_count": null,
   "metadata": {},
   "outputs": [],
   "source": [
    "no_date = tate[(tate['acquisitionYear'].isnull() == True)].index\n",
    "tate.drop(no_date, inplace = True)"
   ]
  },
  {
   "cell_type": "markdown",
   "metadata": {},
   "source": [
    "When examining the dates we noticed that they were not as wonky as the other one so we only had to change two dates."
   ]
  },
  {
   "cell_type": "code",
   "execution_count": null,
   "metadata": {},
   "outputs": [],
   "source": [
    "tate['year'].unique()"
   ]
  },
  {
   "cell_type": "code",
   "execution_count": null,
   "metadata": {},
   "outputs": [],
   "source": [
    "tate['year'].replace({'no date':np.nan, 'c.1997-9':1997}, inplace = True)"
   ]
  },
  {
   "cell_type": "markdown",
   "metadata": {},
   "source": [
    "Next we made two new columns, one that is the age of the person when they made the work, and the next is a column that will tell if a person was alive or not when the work was acquired by the MoMA"
   ]
  },
  {
   "cell_type": "code",
   "execution_count": null,
   "metadata": {},
   "outputs": [],
   "source": [
    "tate['age_made'] = pd.to_numeric(tate['year']) - tate['yearOfBirth']\n",
    "tate['alive?'] = tate['year']"
   ]
  },
  {
   "cell_type": "markdown",
   "metadata": {},
   "source": [
    "Finally we utilized the same function and apply method as we did above to make a column determining if the artist was alive or not."
   ]
  },
  {
   "cell_type": "code",
   "execution_count": null,
   "metadata": {},
   "outputs": [],
   "source": [
    "def alive(acquisition,death):\n",
    "    if acquisition > death:\n",
    "        return 'False'\n",
    "    else:\n",
    "        return 'True'\n",
    "tate['alive?'] = tate.apply(lambda row: alive(row['acquisitionYear'],row['yearOfDeath']),axis=1)"
   ]
  },
  {
   "cell_type": "markdown",
   "metadata": {},
   "source": [
    "Next we noticed that the placeOfBirth column contained both the city and the country for the majority of the artists. We realized that in order to analyze the country that the artists were from we needed to separate the city from the country, so we made a new column called countryOfOrigin that contained just the country."
   ]
  },
  {
   "cell_type": "code",
   "execution_count": null,
   "metadata": {},
   "outputs": [],
   "source": [
    "def country(place):\n",
    "    new = str(place).split(',')\n",
    "    if len(new) > 1:\n",
    "        first = re.sub(r\"^\\s+\", \"\", new[1])\n",
    "        return first\n",
    "    else:\n",
    "        return new[0]\n",
    "tate['countryOfOrigin'] = tate.apply(lambda row: country(row['placeOfBirth']), axis=1)"
   ]
  },
  {
   "cell_type": "markdown",
   "metadata": {},
   "source": [
    "After each of those steps our dataframe is now clean and in the format that we want it in, which is displayed below."
   ]
  },
  {
   "cell_type": "code",
   "execution_count": null,
   "metadata": {},
   "outputs": [],
   "source": [
    "tate.head()"
   ]
  },
  {
   "cell_type": "markdown",
   "metadata": {},
   "source": [
    "## Analysis: Tate vs MoMA"
   ]
  },
  {
   "cell_type": "markdown",
   "metadata": {},
   "source": [
    "The first analysis that we will do will show the difference in diversity of non-European artists between the MoMA and the Tate. The Tate uses the country name while the MoMA uses the designation. For example: American vs America, French vs France. So in order to do the analysis we need to be aware of this discrepancy. When deciding whether a country was designated as European or not we refered to a list of European countries from this website: https://datahub.io/opendatafortaxjustice/listofeucountries#resource-listofeucountries"
   ]
  },
  {
   "cell_type": "markdown",
   "metadata": {},
   "source": [
    "The names of the countries for the Tate dataset were especially difficult to work with beacuse of the number of differences in the name titles. The majority of the names were in the countries native language or there was a city name rather than a country. Because of this we had to manually go through and check for what we wanted by looking at the unique values and then adding them to the list. "
   ]
  },
  {
   "cell_type": "code",
   "execution_count": null,
   "metadata": {
    "scrolled": true
   },
   "outputs": [],
   "source": [
    "tate['countryOfOrigin'].unique()"
   ]
  },
  {
   "cell_type": "markdown",
   "metadata": {},
   "source": [
    "First we replaced \"nan\" with np.nan and then we created a new dataframe that didn't contain any np.nans for country of origin"
   ]
  },
  {
   "cell_type": "code",
   "execution_count": null,
   "metadata": {},
   "outputs": [],
   "source": [
    "tate['countryOfOrigin'] = tate['countryOfOrigin'].replace({'nan':np.nan})\n",
    "tate_country = tate[tate['countryOfOrigin'].isnull() == False]\n",
    "#designation wasn't properly set so had to remove the works that didn't have a country of origin"
   ]
  },
  {
   "cell_type": "markdown",
   "metadata": {},
   "source": [
    "Next we created a list of the countries, a function to make a new column and insert true or false if it was a european country or not."
   ]
  },
  {
   "cell_type": "code",
   "execution_count": null,
   "metadata": {},
   "outputs": [],
   "source": [
    "index = tate_country['countryOfOrigin'].index\n",
    "tate_country['False'] = ['False'] * len(index)"
   ]
  },
  {
   "cell_type": "code",
   "execution_count": null,
   "metadata": {},
   "outputs": [],
   "source": [
    "countries_tate = ['Austria','Belgium','Bulgaria','Croatia','Cyprus','Czech Republic','Denmark','Estonia','Finland','France','Germany',\n",
    "'Greece','Hungary','Ireland','Italy','Latvia','Luxembourg','Lithuania','Malta','Netherlands','Poland','Portugal',\n",
    "'Romania','Slovak Republic','Slovenia','Spain','Sweden','United Kingdom', 'Deutschland', 'Italia','London','Ceská Republika',\n",
    " 'D.C.',  'Staten Island','Liverpool', 'Polska', 'România', 'España', 'Edinburgh', 'Canada','United States', 'Stoke on Trent',\n",
    "                 'Ellás','België', 'Latvija','Nederland','Wimbledon','Canterbury', 'Danmark','Österreich','Blackheath',\n",
    "                  'Bermondsey', 'Egremont', 'Norge', 'Braintree','Liverpool','Bristol','Eesti','Hertfordshire', 'Stockholm', 'Luxembourg'\n",
    "                 ]\n",
    "non_european = []\n",
    "european = []\n",
    "for x in index:\n",
    "    if tate_country.loc[x, 'countryOfOrigin'] in countries_tate:\n",
    "        tate_country.loc[x,'European?'] = 'True'\n",
    "    elif tate_country.loc[x, 'countryOfOrigin'] == np.nan:\n",
    "        tate_country.loc[x,'European?'] = 'True' \n",
    "    else:\n",
    "        if tate_country.loc[x, 'countryOfOrigin'] in non_european:\n",
    "            tate_country.loc[x,'European?'] = 'False'\n",
    "        else:\n",
    "            non_european.append(country)\n",
    "            tate_country.loc[x,'European?'] = 'False'"
   ]
  },
  {
   "cell_type": "code",
   "execution_count": null,
   "metadata": {},
   "outputs": [],
   "source": [
    "tate_country"
   ]
  },
  {
   "cell_type": "markdown",
   "metadata": {},
   "source": [
    "Now that the datasets are in similar formats we can start comparisons and anaylsis. But, the Tate data stopped collecting in 2013, so need to make MoMA align with them."
   ]
  },
  {
   "cell_type": "code",
   "execution_count": null,
   "metadata": {},
   "outputs": [],
   "source": [
    "tate_country['acquisitionYear'].max()"
   ]
  },
  {
   "cell_type": "code",
   "execution_count": null,
   "metadata": {
    "scrolled": true
   },
   "outputs": [],
   "source": [
    "# create a new DataFrame of all of the works before 2013\n",
    "d = datetime.datetime(2014, 1, 1)\n",
    "moma_before_2013 = names_dates_moma[names_dates_moma['Acquisition Date'] < d]\n",
    "moma_after_2013 = names_dates_moma[names_dates_moma['Acquisition Date'] > d]"
   ]
  },
  {
   "cell_type": "markdown",
   "metadata": {},
   "source": [
    "### How does the diversity of the two museums compare?"
   ]
  },
  {
   "cell_type": "markdown",
   "metadata": {},
   "source": [
    "#### Comparing Western vs non-Western Art in each museum"
   ]
  },
  {
   "cell_type": "markdown",
   "metadata": {},
   "source": [
    "The first visualization that we made, compares the diversity of the artists at both the Tate and the MoMA by looking at how many artists are Western or non-Western."
   ]
  },
  {
   "cell_type": "code",
   "execution_count": null,
   "metadata": {},
   "outputs": [],
   "source": [
    "# get the counts of works by Western and non-Western artists in MoMA before 2013\n",
    "moma_European = moma_before_2013['European?'].value_counts()"
   ]
  },
  {
   "cell_type": "code",
   "execution_count": null,
   "metadata": {},
   "outputs": [],
   "source": [
    "# get the counts of works by Western and non-Western artists in the Tate\n",
    "tate_European = tate_country['European?'].value_counts()"
   ]
  },
  {
   "cell_type": "code",
   "execution_count": null,
   "metadata": {},
   "outputs": [],
   "source": [
    "# create and format pie charts\n",
    "fig, (ax1, ax2) = plot.subplots(1, 2)\n",
    "moma_European.plot.pie(ax=ax1,  autopct='%.2f')\n",
    "ax1.set_title(\"MoMA Western vs Non Western\")\n",
    "\n",
    "tate_European.plot.pie(ax=ax2, autopct='%.2f')\n",
    "ax2.set_title(\"Tate Western vs Non Western\")\n",
    "\n",
    "fig.subplots_adjust(wspace=.5)\n",
    "fig.set_figheight(12)\n",
    "fig.set_figwidth(12)"
   ]
  },
  {
   "cell_type": "markdown",
   "metadata": {},
   "source": [
    "<strong> Conclusion: </strong> This comparison shows that the MoMA, even before its renovation, was ahead of the Tate with regard to artists who were not of European or Western descent."
   ]
  },
  {
   "cell_type": "markdown",
   "metadata": {},
   "source": [
    "### Comparing Art by Male vs Female artists in each museum"
   ]
  },
  {
   "cell_type": "markdown",
   "metadata": {},
   "source": [
    "Next we chose to look at the differences in sizes of the male and female population at both the Tate and the MoMA, as this was another area that the MoMA was striving the improve."
   ]
  },
  {
   "cell_type": "code",
   "execution_count": null,
   "metadata": {},
   "outputs": [],
   "source": [
    "# get the counts of works by male and female artists in MoMA before 2013\n",
    "moma_gender = moma_before_2013['Gender'].value_counts()"
   ]
  },
  {
   "cell_type": "code",
   "execution_count": null,
   "metadata": {},
   "outputs": [],
   "source": [
    "# get the counts of works by male and female artists in the Tate\n",
    "tate_gender = tate_country['gender'].value_counts()"
   ]
  },
  {
   "cell_type": "code",
   "execution_count": null,
   "metadata": {},
   "outputs": [],
   "source": [
    "# create and format pie charts\n",
    "fig, (ax3, ax4) = plot.subplots(1, 2)\n",
    "moma_gender.plot.pie(ax=ax3, autopct='%.2f')\n",
    "ax3.set_title(\"MoMA Male vs Female Artists\")\n",
    "\n",
    "tate_gender.plot.pie(ax=ax4, autopct='%.2f')\n",
    "ax4.set_title(\"Tate Male vs Female Artists\")\n",
    "\n",
    "fig.subplots_adjust(wspace=.5)\n",
    "fig.set_figheight(12)\n",
    "fig.set_figwidth(12)"
   ]
  },
  {
   "cell_type": "markdown",
   "metadata": {},
   "source": [
    "<strong> Conclusion: </strong>This is an interesting comparison, as it once again shows that the MoMA has a greater diversity than the Tate did before its renovation, as it has a much larger proportion of female artists to male artists."
   ]
  },
  {
   "cell_type": "markdown",
   "metadata": {},
   "source": [
    "### Comparing Art by Male vs Female artists of nonWestern art in each museum"
   ]
  },
  {
   "cell_type": "markdown",
   "metadata": {},
   "source": [
    "What about the male/female ratio when looking at non-European/Western artists? \n"
   ]
  },
  {
   "cell_type": "code",
   "execution_count": null,
   "metadata": {},
   "outputs": [],
   "source": [
    "# get the counts of Western and non-Western works by gender in MoMA before 2013\n",
    "moma_western_gender = moma_before_2013[moma_before_2013['European?'] == 'False']['Gender'].value_counts()"
   ]
  },
  {
   "cell_type": "code",
   "execution_count": null,
   "metadata": {},
   "outputs": [],
   "source": [
    "# get the counts of Western and non-Western works by gender in the Tate\n",
    "tate_western_gender = tate_country[tate_country['European?'] == 'False']['gender'].value_counts()"
   ]
  },
  {
   "cell_type": "code",
   "execution_count": null,
   "metadata": {},
   "outputs": [],
   "source": [
    "# create and format pie charts\n",
    "fig, (ax5, ax6) = plot.subplots(1, 2)\n",
    "moma_western_gender.plot.pie(ax=ax5, autopct='%.2f')\n",
    "ax5.set_title(\"MoMA Non Western Male vs Female Artists\")\n",
    "\n",
    "tate_western_gender.plot.pie(ax=ax6, autopct='%.2f')\n",
    "ax6.set_title(\"Tate Non Western Male vs Female Artists\")\n",
    "\n",
    "fig.subplots_adjust(wspace=.5)\n",
    "fig.set_figheight(12)\n",
    "fig.set_figwidth(12)"
   ]
  },
  {
   "cell_type": "markdown",
   "metadata": {},
   "source": [
    "<strong>Conclusion: </strong> The data shows that  MoMA has a larger of female non-Western/european artists than the Tate, but this difference is smaller than the one above.\n"
   ]
  },
  {
   "cell_type": "markdown",
   "metadata": {},
   "source": [
    "### But what do these comparisons look like over time?"
   ]
  },
  {
   "cell_type": "markdown",
   "metadata": {},
   "source": [
    "In order to really understand the comparisons above we need to see how they compare over time, for instance did the MoMA more recently acquire more european works? Or did the Tate always have a smaller number of works by female artists?"
   ]
  },
  {
   "cell_type": "markdown",
   "metadata": {},
   "source": [
    "The first one we will compare is the change over time for acquisition of works by non-European artists. When comparing we are mindful of the differences in size between the MoMA and the Tate, as we are not comparing by proportion, but by direction number. In order to do this we analyzed the size differences between the MoMA and the Tate."
   ]
  },
  {
   "cell_type": "code",
   "execution_count": null,
   "metadata": {
    "scrolled": true
   },
   "outputs": [],
   "source": [
    "tate_len = len(tate_country)\n",
    "moma_2013_len = len(moma_before_2013)\n",
    "percent_diff_tate_moma = tate_len/moma_2013_len\n",
    "percent_diff_tate_moma"
   ]
  },
  {
   "cell_type": "markdown",
   "metadata": {},
   "source": [
    "From our analysis we can see that there are about 2x the number of MoMA works as there are works from the Tate. To fixe this problem we will be multiplying the MoMA value counts by the Tate/MoMA value so that they are proportional and the graphs are not squewed."
   ]
  },
  {
   "cell_type": "code",
   "execution_count": null,
   "metadata": {},
   "outputs": [],
   "source": [
    "#create a new table grouping by the acquisition year artists who are non-European\n",
    "acquisitionYear = pd.DataFrame(tate_country[tate_country['European?'] == 'False'].groupby('acquisitionYear')['European?'].value_counts())\n",
    "#adding a new column that is the same as European and then removing European\n",
    "acquisitionYear['count'] = acquisitionYear['European?']\n",
    "acquisitionYear.drop(columns = ['European?'], inplace = True)\n",
    "#resetting the index and dropping the old index\n",
    "acquisitionYear = acquisitionYear.reset_index()\n",
    "acquisitionYear.drop(columns = ['European?'], inplace = True)\n",
    "#only taking the years from 1975 so that the analysis is more clear\n",
    "acquisitionYear = acquisitionYear[acquisitionYear['acquisitionYear']>1975]\n",
    "#setting the year as an integer\n",
    "acquisitionYear['acquisitionYear'] = acquisitionYear['acquisitionYear'].astype(int)\n",
    "#adding in the designation for which museum it is from\n",
    "acquisitionYear['table'] = \"Tate\"\n",
    "#making a pivot table out of the previous table\n",
    "pivot = acquisitionYear.pivot(index='acquisitionYear', columns = 'table', values = 'count')\n",
    "\n",
    "#walking through the same steps but for the MoMA table\n",
    "moma_before_2013['acquisitionYear'] = moma_before_2013['Acquisition Date'].dt.year\n",
    "acquisitionYear1 = pd.DataFrame(moma_before_2013[moma_before_2013['European?'] == 'False'].groupby('acquisitionYear')['European?'].value_counts()*percent_diff_tate_moma)\n",
    "acquisitionYear1['count'] = acquisitionYear1['European?']\n",
    "acquisitionYear1.drop(columns = ['European?'], inplace = True)\n",
    "acquisitionYear1 = acquisitionYear1.reset_index()\n",
    "acquisitionYear1.drop(columns = ['European?'], inplace = True)\n",
    "acquisitionYear1 = acquisitionYear1[acquisitionYear1['acquisitionYear']>1975]\n",
    "acquisitionYear1['table'] = \"Moma\"\n",
    "pivot1 = acquisitionYear1.pivot(index='acquisitionYear', columns = 'table', values = 'count')\n",
    "\n",
    "#merging the two tables together on acquisitionYear\n",
    "new = pivot1.merge(pivot, on = 'acquisitionYear')\n",
    "\n",
    "#plotting the graph\n",
    "new.loc[:,['Moma','Tate']].plot.bar(stacked=True, figsize=(10,7), title = \"Comparing non-European art acquired over a 38 year period\")"
   ]
  },
  {
   "cell_type": "markdown",
   "metadata": {},
   "source": [
    "<strong>Conclusion:</strong> From this graph we can see that the MoMA didn't begin to really overtake the Tate in the number of non-European art acquired until the early to mid 2000s, and it dramatically grew its art acquired during 2012. It shows how the MoMA began to ramp up the number of works that it acquired, slowly inching ahead of the Tate, but that for many years the Tate was not far behind."
   ]
  },
  {
   "cell_type": "markdown",
   "metadata": {},
   "source": [
    "Next we do a similar analysis for the non-European acquisition overtime, but this time for acquisition of art by a female artist, still making sure to account for the difference in sizes between the MoMA and the Tate."
   ]
  },
  {
   "cell_type": "code",
   "execution_count": null,
   "metadata": {
    "scrolled": false
   },
   "outputs": [],
   "source": [
    "#we use the same process as above, with the exception of switching out the column European? for gender in each instance\n",
    "acquisitionYear = pd.DataFrame(tate_country[tate_country['gender'] == 'Female'].groupby('acquisitionYear')['gender'].value_counts())\n",
    "acquisitionYear['count'] = acquisitionYear['gender']\n",
    "acquisitionYear.drop(columns = ['gender'], inplace = True)\n",
    "acquisitionYear = acquisitionYear.reset_index()\n",
    "acquisitionYear = acquisitionYear[acquisitionYear['acquisitionYear']>1975]\n",
    "acquisitionYear['acquisitionYear'] = acquisitionYear['acquisitionYear'].astype(int)\n",
    "acquisitionYear['table'] = \"Tate\"\n",
    "acquisitionYear.drop(columns = ['gender'], inplace = True)\n",
    "pivot = acquisitionYear.pivot(index='acquisitionYear', columns = 'table', values = 'count')\n",
    "\n",
    "moma_before_2013['acquisitionYear'] = moma_before_2013['Acquisition Date'].dt.year\n",
    "acquisitionYear1 = pd.DataFrame(moma_before_2013[moma_before_2013['Gender'] == 'Female'].groupby('acquisitionYear')['Gender'].value_counts()*percent_diff_tate_moma)\n",
    "acquisitionYear1['count'] = acquisitionYear1['Gender']\n",
    "acquisitionYear1.drop(columns = ['Gender'], inplace = True)\n",
    "acquisitionYear1 = acquisitionYear1.reset_index()\n",
    "acquisitionYear1 = acquisitionYear1[acquisitionYear1['acquisitionYear']>1975]\n",
    "acquisitionYear1['table'] = \"Moma\"\n",
    "acquisitionYear1.drop(columns = ['Gender'], inplace = True)\n",
    "pivot1 = acquisitionYear1.pivot(index='acquisitionYear', columns = 'table', values = 'count')\n",
    "\n",
    "new = pivot1.merge(pivot, on = 'acquisitionYear')\n",
    "\n",
    "new.loc[:,['Moma','Tate']].plot.bar(stacked=True, figsize=(10,7), title = \"Comparing amount of art created by a female artists acquired over a 38 year period\")\n"
   ]
  },
  {
   "cell_type": "markdown",
   "metadata": {},
   "source": [
    "<strong>Conclusion:</strong> From this graph we can see that the MoMA has much more consistently acquired more works by female artists than the Tate, even when accounting for a difference in size. Unlike the graph above that looked at non-European artists, there are only 2 to 3 years that the MoMA does not acquire more art by a female artist than the Tate. This shows that the MoMA has continually been collecting more art by female artists over time."
   ]
  },
  {
   "cell_type": "markdown",
   "metadata": {},
   "source": [
    "Overall Conclusion: The MoMA first majorily expanded its museum starting in 2002, and opened the new facility in 2004. "
   ]
  },
  {
   "cell_type": "markdown",
   "metadata": {},
   "source": [
    "### Do countries favor their own art over foreign art? Could this be a bias towards American or British art across many museums?"
   ]
  },
  {
   "cell_type": "markdown",
   "metadata": {},
   "source": [
    "We next examined the proportion of British works in the Tate, the proportion of American works in the MoMA, the proportion of American works in the Tate, and the proportion of British works in MoMA to see if the museums tended to collect more work created by artists from their respective countries or if there was a significant bias towards American art in the Tate or British art in MoMA."
   ]
  },
  {
   "cell_type": "code",
   "execution_count": null,
   "metadata": {},
   "outputs": [],
   "source": [
    "# find the proportion of British works in the Tate\n",
    "tate_country = tate_country.assign(British=np.where(tate_country['countryOfOrigin']==\"United Kingdom\", True, False))\n",
    "tate_British_prop = (tate_country[\"British\"] == True).mean()"
   ]
  },
  {
   "cell_type": "code",
   "execution_count": null,
   "metadata": {},
   "outputs": [],
   "source": [
    "# Find the proportion of American art in MoMA\n",
    "names_dates_moma = names_dates_moma.assign(American=np.where(names_dates_moma['Nationality']==\"American\", True, False))\n",
    "moma_American_prop = (names_dates_moma[\"American\"] == True).mean()"
   ]
  },
  {
   "cell_type": "code",
   "execution_count": null,
   "metadata": {},
   "outputs": [],
   "source": [
    "# Find the proportion of British art in MoMA\n",
    "names_dates_moma = names_dates_moma.assign(British=np.where(names_dates_moma['Nationality']==\"British\", True, False))\n",
    "moma_British_prop = (names_dates_moma[\"British\"] == True).mean()"
   ]
  },
  {
   "cell_type": "code",
   "execution_count": null,
   "metadata": {},
   "outputs": [],
   "source": [
    "# find the proportion of American works in the Tate\n",
    "tate_country = tate_country.assign(American=np.where(tate_country['countryOfOrigin']==\"United States\", True, False))\n",
    "tate_American_prop = (tate_country[\"American\"] == True).mean()"
   ]
  },
  {
   "cell_type": "code",
   "execution_count": null,
   "metadata": {},
   "outputs": [],
   "source": [
    "# Graph it!\n",
    "plotdata = pd.DataFrame(\n",
    "    {\"% of artworks\": [tate_American_prop, moma_American_prop, tate_British_prop, moma_British_prop]}, \n",
    "    index=[\"Proportion of American Art in the Tate\", \"Proportion of American Art in MoMA\", \"Proportion of British Art in the Tate\", \"Proportion of British Art in MoMA\"])\n",
    "plotdata.plot(kind=\"barh\", title = \"Examining National Biases in MoMA and the Tate\")"
   ]
  },
  {
   "cell_type": "markdown",
   "metadata": {},
   "source": [
    "<strong>Conclusion:</strong> It looks like both MoMA and the Tate favor art from their home country, with the Tate having a higher percentage of British art than MoMA has American art. There is roughly the same proportion of British art in MoMA as there is American art in the Tate."
   ]
  },
  {
   "cell_type": "markdown",
   "metadata": {},
   "source": [
    "### Examining gender and home country bias in the two museums\n",
    "How does the gender ratio look when examining art from the museum's home country?"
   ]
  },
  {
   "cell_type": "code",
   "execution_count": null,
   "metadata": {},
   "outputs": [],
   "source": [
    "# Proportion of Male American Artists\n",
    "american_males_moma = (names_dates_moma['American'] == True) & (names_dates_moma['Gender']  == \"Male\")\n",
    "american_males_moma_prop = american_males_moma.mean()"
   ]
  },
  {
   "cell_type": "code",
   "execution_count": null,
   "metadata": {},
   "outputs": [],
   "source": [
    "# Proportion of Male non-American Artists\n",
    "nonamerican_males_moma = (names_dates_moma['American'] == False) & (names_dates_moma['Gender']  == \"Male\")\n",
    "nonamerican_males_moma_prop = nonamerican_males_moma.mean()"
   ]
  },
  {
   "cell_type": "code",
   "execution_count": null,
   "metadata": {},
   "outputs": [],
   "source": [
    "# Proportion of Female American Artists\n",
    "american_females_moma = (names_dates_moma['American'] == True) & (names_dates_moma['Gender']  == \"Female\")\n",
    "american_females_moma_prop = american_females_moma.mean()"
   ]
  },
  {
   "cell_type": "code",
   "execution_count": null,
   "metadata": {},
   "outputs": [],
   "source": [
    "# Proportion of Female non-American Artists\n",
    "nonamerican_females_moma = (names_dates_moma['American'] == False) & (names_dates_moma['Gender']  == \"Female\")\n",
    "nonamerican_females_moma_prop = nonamerican_females_moma.mean()"
   ]
  },
  {
   "cell_type": "code",
   "execution_count": null,
   "metadata": {},
   "outputs": [],
   "source": [
    "# Proportion of Male British Artists\n",
    "british_males_tate = (tate_country['British'] == True) & (tate_country['gender']  == \"Male\")\n",
    "british_males_tate_prop = british_males_tate.mean()"
   ]
  },
  {
   "cell_type": "code",
   "execution_count": null,
   "metadata": {},
   "outputs": [],
   "source": [
    "# Proportion of Male non-British Artists\n",
    "nonbritish_males_tate = (tate_country['British'] == False) & (tate_country['gender']  == \"Male\")\n",
    "nonbritish_males_tate_prop = nonbritish_males_tate.mean()"
   ]
  },
  {
   "cell_type": "code",
   "execution_count": null,
   "metadata": {},
   "outputs": [],
   "source": [
    "# Proportion of Female British Artists\n",
    "british_females_tate = (tate_country['British'] == True) & (tate_country['gender']  == \"Female\")\n",
    "british_females_tate_prop = british_females_tate.mean()"
   ]
  },
  {
   "cell_type": "code",
   "execution_count": null,
   "metadata": {},
   "outputs": [],
   "source": [
    "# Proportion of Feale non-British Artists\n",
    "nonbritish_females_tate = (tate_country['British'] == False) & (tate_country['gender']  == \"Female\")\n",
    "nonbritish_females_tate_prop = nonbritish_females_tate.mean()"
   ]
  },
  {
   "cell_type": "code",
   "execution_count": null,
   "metadata": {},
   "outputs": [],
   "source": [
    "# Graph MoMA data!\n",
    "plotdata_moma = pd.DataFrame(\n",
    "    {\"% of artworks\": [american_males_moma_prop, nonamerican_males_moma_prop, american_females_moma_prop, nonamerican_females_moma_prop]}, \n",
    "    index=[\"Proportion of American Male Artists\", \"Proportion of non-American Male Artists\", \"Proportion of American Female Artists\", \"Proportion of Non-American Female Artists\"])\n",
    "plotdata_moma.plot(kind=\"barh\", title = \"Examining National Biases MoMA\")\n",
    "\n",
    "# Graph Tate data!\n",
    "plotdata_tate = pd.DataFrame(\n",
    "    {\"% of artworks\": [british_males_tate_prop, nonbritish_males_tate_prop, british_females_tate_prop, nonbritish_females_tate_prop]}, \n",
    "    index=[\"Proportion of British Male Artists\", \"Proportion of non-British Male Artists\", \"Proportion of British Female Artists\", \"Proportion of Non-British Female Artists\"])\n",
    "plotdata_tate.plot(kind=\"barh\", title = \"Examining National Biases in the Tate\")"
   ]
  },
  {
   "cell_type": "markdown",
   "metadata": {},
   "source": [
    "Conclusion: Both museums favored male artists, but MoMA has a higher proportion of non-American art than it has American art by male artists, while the Tate heavily favors British male artists. In terms of female artists, MoMA favors American over non-American artists while the Tate doesn't have a distinct difference between British and non-British female artists."
   ]
  },
  {
   "cell_type": "markdown",
   "metadata": {},
   "source": [
    "## Overall Findings from Milestone 2:\n",
    "In general, both museums tend to fairly heavily favor art from western, male artists, and specifically art from their home country. In comparing MoMA to the Tate, MoMA has historically been more diverse in terms of gender and nationality of the artists."
   ]
  },
  {
   "cell_type": "markdown",
   "metadata": {},
   "source": [
    "## Cleaning the Met dataset"
   ]
  },
  {
   "cell_type": "code",
   "execution_count": null,
   "metadata": {
    "scrolled": true
   },
   "outputs": [],
   "source": [
    "met = pd.read_csv(\"MetObjects.csv\", low_memory = False)"
   ]
  },
  {
   "cell_type": "code",
   "execution_count": null,
   "metadata": {},
   "outputs": [],
   "source": [
    "met_modern = met[met['Department'] == 'Modern and Contemporary Art']\n",
    "met_modern.drop(columns = ['Object Number','Is Highlight','Is Timeline Work','Is Public Domain','Object ID',\n",
    "                          'Gallery Number','Department','Dynasty', 'Reign',\n",
    "       'Portfolio', 'Constiuent ID', 'Artist Role', 'Artist Prefix','Artist Display Bio', 'Artist Suffix',\n",
    "       'Artist Alpha Sort','Artist ULAN URL',\n",
    "       'Artist Wikidata URL','Object Begin Date',\n",
    "       'Object End Date', 'Medium', 'Dimensions', 'Credit Line',\n",
    "       'Geography Type', 'City', 'State', 'County', 'Country', 'Region',\n",
    "       'Subregion', 'Locale', 'Locus', 'Excavation', 'River', 'Classification',\n",
    "       'Rights and Reproduction', 'Link Resource', 'Object Wikidata URL',\n",
    "       'Metadata Date', 'Repository', 'Tags', 'Tags AAT URL',\n",
    "       'Tags Wikidata URL'], inplace = True)"
   ]
  },
  {
   "cell_type": "code",
   "execution_count": null,
   "metadata": {
    "scrolled": true
   },
   "outputs": [],
   "source": [
    "met_modern = met_modern.dropna(subset=['AccessionYear'])\n",
    "met_modern['AccessionYear'] = met_modern['AccessionYear'].astype(int)\n",
    "met_before_2017 = met_modern[met_modern['AccessionYear'] < 2017]"
   ]
  },
  {
   "cell_type": "code",
   "execution_count": null,
   "metadata": {},
   "outputs": [],
   "source": [
    "met_before_2017['Artist Nationality'] = met_before_2017['Artist Nationality'].replace(np.nan,'no')\n",
    "met_before_2017['Artist Begin Date'] = met_before_2017['Artist Begin Date'].replace(np.nan,'no')\n",
    "met_before_2017['Artist End Date'] = met_before_2017['Artist End Date'].replace(np.nan,'no')"
   ]
  },
  {
   "cell_type": "code",
   "execution_count": null,
   "metadata": {},
   "outputs": [],
   "source": [
    "#in order to do a proper analysis we had to clean up the Artist Nationality because for some of the artists there\n",
    "#they had multiple nationalities, but for our purposes we could only analyze on one, so we chose the first one\n",
    "#tried to use regex but couldn't get it to work\n",
    "index = met_before_2017['Artist Nationality'].index\n",
    "for x in index:\n",
    "    if met_before_2017.loc[x,'Artist Nationality'] != 'no':\n",
    "        if '|' in met_before_2017.loc[x,'Artist Nationality']:\n",
    "            n = met_before_2017.loc[x,'Artist Nationality'].split('|')\n",
    "            met_before_2017.loc[x,'Artist Nationality'] = n[0]\n",
    "\n",
    "for x in index:\n",
    "    if met_before_2017.loc[x,'Artist Nationality'] != 'no':\n",
    "        if 'born' in met_before_2017.loc[x,'Artist Nationality']:\n",
    "            n = met_before_2017.loc[x,'Artist Nationality'].split(',')\n",
    "            met_before_2017.loc[x,'Artist Nationality'] = n[0]\n",
    "            \n",
    "            "
   ]
  },
  {
   "cell_type": "code",
   "execution_count": null,
   "metadata": {},
   "outputs": [],
   "source": [
    "index = met_before_2017['Artist Begin Date'].index\n",
    "met_before_2017['Artist Begin Date'].astype(str)\n",
    "for x in index:\n",
    "    if met_before_2017.loc[x,'Artist Begin Date'] != np.nan:\n",
    "        if '|' in met_before_2017.loc[x,'Artist Begin Date']:\n",
    "            n = met_before_2017.loc[x,'Artist Begin Date'].split('|')\n",
    "            met_before_2017.loc[x,'Artist Begin Date'] = n[0]"
   ]
  },
  {
   "cell_type": "code",
   "execution_count": null,
   "metadata": {},
   "outputs": [],
   "source": [
    "index = met_before_2017['Artist End Date'].index\n",
    "met_before_2017['Artist End Date'] = met_before_2017['Artist End Date'].astype(str, copy=True, errors='raise')\n",
    "for x in index:\n",
    "    if met_before_2017.loc[x,'Artist End Date'] != np.nan:\n",
    "        if '|' in met_before_2017.loc[x,'Artist End Date']:\n",
    "            n = met_before_2017.loc[x,'Artist End Date'].split('|')\n",
    "            met_before_2017.loc[x,'Artist End Date'] = n[0]"
   ]
  },
  {
   "cell_type": "markdown",
   "metadata": {},
   "source": [
    "Next we tried to clean the values in the Artist Gender column, but upon further inspection the column doesn't contain any usable information. It is a mix of | and only Female, which although it would be interesting to learn that the Met only had modern and contemporary works of art by female artists we know that this is not true. We displayed the different unique values, and the mess that is their Artist Gender column. Because of this we will not be able to do the same analysis of the Met vs the MoMA on gender like we did above for the MoMA vs the Tate."
   ]
  },
  {
   "cell_type": "code",
   "execution_count": null,
   "metadata": {},
   "outputs": [],
   "source": [
    "met['Artist Gender'].unique()"
   ]
  },
  {
   "cell_type": "markdown",
   "metadata": {},
   "source": [
    "## How does the diversity of the two museums compare?"
   ]
  },
  {
   "cell_type": "markdown",
   "metadata": {},
   "source": [
    "#### Comparing Western vs non-Western Art in each museum"
   ]
  },
  {
   "cell_type": "code",
   "execution_count": null,
   "metadata": {},
   "outputs": [],
   "source": [
    "met_country_before2017 = met_before_2017[met_before_2017['Artist Nationality'] != 'no']"
   ]
  },
  {
   "cell_type": "code",
   "execution_count": null,
   "metadata": {},
   "outputs": [],
   "source": [
    "met_country_before2017['Artist Nationality'].unique()"
   ]
  },
  {
   "cell_type": "code",
   "execution_count": null,
   "metadata": {},
   "outputs": [],
   "source": [
    "countries_met = ['American', 'Spanish', 'German', 'French', 'British', 'Austrian',\n",
    "       'Hungarian', 'American ', 'British, Scottish','Italian','Czech','Norwegian', 'Swedish','Finnish',\n",
    "       'Belgian','Canadian', 'Dutch', 'Romanian','Danish', 'Swiss','Rumanian',\n",
    "       'Czechoslovakian', 'Irish', 'Polish','Yugoslavian','American and French','American German',\n",
    "                 'France', 'Portuguese', 'Denmark','Slovakian','Danish-Icelandic','Icelandic']\n",
    "non_european = []\n",
    "met_country_before2017['European'] = ['False'] * len(met_country_before2017['Artist Nationality'])\n",
    "index = met_country_before2017['Artist Nationality'].index\n",
    "\n",
    "for x in index:\n",
    "    if met_country_before2017.loc[x, 'Artist Nationality'] in countries_met:\n",
    "        met_country_before2017.loc[x,'European?'] = 'True'\n",
    "    elif met_country_before2017.loc[x, 'Artist Nationality'] == np.nan:\n",
    "        met_country_before2017.loc[x,'European?'] = 'True' \n",
    "    else:\n",
    "        if met_country_before2017.loc[x, 'Artist Nationality'] in non_european:\n",
    "            met_country_before2017.loc[x,'European?'] = 'False'\n",
    "        else:\n",
    "            non_european.append(country)\n",
    "            met_country_before2017.loc[x,'European?'] = 'False'"
   ]
  },
  {
   "cell_type": "code",
   "execution_count": null,
   "metadata": {},
   "outputs": [],
   "source": [
    "# get the counts of works by Western and non-Western artists in MoMA before 2013\n",
    "moma_European = names_dates_moma['European?'].value_counts()"
   ]
  },
  {
   "cell_type": "code",
   "execution_count": null,
   "metadata": {},
   "outputs": [],
   "source": [
    "# get the counts of works by Western and non-Western artists in the Met\n",
    "met_European = met_country_before2017['European?'].value_counts()"
   ]
  },
  {
   "cell_type": "code",
   "execution_count": null,
   "metadata": {},
   "outputs": [],
   "source": [
    "# create and format pie charts\n",
    "fig, (ax1, ax2) = plot.subplots(1, 2)\n",
    "moma_European.plot.pie(ax=ax1,  autopct='%.2f')\n",
    "ax1.set_title(\"MoMA Western vs Non Western\")\n",
    "\n",
    "met_European.plot.pie(ax=ax2, autopct='%.2f')\n",
    "ax2.set_title(\"Met Western vs Non Western\")\n",
    "\n",
    "fig.subplots_adjust(wspace=.5)\n",
    "fig.set_figheight(12)\n",
    "fig.set_figwidth(12)"
   ]
  },
  {
   "cell_type": "markdown",
   "metadata": {},
   "source": [
    "<strong> Conclusion: </strong> This comparison shows that the MoMA, even before its renovation, was ahead of the Met with regard to artists of modern and contemporary art who were not of European or Western descent."
   ]
  },
  {
   "cell_type": "code",
   "execution_count": null,
   "metadata": {},
   "outputs": [],
   "source": [
    "names_dates_moma = names_dates_moma.assign(American=np.where(names_dates_moma['Nationality']==\"American\", True, False))\n",
    "met_country_before2017 = met_country_before2017.assign(American=np.where(met_country_before2017['Artist Nationality']==\"American\", True, False))\n",
    "\n",
    "american_moma = (names_dates_moma['American'] == True)\n",
    "american_moma_num = american_moma.mean()\n",
    "nonamerican_moma = (names_dates_moma['American'] == False)\n",
    "nonamerican_moma_num = nonamerican_moma.mean()\n",
    "\n",
    "america_met_before_2017 = (met_country_before2017['American'] == True)\n",
    "american_met_before_2017 = america_met_before_2017.mean()\n",
    "nonamerica_met_before_2017 = (met_country_before2017['American'] == False)\n",
    "nonamerican_met_before_2017 = nonamerica_met_before_2017.mean()"
   ]
  },
  {
   "cell_type": "code",
   "execution_count": null,
   "metadata": {},
   "outputs": [],
   "source": [
    "# Graph MoMA data!\n",
    "plotdata_moma = pd.DataFrame(\n",
    "    {\"% of artworks\": [american_moma_num,nonamerican_moma_num]}, \n",
    "    index=['Proportion of American Artists in the MoMA','Proportion of Non-American Artists in the MoMA'])\n",
    "plotdata_moma.plot(kind=\"barh\", title = \"Examining National Biases MoMA\")\n",
    "\n",
    "# Graph Tate data!\n",
    "plotdata_tate = pd.DataFrame(\n",
    "    {\"% of artworks\": [american_met_before_2017,nonamerican_met_before_2017]}, \n",
    "    index=['Proportion of American Artists in the Met','Proportion of Non-American Artists in the Met' ])\n",
    "plotdata_tate.plot(kind=\"barh\", title = \"Examining National Biases in the Met\")"
   ]
  },
  {
   "cell_type": "code",
   "execution_count": null,
   "metadata": {},
   "outputs": [],
   "source": []
  }
 ],
 "metadata": {
  "kernelspec": {
   "display_name": "Python 3",
   "language": "python",
   "name": "python3"
  },
  "language_info": {
   "codemirror_mode": {
    "name": "ipython",
    "version": 3
   },
   "file_extension": ".py",
   "mimetype": "text/x-python",
   "name": "python",
   "nbconvert_exporter": "python",
   "pygments_lexer": "ipython3",
   "version": "3.8.2"
  }
 },
 "nbformat": 4,
 "nbformat_minor": 4
}
