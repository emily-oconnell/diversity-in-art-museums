{
 "cells": [
  {
   "cell_type": "markdown",
   "metadata": {},
   "source": [
    "[Link to our site](https://lindsayhardy17.github.io/)"
   ]
  },
  {
   "cell_type": "markdown",
   "metadata": {},
   "source": [
    "# <center>Evaluating the changes in art museums </center>\n",
    "### <center>Lindsay Hardy and Emily O'Connell </center>"
   ]
  },
  {
   "cell_type": "markdown",
   "metadata": {},
   "source": [
    "### Goals"
   ]
  },
  {
   "cell_type": "markdown",
   "metadata": {},
   "source": [
    "For our project, we will be analyzing a [dataset](https://github.com/MuseumofModernArt/collection/blob/master/Artworks.csv) concerning the collection of the Museum of Modern Art (MoMA). The MoMA over the past twenty years has gone through a couple expansions, the first finishing in 2004 and the second finishing in 2019. For our analysis we mainly plan to focus on its changes that started in 2014.\n",
    "\n",
    "In 2014 MoMA revealed its plans to expand and add 47,000 square feet to its current gallery space. This addition the MoMA said will allow for new and innovative displays and reorganization of the museum. With this expansion they had distinct goals of \"diversifying the canon, embracing the present, and showing 1,000 more of its artworks.\" Through this the curators plan to spotlight the work of women, African American, Asian, and Latino artists who have been previously overlooked in the collection. “We feel that many, many regions that once seemed peripheral don’t seem that way any more, they seem central. Figures who once seemed secondary now seem primary,” said MoMA chief curator Ann Temkin. In order to do this the MoMA has had to actively work over the past years to diversify their collection so that they will be able to accurately meet the goals that they had laid out for themselves. \n",
    "\n",
    "When looking at the MoMA dataset, with their goals in mind, our overarching question is exploring whether or not MoMA fulfilled its goal of expanding the diversity of its art collection. In order to see if this shift was reflected in their collection and acquisitions, we will attempt to measure the overall diversity a work adds to the collection by analyzing the relevant aspects of the artwork such as the artist's nationality, the artist’s gender, the year the work was created, the year it was acquired, and various other factors. Although it is impossible to truly quantify the abstract concept of diversity, we believe that analyzing overall patterns in acquisitions will be helpful in determining whether or not MoMA has been successful in its goal of introducing new viewpoints to its collection. \n",
    "\n",
    "### The questions that we plan to answer: \n",
    "1. Is there an overwhelming number of male artists represented?\n",
    "2. Has MoMA recently been acquiring artwork from non-American at a higher frequency than in the past?\n",
    "3. Is the artwork acquired from non-American artists from Western European countries or elsewhere?\n",
    "4. How does the average age of a work of art change in different time periods? \n",
    "\n",
    "By answering all of these smaller questions, we will be able to make a judgement on our overall  research question of assessing the diversity of the collection in recent years. We will also look at the trends over time to see if there are changes in what kind of artwork MoMA typically collects and note any differences between time periods. We have found a rich and detailed dataset with 130,262 works of art owned by MoMA acquired from 1929 to 2017. Although our dataset for the MoMA stops at 2017, but we believe that we will be able to conduct a thourough analysis of their goals, as they laid out their goals for changes in early 2014, so we will have around three years of data to work with and compare with their previous activities. So in all we will have a lot of information pertaining to the type of artwork MoMA has acquired in different time periods.  \n",
    "\n",
    "### Comparison with other museums\n",
    "In addition to the thorough analysis we will conduct on MoMA dataset, we also plan to compare the MoMA’s collection to other large modern/contemporary art museums like the [Tate](https://github.com/tategallery/collection), a modern art museum in London. Through a comparison of the Tate and the MoMA we will be able to see if there are any differences in collections and trends between museums in two different countries. The Tate's collection is slightly smaller than MoMA's, only having 70,000 works, and the dataset that we have only representing 69,274 of those works. Because of this when we conduct comparisons between the two datasets we will need to be mindful of the difference in size of the two museums.\n",
    "\n",
    "We will also investigate the collection of the [Metropolitan Museum of Art](https://github.com/metmuseum/openaccess), another famous art museum in New York City. Even though the Met is not specifically focused on modern art, we will be able to key into its modern/contemporary art collection and only focus specifically on those works. The number of modern/contemporary works that the Met has is much smaller than the MoMAs, only 13,452, but we believe this will still allow us some insight into the differences and similarities between the two museums. By comparing the MoMA to these other museums we will be able to see if they not only reached their goals but if their goals place them as a forward thinker on modern art and not just a part of the crowd. \n",
    "\n",
    "### Outline\n",
    "We have laid out our work flow below by starting with cleaning the MoMA data, then conducting individual analysis on it to answer our questions stated above. Then we clean the Tate data and compare it to the data from the MoMA. Afterwards we clean the Met data, and in a similar fashion to how we compared the Tate dataset, we will do the same analysis between the Met and the MoMA. Finally we have a conclusion section at the bottom stating our overall findings and what we believe the analysis has shown us.\n",
    "\n",
    "### Collaboration Plan\n",
    "In terms of collaboration, we have set up a [GitHub repository](https://github.com/lindsayhardy17/lindsayhardy17.github.io) and plan for storing the datasets, sharing code, and version control. We intend to meet on Zoom once a week on Tuesdays at 3:10, right after class, and will also be flexible with adding a second time to meet on Thursday after class as well.  During these meetings we plan to check our progress, solve problems, and ask questions, in addition to communicating outside of scheduled meetings as needed.\n",
    "\n",
    "\n",
    "\n",
    "\n",
    "\n"
   ]
  },
  {
   "cell_type": "markdown",
   "metadata": {},
   "source": [
    "### MoMA Data Extraction, Cleaning, and Loading"
   ]
  },
  {
   "cell_type": "markdown",
   "metadata": {},
   "source": [
    "The first thing that we needed to do was unzip our files. We originally tried to pull the data from the github repo, but the MoMA has a no pull policy. So instead we downloaded the data from kaggle."
   ]
  },
  {
   "cell_type": "code",
   "execution_count": 1,
   "metadata": {},
   "outputs": [],
   "source": [
    "import pandas as pd\n",
    "import zipfile\n",
    "import numpy as np\n",
    "import re\n",
    "import datetime\n",
    "import matplotlib.pyplot as plot\n",
    "import matplotlib.ticker as ticker\n",
    "#import geopandas as gpd\n",
    "pd.options.mode.chained_assignment = None"
   ]
  },
  {
   "cell_type": "markdown",
   "metadata": {},
   "source": [
    "We unzipped the files and placed them in a working form in our folder"
   ]
  },
  {
   "cell_type": "code",
   "execution_count": 2,
   "metadata": {},
   "outputs": [],
   "source": [
    "with zipfile.ZipFile('archive.zip', 'r') as zip_ref:\n",
    "    zip_ref.extractall()"
   ]
  },
  {
   "cell_type": "markdown",
   "metadata": {},
   "source": [
    "Next we read in the Artworks file and the Artists file and created a new dataframe called gender. We will be analyzing the gender and nationality of the artists so we wanted it in our main dataframe. Originally we tried to merge the two dataframes on 'Artist ID', but upon a closer look, \"Artist ID\" had multiple ids in the artworks dataframe but not in the artists dataframe. Some had up to 5 ids while others only had 1. Because of this we decided to just merge on \"Name\" because of its consistence across both dataframes. Once we merged we renamed the dataframe \"moma\". The resulting dataframe is made up of the works title, the artist and their background, the name of the work, information on the medium and different measurement types, when the moma acquired the work, and a couple other minor things. We are looking to analyze the dataframe to find insights on the dates that they were acquired with regard to when the works were made and if there were significant changes in the works acquired after a certain year. We think with this dataset we will be able to do all of these things because of the columns below, but will need to make sure that the columns are in the correct format."
   ]
  },
  {
   "cell_type": "code",
   "execution_count": 3,
   "metadata": {},
   "outputs": [
    {
     "data": {
      "text/plain": [
       "Index(['Artist ID', 'Name', 'Nationality', 'Gender', 'Birth Year',\n",
       "       'Death Year'],\n",
       "      dtype='object')"
      ]
     },
     "execution_count": 3,
     "metadata": {},
     "output_type": "execute_result"
    }
   ],
   "source": [
    "moma_artworks = pd.read_csv(\"Artworks.csv\")\n",
    "moma_artists = pd.read_csv(\"Artists.csv\")\n",
    "moma_artists.columns"
   ]
  },
  {
   "cell_type": "code",
   "execution_count": 4,
   "metadata": {
    "scrolled": true
   },
   "outputs": [
    {
     "data": {
      "text/html": [
       "<div>\n",
       "<style scoped>\n",
       "    .dataframe tbody tr th:only-of-type {\n",
       "        vertical-align: middle;\n",
       "    }\n",
       "\n",
       "    .dataframe tbody tr th {\n",
       "        vertical-align: top;\n",
       "    }\n",
       "\n",
       "    .dataframe thead th {\n",
       "        text-align: right;\n",
       "    }\n",
       "</style>\n",
       "<table border=\"1\" class=\"dataframe\">\n",
       "  <thead>\n",
       "    <tr style=\"text-align: right;\">\n",
       "      <th></th>\n",
       "      <th>Artwork ID</th>\n",
       "      <th>Title</th>\n",
       "      <th>Artist ID</th>\n",
       "      <th>Name</th>\n",
       "      <th>Date</th>\n",
       "      <th>Medium</th>\n",
       "      <th>Dimensions</th>\n",
       "      <th>Acquisition Date</th>\n",
       "      <th>Credit</th>\n",
       "      <th>Catalogue</th>\n",
       "      <th>...</th>\n",
       "      <th>Height (cm)</th>\n",
       "      <th>Length (cm)</th>\n",
       "      <th>Width (cm)</th>\n",
       "      <th>Depth (cm)</th>\n",
       "      <th>Weight (kg)</th>\n",
       "      <th>Duration (s)</th>\n",
       "      <th>Gender</th>\n",
       "      <th>Nationality</th>\n",
       "      <th>Birth Year</th>\n",
       "      <th>Death Year</th>\n",
       "    </tr>\n",
       "  </thead>\n",
       "  <tbody>\n",
       "    <tr>\n",
       "      <th>0</th>\n",
       "      <td>2</td>\n",
       "      <td>Ferdinandsbrücke Project, Vienna, Austria, Ele...</td>\n",
       "      <td>6210</td>\n",
       "      <td>Otto Wagner</td>\n",
       "      <td>1896</td>\n",
       "      <td>Ink and cut-and-pasted painted pages on paper</td>\n",
       "      <td>19 1/8 x 66 1/2\" (48.6 x 168.9 cm)</td>\n",
       "      <td>1996-04-09</td>\n",
       "      <td>Fractional and promised gift of Jo Carole and ...</td>\n",
       "      <td>Y</td>\n",
       "      <td>...</td>\n",
       "      <td>48.6000</td>\n",
       "      <td>NaN</td>\n",
       "      <td>168.9000</td>\n",
       "      <td>NaN</td>\n",
       "      <td>NaN</td>\n",
       "      <td>NaN</td>\n",
       "      <td>Male</td>\n",
       "      <td>Austrian</td>\n",
       "      <td>1841.0</td>\n",
       "      <td>1918.0</td>\n",
       "    </tr>\n",
       "    <tr>\n",
       "      <th>1</th>\n",
       "      <td>3</td>\n",
       "      <td>City of Music, National Superior Conservatory ...</td>\n",
       "      <td>7470</td>\n",
       "      <td>Christian de Portzamparc</td>\n",
       "      <td>1987</td>\n",
       "      <td>Paint and colored pencil on print</td>\n",
       "      <td>16 x 11 3/4\" (40.6 x 29.8 cm)</td>\n",
       "      <td>1995-01-17</td>\n",
       "      <td>Gift of the architect in honor of Lily Auchinc...</td>\n",
       "      <td>Y</td>\n",
       "      <td>...</td>\n",
       "      <td>40.6401</td>\n",
       "      <td>NaN</td>\n",
       "      <td>29.8451</td>\n",
       "      <td>NaN</td>\n",
       "      <td>NaN</td>\n",
       "      <td>NaN</td>\n",
       "      <td>Male</td>\n",
       "      <td>French</td>\n",
       "      <td>1944.0</td>\n",
       "      <td>NaN</td>\n",
       "    </tr>\n",
       "    <tr>\n",
       "      <th>2</th>\n",
       "      <td>4</td>\n",
       "      <td>Villa near Vienna Project, Outside Vienna, Aus...</td>\n",
       "      <td>7605</td>\n",
       "      <td>Emil Hoppe</td>\n",
       "      <td>1903</td>\n",
       "      <td>Graphite, pen, color pencil, ink, and gouache ...</td>\n",
       "      <td>13 1/2 x 12 1/2\" (34.3 x 31.8 cm)</td>\n",
       "      <td>1997-01-15</td>\n",
       "      <td>Gift of Jo Carole and Ronald S. Lauder</td>\n",
       "      <td>Y</td>\n",
       "      <td>...</td>\n",
       "      <td>34.3000</td>\n",
       "      <td>NaN</td>\n",
       "      <td>31.8000</td>\n",
       "      <td>NaN</td>\n",
       "      <td>NaN</td>\n",
       "      <td>NaN</td>\n",
       "      <td>Male</td>\n",
       "      <td>Austrian</td>\n",
       "      <td>1876.0</td>\n",
       "      <td>1957.0</td>\n",
       "    </tr>\n",
       "    <tr>\n",
       "      <th>3</th>\n",
       "      <td>5</td>\n",
       "      <td>The Manhattan Transcripts Project, New York, N...</td>\n",
       "      <td>7056</td>\n",
       "      <td>Bernard Tschumi</td>\n",
       "      <td>1980</td>\n",
       "      <td>Photographic reproduction with colored synthet...</td>\n",
       "      <td>20 x 20\" (50.8 x 50.8 cm)</td>\n",
       "      <td>1995-01-17</td>\n",
       "      <td>Purchase and partial gift of the architect in ...</td>\n",
       "      <td>Y</td>\n",
       "      <td>...</td>\n",
       "      <td>50.8000</td>\n",
       "      <td>NaN</td>\n",
       "      <td>50.8000</td>\n",
       "      <td>NaN</td>\n",
       "      <td>NaN</td>\n",
       "      <td>NaN</td>\n",
       "      <td>Male</td>\n",
       "      <td>NaN</td>\n",
       "      <td>1944.0</td>\n",
       "      <td>NaN</td>\n",
       "    </tr>\n",
       "    <tr>\n",
       "      <th>4</th>\n",
       "      <td>6</td>\n",
       "      <td>Villa, project, outside Vienna, Austria, Exter...</td>\n",
       "      <td>7605</td>\n",
       "      <td>Emil Hoppe</td>\n",
       "      <td>1903</td>\n",
       "      <td>Graphite, color pencil, ink, and gouache on tr...</td>\n",
       "      <td>15 1/8 x 7 1/2\" (38.4 x 19.1 cm)</td>\n",
       "      <td>1997-01-15</td>\n",
       "      <td>Gift of Jo Carole and Ronald S. Lauder</td>\n",
       "      <td>Y</td>\n",
       "      <td>...</td>\n",
       "      <td>38.4000</td>\n",
       "      <td>NaN</td>\n",
       "      <td>19.1000</td>\n",
       "      <td>NaN</td>\n",
       "      <td>NaN</td>\n",
       "      <td>NaN</td>\n",
       "      <td>Male</td>\n",
       "      <td>Austrian</td>\n",
       "      <td>1876.0</td>\n",
       "      <td>1957.0</td>\n",
       "    </tr>\n",
       "  </tbody>\n",
       "</table>\n",
       "<p>5 rows × 25 columns</p>\n",
       "</div>"
      ],
      "text/plain": [
       "   Artwork ID                                              Title Artist ID  \\\n",
       "0           2  Ferdinandsbrücke Project, Vienna, Austria, Ele...      6210   \n",
       "1           3  City of Music, National Superior Conservatory ...      7470   \n",
       "2           4  Villa near Vienna Project, Outside Vienna, Aus...      7605   \n",
       "3           5  The Manhattan Transcripts Project, New York, N...      7056   \n",
       "4           6  Villa, project, outside Vienna, Austria, Exter...      7605   \n",
       "\n",
       "                       Name  Date  \\\n",
       "0               Otto Wagner  1896   \n",
       "1  Christian de Portzamparc  1987   \n",
       "2                Emil Hoppe  1903   \n",
       "3           Bernard Tschumi  1980   \n",
       "4                Emil Hoppe  1903   \n",
       "\n",
       "                                              Medium  \\\n",
       "0      Ink and cut-and-pasted painted pages on paper   \n",
       "1                  Paint and colored pencil on print   \n",
       "2  Graphite, pen, color pencil, ink, and gouache ...   \n",
       "3  Photographic reproduction with colored synthet...   \n",
       "4  Graphite, color pencil, ink, and gouache on tr...   \n",
       "\n",
       "                           Dimensions Acquisition Date  \\\n",
       "0  19 1/8 x 66 1/2\" (48.6 x 168.9 cm)       1996-04-09   \n",
       "1       16 x 11 3/4\" (40.6 x 29.8 cm)       1995-01-17   \n",
       "2   13 1/2 x 12 1/2\" (34.3 x 31.8 cm)       1997-01-15   \n",
       "3           20 x 20\" (50.8 x 50.8 cm)       1995-01-17   \n",
       "4    15 1/8 x 7 1/2\" (38.4 x 19.1 cm)       1997-01-15   \n",
       "\n",
       "                                              Credit Catalogue  ...  \\\n",
       "0  Fractional and promised gift of Jo Carole and ...         Y  ...   \n",
       "1  Gift of the architect in honor of Lily Auchinc...         Y  ...   \n",
       "2             Gift of Jo Carole and Ronald S. Lauder         Y  ...   \n",
       "3  Purchase and partial gift of the architect in ...         Y  ...   \n",
       "4             Gift of Jo Carole and Ronald S. Lauder         Y  ...   \n",
       "\n",
       "  Height (cm) Length (cm) Width (cm)  Depth (cm)  Weight (kg)  Duration (s)  \\\n",
       "0     48.6000         NaN   168.9000         NaN          NaN           NaN   \n",
       "1     40.6401         NaN    29.8451         NaN          NaN           NaN   \n",
       "2     34.3000         NaN    31.8000         NaN          NaN           NaN   \n",
       "3     50.8000         NaN    50.8000         NaN          NaN           NaN   \n",
       "4     38.4000         NaN    19.1000         NaN          NaN           NaN   \n",
       "\n",
       "   Gender  Nationality  Birth Year  Death Year  \n",
       "0    Male     Austrian      1841.0      1918.0  \n",
       "1    Male       French      1944.0         NaN  \n",
       "2    Male     Austrian      1876.0      1957.0  \n",
       "3    Male          NaN      1944.0         NaN  \n",
       "4    Male     Austrian      1876.0      1957.0  \n",
       "\n",
       "[5 rows x 25 columns]"
      ]
     },
     "execution_count": 4,
     "metadata": {},
     "output_type": "execute_result"
    }
   ],
   "source": [
    "gender = moma_artists[[\"Gender\", 'Name', 'Nationality', 'Birth Year','Death Year']]\n",
    "moma = moma_artworks.merge(gender, on = ['Name'], how = 'left')\n",
    "moma['Gender'] = moma['Gender'].replace({'male':'Male'})\n",
    "moma.head()"
   ]
  },
  {
   "cell_type": "markdown",
   "metadata": {},
   "source": [
    "Then we checked on the datatypes, everything looked like it was the right type of object except for the dates, so we first changed Acquisition Date"
   ]
  },
  {
   "cell_type": "code",
   "execution_count": 5,
   "metadata": {},
   "outputs": [
    {
     "data": {
      "text/plain": [
       "Artwork ID              int64\n",
       "Title                  object\n",
       "Artist ID              object\n",
       "Name                   object\n",
       "Date                   object\n",
       "Medium                 object\n",
       "Dimensions             object\n",
       "Acquisition Date       object\n",
       "Credit                 object\n",
       "Catalogue              object\n",
       "Department             object\n",
       "Classification         object\n",
       "Object Number          object\n",
       "Diameter (cm)         float64\n",
       "Circumference (cm)    float64\n",
       "Height (cm)           float64\n",
       "Length (cm)           float64\n",
       "Width (cm)            float64\n",
       "Depth (cm)            float64\n",
       "Weight (kg)           float64\n",
       "Duration (s)          float64\n",
       "Gender                 object\n",
       "Nationality            object\n",
       "Birth Year            float64\n",
       "Death Year            float64\n",
       "dtype: object"
      ]
     },
     "metadata": {},
     "output_type": "display_data"
    },
    {
     "data": {
      "text/plain": [
       "Artwork ID                     int64\n",
       "Title                         object\n",
       "Artist ID                     object\n",
       "Name                          object\n",
       "Date                          object\n",
       "Medium                        object\n",
       "Dimensions                    object\n",
       "Acquisition Date      datetime64[ns]\n",
       "Credit                        object\n",
       "Catalogue                     object\n",
       "Department                    object\n",
       "Classification                object\n",
       "Object Number                 object\n",
       "Diameter (cm)                float64\n",
       "Circumference (cm)           float64\n",
       "Height (cm)                  float64\n",
       "Length (cm)                  float64\n",
       "Width (cm)                   float64\n",
       "Depth (cm)                   float64\n",
       "Weight (kg)                  float64\n",
       "Duration (s)                 float64\n",
       "Gender                        object\n",
       "Nationality                   object\n",
       "Birth Year                   float64\n",
       "Death Year                   float64\n",
       "dtype: object"
      ]
     },
     "execution_count": 5,
     "metadata": {},
     "output_type": "execute_result"
    }
   ],
   "source": [
    "display(moma.dtypes)\n",
    "#checked to see if the values are correct, the date and the acquisition date aren't in date time so converting them\n",
    "moma['Acquisition Date'] = pd.to_datetime(moma['Acquisition Date'], errors = 'coerce')\n",
    "#changed to datetime\n",
    "moma.dtypes"
   ]
  },
  {
   "cell_type": "markdown",
   "metadata": {},
   "source": [
    "While we were checking the different values we realized that the Date, the year the artword was created, had a lot of different problems and could not be analyzed because of its different date representations, like having 1967-1977, or c. 1989, or early 1992. Because of this we had to fix the Date column, which is shown below. Having this column be correct is very important to us because the date of creation is crucial to our analysis."
   ]
  },
  {
   "cell_type": "code",
   "execution_count": 6,
   "metadata": {},
   "outputs": [
    {
     "data": {
      "text/plain": [
       "array(['1896', '1987', '1903', '1980', '1976-77', '1968', '1900', '1978',\n",
       "       '1905', '1906', '1979', '1980-81', '1918', '1970', '1975', '1984',\n",
       "       '1986', '1974', 'n.d.', 'c. 1917', '1917', '1923', 'Unknown',\n",
       "       '1930', '1936', '1935', '1937', '1938', '1977', '1958', '1985',\n",
       "       '1989', '1949', '1958–1964', 'c. 1935', '1991', '1941', '1965',\n",
       "       '1981', '1983', '1985–1988', 'c. 1989-91', '1992', '1915-17',\n",
       "       'c. 1915-17', '1953', '1910', 'c.1985', '1982–1986', '1982-86',\n",
       "       '1945', '1923–1924', '.1-3 1987; .4 1990', '1990', '1976', '1995',\n",
       "       '1927–1931', 'c. 1929-30', '1964', '1959', 'c. 1918-20',\n",
       "       'c.1918-1920', '1939', 'c.1976', '1975-79', '1993', '1996', '1988',\n",
       "       '1982-83', '1982–1983', '1952-53', '1921', '1957', '1972',\n",
       "       '1956-57', '1924', '1962', '1925', '1960', '1969', '1963', '1994',\n",
       "       '1961', '1960-61', '1952', 'c. 1978-84', '1927', '1979–1985',\n",
       "       'before 1933', '1929', 'c. 1960-62', '1967', '1956', 'c. 1961',\n",
       "       '1934-36', '1981–1982', '1979–1981', '1940', 'after 1938', '1946'],\n",
       "      dtype=object)"
      ]
     },
     "execution_count": 6,
     "metadata": {},
     "output_type": "execute_result"
    }
   ],
   "source": [
    "moma['Date'].unique()[:100]\n",
    "#a small sample of the unique types and their differences "
   ]
  },
  {
   "cell_type": "code",
   "execution_count": 7,
   "metadata": {},
   "outputs": [],
   "source": [
    "n_d = moma[(moma[\"Date\"] == \"nan\") | (moma[\"Date\"] == \"n.d\") | (moma[\"Date\"] == \"Unkn\") | (moma[\"Date\"] == \"Unknown\") | (moma[\"Date\"] == \"Various\") | (moma[\"Date\"] == \"unknown\")].index\n",
    "moma.drop(n_d, inplace = True)"
   ]
  },
  {
   "cell_type": "markdown",
   "metadata": {},
   "source": [
    "First we removed the obvious components that were incorrect, but then realized the large extent to which the dataset had issues, so we used regular expressions to extract a date, shown below, and then checked the remaining dates that were not in the correct format that we missed"
   ]
  },
  {
   "cell_type": "code",
   "execution_count": 8,
   "metadata": {},
   "outputs": [
    {
     "data": {
      "text/plain": [
       "array(['n.d.', '8th-9th century C.E.', '7th-8th century C.E.', 'Unkown',\n",
       "       '(London?, published in aid of the Comforts Fund  for Women and Children of Sovie',\n",
       "       '(n.d.)', 'New York', 'November 10', '(19)71', '(19)69',\n",
       "       'date of publicati', 'nd', 'no date',\n",
       "       '(newspaper published March 30)', 'n. d.', 'c. 196?', 'TBC', 'TBD'],\n",
       "      dtype=object)"
      ]
     },
     "execution_count": 8,
     "metadata": {},
     "output_type": "execute_result"
    }
   ],
   "source": [
    "moma['date_edit'] = moma['Date'].str.extract('(\\d{4})', expand = False)\n",
    "#creating a new column to store the dates\n",
    "moma[(moma['date_edit'].isnull() == True) & (moma['Date'].isnull() == False)]['Date'].unique()\n",
    "#checking where the date_edit is null but the Date is true - these will be the remaining dates that could\n",
    "#not be converted to a correct date format with four numbers"
   ]
  },
  {
   "cell_type": "markdown",
   "metadata": {},
   "source": [
    "Because none of these dates had any meaning to us, we could officially switch over to have the date_edit column be our official date column, which we do below"
   ]
  },
  {
   "cell_type": "code",
   "execution_count": 9,
   "metadata": {},
   "outputs": [
    {
     "data": {
      "text/plain": [
       "array(['1896', '1987', '1903', '1980', '1976', '1968', '1900', '1978',\n",
       "       '1905', '1906', '1979', '1918', '1970', '1975', '1984', '1986',\n",
       "       '1974', nan, '1917', '1923', '1930', '1936', '1935', '1937',\n",
       "       '1938', '1977', '1958', '1985', '1989', '1949', '1991', '1941',\n",
       "       '1965', '1981', '1983', '1992', '1915', '1953', '1910', '1982',\n",
       "       '1945', '1990', '1995', '1927', '1929', '1964', '1959', '1939',\n",
       "       '1993', '1996', '1988', '1952', '1921', '1957', '1972', '1956',\n",
       "       '1924', '1962', '1925', '1960', '1969', '1963', '1994', '1961',\n",
       "       '1933', '1967', '1934', '1940', '1946', '1955', '1997', '1922',\n",
       "       '1942', '1954', '1916', '1973', '1926', '1932', '1947', '1943',\n",
       "       '1944', '1966', '1971', '1999', '1951', '1913', '1928', '1886',\n",
       "       '1920', '1950', '1931', '1901', '1948', '1912', '1908', '1902',\n",
       "       '1904', '1998', '1898', '1875', '1880', '1909', '1501', '1897',\n",
       "       '1907', '1895', '1914', '1885', '1768', '1878', '1808', '1865',\n",
       "       '1899', '1876', '1873', '1860', '1866', '1919', '1830', '1840',\n",
       "       '1884', '1883', '2000', '1894', '1893', '1879', '1890', '1892',\n",
       "       '1877', '1911', '1891', '1889', '1818', '1852', '1837', '1825',\n",
       "       '1828', '1854', '1797', '1799', '1810', '1863', '1816', '1874',\n",
       "       '1887', '1881', '1882', '1888', '1868', '1871', '1858', '1853',\n",
       "       '1850', '1855', '1846', '1862', '1856', '1843', '1872', '1861',\n",
       "       '1864', '1869', '1870', '1857', '1826', '1829', '1859', '1844',\n",
       "       '1851', '1842', '1845', '1867', '1839', '1838', '1805', '1786',\n",
       "       '1809', '1849', '1841', '1832', '1811', '1847', '1800', '2001',\n",
       "       '2002', '2003', '2004', '1821', '2005', '2006', '2011', '2009',\n",
       "       '2007', '2008', '1848', '2010', '2012', '2013', '2016', '2014',\n",
       "       '2015', '2017'], dtype=object)"
      ]
     },
     "execution_count": 9,
     "metadata": {},
     "output_type": "execute_result"
    }
   ],
   "source": [
    "moma['Date'] = moma['date_edit']\n",
    "moma.drop(columns=['date_edit'], inplace = True)\n",
    "moma['Date'].unique()\n",
    "#one last check to make sure that all of our corresponding values are actually dates"
   ]
  },
  {
   "cell_type": "markdown",
   "metadata": {},
   "source": [
    "After we officially had all the values as dates we converted them to a date time"
   ]
  },
  {
   "cell_type": "code",
   "execution_count": 10,
   "metadata": {},
   "outputs": [],
   "source": [
    "# convert the strings back to integers\n",
    "moma['Date'] = pd.to_datetime(moma['Date'], errors=\"coerce\")\n",
    "moma['Date'] = moma['Date'].dt.year"
   ]
  },
  {
   "cell_type": "markdown",
   "metadata": {},
   "source": [
    "One of the main things that we will be looking at is when the MoMA acquired the work of art. Without this knowledge we won't be able to see if they really changed following their addition. Because of this we removed works that did not have a date from the original dataframe moma. We decided not to remove the date of the creation of art for right now because we believe those works could potentially be useful."
   ]
  },
  {
   "cell_type": "code",
   "execution_count": 11,
   "metadata": {},
   "outputs": [],
   "source": [
    "no_date = moma[(moma['Acquisition Date'].isnull() == True)].index\n",
    "moma.drop(no_date, inplace = True)\n",
    "#dropped dates that didn't have an acquisition date"
   ]
  },
  {
   "cell_type": "markdown",
   "metadata": {},
   "source": [
    "After cleaning the data we began to add in columns that we would utilize in our analysis. The first column that we planned on adding was a distinguisher of if the artist was alive when the work was acquired or not."
   ]
  },
  {
   "cell_type": "code",
   "execution_count": 12,
   "metadata": {},
   "outputs": [],
   "source": [
    "moma['age_made'] = moma['Date'] - moma['Birth Year']\n",
    "moma['alive?'] = moma['Date']"
   ]
  },
  {
   "cell_type": "code",
   "execution_count": 13,
   "metadata": {},
   "outputs": [],
   "source": [
    "def alive(acquisition,death):\n",
    "    if acquisition > death:\n",
    "        return 'False'\n",
    "    else:\n",
    "        return 'True'\n",
    "moma['Acquisition Year'] = moma['Acquisition Date'].dt.year\n",
    "moma['alive?'] = moma.apply(lambda row: alive(row['Acquisition Year'],row['Death Year']),axis=1)"
   ]
  },
  {
   "cell_type": "markdown",
   "metadata": {},
   "source": [
    "We used apply above to check each row to see if the artist was alive when the work was acquired, then made a column called alive? that was true if they were alive and false if they weren't"
   ]
  },
  {
   "cell_type": "markdown",
   "metadata": {},
   "source": [
    "Next we created a column to determine if the artists was of European or Western descent."
   ]
  },
  {
   "cell_type": "code",
   "execution_count": 14,
   "metadata": {},
   "outputs": [
    {
     "data": {
      "text/plain": [
       "array(['Austrian', 'French', nan, 'American', 'German', 'Swedish',\n",
       "       'British', 'Japanese', 'Italian', 'Argentine', 'Swiss',\n",
       "       'Brazilian', 'Luxembourgish', 'Spanish', 'Dutch', 'Russian',\n",
       "       'Iranian', 'Finnish', 'Danish', 'Belgian', 'Nationality unknown',\n",
       "       'Mexican', 'Czech', 'Romanian', 'Polish', 'Cuban', 'Chilean',\n",
       "       'Puerto Rican', 'Uruguayan', 'Venezuelan', 'Moroccan', 'Colombian',\n",
       "       'Australian', 'Chinese', 'Yugoslav', 'Hungarian', 'Canadian',\n",
       "       'Slovenian', 'Latvian', 'Nationality Unknown', 'Various', 'Greek',\n",
       "       'Haitian', 'Israeli', 'Icelandic', 'Czechoslovakian', 'Croatian',\n",
       "       'Norwegian', 'Thai', 'Algerian', 'Guatemalan', 'Indian',\n",
       "       'Ukrainian', 'Irish', 'Costa Rican', 'Korean', 'Ethiopian',\n",
       "       'Kuwaiti', 'Scottish', 'South African', 'Zimbabwean', 'Portuguese',\n",
       "       'Panamanian', 'Ecuadorian', 'Peruvian', 'Congolese', 'Malian',\n",
       "       'Turkish', 'Cambodian', 'Bosnian', 'Canadian Inuit', 'Slovak',\n",
       "       'Estonian', 'Pakistani', 'Bolivian', 'Taiwanese', 'Paraguayan',\n",
       "       'Nicaraguan', 'Tunisian', 'Sudanese', 'Tanzanian', 'Guyanese',\n",
       "       'Senegalese', 'Bahamian', 'Bulgarian', 'Lebanese', 'Kenyan',\n",
       "       'Nigerian', 'Georgian', 'Egyptian', 'Albanian', 'Azerbaijani',\n",
       "       'Ivorian', 'Malaysian', 'Singaporean', 'Serbian', 'Lithuanian',\n",
       "       'Tajik', 'New Zealander', 'Namibian', 'Native American',\n",
       "       'Ghanaian', 'Afghan', 'nationality unknown', 'Ugandan',\n",
       "       'Cameroonian', 'Welsh', 'Mauritanian', 'Palestinian', 'Syrian',\n",
       "       'Saudi Arabian', 'Kazakhstani', 'Rwandan', 'Iraqi', 'Indonesian',\n",
       "       'Vietnamese', 'Burkinabe', 'Macedonian', 'Kyrgyzstani', 'Filipino',\n",
       "       'Mozambican', 'Angolan'], dtype=object)"
      ]
     },
     "execution_count": 14,
     "metadata": {},
     "output_type": "execute_result"
    }
   ],
   "source": [
    "moma['Nationality'].unique()"
   ]
  },
  {
   "cell_type": "markdown",
   "metadata": {},
   "source": [
    "From looking at these unique values we can see that there are a couple of ways to designate if a person had an unknown nationality, which we deal with below. But all the nationalities, if they exhist, are in English and in a correct format."
   ]
  },
  {
   "cell_type": "code",
   "execution_count": 15,
   "metadata": {},
   "outputs": [],
   "source": [
    "moma.loc[moma['Nationality'] == 'nan', 'Nationality'] = 'no'\n",
    "moma.loc[moma['Nationality'] == 'Nationality unknown', 'Nationality'] = 'no'\n",
    "moma.loc[moma['Nationality'] == 'Nationality Unknown', 'Nationality'] = 'no'\n",
    "moma.loc[moma['Nationality'] == 'Various', 'Nationality'] = 'no'\n",
    "moma.loc[moma['Nationality'] == 'nationality unknown', 'Nationality'] = 'no'\n",
    "moma.loc[moma['Nationality'] == np.nan, 'Nationality'] = 'no'\n",
    "moma['Nationality'] = moma['Nationality'].fillna('no')"
   ]
  },
  {
   "cell_type": "markdown",
   "metadata": {},
   "source": [
    "In order to tell if the person is European/Western or not, we mad a list of all the nationalities that the MoMA has that are non-European/Western nationalities."
   ]
  },
  {
   "cell_type": "code",
   "execution_count": 16,
   "metadata": {},
   "outputs": [],
   "source": [
    "nationalities_moma = ['Japanese',  'Argentine', \n",
    " 'Brazilian', 'Russian',\n",
    "       'Iranian',\n",
    "       'Mexican', 'Cuban', 'Chilean',\n",
    "       'Puerto Rican', 'Uruguayan', 'Venezuelan', 'Moroccan', 'Colombian',\n",
    "       'Australian', 'Chinese', 'Yugoslav', 'Latvian',\n",
    "       'Haitian', 'Israeli', 'Icelandic', 'Thai', 'Algerian', 'Guatemalan', 'Indian',\n",
    "       'Ukrainian', 'Costa Rican', 'Korean', 'Ethiopian',\n",
    "       'Kuwaiti', 'South African', 'Zimbabwean',\n",
    "       'Panamanian', 'Ecuadorian', 'Peruvian', 'Congolese', 'Malian',\n",
    "       'Turkish', 'Cambodian', 'Bosnian', 'Canadian Inuit',\n",
    "       'Estonian', 'Pakistani', 'Bolivian', 'Taiwanese', 'Paraguayan',\n",
    "       'Nicaraguan', 'Tunisian', 'Sudanese', 'Tanzanian', 'Guyanese',\n",
    "       'Senegalese', 'Bahamian', 'Lebanese', 'Kenyan',\n",
    "       'Nigerian', 'Georgian', 'Egyptian', 'Albanian', 'Azerbaijani',\n",
    "       'Ivorian', 'Malaysian', 'Singaporean', 'Serbian', 'Lithuanian',\n",
    "       'Tajik', 'New Zealander', 'Namibian', 'Native American',\n",
    "       'Ghanaian', 'Afghan', 'Ugandan',\n",
    "       'Cameroonian', 'Welsh', 'Mauritanian', 'Palestinian', 'Syrian',\n",
    "       'Saudi Arabian', 'Kazakhstani', 'Rwandan', 'Iraqi', 'Indonesian',\n",
    "       'Vietnamese', 'Burkinabe', 'Macedonian', 'Kyrgyzstani', 'Filipino',\n",
    "       'Mozambican', 'Angolan']"
   ]
  },
  {
   "cell_type": "markdown",
   "metadata": {},
   "source": [
    "Then we made a function for the MoMA that designated if a person was European/Western or not, created a new column, and placed it in the MoMA dataframe. When deciding whether a country was designated as European/Western or not we refered to a list of European countries from this website: https://datahub.io/opendatafortaxjustice/listofeucountries#resource-listofeucountries"
   ]
  },
  {
   "cell_type": "code",
   "execution_count": 17,
   "metadata": {},
   "outputs": [],
   "source": [
    "moma['European?'] = ['False'] * len(moma['Nationality'])"
   ]
  },
  {
   "cell_type": "code",
   "execution_count": 18,
   "metadata": {},
   "outputs": [],
   "source": [
    "def nation(nationality):\n",
    "    if nationality in nationalities_moma:\n",
    "        return 'False'\n",
    "    elif nationality == 'no':\n",
    "        return np.nan\n",
    "    else:\n",
    "        return 'True'\n",
    "moma['European?'] = moma.apply(lambda row: nation(row['Nationality']),axis=1)\n",
    "moma.loc[moma['Nationality'] == 'no', 'Nationality'] = np.nan"
   ]
  },
  {
   "cell_type": "markdown",
   "metadata": {},
   "source": [
    "After cleaning and adding in extra columns for analysis, we can now create smaller datasets that only contain related columns, with names_dates_moma being the one we will be using most often."
   ]
  },
  {
   "cell_type": "code",
   "execution_count": 19,
   "metadata": {},
   "outputs": [],
   "source": [
    "ids = moma[['Artwork ID', 'Artist ID']]\n",
    "names_dates_moma = moma[['Title', 'Name', 'Date', 'Acquisition Date', 'Artwork ID', 'Gender', 'Credit', 'Nationality','age_made'\n",
    "                   , 'alive?', 'European?']]\n",
    "dimensions = moma[['Artwork ID','Dimensions', 'Diameter (cm)',\n",
    "       'Circumference (cm)', 'Height (cm)', 'Length (cm)', 'Width (cm)',\n",
    "       'Depth (cm)', 'Weight (kg)', 'Duration (s)']]\n",
    "credit = moma[['Artwork ID','Credit']]\n",
    "extra = moma[['Medium', 'Department', 'Classification', 'Artwork ID']]"
   ]
  },
  {
   "cell_type": "code",
   "execution_count": 20,
   "metadata": {},
   "outputs": [
    {
     "data": {
      "text/html": [
       "<div>\n",
       "<style scoped>\n",
       "    .dataframe tbody tr th:only-of-type {\n",
       "        vertical-align: middle;\n",
       "    }\n",
       "\n",
       "    .dataframe tbody tr th {\n",
       "        vertical-align: top;\n",
       "    }\n",
       "\n",
       "    .dataframe thead th {\n",
       "        text-align: right;\n",
       "    }\n",
       "</style>\n",
       "<table border=\"1\" class=\"dataframe\">\n",
       "  <thead>\n",
       "    <tr style=\"text-align: right;\">\n",
       "      <th></th>\n",
       "      <th>Title</th>\n",
       "      <th>Name</th>\n",
       "      <th>Date</th>\n",
       "      <th>Acquisition Date</th>\n",
       "      <th>Artwork ID</th>\n",
       "      <th>Gender</th>\n",
       "      <th>Credit</th>\n",
       "      <th>Nationality</th>\n",
       "      <th>age_made</th>\n",
       "      <th>alive?</th>\n",
       "      <th>European?</th>\n",
       "    </tr>\n",
       "  </thead>\n",
       "  <tbody>\n",
       "    <tr>\n",
       "      <th>0</th>\n",
       "      <td>Ferdinandsbrücke Project, Vienna, Austria, Ele...</td>\n",
       "      <td>Otto Wagner</td>\n",
       "      <td>1896.0</td>\n",
       "      <td>1996-04-09</td>\n",
       "      <td>2</td>\n",
       "      <td>Male</td>\n",
       "      <td>Fractional and promised gift of Jo Carole and ...</td>\n",
       "      <td>Austrian</td>\n",
       "      <td>55.0</td>\n",
       "      <td>False</td>\n",
       "      <td>True</td>\n",
       "    </tr>\n",
       "    <tr>\n",
       "      <th>1</th>\n",
       "      <td>City of Music, National Superior Conservatory ...</td>\n",
       "      <td>Christian de Portzamparc</td>\n",
       "      <td>1987.0</td>\n",
       "      <td>1995-01-17</td>\n",
       "      <td>3</td>\n",
       "      <td>Male</td>\n",
       "      <td>Gift of the architect in honor of Lily Auchinc...</td>\n",
       "      <td>French</td>\n",
       "      <td>43.0</td>\n",
       "      <td>True</td>\n",
       "      <td>True</td>\n",
       "    </tr>\n",
       "    <tr>\n",
       "      <th>2</th>\n",
       "      <td>Villa near Vienna Project, Outside Vienna, Aus...</td>\n",
       "      <td>Emil Hoppe</td>\n",
       "      <td>1903.0</td>\n",
       "      <td>1997-01-15</td>\n",
       "      <td>4</td>\n",
       "      <td>Male</td>\n",
       "      <td>Gift of Jo Carole and Ronald S. Lauder</td>\n",
       "      <td>Austrian</td>\n",
       "      <td>27.0</td>\n",
       "      <td>False</td>\n",
       "      <td>True</td>\n",
       "    </tr>\n",
       "    <tr>\n",
       "      <th>3</th>\n",
       "      <td>The Manhattan Transcripts Project, New York, N...</td>\n",
       "      <td>Bernard Tschumi</td>\n",
       "      <td>1980.0</td>\n",
       "      <td>1995-01-17</td>\n",
       "      <td>5</td>\n",
       "      <td>Male</td>\n",
       "      <td>Purchase and partial gift of the architect in ...</td>\n",
       "      <td>NaN</td>\n",
       "      <td>36.0</td>\n",
       "      <td>True</td>\n",
       "      <td>NaN</td>\n",
       "    </tr>\n",
       "    <tr>\n",
       "      <th>4</th>\n",
       "      <td>Villa, project, outside Vienna, Austria, Exter...</td>\n",
       "      <td>Emil Hoppe</td>\n",
       "      <td>1903.0</td>\n",
       "      <td>1997-01-15</td>\n",
       "      <td>6</td>\n",
       "      <td>Male</td>\n",
       "      <td>Gift of Jo Carole and Ronald S. Lauder</td>\n",
       "      <td>Austrian</td>\n",
       "      <td>27.0</td>\n",
       "      <td>False</td>\n",
       "      <td>True</td>\n",
       "    </tr>\n",
       "  </tbody>\n",
       "</table>\n",
       "</div>"
      ],
      "text/plain": [
       "                                               Title  \\\n",
       "0  Ferdinandsbrücke Project, Vienna, Austria, Ele...   \n",
       "1  City of Music, National Superior Conservatory ...   \n",
       "2  Villa near Vienna Project, Outside Vienna, Aus...   \n",
       "3  The Manhattan Transcripts Project, New York, N...   \n",
       "4  Villa, project, outside Vienna, Austria, Exter...   \n",
       "\n",
       "                       Name    Date Acquisition Date  Artwork ID Gender  \\\n",
       "0               Otto Wagner  1896.0       1996-04-09           2   Male   \n",
       "1  Christian de Portzamparc  1987.0       1995-01-17           3   Male   \n",
       "2                Emil Hoppe  1903.0       1997-01-15           4   Male   \n",
       "3           Bernard Tschumi  1980.0       1995-01-17           5   Male   \n",
       "4                Emil Hoppe  1903.0       1997-01-15           6   Male   \n",
       "\n",
       "                                              Credit Nationality  age_made  \\\n",
       "0  Fractional and promised gift of Jo Carole and ...    Austrian      55.0   \n",
       "1  Gift of the architect in honor of Lily Auchinc...      French      43.0   \n",
       "2             Gift of Jo Carole and Ronald S. Lauder    Austrian      27.0   \n",
       "3  Purchase and partial gift of the architect in ...         NaN      36.0   \n",
       "4             Gift of Jo Carole and Ronald S. Lauder    Austrian      27.0   \n",
       "\n",
       "  alive? European?  \n",
       "0  False      True  \n",
       "1   True      True  \n",
       "2  False      True  \n",
       "3   True       NaN  \n",
       "4  False      True  "
      ]
     },
     "execution_count": 20,
     "metadata": {},
     "output_type": "execute_result"
    }
   ],
   "source": [
    "names_dates_moma.head()"
   ]
  },
  {
   "cell_type": "markdown",
   "metadata": {},
   "source": [
    "## Analysis: Trends in the MoMA Dataset"
   ]
  },
  {
   "cell_type": "markdown",
   "metadata": {},
   "source": [
    "Before we look at other datasets we will conduct analysis on the MoMA by itself, starting with a timeline showing the acquisition of art by the MoMA of female and non-Western/European artist in recent years."
   ]
  },
  {
   "cell_type": "markdown",
   "metadata": {},
   "source": [
    "### Has MoMA acquired more diverse (based on gender and nationality) works of art in recent years?"
   ]
  },
  {
   "cell_type": "code",
   "execution_count": 67,
   "metadata": {},
   "outputs": [],
   "source": [
    "# number of works by female artists acquired each year \n",
    "female_by_year = moma[moma.Gender == 'Female'].groupby(['Acquisition Year']).count()\n",
    "female_by_year[\"Artwork ID\"]\n",
    "\n",
    "# number of works by non American artists acquired each year \n",
    "nonAmerican_by_year = moma[moma.Nationality != 'American'].groupby(['Acquisition Year']).count()"
   ]
  },
  {
   "cell_type": "code",
   "execution_count": 68,
   "metadata": {},
   "outputs": [
    {
     "data": {
      "text/plain": [
       "<matplotlib.axes._subplots.AxesSubplot at 0x7fd8b2cc3520>"
      ]
     },
     "execution_count": 68,
     "metadata": {},
     "output_type": "execute_result"
    },
    {
     "data": {
      "image/png": "[encoded data removed]",
      "text/plain": [
       "<Figure size 1152x360 with 1 Axes>"
      ]
     },
     "metadata": {
      "needs_background": "light"
     },
     "output_type": "display_data"
    }
   ],
   "source": [
    "# The number of works by female acquired each year\n",
    "female_graph = female_by_year[\"Artwork ID\"].plot(kind='bar', figsize=(16, 5), title = \"Number of Works by Female Artists Acquired\")\n",
    "female_graph.figure.tight_layout()\n",
    "female_graph"
   ]
  },
  {
   "cell_type": "code",
   "execution_count": 69,
   "metadata": {},
   "outputs": [
    {
     "data": {
      "image/png": "[encoded data removed]",
      "text/plain": [
       "<Figure size 1152x360 with 1 Axes>"
      ]
     },
     "metadata": {
      "needs_background": "light"
     },
     "output_type": "display_data"
    }
   ],
   "source": [
    "# The number of works by female acquired each year\n",
    "nonAmerican_graph = nonAmerican_by_year[\"Artwork ID\"].plot(kind='bar', figsize=(16, 5), title = \"Number of Works by Non-American Artists Acquired\")\n",
    "nonAmerican_graph.figure.tight_layout()"
   ]
  },
  {
   "cell_type": "markdown",
   "metadata": {},
   "source": [
    "<strong>Conclusion: </strong> There is no discernable pattern in the number of diverse works that MoMA acquires each year. However, in the past 20 years, there has been an increase in years that have a high number of works of art by female or non-American artists."
   ]
  },
  {
   "cell_type": "markdown",
   "metadata": {},
   "source": [
    "Next we examine if the MoMA has done what it said it had a goal of doing: bringing the art up to the present."
   ]
  },
  {
   "cell_type": "markdown",
   "metadata": {},
   "source": [
    "## Has the MoMA strived to acquire art by more recent artists?"
   ]
  },
  {
   "cell_type": "code",
   "execution_count": 25,
   "metadata": {},
   "outputs": [
    {
     "data": {
      "text/plain": [
       "<matplotlib.axes._subplots.AxesSubplot at 0x7f00dbe24dc0>"
      ]
     },
     "execution_count": 25,
     "metadata": {},
     "output_type": "execute_result"
    },
    {
     "data": {
      "image/png": "[encoded data removed]",
      "text/plain": [
       "<Figure size 720x504 with 1 Axes>"
      ]
     },
     "metadata": {
      "needs_background": "light"
     },
     "output_type": "display_data"
    }
   ],
   "source": [
    "names_dates_moma['acquisitionYear'] = names_dates_moma['Acquisition Date'].dt.year\n",
    "dead = pd.DataFrame(names_dates_moma[names_dates_moma['alive?'] == 'False'].groupby('acquisitionYear')['alive?'].value_counts())\n",
    "dead['count'] = dead['alive?']\n",
    "dead.drop(columns = ['alive?'], inplace = True)\n",
    "dead = dead.reset_index()\n",
    "dead.drop(columns = ['alive?'], inplace = True)\n",
    "dead = dead[dead['acquisitionYear']>1975]\n",
    "dead['table'] = \"dead\"\n",
    "dead_table = dead.pivot(index='acquisitionYear', columns = 'table', values = 'count')\n",
    "\n",
    "alive = pd.DataFrame(names_dates_moma[names_dates_moma['alive?'] == 'True'].groupby('acquisitionYear')['alive?'].value_counts())\n",
    "alive['count'] = alive['alive?']\n",
    "alive.drop(columns = ['alive?'], inplace = True)\n",
    "alive = alive.reset_index()\n",
    "alive.drop(columns = ['alive?'], inplace = True)\n",
    "alive = alive[alive['acquisitionYear']>1975]\n",
    "alive['table'] = \"alive\"\n",
    "alive_table = alive.pivot(index='acquisitionYear', columns = 'table', values = 'count')\n",
    "\n",
    "#merging the two tables together on acquisitionYear\n",
    "new = dead_table.merge(alive_table, on = 'acquisitionYear')\n",
    "\n",
    "#plotting the graph\n",
    "new.loc[:,['alive','dead']].plot.bar(stacked=True, figsize=(10,7), title = \"Acquistion of Living vs Dead Artists Over a 38 year period\")"
   ]
  },
  {
   "cell_type": "markdown",
   "metadata": {},
   "source": [
    "<strong>Conclusion</strong>: Through this visualization it is evident that over time the MoMA has consistently bought more art by living artists than by deceased artists. But as time went on, starting in 2004, there were more consistent peaks in their purchasing of art, but these purchases still maintained the place of importance of purchasing art from living artists. It shows that they have continued to meet their goal and expand their collection to represent the present."
   ]
  },
  {
   "cell_type": "markdown",
   "metadata": {},
   "source": [
    "Finally we analyze the MoMA's acquisiton of American vs Western Non-Ameican vs Non-Western Non-American artists over time."
   ]
  },
  {
   "cell_type": "markdown",
   "metadata": {},
   "source": [
    "## American vs Western Non-American vs Non-Western Non-American"
   ]
  },
  {
   "cell_type": "code",
   "execution_count": 26,
   "metadata": {},
   "outputs": [],
   "source": [
    "# A = American, NA-W = Non-American Western, NWNA - Non-Western Non-American\n",
    "moma_nation = names_dates_moma[names_dates_moma['Nationality'].notna()]\n",
    "def nationality(nation):\n",
    "    if nation == 'American':\n",
    "        return 'A'\n",
    "    if nation not in nationalities_moma:\n",
    "        return 'NA-W'\n",
    "    else:\n",
    "        return 'NWNA'\n",
    "moma_nation['Western/American'] = moma_nation.apply(lambda row: nationality(row['Nationality']),axis=1)"
   ]
  },
  {
   "cell_type": "code",
   "execution_count": 27,
   "metadata": {
    "scrolled": true
   },
   "outputs": [
    {
     "data": {
      "image/png": "[encoded data removed]",
      "text/plain": [
       "<Figure size 432x288 with 1 Axes>"
      ]
     },
     "metadata": {
      "needs_background": "light"
     },
     "output_type": "display_data"
    }
   ],
   "source": [
    "moma_nation['acquisitionYear'] = moma_nation['Acquisition Date'].dt.year\n",
    "A = pd.DataFrame(moma_nation[moma_nation['Western/American'] == 'A'].groupby('acquisitionYear')['Western/American'].value_counts())\n",
    "A['count'] = A['Western/American']\n",
    "A.drop(columns = ['Western/American'], inplace = True)\n",
    "A = A.reset_index()\n",
    "A.drop(columns = ['Western/American'], inplace = True)\n",
    "A = A[A['acquisitionYear']>1975]\n",
    "A['table'] = \"A\"\n",
    "A_table = A.pivot(index='acquisitionYear', columns = 'table', values = 'count')\n",
    "\n",
    "NAW = pd.DataFrame(moma_nation[moma_nation['Western/American'] == 'NA-W'].groupby('acquisitionYear')['Western/American'].value_counts())\n",
    "NAW['count'] = NAW['Western/American']\n",
    "NAW.drop(columns = ['Western/American'], inplace = True)\n",
    "NAW = NAW.reset_index()\n",
    "NAW.drop(columns = ['Western/American'], inplace = True)\n",
    "NAW = NAW[NAW['acquisitionYear']>1975]\n",
    "NAW['table'] = \"NAW\"\n",
    "NAW_table = NAW.pivot(index='acquisitionYear', columns = 'table', values = 'count')\n",
    "\n",
    "NWNA = pd.DataFrame(moma_nation[moma_nation['Western/American'] == 'NWNA'].groupby('acquisitionYear')['Western/American'].value_counts())\n",
    "NWNA['count'] = NWNA['Western/American']\n",
    "NWNA.drop(columns = ['Western/American'], inplace = True)\n",
    "NWNA = NWNA.reset_index()\n",
    "NWNA.drop(columns = ['Western/American'], inplace = True)\n",
    "NWNA = NWNA[NWNA['acquisitionYear']>1975]\n",
    "NWNA['table'] = \"NAW\"\n",
    "NWNA_table = NWNA.pivot(index='acquisitionYear', columns = 'table', values = 'count')\n",
    "\n",
    "#merging the two tables together on acquisitionYear\n",
    "new1 = A_table.merge(NAW_table, on = 'acquisitionYear')\n",
    "new2 = new1.merge(NWNA_table, on = 'acquisitionYear')\n",
    "new2 = new2.reset_index()\n",
    "\n",
    "plot.bar(new2['acquisitionYear'], new2['A'], color='r', edgecolor='white', label = 'American')\n",
    "plot.bar(new2['acquisitionYear'], new2['NAW_x'], color='b', edgecolor='white', label = 'Non-American Western')\n",
    "plot.bar(new2['acquisitionYear'], new2['NAW_y'], color='g', edgecolor='white', label = 'Non-American Non-Western')\n",
    "\n",
    "plot.ylabel(\"Number of Works\")\n",
    "plot.legend()\n",
    "plot.show()"
   ]
  },
  {
   "cell_type": "markdown",
   "metadata": {},
   "source": [
    "<strong>Conclusion</strong>: This graph is not quite as straight forward as the ones before. But before the MoMA entered into the early 2000s the amount of art that they acquired from Non-American Non-Western artists was consistently dominated by the amount of art that they acquired from American or Non-American Western artists. As the MoMA entered into the early 2000s, and into 2015, it conssitently aquired more works of art, but at different stages the art that was acquired from Non-American Non-Western artists increased, and in some yers topped the number of American and Non-American Western artists, which didn't happen in previous years. From this analysis we see that after the MoMA determind their goals to diversify their cannon in the early 2000s they followed through with that goal and acquired more art from Non-American Non-Western artists than they had done before."
   ]
  },
  {
   "cell_type": "markdown",
   "metadata": {},
   "source": [
    "After looking at the distribution over the years of works acquired based on gender, age, and location we now conduct analysis that shows the distribution of countries that the MoMA has art from displayed on a map, utilize a lorenz and gini index, and then implement k-nearest neighbors to see how the MoMA's progress compares to a prediction of what is should have been."
   ]
  },
  {
   "cell_type": "markdown",
   "metadata": {},
   "source": [
    "## Geographical and Analytical Analysis"
   ]
  },
  {
   "cell_type": "markdown",
   "metadata": {},
   "source": [
    "### Map!"
   ]
  },
  {
   "cell_type": "code",
   "execution_count": 28,
   "metadata": {},
   "outputs": [
    {
     "ename": "NameError",
     "evalue": "name 'gpd' is not defined",
     "output_type": "error",
     "traceback": [
      "\u001b[0;31m---------------------------------------------------------------------------\u001b[0m",
      "\u001b[0;31mNameError\u001b[0m                                 Traceback (most recent call last)",
      "\u001b[0;32m<ipython-input-28-497a293208d5>\u001b[0m in \u001b[0;36m<module>\u001b[0;34m\u001b[0m\n\u001b[1;32m      1\u001b[0m \u001b[0;31m# read the natural earth shape file as a GeoDataFrame\u001b[0m\u001b[0;34m\u001b[0m\u001b[0;34m\u001b[0m\u001b[0;34m\u001b[0m\u001b[0m\n\u001b[0;32m----> 2\u001b[0;31m \u001b[0mworld\u001b[0m \u001b[0;34m=\u001b[0m \u001b[0mgpd\u001b[0m\u001b[0;34m.\u001b[0m\u001b[0mread_file\u001b[0m\u001b[0;34m(\u001b[0m\u001b[0mgpd\u001b[0m\u001b[0;34m.\u001b[0m\u001b[0mdatasets\u001b[0m\u001b[0;34m.\u001b[0m\u001b[0mget_path\u001b[0m\u001b[0;34m(\u001b[0m\u001b[0;34m'naturalearth_lowres'\u001b[0m\u001b[0;34m)\u001b[0m\u001b[0;34m)\u001b[0m\u001b[0;34m\u001b[0m\u001b[0;34m\u001b[0m\u001b[0m\n\u001b[0m\u001b[1;32m      3\u001b[0m \u001b[0;34m\u001b[0m\u001b[0m\n\u001b[1;32m      4\u001b[0m \u001b[0;31m# drop Antartica because it takes up too much space\u001b[0m\u001b[0;34m\u001b[0m\u001b[0;34m\u001b[0m\u001b[0;34m\u001b[0m\u001b[0m\n\u001b[1;32m      5\u001b[0m \u001b[0mworld\u001b[0m \u001b[0;34m=\u001b[0m \u001b[0mworld\u001b[0m\u001b[0;34m.\u001b[0m\u001b[0mdrop\u001b[0m\u001b[0;34m(\u001b[0m\u001b[0mworld\u001b[0m\u001b[0;34m.\u001b[0m\u001b[0mindex\u001b[0m\u001b[0;34m[\u001b[0m\u001b[0;36m159\u001b[0m\u001b[0;34m]\u001b[0m\u001b[0;34m)\u001b[0m\u001b[0;34m\u001b[0m\u001b[0;34m\u001b[0m\u001b[0m\n",
      "\u001b[0;31mNameError\u001b[0m: name 'gpd' is not defined"
     ]
    }
   ],
   "source": [
    "# read the natural earth shape file as a GeoDataFrame\n",
    "world = gpd.read_file(gpd.datasets.get_path('naturalearth_lowres'))\n",
    "\n",
    "# drop Antartica because it takes up too much space\n",
    "world = world.drop(world.index[159])\n",
    "\n",
    "#here's the world map we will use\n",
    "world.plot()"
   ]
  },
  {
   "cell_type": "code",
   "execution_count": 338,
   "metadata": {},
   "outputs": [
    {
     "data": {
      "text/plain": [
       "{nan}"
      ]
     },
     "execution_count": 338,
     "metadata": {},
     "output_type": "execute_result"
    }
   ],
   "source": [
    "nationalty_to_country = pd.read_csv(\"demonyms.csv\")\n",
    "set(names_dates_moma.Nationality.unique()) - set(nationalty_to_country[\"Nationality\"])"
   ]
  },
  {
   "cell_type": "markdown",
   "metadata": {},
   "source": [
    "Since the MoMA DataFrame lists nationality and not country of origin, we need to conver the nationalities into the country names. We used a demonyms dataset that included Nationalities paired with their country names. We then looked at all of the elements that are in the MoMA dataset but not in the demonyms dataset. It returns an empty set, so we're good to go!"
   ]
  },
  {
   "cell_type": "code",
   "execution_count": 57,
   "metadata": {},
   "outputs": [
    {
     "ename": "NameError",
     "evalue": "name 'moma_nationalities' is not defined",
     "output_type": "error",
     "traceback": [
      "\u001b[0;31m---------------------------------------------------------------------------\u001b[0m",
      "\u001b[0;31mNameError\u001b[0m                                 Traceback (most recent call last)",
      "\u001b[0;32m<ipython-input-57-559d5a399ebe>\u001b[0m in \u001b[0;36m<module>\u001b[0;34m\u001b[0m\n\u001b[1;32m      1\u001b[0m \u001b[0;31m# Compute the number of works from each country\u001b[0m\u001b[0;34m\u001b[0m\u001b[0;34m\u001b[0m\u001b[0;34m\u001b[0m\u001b[0m\n\u001b[1;32m      2\u001b[0m \u001b[0;31m# find the number of works per country and add it to a DataFrame\u001b[0m\u001b[0;34m\u001b[0m\u001b[0;34m\u001b[0m\u001b[0;34m\u001b[0m\u001b[0m\n\u001b[0;32m----> 3\u001b[0;31m \u001b[0mworks_per_country\u001b[0m \u001b[0;34m=\u001b[0m \u001b[0mmoma_nationalities\u001b[0m\u001b[0;34m[\u001b[0m\u001b[0;34m\"name\"\u001b[0m\u001b[0;34m]\u001b[0m\u001b[0;34m.\u001b[0m\u001b[0mvalue_counts\u001b[0m\u001b[0;34m(\u001b[0m\u001b[0;34m)\u001b[0m\u001b[0;34m\u001b[0m\u001b[0;34m\u001b[0m\u001b[0m\n\u001b[0m\u001b[1;32m      4\u001b[0m \u001b[0mworks_per_country\u001b[0m \u001b[0;34m=\u001b[0m \u001b[0mworks_per_country\u001b[0m\u001b[0;34m.\u001b[0m\u001b[0mto_frame\u001b[0m\u001b[0;34m(\u001b[0m\u001b[0;34m)\u001b[0m\u001b[0;34m.\u001b[0m\u001b[0mreset_index\u001b[0m\u001b[0;34m(\u001b[0m\u001b[0;34m)\u001b[0m\u001b[0;34m\u001b[0m\u001b[0;34m\u001b[0m\u001b[0m\n\u001b[1;32m      5\u001b[0m \u001b[0mworks_per_country\u001b[0m \u001b[0;34m=\u001b[0m \u001b[0mworks_per_country\u001b[0m\u001b[0;34m.\u001b[0m\u001b[0mrename\u001b[0m\u001b[0;34m(\u001b[0m\u001b[0mcolumns\u001b[0m\u001b[0;34m=\u001b[0m\u001b[0;34m{\u001b[0m\u001b[0;34m\"index\"\u001b[0m\u001b[0;34m:\u001b[0m \u001b[0;34m\"name\"\u001b[0m\u001b[0;34m,\u001b[0m \u001b[0;34m\"name\"\u001b[0m\u001b[0;34m:\u001b[0m \u001b[0;34m\"works_per_country\"\u001b[0m\u001b[0;34m}\u001b[0m\u001b[0;34m)\u001b[0m\u001b[0;34m\u001b[0m\u001b[0;34m\u001b[0m\u001b[0m\n",
      "\u001b[0;31mNameError\u001b[0m: name 'moma_nationalities' is not defined"
     ]
    }
   ],
   "source": [
    "# Compute the number of works from each country\n",
    "# find the number of works per country and add it to a DataFrame\n",
    "works_per_country = moma_nationalities[\"name\"].value_counts()\n",
    "works_per_country = works_per_country.to_frame().reset_index()\n",
    "works_per_country = works_per_country.rename(columns={\"index\": \"name\", \"name\": \"works_per_country\"})\n",
    "works_per_country.head()"
   ]
  },
  {
   "cell_type": "code",
   "execution_count": 340,
   "metadata": {},
   "outputs": [],
   "source": [
    "# merge the MoMA data with the demonyms data to pair the appropriate country with each nationality\n",
    "moma_nationalities = pd.merge(nationalty_to_country, names_dates_moma, on=\"Nationality\", how='inner')\n",
    "\n",
    "# drop columns that aren't useful for the map\n",
    "moma_nationalities.drop(moma_nationalities.columns.difference(['name','Artwork ID']), 1, inplace=True)\n",
    "\n",
    "# merge the MoMA data with country names and the GeoSpacial data for the whole world\n",
    "map_data = pd.merge(moma_nationalities, world, how='inner', on=\"name\")\n",
    "map_data\n",
    "\n",
    "# Finally, merge all fo the map data with the number of works per country\n",
    "map_data = pd.merge(map_data, works_per_country , how='inner', on=\"name\")\n",
    "\n",
    "# convert the DataFrame to a GeoDataFrame\n",
    "map_data = gpd.GeoDataFrame(map_data)\n",
    "map_data = map_data.rename(columns={'name':'Country'})"
   ]
  },
  {
   "cell_type": "code",
   "execution_count": 356,
   "metadata": {},
   "outputs": [
    {
     "data": {
      "text/html": [
       "<div>\n",
       "<style scoped>\n",
       "    .dataframe tbody tr th:only-of-type {\n",
       "        vertical-align: middle;\n",
       "    }\n",
       "\n",
       "    .dataframe tbody tr th {\n",
       "        vertical-align: top;\n",
       "    }\n",
       "\n",
       "    .dataframe thead th {\n",
       "        text-align: right;\n",
       "    }\n",
       "</style>\n",
       "<table border=\"1\" class=\"dataframe\">\n",
       "  <thead>\n",
       "    <tr style=\"text-align: right;\">\n",
       "      <th></th>\n",
       "      <th>Country</th>\n",
       "      <th>Artwork ID</th>\n",
       "      <th>pop_est</th>\n",
       "      <th>continent</th>\n",
       "      <th>iso_a3</th>\n",
       "      <th>gdp_md_est</th>\n",
       "      <th>geometry</th>\n",
       "      <th>works_per_country_x</th>\n",
       "      <th>name</th>\n",
       "    </tr>\n",
       "  </thead>\n",
       "  <tbody>\n",
       "    <tr>\n",
       "      <th>0</th>\n",
       "      <td>Afghanistan</td>\n",
       "      <td>117937</td>\n",
       "      <td>34124811</td>\n",
       "      <td>Asia</td>\n",
       "      <td>AFG</td>\n",
       "      <td>64080.0</td>\n",
       "      <td>POLYGON ((66.51861 37.36278, 67.07578 37.35614...</td>\n",
       "      <td>1</td>\n",
       "      <td>Afghanistan</td>\n",
       "    </tr>\n",
       "    <tr>\n",
       "      <th>1</th>\n",
       "      <td>Albania</td>\n",
       "      <td>100105</td>\n",
       "      <td>3047987</td>\n",
       "      <td>Europe</td>\n",
       "      <td>ALB</td>\n",
       "      <td>33900.0</td>\n",
       "      <td>POLYGON ((21.02004 40.84273, 20.99999 40.58000...</td>\n",
       "      <td>22</td>\n",
       "      <td>Albania</td>\n",
       "    </tr>\n",
       "    <tr>\n",
       "      <th>2</th>\n",
       "      <td>Albania</td>\n",
       "      <td>100109</td>\n",
       "      <td>3047987</td>\n",
       "      <td>Europe</td>\n",
       "      <td>ALB</td>\n",
       "      <td>33900.0</td>\n",
       "      <td>POLYGON ((21.02004 40.84273, 20.99999 40.58000...</td>\n",
       "      <td>22</td>\n",
       "      <td>Albania</td>\n",
       "    </tr>\n",
       "    <tr>\n",
       "      <th>3</th>\n",
       "      <td>Albania</td>\n",
       "      <td>102826</td>\n",
       "      <td>3047987</td>\n",
       "      <td>Europe</td>\n",
       "      <td>ALB</td>\n",
       "      <td>33900.0</td>\n",
       "      <td>POLYGON ((21.02004 40.84273, 20.99999 40.58000...</td>\n",
       "      <td>22</td>\n",
       "      <td>Albania</td>\n",
       "    </tr>\n",
       "    <tr>\n",
       "      <th>4</th>\n",
       "      <td>Albania</td>\n",
       "      <td>120441</td>\n",
       "      <td>3047987</td>\n",
       "      <td>Europe</td>\n",
       "      <td>ALB</td>\n",
       "      <td>33900.0</td>\n",
       "      <td>POLYGON ((21.02004 40.84273, 20.99999 40.58000...</td>\n",
       "      <td>22</td>\n",
       "      <td>Albania</td>\n",
       "    </tr>\n",
       "    <tr>\n",
       "      <th>...</th>\n",
       "      <td>...</td>\n",
       "      <td>...</td>\n",
       "      <td>...</td>\n",
       "      <td>...</td>\n",
       "      <td>...</td>\n",
       "      <td>...</td>\n",
       "      <td>...</td>\n",
       "      <td>...</td>\n",
       "      <td>...</td>\n",
       "    </tr>\n",
       "    <tr>\n",
       "      <th>50507</th>\n",
       "      <td>Zimbabwe</td>\n",
       "      <td>137456</td>\n",
       "      <td>13805084</td>\n",
       "      <td>Africa</td>\n",
       "      <td>ZWE</td>\n",
       "      <td>28330.0</td>\n",
       "      <td>POLYGON ((31.19141 -22.25151, 30.65987 -22.151...</td>\n",
       "      <td>14</td>\n",
       "      <td>Zimbabwe</td>\n",
       "    </tr>\n",
       "    <tr>\n",
       "      <th>50508</th>\n",
       "      <td>Zimbabwe</td>\n",
       "      <td>137457</td>\n",
       "      <td>13805084</td>\n",
       "      <td>Africa</td>\n",
       "      <td>ZWE</td>\n",
       "      <td>28330.0</td>\n",
       "      <td>POLYGON ((31.19141 -22.25151, 30.65987 -22.151...</td>\n",
       "      <td>14</td>\n",
       "      <td>Zimbabwe</td>\n",
       "    </tr>\n",
       "    <tr>\n",
       "      <th>50509</th>\n",
       "      <td>Zimbabwe</td>\n",
       "      <td>138628</td>\n",
       "      <td>13805084</td>\n",
       "      <td>Africa</td>\n",
       "      <td>ZWE</td>\n",
       "      <td>28330.0</td>\n",
       "      <td>POLYGON ((31.19141 -22.25151, 30.65987 -22.151...</td>\n",
       "      <td>14</td>\n",
       "      <td>Zimbabwe</td>\n",
       "    </tr>\n",
       "    <tr>\n",
       "      <th>50510</th>\n",
       "      <td>Zimbabwe</td>\n",
       "      <td>138629</td>\n",
       "      <td>13805084</td>\n",
       "      <td>Africa</td>\n",
       "      <td>ZWE</td>\n",
       "      <td>28330.0</td>\n",
       "      <td>POLYGON ((31.19141 -22.25151, 30.65987 -22.151...</td>\n",
       "      <td>14</td>\n",
       "      <td>Zimbabwe</td>\n",
       "    </tr>\n",
       "    <tr>\n",
       "      <th>50511</th>\n",
       "      <td>Zimbabwe</td>\n",
       "      <td>142557</td>\n",
       "      <td>13805084</td>\n",
       "      <td>Africa</td>\n",
       "      <td>ZWE</td>\n",
       "      <td>28330.0</td>\n",
       "      <td>POLYGON ((31.19141 -22.25151, 30.65987 -22.151...</td>\n",
       "      <td>14</td>\n",
       "      <td>Zimbabwe</td>\n",
       "    </tr>\n",
       "  </tbody>\n",
       "</table>\n",
       "<p>50512 rows × 9 columns</p>\n",
       "</div>"
      ],
      "text/plain": [
       "           Country  Artwork ID   pop_est continent iso_a3  gdp_md_est  \\\n",
       "0      Afghanistan      117937  34124811      Asia    AFG     64080.0   \n",
       "1          Albania      100105   3047987    Europe    ALB     33900.0   \n",
       "2          Albania      100109   3047987    Europe    ALB     33900.0   \n",
       "3          Albania      102826   3047987    Europe    ALB     33900.0   \n",
       "4          Albania      120441   3047987    Europe    ALB     33900.0   \n",
       "...            ...         ...       ...       ...    ...         ...   \n",
       "50507     Zimbabwe      137456  13805084    Africa    ZWE     28330.0   \n",
       "50508     Zimbabwe      137457  13805084    Africa    ZWE     28330.0   \n",
       "50509     Zimbabwe      138628  13805084    Africa    ZWE     28330.0   \n",
       "50510     Zimbabwe      138629  13805084    Africa    ZWE     28330.0   \n",
       "50511     Zimbabwe      142557  13805084    Africa    ZWE     28330.0   \n",
       "\n",
       "                                                geometry  works_per_country_x  \\\n",
       "0      POLYGON ((66.51861 37.36278, 67.07578 37.35614...                    1   \n",
       "1      POLYGON ((21.02004 40.84273, 20.99999 40.58000...                   22   \n",
       "2      POLYGON ((21.02004 40.84273, 20.99999 40.58000...                   22   \n",
       "3      POLYGON ((21.02004 40.84273, 20.99999 40.58000...                   22   \n",
       "4      POLYGON ((21.02004 40.84273, 20.99999 40.58000...                   22   \n",
       "...                                                  ...                  ...   \n",
       "50507  POLYGON ((31.19141 -22.25151, 30.65987 -22.151...                   14   \n",
       "50508  POLYGON ((31.19141 -22.25151, 30.65987 -22.151...                   14   \n",
       "50509  POLYGON ((31.19141 -22.25151, 30.65987 -22.151...                   14   \n",
       "50510  POLYGON ((31.19141 -22.25151, 30.65987 -22.151...                   14   \n",
       "50511  POLYGON ((31.19141 -22.25151, 30.65987 -22.151...                   14   \n",
       "\n",
       "              name  \n",
       "0      Afghanistan  \n",
       "1          Albania  \n",
       "2          Albania  \n",
       "3          Albania  \n",
       "4          Albania  \n",
       "...            ...  \n",
       "50507     Zimbabwe  \n",
       "50508     Zimbabwe  \n",
       "50509     Zimbabwe  \n",
       "50510     Zimbabwe  \n",
       "50511     Zimbabwe  \n",
       "\n",
       "[50512 rows x 9 columns]"
      ]
     },
     "execution_count": 356,
     "metadata": {},
     "output_type": "execute_result"
    }
   ],
   "source": [
    "new_wpc = works_per_country.drop(works_per_country.index[[0,1]])\n",
    "\n",
    "# Finally, merge all fo the map data with the number of works per country\n",
    "new_map = pd.merge(map_data, new_wpc , how='inner', left_on=\"Country\", right_on=\"name\")\n",
    "\n",
    "# convert the DataFrame to a GeoDataFrame\n",
    "new_map = gpd.GeoDataFrame(new_map).drop(\"works_per_country_y\",1)\n",
    "\n",
    "new_map"
   ]
  },
  {
   "cell_type": "code",
   "execution_count": null,
   "metadata": {},
   "outputs": [],
   "source": [
    "# Plot the Map!\n",
    "ax = map_data.dropna().plot(column='works_per_country', cmap =    \n",
    "                                'Dark2', figsize=(15,9),   \n",
    "                                  k=5, legend =  \n",
    "                                  True)"
   ]
  },
  {
   "attachments": {
    "image.png": {
     "image/png": "[encoded data removed]"
    }
   },
   "cell_type": "markdown",
   "metadata": {},
   "source": [
    "### Lorenz Curve and Gini Coefficient\n",
    "\n",
    "The [Lorenz Curve](https://en.wikipedia.org/wiki/Lorenz_curve) is typically used to depict distribution of wealth, but it also has helpful applications for showing distribution over time of other variables. In this case, we used it to show the distribution of female artists over time. The x axis represents the cumulative percent of the total population and the y axis represents the cumulative proportion of female artists. In perfect equality, this would be a line with slope of 1 (y=x or x and y increase at the same rate). \n",
    "\n",
    "In the example of distribution of wealth, this would mean that the bottom 10% of households hold 10% of the wealth, the bottom 20% has 20%, etc. In our example, perfect equality would be the first (earliest chronologically) 10% of the all of the artworks has the first 10% of all of the artwork by female artists.\n",
    "\n",
    "In contrast to perfect equality, the Lorenz curve shows the true distribution of female artists over time, with the same x and y axis as perfect equality.\n",
    "\n",
    "The Lorenz curve is helpful because it shows a graphical representation of inequality and allows us to calculate the [Gini coefficient,](https://en.wikipedia.org/wiki/Gini_coefficient) which calculates a metric to show the inequality of the proportion of art by female artists among all artworks. The Gini coefficient is the proportion of the area between perfect equality and the Lorenz curve compared to the total area under the perfect equality line.\n",
    "\n",
    "This graph is a good representation of perfect equality, the Lorenz curve, and the Gini coefficient.\n",
    "![image.png](attachment:image.png)\n",
    "\n",
    "For our axes, since there is not necessarily an analogoue to sorting the population from poorest to riches, we chose to sort the data from earliest acquired to most recetly acquired to show the trend over time. "
   ]
  },
  {
   "cell_type": "code",
   "execution_count": 58,
   "metadata": {},
   "outputs": [
    {
     "ename": "NameError",
     "evalue": "name 'new_map' is not defined",
     "output_type": "error",
     "traceback": [
      "\u001b[0;31m---------------------------------------------------------------------------\u001b[0m",
      "\u001b[0;31mNameError\u001b[0m                                 Traceback (most recent call last)",
      "\u001b[0;32m<ipython-input-58-51b017159882>\u001b[0m in \u001b[0;36m<module>\u001b[0;34m\u001b[0m\n\u001b[1;32m      1\u001b[0m \u001b[0;31m# Plot the Map!\u001b[0m\u001b[0;34m\u001b[0m\u001b[0;34m\u001b[0m\u001b[0;34m\u001b[0m\u001b[0m\n\u001b[0;32m----> 2\u001b[0;31m ax = new_map.dropna().plot(column='works_per_country_x', cmap =    \n\u001b[0m\u001b[1;32m      3\u001b[0m                                 \u001b[0;34m'Dark2'\u001b[0m\u001b[0;34m,\u001b[0m \u001b[0mfigsize\u001b[0m\u001b[0;34m=\u001b[0m\u001b[0;34m(\u001b[0m\u001b[0;36m15\u001b[0m\u001b[0;34m,\u001b[0m\u001b[0;36m9\u001b[0m\u001b[0;34m)\u001b[0m\u001b[0;34m,\u001b[0m\u001b[0;34m\u001b[0m\u001b[0;34m\u001b[0m\u001b[0m\n\u001b[1;32m      4\u001b[0m                                   \u001b[0mk\u001b[0m\u001b[0;34m=\u001b[0m\u001b[0;36m5\u001b[0m\u001b[0;34m,\u001b[0m \u001b[0mlegend\u001b[0m \u001b[0;34m=\u001b[0m\u001b[0;34m\u001b[0m\u001b[0;34m\u001b[0m\u001b[0m\n\u001b[1;32m      5\u001b[0m                                   True)\n",
      "\u001b[0;31mNameError\u001b[0m: name 'new_map' is not defined"
     ]
    }
   ],
   "source": [
    "# Plot the Map!\n",
    "ax = new_map.dropna().plot(column='works_per_country_x', cmap =    \n",
    "                                'Dark2', figsize=(15,9),   \n",
    "                                  k=5, legend =  \n",
    "                                  True)"
   ]
  },
  {
   "cell_type": "markdown",
   "metadata": {},
   "source": [
    "#### Lorenz Curve"
   ]
  },
  {
   "cell_type": "code",
   "execution_count": 59,
   "metadata": {},
   "outputs": [
    {
     "data": {
      "text/html": [
       "<div>\n",
       "<style scoped>\n",
       "    .dataframe tbody tr th:only-of-type {\n",
       "        vertical-align: middle;\n",
       "    }\n",
       "\n",
       "    .dataframe tbody tr th {\n",
       "        vertical-align: top;\n",
       "    }\n",
       "\n",
       "    .dataframe thead th {\n",
       "        text-align: right;\n",
       "    }\n",
       "</style>\n",
       "<table border=\"1\" class=\"dataframe\">\n",
       "  <thead>\n",
       "    <tr style=\"text-align: right;\">\n",
       "      <th></th>\n",
       "      <th>Artwork ID</th>\n",
       "      <th>Title</th>\n",
       "      <th>Artist ID</th>\n",
       "      <th>Name</th>\n",
       "      <th>Date</th>\n",
       "      <th>Medium</th>\n",
       "      <th>Dimensions</th>\n",
       "      <th>Acquisition Date</th>\n",
       "      <th>Credit</th>\n",
       "      <th>Catalogue</th>\n",
       "      <th>...</th>\n",
       "      <th>Nationality</th>\n",
       "      <th>Birth Year</th>\n",
       "      <th>Death Year</th>\n",
       "      <th>age_made</th>\n",
       "      <th>alive?</th>\n",
       "      <th>Acquisition Year</th>\n",
       "      <th>European?</th>\n",
       "      <th>decile</th>\n",
       "      <th>dec start year</th>\n",
       "      <th>dec end year</th>\n",
       "    </tr>\n",
       "  </thead>\n",
       "  <tbody>\n",
       "    <tr>\n",
       "      <th>61694</th>\n",
       "      <td>59708</td>\n",
       "      <td>Max Reinhardt (Head) (Kopf)</td>\n",
       "      <td>3197</td>\n",
       "      <td>Oskar Kokoschka</td>\n",
       "      <td>1919.0</td>\n",
       "      <td>Lithograph</td>\n",
       "      <td>composition (irreg. ): 15 3/16 x 11 15/16\" (38...</td>\n",
       "      <td>1929-11-19</td>\n",
       "      <td>Gift of Paul J. Sachs</td>\n",
       "      <td>Y</td>\n",
       "      <td>...</td>\n",
       "      <td>Austrian</td>\n",
       "      <td>1886.0</td>\n",
       "      <td>1980.0</td>\n",
       "      <td>33.0</td>\n",
       "      <td>True</td>\n",
       "      <td>1929</td>\n",
       "      <td>True</td>\n",
       "      <td>1</td>\n",
       "      <td>1929</td>\n",
       "      <td>1953</td>\n",
       "    </tr>\n",
       "    <tr>\n",
       "      <th>61744</th>\n",
       "      <td>59762</td>\n",
       "      <td>The Lords of the World (Die Herren der Welt )</td>\n",
       "      <td>5260</td>\n",
       "      <td>Georg Scholz</td>\n",
       "      <td>1922.0</td>\n",
       "      <td>Lithograph</td>\n",
       "      <td>composition: 11 3/4 x 15 3/4\" (29.8 x 40 cm); ...</td>\n",
       "      <td>1929-11-19</td>\n",
       "      <td>Gift of Paul J. Sachs</td>\n",
       "      <td>Y</td>\n",
       "      <td>...</td>\n",
       "      <td>German</td>\n",
       "      <td>1890.0</td>\n",
       "      <td>1945.0</td>\n",
       "      <td>32.0</td>\n",
       "      <td>True</td>\n",
       "      <td>1929</td>\n",
       "      <td>True</td>\n",
       "      <td>1</td>\n",
       "      <td>1929</td>\n",
       "      <td>1953</td>\n",
       "    </tr>\n",
       "    <tr>\n",
       "      <th>61711</th>\n",
       "      <td>59728</td>\n",
       "      <td>Dialogue (Zwiesprache)</td>\n",
       "      <td>4533</td>\n",
       "      <td>Max Pechstein</td>\n",
       "      <td>1920.0</td>\n",
       "      <td>Woodcut</td>\n",
       "      <td>composition: 15 13/16 x 12 9/16\" (40.2 x 31.9 ...</td>\n",
       "      <td>1929-11-19</td>\n",
       "      <td>Gift of Paul J. Sachs</td>\n",
       "      <td>Y</td>\n",
       "      <td>...</td>\n",
       "      <td>German</td>\n",
       "      <td>1881.0</td>\n",
       "      <td>1955.0</td>\n",
       "      <td>39.0</td>\n",
       "      <td>True</td>\n",
       "      <td>1929</td>\n",
       "      <td>True</td>\n",
       "      <td>1</td>\n",
       "      <td>1929</td>\n",
       "      <td>1953</td>\n",
       "    </tr>\n",
       "    <tr>\n",
       "      <th>61660</th>\n",
       "      <td>59673</td>\n",
       "      <td>Woman, Standing in the Garden (Frau, im Garten...</td>\n",
       "      <td>3197</td>\n",
       "      <td>Oskar Kokoschka</td>\n",
       "      <td>1916.0</td>\n",
       "      <td>Lithograph</td>\n",
       "      <td>composition (irreg.): 9 13/16 x 5 11/16\" (24.9...</td>\n",
       "      <td>1929-11-19</td>\n",
       "      <td>Gift of Paul J. Sachs</td>\n",
       "      <td>Y</td>\n",
       "      <td>...</td>\n",
       "      <td>Austrian</td>\n",
       "      <td>1886.0</td>\n",
       "      <td>1980.0</td>\n",
       "      <td>30.0</td>\n",
       "      <td>True</td>\n",
       "      <td>1929</td>\n",
       "      <td>True</td>\n",
       "      <td>1</td>\n",
       "      <td>1929</td>\n",
       "      <td>1953</td>\n",
       "    </tr>\n",
       "    <tr>\n",
       "      <th>61635</th>\n",
       "      <td>59646</td>\n",
       "      <td>Marine</td>\n",
       "      <td>1832</td>\n",
       "      <td>Lyonel Feininger</td>\n",
       "      <td>1918.0</td>\n",
       "      <td>Woodcut</td>\n",
       "      <td>composition (irreg.): 6 5/8 x 8 7/8\" (16.8 x 2...</td>\n",
       "      <td>1929-11-19</td>\n",
       "      <td>Gift of Paul J. Sachs</td>\n",
       "      <td>Y</td>\n",
       "      <td>...</td>\n",
       "      <td>American</td>\n",
       "      <td>1871.0</td>\n",
       "      <td>1956.0</td>\n",
       "      <td>47.0</td>\n",
       "      <td>True</td>\n",
       "      <td>1929</td>\n",
       "      <td>True</td>\n",
       "      <td>1</td>\n",
       "      <td>1929</td>\n",
       "      <td>1953</td>\n",
       "    </tr>\n",
       "  </tbody>\n",
       "</table>\n",
       "<p>5 rows × 32 columns</p>\n",
       "</div>"
      ],
      "text/plain": [
       "       Artwork ID                                              Title  \\\n",
       "61694       59708                        Max Reinhardt (Head) (Kopf)   \n",
       "61744       59762      The Lords of the World (Die Herren der Welt )   \n",
       "61711       59728                             Dialogue (Zwiesprache)   \n",
       "61660       59673  Woman, Standing in the Garden (Frau, im Garten...   \n",
       "61635       59646                                             Marine   \n",
       "\n",
       "      Artist ID              Name    Date      Medium  \\\n",
       "61694      3197   Oskar Kokoschka  1919.0  Lithograph   \n",
       "61744      5260      Georg Scholz  1922.0  Lithograph   \n",
       "61711      4533     Max Pechstein  1920.0     Woodcut   \n",
       "61660      3197   Oskar Kokoschka  1916.0  Lithograph   \n",
       "61635      1832  Lyonel Feininger  1918.0     Woodcut   \n",
       "\n",
       "                                              Dimensions Acquisition Date  \\\n",
       "61694  composition (irreg. ): 15 3/16 x 11 15/16\" (38...       1929-11-19   \n",
       "61744  composition: 11 3/4 x 15 3/4\" (29.8 x 40 cm); ...       1929-11-19   \n",
       "61711  composition: 15 13/16 x 12 9/16\" (40.2 x 31.9 ...       1929-11-19   \n",
       "61660  composition (irreg.): 9 13/16 x 5 11/16\" (24.9...       1929-11-19   \n",
       "61635  composition (irreg.): 6 5/8 x 8 7/8\" (16.8 x 2...       1929-11-19   \n",
       "\n",
       "                      Credit Catalogue  ... Nationality Birth Year Death Year  \\\n",
       "61694  Gift of Paul J. Sachs         Y  ...    Austrian     1886.0     1980.0   \n",
       "61744  Gift of Paul J. Sachs         Y  ...      German     1890.0     1945.0   \n",
       "61711  Gift of Paul J. Sachs         Y  ...      German     1881.0     1955.0   \n",
       "61660  Gift of Paul J. Sachs         Y  ...    Austrian     1886.0     1980.0   \n",
       "61635  Gift of Paul J. Sachs         Y  ...    American     1871.0     1956.0   \n",
       "\n",
       "       age_made  alive?  Acquisition Year  European?  decile  dec start year  \\\n",
       "61694      33.0    True              1929       True       1            1929   \n",
       "61744      32.0    True              1929       True       1            1929   \n",
       "61711      39.0    True              1929       True       1            1929   \n",
       "61660      30.0    True              1929       True       1            1929   \n",
       "61635      47.0    True              1929       True       1            1929   \n",
       "\n",
       "       dec end year  \n",
       "61694          1953  \n",
       "61744          1953  \n",
       "61711          1953  \n",
       "61660          1953  \n",
       "61635          1953  \n",
       "\n",
       "[5 rows x 32 columns]"
      ]
     },
     "execution_count": 59,
     "metadata": {},
     "output_type": "execute_result"
    }
   ],
   "source": [
    "# sort the data by acquisition date\n",
    "moma_by_year = moma.sort_values(by=['Acquisition Date'])\n",
    "\n",
    "# split the DataFrame into 10 (roughly) equal parts to be the 10 deciles (each representing 10% of the population)\n",
    "# the frist 6 have 13,940 works and the last 4 have 13,939 works\n",
    "df_split = np.array_split(moma_by_year, 10)\n",
    "for i in range(0,10):\n",
    "    \n",
    "    # add decile number to DataFrame\n",
    "    df_split[i][\"decile\"] = i+1\n",
    "    \n",
    "    # add decile start and end year to DataFrame\n",
    "    df_split[i][\"dec start year\"] = df_split[i][\"Acquisition Date\"].min().year\n",
    "    df_split[i][\"dec end year\"] = df_split[i][\"Acquisition Date\"].max().year\n",
    "\n",
    "# combine all of the split DataFrames into one big DataFrame with their corresponding decile number\n",
    "decile_df = pd.concat([df_split[0],df_split[1],df_split[2],df_split[3],df_split[4],df_split[5],df_split[6],df_split[7],df_split[8],df_split[9]])\n",
    "decile_df.head()"
   ]
  },
  {
   "cell_type": "code",
   "execution_count": 60,
   "metadata": {},
   "outputs": [],
   "source": [
    "# find the total number of female artists in each decile\n",
    "female_list = []\n",
    "females = decile_df[decile_df[\"Gender\"] == \"Female\"]\n",
    "for decile_num in range(1,11):\n",
    "    female_list.append(females[females[\"decile\"] == decile_num][\"Acquisition Date\"].count())"
   ]
  },
  {
   "cell_type": "code",
   "execution_count": 61,
   "metadata": {},
   "outputs": [],
   "source": [
    "# make it cumulative!\n",
    "total = 0\n",
    "female_count = [0]\n",
    "for i in range(10):\n",
    "    total += female_list[i]\n",
    "    female_count.append(total)"
   ]
  },
  {
   "cell_type": "code",
   "execution_count": 62,
   "metadata": {},
   "outputs": [],
   "source": [
    "# since we need a cumulative population, keep a list of the current population being examined at each decile\n",
    "\n",
    "total = 0\n",
    "# include 0% of the population in the list of each decile's cumulative population count\n",
    "pop_count = [0]\n",
    "for i in range(10):\n",
    "    total += df_split[i][\"Acquisition Year\"].count()\n",
    "    pop_count.append(total)"
   ]
  },
  {
   "cell_type": "markdown",
   "metadata": {},
   "source": [
    "Since the Gini index depends on cumulative proportions and not counts, we need to find the total proportion of female artists for each cumulative decile. This requires us to divide each cumulative decile by the total female population.\n",
    "\n",
    "It will suffice to simply create a list of each decile value because the difference in their size is negligible."
   ]
  },
  {
   "cell_type": "code",
   "execution_count": 63,
   "metadata": {},
   "outputs": [],
   "source": [
    "# divide female count by total population of female artists to get the proportion of female artists in each decile\n",
    "total_female = females[\"Acquisition Year\"].count()\n",
    "female_prop = list(map(lambda x: (x/total_female) *100, female_count))\n",
    "\n",
    "# create a list of all of the cumulative proportions of population (make sure to include 0 and 100)\n",
    "population_prop = [0,10,20,30,40,50,60,70,80,90,100]"
   ]
  },
  {
   "cell_type": "code",
   "execution_count": 64,
   "metadata": {},
   "outputs": [],
   "source": [
    "# create a DataFrame with these values representing the x and y axis of the Lorenz curve\n",
    "lorenz_curve = pd.DataFrame(list(zip(population_prop, female_prop)),columns =['cumulative_prop_of_artists', 'cumulative_proportion_of_female_artists'])"
   ]
  },
  {
   "cell_type": "code",
   "execution_count": 65,
   "metadata": {},
   "outputs": [
    {
     "data": {
      "text/plain": [
       "[0, 1929, 1953, 1964, 1968, 1974, 1986, 1998, 2005, 2009, 2013]"
      ]
     },
     "execution_count": 65,
     "metadata": {},
     "output_type": "execute_result"
    }
   ],
   "source": [
    "# add the start and end years of each decile to the DataFrame\n",
    "for i in range(0,10):\n",
    "    decile_df[decile_df[\"decile\"] == i][\"dec start year\"]\n",
    "    decile_df[decile_df[\"decile\"] == i][\"dec end year\"]\n",
    "    \n",
    "\n",
    "# create an array of the each unique start and end year to the respective list, including 0 for 0% of the population\n",
    "start_years = list(decile_df[\"dec start year\"].unique())\n",
    "start_years.insert(0,0)\n",
    "\n",
    "end_years = list(decile_df[\"dec end year\"].unique())\n",
    "end_years.insert(0,0)\n",
    "start_years"
   ]
  },
  {
   "cell_type": "code",
   "execution_count": 66,
   "metadata": {},
   "outputs": [
    {
     "data": {
      "text/html": [
       "<div>\n",
       "<style scoped>\n",
       "    .dataframe tbody tr th:only-of-type {\n",
       "        vertical-align: middle;\n",
       "    }\n",
       "\n",
       "    .dataframe tbody tr th {\n",
       "        vertical-align: top;\n",
       "    }\n",
       "\n",
       "    .dataframe thead th {\n",
       "        text-align: right;\n",
       "    }\n",
       "</style>\n",
       "<table border=\"1\" class=\"dataframe\">\n",
       "  <thead>\n",
       "    <tr style=\"text-align: right;\">\n",
       "      <th></th>\n",
       "      <th>cumulative_prop_of_artists</th>\n",
       "      <th>cumulative_proportion_of_female_artists</th>\n",
       "      <th>decile start</th>\n",
       "      <th>decile end</th>\n",
       "      <th>date range</th>\n",
       "    </tr>\n",
       "  </thead>\n",
       "  <tbody>\n",
       "    <tr>\n",
       "      <th>0</th>\n",
       "      <td>0</td>\n",
       "      <td>0.000000</td>\n",
       "      <td>0</td>\n",
       "      <td>0</td>\n",
       "      <td>0-0</td>\n",
       "    </tr>\n",
       "    <tr>\n",
       "      <th>1</th>\n",
       "      <td>10</td>\n",
       "      <td>4.831752</td>\n",
       "      <td>1929</td>\n",
       "      <td>1953</td>\n",
       "      <td>1929-1953</td>\n",
       "    </tr>\n",
       "    <tr>\n",
       "      <th>2</th>\n",
       "      <td>20</td>\n",
       "      <td>8.083892</td>\n",
       "      <td>1953</td>\n",
       "      <td>1964</td>\n",
       "      <td>1953-1964</td>\n",
       "    </tr>\n",
       "    <tr>\n",
       "      <th>3</th>\n",
       "      <td>30</td>\n",
       "      <td>11.833809</td>\n",
       "      <td>1964</td>\n",
       "      <td>1968</td>\n",
       "      <td>1964,1968</td>\n",
       "    </tr>\n",
       "    <tr>\n",
       "      <th>4</th>\n",
       "      <td>40</td>\n",
       "      <td>17.773943</td>\n",
       "      <td>1968</td>\n",
       "      <td>1974</td>\n",
       "      <td>1968-1974</td>\n",
       "    </tr>\n",
       "    <tr>\n",
       "      <th>5</th>\n",
       "      <td>50</td>\n",
       "      <td>26.866662</td>\n",
       "      <td>1974</td>\n",
       "      <td>1986</td>\n",
       "      <td>1974-1986</td>\n",
       "    </tr>\n",
       "    <tr>\n",
       "      <th>6</th>\n",
       "      <td>60</td>\n",
       "      <td>45.503418</td>\n",
       "      <td>1986</td>\n",
       "      <td>1998</td>\n",
       "      <td>1986-1998</td>\n",
       "    </tr>\n",
       "    <tr>\n",
       "      <th>7</th>\n",
       "      <td>70</td>\n",
       "      <td>58.711090</td>\n",
       "      <td>1998</td>\n",
       "      <td>2005</td>\n",
       "      <td>1998-2005</td>\n",
       "    </tr>\n",
       "    <tr>\n",
       "      <th>8</th>\n",
       "      <td>80</td>\n",
       "      <td>76.431937</td>\n",
       "      <td>2005</td>\n",
       "      <td>2009</td>\n",
       "      <td>2005-2009</td>\n",
       "    </tr>\n",
       "    <tr>\n",
       "      <th>9</th>\n",
       "      <td>90</td>\n",
       "      <td>90.960377</td>\n",
       "      <td>2009</td>\n",
       "      <td>2013</td>\n",
       "      <td>2009-2013</td>\n",
       "    </tr>\n",
       "    <tr>\n",
       "      <th>10</th>\n",
       "      <td>100</td>\n",
       "      <td>100.000000</td>\n",
       "      <td>2013</td>\n",
       "      <td>2016</td>\n",
       "      <td>2013-2016</td>\n",
       "    </tr>\n",
       "  </tbody>\n",
       "</table>\n",
       "</div>"
      ],
      "text/plain": [
       "    cumulative_prop_of_artists  cumulative_proportion_of_female_artists  \\\n",
       "0                            0                                 0.000000   \n",
       "1                           10                                 4.831752   \n",
       "2                           20                                 8.083892   \n",
       "3                           30                                11.833809   \n",
       "4                           40                                17.773943   \n",
       "5                           50                                26.866662   \n",
       "6                           60                                45.503418   \n",
       "7                           70                                58.711090   \n",
       "8                           80                                76.431937   \n",
       "9                           90                                90.960377   \n",
       "10                         100                               100.000000   \n",
       "\n",
       "    decile start  decile end date range  \n",
       "0              0           0        0-0  \n",
       "1           1929        1953  1929-1953  \n",
       "2           1953        1964  1953-1964  \n",
       "3           1964        1968  1964,1968  \n",
       "4           1968        1974  1968-1974  \n",
       "5           1974        1986  1974-1986  \n",
       "6           1986        1998  1986-1998  \n",
       "7           1998        2005  1998-2005  \n",
       "8           2005        2009  2005-2009  \n",
       "9           2009        2013  2009-2013  \n",
       "10          2013        2016  2013-2016  "
      ]
     },
     "execution_count": 66,
     "metadata": {},
     "output_type": "execute_result"
    }
   ],
   "source": [
    "# add this to a new DataFrame\n",
    "lorenz_year = lorenz_curve.copy()\n",
    "lorenz_year[\"decile start\"] = start_years\n",
    "lorenz_year[\"decile end\"] = end_years\n",
    "lorenz_year[\"date range\"] = [\"0-0\", \"1929-1953\", \"1953-1964\", \"1964,1968\", \"1968-1974\", \"1974-1986\",\"1986-1998\", \"1998-2005\", \"2005-2009\", \"2009-2013\", \"2013-2016\"]\n",
    "lorenz_year"
   ]
  },
  {
   "cell_type": "markdown",
   "metadata": {},
   "source": [
    "Here is a dataframe with the cumulative proportion of artists, the cumulative proprtion of female artists, the decile start data, decile end data, and the date range. This provides some context for each decile. "
   ]
  },
  {
   "cell_type": "code",
   "execution_count": 67,
   "metadata": {},
   "outputs": [
    {
     "data": {
      "text/plain": [
       "Text(0.5, 1.0, 'Lorenz Curve and Perfect Equality line')"
      ]
     },
     "execution_count": 67,
     "metadata": {},
     "output_type": "execute_result"
    },
    {
     "data": {
      "image/png": "[encoded data removed]",
      "text/plain": [
       "<Figure size 432x288 with 1 Axes>"
      ]
     },
     "metadata": {
      "needs_background": "light"
     },
     "output_type": "display_data"
    }
   ],
   "source": [
    "# I don't really understand what's going on here. How is the blue line there? Why does the bottom axis only go to 10?\n",
    "# I'm a little lost but fair enough.\n",
    "\n",
    "# plot the Lorenz curve\n",
    "fig,ax = plot.subplots()\n",
    "ax.plot(lorenz_curve)\n",
    "ax.set_xlabel(\"cumulative proportion of population\")\n",
    "ax.set_ylabel(\"cumulative proportion of female artists\")\n",
    "ax.set_title(\"Lorenz Curve and Perfect Equality line\")"
   ]
  },
  {
   "cell_type": "markdown",
   "metadata": {},
   "source": [
    "Now we have a graph showing perfect equality (blue line) the Lorenz curve (orange line). The area in between the two lines represents the inequality between the two. It is not surprising that the distance between the two lines is largest among the earlier works. The gap decreases in more recent years, showing that there is a more equal distribution of works by female artists in later years, particularly starting in the 8th decile (all works until 2009). Interestingly, in the 9th decile (all works until 2015) the Lorenz curve actually slightly surpasses perfect equality. This means that the earliest 90% of all artworks contains approximately 91% of the all the works by female artists."
   ]
  },
  {
   "cell_type": "markdown",
   "metadata": {},
   "source": [
    "#### Gini Coefficient"
   ]
  },
  {
   "cell_type": "markdown",
   "metadata": {},
   "source": [
    "To find the Gini Coefficient, we need to integrate the Lorenz curve and the perfect equality line to get the area under the Lorenz curve and the area under the perfect equality line respectively. We then use those values to find the Gini Coefficient.\n",
    "Mathematically, this is:\n",
    "\n",
    "Gini Coefficient =  $\\frac{\\int Perfect Equality Line - \\int Lorenz Curve}{\\int Perfect Equality Line}$."
   ]
  },
  {
   "cell_type": "code",
   "execution_count": 68,
   "metadata": {},
   "outputs": [
    {
     "data": {
      "text/plain": [
       "0.2180062388000266"
      ]
     },
     "execution_count": 68,
     "metadata": {},
     "output_type": "execute_result"
    }
   ],
   "source": [
    "# calculate the area under the Lorenz curve\n",
    "lorenz_area = np.trapz(female_prop, x=population_prop)\n",
    "\n",
    "# calculate the area under the perfect equality line (y=x)\n",
    "pe_area = np.trapz(population_prop, x=population_prop)\n",
    "\n",
    "# use those values to calculate the gini coefficient\n",
    "gini_coeff = (pe_area - lorenz_area) / pe_area\n",
    "gini_coeff"
   ]
  },
  {
   "cell_type": "markdown",
   "metadata": {},
   "source": [
    "We found a Gini coefficient of 21.8. The closer a Gini coefficient is to 0, the closer the data is to perfect equality.\n",
    "\n",
    "This means there is 21.8 percent concentration of works by female artists in the dataset over time, so works by female artists are acquired at lower rate than works are acquired in the general population. This is shown in the graph of the Lorenz curve, as the Lorenz curve surpasses perfect equality around the 90th decile, so we can concluded that MoMA has acquired a higher porportion of works by female artists in more recent years."
   ]
  },
  {
   "cell_type": "code",
   "execution_count": 69,
   "metadata": {},
   "outputs": [],
   "source": [
    "female_by_year[\"Acquisition Date\"]\n",
    "acquisitons_per_year = moma.groupby(['Acquisition Year']).count()\n",
    "acquisitons_per_year[\"Acquisition Date\"].astype(int)\n",
    "female_proportion_by_year = female_by_year[\"Acquisition Date\"] / acquisitons_per_year[\"Acquisition Date\"].astype(int)\n",
    "female_proportion_by_year = female_proportion_by_year.rename(\"percent_female\",inplace=True).to_frame()\n",
    "\n",
    "\n",
    "female_proportion_by_year = female_proportion_by_year.reset_index().dropna()\n",
    "female_proportion_by_year\n",
    "\n",
    "female_proportion_pre_2014 = female_proportion_by_year[female_proportion_by_year[\"Acquisition Year\"] < 2014]"
   ]
  },
  {
   "cell_type": "code",
   "execution_count": 70,
   "metadata": {},
   "outputs": [
    {
     "data": {
      "text/plain": [
       "array([0.17555451])"
      ]
     },
     "execution_count": 70,
     "metadata": {},
     "output_type": "execute_result"
    }
   ],
   "source": [
    "from sklearn.neighbors import KNeighborsRegressor\n",
    "from sklearn.feature_extraction import DictVectorizer\n",
    "from sklearn.preprocessing import StandardScaler\n",
    "\n",
    "# Define the features.\n",
    "features = [\"Acquisition Year\"]\n",
    "\n",
    "# Define the training data.\n",
    "# Represent the features as a list of dicts.\n",
    "X_train_dict = female_proportion_pre_2014[features].to_dict(orient=\"records\")\n",
    "X_new_dict = [{\n",
    "    \"Acquisition Year\": 2014\n",
    "}]\n",
    "y_train = female_proportion_pre_2014[\"percent_female\"]\n",
    "\n",
    "# Dummy encoding\n",
    "vec = DictVectorizer(sparse=False)\n",
    "vec.fit(X_train_dict)\n",
    "X_train = vec.transform(X_train_dict)\n",
    "X_new = vec.transform(X_new_dict)\n",
    "\n",
    "# Standardization\n",
    "scaler = StandardScaler()\n",
    "scaler.fit(X_train)\n",
    "X_train_sc = scaler.transform(X_train)\n",
    "X_new_sc = scaler.transform(X_new)\n",
    "\n",
    "# K-Nearest Neighbors Model\n",
    "model = KNeighborsRegressor(n_neighbors=9)\n",
    "model.fit(X_train_sc, y_train)\n",
    "model.predict(X_new_sc)"
   ]
  },
  {
   "cell_type": "markdown",
   "metadata": {},
   "source": [
    "## Tate Data Extraction, Cleaning, and Loading"
   ]
  },
  {
   "cell_type": "markdown",
   "metadata": {},
   "source": [
    "In order to do through analysis we should compare the MoMA's data to data from other museums. The first museum that we will examine is the Tate, another museum for modern and contemporary art located in London, England."
   ]
  },
  {
   "cell_type": "code",
   "execution_count": 54,
   "metadata": {},
   "outputs": [],
   "source": [
    "tate_artworks = pd.read_csv(\"artwork_data-tate.csv\", low_memory = False)\n",
    "tate_artists = pd.read_csv(\"artist_data-tate.csv\", low_memory = False)"
   ]
  },
  {
   "cell_type": "code",
   "execution_count": 72,
   "metadata": {},
   "outputs": [
    {
     "data": {
      "text/html": [
       "<div>\n",
       "<style scoped>\n",
       "    .dataframe tbody tr th:only-of-type {\n",
       "        vertical-align: middle;\n",
       "    }\n",
       "\n",
       "    .dataframe tbody tr th {\n",
       "        vertical-align: top;\n",
       "    }\n",
       "\n",
       "    .dataframe thead th {\n",
       "        text-align: right;\n",
       "    }\n",
       "</style>\n",
       "<table border=\"1\" class=\"dataframe\">\n",
       "  <thead>\n",
       "    <tr style=\"text-align: right;\">\n",
       "      <th></th>\n",
       "      <th>id</th>\n",
       "      <th>accession_number</th>\n",
       "      <th>artist</th>\n",
       "      <th>artistRole</th>\n",
       "      <th>artistId</th>\n",
       "      <th>title</th>\n",
       "      <th>dateText</th>\n",
       "      <th>medium</th>\n",
       "      <th>creditLine</th>\n",
       "      <th>year</th>\n",
       "      <th>acquisitionYear</th>\n",
       "      <th>dimensions</th>\n",
       "      <th>width</th>\n",
       "      <th>height</th>\n",
       "      <th>depth</th>\n",
       "      <th>units</th>\n",
       "      <th>inscription</th>\n",
       "      <th>thumbnailCopyright</th>\n",
       "      <th>thumbnailUrl</th>\n",
       "      <th>url</th>\n",
       "    </tr>\n",
       "  </thead>\n",
       "  <tbody>\n",
       "    <tr>\n",
       "      <th>0</th>\n",
       "      <td>1035</td>\n",
       "      <td>A00001</td>\n",
       "      <td>Blake, Robert</td>\n",
       "      <td>artist</td>\n",
       "      <td>38</td>\n",
       "      <td>A Figure Bowing before a Seated Old Man with h...</td>\n",
       "      <td>date not known</td>\n",
       "      <td>Watercolour, ink, chalk and graphite on paper....</td>\n",
       "      <td>Presented by Mrs John Richmond 1922</td>\n",
       "      <td>NaN</td>\n",
       "      <td>1922.0</td>\n",
       "      <td>support: 394 x 419 mm</td>\n",
       "      <td>394</td>\n",
       "      <td>419</td>\n",
       "      <td>NaN</td>\n",
       "      <td>mm</td>\n",
       "      <td>NaN</td>\n",
       "      <td>NaN</td>\n",
       "      <td>http://www.tate.org.uk/art/images/work/A/A00/A...</td>\n",
       "      <td>http://www.tate.org.uk/art/artworks/blake-a-fi...</td>\n",
       "    </tr>\n",
       "    <tr>\n",
       "      <th>1</th>\n",
       "      <td>1036</td>\n",
       "      <td>A00002</td>\n",
       "      <td>Blake, Robert</td>\n",
       "      <td>artist</td>\n",
       "      <td>38</td>\n",
       "      <td>Two Drawings of Frightened Figures, Probably f...</td>\n",
       "      <td>date not known</td>\n",
       "      <td>Graphite on paper</td>\n",
       "      <td>Presented by Mrs John Richmond 1922</td>\n",
       "      <td>NaN</td>\n",
       "      <td>1922.0</td>\n",
       "      <td>support: 311 x 213 mm</td>\n",
       "      <td>311</td>\n",
       "      <td>213</td>\n",
       "      <td>NaN</td>\n",
       "      <td>mm</td>\n",
       "      <td>NaN</td>\n",
       "      <td>NaN</td>\n",
       "      <td>http://www.tate.org.uk/art/images/work/A/A00/A...</td>\n",
       "      <td>http://www.tate.org.uk/art/artworks/blake-two-...</td>\n",
       "    </tr>\n",
       "    <tr>\n",
       "      <th>2</th>\n",
       "      <td>1037</td>\n",
       "      <td>A00003</td>\n",
       "      <td>Blake, Robert</td>\n",
       "      <td>artist</td>\n",
       "      <td>38</td>\n",
       "      <td>The Preaching of Warning. Verso: An Old Man En...</td>\n",
       "      <td>?c.1785</td>\n",
       "      <td>Graphite on paper. Verso: graphite on paper</td>\n",
       "      <td>Presented by Mrs John Richmond 1922</td>\n",
       "      <td>1785</td>\n",
       "      <td>1922.0</td>\n",
       "      <td>support: 343 x 467 mm</td>\n",
       "      <td>343</td>\n",
       "      <td>467</td>\n",
       "      <td>NaN</td>\n",
       "      <td>mm</td>\n",
       "      <td>NaN</td>\n",
       "      <td>NaN</td>\n",
       "      <td>http://www.tate.org.uk/art/images/work/A/A00/A...</td>\n",
       "      <td>http://www.tate.org.uk/art/artworks/blake-the-...</td>\n",
       "    </tr>\n",
       "    <tr>\n",
       "      <th>3</th>\n",
       "      <td>1038</td>\n",
       "      <td>A00004</td>\n",
       "      <td>Blake, Robert</td>\n",
       "      <td>artist</td>\n",
       "      <td>38</td>\n",
       "      <td>Six Drawings of Figures with Outstretched Arms</td>\n",
       "      <td>date not known</td>\n",
       "      <td>Graphite on paper</td>\n",
       "      <td>Presented by Mrs John Richmond 1922</td>\n",
       "      <td>NaN</td>\n",
       "      <td>1922.0</td>\n",
       "      <td>support: 318 x 394 mm</td>\n",
       "      <td>318</td>\n",
       "      <td>394</td>\n",
       "      <td>NaN</td>\n",
       "      <td>mm</td>\n",
       "      <td>NaN</td>\n",
       "      <td>NaN</td>\n",
       "      <td>http://www.tate.org.uk/art/images/work/A/A00/A...</td>\n",
       "      <td>http://www.tate.org.uk/art/artworks/blake-six-...</td>\n",
       "    </tr>\n",
       "    <tr>\n",
       "      <th>4</th>\n",
       "      <td>1039</td>\n",
       "      <td>A00005</td>\n",
       "      <td>Blake, William</td>\n",
       "      <td>artist</td>\n",
       "      <td>39</td>\n",
       "      <td>The Circle of the Lustful: Francesca da Rimini...</td>\n",
       "      <td>1826–7, reprinted 1892</td>\n",
       "      <td>Line engraving on paper</td>\n",
       "      <td>Purchased with the assistance of a special gra...</td>\n",
       "      <td>1826</td>\n",
       "      <td>1919.0</td>\n",
       "      <td>image: 243 x 335 mm</td>\n",
       "      <td>243</td>\n",
       "      <td>335</td>\n",
       "      <td>NaN</td>\n",
       "      <td>mm</td>\n",
       "      <td>NaN</td>\n",
       "      <td>NaN</td>\n",
       "      <td>http://www.tate.org.uk/art/images/work/A/A00/A...</td>\n",
       "      <td>http://www.tate.org.uk/art/artworks/blake-the-...</td>\n",
       "    </tr>\n",
       "  </tbody>\n",
       "</table>\n",
       "</div>"
      ],
      "text/plain": [
       "     id accession_number          artist artistRole  artistId  \\\n",
       "0  1035           A00001   Blake, Robert     artist        38   \n",
       "1  1036           A00002   Blake, Robert     artist        38   \n",
       "2  1037           A00003   Blake, Robert     artist        38   \n",
       "3  1038           A00004   Blake, Robert     artist        38   \n",
       "4  1039           A00005  Blake, William     artist        39   \n",
       "\n",
       "                                               title                dateText  \\\n",
       "0  A Figure Bowing before a Seated Old Man with h...          date not known   \n",
       "1  Two Drawings of Frightened Figures, Probably f...          date not known   \n",
       "2  The Preaching of Warning. Verso: An Old Man En...                 ?c.1785   \n",
       "3     Six Drawings of Figures with Outstretched Arms          date not known   \n",
       "4  The Circle of the Lustful: Francesca da Rimini...  1826–7, reprinted 1892   \n",
       "\n",
       "                                              medium  \\\n",
       "0  Watercolour, ink, chalk and graphite on paper....   \n",
       "1                                  Graphite on paper   \n",
       "2        Graphite on paper. Verso: graphite on paper   \n",
       "3                                  Graphite on paper   \n",
       "4                            Line engraving on paper   \n",
       "\n",
       "                                          creditLine  year  acquisitionYear  \\\n",
       "0                Presented by Mrs John Richmond 1922   NaN           1922.0   \n",
       "1                Presented by Mrs John Richmond 1922   NaN           1922.0   \n",
       "2                Presented by Mrs John Richmond 1922  1785           1922.0   \n",
       "3                Presented by Mrs John Richmond 1922   NaN           1922.0   \n",
       "4  Purchased with the assistance of a special gra...  1826           1919.0   \n",
       "\n",
       "              dimensions width height  depth units inscription  \\\n",
       "0  support: 394 x 419 mm   394    419    NaN    mm         NaN   \n",
       "1  support: 311 x 213 mm   311    213    NaN    mm         NaN   \n",
       "2  support: 343 x 467 mm   343    467    NaN    mm         NaN   \n",
       "3  support: 318 x 394 mm   318    394    NaN    mm         NaN   \n",
       "4    image: 243 x 335 mm   243    335    NaN    mm         NaN   \n",
       "\n",
       "  thumbnailCopyright                                       thumbnailUrl  \\\n",
       "0                NaN  http://www.tate.org.uk/art/images/work/A/A00/A...   \n",
       "1                NaN  http://www.tate.org.uk/art/images/work/A/A00/A...   \n",
       "2                NaN  http://www.tate.org.uk/art/images/work/A/A00/A...   \n",
       "3                NaN  http://www.tate.org.uk/art/images/work/A/A00/A...   \n",
       "4                NaN  http://www.tate.org.uk/art/images/work/A/A00/A...   \n",
       "\n",
       "                                                 url  \n",
       "0  http://www.tate.org.uk/art/artworks/blake-a-fi...  \n",
       "1  http://www.tate.org.uk/art/artworks/blake-two-...  \n",
       "2  http://www.tate.org.uk/art/artworks/blake-the-...  \n",
       "3  http://www.tate.org.uk/art/artworks/blake-six-...  \n",
       "4  http://www.tate.org.uk/art/artworks/blake-the-...  "
      ]
     },
     "metadata": {},
     "output_type": "display_data"
    },
    {
     "data": {
      "text/html": [
       "<div>\n",
       "<style scoped>\n",
       "    .dataframe tbody tr th:only-of-type {\n",
       "        vertical-align: middle;\n",
       "    }\n",
       "\n",
       "    .dataframe tbody tr th {\n",
       "        vertical-align: top;\n",
       "    }\n",
       "\n",
       "    .dataframe thead th {\n",
       "        text-align: right;\n",
       "    }\n",
       "</style>\n",
       "<table border=\"1\" class=\"dataframe\">\n",
       "  <thead>\n",
       "    <tr style=\"text-align: right;\">\n",
       "      <th></th>\n",
       "      <th>id</th>\n",
       "      <th>name</th>\n",
       "      <th>gender</th>\n",
       "      <th>dates</th>\n",
       "      <th>yearOfBirth</th>\n",
       "      <th>yearOfDeath</th>\n",
       "      <th>placeOfBirth</th>\n",
       "      <th>placeOfDeath</th>\n",
       "      <th>url</th>\n",
       "    </tr>\n",
       "  </thead>\n",
       "  <tbody>\n",
       "    <tr>\n",
       "      <th>0</th>\n",
       "      <td>10093</td>\n",
       "      <td>Abakanowicz, Magdalena</td>\n",
       "      <td>Female</td>\n",
       "      <td>born 1930</td>\n",
       "      <td>1930.0</td>\n",
       "      <td>NaN</td>\n",
       "      <td>Polska</td>\n",
       "      <td>NaN</td>\n",
       "      <td>http://www.tate.org.uk/art/artists/magdalena-a...</td>\n",
       "    </tr>\n",
       "    <tr>\n",
       "      <th>1</th>\n",
       "      <td>0</td>\n",
       "      <td>Abbey, Edwin Austin</td>\n",
       "      <td>Male</td>\n",
       "      <td>1852–1911</td>\n",
       "      <td>1852.0</td>\n",
       "      <td>1911.0</td>\n",
       "      <td>Philadelphia, United States</td>\n",
       "      <td>London, United Kingdom</td>\n",
       "      <td>http://www.tate.org.uk/art/artists/edwin-austi...</td>\n",
       "    </tr>\n",
       "    <tr>\n",
       "      <th>2</th>\n",
       "      <td>2756</td>\n",
       "      <td>Abbott, Berenice</td>\n",
       "      <td>Female</td>\n",
       "      <td>1898–1991</td>\n",
       "      <td>1898.0</td>\n",
       "      <td>1991.0</td>\n",
       "      <td>Springfield, United States</td>\n",
       "      <td>Monson, United States</td>\n",
       "      <td>http://www.tate.org.uk/art/artists/berenice-ab...</td>\n",
       "    </tr>\n",
       "    <tr>\n",
       "      <th>3</th>\n",
       "      <td>1</td>\n",
       "      <td>Abbott, Lemuel Francis</td>\n",
       "      <td>Male</td>\n",
       "      <td>1760–1803</td>\n",
       "      <td>1760.0</td>\n",
       "      <td>1803.0</td>\n",
       "      <td>Leicestershire, United Kingdom</td>\n",
       "      <td>London, United Kingdom</td>\n",
       "      <td>http://www.tate.org.uk/art/artists/lemuel-fran...</td>\n",
       "    </tr>\n",
       "    <tr>\n",
       "      <th>4</th>\n",
       "      <td>622</td>\n",
       "      <td>Abrahams, Ivor</td>\n",
       "      <td>Male</td>\n",
       "      <td>born 1935</td>\n",
       "      <td>1935.0</td>\n",
       "      <td>NaN</td>\n",
       "      <td>Wigan, United Kingdom</td>\n",
       "      <td>NaN</td>\n",
       "      <td>http://www.tate.org.uk/art/artists/ivor-abraha...</td>\n",
       "    </tr>\n",
       "  </tbody>\n",
       "</table>\n",
       "</div>"
      ],
      "text/plain": [
       "      id                    name  gender      dates  yearOfBirth  yearOfDeath  \\\n",
       "0  10093  Abakanowicz, Magdalena  Female  born 1930       1930.0          NaN   \n",
       "1      0     Abbey, Edwin Austin    Male  1852–1911       1852.0       1911.0   \n",
       "2   2756        Abbott, Berenice  Female  1898–1991       1898.0       1991.0   \n",
       "3      1  Abbott, Lemuel Francis    Male  1760–1803       1760.0       1803.0   \n",
       "4    622          Abrahams, Ivor    Male  born 1935       1935.0          NaN   \n",
       "\n",
       "                     placeOfBirth            placeOfDeath  \\\n",
       "0                          Polska                     NaN   \n",
       "1     Philadelphia, United States  London, United Kingdom   \n",
       "2      Springfield, United States   Monson, United States   \n",
       "3  Leicestershire, United Kingdom  London, United Kingdom   \n",
       "4           Wigan, United Kingdom                     NaN   \n",
       "\n",
       "                                                 url  \n",
       "0  http://www.tate.org.uk/art/artists/magdalena-a...  \n",
       "1  http://www.tate.org.uk/art/artists/edwin-austi...  \n",
       "2  http://www.tate.org.uk/art/artists/berenice-ab...  \n",
       "3  http://www.tate.org.uk/art/artists/lemuel-fran...  \n",
       "4  http://www.tate.org.uk/art/artists/ivor-abraha...  "
      ]
     },
     "execution_count": 72,
     "metadata": {},
     "output_type": "execute_result"
    }
   ],
   "source": [
    "display(tate_artworks.head())\n",
    "tate_artists.head() "
   ]
  },
  {
   "cell_type": "markdown",
   "metadata": {},
   "source": [
    "After examining the data set you can see they have a lot of different columns that are not needed because of their repetition, or because we won't be using them in the future. So we created new data sets without them below."
   ]
  },
  {
   "cell_type": "code",
   "execution_count": 73,
   "metadata": {},
   "outputs": [],
   "source": [
    "tate_newartist = tate_artists[['name','gender','placeOfBirth','yearOfBirth','yearOfDeath']]"
   ]
  },
  {
   "cell_type": "code",
   "execution_count": 74,
   "metadata": {},
   "outputs": [],
   "source": [
    "tate_newartworks = tate_artworks[['id','accession_number','artist','artistRole','artistId','title','medium','year'\n",
    "                                 ,'acquisitionYear','dimensions']]"
   ]
  },
  {
   "cell_type": "markdown",
   "metadata": {},
   "source": [
    "Next we merged the artist and the artworks data together, in the artist dataset the artist column is called artists, and in the artworks it is called name. We merged this on left so that if there is an artist who doesn't have an artwork they don't show up."
   ]
  },
  {
   "cell_type": "code",
   "execution_count": 75,
   "metadata": {},
   "outputs": [],
   "source": [
    "tate = tate_newartworks.merge(tate_newartist, left_on = ['artist'],right_on = ['name'], how = 'left')"
   ]
  },
  {
   "cell_type": "markdown",
   "metadata": {},
   "source": [
    "Then we dropped the name column because we would no longer need it"
   ]
  },
  {
   "cell_type": "code",
   "execution_count": 76,
   "metadata": {},
   "outputs": [],
   "source": [
    "tate = tate.drop(columns = ['name'])"
   ]
  },
  {
   "cell_type": "markdown",
   "metadata": {},
   "source": [
    "Then, like we did for the MoMA, we removed the rows where the acquisition year was not present. "
   ]
  },
  {
   "cell_type": "code",
   "execution_count": 77,
   "metadata": {},
   "outputs": [],
   "source": [
    "no_date = tate[(tate['acquisitionYear'].isnull() == True)].index\n",
    "tate.drop(no_date, inplace = True)"
   ]
  },
  {
   "cell_type": "markdown",
   "metadata": {},
   "source": [
    "When examining the dates we noticed that they were not as wonky as the other one so we only had to change two dates."
   ]
  },
  {
   "cell_type": "code",
   "execution_count": 78,
   "metadata": {},
   "outputs": [
    {
     "data": {
      "text/plain": [
       "array([nan, 1785.0, 1826.0, 1828.0, 1825.0, 1803.0, 1794.0, 1789.0,\n",
       "       1786.0, 1800.0, 1790.0, 1805.0, 1779.0, 1870.0, 1871.0, 1866.0,\n",
       "       1877.0, 1873.0, 1872.0, 1879.0, 1875.0, 1862.0, 1863.0, 1861.0,\n",
       "       1880.0, 1821.0, 1840.0, 1846.0, 1874.0, 1860.0, 1852.0, 1850.0,\n",
       "       1845.0, 1844.0, 1827.0, 1829.0, 1831.0, 1830.0, 1812.0, 1814.0,\n",
       "       1869.0, 1881.0, 1851.0, 1843.0, 1864.0, 1865.0, 1788.0, 1876.0,\n",
       "       1858.0, 1859.0, 1849.0, 1885.0, 1818.0, 1893.0, 1806.0, 1837.0,\n",
       "       1810.0, 1807.0, 1808.0, 1809.0, 1811.0, 1816.0, 1822.0, 1833.0,\n",
       "       1817.0, 1931.0, 1959.0, 1916.0, 1917.0, 1951.0, 1900.0, 1899.0,\n",
       "       1902.0, 1953.0, 1933.0, 1974.0, 1819.0, 1820.0, 1967.0, 1969.0,\n",
       "       1979.0, 1983.0, 1989.0, 1992.0, 1993.0, 1994.0, 1997.0, 1998.0,\n",
       "       1999.0, 2000.0, 1981.0, 1985.0, 1996.0, 1991.0, 1971.0, 2004.0,\n",
       "       2002.0, 2005.0, 2006.0, 1975.0, 2001.0, 1973.0, 2003.0, 1963.0,\n",
       "       1976.0, 1977.0, 1960.0, 1990.0, 1988.0, 2007.0, 1964.0, 1970.0,\n",
       "       1949.0, 1952.0, 1954.0, 1955.0, 1956.0, 1958.0, 1961.0, 1965.0,\n",
       "       1966.0, 1986.0, 1982.0, 1978.0, 1980.0, 1962.0, 1984.0, 1972.0,\n",
       "       1957.0, 1948.0, 1987.0, 1968.0, 1946.0, 1945.0, 2009.0, 1995.0,\n",
       "       2010.0, 2008.0, 2011.0, 1787.0, 1791.0, 1792.0, 1793.0, 1795.0,\n",
       "       1796.0, 1797.0, 1802.0, 1798.0, 1799.0, 1780.0, 1804.0, 1801.0,\n",
       "       1740.0, 1815.0, 1835.0, 1824.0, 1813.0, 1856.0, 1823.0, 1839.0,\n",
       "       1832.0, 1834.0, 1836.0, 1842.0, 1841.0, 1847.0, 1777.0, 1680.0,\n",
       "       1770.0, 1773.0, 1771.0, 1756.0, 1745.0, 1768.0, 1766.0, 1784.0,\n",
       "       1760.0, 1776.0, 1783.0, 1781.0, 1838.0, 1696.0, 1765.0, 1775.0,\n",
       "       1782.0, 1758.0, 1848.0, 1854.0, 1855.0, 1764.0, 1778.0, 1772.0,\n",
       "       1753.0, 1670.0, 1759.0, 1752.0, 1738.0, 1868.0, 1750.0, 1731.0,\n",
       "       1642.0, 1747.0, 1644.0, 1919.0, 1923.0, 1853.0, 1905.0, 1922.0,\n",
       "       1857.0, 1762.0, 1737.0, 1748.0, 1755.0, 1746.0, 1545.0, 1888.0,\n",
       "       1896.0, 1882.0, 1886.0, 1892.0, 1887.0, 1889.0, 1883.0, 1884.0,\n",
       "       1891.0, 1878.0, 1897.0, 1895.0, 1890.0, 1894.0, 1769.0, 1741.0,\n",
       "       1898.0, 1867.0, 1749.0, 1901.0, 1763.0, 1903.0, 1739.0, 1761.0,\n",
       "       1904.0, 1906.0, 1907.0, 1908.0, 1646.0, 1774.0, 1909.0, 1910.0,\n",
       "       1911.0, 1655.0, 1912.0, 1913.0, 1914.0, 1720.0, 1915.0, 1695.0,\n",
       "       1623.0, 1920.0, 1743.0, 1918.0, 1715.0, 1937.0, 1921.0, 1751.0,\n",
       "       1924.0, 1925.0, 1926.0, 1927.0, 1928.0, 1929.0, 1930.0, 1932.0,\n",
       "       1645.0, 1744.0, 1934.0, 1576.0, 1935.0, 1936.0, 1938.0, 1939.0,\n",
       "       1940.0, 1941.0, 1942.0, 1943.0, 1944.0, 1732.0, 1947.0, 1699.0,\n",
       "       1735.0, 1659.0, 1950.0, 1733.0, 1573.0, 1710.0, 1672.0, 1625.0,\n",
       "       2012.0, 1660.0, 1690.0, 1684.0, 1615.0, 1600.0, 1679.0, 1619.0,\n",
       "       1569.0, 1586.0, 1650.0, 1742.0, 1557.0, 1629.0, 1725.0, 1648.0,\n",
       "       1674.0, 1730.0, 1754.0, 1563.0, 1757.0, 1592.0, 1636.0, 1633.0,\n",
       "       1700.0, 1594.0, 1635.0, 1620.0, 1640.0, 1767.0, 1724.0, 1610.0,\n",
       "       1605.0, 1565.0, 1707.0, 1639.0, 1676.0, 1661.0, 1596.0, 1630.0,\n",
       "       1701.0, 1681.0, 1728.0, 1675.0, 1654.0, 1689.0, 1662.0, 1685.0,\n",
       "       1723.0, 1683.0, 1734.0, 1721.0, 1595.0, 1638.0, 1713.0, 1716.0,\n",
       "       1719.0, '1774', '1773', '1810', '1845', '1775', '1857', '1855',\n",
       "       '1875', '1830', '1833', '1692', '1788', '1726', '1718', '1791',\n",
       "       '1831', '1777', '1789', '1770', '1796', '1798', '1799', '1836',\n",
       "       '1834', '1822', '1838', '1839', '1906', '1919', '1936', '1902',\n",
       "       '1819', '1807', '1805', '1823', '1824', '1816', '1765', '1780',\n",
       "       '1768', '1637', '1753', '1647', '1817', '1762', '1763', '1658',\n",
       "       '1772', '1795', '1794', '1835', '1761', '1820', '1811', '1787',\n",
       "       '1797', '1785', '1813', '1760', '1784', '1964', '1966', '1968',\n",
       "       '1967', '1970', '1973', '1975', '1971', '1974', '1986', '1944',\n",
       "       '2002', '2003', '1963', '1951', '1736', '1996', '1998', '1991',\n",
       "       '1994', '1903', '2000', '1965', '1937', '1930', '1940', '2001',\n",
       "       '1948', '1980', '1982', '1993', '1945', '1992', '1999', '1972',\n",
       "       '1962', '1950', '1953', '1952', '1984', '1733', '1959', '1981',\n",
       "       '1990', '1988', '1934', '1987', '1922', '1997', '1995', '2004',\n",
       "       '1924', '1960', '1825', '1977', '1941', '1931', '1955', '1969',\n",
       "       '1989', '1947', '1961', '1894', '1913', '1956', '1958', '1685',\n",
       "       '1769', '2005', '1976', '1979', '1935', '1927', '1957', '1929',\n",
       "       '1917', '1878', '1683', '1978', '1985', '1943', '1740', '2006',\n",
       "       '1914', '1829', '1983', '1842', '1911', '1908', '1918', '1923',\n",
       "       '1932', '1938', '1942', '1844', '2007', '1790', '1939', '1928',\n",
       "       '1732', '1747', '1786', '1925', '1893', 'no date', '1920', '1949',\n",
       "       '1926', '1954', '1933', '1946', '1909', '2008', '1889', '1895',\n",
       "       '1880', '1628', '2009', '1896', '1912', '1910', '1734', '2010',\n",
       "       '1660', '1720', '1867', '1866', '2011', '1625', '1848', '1874',\n",
       "       '2012', 'c.1997-9', '1764'], dtype=object)"
      ]
     },
     "execution_count": 78,
     "metadata": {},
     "output_type": "execute_result"
    }
   ],
   "source": [
    "tate['year'].unique()"
   ]
  },
  {
   "cell_type": "code",
   "execution_count": 79,
   "metadata": {},
   "outputs": [],
   "source": [
    "tate['year'].replace({'no date':np.nan, 'c.1997-9':1997}, inplace = True)"
   ]
  },
  {
   "cell_type": "markdown",
   "metadata": {},
   "source": [
    "Next we made three new columns similar to the ones we made for the MoMA, one that is the age of the person when they made the work, one that will tell if a person was alive or not when the work was acquired by the Tate, and one representing the person's nationality"
   ]
  },
  {
   "cell_type": "code",
   "execution_count": 80,
   "metadata": {},
   "outputs": [],
   "source": [
    "tate['age_made'] = pd.to_numeric(tate['year']) - tate['yearOfBirth']\n",
    "tate['alive?'] = tate['year']"
   ]
  },
  {
   "cell_type": "markdown",
   "metadata": {},
   "source": [
    "Finally we utilized the same function and apply method as we did above to make a column determining if the artist was alive or not."
   ]
  },
  {
   "cell_type": "code",
   "execution_count": 81,
   "metadata": {},
   "outputs": [],
   "source": [
    "def alive(acquisition,death):\n",
    "    if acquisition > death:\n",
    "        return 'False'\n",
    "    else:\n",
    "        return 'True'\n",
    "tate['alive?'] = tate.apply(lambda row: alive(row['acquisitionYear'],row['yearOfDeath']),axis=1)"
   ]
  },
  {
   "cell_type": "markdown",
   "metadata": {},
   "source": [
    "Next, before we could start making a new column for the Tate to represent nationality we noticed that the placeOfBirth column contained both the city and the country for the majority of the artists. We realized that in order to analyze the country that the artists were from we needed to separate the city from the country, so we made a new column called countryOfOrigin that contained just the country."
   ]
  },
  {
   "cell_type": "code",
   "execution_count": 126,
   "metadata": {},
   "outputs": [],
   "source": [
    "def country(place):\n",
    "    new = str(place).split(',')\n",
    "    if len(new) > 1:\n",
    "        first = re.sub(r\"^\\s+\", \"\", new[1])\n",
    "        return first\n",
    "    else:\n",
    "        return new[0]\n",
    "tate['countryOfOrigin'] = tate.apply(lambda row: country(row['placeOfBirth']), axis=1)"
   ]
  },
  {
   "cell_type": "markdown",
   "metadata": {},
   "source": [
    "The names of the countries for the Tate dataset were especially difficult to work with beacuse of the number of differences in the name titles. The majority of the names were in the countries native language or there was a city name rather than a country, which you can see below. Because of this we had to manually go through and check for what we wanted by looking at the unique values and then adding them to the list. "
   ]
  },
  {
   "cell_type": "code",
   "execution_count": 127,
   "metadata": {
    "scrolled": true
   },
   "outputs": [
    {
     "data": {
      "text/plain": [
       "array(['United Kingdom', 'nan', 'Bharat', 'France', 'Italia', 'Viet Nam',\n",
       "       'Deutschland', 'Rossiya', 'United States', 'Bahamas', 'Australia',\n",
       "       'Ellás', 'België', 'Latvija', 'Canada', 'Éire', 'Schweiz',\n",
       "       'Plymouth', 'Edinburgh', 'España', 'Nederland', 'Beckington',\n",
       "       'Perth', 'Wimbledon', 'Canterbury', 'Danmark', 'Türkiye',\n",
       "       'Österreich', 'Blackheath', 'Charlieu', 'Isle of Man',\n",
       "       'Magyarország', 'Hrvatska', 'Chile', 'Epsom', 'Auteuil',\n",
       "       'Kensington', 'South Africa', 'Mauritius', 'Rochdale', 'Melmerby',\n",
       "       'Ukrayina', 'Sverige', 'Département de la', 'New Zealand',\n",
       "       'România', 'Otok', 'Charlotte Amalie', 'Schlesien', 'Saint Hélier',\n",
       "       'Polska', 'Misr', 'Bermondsey', 'Egremont', 'Norge', 'Braintree',\n",
       "       'Liverpool', 'Belarus', 'Stoke on Trent', 'Zhonghua', 'Portugal',\n",
       "       'Cuba', 'Moldova', 'Singapore', 'Nihon', 'Brasil', 'Staten Island',\n",
       "       'México', 'Bosna i Hercegovina', 'Slovenija',\n",
       "       'Slovenská Republika', 'Ceská Republika', 'Myanmar', \"Yisra'el\",\n",
       "       'Chung-hua Min-kuo', 'D.C.', 'Colombia', 'Sri Lanka', 'Indonesia',\n",
       "       'Jugoslavija', 'Bulgaria', 'Samoa', 'Argentina', 'Barbados',\n",
       "       \"Taehan Min'guk\", 'Îran', 'Niederschlesien', 'Al-Lubnan',\n",
       "       'Pakistan', 'Panamá', 'Zimbabwe', 'Zambia', 'Suriyah', 'Cameroun',\n",
       "       'Nigeria', 'Bangladesh', \"Al-Jaza'ir\", 'Lietuva', 'Solothurn',\n",
       "       'Makedonija', 'Venezuela', 'Malaysia', 'Douglas', 'London',\n",
       "       'Tunis', 'Bristol', 'Armenia', 'Eesti', 'Jamaica', 'Guyana',\n",
       "       'Montserrat', 'Tanzania', 'Ísland', 'Mehoz', 'Suomi',\n",
       "       'Hertfordshire', 'Stockholm', 'Luxembourg', 'Shqipëria', 'Uganda',\n",
       "       'Perú', 'Pilipinas', 'Malta', 'Kenya', 'Lao', 'Al-‘Iraq',\n",
       "       'Nicaragua', 'Prathet Thai', \"Choson Minjujuui In'min Konghwaguk\",\n",
       "       'As-Sudan'], dtype=object)"
      ]
     },
     "execution_count": 127,
     "metadata": {},
     "output_type": "execute_result"
    }
   ],
   "source": [
    "tate['countryOfOrigin'].unique()"
   ]
  },
  {
   "cell_type": "markdown",
   "metadata": {},
   "source": [
    "First we replaced \"nan\" with np.nan and then we created a new dataframe that didn't contain any np.nans for country of origin"
   ]
  },
  {
   "cell_type": "code",
   "execution_count": 128,
   "metadata": {},
   "outputs": [],
   "source": [
    "tate['countryOfOrigin'] = tate['countryOfOrigin'].replace({'nan':np.nan})\n",
    "tate_country = tate[tate['countryOfOrigin'].isnull() == False]\n",
    "#designation wasn't properly set so had to remove the works that didn't have a country of origin"
   ]
  },
  {
   "cell_type": "markdown",
   "metadata": {},
   "source": [
    "Next we created a list of the countries, a function to make a new column and insert true or false if it was a european country or not."
   ]
  },
  {
   "cell_type": "code",
   "execution_count": 129,
   "metadata": {},
   "outputs": [],
   "source": [
    "index = tate_country['countryOfOrigin'].index\n",
    "tate_country['European?'] = ['False'] * len(index)"
   ]
  },
  {
   "cell_type": "code",
   "execution_count": 130,
   "metadata": {},
   "outputs": [],
   "source": [
    "countries_tate = ['Austria','Belgium','Bulgaria','Croatia','Cyprus','Czech Republic','Denmark','Estonia','Finland','France','Germany',\n",
    "'Greece','Hungary','Ireland','Italy','Latvia','Luxembourg','Lithuania','Malta','Netherlands','Poland','Portugal',\n",
    "'Romania','Slovak Republic','Slovenia','Spain','Sweden','United Kingdom', 'Deutschland', 'Italia','London','Ceská Republika',\n",
    " 'D.C.',  'Staten Island','Liverpool', 'Polska', 'România', 'España', 'Edinburgh', 'Canada','United States', 'Stoke on Trent',\n",
    "                 'Ellás','België', 'Latvija','Nederland','Wimbledon','Canterbury', 'Danmark','Österreich','Blackheath',\n",
    "                  'Bermondsey', 'Egremont', 'Norge', 'Braintree','Liverpool','Bristol','Eesti','Hertfordshire', 'Stockholm', 'Luxembourg'\n",
    "                 ]\n",
    "non_european = []\n",
    "european = []\n",
    "\n",
    "def nation(nation):\n",
    "    if nation in countries_tate:\n",
    "        return 'True'\n",
    "    elif nation == np.nan:\n",
    "        return np.nan \n",
    "    else:\n",
    "        if nation in non_european:\n",
    "            return 'False'\n",
    "        else:\n",
    "            non_european.append(nation)\n",
    "            return 'False'\n",
    "            \n",
    "tate_country['European?'] = tate_country.apply(lambda row: nation(row['countryOfOrigin']),axis=1)"
   ]
  },
  {
   "cell_type": "markdown",
   "metadata": {},
   "source": [
    "After each of those steps our dataframe is now clean and in the format that we want it in, which is displayed below."
   ]
  },
  {
   "cell_type": "code",
   "execution_count": 89,
   "metadata": {
    "scrolled": true
   },
   "outputs": [
    {
     "data": {
      "text/html": [
       "<div>\n",
       "<style scoped>\n",
       "    .dataframe tbody tr th:only-of-type {\n",
       "        vertical-align: middle;\n",
       "    }\n",
       "\n",
       "    .dataframe tbody tr th {\n",
       "        vertical-align: top;\n",
       "    }\n",
       "\n",
       "    .dataframe thead th {\n",
       "        text-align: right;\n",
       "    }\n",
       "</style>\n",
       "<table border=\"1\" class=\"dataframe\">\n",
       "  <thead>\n",
       "    <tr style=\"text-align: right;\">\n",
       "      <th></th>\n",
       "      <th>id</th>\n",
       "      <th>accession_number</th>\n",
       "      <th>artist</th>\n",
       "      <th>artistRole</th>\n",
       "      <th>artistId</th>\n",
       "      <th>title</th>\n",
       "      <th>medium</th>\n",
       "      <th>year</th>\n",
       "      <th>acquisitionYear</th>\n",
       "      <th>dimensions</th>\n",
       "      <th>gender</th>\n",
       "      <th>placeOfBirth</th>\n",
       "      <th>yearOfBirth</th>\n",
       "      <th>yearOfDeath</th>\n",
       "      <th>age_made</th>\n",
       "      <th>alive?</th>\n",
       "      <th>countryOfOrigin</th>\n",
       "      <th>False</th>\n",
       "      <th>European?</th>\n",
       "    </tr>\n",
       "  </thead>\n",
       "  <tbody>\n",
       "    <tr>\n",
       "      <th>0</th>\n",
       "      <td>1035</td>\n",
       "      <td>A00001</td>\n",
       "      <td>Blake, Robert</td>\n",
       "      <td>artist</td>\n",
       "      <td>38</td>\n",
       "      <td>A Figure Bowing before a Seated Old Man with h...</td>\n",
       "      <td>Watercolour, ink, chalk and graphite on paper....</td>\n",
       "      <td>NaN</td>\n",
       "      <td>1922.0</td>\n",
       "      <td>support: 394 x 419 mm</td>\n",
       "      <td>Male</td>\n",
       "      <td>London, United Kingdom</td>\n",
       "      <td>1762.0</td>\n",
       "      <td>1787.0</td>\n",
       "      <td>NaN</td>\n",
       "      <td>False</td>\n",
       "      <td>United Kingdom</td>\n",
       "      <td>False</td>\n",
       "      <td>True</td>\n",
       "    </tr>\n",
       "    <tr>\n",
       "      <th>1</th>\n",
       "      <td>1036</td>\n",
       "      <td>A00002</td>\n",
       "      <td>Blake, Robert</td>\n",
       "      <td>artist</td>\n",
       "      <td>38</td>\n",
       "      <td>Two Drawings of Frightened Figures, Probably f...</td>\n",
       "      <td>Graphite on paper</td>\n",
       "      <td>NaN</td>\n",
       "      <td>1922.0</td>\n",
       "      <td>support: 311 x 213 mm</td>\n",
       "      <td>Male</td>\n",
       "      <td>London, United Kingdom</td>\n",
       "      <td>1762.0</td>\n",
       "      <td>1787.0</td>\n",
       "      <td>NaN</td>\n",
       "      <td>False</td>\n",
       "      <td>United Kingdom</td>\n",
       "      <td>False</td>\n",
       "      <td>True</td>\n",
       "    </tr>\n",
       "    <tr>\n",
       "      <th>2</th>\n",
       "      <td>1037</td>\n",
       "      <td>A00003</td>\n",
       "      <td>Blake, Robert</td>\n",
       "      <td>artist</td>\n",
       "      <td>38</td>\n",
       "      <td>The Preaching of Warning. Verso: An Old Man En...</td>\n",
       "      <td>Graphite on paper. Verso: graphite on paper</td>\n",
       "      <td>1785</td>\n",
       "      <td>1922.0</td>\n",
       "      <td>support: 343 x 467 mm</td>\n",
       "      <td>Male</td>\n",
       "      <td>London, United Kingdom</td>\n",
       "      <td>1762.0</td>\n",
       "      <td>1787.0</td>\n",
       "      <td>23.0</td>\n",
       "      <td>False</td>\n",
       "      <td>United Kingdom</td>\n",
       "      <td>False</td>\n",
       "      <td>True</td>\n",
       "    </tr>\n",
       "    <tr>\n",
       "      <th>3</th>\n",
       "      <td>1038</td>\n",
       "      <td>A00004</td>\n",
       "      <td>Blake, Robert</td>\n",
       "      <td>artist</td>\n",
       "      <td>38</td>\n",
       "      <td>Six Drawings of Figures with Outstretched Arms</td>\n",
       "      <td>Graphite on paper</td>\n",
       "      <td>NaN</td>\n",
       "      <td>1922.0</td>\n",
       "      <td>support: 318 x 394 mm</td>\n",
       "      <td>Male</td>\n",
       "      <td>London, United Kingdom</td>\n",
       "      <td>1762.0</td>\n",
       "      <td>1787.0</td>\n",
       "      <td>NaN</td>\n",
       "      <td>False</td>\n",
       "      <td>United Kingdom</td>\n",
       "      <td>False</td>\n",
       "      <td>True</td>\n",
       "    </tr>\n",
       "    <tr>\n",
       "      <th>4</th>\n",
       "      <td>1039</td>\n",
       "      <td>A00005</td>\n",
       "      <td>Blake, William</td>\n",
       "      <td>artist</td>\n",
       "      <td>39</td>\n",
       "      <td>The Circle of the Lustful: Francesca da Rimini...</td>\n",
       "      <td>Line engraving on paper</td>\n",
       "      <td>1826</td>\n",
       "      <td>1919.0</td>\n",
       "      <td>image: 243 x 335 mm</td>\n",
       "      <td>Male</td>\n",
       "      <td>London, United Kingdom</td>\n",
       "      <td>1757.0</td>\n",
       "      <td>1827.0</td>\n",
       "      <td>69.0</td>\n",
       "      <td>False</td>\n",
       "      <td>United Kingdom</td>\n",
       "      <td>False</td>\n",
       "      <td>True</td>\n",
       "    </tr>\n",
       "    <tr>\n",
       "      <th>...</th>\n",
       "      <td>...</td>\n",
       "      <td>...</td>\n",
       "      <td>...</td>\n",
       "      <td>...</td>\n",
       "      <td>...</td>\n",
       "      <td>...</td>\n",
       "      <td>...</td>\n",
       "      <td>...</td>\n",
       "      <td>...</td>\n",
       "      <td>...</td>\n",
       "      <td>...</td>\n",
       "      <td>...</td>\n",
       "      <td>...</td>\n",
       "      <td>...</td>\n",
       "      <td>...</td>\n",
       "      <td>...</td>\n",
       "      <td>...</td>\n",
       "      <td>...</td>\n",
       "      <td>...</td>\n",
       "    </tr>\n",
       "    <tr>\n",
       "      <th>69313</th>\n",
       "      <td>122959</td>\n",
       "      <td>T13864</td>\n",
       "      <td>P-Orridge, Genesis</td>\n",
       "      <td>artist</td>\n",
       "      <td>16646</td>\n",
       "      <td>It’s That Time Of The Month (from Tampax Romana)</td>\n",
       "      <td>Wood, Perspex, clock case, tampons and human b...</td>\n",
       "      <td>1975</td>\n",
       "      <td>2013.0</td>\n",
       "      <td>object: 305 x 305 x 135 mm</td>\n",
       "      <td>Male</td>\n",
       "      <td>Manchester, United Kingdom</td>\n",
       "      <td>1950.0</td>\n",
       "      <td>NaN</td>\n",
       "      <td>25.0</td>\n",
       "      <td>True</td>\n",
       "      <td>United Kingdom</td>\n",
       "      <td>False</td>\n",
       "      <td>True</td>\n",
       "    </tr>\n",
       "    <tr>\n",
       "      <th>69314</th>\n",
       "      <td>122960</td>\n",
       "      <td>T13865</td>\n",
       "      <td>P-Orridge, Genesis</td>\n",
       "      <td>artist</td>\n",
       "      <td>16646</td>\n",
       "      <td>Larvae (from Tampax Romana)</td>\n",
       "      <td>Perspex, Wood, hairpiece, tampon and human blood</td>\n",
       "      <td>1975</td>\n",
       "      <td>2013.0</td>\n",
       "      <td>object: 305 x 305 x 135 mm</td>\n",
       "      <td>Male</td>\n",
       "      <td>Manchester, United Kingdom</td>\n",
       "      <td>1950.0</td>\n",
       "      <td>NaN</td>\n",
       "      <td>25.0</td>\n",
       "      <td>True</td>\n",
       "      <td>United Kingdom</td>\n",
       "      <td>False</td>\n",
       "      <td>True</td>\n",
       "    </tr>\n",
       "    <tr>\n",
       "      <th>69315</th>\n",
       "      <td>122961</td>\n",
       "      <td>T13866</td>\n",
       "      <td>P-Orridge, Genesis</td>\n",
       "      <td>artist</td>\n",
       "      <td>16646</td>\n",
       "      <td>Living Womb (from Tampax Romana)</td>\n",
       "      <td>Wood, Perspex, plastic, photograph on paper, t...</td>\n",
       "      <td>1976</td>\n",
       "      <td>2013.0</td>\n",
       "      <td>object: 305 x 305 x 135 mm</td>\n",
       "      <td>Male</td>\n",
       "      <td>Manchester, United Kingdom</td>\n",
       "      <td>1950.0</td>\n",
       "      <td>NaN</td>\n",
       "      <td>26.0</td>\n",
       "      <td>True</td>\n",
       "      <td>United Kingdom</td>\n",
       "      <td>False</td>\n",
       "      <td>True</td>\n",
       "    </tr>\n",
       "    <tr>\n",
       "      <th>69316</th>\n",
       "      <td>121181</td>\n",
       "      <td>T13867</td>\n",
       "      <td>Hatoum, Mona</td>\n",
       "      <td>artist</td>\n",
       "      <td>2365</td>\n",
       "      <td>Present Tense</td>\n",
       "      <td>Soap and glass beads</td>\n",
       "      <td>1996</td>\n",
       "      <td>2013.0</td>\n",
       "      <td>displayed: 45 x 2410 x 2990 mm</td>\n",
       "      <td>Female</td>\n",
       "      <td>Bayrut, Al-Lubnan</td>\n",
       "      <td>1952.0</td>\n",
       "      <td>NaN</td>\n",
       "      <td>44.0</td>\n",
       "      <td>True</td>\n",
       "      <td>Al-Lubnan</td>\n",
       "      <td>False</td>\n",
       "      <td>False</td>\n",
       "    </tr>\n",
       "    <tr>\n",
       "      <th>69317</th>\n",
       "      <td>112306</td>\n",
       "      <td>T13868</td>\n",
       "      <td>Creed, Martin</td>\n",
       "      <td>artist</td>\n",
       "      <td>2760</td>\n",
       "      <td>Work No. 227: The lights going on and off</td>\n",
       "      <td>Gallery lighting</td>\n",
       "      <td>2000</td>\n",
       "      <td>2013.0</td>\n",
       "      <td>Overall display dimensions variable</td>\n",
       "      <td>Male</td>\n",
       "      <td>Wakefield, United Kingdom</td>\n",
       "      <td>1968.0</td>\n",
       "      <td>NaN</td>\n",
       "      <td>32.0</td>\n",
       "      <td>True</td>\n",
       "      <td>United Kingdom</td>\n",
       "      <td>False</td>\n",
       "      <td>True</td>\n",
       "    </tr>\n",
       "  </tbody>\n",
       "</table>\n",
       "<p>66147 rows × 19 columns</p>\n",
       "</div>"
      ],
      "text/plain": [
       "           id accession_number              artist artistRole  artistId  \\\n",
       "0        1035           A00001       Blake, Robert     artist        38   \n",
       "1        1036           A00002       Blake, Robert     artist        38   \n",
       "2        1037           A00003       Blake, Robert     artist        38   \n",
       "3        1038           A00004       Blake, Robert     artist        38   \n",
       "4        1039           A00005      Blake, William     artist        39   \n",
       "...       ...              ...                 ...        ...       ...   \n",
       "69313  122959           T13864  P-Orridge, Genesis     artist     16646   \n",
       "69314  122960           T13865  P-Orridge, Genesis     artist     16646   \n",
       "69315  122961           T13866  P-Orridge, Genesis     artist     16646   \n",
       "69316  121181           T13867        Hatoum, Mona     artist      2365   \n",
       "69317  112306           T13868       Creed, Martin     artist      2760   \n",
       "\n",
       "                                                   title  \\\n",
       "0      A Figure Bowing before a Seated Old Man with h...   \n",
       "1      Two Drawings of Frightened Figures, Probably f...   \n",
       "2      The Preaching of Warning. Verso: An Old Man En...   \n",
       "3         Six Drawings of Figures with Outstretched Arms   \n",
       "4      The Circle of the Lustful: Francesca da Rimini...   \n",
       "...                                                  ...   \n",
       "69313   It’s That Time Of The Month (from Tampax Romana)   \n",
       "69314                        Larvae (from Tampax Romana)   \n",
       "69315                   Living Womb (from Tampax Romana)   \n",
       "69316                                      Present Tense   \n",
       "69317          Work No. 227: The lights going on and off   \n",
       "\n",
       "                                                  medium  year  \\\n",
       "0      Watercolour, ink, chalk and graphite on paper....   NaN   \n",
       "1                                      Graphite on paper   NaN   \n",
       "2            Graphite on paper. Verso: graphite on paper  1785   \n",
       "3                                      Graphite on paper   NaN   \n",
       "4                                Line engraving on paper  1826   \n",
       "...                                                  ...   ...   \n",
       "69313  Wood, Perspex, clock case, tampons and human b...  1975   \n",
       "69314   Perspex, Wood, hairpiece, tampon and human blood  1975   \n",
       "69315  Wood, Perspex, plastic, photograph on paper, t...  1976   \n",
       "69316                               Soap and glass beads  1996   \n",
       "69317                                   Gallery lighting  2000   \n",
       "\n",
       "       acquisitionYear                           dimensions  gender  \\\n",
       "0               1922.0                support: 394 x 419 mm    Male   \n",
       "1               1922.0                support: 311 x 213 mm    Male   \n",
       "2               1922.0                support: 343 x 467 mm    Male   \n",
       "3               1922.0                support: 318 x 394 mm    Male   \n",
       "4               1919.0                  image: 243 x 335 mm    Male   \n",
       "...                ...                                  ...     ...   \n",
       "69313           2013.0           object: 305 x 305 x 135 mm    Male   \n",
       "69314           2013.0           object: 305 x 305 x 135 mm    Male   \n",
       "69315           2013.0           object: 305 x 305 x 135 mm    Male   \n",
       "69316           2013.0       displayed: 45 x 2410 x 2990 mm  Female   \n",
       "69317           2013.0  Overall display dimensions variable    Male   \n",
       "\n",
       "                     placeOfBirth  yearOfBirth  yearOfDeath  age_made alive?  \\\n",
       "0          London, United Kingdom       1762.0       1787.0       NaN  False   \n",
       "1          London, United Kingdom       1762.0       1787.0       NaN  False   \n",
       "2          London, United Kingdom       1762.0       1787.0      23.0  False   \n",
       "3          London, United Kingdom       1762.0       1787.0       NaN  False   \n",
       "4          London, United Kingdom       1757.0       1827.0      69.0  False   \n",
       "...                           ...          ...          ...       ...    ...   \n",
       "69313  Manchester, United Kingdom       1950.0          NaN      25.0   True   \n",
       "69314  Manchester, United Kingdom       1950.0          NaN      25.0   True   \n",
       "69315  Manchester, United Kingdom       1950.0          NaN      26.0   True   \n",
       "69316           Bayrut, Al-Lubnan       1952.0          NaN      44.0   True   \n",
       "69317   Wakefield, United Kingdom       1968.0          NaN      32.0   True   \n",
       "\n",
       "      countryOfOrigin  False European?  \n",
       "0      United Kingdom  False      True  \n",
       "1      United Kingdom  False      True  \n",
       "2      United Kingdom  False      True  \n",
       "3      United Kingdom  False      True  \n",
       "4      United Kingdom  False      True  \n",
       "...               ...    ...       ...  \n",
       "69313  United Kingdom  False      True  \n",
       "69314  United Kingdom  False      True  \n",
       "69315  United Kingdom  False      True  \n",
       "69316       Al-Lubnan  False     False  \n",
       "69317  United Kingdom  False      True  \n",
       "\n",
       "[66147 rows x 19 columns]"
      ]
     },
     "execution_count": 89,
     "metadata": {},
     "output_type": "execute_result"
    }
   ],
   "source": [
    "tate_country"
   ]
  },
  {
   "cell_type": "markdown",
   "metadata": {},
   "source": [
    "## Analysis: Tate vs MoMA"
   ]
  },
  {
   "cell_type": "markdown",
   "metadata": {},
   "source": [
    "Now that the datasets are in similar formats we can start comparisons and anaylsis. But, the Tate data stopped collecting in 2013, so need to make MoMA align with them."
   ]
  },
  {
   "cell_type": "code",
   "execution_count": 90,
   "metadata": {},
   "outputs": [
    {
     "data": {
      "text/plain": [
       "2013.0"
      ]
     },
     "execution_count": 90,
     "metadata": {},
     "output_type": "execute_result"
    }
   ],
   "source": [
    "tate_country['acquisitionYear'].max()"
   ]
  },
  {
   "cell_type": "code",
   "execution_count": 96,
   "metadata": {
    "scrolled": true
   },
   "outputs": [],
   "source": [
    "# create a new DataFrame of all of the works before 2013\n",
    "d = datetime.datetime(2014, 1, 1)\n",
    "moma_before_2013 = names_dates_moma[names_dates_moma['Acquisition Date'] < d]\n",
    "moma_after_2013 = names_dates_moma[names_dates_moma['Acquisition Date'] > d]"
   ]
  },
  {
   "cell_type": "markdown",
   "metadata": {},
   "source": [
    "### How does the diversity of the two museums compare?"
   ]
  },
  {
   "cell_type": "markdown",
   "metadata": {},
   "source": [
    "#### Comparing Western vs non-Western Art in each museum"
   ]
  },
  {
   "cell_type": "markdown",
   "metadata": {},
   "source": [
    "The first visualization that we made, compares the diversity of the artists at both the Tate and the MoMA by looking at how many artists are Western or non-Western."
   ]
  },
  {
   "cell_type": "code",
   "execution_count": 97,
   "metadata": {},
   "outputs": [],
   "source": [
    "# get the counts of works by Western and non-Western artists in MoMA before 2013\n",
    "moma_European = moma_before_2013['European?'].value_counts()"
   ]
  },
  {
   "cell_type": "code",
   "execution_count": 98,
   "metadata": {},
   "outputs": [],
   "source": [
    "# get the counts of works by Western and non-Western artists in the Tate\n",
    "tate_European = tate_country['European?'].value_counts()"
   ]
  },
  {
   "cell_type": "code",
   "execution_count": 99,
   "metadata": {},
   "outputs": [
    {
     "data": {
      "image/png": "[encoded data removed]",
      "text/plain": [
       "<Figure size 864x864 with 2 Axes>"
      ]
     },
     "metadata": {},
     "output_type": "display_data"
    }
   ],
   "source": [
    "# create and format pie charts\n",
    "fig, (ax1, ax2) = plot.subplots(1, 2)\n",
    "moma_European.plot.pie(ax=ax1,  autopct='%.2f')\n",
    "ax1.set_title(\"MoMA Western vs Non Western\")\n",
    "\n",
    "tate_European.plot.pie(ax=ax2, autopct='%.2f')\n",
    "ax2.set_title(\"Tate Western vs Non Western\")\n",
    "\n",
    "fig.subplots_adjust(wspace=.5)\n",
    "fig.set_figheight(12)\n",
    "fig.set_figwidth(12)"
   ]
  },
  {
   "cell_type": "markdown",
   "metadata": {},
   "source": [
    "<strong> Conclusion: </strong> This comparison shows that the MoMA, even before its renovation, was ahead of the Tate with regard to artists who were not of European or Western descent."
   ]
  },
  {
   "cell_type": "markdown",
   "metadata": {},
   "source": [
    "### Comparing Art by Male vs Female artists in each museum"
   ]
  },
  {
   "cell_type": "markdown",
   "metadata": {},
   "source": [
    "Next we chose to look at the differences in sizes of the male and female population at both the Tate and the MoMA, as this was another area that the MoMA was striving the improve."
   ]
  },
  {
   "cell_type": "code",
   "execution_count": 100,
   "metadata": {},
   "outputs": [],
   "source": [
    "# get the counts of works by male and female artists in MoMA before 2013\n",
    "moma_gender = moma_before_2013['Gender'].value_counts()"
   ]
  },
  {
   "cell_type": "code",
   "execution_count": 101,
   "metadata": {},
   "outputs": [],
   "source": [
    "# get the counts of works by male and female artists in the Tate\n",
    "tate_gender = tate_country['gender'].value_counts()"
   ]
  },
  {
   "cell_type": "code",
   "execution_count": 102,
   "metadata": {},
   "outputs": [
    {
     "data": {
      "image/png": "[encoded data removed]",
      "text/plain": [
       "<Figure size 864x864 with 2 Axes>"
      ]
     },
     "metadata": {},
     "output_type": "display_data"
    }
   ],
   "source": [
    "# create and format pie charts\n",
    "fig, (ax3, ax4) = plot.subplots(1, 2)\n",
    "moma_gender.plot.pie(ax=ax3, autopct='%.2f')\n",
    "ax3.set_title(\"MoMA Male vs Female Artists\")\n",
    "\n",
    "tate_gender.plot.pie(ax=ax4, autopct='%.2f')\n",
    "ax4.set_title(\"Tate Male vs Female Artists\")\n",
    "\n",
    "fig.subplots_adjust(wspace=.5)\n",
    "fig.set_figheight(12)\n",
    "fig.set_figwidth(12)"
   ]
  },
  {
   "cell_type": "markdown",
   "metadata": {},
   "source": [
    "<strong> Conclusion: </strong>This is an interesting comparison, as it once again shows that the MoMA has a greater diversity than the Tate did before its renovation, as it has a much larger proportion of female artists to male artists."
   ]
  },
  {
   "cell_type": "markdown",
   "metadata": {},
   "source": [
    "### Comparing Art by Male vs Female artists of nonWestern art in each museum"
   ]
  },
  {
   "cell_type": "markdown",
   "metadata": {},
   "source": [
    "What about the male/female ratio when looking at non-European/Western artists? \n"
   ]
  },
  {
   "cell_type": "code",
   "execution_count": 103,
   "metadata": {},
   "outputs": [],
   "source": [
    "# get the counts of Western and non-Western works by gender in MoMA before 2013\n",
    "moma_western_gender = moma_before_2013[moma_before_2013['European?'] == 'False']['Gender'].value_counts()"
   ]
  },
  {
   "cell_type": "code",
   "execution_count": 104,
   "metadata": {},
   "outputs": [],
   "source": [
    "# get the counts of Western and non-Western works by gender in the Tate\n",
    "tate_western_gender = tate_country[tate_country['European?'] == 'False']['gender'].value_counts()"
   ]
  },
  {
   "cell_type": "code",
   "execution_count": 105,
   "metadata": {},
   "outputs": [
    {
     "data": {
      "image/png": "[encoded data removed]",
      "text/plain": [
       "<Figure size 864x864 with 2 Axes>"
      ]
     },
     "metadata": {},
     "output_type": "display_data"
    }
   ],
   "source": [
    "# create and format pie charts\n",
    "fig, (ax5, ax6) = plot.subplots(1, 2)\n",
    "moma_western_gender.plot.pie(ax=ax5, autopct='%.2f')\n",
    "ax5.set_title(\"MoMA Non Western Male vs Female Artists\")\n",
    "\n",
    "tate_western_gender.plot.pie(ax=ax6, autopct='%.2f')\n",
    "ax6.set_title(\"Tate Non Western Male vs Female Artists\")\n",
    "\n",
    "fig.subplots_adjust(wspace=.5)\n",
    "fig.set_figheight(12)\n",
    "fig.set_figwidth(12)"
   ]
  },
  {
   "cell_type": "markdown",
   "metadata": {},
   "source": [
    "<strong>Conclusion: </strong> The data shows that  MoMA has a larger of female non-Western/european artists than the Tate, but this difference is smaller than the one above.\n"
   ]
  },
  {
   "cell_type": "markdown",
   "metadata": {},
   "source": [
    "### Do countries favor their own art over foreign art? Could this be a bias towards American or British art across many museums?"
   ]
  },
  {
   "cell_type": "markdown",
   "metadata": {},
   "source": [
    "We next examined the proportion of British works in the Tate, the proportion of American works in the MoMA, the proportion of American works in the Tate, and the proportion of British works in MoMA to see if the museums tended to collect more work created by artists from their respective countries or if there was a significant bias towards American art in the Tate or British art in MoMA."
   ]
  },
  {
   "cell_type": "code",
   "execution_count": 108,
   "metadata": {},
   "outputs": [],
   "source": [
    "# find the proportion of British works in the Tate\n",
    "tate_country = tate_country.assign(British=np.where(tate_country['countryOfOrigin']==\"United Kingdom\", True, False))\n",
    "tate_British_prop = (tate_country[\"British\"] == True).mean()"
   ]
  },
  {
   "cell_type": "code",
   "execution_count": 109,
   "metadata": {},
   "outputs": [],
   "source": [
    "# Find the proportion of American art in MoMA\n",
    "names_dates_moma = names_dates_moma.assign(American=np.where(names_dates_moma['Nationality']==\"American\", True, False))\n",
    "moma_American_prop = (names_dates_moma[\"American\"] == True).mean()"
   ]
  },
  {
   "cell_type": "code",
   "execution_count": 110,
   "metadata": {},
   "outputs": [],
   "source": [
    "# Find the proportion of British art in MoMA\n",
    "names_dates_moma = names_dates_moma.assign(British=np.where(names_dates_moma['Nationality']==\"British\", True, False))\n",
    "moma_British_prop = (names_dates_moma[\"British\"] == True).mean()"
   ]
  },
  {
   "cell_type": "code",
   "execution_count": 111,
   "metadata": {},
   "outputs": [],
   "source": [
    "# find the proportion of American works in the Tate\n",
    "tate_country = tate_country.assign(American=np.where(tate_country['countryOfOrigin']==\"United States\", True, False))\n",
    "tate_American_prop = (tate_country[\"American\"] == True).mean()"
   ]
  },
  {
   "cell_type": "code",
   "execution_count": 112,
   "metadata": {},
   "outputs": [
    {
     "data": {
      "text/plain": [
       "<matplotlib.axes._subplots.AxesSubplot at 0x7f9faa074e50>"
      ]
     },
     "execution_count": 112,
     "metadata": {},
     "output_type": "execute_result"
    },
    {
     "data": {
      "image/png": "[encoded data removed]",
      "text/plain": [
       "<Figure size 432x288 with 1 Axes>"
      ]
     },
     "metadata": {
      "needs_background": "light"
     },
     "output_type": "display_data"
    }
   ],
   "source": [
    "# Graph it!\n",
    "plotdata = pd.DataFrame(\n",
    "    {\"% of artworks\": [tate_American_prop, moma_American_prop, tate_British_prop, moma_British_prop]}, \n",
    "    index=[\"Proportion of American Art in the Tate\", \"Proportion of American Art in MoMA\", \"Proportion of British Art in the Tate\", \"Proportion of British Art in MoMA\"])\n",
    "plotdata.plot(kind=\"barh\", title = \"Examining National Biases in MoMA and the Tate\")"
   ]
  },
  {
   "cell_type": "markdown",
   "metadata": {},
   "source": [
    "<strong>Conclusion:</strong> It looks like both MoMA and the Tate favor art from their home country, with the Tate having a higher percentage of British art than MoMA has American art. There is roughly the same proportion of British art in MoMA as there is American art in the Tate."
   ]
  },
  {
   "cell_type": "markdown",
   "metadata": {},
   "source": [
    "### Examining gender and home country bias in the two museums\n",
    "How does the gender ratio look when examining art from the museum's home country?"
   ]
  },
  {
   "cell_type": "code",
   "execution_count": 113,
   "metadata": {},
   "outputs": [],
   "source": [
    "# Proportion of Male American Artists\n",
    "american_males_moma = (names_dates_moma['American'] == True) & (names_dates_moma['Gender']  == \"Male\")\n",
    "american_males_moma_prop = american_males_moma.mean()"
   ]
  },
  {
   "cell_type": "code",
   "execution_count": 114,
   "metadata": {},
   "outputs": [],
   "source": [
    "# Proportion of Male non-American Artists\n",
    "nonamerican_males_moma = (names_dates_moma['American'] == False) & (names_dates_moma['Gender']  == \"Male\")\n",
    "nonamerican_males_moma_prop = nonamerican_males_moma.mean()"
   ]
  },
  {
   "cell_type": "code",
   "execution_count": 115,
   "metadata": {},
   "outputs": [],
   "source": [
    "# Proportion of Female American Artists\n",
    "american_females_moma = (names_dates_moma['American'] == True) & (names_dates_moma['Gender']  == \"Female\")\n",
    "american_females_moma_prop = american_females_moma.mean()"
   ]
  },
  {
   "cell_type": "code",
   "execution_count": 116,
   "metadata": {},
   "outputs": [],
   "source": [
    "# Proportion of Female non-American Artists\n",
    "nonamerican_females_moma = (names_dates_moma['American'] == False) & (names_dates_moma['Gender']  == \"Female\")\n",
    "nonamerican_females_moma_prop = nonamerican_females_moma.mean()"
   ]
  },
  {
   "cell_type": "code",
   "execution_count": 117,
   "metadata": {},
   "outputs": [],
   "source": [
    "# Proportion of Male British Artists\n",
    "british_males_tate = (tate_country['British'] == True) & (tate_country['gender']  == \"Male\")\n",
    "british_males_tate_prop = british_males_tate.mean()"
   ]
  },
  {
   "cell_type": "code",
   "execution_count": 118,
   "metadata": {},
   "outputs": [],
   "source": [
    "# Proportion of Male non-British Artists\n",
    "nonbritish_males_tate = (tate_country['British'] == False) & (tate_country['gender']  == \"Male\")\n",
    "nonbritish_males_tate_prop = nonbritish_males_tate.mean()"
   ]
  },
  {
   "cell_type": "code",
   "execution_count": 119,
   "metadata": {},
   "outputs": [],
   "source": [
    "# Proportion of Female British Artists\n",
    "british_females_tate = (tate_country['British'] == True) & (tate_country['gender']  == \"Female\")\n",
    "british_females_tate_prop = british_females_tate.mean()"
   ]
  },
  {
   "cell_type": "code",
   "execution_count": 120,
   "metadata": {},
   "outputs": [],
   "source": [
    "# Proportion of Feale non-British Artists\n",
    "nonbritish_females_tate = (tate_country['British'] == False) & (tate_country['gender']  == \"Female\")\n",
    "nonbritish_females_tate_prop = nonbritish_females_tate.mean()"
   ]
  },
  {
   "cell_type": "code",
   "execution_count": 121,
   "metadata": {},
   "outputs": [
    {
     "data": {
      "text/plain": [
       "<matplotlib.axes._subplots.AxesSubplot at 0x7f9faa8f9d30>"
      ]
     },
     "execution_count": 121,
     "metadata": {},
     "output_type": "execute_result"
    },
    {
     "data": {
      "image/png": "[encoded data removed]",
      "text/plain": [
       "<Figure size 432x288 with 1 Axes>"
      ]
     },
     "metadata": {
      "needs_background": "light"
     },
     "output_type": "display_data"
    },
    {
     "data": {
      "image/png": "[encoded data removed]",
      "text/plain": [
       "<Figure size 432x288 with 1 Axes>"
      ]
     },
     "metadata": {
      "needs_background": "light"
     },
     "output_type": "display_data"
    }
   ],
   "source": [
    "# Graph MoMA data!\n",
    "plotdata_moma = pd.DataFrame(\n",
    "    {\"% of artworks\": [american_males_moma_prop, nonamerican_males_moma_prop, american_females_moma_prop, nonamerican_females_moma_prop]}, \n",
    "    index=[\"Proportion of American Male Artists\", \"Proportion of non-American Male Artists\", \"Proportion of American Female Artists\", \"Proportion of Non-American Female Artists\"])\n",
    "plotdata_moma.plot(kind=\"barh\", title = \"Examining National Biases MoMA\")\n",
    "\n",
    "# Graph Tate data!\n",
    "plotdata_tate = pd.DataFrame(\n",
    "    {\"% of artworks\": [british_males_tate_prop, nonbritish_males_tate_prop, british_females_tate_prop, nonbritish_females_tate_prop]}, \n",
    "    index=[\"Proportion of British Male Artists\", \"Proportion of non-British Male Artists\", \"Proportion of British Female Artists\", \"Proportion of Non-British Female Artists\"])\n",
    "plotdata_tate.plot(kind=\"barh\", title = \"Examining National Biases in the Tate\")"
   ]
  },
  {
   "cell_type": "markdown",
   "metadata": {},
   "source": [
    "Conclusion: Both museums favored male artists, but MoMA has a higher proportion of non-American art than it has American art by male artists, while the Tate heavily favors British male artists. In terms of female artists, MoMA favors American over non-American artists while the Tate doesn't have a distinct difference between British and non-British female artists."
   ]
  },
  {
   "cell_type": "markdown",
   "metadata": {},
   "source": [
    "## Met Data Extraction, Cleaning, and Loading"
   ]
  },
  {
   "cell_type": "markdown",
   "metadata": {},
   "source": [
    "The second museum that we are comparing to the MoMA is the Met, which we first extract the data from the csv that was located on their github page."
   ]
  },
  {
   "cell_type": "code",
   "execution_count": 71,
   "metadata": {
    "scrolled": true
   },
   "outputs": [],
   "source": [
    "met = pd.read_csv(\"MetObjects.csv\", low_memory = False)"
   ]
  },
  {
   "cell_type": "markdown",
   "metadata": {},
   "source": [
    "The Met dataset has a lot of columns that we don't need to compare with the MoMA, so we drop them below"
   ]
  },
  {
   "cell_type": "code",
   "execution_count": 72,
   "metadata": {
    "scrolled": true
   },
   "outputs": [],
   "source": [
    "met.drop(columns = ['Object Number','Is Highlight','Is Timeline Work','Is Public Domain','Object ID',\n",
    "                          'Gallery Number','Dynasty', 'Reign',\n",
    "       'Portfolio', 'Constiuent ID', 'Artist Role', 'Artist Prefix','Artist Display Bio', 'Artist Suffix',\n",
    "       'Artist Alpha Sort','Artist ULAN URL',\n",
    "       'Artist Wikidata URL','Object Begin Date',\n",
    "       'Object End Date', 'Medium', 'Dimensions', 'Credit Line',\n",
    "       'Geography Type', 'City', 'State', 'County', 'Country', 'Region',\n",
    "       'Subregion', 'Locale', 'Locus', 'Excavation', 'River', 'Classification',\n",
    "       'Rights and Reproduction', 'Link Resource', 'Object Wikidata URL',\n",
    "       'Metadata Date', 'Repository', 'Tags', 'Tags AAT URL',\n",
    "       'Tags Wikidata URL'], inplace = True)"
   ]
  },
  {
   "cell_type": "markdown",
   "metadata": {},
   "source": [
    "The Met as a museum itself contains multiple differnt departments and isn't only modern and contemporary art, so we filter based on department to only look at the modern and contemporary art that the Met has."
   ]
  },
  {
   "cell_type": "code",
   "execution_count": 73,
   "metadata": {},
   "outputs": [],
   "source": [
    "met_modern = met[met['Department'] == 'Modern and Contemporary Art']"
   ]
  },
  {
   "cell_type": "markdown",
   "metadata": {},
   "source": [
    "Next we drop the rows that don't have an Accession year, and filter for the years that are before 2017, as the MoMA dataset only goes up to 2017 but the Met is frequently updated and has works acquired in 2020 in its dataset."
   ]
  },
  {
   "cell_type": "code",
   "execution_count": 74,
   "metadata": {
    "scrolled": true
   },
   "outputs": [],
   "source": [
    "met_modern = met_modern.dropna(subset=['AccessionYear'])\n",
    "met_modern['AccessionYear'] = met_modern['AccessionYear'].astype(int)\n",
    "met_before_2017 = met_modern[met_modern['AccessionYear'] < 2017]"
   ]
  },
  {
   "cell_type": "code",
   "execution_count": 75,
   "metadata": {},
   "outputs": [],
   "source": [
    "met_before_2017['Artist Begin Date'] = met_before_2017['Artist Begin Date'].replace(np.nan,'no')\n",
    "met_before_2017['Artist End Date'] = met_before_2017['Artist End Date'].replace(np.nan,'no')"
   ]
  },
  {
   "cell_type": "markdown",
   "metadata": {},
   "source": [
    "After filtering we then looked at different columns that we had noticed original problems with, for instance, Artist Nationality, which is displayed below, sometimes has multiple nationalities in the column that are divided with a '|' and then on the other side of the '|' there are sometimes even more nationalities sepearted by a ','. When examining the columns we noticed that the majority of the time the first nationality was the one that they were born with while the other ones were the country that they died in or lived their later life in. Because of this we chose to pick the first nationality every time."
   ]
  },
  {
   "cell_type": "code",
   "execution_count": 76,
   "metadata": {
    "scrolled": true
   },
   "outputs": [
    {
     "data": {
      "text/plain": [
       "array(['American', 'Spanish', 'German|German', 'French', 'French|French',\n",
       "       'British|British', 'British', nan, 'Austrian', 'Hungarian',\n",
       "       'American ', 'British, Scottish', 'American, born Luxembourg',\n",
       "       'American, born Poland', 'Mexican', 'American, born Germany',\n",
       "       'Italian, born Greece', 'Italian', 'French, born Switzerland',\n",
       "       'German', 'British, born United States', 'French, born Russia',\n",
       "       'Israeli', 'American, born Hungary', 'Czech',\n",
       "       'American, born Russia', 'Russian, born Romania', 'Australian',\n",
       "       'Japanese', 'American, born Denmark', 'French, born Germany',\n",
       "       'Russian', 'French, born Poland|American, born Lithuania',\n",
       "       'Norwegian', 'American, born Canada', 'Swedish',\n",
       "       'American|American, born England', 'German, born Switzerland',\n",
       "       'French|French|French|French', 'American, born Spain',\n",
       "       'American, born Japan', 'American|Italian', 'Swedish|Swedish',\n",
       "       'American, born Lithuania', 'American, born The Netherlands',\n",
       "       'American, born Ukraine', 'American, born France',\n",
       "       'Austrian|Austrian', 'American|American, born Lithuania',\n",
       "       'American|American', 'American|Japanese', 'Spanish|Italian',\n",
       "       'Venezuelan', 'American, born Bulgaria', 'Chilean', 'Finnish',\n",
       "       'Belgian', 'Indian', 'British, born Germany', 'Austrian|German',\n",
       "       'American, born Philippines', 'American, born China',\n",
       "       'American, born Austria', 'American, born Germany|American',\n",
       "       'Brazilian', 'Canadian', 'American, born Sweden',\n",
       "       'American|American|American', 'American, born Italy',\n",
       "       'American|French', 'Dutch', 'American, born England',\n",
       "       'Austrian|Czech|Austrian', 'Romanian', 'Danish',\n",
       "       'British, Scottish|British', 'American, born England|American',\n",
       "       'British, born Canada', 'Swiss', 'Lebanese',\n",
       "       'French, born Hungary|French', 'Uruguayan', 'Rumanian',\n",
       "       'American, born Armenia', 'American, born Panama',\n",
       "       'Italian, born Argentina', 'French, born Japan', 'Czechoslovakian',\n",
       "       'Australian, born India', 'Colombian',\n",
       "       'American, born Puerto Rico', 'American, born Cuba',\n",
       "       'Austrian|Czech', 'American, born Switzerland',\n",
       "       'Israeli, born Romania', 'American|Dutch', 'Finnish|Finnish',\n",
       "       'American|American|German', 'Austrian, born Germany',\n",
       "       'Danish|Danish', 'French|French|French', 'Irish',\n",
       "       'American, born Hungary|German', 'German|Russian',\n",
       "       'American, born Ireland',\n",
       "       'American, born Austria|American, born Austria', 'Polish',\n",
       "       'French|Dutch', 'American, born Greece', 'French|Italian',\n",
       "       'Italian|Italian', 'German|German|German', 'Dutch|Dutch',\n",
       "       'Italian|Italian|Italian', 'British|American',\n",
       "       'Italian|Italian|Italian|Italian', 'Spanish|French',\n",
       "       'Italian, born Austria', 'American|Israeli',\n",
       "       'Italian, born Austria|Italian', 'American, born Romania',\n",
       "       'Japanese|Japanese', 'Japanese|Italian|Japanese',\n",
       "       'American, born Italy|American|Italian',\n",
       "       'American, born Italy|American', 'Argentinian', 'Spanish|Spanish',\n",
       "       'Italian|Argentinian', 'American|American, born Italy',\n",
       "       'Australian|American', 'Yugoslavian', 'Czech|Czechoslovakian',\n",
       "       'British|British|British', 'Israeli, born Palestine',\n",
       "       'American|Mexico', 'American|American|American|American',\n",
       "       'American|American, born Russia|American, born Russia', 'Korean',\n",
       "       'New Zealander', 'Mexican, born United States',\n",
       "       'Austrian, born Germany|Austrian|Austrian', 'Saint Lucian',\n",
       "       'Chinese', 'British, born Austria', 'Cuban',\n",
       "       'French, born Lithuania', 'Taiwanese', 'Danish|Italian',\n",
       "       'American|German', 'Kuwaiti', 'French, born Romania',\n",
       "       'French|American', 'American, born Egypt', 'Iranian',\n",
       "       'Spanish|French|French', 'Italian|Italian, born Austria',\n",
       "       'French|American and French', 'American and French|French',\n",
       "       'French, born Switzerland|French', 'Andorran|French',\n",
       "       'American, born Norway', 'American|Swedish', 'French|German',\n",
       "       'German|French', 'American, born Luxembourg|American',\n",
       "       'American|American, born Luxembourg', 'American German',\n",
       "       'Austrian|Austrian, born Hungary', 'Peruvian', 'Italian|American',\n",
       "       'Swedish|Danish', 'American, born Belgium',\n",
       "       'American, born Finland', 'France', 'Portuguese',\n",
       "       'French|French, born Switzerland', 'Chinese|American',\n",
       "       'British, born United States|American', 'British, born France',\n",
       "       'British, born China', 'Denmark|Danish', 'Dominican',\n",
       "       'French, born Poland', 'American, born Germany|German',\n",
       "       'American|Turkish', 'American|British',\n",
       "       'American, born Austria-Hungary|American', 'American|Hungarian',\n",
       "       'French|American|American', 'Swiss|German/Swiss',\n",
       "       'French, born Switzerland|French|French|Swiss', 'Danish|Swiss',\n",
       "       'American|American, born Austria-Hungary', 'Hungarian|American',\n",
       "       'American, born Russia|American',\n",
       "       'Czech|Czech|Czechoslovakian|Czech', 'Dutch|Dutch|German',\n",
       "       'Dutch|Italian', 'South African', 'German|American, born Austria',\n",
       "       'German|Italian', 'Swedish|Italian', 'British, born Scotland',\n",
       "       'German, born Poland', 'Mexican, born England',\n",
       "       'British, Scottish|Italian', 'Italian|British, Scottish',\n",
       "       'French|Romanian|French', 'Romanian|French', 'Japanese|French',\n",
       "       'French, born Switzerland|German', 'French, born Hungary',\n",
       "       'Tajikistan', 'Swiss|Swiss', 'French, born China', 'French|Czech',\n",
       "       'Turkish', 'Austrian|Austrian|Austrian', 'Slovakian', 'Egyptian',\n",
       "       'Ghanaian', 'Kashmir', 'British, born Argentina',\n",
       "       'Swedish, born Austria', 'Danish-Icelandic', 'Ukrainian',\n",
       "       'Pakistani', 'Israeli|Italian', 'Mexican|French', 'French|Swiss',\n",
       "       'Guatemalan', 'Icelandic', 'American|American|American '],\n",
       "      dtype=object)"
      ]
     },
     "metadata": {},
     "output_type": "display_data"
    }
   ],
   "source": [
    "display(met_before_2017['Artist Nationality'].unique())\n",
    "met_before_2017['Artist Nationality'] = met_before_2017['Artist Nationality'].replace(np.nan,'no')"
   ]
  },
  {
   "cell_type": "code",
   "execution_count": 88,
   "metadata": {},
   "outputs": [],
   "source": [
    "index = met_before_2017['Artist Nationality'].index\n",
    "for x in index:\n",
    "    if met_before_2017.loc[x,'Artist Nationality'] != 'no':\n",
    "        if 'born' in met_before_2017.loc[x,'Artist Nationality']:\n",
    "            b = met_before_2017.loc[x,'Artist Nationality'].split(' ')\n",
    "            born = b[-1]\n",
    "            if '|' in born:\n",
    "                n = born.split('|')\n",
    "                met_before_2017.loc[x,'Artist Nationality'] = n[0]\n",
    "            else:\n",
    "                met_before_2017.loc[x,'Artist Nationality'] = born\n",
    "        elif '|' in met_before_2017.loc[x,'Artist Nationality']:\n",
    "            if 'born' in met_before_2017.loc[x,'Artist Nationality']:\n",
    "                n = met_before_2017.loc[x,'Artist Nationality'].split(',')\n",
    "                met_before_2017.loc[x,'Artist Nationality'] = n[0]\n",
    "            else:\n",
    "                n = met_before_2017.loc[x,'Artist Nationality'].split('|')\n",
    "                met_before_2017.loc[x,'Artist Nationality'] = n[0] \n",
    "met_before_2017['Artist Nationality'] = met_before_2017['Artist Nationality'].replace('no',np.nan)"
   ]
  },
  {
   "cell_type": "code",
   "execution_count": 40,
   "metadata": {},
   "outputs": [],
   "source": [
    "index = met_before_2017['Artist Begin Date'].index\n",
    "met_before_2017['Artist Begin Date'].astype(str)\n",
    "for x in index:\n",
    "    if met_before_2017.loc[x,'Artist Begin Date'] != np.nan:\n",
    "        if '|' in met_before_2017.loc[x,'Artist Begin Date']:\n",
    "            n = met_before_2017.loc[x,'Artist Begin Date'].split('|')\n",
    "            met_before_2017.loc[x,'Artist Begin Date'] = n[0]"
   ]
  },
  {
   "cell_type": "code",
   "execution_count": 41,
   "metadata": {},
   "outputs": [],
   "source": [
    "index = met_before_2017['Artist End Date'].index\n",
    "met_before_2017['Artist End Date'] = met_before_2017['Artist End Date'].astype(str, copy=True, errors='raise')\n",
    "for x in index:\n",
    "    if met_before_2017.loc[x,'Artist End Date'] != np.nan:\n",
    "        if '|' in met_before_2017.loc[x,'Artist End Date']:\n",
    "            n = met_before_2017.loc[x,'Artist End Date'].split('|')\n",
    "            met_before_2017.loc[x,'Artist End Date'] = n[0]"
   ]
  },
  {
   "cell_type": "markdown",
   "metadata": {},
   "source": [
    "Next we tried to clean the values in the Artist Gender column, but upon further inspection the column doesn't contain any usable information. It is a mix of | and only Female, which although it would be interesting to learn that the Met only had modern and contemporary works of art by female artists we know that this is not true. We displayed the different unique values, and the mess that is their Artist Gender column. Because of this we will not be able to do the same analysis of the Met vs the MoMA on gender like we did above for the MoMA vs the Tate."
   ]
  },
  {
   "cell_type": "code",
   "execution_count": 42,
   "metadata": {},
   "outputs": [
    {
     "data": {
      "text/plain": [
       "array([nan, '|', '|Female', '||', '||||', 'Female|', 'Female', '|||',\n",
       "       'Female|Female', '||Female', '|Female|Female', 'Female||',\n",
       "       'Female|Female|Female|Female|Female||Female|Female||||||Female|Female|Female|Female|||Female|||Female|Female|',\n",
       "       '|Female|', 'Female||Female', 'Female|Female|Female|', '||||||||',\n",
       "       '|||||||||||||||||||||||||||', 'Female|Female|', 'Female|Female||',\n",
       "       'Female|||', '|Female||', '|Female||Female', '||Female|',\n",
       "       '|Female|Female|Female', '|||Female', 'Female|Female|Female',\n",
       "       '||||||', '|Female|||', '|||||', '||||Female|', '||||||||||',\n",
       "       '||||||||||||||||', '|||||||', '|||||||||||||', '|||||||||',\n",
       "       '||||||||||||||||||||',\n",
       "       'Female|||||||||||||||||||||||||||||Female||Female||||',\n",
       "       'Female||||Female|||Female|||||||||||||||||Female|',\n",
       "       '|Female||||||||||||||Female', '|||||||Female|||||',\n",
       "       'Female||||Female|||||Female|||',\n",
       "       '||||Female||||||Female|||||Female||||Female', '||||Female',\n",
       "       '||||||||||||||||||||||||||||||', '||Female||',\n",
       "       'Female|||||||Female|Female||||Female|',\n",
       "       'Female|||Female|||Female|||Female||||', '|||||||||||||||||',\n",
       "       '||||||||||||||||||', '||Female|Female|Female|||||Female||||',\n",
       "       '||||||||||||', '|||||||||||||||',\n",
       "       '||||||||||||||||||||||||||||||||||||||', '||Female||||||',\n",
       "       '||||||||||||||||||||||||||', 'Female|||Female|', '|||||||||||',\n",
       "       '||Female|||||||||||Female|||||||', '|||||||||Female',\n",
       "       '||||||||Female||||||||', '|||||||||||||||Female||||',\n",
       "       '|||Female|', '|||||||||||||||||||',\n",
       "       '|||||||||||||||||||||||||||||', '|||||||Female|',\n",
       "       '||||||||||||||Female|||||||', '||||||||||||||',\n",
       "       '||||||||||Female', '||Female||Female||',\n",
       "       '|Female||||||||||||||||Female|||||||||||||||',\n",
       "       '|||||Female||||||||||||Female|||Female|||||||||',\n",
       "       '||||||||||||Female|||||Female||||||||||||||',\n",
       "       '|||||||||||||||||Female||||||||||||||||',\n",
       "       '|Female|||||||||||||||||||||||',\n",
       "       '||||||||||||||||||||||||||||||||||||||||||||||||||||||||||||||',\n",
       "       '|Female||||||||||||||||||||||||||Female||||Female|||||||||||||||||',\n",
       "       '||||||||||||||||Female|||||||||||||', 'Female||||||',\n",
       "       '||||||||||||||||||||||Female||||Female|Female|Female|||||||Female|||Female|||||||||||||||||||||||||||||Female',\n",
       "       'Female||||||||||||', '||||||||||||||||||||||||||||||||',\n",
       "       '|||||||||||||||||||||||||', '|||||Female|||||||',\n",
       "       '|||||||||||||||||||||||||||||||||', '|||||Female||',\n",
       "       '|||Female|||||', '|||||Female', '||||||||||||||||||||||||',\n",
       "       '|||||||Female|||||||||||||||||||||||||',\n",
       "       '|||||||||||||||||||||||||||||||||||||', '|||||Female||||Female|',\n",
       "       '||||||||Female|Female|||||||||||||||||||',\n",
       "       '|||||||||Female|||||||||||||||||||||||', '|||Female||',\n",
       "       '|||||||||||||||||||||||||||||||||||||||||||||||||',\n",
       "       '||||||||Female||||', '||||||||||||||||||||||',\n",
       "       '|||||||||||||||||||||||||||||||||||||||||||||||', 'Female||||',\n",
       "       '||||||||||||Female|||||', '|Female||||||||',\n",
       "       '||||||||||||Female||||Female||||Female|||||||||||',\n",
       "       '||Female||||', '|||||||||||||||||||||||||||||||||||',\n",
       "       '||||Female|||', 'Female||Female|Female', 'Female|Female||Female',\n",
       "       '||||||||Female|', '|Female|Female|||Female', '||||||Female',\n",
       "       '||||||||||||||||||||||||||||', '|||Female|||',\n",
       "       '||Female|Female|Female|||||||Female||',\n",
       "       '|||||||||||||||||Female|||||', '||||Female|||||||',\n",
       "       '||||||||||||||||||||||||||||||Female|||||',\n",
       "       '|||||||||||||||||||||Female||||||||||||||||||||',\n",
       "       '|||||||||||||||||||||', '||||||||||||||||||||||||||Female|',\n",
       "       '||Female|||', '||||||Female||', '|||Female||Female|',\n",
       "       '||||||||||||||Female|||||Female||',\n",
       "       '||||||||||||||||||||||||||||||||||||||||||||||||||||||||||||||||||||||||||||||',\n",
       "       '|||||||Female', '|||||||||||||||||||||||||||||||||||||||||',\n",
       "       '||||||||Female|||||||',\n",
       "       '|||Female|||Female|Female||||||Female|||||||||||||||||',\n",
       "       '||||||||||||||||||||Female|||||||||||||',\n",
       "       '|||||||||||||||||||||||||||||||||||||||', '|||||Female|',\n",
       "       '||||||||||||||Female|||||', '|||||Female||||||', '|Female|||||',\n",
       "       '||||Female|Female||||Female||||||||Female|||',\n",
       "       '|||||||||||||Female|||', '||||||Female|||||',\n",
       "       '||Female||||||Female||||||||',\n",
       "       '||||||||||||||||||||||||||||||||||||||||||||||||||',\n",
       "       '|||||||||||||||||||||||||||||||||||||||||||||||||||||||||||||||||||||',\n",
       "       '||Female||||Female|Female',\n",
       "       '|||||||||||||||Female||Female||||||||Female||||',\n",
       "       'Female||Female||Female|||||||||||||', 'Female|||||||',\n",
       "       'Female|||Female||||||||||Female|||||',\n",
       "       'Female||Female||||||Female|', '|||||Female|Female||||',\n",
       "       '||||Female||||||||', '|||||Female||||||||||||',\n",
       "       '||||||||||||||||||||||||||||||||||Female||||||||||Female',\n",
       "       '||||||||||||Female||||', '||||||||||Female||', '||||Female||',\n",
       "       '|Female||||||||Female|||||||Female|||||||||Female||||',\n",
       "       '||||Female|||||||||||',\n",
       "       '||||||||||||||||||||||||||||||Female|Female||||||||||||||||||||||||||||||||||||||||||Female||||Female|||||||||Female|Female|||||||||||||||||Female||Female||||||||||||||||||||||||||||',\n",
       "       '|Female||||',\n",
       "       '|||||Female||||||||||||||Female|||||||||||||||||||||||||',\n",
       "       '||||||||Female||||||||||||||||||||', 'Female|||||',\n",
       "       '||||||||Female|||||Female||||||||||||Female||Female|Female|||||||||||||||Female|||||||',\n",
       "       '|||Female||||||||||||||||', '|||Female|||||Female',\n",
       "       '||Female|||Female|||', '|Female|||||||||Female|',\n",
       "       '|||Female||||||Female|||||||Female||||',\n",
       "       'Female|||||Female||||||||||||||||Female|',\n",
       "       '||Female|Female||||Female|Female|||||||||Female|',\n",
       "       '||Female|Female||||||Female||Female||||',\n",
       "       '|||||||||||||||Female|||||||||||||||||||||||||||||||||||||||||||||||||||||||||||Female||||||||',\n",
       "       '|||Female||||||||', '|||||||||Female|||||',\n",
       "       '|||||||Female|||||||', '||Female|Female||',\n",
       "       '||||Female||Female||||Female|||||', '|||||||||||||||||||||||',\n",
       "       '|||||||||||Female||||||||||Female||||||',\n",
       "       '||||||||||||||||||||Female||', '||||||||||||||||||Female||',\n",
       "       '|Female|||||||||||Female||||||',\n",
       "       '||Female||Female|Female||Female|Female||||Female||Female|Female||Female||Female|||',\n",
       "       'Female||||Female||||||Female||||Female||Female|||||Female||||||Female|Female|||Female|Female',\n",
       "       '||||Female|||||', '|||Female|||||||||||Female||||||||',\n",
       "       '|||||||||||||||Female|||', '|||Female|||Female|||',\n",
       "       '||||||||||||||||||||||||||||||||||||||||||||',\n",
       "       '||||||||||||||Female|||||||||||||||||||||||', '|Female|Female||',\n",
       "       'Female||||||Female', '||||||Female|||', '||Female||||||||',\n",
       "       '||Female|||||', '||||||||||Female|||||||Female|||||||||||||',\n",
       "       '||||||||||||Female|||||||||',\n",
       "       '||||||||||||||||||Female|||||||||||||||||||||||||||||',\n",
       "       '||||||||||||||||||||||||||||||Female||||||||||||||Female|||',\n",
       "       '||||||||||||Female||||||||Female|',\n",
       "       '|Female||||Female|Female||||||',\n",
       "       '|||||||||||||Female|||||||Female||',\n",
       "       '||||||||||||Female|||Female||',\n",
       "       '|Female||Female||||Female|Female|Female|Female|Female|Female|Female|Female|',\n",
       "       '||||||||||||Female|||||||||||Female||Female|Female||||||||||||Female||',\n",
       "       '|||||||||||||||||||||||||||||||||||||||||||',\n",
       "       'Female|Female||Female|',\n",
       "       'Female||||||||||||||Female|||||||||||||||||', '||Female|||||||',\n",
       "       'Female|||Female|||Female|', '|Female||||||||||||||||||||||||||||',\n",
       "       '|Female|||||||', '|||||Female||||||||||||||',\n",
       "       '||||||||||||||||||||||||||||||||||||||||||||||||||||||||||||||||||||||||||||',\n",
       "       'Female||||Female|||Female|Female|Female|Female||||||Female||Female||Female|Female|||Female||Female|Female||Female|Female|Female||||Female||||',\n",
       "       '|||||||||Female||||||||', '|||||||||||||||||Female',\n",
       "       '||Female|||||||||', 'Female|Female|||',\n",
       "       '||||||Female|||||||||||||||||||Female|||||||||',\n",
       "       '|||||||Female|||||||||||||||',\n",
       "       '||||||||||||||||||||||||||||||||||||||||||||||||||||||||Female||||||||||||||||Female|||||||||||||||||||||||||||||||||||',\n",
       "       '||||||||||||||||||||||||||||||||||||||||||||||||||||||||||||||||Female|||||||||||||Female||||||||||||||||||||||||||||||||||||||||||||||||||||||||||',\n",
       "       '|||||||||||||||||||||||||||||||Female||||||||',\n",
       "       '|Female||Female|Female|||||',\n",
       "       '|||||||||||||||||||||||||Female||||',\n",
       "       '|||||||||||||||||||||Female||||||', 'Female|||||||||||',\n",
       "       '||||||||||||||||||||||||||||||||||||||||||||||||||||||||||||Female',\n",
       "       '|Female|||Female', 'Female||||Female', 'Female|||Female',\n",
       "       'Female||||Female|', '|Female|Female|',\n",
       "       '|||||||||||||||||Female||Female|||',\n",
       "       '||Female||||||||||||||||||||||||',\n",
       "       '|||||||||||||Female||||||||||||', 'Female||||||||||||||',\n",
       "       'Female|||||||||||||', 'Female|||||Female',\n",
       "       '||||||||||||||Female||Female|||||||', '|||||Female||||',\n",
       "       '||||||||||||||||||||Female||||||', '||Female|Female|',\n",
       "       'Female||Female|Female|Female||Female|Female||',\n",
       "       'Female|Female|Female|Female|Female|Female|Female||Female|Female|Female|Female|Female|Female|Female|Female|Female|Female||Female|Female|Female',\n",
       "       '|||Female|||||Female|', '|||||||||||Female', '|||Female|Female',\n",
       "       '|||Female|||Female||||Female||', '||||||Female|',\n",
       "       '||||Female|||Female|Female|', 'Female|||Female||Female||||',\n",
       "       '|Female|Female|Female||||||', 'Female|Female|Female|||||||',\n",
       "       '|Female||Female||||Female||', '|||Female||Female|Female',\n",
       "       '|Female|Female||Female|||Female||Female', '|Female||Female|',\n",
       "       '||Female||Female', 'Female||Female||', '||Female|Female',\n",
       "       '||||||Female||||||||||||||||||||||', '||Female||Female|||',\n",
       "       '||||||||Female||||||',\n",
       "       'Female|Female|Female|Female|Female|Female|Female',\n",
       "       '||Female|||||||Female|', '|||Female||||',\n",
       "       'Female|||||Female||||Female|', '|Female||Female|||',\n",
       "       'Female||Female|', 'Female||Female|||', '||||Female|Female',\n",
       "       '|||||||||||||||||||||||||||||||Female||||||||Female|||||||||||Female||||||||||||||||||||||||||||||||||||',\n",
       "       '|||||Female|||||||||||||||||||||||||||||||||||||||||||||||||||||||||||||||||',\n",
       "       '|||||||||||||||||||||||||||Female|||||Female|||||||||||||||||Female|||||||Female||',\n",
       "       '||||||||||Female|||||||||||||||||||||||||||||Female|||||||||',\n",
       "       '||||||||Female|||Female||'], dtype=object)"
      ]
     },
     "execution_count": 42,
     "metadata": {},
     "output_type": "execute_result"
    }
   ],
   "source": [
    "met['Artist Gender'].unique()"
   ]
  },
  {
   "cell_type": "markdown",
   "metadata": {},
   "source": [
    "## Analysis: Met vs MoMA"
   ]
  },
  {
   "cell_type": "markdown",
   "metadata": {},
   "source": [
    "Unlike the Tate the Met doesn't have a usable gender column so we won't be able to conduct quite as much analysis as we did with the Tate, but we can still compare the diversity of the two museums based on the nationality of the artists."
   ]
  },
  {
   "cell_type": "markdown",
   "metadata": {},
   "source": [
    "#### Comparing Western vs non-Western Art in each museum"
   ]
  },
  {
   "cell_type": "markdown",
   "metadata": {},
   "source": [
    "First we take out the colums where there isn't a nationality for the artist."
   ]
  },
  {
   "cell_type": "code",
   "execution_count": 43,
   "metadata": {},
   "outputs": [],
   "source": [
    "met_country_before2017 = met_before_2017[met_before_2017['Artist Nationality'] != 'no']"
   ]
  },
  {
   "cell_type": "markdown",
   "metadata": {},
   "source": [
    "Then we examine the different nationalities and compire the ones that are Western nationalities into a list."
   ]
  },
  {
   "cell_type": "code",
   "execution_count": 44,
   "metadata": {},
   "outputs": [
    {
     "data": {
      "text/plain": [
       "array(['American', 'Spanish', 'German', 'French', 'British', 'Austrian',\n",
       "       'Hungarian', 'American ', 'British, Scottish', 'Mexican',\n",
       "       'Italian', 'Israeli', 'Czech', 'Russian', 'Australian', 'Japanese',\n",
       "       'Norwegian', 'Swedish', 'Venezuelan', 'Chilean', 'Finnish',\n",
       "       'Belgian', 'Indian', 'Brazilian', 'Canadian', 'Dutch', 'Romanian',\n",
       "       'Danish', 'Swiss', 'Lebanese', 'Uruguayan', 'Rumanian',\n",
       "       'Czechoslovakian', 'Colombian', 'Irish', 'Polish', 'Argentinian',\n",
       "       'Yugoslavian', 'Korean', 'New Zealander', 'Saint Lucian',\n",
       "       'Chinese', 'Cuban', 'Taiwanese', 'Kuwaiti', 'Iranian',\n",
       "       'American and French', 'Andorran', 'American German', 'Peruvian',\n",
       "       'France', 'Portuguese', 'Denmark', 'Dominican', 'South African',\n",
       "       'Tajikistan', 'Turkish', 'Slovakian', 'Egyptian', 'Ghanaian',\n",
       "       'Kashmir', 'Danish-Icelandic', 'Ukrainian', 'Pakistani',\n",
       "       'Guatemalan', 'Icelandic'], dtype=object)"
      ]
     },
     "execution_count": 44,
     "metadata": {},
     "output_type": "execute_result"
    }
   ],
   "source": [
    "met_country_before2017['Artist Nationality'].unique()"
   ]
  },
  {
   "cell_type": "markdown",
   "metadata": {},
   "source": [
    "With this list we can filter and create a new column like we did before for the Tate and the MoMA to determine if the artist is European or not."
   ]
  },
  {
   "cell_type": "code",
   "execution_count": 46,
   "metadata": {},
   "outputs": [],
   "source": [
    "countries_met = ['American', 'Spanish', 'German', 'French', 'British', 'Austrian',\n",
    "       'Hungarian', 'American ', 'British, Scottish','Italian','Czech','Norwegian', 'Swedish','Finnish',\n",
    "       'Belgian','Canadian', 'Dutch', 'Romanian','Danish', 'Swiss','Rumanian',\n",
    "       'Czechoslovakian', 'Irish', 'Polish','Yugoslavian','American and French','American German',\n",
    "                 'France', 'Portuguese', 'Denmark','Slovakian','Danish-Icelandic','Icelandic']\n",
    "non_european = []\n",
    "met_country_before2017['European'] = ['False'] * len(met_country_before2017['Artist Nationality'])\n",
    "index = met_country_before2017['Artist Nationality'].index\n",
    "\n",
    "for x in index:\n",
    "    if met_country_before2017.loc[x, 'Artist Nationality'] in countries_met:\n",
    "        met_country_before2017.loc[x,'European?'] = 'True'\n",
    "    elif met_country_before2017.loc[x, 'Artist Nationality'] == np.nan:\n",
    "        met_country_before2017.loc[x,'European?'] = 'True' \n",
    "    else:\n",
    "        if met_country_before2017.loc[x, 'Artist Nationality'] in non_european:\n",
    "            met_country_before2017.loc[x,'European?'] = 'False'\n",
    "        else:\n",
    "            non_european.append(met_country_before2017.loc[x, 'Artist Nationality'])\n",
    "            met_country_before2017.loc[x,'European?'] = 'False'"
   ]
  },
  {
   "cell_type": "markdown",
   "metadata": {},
   "source": [
    "Next we can create a visualization comparing the MoMA to the Met like we did for the Tate"
   ]
  },
  {
   "cell_type": "code",
   "execution_count": 47,
   "metadata": {},
   "outputs": [],
   "source": [
    "# get the counts of works by Western and non-Western artists in MoMA before 2013\n",
    "moma_European = names_dates_moma['European?'].value_counts()"
   ]
  },
  {
   "cell_type": "code",
   "execution_count": 48,
   "metadata": {},
   "outputs": [],
   "source": [
    "# get the counts of works by Western and non-Western artists in the Met\n",
    "met_European = met_country_before2017['European?'].value_counts()"
   ]
  },
  {
   "cell_type": "code",
   "execution_count": 49,
   "metadata": {},
   "outputs": [
    {
     "data": {
      "image/png": "[encoded data removed]",
      "text/plain": [
       "<Figure size 864x864 with 2 Axes>"
      ]
     },
     "metadata": {},
     "output_type": "display_data"
    }
   ],
   "source": [
    "# create and format pie charts\n",
    "fig, (ax1, ax2) = plot.subplots(1, 2)\n",
    "moma_European.plot.pie(ax=ax1,  autopct='%.2f')\n",
    "ax1.set_title(\"MoMA Western vs Non Western\")\n",
    "\n",
    "met_European.plot.pie(ax=ax2, autopct='%.2f')\n",
    "ax2.set_title(\"Met Western vs Non Western\")\n",
    "\n",
    "fig.subplots_adjust(wspace=.5)\n",
    "fig.set_figheight(12)\n",
    "fig.set_figwidth(12)"
   ]
  },
  {
   "cell_type": "markdown",
   "metadata": {},
   "source": [
    "<strong> Conclusion: </strong> This comparison shows that the MoMA, even before its renovation, was ahead of the Met with regard to artists of modern and contemporary art who were not of European or Western descent."
   ]
  },
  {
   "cell_type": "markdown",
   "metadata": {},
   "source": [
    "### Proportion of American vs Non American Works for the MoMA and the Met"
   ]
  },
  {
   "cell_type": "markdown",
   "metadata": {},
   "source": [
    "One final comparison that we can look at is how the proportion of American vs Non-American differs between the MoMA and the Met as two large American museums."
   ]
  },
  {
   "cell_type": "code",
   "execution_count": 52,
   "metadata": {},
   "outputs": [],
   "source": [
    "#Create new columns that assigns a true or false value to show if the work is by an American or not\n",
    "names_dates_moma = names_dates_moma.assign(American=np.where(names_dates_moma['Nationality']==\"American\", True, False))\n",
    "met_country_before2017 = met_country_before2017.assign(American=np.where(met_country_before2017['Artist Nationality']==\"American\", True, False))\n",
    "\n",
    "#Calculate the mean of the number of American and the Non-American artists for the MoMA\n",
    "american_moma = (names_dates_moma['American'] == True)\n",
    "american_moma_num = american_moma.mean()\n",
    "nonamerican_moma = (names_dates_moma['American'] == False)\n",
    "nonamerican_moma_num = nonamerican_moma.mean()\n",
    "\n",
    "#Calculate the mean of the number of American and the Non-American artists for the Met\n",
    "america_met_before_2017 = (met_country_before2017['American'] == True)\n",
    "american_met_before_2017 = america_met_before_2017.mean()\n",
    "nonamerica_met_before_2017 = (met_country_before2017['American'] == False)\n",
    "nonamerican_met_before_2017 = nonamerica_met_before_2017.mean()"
   ]
  },
  {
   "cell_type": "code",
   "execution_count": 53,
   "metadata": {
    "scrolled": true
   },
   "outputs": [
    {
     "data": {
      "text/plain": [
       "<matplotlib.axes._subplots.AxesSubplot at 0x7f00dbe3de50>"
      ]
     },
     "execution_count": 53,
     "metadata": {},
     "output_type": "execute_result"
    },
    {
     "data": {
      "image/png": "[encoded data removed]",
      "text/plain": [
       "<Figure size 432x288 with 1 Axes>"
      ]
     },
     "metadata": {
      "needs_background": "light"
     },
     "output_type": "display_data"
    },
    {
     "data": {
      "image/png": "[encoded data removed]",
      "text/plain": [
       "<Figure size 432x288 with 1 Axes>"
      ]
     },
     "metadata": {
      "needs_background": "light"
     },
     "output_type": "display_data"
    }
   ],
   "source": [
    "# Graph MoMA data!\n",
    "plotdata_moma = pd.DataFrame(\n",
    "    {\"% of artworks\": [american_moma_num,nonamerican_moma_num]}, \n",
    "    index=['Proportion of American Artists in the MoMA','Proportion of Non-American Artists in the MoMA'])\n",
    "plotdata_moma.plot(kind=\"barh\", title = \"Examining National Biases MoMA\")\n",
    "\n",
    "# Graph Met data!\n",
    "plotdata_tate = pd.DataFrame(\n",
    "    {\"% of artworks\": [american_met_before_2017,nonamerican_met_before_2017]}, \n",
    "    index=['Proportion of American Artists in the Met','Proportion of Non-American Artists in the Met' ])\n",
    "plotdata_tate.plot(kind=\"barh\", title = \"Examining National Biases in the Met\")"
   ]
  },
  {
   "cell_type": "markdown",
   "metadata": {},
   "source": [
    "<strong>Conclusion</strong>: The MoMA out preforms the Met in diversity by having a larger number of Non-American works to American works. This shows that the MoMA as a museum places more emphasis on acquiring and retaining works from outside of America and more representational of the world as a whole. Through this, when compared to the Met, the MoMA is keeping their goal of diversifying the canon."
   ]
  },
  {
   "cell_type": "markdown",
   "metadata": {},
   "source": [
    "# Final Conclusion"
   ]
  },
  {
   "cell_type": "markdown",
   "metadata": {},
   "source": [
    "After analyzing many different components of the MoMA museum overtime and in comparisons to other museums we have concluded that the MoMA has met their goals by answering the four questions that we laid out at the top. \n",
    "\n",
    "The MoMA does have a larger number of male artists than female artists, but over the past couple years, and when ..."
   ]
  },
  {
   "cell_type": "code",
   "execution_count": null,
   "metadata": {},
   "outputs": [],
   "source": []
  }
 ],
 "metadata": {
  "kernelspec": {
   "display_name": "Python 3",
   "language": "python",
   "name": "python3"
  },
  "language_info": {
   "codemirror_mode": {
    "name": "ipython",
    "version": 3
   },
   "file_extension": ".py",
   "mimetype": "text/x-python",
   "name": "python",
   "nbconvert_exporter": "python",
   "pygments_lexer": "ipython3",
   "version": "3.8.5"
  }
 },
 "nbformat": 4,
 "nbformat_minor": 4
}
